{
 "cells": [
  {
   "cell_type": "markdown",
   "metadata": {},
   "source": [
    "# Clustering Crypto"
   ]
  },
  {
   "cell_type": "code",
   "execution_count": 46,
   "metadata": {},
   "outputs": [],
   "source": [
    "# Initial imports\n",
    "import pandas as pd\n",
    "import hvplot.pandas\n",
    "from path import Path\n",
    "import plotly.express as px\n",
    "from sklearn.preprocessing import StandardScaler, MinMaxScaler\n",
    "from sklearn.decomposition import PCA\n",
    "from sklearn.cluster import KMeans\n"
   ]
  },
  {
   "cell_type": "markdown",
   "metadata": {},
   "source": [
    "### Deliverable 1: Preprocessing the Data for PCA"
   ]
  },
  {
   "cell_type": "code",
   "execution_count": 47,
   "metadata": {},
   "outputs": [
    {
     "data": {
      "text/html": [
       "<div>\n",
       "<style scoped>\n",
       "    .dataframe tbody tr th:only-of-type {\n",
       "        vertical-align: middle;\n",
       "    }\n",
       "\n",
       "    .dataframe tbody tr th {\n",
       "        vertical-align: top;\n",
       "    }\n",
       "\n",
       "    .dataframe thead th {\n",
       "        text-align: right;\n",
       "    }\n",
       "</style>\n",
       "<table border=\"1\" class=\"dataframe\">\n",
       "  <thead>\n",
       "    <tr style=\"text-align: right;\">\n",
       "      <th></th>\n",
       "      <th>División</th>\n",
       "      <th>clase</th>\n",
       "      <th>orden</th>\n",
       "      <th>familia</th>\n",
       "      <th>Hierba</th>\n",
       "      <th>Color</th>\n",
       "      <th>longitud</th>\n",
       "      <th>latitud</th>\n",
       "      <th>tipovegetacionmapa</th>\n",
       "      <th>altitudmapa</th>\n",
       "    </tr>\n",
       "  </thead>\n",
       "  <tbody>\n",
       "    <tr>\n",
       "      <th>0</th>\n",
       "      <td>Magnoliophyta</td>\n",
       "      <td>Liliopsida</td>\n",
       "      <td>Alismatales</td>\n",
       "      <td>Alismataceae</td>\n",
       "      <td>Hierba</td>\n",
       "      <td>Blanca</td>\n",
       "      <td>-110.433889</td>\n",
       "      <td>27.783333</td>\n",
       "      <td>Vegetacion Halofila</td>\n",
       "      <td>9</td>\n",
       "    </tr>\n",
       "    <tr>\n",
       "      <th>1</th>\n",
       "      <td>Magnoliophyta</td>\n",
       "      <td>Liliopsida</td>\n",
       "      <td>Alismatales</td>\n",
       "      <td>Alismataceae</td>\n",
       "      <td>Hierba</td>\n",
       "      <td>Blanca</td>\n",
       "      <td>-110.996667</td>\n",
       "      <td>28.111667</td>\n",
       "      <td>Matorral Sarcocaule</td>\n",
       "      <td>79</td>\n",
       "    </tr>\n",
       "    <tr>\n",
       "      <th>2</th>\n",
       "      <td>Magnoliophyta</td>\n",
       "      <td>Liliopsida</td>\n",
       "      <td>Alismatales</td>\n",
       "      <td>Alismataceae</td>\n",
       "      <td>Hierba</td>\n",
       "      <td>Blanca</td>\n",
       "      <td>-99.325000</td>\n",
       "      <td>24.441667</td>\n",
       "      <td>Matorral Submontano</td>\n",
       "      <td>271</td>\n",
       "    </tr>\n",
       "    <tr>\n",
       "      <th>3</th>\n",
       "      <td>Magnoliophyta</td>\n",
       "      <td>Liliopsida</td>\n",
       "      <td>Alismatales</td>\n",
       "      <td>Alismataceae</td>\n",
       "      <td>Hierba</td>\n",
       "      <td>Blanca</td>\n",
       "      <td>-99.325000</td>\n",
       "      <td>24.441667</td>\n",
       "      <td>Matorral Submontano</td>\n",
       "      <td>271</td>\n",
       "    </tr>\n",
       "    <tr>\n",
       "      <th>4</th>\n",
       "      <td>Magnoliophyta</td>\n",
       "      <td>Liliopsida</td>\n",
       "      <td>Alismatales</td>\n",
       "      <td>Alismataceae</td>\n",
       "      <td>Hierba</td>\n",
       "      <td>Blanca</td>\n",
       "      <td>-106.000000</td>\n",
       "      <td>28.500000</td>\n",
       "      <td>Pastizal Natural</td>\n",
       "      <td>1572</td>\n",
       "    </tr>\n",
       "    <tr>\n",
       "      <th>...</th>\n",
       "      <td>...</td>\n",
       "      <td>...</td>\n",
       "      <td>...</td>\n",
       "      <td>...</td>\n",
       "      <td>...</td>\n",
       "      <td>...</td>\n",
       "      <td>...</td>\n",
       "      <td>...</td>\n",
       "      <td>...</td>\n",
       "      <td>...</td>\n",
       "    </tr>\n",
       "    <tr>\n",
       "      <th>1186</th>\n",
       "      <td>Magnoliophyta</td>\n",
       "      <td>Magnoliopsida</td>\n",
       "      <td>Sapindales</td>\n",
       "      <td>Simaroubaceae</td>\n",
       "      <td>Hierba</td>\n",
       "      <td>Naranja</td>\n",
       "      <td>-100.850000</td>\n",
       "      <td>23.950000</td>\n",
       "      <td>Vegetacion Halofila</td>\n",
       "      <td>1741</td>\n",
       "    </tr>\n",
       "    <tr>\n",
       "      <th>1187</th>\n",
       "      <td>Magnoliophyta</td>\n",
       "      <td>Magnoliopsida</td>\n",
       "      <td>Sapindales</td>\n",
       "      <td>Simaroubaceae</td>\n",
       "      <td>Hierba</td>\n",
       "      <td>Naranja</td>\n",
       "      <td>-100.983333</td>\n",
       "      <td>23.466667</td>\n",
       "      <td>Matorral Desertico Microfilo</td>\n",
       "      <td>1913</td>\n",
       "    </tr>\n",
       "    <tr>\n",
       "      <th>1188</th>\n",
       "      <td>Magnoliophyta</td>\n",
       "      <td>Magnoliopsida</td>\n",
       "      <td>Violales</td>\n",
       "      <td>Bixaceae</td>\n",
       "      <td>Hierba</td>\n",
       "      <td>Naranja</td>\n",
       "      <td>-110.808610</td>\n",
       "      <td>30.470280</td>\n",
       "      <td>Pastizal Natural</td>\n",
       "      <td>1049</td>\n",
       "    </tr>\n",
       "    <tr>\n",
       "      <th>1189</th>\n",
       "      <td>Magnoliophyta</td>\n",
       "      <td>Magnoliopsida</td>\n",
       "      <td>Violales</td>\n",
       "      <td>Bixaceae</td>\n",
       "      <td>Hierba</td>\n",
       "      <td>Naranja</td>\n",
       "      <td>-105.830000</td>\n",
       "      <td>28.580000</td>\n",
       "      <td>Pastizal Natural</td>\n",
       "      <td>1649</td>\n",
       "    </tr>\n",
       "    <tr>\n",
       "      <th>1190</th>\n",
       "      <td>Magnoliophyta</td>\n",
       "      <td>Magnoliopsida</td>\n",
       "      <td>Violales</td>\n",
       "      <td>Bixaceae</td>\n",
       "      <td>Hierba</td>\n",
       "      <td>Naranja</td>\n",
       "      <td>-104.470000</td>\n",
       "      <td>24.900000</td>\n",
       "      <td>Matorral Desertico Microfilo</td>\n",
       "      <td>1589</td>\n",
       "    </tr>\n",
       "  </tbody>\n",
       "</table>\n",
       "<p>1191 rows × 10 columns</p>\n",
       "</div>"
      ],
      "text/plain": [
       "           División          clase        orden        familia   Hierba  \\\n",
       "0     Magnoliophyta     Liliopsida  Alismatales   Alismataceae  Hierba    \n",
       "1     Magnoliophyta     Liliopsida  Alismatales   Alismataceae  Hierba    \n",
       "2     Magnoliophyta     Liliopsida  Alismatales   Alismataceae  Hierba    \n",
       "3     Magnoliophyta     Liliopsida  Alismatales   Alismataceae  Hierba    \n",
       "4     Magnoliophyta     Liliopsida  Alismatales   Alismataceae  Hierba    \n",
       "...             ...            ...          ...            ...      ...   \n",
       "1186  Magnoliophyta  Magnoliopsida   Sapindales  Simaroubaceae   Hierba   \n",
       "1187  Magnoliophyta  Magnoliopsida   Sapindales  Simaroubaceae   Hierba   \n",
       "1188  Magnoliophyta  Magnoliopsida     Violales       Bixaceae   Hierba   \n",
       "1189  Magnoliophyta  Magnoliopsida     Violales       Bixaceae   Hierba   \n",
       "1190  Magnoliophyta  Magnoliopsida     Violales       Bixaceae   Hierba   \n",
       "\n",
       "        Color    longitud    latitud            tipovegetacionmapa  \\\n",
       "0      Blanca -110.433889  27.783333           Vegetacion Halofila   \n",
       "1      Blanca -110.996667  28.111667           Matorral Sarcocaule   \n",
       "2      Blanca  -99.325000  24.441667           Matorral Submontano   \n",
       "3      Blanca  -99.325000  24.441667           Matorral Submontano   \n",
       "4      Blanca -106.000000  28.500000              Pastizal Natural   \n",
       "...       ...         ...        ...                           ...   \n",
       "1186  Naranja -100.850000  23.950000           Vegetacion Halofila   \n",
       "1187  Naranja -100.983333  23.466667  Matorral Desertico Microfilo   \n",
       "1188  Naranja -110.808610  30.470280              Pastizal Natural   \n",
       "1189  Naranja -105.830000  28.580000              Pastizal Natural   \n",
       "1190  Naranja -104.470000  24.900000  Matorral Desertico Microfilo   \n",
       "\n",
       "      altitudmapa  \n",
       "0               9  \n",
       "1              79  \n",
       "2             271  \n",
       "3             271  \n",
       "4            1572  \n",
       "...           ...  \n",
       "1186         1741  \n",
       "1187         1913  \n",
       "1188         1049  \n",
       "1189         1649  \n",
       "1190         1589  \n",
       "\n",
       "[1191 rows x 10 columns]"
      ]
     },
     "execution_count": 47,
     "metadata": {},
     "output_type": "execute_result"
    }
   ],
   "source": [
    "# Load the crypto_data.csv dataset.\n",
    "# YOUR CODE HERE\n",
    "#file_path = \"Resources/crypto_data.csv\"\n",
    "file_path = \"Resources/Plant_DBcopy.csv\"\n",
    "plants_df = pd.read_csv(file_path, encoding='latin-1')\n",
    "plants_df"
   ]
  },
  {
   "cell_type": "code",
   "execution_count": 48,
   "metadata": {},
   "outputs": [
    {
     "data": {
      "text/html": [
       "<div>\n",
       "<style scoped>\n",
       "    .dataframe tbody tr th:only-of-type {\n",
       "        vertical-align: middle;\n",
       "    }\n",
       "\n",
       "    .dataframe tbody tr th {\n",
       "        vertical-align: top;\n",
       "    }\n",
       "\n",
       "    .dataframe thead th {\n",
       "        text-align: right;\n",
       "    }\n",
       "</style>\n",
       "<table border=\"1\" class=\"dataframe\">\n",
       "  <thead>\n",
       "    <tr style=\"text-align: right;\">\n",
       "      <th></th>\n",
       "      <th>clase</th>\n",
       "    </tr>\n",
       "  </thead>\n",
       "  <tbody>\n",
       "    <tr>\n",
       "      <th>0</th>\n",
       "      <td>Liliopsida</td>\n",
       "    </tr>\n",
       "    <tr>\n",
       "      <th>1</th>\n",
       "      <td>Liliopsida</td>\n",
       "    </tr>\n",
       "    <tr>\n",
       "      <th>2</th>\n",
       "      <td>Liliopsida</td>\n",
       "    </tr>\n",
       "    <tr>\n",
       "      <th>3</th>\n",
       "      <td>Liliopsida</td>\n",
       "    </tr>\n",
       "    <tr>\n",
       "      <th>4</th>\n",
       "      <td>Liliopsida</td>\n",
       "    </tr>\n",
       "  </tbody>\n",
       "</table>\n",
       "</div>"
      ],
      "text/plain": [
       "        clase\n",
       "0  Liliopsida\n",
       "1  Liliopsida\n",
       "2  Liliopsida\n",
       "3  Liliopsida\n",
       "4  Liliopsida"
      ]
     },
     "execution_count": 48,
     "metadata": {},
     "output_type": "execute_result"
    }
   ],
   "source": [
    "# Create a new DataFrame that holds only the cryptocurrencies names.\n",
    "# YOUR CODE HERE\n",
    "plants_df_name = plants_df.filter(['clase'], axis=1)\n",
    "plants_df_name.head()"
   ]
  },
  {
   "cell_type": "code",
   "execution_count": 49,
   "metadata": {},
   "outputs": [
    {
     "data": {
      "text/html": [
       "<div>\n",
       "<style scoped>\n",
       "    .dataframe tbody tr th:only-of-type {\n",
       "        vertical-align: middle;\n",
       "    }\n",
       "\n",
       "    .dataframe tbody tr th {\n",
       "        vertical-align: top;\n",
       "    }\n",
       "\n",
       "    .dataframe thead th {\n",
       "        text-align: right;\n",
       "    }\n",
       "</style>\n",
       "<table border=\"1\" class=\"dataframe\">\n",
       "  <thead>\n",
       "    <tr style=\"text-align: right;\">\n",
       "      <th></th>\n",
       "      <th>División</th>\n",
       "      <th>clase</th>\n",
       "      <th>orden</th>\n",
       "      <th>familia</th>\n",
       "      <th>Hierba</th>\n",
       "      <th>Color</th>\n",
       "      <th>longitud</th>\n",
       "      <th>latitud</th>\n",
       "      <th>tipovegetacionmapa</th>\n",
       "      <th>altitudmapa</th>\n",
       "    </tr>\n",
       "  </thead>\n",
       "  <tbody>\n",
       "    <tr>\n",
       "      <th>0</th>\n",
       "      <td>Magnoliophyta</td>\n",
       "      <td>Liliopsida</td>\n",
       "      <td>Alismatales</td>\n",
       "      <td>Alismataceae</td>\n",
       "      <td>Hierba</td>\n",
       "      <td>Blanca</td>\n",
       "      <td>-110.433889</td>\n",
       "      <td>27.783333</td>\n",
       "      <td>Vegetacion Halofila</td>\n",
       "      <td>9</td>\n",
       "    </tr>\n",
       "    <tr>\n",
       "      <th>1</th>\n",
       "      <td>Magnoliophyta</td>\n",
       "      <td>Liliopsida</td>\n",
       "      <td>Alismatales</td>\n",
       "      <td>Alismataceae</td>\n",
       "      <td>Hierba</td>\n",
       "      <td>Blanca</td>\n",
       "      <td>-110.996667</td>\n",
       "      <td>28.111667</td>\n",
       "      <td>Matorral Sarcocaule</td>\n",
       "      <td>79</td>\n",
       "    </tr>\n",
       "    <tr>\n",
       "      <th>2</th>\n",
       "      <td>Magnoliophyta</td>\n",
       "      <td>Liliopsida</td>\n",
       "      <td>Alismatales</td>\n",
       "      <td>Alismataceae</td>\n",
       "      <td>Hierba</td>\n",
       "      <td>Blanca</td>\n",
       "      <td>-99.325000</td>\n",
       "      <td>24.441667</td>\n",
       "      <td>Matorral Submontano</td>\n",
       "      <td>271</td>\n",
       "    </tr>\n",
       "    <tr>\n",
       "      <th>3</th>\n",
       "      <td>Magnoliophyta</td>\n",
       "      <td>Liliopsida</td>\n",
       "      <td>Alismatales</td>\n",
       "      <td>Alismataceae</td>\n",
       "      <td>Hierba</td>\n",
       "      <td>Blanca</td>\n",
       "      <td>-99.325000</td>\n",
       "      <td>24.441667</td>\n",
       "      <td>Matorral Submontano</td>\n",
       "      <td>271</td>\n",
       "    </tr>\n",
       "    <tr>\n",
       "      <th>4</th>\n",
       "      <td>Magnoliophyta</td>\n",
       "      <td>Liliopsida</td>\n",
       "      <td>Alismatales</td>\n",
       "      <td>Alismataceae</td>\n",
       "      <td>Hierba</td>\n",
       "      <td>Blanca</td>\n",
       "      <td>-106.000000</td>\n",
       "      <td>28.500000</td>\n",
       "      <td>Pastizal Natural</td>\n",
       "      <td>1572</td>\n",
       "    </tr>\n",
       "    <tr>\n",
       "      <th>...</th>\n",
       "      <td>...</td>\n",
       "      <td>...</td>\n",
       "      <td>...</td>\n",
       "      <td>...</td>\n",
       "      <td>...</td>\n",
       "      <td>...</td>\n",
       "      <td>...</td>\n",
       "      <td>...</td>\n",
       "      <td>...</td>\n",
       "      <td>...</td>\n",
       "    </tr>\n",
       "    <tr>\n",
       "      <th>1186</th>\n",
       "      <td>Magnoliophyta</td>\n",
       "      <td>Magnoliopsida</td>\n",
       "      <td>Sapindales</td>\n",
       "      <td>Simaroubaceae</td>\n",
       "      <td>Hierba</td>\n",
       "      <td>Naranja</td>\n",
       "      <td>-100.850000</td>\n",
       "      <td>23.950000</td>\n",
       "      <td>Vegetacion Halofila</td>\n",
       "      <td>1741</td>\n",
       "    </tr>\n",
       "    <tr>\n",
       "      <th>1187</th>\n",
       "      <td>Magnoliophyta</td>\n",
       "      <td>Magnoliopsida</td>\n",
       "      <td>Sapindales</td>\n",
       "      <td>Simaroubaceae</td>\n",
       "      <td>Hierba</td>\n",
       "      <td>Naranja</td>\n",
       "      <td>-100.983333</td>\n",
       "      <td>23.466667</td>\n",
       "      <td>Matorral Desertico Microfilo</td>\n",
       "      <td>1913</td>\n",
       "    </tr>\n",
       "    <tr>\n",
       "      <th>1188</th>\n",
       "      <td>Magnoliophyta</td>\n",
       "      <td>Magnoliopsida</td>\n",
       "      <td>Violales</td>\n",
       "      <td>Bixaceae</td>\n",
       "      <td>Hierba</td>\n",
       "      <td>Naranja</td>\n",
       "      <td>-110.808610</td>\n",
       "      <td>30.470280</td>\n",
       "      <td>Pastizal Natural</td>\n",
       "      <td>1049</td>\n",
       "    </tr>\n",
       "    <tr>\n",
       "      <th>1189</th>\n",
       "      <td>Magnoliophyta</td>\n",
       "      <td>Magnoliopsida</td>\n",
       "      <td>Violales</td>\n",
       "      <td>Bixaceae</td>\n",
       "      <td>Hierba</td>\n",
       "      <td>Naranja</td>\n",
       "      <td>-105.830000</td>\n",
       "      <td>28.580000</td>\n",
       "      <td>Pastizal Natural</td>\n",
       "      <td>1649</td>\n",
       "    </tr>\n",
       "    <tr>\n",
       "      <th>1190</th>\n",
       "      <td>Magnoliophyta</td>\n",
       "      <td>Magnoliopsida</td>\n",
       "      <td>Violales</td>\n",
       "      <td>Bixaceae</td>\n",
       "      <td>Hierba</td>\n",
       "      <td>Naranja</td>\n",
       "      <td>-104.470000</td>\n",
       "      <td>24.900000</td>\n",
       "      <td>Matorral Desertico Microfilo</td>\n",
       "      <td>1589</td>\n",
       "    </tr>\n",
       "  </tbody>\n",
       "</table>\n",
       "<p>1191 rows × 10 columns</p>\n",
       "</div>"
      ],
      "text/plain": [
       "           División          clase        orden        familia   Hierba  \\\n",
       "0     Magnoliophyta     Liliopsida  Alismatales   Alismataceae  Hierba    \n",
       "1     Magnoliophyta     Liliopsida  Alismatales   Alismataceae  Hierba    \n",
       "2     Magnoliophyta     Liliopsida  Alismatales   Alismataceae  Hierba    \n",
       "3     Magnoliophyta     Liliopsida  Alismatales   Alismataceae  Hierba    \n",
       "4     Magnoliophyta     Liliopsida  Alismatales   Alismataceae  Hierba    \n",
       "...             ...            ...          ...            ...      ...   \n",
       "1186  Magnoliophyta  Magnoliopsida   Sapindales  Simaroubaceae   Hierba   \n",
       "1187  Magnoliophyta  Magnoliopsida   Sapindales  Simaroubaceae   Hierba   \n",
       "1188  Magnoliophyta  Magnoliopsida     Violales       Bixaceae   Hierba   \n",
       "1189  Magnoliophyta  Magnoliopsida     Violales       Bixaceae   Hierba   \n",
       "1190  Magnoliophyta  Magnoliopsida     Violales       Bixaceae   Hierba   \n",
       "\n",
       "        Color    longitud    latitud            tipovegetacionmapa  \\\n",
       "0      Blanca -110.433889  27.783333           Vegetacion Halofila   \n",
       "1      Blanca -110.996667  28.111667           Matorral Sarcocaule   \n",
       "2      Blanca  -99.325000  24.441667           Matorral Submontano   \n",
       "3      Blanca  -99.325000  24.441667           Matorral Submontano   \n",
       "4      Blanca -106.000000  28.500000              Pastizal Natural   \n",
       "...       ...         ...        ...                           ...   \n",
       "1186  Naranja -100.850000  23.950000           Vegetacion Halofila   \n",
       "1187  Naranja -100.983333  23.466667  Matorral Desertico Microfilo   \n",
       "1188  Naranja -110.808610  30.470280              Pastizal Natural   \n",
       "1189  Naranja -105.830000  28.580000              Pastizal Natural   \n",
       "1190  Naranja -104.470000  24.900000  Matorral Desertico Microfilo   \n",
       "\n",
       "      altitudmapa  \n",
       "0               9  \n",
       "1              79  \n",
       "2             271  \n",
       "3             271  \n",
       "4            1572  \n",
       "...           ...  \n",
       "1186         1741  \n",
       "1187         1913  \n",
       "1188         1049  \n",
       "1189         1649  \n",
       "1190         1589  \n",
       "\n",
       "[1191 rows x 10 columns]"
      ]
     },
     "execution_count": 49,
     "metadata": {},
     "output_type": "execute_result"
    }
   ],
   "source": [
    "plants_df"
   ]
  },
  {
   "cell_type": "code",
   "execution_count": 50,
   "metadata": {},
   "outputs": [
    {
     "data": {
      "text/html": [
       "<div>\n",
       "<style scoped>\n",
       "    .dataframe tbody tr th:only-of-type {\n",
       "        vertical-align: middle;\n",
       "    }\n",
       "\n",
       "    .dataframe tbody tr th {\n",
       "        vertical-align: top;\n",
       "    }\n",
       "\n",
       "    .dataframe thead th {\n",
       "        text-align: right;\n",
       "    }\n",
       "</style>\n",
       "<table border=\"1\" class=\"dataframe\">\n",
       "  <thead>\n",
       "    <tr style=\"text-align: right;\">\n",
       "      <th></th>\n",
       "      <th>División</th>\n",
       "      <th>clase</th>\n",
       "      <th>orden</th>\n",
       "      <th>familia</th>\n",
       "      <th>Hierba</th>\n",
       "      <th>Color</th>\n",
       "      <th>longitud</th>\n",
       "      <th>latitud</th>\n",
       "      <th>tipovegetacionmapa</th>\n",
       "      <th>altitudmapa</th>\n",
       "    </tr>\n",
       "  </thead>\n",
       "  <tbody>\n",
       "    <tr>\n",
       "      <th>0</th>\n",
       "      <td>Magnoliophyta</td>\n",
       "      <td>Liliopsida</td>\n",
       "      <td>Alismatales</td>\n",
       "      <td>Alismataceae</td>\n",
       "      <td>Hierba</td>\n",
       "      <td>Blanca</td>\n",
       "      <td>-110.433889</td>\n",
       "      <td>27.783333</td>\n",
       "      <td>Vegetacion Halofila</td>\n",
       "      <td>9</td>\n",
       "    </tr>\n",
       "    <tr>\n",
       "      <th>1</th>\n",
       "      <td>Magnoliophyta</td>\n",
       "      <td>Liliopsida</td>\n",
       "      <td>Alismatales</td>\n",
       "      <td>Alismataceae</td>\n",
       "      <td>Hierba</td>\n",
       "      <td>Blanca</td>\n",
       "      <td>-110.996667</td>\n",
       "      <td>28.111667</td>\n",
       "      <td>Matorral Sarcocaule</td>\n",
       "      <td>79</td>\n",
       "    </tr>\n",
       "    <tr>\n",
       "      <th>2</th>\n",
       "      <td>Magnoliophyta</td>\n",
       "      <td>Liliopsida</td>\n",
       "      <td>Alismatales</td>\n",
       "      <td>Alismataceae</td>\n",
       "      <td>Hierba</td>\n",
       "      <td>Blanca</td>\n",
       "      <td>-99.325000</td>\n",
       "      <td>24.441667</td>\n",
       "      <td>Matorral Submontano</td>\n",
       "      <td>271</td>\n",
       "    </tr>\n",
       "    <tr>\n",
       "      <th>3</th>\n",
       "      <td>Magnoliophyta</td>\n",
       "      <td>Liliopsida</td>\n",
       "      <td>Alismatales</td>\n",
       "      <td>Alismataceae</td>\n",
       "      <td>Hierba</td>\n",
       "      <td>Blanca</td>\n",
       "      <td>-99.325000</td>\n",
       "      <td>24.441667</td>\n",
       "      <td>Matorral Submontano</td>\n",
       "      <td>271</td>\n",
       "    </tr>\n",
       "    <tr>\n",
       "      <th>4</th>\n",
       "      <td>Magnoliophyta</td>\n",
       "      <td>Liliopsida</td>\n",
       "      <td>Alismatales</td>\n",
       "      <td>Alismataceae</td>\n",
       "      <td>Hierba</td>\n",
       "      <td>Blanca</td>\n",
       "      <td>-106.000000</td>\n",
       "      <td>28.500000</td>\n",
       "      <td>Pastizal Natural</td>\n",
       "      <td>1572</td>\n",
       "    </tr>\n",
       "    <tr>\n",
       "      <th>...</th>\n",
       "      <td>...</td>\n",
       "      <td>...</td>\n",
       "      <td>...</td>\n",
       "      <td>...</td>\n",
       "      <td>...</td>\n",
       "      <td>...</td>\n",
       "      <td>...</td>\n",
       "      <td>...</td>\n",
       "      <td>...</td>\n",
       "      <td>...</td>\n",
       "    </tr>\n",
       "    <tr>\n",
       "      <th>1186</th>\n",
       "      <td>Magnoliophyta</td>\n",
       "      <td>Magnoliopsida</td>\n",
       "      <td>Sapindales</td>\n",
       "      <td>Simaroubaceae</td>\n",
       "      <td>Hierba</td>\n",
       "      <td>Naranja</td>\n",
       "      <td>-100.850000</td>\n",
       "      <td>23.950000</td>\n",
       "      <td>Vegetacion Halofila</td>\n",
       "      <td>1741</td>\n",
       "    </tr>\n",
       "    <tr>\n",
       "      <th>1187</th>\n",
       "      <td>Magnoliophyta</td>\n",
       "      <td>Magnoliopsida</td>\n",
       "      <td>Sapindales</td>\n",
       "      <td>Simaroubaceae</td>\n",
       "      <td>Hierba</td>\n",
       "      <td>Naranja</td>\n",
       "      <td>-100.983333</td>\n",
       "      <td>23.466667</td>\n",
       "      <td>Matorral Desertico Microfilo</td>\n",
       "      <td>1913</td>\n",
       "    </tr>\n",
       "    <tr>\n",
       "      <th>1188</th>\n",
       "      <td>Magnoliophyta</td>\n",
       "      <td>Magnoliopsida</td>\n",
       "      <td>Violales</td>\n",
       "      <td>Bixaceae</td>\n",
       "      <td>Hierba</td>\n",
       "      <td>Naranja</td>\n",
       "      <td>-110.808610</td>\n",
       "      <td>30.470280</td>\n",
       "      <td>Pastizal Natural</td>\n",
       "      <td>1049</td>\n",
       "    </tr>\n",
       "    <tr>\n",
       "      <th>1189</th>\n",
       "      <td>Magnoliophyta</td>\n",
       "      <td>Magnoliopsida</td>\n",
       "      <td>Violales</td>\n",
       "      <td>Bixaceae</td>\n",
       "      <td>Hierba</td>\n",
       "      <td>Naranja</td>\n",
       "      <td>-105.830000</td>\n",
       "      <td>28.580000</td>\n",
       "      <td>Pastizal Natural</td>\n",
       "      <td>1649</td>\n",
       "    </tr>\n",
       "    <tr>\n",
       "      <th>1190</th>\n",
       "      <td>Magnoliophyta</td>\n",
       "      <td>Magnoliopsida</td>\n",
       "      <td>Violales</td>\n",
       "      <td>Bixaceae</td>\n",
       "      <td>Hierba</td>\n",
       "      <td>Naranja</td>\n",
       "      <td>-104.470000</td>\n",
       "      <td>24.900000</td>\n",
       "      <td>Matorral Desertico Microfilo</td>\n",
       "      <td>1589</td>\n",
       "    </tr>\n",
       "  </tbody>\n",
       "</table>\n",
       "<p>1190 rows × 10 columns</p>\n",
       "</div>"
      ],
      "text/plain": [
       "           División          clase        orden        familia   Hierba  \\\n",
       "0     Magnoliophyta     Liliopsida  Alismatales   Alismataceae  Hierba    \n",
       "1     Magnoliophyta     Liliopsida  Alismatales   Alismataceae  Hierba    \n",
       "2     Magnoliophyta     Liliopsida  Alismatales   Alismataceae  Hierba    \n",
       "3     Magnoliophyta     Liliopsida  Alismatales   Alismataceae  Hierba    \n",
       "4     Magnoliophyta     Liliopsida  Alismatales   Alismataceae  Hierba    \n",
       "...             ...            ...          ...            ...      ...   \n",
       "1186  Magnoliophyta  Magnoliopsida   Sapindales  Simaroubaceae   Hierba   \n",
       "1187  Magnoliophyta  Magnoliopsida   Sapindales  Simaroubaceae   Hierba   \n",
       "1188  Magnoliophyta  Magnoliopsida     Violales       Bixaceae   Hierba   \n",
       "1189  Magnoliophyta  Magnoliopsida     Violales       Bixaceae   Hierba   \n",
       "1190  Magnoliophyta  Magnoliopsida     Violales       Bixaceae   Hierba   \n",
       "\n",
       "        Color    longitud    latitud            tipovegetacionmapa  \\\n",
       "0      Blanca -110.433889  27.783333           Vegetacion Halofila   \n",
       "1      Blanca -110.996667  28.111667           Matorral Sarcocaule   \n",
       "2      Blanca  -99.325000  24.441667           Matorral Submontano   \n",
       "3      Blanca  -99.325000  24.441667           Matorral Submontano   \n",
       "4      Blanca -106.000000  28.500000              Pastizal Natural   \n",
       "...       ...         ...        ...                           ...   \n",
       "1186  Naranja -100.850000  23.950000           Vegetacion Halofila   \n",
       "1187  Naranja -100.983333  23.466667  Matorral Desertico Microfilo   \n",
       "1188  Naranja -110.808610  30.470280              Pastizal Natural   \n",
       "1189  Naranja -105.830000  28.580000              Pastizal Natural   \n",
       "1190  Naranja -104.470000  24.900000  Matorral Desertico Microfilo   \n",
       "\n",
       "      altitudmapa  \n",
       "0               9  \n",
       "1              79  \n",
       "2             271  \n",
       "3             271  \n",
       "4            1572  \n",
       "...           ...  \n",
       "1186         1741  \n",
       "1187         1913  \n",
       "1188         1049  \n",
       "1189         1649  \n",
       "1190         1589  \n",
       "\n",
       "[1190 rows x 10 columns]"
      ]
     },
     "execution_count": 50,
     "metadata": {},
     "output_type": "execute_result"
    }
   ],
   "source": [
    "# Remove rows that have at least 1 null value.\n",
    "# YOUR CODE HERE\n",
    "plants_df = plants_df.dropna(how='any',axis=0) \n",
    "plants_df"
   ]
  },
  {
   "cell_type": "code",
   "execution_count": 51,
   "metadata": {},
   "outputs": [
    {
     "name": "stderr",
     "output_type": "stream",
     "text": [
      "/Users/marioacosta/opt/anaconda3/envs/PythonData/lib/python3.9/site-packages/pandas/core/frame.py:4906: SettingWithCopyWarning: \n",
      "A value is trying to be set on a copy of a slice from a DataFrame\n",
      "\n",
      "See the caveats in the documentation: https://pandas.pydata.org/pandas-docs/stable/user_guide/indexing.html#returning-a-view-versus-a-copy\n",
      "  return super().drop(\n"
     ]
    },
    {
     "data": {
      "text/html": [
       "<div>\n",
       "<style scoped>\n",
       "    .dataframe tbody tr th:only-of-type {\n",
       "        vertical-align: middle;\n",
       "    }\n",
       "\n",
       "    .dataframe tbody tr th {\n",
       "        vertical-align: top;\n",
       "    }\n",
       "\n",
       "    .dataframe thead th {\n",
       "        text-align: right;\n",
       "    }\n",
       "</style>\n",
       "<table border=\"1\" class=\"dataframe\">\n",
       "  <thead>\n",
       "    <tr style=\"text-align: right;\">\n",
       "      <th></th>\n",
       "      <th>División</th>\n",
       "      <th>clase</th>\n",
       "      <th>orden</th>\n",
       "      <th>familia</th>\n",
       "      <th>Hierba</th>\n",
       "      <th>Color</th>\n",
       "      <th>longitud</th>\n",
       "      <th>latitud</th>\n",
       "      <th>tipovegetacionmapa</th>\n",
       "      <th>altitudmapa</th>\n",
       "    </tr>\n",
       "  </thead>\n",
       "  <tbody>\n",
       "    <tr>\n",
       "      <th>0</th>\n",
       "      <td>Magnoliophyta</td>\n",
       "      <td>Liliopsida</td>\n",
       "      <td>Alismatales</td>\n",
       "      <td>Alismataceae</td>\n",
       "      <td>Hierba</td>\n",
       "      <td>Blanca</td>\n",
       "      <td>-110.433889</td>\n",
       "      <td>27.783333</td>\n",
       "      <td>Vegetacion Halofila</td>\n",
       "      <td>9</td>\n",
       "    </tr>\n",
       "    <tr>\n",
       "      <th>1</th>\n",
       "      <td>Magnoliophyta</td>\n",
       "      <td>Liliopsida</td>\n",
       "      <td>Alismatales</td>\n",
       "      <td>Alismataceae</td>\n",
       "      <td>Hierba</td>\n",
       "      <td>Blanca</td>\n",
       "      <td>-110.996667</td>\n",
       "      <td>28.111667</td>\n",
       "      <td>Matorral Sarcocaule</td>\n",
       "      <td>79</td>\n",
       "    </tr>\n",
       "    <tr>\n",
       "      <th>2</th>\n",
       "      <td>Magnoliophyta</td>\n",
       "      <td>Liliopsida</td>\n",
       "      <td>Alismatales</td>\n",
       "      <td>Alismataceae</td>\n",
       "      <td>Hierba</td>\n",
       "      <td>Blanca</td>\n",
       "      <td>-99.325000</td>\n",
       "      <td>24.441667</td>\n",
       "      <td>Matorral Submontano</td>\n",
       "      <td>271</td>\n",
       "    </tr>\n",
       "    <tr>\n",
       "      <th>3</th>\n",
       "      <td>Magnoliophyta</td>\n",
       "      <td>Liliopsida</td>\n",
       "      <td>Alismatales</td>\n",
       "      <td>Alismataceae</td>\n",
       "      <td>Hierba</td>\n",
       "      <td>Blanca</td>\n",
       "      <td>-99.325000</td>\n",
       "      <td>24.441667</td>\n",
       "      <td>Matorral Submontano</td>\n",
       "      <td>271</td>\n",
       "    </tr>\n",
       "    <tr>\n",
       "      <th>4</th>\n",
       "      <td>Magnoliophyta</td>\n",
       "      <td>Liliopsida</td>\n",
       "      <td>Alismatales</td>\n",
       "      <td>Alismataceae</td>\n",
       "      <td>Hierba</td>\n",
       "      <td>Blanca</td>\n",
       "      <td>-106.000000</td>\n",
       "      <td>28.500000</td>\n",
       "      <td>Pastizal Natural</td>\n",
       "      <td>1572</td>\n",
       "    </tr>\n",
       "  </tbody>\n",
       "</table>\n",
       "</div>"
      ],
      "text/plain": [
       "        División       clase        orden       familia   Hierba   Color  \\\n",
       "0  Magnoliophyta  Liliopsida  Alismatales  Alismataceae  Hierba   Blanca   \n",
       "1  Magnoliophyta  Liliopsida  Alismatales  Alismataceae  Hierba   Blanca   \n",
       "2  Magnoliophyta  Liliopsida  Alismatales  Alismataceae  Hierba   Blanca   \n",
       "3  Magnoliophyta  Liliopsida  Alismatales  Alismataceae  Hierba   Blanca   \n",
       "4  Magnoliophyta  Liliopsida  Alismatales  Alismataceae  Hierba   Blanca   \n",
       "\n",
       "     longitud    latitud   tipovegetacionmapa  altitudmapa  \n",
       "0 -110.433889  27.783333  Vegetacion Halofila            9  \n",
       "1 -110.996667  28.111667  Matorral Sarcocaule           79  \n",
       "2  -99.325000  24.441667  Matorral Submontano          271  \n",
       "3  -99.325000  24.441667  Matorral Submontano          271  \n",
       "4 -106.000000  28.500000     Pastizal Natural         1572  "
      ]
     },
     "execution_count": 51,
     "metadata": {},
     "output_type": "execute_result"
    }
   ],
   "source": [
    "# Remove the \"altitudmapa\" column. \n",
    "# YOUR CODE HERE\n",
    "# Keep all the cryptocurrencies that are being traded.\n",
    "indexNames = plants_df[(plants_df[\"altitudmapa\"] == 'False')].index\n",
    "plants_df.drop(indexNames, inplace = True)\n",
    "plants_df.head()"
   ]
  },
  {
   "cell_type": "code",
   "execution_count": 52,
   "metadata": {},
   "outputs": [
    {
     "data": {
      "text/html": [
       "<div>\n",
       "<style scoped>\n",
       "    .dataframe tbody tr th:only-of-type {\n",
       "        vertical-align: middle;\n",
       "    }\n",
       "\n",
       "    .dataframe tbody tr th {\n",
       "        vertical-align: top;\n",
       "    }\n",
       "\n",
       "    .dataframe thead th {\n",
       "        text-align: right;\n",
       "    }\n",
       "</style>\n",
       "<table border=\"1\" class=\"dataframe\">\n",
       "  <thead>\n",
       "    <tr style=\"text-align: right;\">\n",
       "      <th></th>\n",
       "      <th>longitud</th>\n",
       "      <th>latitud</th>\n",
       "      <th>altitudmapa</th>\n",
       "      <th>División_Magnoliophyta</th>\n",
       "      <th>División_Pteridophyta</th>\n",
       "      <th>clase_Liliopsida</th>\n",
       "      <th>clase_Lycopodiopsida</th>\n",
       "      <th>clase_Magnoliopsida</th>\n",
       "      <th>orden_Alismatales</th>\n",
       "      <th>orden_Apiales</th>\n",
       "      <th>...</th>\n",
       "      <th>tipovegetacionmapa_No aplica</th>\n",
       "      <th>tipovegetacionmapa_Pastizal  Gipsofilo</th>\n",
       "      <th>tipovegetacionmapa_Pastizal  Halofilo</th>\n",
       "      <th>tipovegetacionmapa_Pastizal Natural</th>\n",
       "      <th>tipovegetacionmapa_Selva Baja Caducifolia</th>\n",
       "      <th>tipovegetacionmapa_Selva Baja Espinosa</th>\n",
       "      <th>tipovegetacionmapa_Vegetacion Halofila</th>\n",
       "      <th>tipovegetacionmapa_Vegetacion de Desiertos Arenosos</th>\n",
       "      <th>tipovegetacionmapa_Vegetacion de Dunas Costeras</th>\n",
       "      <th>tipovegetacionmapa_Vegetacion de Galeria</th>\n",
       "    </tr>\n",
       "  </thead>\n",
       "  <tbody>\n",
       "    <tr>\n",
       "      <th>0</th>\n",
       "      <td>-110.433889</td>\n",
       "      <td>27.783333</td>\n",
       "      <td>9</td>\n",
       "      <td>1</td>\n",
       "      <td>0</td>\n",
       "      <td>1</td>\n",
       "      <td>0</td>\n",
       "      <td>0</td>\n",
       "      <td>1</td>\n",
       "      <td>0</td>\n",
       "      <td>...</td>\n",
       "      <td>0</td>\n",
       "      <td>0</td>\n",
       "      <td>0</td>\n",
       "      <td>0</td>\n",
       "      <td>0</td>\n",
       "      <td>0</td>\n",
       "      <td>1</td>\n",
       "      <td>0</td>\n",
       "      <td>0</td>\n",
       "      <td>0</td>\n",
       "    </tr>\n",
       "    <tr>\n",
       "      <th>1</th>\n",
       "      <td>-110.996667</td>\n",
       "      <td>28.111667</td>\n",
       "      <td>79</td>\n",
       "      <td>1</td>\n",
       "      <td>0</td>\n",
       "      <td>1</td>\n",
       "      <td>0</td>\n",
       "      <td>0</td>\n",
       "      <td>1</td>\n",
       "      <td>0</td>\n",
       "      <td>...</td>\n",
       "      <td>0</td>\n",
       "      <td>0</td>\n",
       "      <td>0</td>\n",
       "      <td>0</td>\n",
       "      <td>0</td>\n",
       "      <td>0</td>\n",
       "      <td>0</td>\n",
       "      <td>0</td>\n",
       "      <td>0</td>\n",
       "      <td>0</td>\n",
       "    </tr>\n",
       "    <tr>\n",
       "      <th>2</th>\n",
       "      <td>-99.325000</td>\n",
       "      <td>24.441667</td>\n",
       "      <td>271</td>\n",
       "      <td>1</td>\n",
       "      <td>0</td>\n",
       "      <td>1</td>\n",
       "      <td>0</td>\n",
       "      <td>0</td>\n",
       "      <td>1</td>\n",
       "      <td>0</td>\n",
       "      <td>...</td>\n",
       "      <td>0</td>\n",
       "      <td>0</td>\n",
       "      <td>0</td>\n",
       "      <td>0</td>\n",
       "      <td>0</td>\n",
       "      <td>0</td>\n",
       "      <td>0</td>\n",
       "      <td>0</td>\n",
       "      <td>0</td>\n",
       "      <td>0</td>\n",
       "    </tr>\n",
       "    <tr>\n",
       "      <th>3</th>\n",
       "      <td>-99.325000</td>\n",
       "      <td>24.441667</td>\n",
       "      <td>271</td>\n",
       "      <td>1</td>\n",
       "      <td>0</td>\n",
       "      <td>1</td>\n",
       "      <td>0</td>\n",
       "      <td>0</td>\n",
       "      <td>1</td>\n",
       "      <td>0</td>\n",
       "      <td>...</td>\n",
       "      <td>0</td>\n",
       "      <td>0</td>\n",
       "      <td>0</td>\n",
       "      <td>0</td>\n",
       "      <td>0</td>\n",
       "      <td>0</td>\n",
       "      <td>0</td>\n",
       "      <td>0</td>\n",
       "      <td>0</td>\n",
       "      <td>0</td>\n",
       "    </tr>\n",
       "    <tr>\n",
       "      <th>4</th>\n",
       "      <td>-106.000000</td>\n",
       "      <td>28.500000</td>\n",
       "      <td>1572</td>\n",
       "      <td>1</td>\n",
       "      <td>0</td>\n",
       "      <td>1</td>\n",
       "      <td>0</td>\n",
       "      <td>0</td>\n",
       "      <td>1</td>\n",
       "      <td>0</td>\n",
       "      <td>...</td>\n",
       "      <td>0</td>\n",
       "      <td>0</td>\n",
       "      <td>0</td>\n",
       "      <td>1</td>\n",
       "      <td>0</td>\n",
       "      <td>0</td>\n",
       "      <td>0</td>\n",
       "      <td>0</td>\n",
       "      <td>0</td>\n",
       "      <td>0</td>\n",
       "    </tr>\n",
       "    <tr>\n",
       "      <th>...</th>\n",
       "      <td>...</td>\n",
       "      <td>...</td>\n",
       "      <td>...</td>\n",
       "      <td>...</td>\n",
       "      <td>...</td>\n",
       "      <td>...</td>\n",
       "      <td>...</td>\n",
       "      <td>...</td>\n",
       "      <td>...</td>\n",
       "      <td>...</td>\n",
       "      <td>...</td>\n",
       "      <td>...</td>\n",
       "      <td>...</td>\n",
       "      <td>...</td>\n",
       "      <td>...</td>\n",
       "      <td>...</td>\n",
       "      <td>...</td>\n",
       "      <td>...</td>\n",
       "      <td>...</td>\n",
       "      <td>...</td>\n",
       "      <td>...</td>\n",
       "    </tr>\n",
       "    <tr>\n",
       "      <th>1186</th>\n",
       "      <td>-100.850000</td>\n",
       "      <td>23.950000</td>\n",
       "      <td>1741</td>\n",
       "      <td>1</td>\n",
       "      <td>0</td>\n",
       "      <td>0</td>\n",
       "      <td>0</td>\n",
       "      <td>1</td>\n",
       "      <td>0</td>\n",
       "      <td>0</td>\n",
       "      <td>...</td>\n",
       "      <td>0</td>\n",
       "      <td>0</td>\n",
       "      <td>0</td>\n",
       "      <td>0</td>\n",
       "      <td>0</td>\n",
       "      <td>0</td>\n",
       "      <td>1</td>\n",
       "      <td>0</td>\n",
       "      <td>0</td>\n",
       "      <td>0</td>\n",
       "    </tr>\n",
       "    <tr>\n",
       "      <th>1187</th>\n",
       "      <td>-100.983333</td>\n",
       "      <td>23.466667</td>\n",
       "      <td>1913</td>\n",
       "      <td>1</td>\n",
       "      <td>0</td>\n",
       "      <td>0</td>\n",
       "      <td>0</td>\n",
       "      <td>1</td>\n",
       "      <td>0</td>\n",
       "      <td>0</td>\n",
       "      <td>...</td>\n",
       "      <td>0</td>\n",
       "      <td>0</td>\n",
       "      <td>0</td>\n",
       "      <td>0</td>\n",
       "      <td>0</td>\n",
       "      <td>0</td>\n",
       "      <td>0</td>\n",
       "      <td>0</td>\n",
       "      <td>0</td>\n",
       "      <td>0</td>\n",
       "    </tr>\n",
       "    <tr>\n",
       "      <th>1188</th>\n",
       "      <td>-110.808610</td>\n",
       "      <td>30.470280</td>\n",
       "      <td>1049</td>\n",
       "      <td>1</td>\n",
       "      <td>0</td>\n",
       "      <td>0</td>\n",
       "      <td>0</td>\n",
       "      <td>1</td>\n",
       "      <td>0</td>\n",
       "      <td>0</td>\n",
       "      <td>...</td>\n",
       "      <td>0</td>\n",
       "      <td>0</td>\n",
       "      <td>0</td>\n",
       "      <td>1</td>\n",
       "      <td>0</td>\n",
       "      <td>0</td>\n",
       "      <td>0</td>\n",
       "      <td>0</td>\n",
       "      <td>0</td>\n",
       "      <td>0</td>\n",
       "    </tr>\n",
       "    <tr>\n",
       "      <th>1189</th>\n",
       "      <td>-105.830000</td>\n",
       "      <td>28.580000</td>\n",
       "      <td>1649</td>\n",
       "      <td>1</td>\n",
       "      <td>0</td>\n",
       "      <td>0</td>\n",
       "      <td>0</td>\n",
       "      <td>1</td>\n",
       "      <td>0</td>\n",
       "      <td>0</td>\n",
       "      <td>...</td>\n",
       "      <td>0</td>\n",
       "      <td>0</td>\n",
       "      <td>0</td>\n",
       "      <td>1</td>\n",
       "      <td>0</td>\n",
       "      <td>0</td>\n",
       "      <td>0</td>\n",
       "      <td>0</td>\n",
       "      <td>0</td>\n",
       "      <td>0</td>\n",
       "    </tr>\n",
       "    <tr>\n",
       "      <th>1190</th>\n",
       "      <td>-104.470000</td>\n",
       "      <td>24.900000</td>\n",
       "      <td>1589</td>\n",
       "      <td>1</td>\n",
       "      <td>0</td>\n",
       "      <td>0</td>\n",
       "      <td>0</td>\n",
       "      <td>1</td>\n",
       "      <td>0</td>\n",
       "      <td>0</td>\n",
       "      <td>...</td>\n",
       "      <td>0</td>\n",
       "      <td>0</td>\n",
       "      <td>0</td>\n",
       "      <td>0</td>\n",
       "      <td>0</td>\n",
       "      <td>0</td>\n",
       "      <td>0</td>\n",
       "      <td>0</td>\n",
       "      <td>0</td>\n",
       "      <td>0</td>\n",
       "    </tr>\n",
       "  </tbody>\n",
       "</table>\n",
       "<p>1190 rows × 235 columns</p>\n",
       "</div>"
      ],
      "text/plain": [
       "        longitud    latitud  altitudmapa  División_Magnoliophyta  \\\n",
       "0    -110.433889  27.783333            9                       1   \n",
       "1    -110.996667  28.111667           79                       1   \n",
       "2     -99.325000  24.441667          271                       1   \n",
       "3     -99.325000  24.441667          271                       1   \n",
       "4    -106.000000  28.500000         1572                       1   \n",
       "...          ...        ...          ...                     ...   \n",
       "1186 -100.850000  23.950000         1741                       1   \n",
       "1187 -100.983333  23.466667         1913                       1   \n",
       "1188 -110.808610  30.470280         1049                       1   \n",
       "1189 -105.830000  28.580000         1649                       1   \n",
       "1190 -104.470000  24.900000         1589                       1   \n",
       "\n",
       "      División_Pteridophyta  clase_Liliopsida  clase_Lycopodiopsida  \\\n",
       "0                         0                 1                     0   \n",
       "1                         0                 1                     0   \n",
       "2                         0                 1                     0   \n",
       "3                         0                 1                     0   \n",
       "4                         0                 1                     0   \n",
       "...                     ...               ...                   ...   \n",
       "1186                      0                 0                     0   \n",
       "1187                      0                 0                     0   \n",
       "1188                      0                 0                     0   \n",
       "1189                      0                 0                     0   \n",
       "1190                      0                 0                     0   \n",
       "\n",
       "      clase_Magnoliopsida  orden_Alismatales  orden_Apiales  ...  \\\n",
       "0                       0                  1              0  ...   \n",
       "1                       0                  1              0  ...   \n",
       "2                       0                  1              0  ...   \n",
       "3                       0                  1              0  ...   \n",
       "4                       0                  1              0  ...   \n",
       "...                   ...                ...            ...  ...   \n",
       "1186                    1                  0              0  ...   \n",
       "1187                    1                  0              0  ...   \n",
       "1188                    1                  0              0  ...   \n",
       "1189                    1                  0              0  ...   \n",
       "1190                    1                  0              0  ...   \n",
       "\n",
       "      tipovegetacionmapa_No aplica  tipovegetacionmapa_Pastizal  Gipsofilo  \\\n",
       "0                                0                                       0   \n",
       "1                                0                                       0   \n",
       "2                                0                                       0   \n",
       "3                                0                                       0   \n",
       "4                                0                                       0   \n",
       "...                            ...                                     ...   \n",
       "1186                             0                                       0   \n",
       "1187                             0                                       0   \n",
       "1188                             0                                       0   \n",
       "1189                             0                                       0   \n",
       "1190                             0                                       0   \n",
       "\n",
       "      tipovegetacionmapa_Pastizal  Halofilo  \\\n",
       "0                                         0   \n",
       "1                                         0   \n",
       "2                                         0   \n",
       "3                                         0   \n",
       "4                                         0   \n",
       "...                                     ...   \n",
       "1186                                      0   \n",
       "1187                                      0   \n",
       "1188                                      0   \n",
       "1189                                      0   \n",
       "1190                                      0   \n",
       "\n",
       "      tipovegetacionmapa_Pastizal Natural  \\\n",
       "0                                       0   \n",
       "1                                       0   \n",
       "2                                       0   \n",
       "3                                       0   \n",
       "4                                       1   \n",
       "...                                   ...   \n",
       "1186                                    0   \n",
       "1187                                    0   \n",
       "1188                                    1   \n",
       "1189                                    1   \n",
       "1190                                    0   \n",
       "\n",
       "      tipovegetacionmapa_Selva Baja Caducifolia  \\\n",
       "0                                             0   \n",
       "1                                             0   \n",
       "2                                             0   \n",
       "3                                             0   \n",
       "4                                             0   \n",
       "...                                         ...   \n",
       "1186                                          0   \n",
       "1187                                          0   \n",
       "1188                                          0   \n",
       "1189                                          0   \n",
       "1190                                          0   \n",
       "\n",
       "      tipovegetacionmapa_Selva Baja Espinosa  \\\n",
       "0                                          0   \n",
       "1                                          0   \n",
       "2                                          0   \n",
       "3                                          0   \n",
       "4                                          0   \n",
       "...                                      ...   \n",
       "1186                                       0   \n",
       "1187                                       0   \n",
       "1188                                       0   \n",
       "1189                                       0   \n",
       "1190                                       0   \n",
       "\n",
       "      tipovegetacionmapa_Vegetacion Halofila  \\\n",
       "0                                          1   \n",
       "1                                          0   \n",
       "2                                          0   \n",
       "3                                          0   \n",
       "4                                          0   \n",
       "...                                      ...   \n",
       "1186                                       1   \n",
       "1187                                       0   \n",
       "1188                                       0   \n",
       "1189                                       0   \n",
       "1190                                       0   \n",
       "\n",
       "      tipovegetacionmapa_Vegetacion de Desiertos Arenosos  \\\n",
       "0                                                     0     \n",
       "1                                                     0     \n",
       "2                                                     0     \n",
       "3                                                     0     \n",
       "4                                                     0     \n",
       "...                                                 ...     \n",
       "1186                                                  0     \n",
       "1187                                                  0     \n",
       "1188                                                  0     \n",
       "1189                                                  0     \n",
       "1190                                                  0     \n",
       "\n",
       "      tipovegetacionmapa_Vegetacion de Dunas Costeras  \\\n",
       "0                                                   0   \n",
       "1                                                   0   \n",
       "2                                                   0   \n",
       "3                                                   0   \n",
       "4                                                   0   \n",
       "...                                               ...   \n",
       "1186                                                0   \n",
       "1187                                                0   \n",
       "1188                                                0   \n",
       "1189                                                0   \n",
       "1190                                                0   \n",
       "\n",
       "      tipovegetacionmapa_Vegetacion de Galeria  \n",
       "0                                            0  \n",
       "1                                            0  \n",
       "2                                            0  \n",
       "3                                            0  \n",
       "4                                            0  \n",
       "...                                        ...  \n",
       "1186                                         0  \n",
       "1187                                         0  \n",
       "1188                                         0  \n",
       "1189                                         0  \n",
       "1190                                         0  \n",
       "\n",
       "[1190 rows x 235 columns]"
      ]
     },
     "execution_count": 52,
     "metadata": {},
     "output_type": "execute_result"
    }
   ],
   "source": [
    "# Use get_dummies() to create variables for text features.\n",
    "# YOUR CODE HERE\n",
    "X = pd.get_dummies(plants_df, columns=[\"División\", \"clase\", \"orden\", \"familia\", \"Hierba\", \"Color\", \"tipovegetacionmapa\"])\n",
    "X"
   ]
  },
  {
   "cell_type": "code",
   "execution_count": 53,
   "metadata": {},
   "outputs": [
    {
     "name": "stdout",
     "output_type": "stream",
     "text": [
      "[[-7.27356560e-01  4.48520622e-01 -1.45766167e+00 ... -8.72963943e-02\n",
      "  -2.90007395e-02 -5.80747904e-02]\n",
      " [-8.16259356e-01  5.37623783e-01 -1.35609572e+00 ... -8.72963943e-02\n",
      "  -2.90007395e-02 -5.80747904e-02]\n",
      " [ 1.02752955e+00 -4.58339476e-01 -1.07751481e+00 ... -8.72963943e-02\n",
      "  -2.90007395e-02 -5.80747904e-02]\n",
      " ...\n",
      " [-7.86551740e-01  1.17770332e+00  5.13182414e-02 ... -8.72963943e-02\n",
      "  -2.90007395e-02 -5.80747904e-02]\n",
      " [-7.40339998e-05  6.64719822e-01  9.21883576e-01 ... -8.72963943e-02\n",
      "  -2.90007395e-02 -5.80747904e-02]\n",
      " [ 2.14766992e-01 -3.33957234e-01  8.34827042e-01 ... -8.72963943e-02\n",
      "  -2.90007395e-02 -5.80747904e-02]]\n"
     ]
    }
   ],
   "source": [
    "# Standardize the data with StandardScaler().\n",
    "# YOUR CODE HERE\n",
    "X_scaled = StandardScaler().fit_transform(X)\n",
    "print(X_scaled)"
   ]
  },
  {
   "cell_type": "markdown",
   "metadata": {},
   "source": [
    "### Deliverable 2: Reducing Data Dimensions Using PCA"
   ]
  },
  {
   "cell_type": "code",
   "execution_count": 54,
   "metadata": {},
   "outputs": [
    {
     "data": {
      "text/plain": [
       "array([[-1.99845875,  2.71483988,  6.03660289],\n",
       "       [-2.04905392,  2.44197629,  6.08118779],\n",
       "       [-1.10361994,  3.67202725,  5.17780469],\n",
       "       ...,\n",
       "       [-1.82151335, -0.17585975, -0.62298358],\n",
       "       [-1.57119023,  0.32634136, -1.02059343],\n",
       "       [-1.45718922,  0.69699208, -0.97103136]])"
      ]
     },
     "execution_count": 54,
     "metadata": {},
     "output_type": "execute_result"
    }
   ],
   "source": [
    "# Using PCA to reduce dimension to three principal components.\n",
    "# YOUR CODE HERE\n",
    "pca = PCA(n_components=3)\n",
    "X_pca = pca.fit_transform(X_scaled)\n",
    "X_pca\n",
    "\n",
    "### Check why we are using three principal components ###"
   ]
  },
  {
   "cell_type": "code",
   "execution_count": 56,
   "metadata": {},
   "outputs": [
    {
     "data": {
      "text/html": [
       "<div>\n",
       "<style scoped>\n",
       "    .dataframe tbody tr th:only-of-type {\n",
       "        vertical-align: middle;\n",
       "    }\n",
       "\n",
       "    .dataframe tbody tr th {\n",
       "        vertical-align: top;\n",
       "    }\n",
       "\n",
       "    .dataframe thead th {\n",
       "        text-align: right;\n",
       "    }\n",
       "</style>\n",
       "<table border=\"1\" class=\"dataframe\">\n",
       "  <thead>\n",
       "    <tr style=\"text-align: right;\">\n",
       "      <th></th>\n",
       "      <th>PC 1</th>\n",
       "      <th>PC 2</th>\n",
       "      <th>PC 3</th>\n",
       "    </tr>\n",
       "  </thead>\n",
       "  <tbody>\n",
       "    <tr>\n",
       "      <th>0</th>\n",
       "      <td>-1.998459</td>\n",
       "      <td>2.714840</td>\n",
       "      <td>6.036603</td>\n",
       "    </tr>\n",
       "    <tr>\n",
       "      <th>1</th>\n",
       "      <td>-2.049054</td>\n",
       "      <td>2.441976</td>\n",
       "      <td>6.081188</td>\n",
       "    </tr>\n",
       "    <tr>\n",
       "      <th>2</th>\n",
       "      <td>-1.103620</td>\n",
       "      <td>3.672027</td>\n",
       "      <td>5.177805</td>\n",
       "    </tr>\n",
       "    <tr>\n",
       "      <th>3</th>\n",
       "      <td>-1.103620</td>\n",
       "      <td>3.672027</td>\n",
       "      <td>5.177805</td>\n",
       "    </tr>\n",
       "    <tr>\n",
       "      <th>4</th>\n",
       "      <td>-1.448418</td>\n",
       "      <td>3.375977</td>\n",
       "      <td>5.384828</td>\n",
       "    </tr>\n",
       "    <tr>\n",
       "      <th>5</th>\n",
       "      <td>-1.448418</td>\n",
       "      <td>3.375977</td>\n",
       "      <td>5.384828</td>\n",
       "    </tr>\n",
       "    <tr>\n",
       "      <th>6</th>\n",
       "      <td>-1.870810</td>\n",
       "      <td>2.563258</td>\n",
       "      <td>5.979034</td>\n",
       "    </tr>\n",
       "    <tr>\n",
       "      <th>7</th>\n",
       "      <td>-1.870810</td>\n",
       "      <td>2.563258</td>\n",
       "      <td>5.979034</td>\n",
       "    </tr>\n",
       "    <tr>\n",
       "      <th>8</th>\n",
       "      <td>-1.116638</td>\n",
       "      <td>3.627852</td>\n",
       "      <td>5.216504</td>\n",
       "    </tr>\n",
       "    <tr>\n",
       "      <th>9</th>\n",
       "      <td>-1.403851</td>\n",
       "      <td>3.520126</td>\n",
       "      <td>5.308773</td>\n",
       "    </tr>\n",
       "  </tbody>\n",
       "</table>\n",
       "</div>"
      ],
      "text/plain": [
       "       PC 1      PC 2      PC 3\n",
       "0 -1.998459  2.714840  6.036603\n",
       "1 -2.049054  2.441976  6.081188\n",
       "2 -1.103620  3.672027  5.177805\n",
       "3 -1.103620  3.672027  5.177805\n",
       "4 -1.448418  3.375977  5.384828\n",
       "5 -1.448418  3.375977  5.384828\n",
       "6 -1.870810  2.563258  5.979034\n",
       "7 -1.870810  2.563258  5.979034\n",
       "8 -1.116638  3.627852  5.216504\n",
       "9 -1.403851  3.520126  5.308773"
      ]
     },
     "execution_count": 56,
     "metadata": {},
     "output_type": "execute_result"
    }
   ],
   "source": [
    "# Create a DataFrame with the three principal components.\n",
    "# YOUR CODE HERE\n",
    "pcs_df=pd.DataFrame(\n",
    "data=X_pca, columns=[\"PC 1\", \"PC 2\",\"PC 3\"], index = plants_df.index)\n",
    "pcs_df.head(10)"
   ]
  },
  {
   "cell_type": "markdown",
   "metadata": {},
   "source": [
    "### Deliverable 3: Clustering Crytocurrencies Using K-Means\n",
    "\n",
    "#### Finding the Best Value for `k` Using the Elbow Curve"
   ]
  },
  {
   "cell_type": "code",
   "execution_count": 65,
   "metadata": {},
   "outputs": [],
   "source": [
    "# Create an elbow curve to find the best value for K.\n",
    "# YOUR CODE HERE\n",
    "inertia = []\n",
    "#k = list(range(1, 11))\n",
    "k = list(range(1, 11))\n",
    "for i in k:\n",
    "   km = KMeans(n_clusters=i, random_state=0)\n",
    "   km.fit(pcs_df)\n",
    "   inertia.append(km.inertia_)\n",
    "\n",
    "### Check why the range is from 1 to 11 ###"
   ]
  },
  {
   "cell_type": "code",
   "execution_count": 70,
   "metadata": {},
   "outputs": [
    {
     "data": {},
     "metadata": {},
     "output_type": "display_data"
    },
    {
     "data": {
      "application/vnd.holoviews_exec.v0+json": "",
      "text/html": [
       "<div id='1198'>\n",
       "\n",
       "\n",
       "\n",
       "\n",
       "\n",
       "  <div class=\"bk-root\" id=\"31e57a19-ef5a-4962-9a01-349858499688\" data-root-id=\"1198\"></div>\n",
       "</div>\n",
       "<script type=\"application/javascript\">(function(root) {\n",
       "  function embed_document(root) {\n",
       "    var docs_json = {\"c2916b08-5cbc-405a-bb1b-43cf6407057a\":{\"defs\":[{\"extends\":null,\"module\":null,\"name\":\"ReactiveHTML1\",\"overrides\":[],\"properties\":[]},{\"extends\":null,\"module\":null,\"name\":\"FlexBox1\",\"overrides\":[],\"properties\":[{\"default\":\"flex-start\",\"kind\":null,\"name\":\"align_content\"},{\"default\":\"flex-start\",\"kind\":null,\"name\":\"align_items\"},{\"default\":\"row\",\"kind\":null,\"name\":\"flex_direction\"},{\"default\":\"wrap\",\"kind\":null,\"name\":\"flex_wrap\"},{\"default\":\"flex-start\",\"kind\":null,\"name\":\"justify_content\"}]},{\"extends\":null,\"module\":null,\"name\":\"TemplateActions1\",\"overrides\":[],\"properties\":[{\"default\":0,\"kind\":null,\"name\":\"open_modal\"},{\"default\":0,\"kind\":null,\"name\":\"close_modal\"}]},{\"extends\":null,\"module\":null,\"name\":\"MaterialTemplateActions1\",\"overrides\":[],\"properties\":[{\"default\":0,\"kind\":null,\"name\":\"open_modal\"},{\"default\":0,\"kind\":null,\"name\":\"close_modal\"}]}],\"roots\":{\"references\":[{\"attributes\":{\"margin\":[5,5,5,5],\"name\":\"HSpacer01897\",\"sizing_mode\":\"stretch_width\"},\"id\":\"1199\",\"type\":\"Spacer\"},{\"attributes\":{},\"id\":\"1221\",\"type\":\"PanTool\"},{\"attributes\":{},\"id\":\"1222\",\"type\":\"WheelZoomTool\"},{\"attributes\":{},\"id\":\"1210\",\"type\":\"LinearScale\"},{\"attributes\":{},\"id\":\"1220\",\"type\":\"SaveTool\"},{\"attributes\":{\"overlay\":{\"id\":\"1225\"}},\"id\":\"1223\",\"type\":\"BoxZoomTool\"},{\"attributes\":{},\"id\":\"1224\",\"type\":\"ResetTool\"},{\"attributes\":{},\"id\":\"1208\",\"type\":\"LinearScale\"},{\"attributes\":{\"line_color\":\"#30a2da\",\"line_width\":2,\"x\":{\"field\":\"k\"},\"y\":{\"field\":\"inertia\"}},\"id\":\"1241\",\"type\":\"Line\"},{\"attributes\":{\"end\":10.0,\"reset_end\":10.0,\"reset_start\":1.0,\"start\":1.0,\"tags\":[[[\"k\",\"k\",null]]]},\"id\":\"1200\",\"type\":\"Range1d\"},{\"attributes\":{},\"id\":\"1249\",\"type\":\"BasicTickFormatter\"},{\"attributes\":{},\"id\":\"1243\",\"type\":\"AllLabels\"},{\"attributes\":{\"axis_label\":\"k\",\"formatter\":{\"id\":\"1244\"},\"major_label_policy\":{\"id\":\"1243\"},\"ticker\":{\"id\":\"1242\"}},\"id\":\"1212\",\"type\":\"LinearAxis\"},{\"attributes\":{\"source\":{\"id\":\"1233\"}},\"id\":\"1240\",\"type\":\"CDSView\"},{\"attributes\":{\"margin\":[5,5,5,5],\"name\":\"HSpacer01898\",\"sizing_mode\":\"stretch_width\"},\"id\":\"1269\",\"type\":\"Spacer\"},{\"attributes\":{},\"id\":\"1244\",\"type\":\"BasicTickFormatter\"},{\"attributes\":{\"line_alpha\":0.2,\"line_color\":\"#30a2da\",\"line_width\":2,\"x\":{\"field\":\"k\"},\"y\":{\"field\":\"inertia\"}},\"id\":\"1238\",\"type\":\"Line\"},{\"attributes\":{\"callback\":null,\"renderers\":[{\"id\":\"1239\"}],\"tags\":[\"hv_created\"],\"tooltips\":[[\"k\",\"@{k}\"],[\"inertia\",\"@{inertia}\"]]},\"id\":\"1202\",\"type\":\"HoverTool\"},{\"attributes\":{},\"id\":\"1234\",\"type\":\"Selection\"},{\"attributes\":{\"line_alpha\":0.1,\"line_color\":\"#30a2da\",\"line_width\":2,\"x\":{\"field\":\"k\"},\"y\":{\"field\":\"inertia\"}},\"id\":\"1237\",\"type\":\"Line\"},{\"attributes\":{},\"id\":\"1258\",\"type\":\"UnionRenderers\"},{\"attributes\":{\"line_color\":\"#30a2da\",\"line_width\":2,\"x\":{\"field\":\"k\"},\"y\":{\"field\":\"inertia\"}},\"id\":\"1236\",\"type\":\"Line\"},{\"attributes\":{\"ticks\":[1,2,3,4,5,6,7,8,9,10]},\"id\":\"1242\",\"type\":\"FixedTicker\"},{\"attributes\":{},\"id\":\"1248\",\"type\":\"AllLabels\"},{\"attributes\":{\"data_source\":{\"id\":\"1233\"},\"glyph\":{\"id\":\"1236\"},\"hover_glyph\":null,\"muted_glyph\":{\"id\":\"1238\"},\"nonselection_glyph\":{\"id\":\"1237\"},\"selection_glyph\":{\"id\":\"1241\"},\"view\":{\"id\":\"1240\"}},\"id\":\"1239\",\"type\":\"GlyphRenderer\"},{\"attributes\":{\"below\":[{\"id\":\"1212\"}],\"center\":[{\"id\":\"1215\"},{\"id\":\"1219\"}],\"height\":300,\"left\":[{\"id\":\"1216\"}],\"margin\":[5,5,5,5],\"min_border_bottom\":10,\"min_border_left\":10,\"min_border_right\":10,\"min_border_top\":10,\"renderers\":[{\"id\":\"1239\"}],\"sizing_mode\":\"fixed\",\"title\":{\"id\":\"1204\"},\"toolbar\":{\"id\":\"1226\"},\"width\":700,\"x_range\":{\"id\":\"1200\"},\"x_scale\":{\"id\":\"1208\"},\"y_range\":{\"id\":\"1201\"},\"y_scale\":{\"id\":\"1210\"}},\"id\":\"1203\",\"subtype\":\"Figure\",\"type\":\"Plot\"},{\"attributes\":{\"bottom_units\":\"screen\",\"fill_alpha\":0.5,\"fill_color\":\"lightgrey\",\"left_units\":\"screen\",\"level\":\"overlay\",\"line_alpha\":1.0,\"line_color\":\"black\",\"line_dash\":[4,4],\"line_width\":2,\"right_units\":\"screen\",\"syncable\":false,\"top_units\":\"screen\"},\"id\":\"1225\",\"type\":\"BoxAnnotation\"},{\"attributes\":{\"data\":{\"inertia\":{\"__ndarray__\":\"Mn06A/eh1UDTPH2BchnIQEKrJNnbMr1AHPQldIGJrkBrynsyvrWlQKYYeZEOG59AQqkRsnA+mkBBjxRh3f+VQOtcdE6vgpNAXnHWuMsSkUA=\",\"dtype\":\"float64\",\"order\":\"little\",\"shape\":[10]},\"k\":[1,2,3,4,5,6,7,8,9,10]},\"selected\":{\"id\":\"1234\"},\"selection_policy\":{\"id\":\"1258\"}},\"id\":\"1233\",\"type\":\"ColumnDataSource\"},{\"attributes\":{\"text\":\"Elbow Curve\",\"text_color\":\"black\",\"text_font_size\":\"12pt\"},\"id\":\"1204\",\"type\":\"Title\"},{\"attributes\":{\"children\":[{\"id\":\"1199\"},{\"id\":\"1203\"},{\"id\":\"1269\"}],\"margin\":[0,0,0,0],\"name\":\"Row01893\",\"tags\":[\"embedded\"]},\"id\":\"1198\",\"type\":\"Row\"},{\"attributes\":{\"end\":24257.775634526653,\"reset_end\":24257.775634526653,\"reset_start\":-1013.2171151890657,\"start\":-1013.2171151890657,\"tags\":[[[\"inertia\",\"inertia\",null]]]},\"id\":\"1201\",\"type\":\"Range1d\"},{\"attributes\":{},\"id\":\"1217\",\"type\":\"BasicTicker\"},{\"attributes\":{\"axis\":{\"id\":\"1212\"},\"grid_line_color\":null,\"ticker\":null},\"id\":\"1215\",\"type\":\"Grid\"},{\"attributes\":{\"active_multi\":null,\"tools\":[{\"id\":\"1202\"},{\"id\":\"1220\"},{\"id\":\"1221\"},{\"id\":\"1222\"},{\"id\":\"1223\"},{\"id\":\"1224\"}]},\"id\":\"1226\",\"type\":\"Toolbar\"},{\"attributes\":{\"axis_label\":\"inertia\",\"formatter\":{\"id\":\"1249\"},\"major_label_policy\":{\"id\":\"1248\"},\"ticker\":{\"id\":\"1217\"}},\"id\":\"1216\",\"type\":\"LinearAxis\"},{\"attributes\":{\"axis\":{\"id\":\"1216\"},\"dimension\":1,\"grid_line_color\":null,\"ticker\":null},\"id\":\"1219\",\"type\":\"Grid\"}],\"root_ids\":[\"1198\"]},\"title\":\"Bokeh Application\",\"version\":\"2.3.3\"}};\n",
       "    var render_items = [{\"docid\":\"c2916b08-5cbc-405a-bb1b-43cf6407057a\",\"root_ids\":[\"1198\"],\"roots\":{\"1198\":\"31e57a19-ef5a-4962-9a01-349858499688\"}}];\n",
       "    root.Bokeh.embed.embed_items_notebook(docs_json, render_items);\n",
       "  }\n",
       "  if (root.Bokeh !== undefined && root.Bokeh.Panel !== undefined) {\n",
       "    embed_document(root);\n",
       "  } else {\n",
       "    var attempts = 0;\n",
       "    var timer = setInterval(function(root) {\n",
       "      if (root.Bokeh !== undefined && root.Bokeh.Panel !== undefined) {\n",
       "        clearInterval(timer);\n",
       "        embed_document(root);\n",
       "      } else if (document.readyState == \"complete\") {\n",
       "        attempts++;\n",
       "        if (attempts > 200) {\n",
       "          clearInterval(timer);\n",
       "          console.log(\"Bokeh: ERROR: Unable to run BokehJS code because BokehJS library is missing\");\n",
       "        }\n",
       "      }\n",
       "    }, 25, root)\n",
       "  }\n",
       "})(window);</script>"
      ],
      "text/plain": [
       ":Curve   [k]   (inertia)"
      ]
     },
     "execution_count": 70,
     "metadata": {
      "application/vnd.holoviews_exec.v0+json": {
       "id": "1198"
      }
     },
     "output_type": "execute_result"
    }
   ],
   "source": [
    "# CREATE A DATAFRAME AND PLOT THE WLBOW CURVE\n",
    "\n",
    "elbow_data = {\"k\":k, \"inertia\":inertia}\n",
    "df_elbow = pd.DataFrame(elbow_data)\n",
    "df_elbow.hvplot.line(x=\"k\", y=\"inertia\", title=\"Elbow Curve\", xticks=k)"
   ]
  },
  {
   "cell_type": "markdown",
   "metadata": {},
   "source": [
    "Running K-Means with `k=4`"
   ]
  },
  {
   "cell_type": "code",
   "execution_count": 74,
   "metadata": {},
   "outputs": [
    {
     "data": {
      "text/plain": [
       "array([3, 3, 3, ..., 1, 2, 2], dtype=int32)"
      ]
     },
     "execution_count": 74,
     "metadata": {},
     "output_type": "execute_result"
    }
   ],
   "source": [
    "# Initialize the K-Means model.\n",
    "# YOUR CODE HERE\n",
    "model = KMeans(n_clusters=4, random_state=0)\n",
    "\n",
    "# Fit the model\n",
    "# YOUR CODE HERE\n",
    "model.fit(pcs_df)\n",
    "\n",
    "# Predict clusters\n",
    "# YOUR CODE HERE\n",
    "predictions = model.predict(pcs_df)\n",
    "\n",
    "predictions"
   ]
  },
  {
   "cell_type": "code",
   "execution_count": 75,
   "metadata": {},
   "outputs": [
    {
     "name": "stdout",
     "output_type": "stream",
     "text": [
      "(1190, 15)\n"
     ]
    },
    {
     "data": {
      "text/html": [
       "<div>\n",
       "<style scoped>\n",
       "    .dataframe tbody tr th:only-of-type {\n",
       "        vertical-align: middle;\n",
       "    }\n",
       "\n",
       "    .dataframe tbody tr th {\n",
       "        vertical-align: top;\n",
       "    }\n",
       "\n",
       "    .dataframe thead th {\n",
       "        text-align: right;\n",
       "    }\n",
       "</style>\n",
       "<table border=\"1\" class=\"dataframe\">\n",
       "  <thead>\n",
       "    <tr style=\"text-align: right;\">\n",
       "      <th></th>\n",
       "      <th>División</th>\n",
       "      <th>clase</th>\n",
       "      <th>orden</th>\n",
       "      <th>familia</th>\n",
       "      <th>Hierba</th>\n",
       "      <th>Color</th>\n",
       "      <th>longitud</th>\n",
       "      <th>latitud</th>\n",
       "      <th>tipovegetacionmapa</th>\n",
       "      <th>altitudmapa</th>\n",
       "      <th>PC 1</th>\n",
       "      <th>PC 2</th>\n",
       "      <th>PC 3</th>\n",
       "      <th>CoinName</th>\n",
       "      <th>Class</th>\n",
       "    </tr>\n",
       "  </thead>\n",
       "  <tbody>\n",
       "    <tr>\n",
       "      <th>0</th>\n",
       "      <td>Magnoliophyta</td>\n",
       "      <td>Liliopsida</td>\n",
       "      <td>Alismatales</td>\n",
       "      <td>Alismataceae</td>\n",
       "      <td>Hierba</td>\n",
       "      <td>Blanca</td>\n",
       "      <td>-110.433889</td>\n",
       "      <td>27.783333</td>\n",
       "      <td>Vegetacion Halofila</td>\n",
       "      <td>9</td>\n",
       "      <td>-1.998459</td>\n",
       "      <td>2.714840</td>\n",
       "      <td>6.036603</td>\n",
       "      <td>Liliopsida</td>\n",
       "      <td>3</td>\n",
       "    </tr>\n",
       "    <tr>\n",
       "      <th>1</th>\n",
       "      <td>Magnoliophyta</td>\n",
       "      <td>Liliopsida</td>\n",
       "      <td>Alismatales</td>\n",
       "      <td>Alismataceae</td>\n",
       "      <td>Hierba</td>\n",
       "      <td>Blanca</td>\n",
       "      <td>-110.996667</td>\n",
       "      <td>28.111667</td>\n",
       "      <td>Matorral Sarcocaule</td>\n",
       "      <td>79</td>\n",
       "      <td>-2.049054</td>\n",
       "      <td>2.441976</td>\n",
       "      <td>6.081188</td>\n",
       "      <td>Liliopsida</td>\n",
       "      <td>3</td>\n",
       "    </tr>\n",
       "    <tr>\n",
       "      <th>2</th>\n",
       "      <td>Magnoliophyta</td>\n",
       "      <td>Liliopsida</td>\n",
       "      <td>Alismatales</td>\n",
       "      <td>Alismataceae</td>\n",
       "      <td>Hierba</td>\n",
       "      <td>Blanca</td>\n",
       "      <td>-99.325000</td>\n",
       "      <td>24.441667</td>\n",
       "      <td>Matorral Submontano</td>\n",
       "      <td>271</td>\n",
       "      <td>-1.103620</td>\n",
       "      <td>3.672027</td>\n",
       "      <td>5.177805</td>\n",
       "      <td>Liliopsida</td>\n",
       "      <td>3</td>\n",
       "    </tr>\n",
       "    <tr>\n",
       "      <th>3</th>\n",
       "      <td>Magnoliophyta</td>\n",
       "      <td>Liliopsida</td>\n",
       "      <td>Alismatales</td>\n",
       "      <td>Alismataceae</td>\n",
       "      <td>Hierba</td>\n",
       "      <td>Blanca</td>\n",
       "      <td>-99.325000</td>\n",
       "      <td>24.441667</td>\n",
       "      <td>Matorral Submontano</td>\n",
       "      <td>271</td>\n",
       "      <td>-1.103620</td>\n",
       "      <td>3.672027</td>\n",
       "      <td>5.177805</td>\n",
       "      <td>Liliopsida</td>\n",
       "      <td>3</td>\n",
       "    </tr>\n",
       "    <tr>\n",
       "      <th>4</th>\n",
       "      <td>Magnoliophyta</td>\n",
       "      <td>Liliopsida</td>\n",
       "      <td>Alismatales</td>\n",
       "      <td>Alismataceae</td>\n",
       "      <td>Hierba</td>\n",
       "      <td>Blanca</td>\n",
       "      <td>-106.000000</td>\n",
       "      <td>28.500000</td>\n",
       "      <td>Pastizal Natural</td>\n",
       "      <td>1572</td>\n",
       "      <td>-1.448418</td>\n",
       "      <td>3.375977</td>\n",
       "      <td>5.384828</td>\n",
       "      <td>Liliopsida</td>\n",
       "      <td>3</td>\n",
       "    </tr>\n",
       "    <tr>\n",
       "      <th>5</th>\n",
       "      <td>Magnoliophyta</td>\n",
       "      <td>Liliopsida</td>\n",
       "      <td>Alismatales</td>\n",
       "      <td>Alismataceae</td>\n",
       "      <td>Hierba</td>\n",
       "      <td>Blanca</td>\n",
       "      <td>-106.000000</td>\n",
       "      <td>28.500000</td>\n",
       "      <td>Pastizal Natural</td>\n",
       "      <td>1572</td>\n",
       "      <td>-1.448418</td>\n",
       "      <td>3.375977</td>\n",
       "      <td>5.384828</td>\n",
       "      <td>Liliopsida</td>\n",
       "      <td>3</td>\n",
       "    </tr>\n",
       "    <tr>\n",
       "      <th>6</th>\n",
       "      <td>Magnoliophyta</td>\n",
       "      <td>Liliopsida</td>\n",
       "      <td>Alismatales</td>\n",
       "      <td>Alismataceae</td>\n",
       "      <td>Hierba</td>\n",
       "      <td>Blanca</td>\n",
       "      <td>-109.208333</td>\n",
       "      <td>26.551389</td>\n",
       "      <td>Matorral Sarcocrasicaule</td>\n",
       "      <td>32</td>\n",
       "      <td>-1.870810</td>\n",
       "      <td>2.563258</td>\n",
       "      <td>5.979034</td>\n",
       "      <td>Liliopsida</td>\n",
       "      <td>3</td>\n",
       "    </tr>\n",
       "    <tr>\n",
       "      <th>7</th>\n",
       "      <td>Magnoliophyta</td>\n",
       "      <td>Liliopsida</td>\n",
       "      <td>Alismatales</td>\n",
       "      <td>Alismataceae</td>\n",
       "      <td>Hierba</td>\n",
       "      <td>Blanca</td>\n",
       "      <td>-109.208333</td>\n",
       "      <td>26.551389</td>\n",
       "      <td>Matorral Sarcocrasicaule</td>\n",
       "      <td>32</td>\n",
       "      <td>-1.870810</td>\n",
       "      <td>2.563258</td>\n",
       "      <td>5.979034</td>\n",
       "      <td>Liliopsida</td>\n",
       "      <td>3</td>\n",
       "    </tr>\n",
       "    <tr>\n",
       "      <th>8</th>\n",
       "      <td>Magnoliophyta</td>\n",
       "      <td>Liliopsida</td>\n",
       "      <td>Alismatales</td>\n",
       "      <td>Alismataceae</td>\n",
       "      <td>Hierba</td>\n",
       "      <td>Blanca</td>\n",
       "      <td>-99.233333</td>\n",
       "      <td>25.146667</td>\n",
       "      <td>Matorral Submontano</td>\n",
       "      <td>259</td>\n",
       "      <td>-1.116638</td>\n",
       "      <td>3.627852</td>\n",
       "      <td>5.216504</td>\n",
       "      <td>Liliopsida</td>\n",
       "      <td>3</td>\n",
       "    </tr>\n",
       "    <tr>\n",
       "      <th>9</th>\n",
       "      <td>Magnoliophyta</td>\n",
       "      <td>Liliopsida</td>\n",
       "      <td>Alismatales</td>\n",
       "      <td>Alismataceae</td>\n",
       "      <td>Hierba</td>\n",
       "      <td>Blanca</td>\n",
       "      <td>-97.750000</td>\n",
       "      <td>24.547222</td>\n",
       "      <td>Matorral Espinoso Tamaulipeco</td>\n",
       "      <td>10</td>\n",
       "      <td>-1.403851</td>\n",
       "      <td>3.520126</td>\n",
       "      <td>5.308773</td>\n",
       "      <td>Liliopsida</td>\n",
       "      <td>3</td>\n",
       "    </tr>\n",
       "  </tbody>\n",
       "</table>\n",
       "</div>"
      ],
      "text/plain": [
       "        División       clase        orden       familia   Hierba   Color  \\\n",
       "0  Magnoliophyta  Liliopsida  Alismatales  Alismataceae  Hierba   Blanca   \n",
       "1  Magnoliophyta  Liliopsida  Alismatales  Alismataceae  Hierba   Blanca   \n",
       "2  Magnoliophyta  Liliopsida  Alismatales  Alismataceae  Hierba   Blanca   \n",
       "3  Magnoliophyta  Liliopsida  Alismatales  Alismataceae  Hierba   Blanca   \n",
       "4  Magnoliophyta  Liliopsida  Alismatales  Alismataceae  Hierba   Blanca   \n",
       "5  Magnoliophyta  Liliopsida  Alismatales  Alismataceae  Hierba   Blanca   \n",
       "6  Magnoliophyta  Liliopsida  Alismatales  Alismataceae  Hierba   Blanca   \n",
       "7  Magnoliophyta  Liliopsida  Alismatales  Alismataceae  Hierba   Blanca   \n",
       "8  Magnoliophyta  Liliopsida  Alismatales  Alismataceae  Hierba   Blanca   \n",
       "9  Magnoliophyta  Liliopsida  Alismatales  Alismataceae  Hierba   Blanca   \n",
       "\n",
       "     longitud    latitud             tipovegetacionmapa  altitudmapa  \\\n",
       "0 -110.433889  27.783333            Vegetacion Halofila            9   \n",
       "1 -110.996667  28.111667            Matorral Sarcocaule           79   \n",
       "2  -99.325000  24.441667            Matorral Submontano          271   \n",
       "3  -99.325000  24.441667            Matorral Submontano          271   \n",
       "4 -106.000000  28.500000               Pastizal Natural         1572   \n",
       "5 -106.000000  28.500000               Pastizal Natural         1572   \n",
       "6 -109.208333  26.551389       Matorral Sarcocrasicaule           32   \n",
       "7 -109.208333  26.551389       Matorral Sarcocrasicaule           32   \n",
       "8  -99.233333  25.146667            Matorral Submontano          259   \n",
       "9  -97.750000  24.547222  Matorral Espinoso Tamaulipeco           10   \n",
       "\n",
       "       PC 1      PC 2      PC 3    CoinName  Class  \n",
       "0 -1.998459  2.714840  6.036603  Liliopsida      3  \n",
       "1 -2.049054  2.441976  6.081188  Liliopsida      3  \n",
       "2 -1.103620  3.672027  5.177805  Liliopsida      3  \n",
       "3 -1.103620  3.672027  5.177805  Liliopsida      3  \n",
       "4 -1.448418  3.375977  5.384828  Liliopsida      3  \n",
       "5 -1.448418  3.375977  5.384828  Liliopsida      3  \n",
       "6 -1.870810  2.563258  5.979034  Liliopsida      3  \n",
       "7 -1.870810  2.563258  5.979034  Liliopsida      3  \n",
       "8 -1.116638  3.627852  5.216504  Liliopsida      3  \n",
       "9 -1.403851  3.520126  5.308773  Liliopsida      3  "
      ]
     },
     "execution_count": 75,
     "metadata": {},
     "output_type": "execute_result"
    }
   ],
   "source": [
    "# Create a new DataFrame including predicted clusters and cryptocurrencies features.\n",
    "# Concatentate the crypto_df and pcs_df DataFrames on the same columns.\n",
    "# YOUR CODE HERE\n",
    "clustered_df = pd.concat([plants_df, pcs_df], axis=1)\n",
    "\n",
    "\n",
    "#  Add a new column, \"CoinName\" to the clustered_df DataFrame that holds the names of the cryptocurrencies. \n",
    "# YOUR CODE HERE\n",
    "clustered_df['CoinName'] = plants_df_name \n",
    "\n",
    "### The name is not important for clustering, that is why we add it at the end of the process ###\n",
    "\n",
    "\n",
    "#  Add a new column, \"Class\" to the clustered_df DataFrame that holds the predictions.\n",
    "# YOUR CODE HERE\n",
    "clustered_df['Class'] = predictions\n",
    "\n",
    "\n",
    "# Print the shape of the clustered_df\n",
    "print(clustered_df.shape)\n",
    "clustered_df.head(10)"
   ]
  },
  {
   "cell_type": "markdown",
   "metadata": {},
   "source": [
    "### Deliverable 4: Visualizing Cryptocurrencies Results\n",
    "\n",
    "#### 3D-Scatter with Clusters"
   ]
  },
  {
   "cell_type": "code",
   "execution_count": 76,
   "metadata": {},
   "outputs": [
    {
     "data": {
      "application/vnd.plotly.v1+json": {
       "config": {
        "plotlyServerURL": "https://plot.ly"
       },
       "data": [
        {
         "customdata": [
          [
           "Hierba "
          ],
          [
           "Hierba "
          ],
          [
           "Hierba "
          ],
          [
           "Hierba "
          ],
          [
           "Hierba "
          ],
          [
           "Hierba "
          ],
          [
           "Hierba "
          ],
          [
           "Hierba "
          ],
          [
           "Hierba "
          ],
          [
           "Hierba "
          ],
          [
           "Hierba "
          ],
          [
           "Hierba "
          ],
          [
           "Hierba "
          ],
          [
           "Hierba "
          ],
          [
           "Hierba "
          ],
          [
           "Hierba "
          ],
          [
           "Hierba "
          ],
          [
           "Hierba "
          ],
          [
           "Hierba "
          ],
          [
           "Hierba "
          ],
          [
           "Hierba "
          ],
          [
           "Hierba "
          ],
          [
           "Árbol  "
          ],
          [
           "Árbol  "
          ],
          [
           "Árbol  "
          ],
          [
           "Árbol  "
          ],
          [
           "Árbol  "
          ],
          [
           "Árbol  "
          ],
          [
           "Árbol  "
          ],
          [
           "Árbol  "
          ],
          [
           "Árbol  "
          ],
          [
           "Árbol  "
          ],
          [
           "Árbol  "
          ],
          [
           "Hierba "
          ],
          [
           "Hierba "
          ],
          [
           "Hierba "
          ],
          [
           "Hierba "
          ],
          [
           "Hierba "
          ],
          [
           "Hierba "
          ],
          [
           "Hierba "
          ],
          [
           "Hierba "
          ],
          [
           "Hierba "
          ],
          [
           "Hierba "
          ],
          [
           "Hierba "
          ],
          [
           "Hierba"
          ],
          [
           "Hierba"
          ],
          [
           "Hierba"
          ],
          [
           "Hierba"
          ],
          [
           "Hierba"
          ],
          [
           "Hierba"
          ],
          [
           "Hierba"
          ],
          [
           "Hierba"
          ],
          [
           "Hierba"
          ],
          [
           "Hierba"
          ],
          [
           "Hierba"
          ],
          [
           "Hierba"
          ],
          [
           "Hierba"
          ],
          [
           "Hierba"
          ],
          [
           "Hierba"
          ],
          [
           "Hierba"
          ],
          [
           "Hierba"
          ],
          [
           "Hierba"
          ],
          [
           "Hierba"
          ],
          [
           "Hierba"
          ],
          [
           "Hierba"
          ],
          [
           "Hierba"
          ],
          [
           "Hierba"
          ],
          [
           "Hierba"
          ],
          [
           "Hierba"
          ],
          [
           "Hierba"
          ],
          [
           "Hierba"
          ],
          [
           "Hierba"
          ],
          [
           "Hierba"
          ],
          [
           "Hierba"
          ],
          [
           "Hierba"
          ],
          [
           "Hierba"
          ],
          [
           "Hierba"
          ],
          [
           "Hierba"
          ],
          [
           "Hierba"
          ],
          [
           "Hierba"
          ],
          [
           "Hierba"
          ],
          [
           "Hierba"
          ],
          [
           "Hierba"
          ],
          [
           "Hierba"
          ],
          [
           "Árbol  "
          ],
          [
           "Árbol  "
          ],
          [
           "Árbol  "
          ],
          [
           "Árbol  "
          ],
          [
           "Árbol  "
          ],
          [
           "Árbol  "
          ],
          [
           "Arbusto o sufrútice"
          ],
          [
           "Arbusto o sufrútice"
          ],
          [
           "Arbusto o sufrútice"
          ],
          [
           "Arbusto o sufrútice"
          ],
          [
           "Arbusto o sufrútice"
          ]
         ],
         "hovertemplate": "<b>%{hovertext}</b><br><br>Class=%{marker.color}<br>PC 1=%{x}<br>PC 2=%{y}<br>PC 3=%{z}<br>Hierba=%{customdata[0]}<extra></extra>",
         "hovertext": [
          "Alismataceae",
          "Alismataceae",
          "Alismataceae",
          "Alismataceae",
          "Alismataceae",
          "Alismataceae",
          "Alismataceae",
          "Alismataceae",
          "Alismataceae",
          "Alismataceae",
          "Alismataceae",
          "Araceae",
          "Araceae",
          "Araceae",
          "Araceae",
          "Araceae",
          "Araceae",
          "Araceae",
          "Araceae",
          "Araceae",
          "Araceae",
          "Araceae",
          "Arecaceae",
          "Arecaceae",
          "Arecaceae",
          "Arecaceae",
          "Arecaceae",
          "Arecaceae",
          "Arecaceae",
          "Arecaceae",
          "Arecaceae",
          "Arecaceae",
          "Arecaceae",
          "Amaryllidaceae",
          "Amaryllidaceae",
          "Amaryllidaceae",
          "Amaryllidaceae",
          "Amaryllidaceae",
          "Amaryllidaceae",
          "Amaryllidaceae",
          "Amaryllidaceae",
          "Amaryllidaceae",
          "Amaryllidaceae",
          "Amaryllidaceae",
          "Bromeliaceae",
          "Cyclanthaceae",
          "Cyclanthaceae",
          "Cyperaceae",
          "Cyperaceae",
          "Cyperaceae",
          "Cyperaceae",
          "Cyperaceae",
          "Cyperaceae",
          "Cyperaceae",
          "Cyperaceae",
          "Cyperaceae",
          "Cyperaceae",
          "Cyperaceae",
          "Hydrocharitaceae",
          "Hydrocharitaceae",
          "Hydrocharitaceae",
          "Hydrocharitaceae",
          "Hydrocharitaceae",
          "Hydrocharitaceae",
          "Hydrocharitaceae",
          "Hydrocharitaceae",
          "Hydrocharitaceae",
          "Hydrocharitaceae",
          "Hydrocharitaceae",
          "Pontederiaceae",
          "Pontederiaceae",
          "Pontederiaceae",
          "Pontederiaceae",
          "Typhaceae",
          "Typhaceae",
          "Typhaceae",
          "Typhaceae",
          "Typhaceae",
          "Typhaceae",
          "Typhaceae",
          "Typhaceae",
          "Typhaceae",
          "Typhaceae",
          "Typhaceae",
          "Viburnaceae",
          "Viburnaceae",
          "Viburnaceae",
          "Viburnaceae",
          "Viburnaceae",
          "Viburnaceae",
          "Rhamnaceae",
          "Rhamnaceae",
          "Rhamnaceae",
          "Rhamnaceae",
          "Rhamnaceae"
         ],
         "legendgroup": "3",
         "marker": {
          "color": [
           3,
           3,
           3,
           3,
           3,
           3,
           3,
           3,
           3,
           3,
           3,
           3,
           3,
           3,
           3,
           3,
           3,
           3,
           3,
           3,
           3,
           3,
           3,
           3,
           3,
           3,
           3,
           3,
           3,
           3,
           3,
           3,
           3,
           3,
           3,
           3,
           3,
           3,
           3,
           3,
           3,
           3,
           3,
           3,
           3,
           3,
           3,
           3,
           3,
           3,
           3,
           3,
           3,
           3,
           3,
           3,
           3,
           3,
           3,
           3,
           3,
           3,
           3,
           3,
           3,
           3,
           3,
           3,
           3,
           3,
           3,
           3,
           3,
           3,
           3,
           3,
           3,
           3,
           3,
           3,
           3,
           3,
           3,
           3,
           3,
           3,
           3,
           3,
           3,
           3,
           3,
           3,
           3,
           3,
           3
          ],
          "coloraxis": "coloraxis",
          "symbol": "circle"
         },
         "mode": "markers",
         "name": "3",
         "scene": "scene",
         "showlegend": true,
         "type": "scatter3d",
         "x": [
          -1.998458754585934,
          -2.04905391648299,
          -1.103619935913673,
          -1.1036199359136725,
          -1.4484175317747328,
          -1.4484175317747328,
          -1.8708100869198172,
          -1.8708100869198172,
          -1.1166382834744735,
          -1.4038505213315307,
          -1.404211428897755,
          -0.8897159004076921,
          -0.6728855935098319,
          -0.7758613956654122,
          -0.8897159004076921,
          -1.8934857329992867,
          -1.321198326188404,
          -1.7553342799104863,
          -1.7334708680109874,
          -0.9469138673298685,
          -0.7663381931675909,
          -0.739151169114547,
          -1.9040001341899557,
          -1.6294198713063335,
          -2.0197874988209086,
          -1.9040001341899557,
          -1.9040001341899557,
          -1.6294198713063335,
          -1.9040001341899557,
          -2.0578552007299273,
          -2.0195015786580455,
          -2.0197874988209086,
          -1.9040001341899557,
          -1.819333450176418,
          -1.8739168142728715,
          -1.423469478345064,
          -1.4913597134409033,
          -1.8567064088527772,
          -1.5936476687504981,
          -1.565220621730641,
          -1.8739168142728715,
          -1.6475089951675628,
          -1.6475089951675628,
          -1.8343424621722584,
          -0.27417300744164863,
          -0.3142344036185052,
          -0.3142344036185052,
          -0.1835081424825783,
          0.03966089434194522,
          -0.01690760628772358,
          -0.9797145834511721,
          -0.9797145834511721,
          -1.0194189961120712,
          -1.0194189961120712,
          -0.8557962133426291,
          -0.8557962133426292,
          -0.7535589258260554,
          -0.8894350478489347,
          -1.1563489737859876,
          -1.116831981868924,
          -1.0793197862198152,
          -1.0398027943027515,
          -0.7898135345168857,
          -1.101426998868038,
          -1.101426998868038,
          -1.0357272308453616,
          -0.9711519236145573,
          -1.1384790755414704,
          -0.8590447763179541,
          -0.777243397951061,
          0.1355428094423931,
          0.1355428094423931,
          0.6482196093268746,
          -0.07050383320625782,
          0.012654630256434235,
          -0.07053339271312871,
          -0.10602262297541144,
          -0.3440204723129839,
          -1.056518065485936,
          -0.877055990586885,
          -0.8728694006972018,
          -0.8702086541141656,
          -0.8051297650115097,
          -1.0418883827677092,
          -2.6487970022187066,
          -2.5936835512624152,
          -2.5247569408320953,
          -2.656805959206787,
          -2.802029736742392,
          -2.576370853147217,
          -2.7520890095024075,
          -2.7731804877583124,
          -2.417380246212511,
          -2.4067843056538676,
          -2.410049707027434
         ],
         "y": [
          2.7148398753774394,
          2.4419762927330075,
          3.6720272467002966,
          3.6720272467002903,
          3.375977277658682,
          3.375977277658681,
          2.563258038827505,
          2.5632580388275032,
          3.6278516681581245,
          3.52012637483264,
          3.5194824427064577,
          4.342626905562295,
          4.775064658313718,
          4.480177280840872,
          4.342626905562295,
          2.9558327502021,
          3.4820910429155174,
          3.2635962374479397,
          3.3038389611154173,
          4.1598713380230725,
          5.1410111387282855,
          5.195096632876115,
          1.2470279930169286,
          1.4283406133506151,
          0.9433021047290647,
          1.2470279930169286,
          1.2470279930169286,
          1.4283406133506151,
          1.2470279930169286,
          0.9538464959832641,
          0.9438551058660638,
          0.9433021047290647,
          1.2470279930169286,
          2.1229504049063035,
          2.4025510930217076,
          2.862337566410459,
          2.733622122442551,
          2.463876833108437,
          2.510989557476391,
          2.59569655299582,
          2.4025510930217076,
          2.4053378723214776,
          2.4053378723214776,
          2.0820601474015374,
          3.400635221912876,
          3.0815696272566306,
          3.0815696272566306,
          3.19847779130992,
          4.5244510899274735,
          3.007285945343675,
          1.6549584881106656,
          1.6549584881106656,
          1.5810007586040473,
          1.5810007586040473,
          1.8857261850875224,
          1.8857261850875227,
          1.5987432893615907,
          1.719076288602585,
          1.7864660077481587,
          1.8907226150764667,
          1.9503989546292295,
          2.054655561957538,
          1.8201095201217494,
          1.8728324469133266,
          1.8728324469133266,
          2.004510658795097,
          2.119445967504553,
          1.8109053310091952,
          3.074042738652945,
          1.5519874301221126,
          1.17644756811417,
          1.17644756811417,
          2.030697454202414,
          0.06889695838399063,
          0.24055992480066213,
          0.06884589094517414,
          0.24912569970236953,
          -0.04830956768657119,
          0.4769250240515993,
          0.6310561459617774,
          0.3455699732160763,
          0.350456153183462,
          0.3470423726276058,
          0.5007309343962635,
          -0.29668312115894646,
          -0.01945519392987933,
          0.10153934500822998,
          -0.9193388252577254,
          -1.1719508648410113,
          -0.7518679067538988,
          -1.179861667637927,
          -1.2175339210814884,
          -0.1952947976096798,
          -0.15063164404226773,
          -0.15685318156031672
         ],
         "z": [
          6.036602889561995,
          6.081187785992212,
          5.177804691913655,
          5.177804691913648,
          5.3848279487608615,
          5.384827948760856,
          5.979034071760755,
          5.979034071760753,
          5.216504364811392,
          5.308772610156099,
          5.3092604963686005,
          7.031240913466669,
          6.59889045668449,
          6.849041789704424,
          7.031240913466669,
          7.9361506645247815,
          7.641403684969094,
          7.691875216737094,
          7.667805831588721,
          7.035495490441186,
          6.282207312949615,
          6.257473380956456,
          7.411677339211196,
          7.55230044201289,
          7.279034752245542,
          7.411677339211196,
          7.411677339211196,
          7.55230044201289,
          7.411677339211196,
          7.593731117282585,
          7.2784153935924,
          7.279034752245542,
          7.411677339211196,
          7.614850779088428,
          7.13546941652076,
          7.149560003246576,
          7.2308471062001685,
          7.076845242871339,
          6.799597498433406,
          7.315509608891656,
          7.13546941652076,
          9.131584777909387,
          9.131584777909387,
          7.6534213200652195,
          2.5244609923649595,
          2.907101066616441,
          2.907101066616441,
          3.9564148253076503,
          3.1787340357838025,
          3.8309568659282536,
          4.807407236888636,
          4.807407236888636,
          4.852623967643054,
          4.852623967643054,
          4.659938116476455,
          4.659938116476456,
          5.5498638213823694,
          5.172495380740877,
          4.029850135729142,
          3.934738509551763,
          5.1360055523026515,
          5.040893926125274,
          5.985853838634898,
          5.216963487275241,
          5.216963487275241,
          5.127142152468573,
          5.060234005204424,
          5.245697441177047,
          4.843714009890925,
          2.8083868703842336,
          2.3386921479404448,
          2.3386921479404448,
          2.7391545823744172,
          5.3383245817013005,
          4.10976739115249,
          5.3383719780368235,
          4.587213623358996,
          4.453771806652348,
          6.651558887035009,
          6.106973209758186,
          6.9314489482641415,
          6.928559577493794,
          6.610964282083649,
          6.637776023835197,
          3.956114359263643,
          4.283312178884308,
          4.20570785220117,
          5.086820135394168,
          5.233703320106857,
          4.965776570289961,
          4.879330133876834,
          4.901179371484382,
          3.4611144065730395,
          3.7975497189827165,
          3.8015563002577766
         ]
        },
        {
         "customdata": [
          [
           "Hierba"
          ],
          [
           "Hierba"
          ],
          [
           "Hierba"
          ],
          [
           "Hierba"
          ],
          [
           "Hierba"
          ],
          [
           "Hierba"
          ],
          [
           "Hierba"
          ],
          [
           "Hierba"
          ],
          [
           "Hierba"
          ],
          [
           "Hierba"
          ],
          [
           "Hierba"
          ],
          [
           "Hierba"
          ],
          [
           "Hierba"
          ],
          [
           "Hierba"
          ],
          [
           "Hierba"
          ],
          [
           "Hierba"
          ],
          [
           "Hierba"
          ],
          [
           "Hierba"
          ],
          [
           "Hierba"
          ],
          [
           "Hierba"
          ],
          [
           "Hierba"
          ],
          [
           "Hierba"
          ],
          [
           "Hierba"
          ],
          [
           "Hierba"
          ],
          [
           "Hierba"
          ],
          [
           "Hierba"
          ],
          [
           "Hierba"
          ],
          [
           "Hierba"
          ],
          [
           "Hierba"
          ],
          [
           "Hierba"
          ],
          [
           "Hierba"
          ],
          [
           "Hierba"
          ],
          [
           "Hierba"
          ],
          [
           "Hierba"
          ],
          [
           "Hierba"
          ],
          [
           "Hierba"
          ],
          [
           "Hierba"
          ],
          [
           "Hierba"
          ],
          [
           "Hierba"
          ],
          [
           "Hierba"
          ],
          [
           "Hierba"
          ],
          [
           "Hierba"
          ],
          [
           "Hierba"
          ],
          [
           "Hierba"
          ],
          [
           "Hierba"
          ],
          [
           "Hierba"
          ],
          [
           "Hierba"
          ],
          [
           "Hierba"
          ],
          [
           "Hierba"
          ],
          [
           "Hierba"
          ],
          [
           "Hierba"
          ],
          [
           "Hierba"
          ],
          [
           "Hierba"
          ],
          [
           "Hierba"
          ],
          [
           "Hierba"
          ],
          [
           "Hierba"
          ],
          [
           "Hierba"
          ],
          [
           "Hierba"
          ],
          [
           "Hierba"
          ],
          [
           "Hierba"
          ],
          [
           "Hierba"
          ],
          [
           "Hierba"
          ],
          [
           "Hierba"
          ],
          [
           "Hierba"
          ],
          [
           "Hierba"
          ],
          [
           "Hierba"
          ],
          [
           "Hierba"
          ],
          [
           "Hierba"
          ],
          [
           "Hierba"
          ],
          [
           "Hierba"
          ],
          [
           "Hierba"
          ],
          [
           "Hierba"
          ],
          [
           "Hierba"
          ],
          [
           "Hierba"
          ],
          [
           "Hierba"
          ],
          [
           "Hierba"
          ],
          [
           "Hierba"
          ],
          [
           "Hierba"
          ],
          [
           "Hierba"
          ],
          [
           "Hierba"
          ],
          [
           "Hierba"
          ],
          [
           "Hierba"
          ],
          [
           "Hierba"
          ],
          [
           "Hierba"
          ],
          [
           "Hierba"
          ],
          [
           "Hierba"
          ],
          [
           "Hierba"
          ],
          [
           "Hierba"
          ],
          [
           "Hierba"
          ],
          [
           "Hierba"
          ],
          [
           "Hierba"
          ],
          [
           "Árbol"
          ],
          [
           "Árbol"
          ],
          [
           "Árbol"
          ],
          [
           "Arbusto"
          ],
          [
           "Arbusto"
          ],
          [
           "Arbusto"
          ],
          [
           "Arbusto"
          ],
          [
           "Arbusto"
          ],
          [
           "Arbusto"
          ],
          [
           "Árbol"
          ],
          [
           "Árbol"
          ],
          [
           "Árbol"
          ],
          [
           "Hierba"
          ],
          [
           "Hierba"
          ],
          [
           "Hierba"
          ],
          [
           "Arbusto"
          ],
          [
           "Arbusto"
          ],
          [
           "Arbusto"
          ],
          [
           "Hierba"
          ],
          [
           "Hierba"
          ],
          [
           "Hierba"
          ],
          [
           "Hierba"
          ],
          [
           "Hierba"
          ],
          [
           "Hierba"
          ],
          [
           "Hierba"
          ],
          [
           "Hierba"
          ],
          [
           "Hierba"
          ],
          [
           "Hierba"
          ],
          [
           "Hierba"
          ],
          [
           "Hierba"
          ],
          [
           "Árbol"
          ],
          [
           "Árbol"
          ],
          [
           "Árbol"
          ],
          [
           "Árbol"
          ],
          [
           "Árbol"
          ],
          [
           "Árbol"
          ],
          [
           "arbusto"
          ],
          [
           "Hierba o arbusto"
          ],
          [
           "Árbol"
          ],
          [
           "Árbol"
          ],
          [
           "Árbol"
          ],
          [
           "Árbol"
          ],
          [
           "Árbol"
          ],
          [
           "Árbol"
          ],
          [
           "Hierba"
          ],
          [
           "Hierba"
          ],
          [
           "Hierba"
          ],
          [
           "Árbol"
          ],
          [
           "Árbol"
          ],
          [
           "Árbol"
          ],
          [
           "Hierba"
          ],
          [
           "Hierba"
          ],
          [
           "Hierba"
          ],
          [
           "Hierba"
          ],
          [
           "Hierba"
          ],
          [
           "Hierba"
          ],
          [
           "Arbusto"
          ],
          [
           "Arbusto"
          ],
          [
           "Arbusto"
          ],
          [
           "Hierba"
          ],
          [
           "Hierba"
          ],
          [
           "Hierba"
          ],
          [
           "Hierba"
          ],
          [
           "Hierba"
          ],
          [
           "Hierba"
          ],
          [
           "Hierba"
          ],
          [
           "Hierba"
          ],
          [
           "Arbusto"
          ],
          [
           "Arbusto"
          ],
          [
           "Sufrútice"
          ],
          [
           "Sufrútice"
          ],
          [
           "Sufrútice"
          ],
          [
           "Hierba"
          ],
          [
           "Hierba"
          ],
          [
           "Hierba"
          ],
          [
           "Arbusto"
          ],
          [
           "Arbusto"
          ],
          [
           "Arbusto"
          ],
          [
           "Arbusto"
          ],
          [
           "Arbusto"
          ],
          [
           "Arbusto"
          ],
          [
           "Arbusto"
          ],
          [
           "hierba"
          ],
          [
           "Arbusto"
          ],
          [
           "Árbol"
          ],
          [
           "Hierba o sufrútice"
          ],
          [
           "Hierba o sufrútice"
          ],
          [
           "Hierba o sufrútice"
          ],
          [
           "Hierba o sufrútice"
          ],
          [
           "Hierba o sufrútice"
          ],
          [
           "Hierba o sufrútice"
          ],
          [
           "Arbusto"
          ],
          [
           "Arbusto"
          ],
          [
           "Arbusto"
          ],
          [
           "Arbusto"
          ],
          [
           "Arbusto"
          ],
          [
           "Arbusto"
          ],
          [
           "Hierba"
          ],
          [
           "Árbol"
          ],
          [
           "Hierba"
          ],
          [
           "Hierba"
          ],
          [
           "Hierba"
          ],
          [
           "Hierba"
          ],
          [
           "Hierba"
          ],
          [
           "Arbusto"
          ],
          [
           "Arbusto"
          ],
          [
           "Arbusto"
          ],
          [
           "Árbol"
          ],
          [
           "Árbol"
          ],
          [
           "Árbol"
          ],
          [
           "Árbol"
          ],
          [
           "Árbol"
          ],
          [
           "Árbol"
          ],
          [
           "Hierba"
          ],
          [
           "Hierba"
          ],
          [
           "Hierba"
          ],
          [
           "Sufrútice"
          ],
          [
           "Sufrútice"
          ],
          [
           "Árbol"
          ],
          [
           "Árbol"
          ],
          [
           "Árbol"
          ],
          [
           "Hierba"
          ],
          [
           "Árbol"
          ],
          [
           "Árbol"
          ],
          [
           "Hierba"
          ],
          [
           "arbusto"
          ],
          [
           "Arbusto"
          ],
          [
           "Arbusto"
          ],
          [
           "Arbusto"
          ],
          [
           "Arbusto"
          ],
          [
           "Arbusto"
          ],
          [
           "Hierba"
          ],
          [
           "Hierba"
          ],
          [
           "Hierba"
          ],
          [
           "Hierba"
          ],
          [
           "Hierba"
          ],
          [
           "Hierba"
          ],
          [
           "Hierba"
          ],
          [
           "Hierba"
          ],
          [
           "Hierba"
          ],
          [
           "Hierba"
          ],
          [
           "Hierba"
          ],
          [
           "Hierba"
          ],
          [
           "Árbol"
          ],
          [
           "Hierba"
          ],
          [
           "Hierba"
          ],
          [
           "Hierba"
          ],
          [
           "Hierba"
          ],
          [
           "Hierba"
          ],
          [
           "Hierba"
          ],
          [
           "Hierba"
          ],
          [
           "Hierba"
          ],
          [
           "Hierba"
          ],
          [
           "Hierba"
          ],
          [
           "Hierba"
          ],
          [
           "Hierba"
          ],
          [
           "Hierba"
          ],
          [
           "Hierba"
          ],
          [
           "Hierba"
          ],
          [
           "Hierba"
          ],
          [
           "Hierba"
          ],
          [
           "Hierba"
          ],
          [
           "Hierba"
          ],
          [
           "Hierba"
          ],
          [
           "Hierba"
          ],
          [
           "Hierba"
          ],
          [
           "Hierba"
          ],
          [
           "Arbusto"
          ],
          [
           "Arbusto"
          ],
          [
           "Arbusto"
          ],
          [
           "Arbusto"
          ],
          [
           "Arbusto"
          ],
          [
           "Arbusto"
          ],
          [
           "Arbusto"
          ],
          [
           "Hierba"
          ],
          [
           "Hierba"
          ],
          [
           "Hierba"
          ],
          [
           "Hierba"
          ],
          [
           "Hierba"
          ],
          [
           "Hierba"
          ],
          [
           "Hierba"
          ],
          [
           "Hierba"
          ],
          [
           "Hierba"
          ],
          [
           "Hierba"
          ],
          [
           "Hierba"
          ],
          [
           "Hierba"
          ],
          [
           "Hierba"
          ],
          [
           "Hierba"
          ],
          [
           "Hierba"
          ],
          [
           "Hierba"
          ],
          [
           "Hierba"
          ],
          [
           "Hierba"
          ],
          [
           "Hierba"
          ],
          [
           "Hierba"
          ],
          [
           "Hierba"
          ],
          [
           "Hierba"
          ],
          [
           "Hierba"
          ],
          [
           "Hierba"
          ],
          [
           "Hierba"
          ],
          [
           "Hierba"
          ],
          [
           "Hierba"
          ],
          [
           "Hierba"
          ],
          [
           "Hierba"
          ],
          [
           "Hierba"
          ],
          [
           "Hierba"
          ],
          [
           "Hierba"
          ],
          [
           "Hierba"
          ],
          [
           "Hierba"
          ],
          [
           "Hierba"
          ],
          [
           "Hierba"
          ],
          [
           "Hierba"
          ],
          [
           "Hierba"
          ],
          [
           "Arbusto"
          ],
          [
           "Arbusto"
          ],
          [
           "Arbusto"
          ],
          [
           "Arbusto"
          ],
          [
           "Arbusto"
          ],
          [
           "Arbusto"
          ],
          [
           "Arbusto"
          ],
          [
           "Arbusto"
          ],
          [
           "Arbusto"
          ],
          [
           "Arbusto"
          ],
          [
           "Arbusto"
          ],
          [
           "Arbusto"
          ],
          [
           "Arbusto"
          ],
          [
           "Hierba"
          ],
          [
           "Hierba"
          ],
          [
           "Hierba"
          ],
          [
           "Hierba"
          ],
          [
           "Hierba"
          ],
          [
           "Hierba"
          ],
          [
           "Hierba"
          ],
          [
           "Hierba"
          ],
          [
           "Hierba"
          ],
          [
           "Hierba"
          ],
          [
           "Hierba"
          ],
          [
           "Hierba"
          ],
          [
           "Hierba"
          ],
          [
           "Hierba"
          ],
          [
           "Hierba"
          ],
          [
           "Hierba"
          ],
          [
           "Árbol"
          ],
          [
           "Hierba"
          ],
          [
           "Arbusto"
          ],
          [
           "Arbusto"
          ],
          [
           "Hierba"
          ],
          [
           "Hierba"
          ],
          [
           "Hierba"
          ],
          [
           "Hierba"
          ],
          [
           "Hierba"
          ],
          [
           "Hierba"
          ],
          [
           "Hierba"
          ],
          [
           "Hierba"
          ],
          [
           "Hierba"
          ],
          [
           "Hierba"
          ],
          [
           "Hierba"
          ],
          [
           "Hierba"
          ],
          [
           "Hierba"
          ],
          [
           "Hierba"
          ],
          [
           "Hierba"
          ],
          [
           "Hierba"
          ],
          [
           "Hierba"
          ],
          [
           "Hierba"
          ],
          [
           "Hierba"
          ],
          [
           "Hierba"
          ],
          [
           "Hierba"
          ],
          [
           "Hierba"
          ],
          [
           "Hierba"
          ],
          [
           "Hierba"
          ],
          [
           "Hierba"
          ],
          [
           "Hierba"
          ],
          [
           "Hierba"
          ],
          [
           "Hierba"
          ],
          [
           "Hierba"
          ],
          [
           "Hierba"
          ],
          [
           "Hierba"
          ],
          [
           "Hierba"
          ],
          [
           "Hierba"
          ],
          [
           "Hierba"
          ],
          [
           "Hierba"
          ],
          [
           "Hierba"
          ],
          [
           "Hierba"
          ],
          [
           "Hierba"
          ],
          [
           "Hierba"
          ],
          [
           "Hierba"
          ],
          [
           "Hierba"
          ],
          [
           "Hierba"
          ],
          [
           "Hierba"
          ],
          [
           "Hierba"
          ]
         ],
         "hovertemplate": "<b>%{hovertext}</b><br><br>Class=%{marker.color}<br>PC 1=%{x}<br>PC 2=%{y}<br>PC 3=%{z}<br>Hierba=%{customdata[0]}<extra></extra>",
         "hovertext": [
          "Bromeliaceae",
          "Bromeliaceae",
          "Bromeliaceae",
          "Bromeliaceae",
          "Bromeliaceae",
          "Bromeliaceae",
          "Bromeliaceae",
          "Bromeliaceae",
          "Bromeliaceae",
          "Commelinaceae",
          "Commelinaceae",
          "Commelinaceae",
          "Commelinaceae",
          "Commelinaceae",
          "Commelinaceae",
          "Commelinaceae",
          "Commelinaceae",
          "Commelinaceae",
          "Commelinaceae",
          "Commelinaceae",
          "Dioscoreaceae",
          "Dioscoreaceae",
          "Dioscoreaceae",
          "Dioscoreaceae",
          "Dioscoreaceae",
          "Dioscoreaceae",
          "Dioscoreaceae",
          "Dioscoreaceae",
          "Dioscoreaceae",
          "Dioscoreaceae",
          "Dioscoreaceae",
          "Iridaceae",
          "Iridaceae",
          "Iridaceae",
          "Iridaceae",
          "Iridaceae",
          "Iridaceae",
          "Iridaceae",
          "Iridaceae",
          "Alstroemeriaceae",
          "Alstroemeriaceae",
          "Alstroemeriaceae",
          "Melanthiaceae",
          "Melanthiaceae",
          "Melanthiaceae",
          "Melanthiaceae",
          "Melanthiaceae",
          "Melanthiaceae",
          "Melanthiaceae",
          "Melanthiaceae",
          "Melanthiaceae",
          "Melanthiaceae",
          "Melanthiaceae",
          "Poaceae",
          "Poaceae",
          "Poaceae",
          "Poaceae",
          "Poaceae",
          "Poaceae",
          "Poaceae",
          "Poaceae",
          "Poaceae",
          "Poaceae",
          "Poaceae",
          "Pontederiaceae",
          "Pontederiaceae",
          "Pontederiaceae",
          "Pontederiaceae",
          "Pontederiaceae",
          "Pontederiaceae",
          "Pontederiaceae",
          "Cannaceae",
          "Cannaceae",
          "Musaceae",
          "Lycopodiaceae",
          "Apiaceae",
          "Apiaceae",
          "Apiaceae",
          "Apiaceae",
          "Apiaceae",
          "Asteraceae",
          "Asteraceae",
          "Asteraceae",
          "Asteraceae",
          "Asteraceae",
          "Asteraceae",
          "Boraginaceae",
          "Boraginaceae",
          "Boraginaceae",
          "Boraginaceae",
          "Boraginaceae",
          "Aquifoliaceae",
          "Aquifoliaceae",
          "Aquifoliaceae",
          "Aquifoliaceae",
          "Aquifoliaceae",
          "Aquifoliaceae",
          "Aquifoliaceae",
          "Aquifoliaceae",
          "Aquifoliaceae",
          "Aquifoliaceae",
          "Aquifoliaceae",
          "Aquifoliaceae",
          "Sapotaceae",
          "Sapotaceae",
          "Sapotaceae",
          "Sapotaceae",
          "Sapotaceae",
          "Sapotaceae",
          "Apocynaceae",
          "Apocynaceae",
          "Apocynaceae",
          "Apocynaceae",
          "Apocynaceae",
          "Apocynaceae",
          "Oxalidaceae",
          "Oxalidaceae",
          "Oxalidaceae",
          "Oxalidaceae",
          "Oxalidaceae",
          "Oxalidaceae",
          "Platanaceae",
          "Platanaceae",
          "Platanaceae",
          "Platanaceae",
          "Platanaceae",
          "Platanaceae",
          "Acanthaceae",
          "Acanthaceae",
          "Annonaceae",
          "Annonaceae",
          "Annonaceae",
          "Annonaceae",
          "Annonaceae",
          "Annonaceae",
          "Euphorbiaceae",
          "Euphorbiaceae",
          "Euphorbiaceae",
          "Bombacaceae",
          "Bombacaceae",
          "Bombacaceae",
          "Lythraceae",
          "Lythraceae",
          "Lythraceae",
          "Lythraceae",
          "Lythraceae",
          "Lythraceae",
          "Papaveraceae",
          "Papaveraceae",
          "Papaveraceae",
          "Papaveraceae",
          "Papaveraceae",
          "Piperaceae",
          "Piperaceae",
          "Piperaceae",
          "Plantaginaceae",
          "Plantaginaceae",
          "Plantaginaceae",
          "Plantaginaceae",
          "Plantaginaceae",
          "Plumbaginaceae",
          "Plumbaginaceae",
          "Plumbaginaceae",
          "Plumbaginaceae",
          "Plumbaginaceae",
          "Plumbaginaceae",
          "Polygalaceae",
          "Polygalaceae",
          "Polygalaceae",
          "Polygalaceae",
          "Polygalaceae",
          "Polygalaceae",
          "Primulaceae",
          "Primulaceae",
          "Primulaceae",
          "Primulaceae",
          "Rafflesiaceae",
          "Rafflesiaceae",
          "Rafflesiaceae",
          "Rafflesiaceae",
          "Rafflesiaceae",
          "Rafflesiaceae",
          "Berberidaceae",
          "Berberidaceae",
          "Berberidaceae",
          "Berberidaceae",
          "Berberidaceae",
          "Berberidaceae",
          "Rosaceae",
          "Rosaceae",
          "Rosaceae",
          "Rosaceae",
          "Rubiaceae",
          "Rubiaceae",
          "Rubiaceae",
          "Rubiaceae",
          "Rubiaceae",
          "Rubiaceae",
          "Anacardiaceae",
          "Anacardiaceae",
          "Anacardiaceae",
          "Anacardiaceae",
          "Anacardiaceae",
          "Anacardiaceae",
          "Asteraceae",
          "Polemoniaceae",
          "Polemoniaceae",
          "Polemoniaceae",
          "Polemoniaceae",
          "Pentaphylacaceae",
          "Pentaphylacaceae",
          "Pentaphylacaceae",
          "Begoniaceae",
          "Bixaceae",
          "Tamaricaceae",
          "Lycopodiaceae",
          "Acanthaceae",
          "Solanaceae",
          "Solanaceae",
          "Solanaceae",
          "Solanaceae",
          "Solanaceae",
          "Solanaceae",
          "Solanaceae",
          "Solanaceae",
          "Solanaceae",
          "Solanaceae",
          "Plantaginaceae",
          "Plantaginaceae",
          "Plantaginaceae",
          "Plantaginaceae",
          "Plantaginaceae",
          "Plantaginaceae",
          "Plantaginaceae",
          "Rutaceae",
          "Rutaceae",
          "Asteraceae",
          "Asteraceae",
          "Asteraceae",
          "Asteraceae",
          "Asteraceae",
          "Asteraceae",
          "Lythraceae",
          "Lythraceae",
          "Lythraceae",
          "Lythraceae",
          "Lythraceae",
          "Lythraceae",
          "Lythraceae",
          "Lythraceae",
          "Lythraceae",
          "Lythraceae",
          "Lythraceae",
          "Lythraceae",
          "Lythraceae",
          "Lythraceae",
          "Lythraceae",
          "Lythraceae",
          "Asteraceae",
          "Asteraceae",
          "Asteraceae",
          "Asteraceae",
          "Asteraceae",
          "Asteraceae",
          "Asteraceae",
          "Asteraceae",
          "Asteraceae",
          "Asteraceae",
          "Asteraceae",
          "Asteraceae",
          "Asteraceae",
          "Asteraceae",
          "Asteraceae",
          "Asteraceae",
          "Asteraceae",
          "Asteraceae",
          "Asteraceae",
          "Asteraceae",
          "Asteraceae",
          "Asteraceae",
          "Asteraceae",
          "Asteraceae",
          "Apocynaceae",
          "Apocynaceae",
          "Apocynaceae",
          "Apocynaceae",
          "Apocynaceae",
          "Apocynaceae",
          "Apocynaceae",
          "Apocynaceae",
          "Apocynaceae",
          "Apocynaceae",
          "Apocynaceae",
          "Apocynaceae",
          "Apocynaceae",
          "Apocynaceae",
          "Apocynaceae",
          "Apocynaceae",
          "Lamiaceae",
          "Lamiaceae",
          "Lamiaceae",
          "Lamiaceae",
          "Lamiaceae",
          "Lamiaceae",
          "Lamiaceae",
          "Lamiaceae",
          "Lamiaceae",
          "Lamiaceae",
          "Lamiaceae",
          "Lamiaceae",
          "Lamiaceae",
          "Lamiaceae",
          "Lamiaceae",
          "Lamiaceae",
          "Lamiaceae",
          "Lamiaceae",
          "Lythraceae",
          "Lythraceae",
          "Lythraceae",
          "Lythraceae",
          "Lythraceae",
          "Lythraceae",
          "Lythraceae",
          "Lythraceae",
          "Lythraceae",
          "Lythraceae",
          "Lythraceae",
          "Lythraceae",
          "Lythraceae",
          "Lythraceae",
          "Lythraceae",
          "Lythraceae",
          "Rutaceae",
          "Rutaceae",
          "Simaroubaceae",
          "Simaroubaceae",
          "Simaroubaceae",
          "Simaroubaceae",
          "Simaroubaceae",
          "Simaroubaceae",
          "Simaroubaceae",
          "Simaroubaceae",
          "Simaroubaceae",
          "Simaroubaceae",
          "Simaroubaceae",
          "Simaroubaceae",
          "Simaroubaceae",
          "Simaroubaceae",
          "Simaroubaceae",
          "Simaroubaceae",
          "Simaroubaceae",
          "Simaroubaceae",
          "Simaroubaceae",
          "Simaroubaceae",
          "Simaroubaceae",
          "Simaroubaceae",
          "Simaroubaceae",
          "Simaroubaceae",
          "Simaroubaceae",
          "Simaroubaceae",
          "Simaroubaceae",
          "Simaroubaceae",
          "Simaroubaceae",
          "Simaroubaceae",
          "Simaroubaceae",
          "Simaroubaceae",
          "Simaroubaceae",
          "Simaroubaceae",
          "Simaroubaceae",
          "Simaroubaceae",
          "Simaroubaceae",
          "Simaroubaceae",
          "Simaroubaceae",
          "Simaroubaceae",
          "Simaroubaceae",
          "Simaroubaceae",
          "Simaroubaceae",
          "Simaroubaceae",
          "Bixaceae",
          "Bixaceae"
         ],
         "legendgroup": "2",
         "marker": {
          "color": [
           2,
           2,
           2,
           2,
           2,
           2,
           2,
           2,
           2,
           2,
           2,
           2,
           2,
           2,
           2,
           2,
           2,
           2,
           2,
           2,
           2,
           2,
           2,
           2,
           2,
           2,
           2,
           2,
           2,
           2,
           2,
           2,
           2,
           2,
           2,
           2,
           2,
           2,
           2,
           2,
           2,
           2,
           2,
           2,
           2,
           2,
           2,
           2,
           2,
           2,
           2,
           2,
           2,
           2,
           2,
           2,
           2,
           2,
           2,
           2,
           2,
           2,
           2,
           2,
           2,
           2,
           2,
           2,
           2,
           2,
           2,
           2,
           2,
           2,
           2,
           2,
           2,
           2,
           2,
           2,
           2,
           2,
           2,
           2,
           2,
           2,
           2,
           2,
           2,
           2,
           2,
           2,
           2,
           2,
           2,
           2,
           2,
           2,
           2,
           2,
           2,
           2,
           2,
           2,
           2,
           2,
           2,
           2,
           2,
           2,
           2,
           2,
           2,
           2,
           2,
           2,
           2,
           2,
           2,
           2,
           2,
           2,
           2,
           2,
           2,
           2,
           2,
           2,
           2,
           2,
           2,
           2,
           2,
           2,
           2,
           2,
           2,
           2,
           2,
           2,
           2,
           2,
           2,
           2,
           2,
           2,
           2,
           2,
           2,
           2,
           2,
           2,
           2,
           2,
           2,
           2,
           2,
           2,
           2,
           2,
           2,
           2,
           2,
           2,
           2,
           2,
           2,
           2,
           2,
           2,
           2,
           2,
           2,
           2,
           2,
           2,
           2,
           2,
           2,
           2,
           2,
           2,
           2,
           2,
           2,
           2,
           2,
           2,
           2,
           2,
           2,
           2,
           2,
           2,
           2,
           2,
           2,
           2,
           2,
           2,
           2,
           2,
           2,
           2,
           2,
           2,
           2,
           2,
           2,
           2,
           2,
           2,
           2,
           2,
           2,
           2,
           2,
           2,
           2,
           2,
           2,
           2,
           2,
           2,
           2,
           2,
           2,
           2,
           2,
           2,
           2,
           2,
           2,
           2,
           2,
           2,
           2,
           2,
           2,
           2,
           2,
           2,
           2,
           2,
           2,
           2,
           2,
           2,
           2,
           2,
           2,
           2,
           2,
           2,
           2,
           2,
           2,
           2,
           2,
           2,
           2,
           2,
           2,
           2,
           2,
           2,
           2,
           2,
           2,
           2,
           2,
           2,
           2,
           2,
           2,
           2,
           2,
           2,
           2,
           2,
           2,
           2,
           2,
           2,
           2,
           2,
           2,
           2,
           2,
           2,
           2,
           2,
           2,
           2,
           2,
           2,
           2,
           2,
           2,
           2,
           2,
           2,
           2,
           2,
           2,
           2,
           2,
           2,
           2,
           2,
           2,
           2,
           2,
           2,
           2,
           2,
           2,
           2,
           2,
           2,
           2,
           2,
           2,
           2,
           2,
           2,
           2,
           2,
           2,
           2,
           2,
           2,
           2,
           2,
           2,
           2,
           2,
           2,
           2,
           2,
           2,
           2,
           2,
           2,
           2,
           2,
           2,
           2,
           2,
           2,
           2,
           2,
           2,
           2,
           2,
           2,
           2,
           2,
           2,
           2,
           2,
           2,
           2,
           2,
           2,
           2,
           2,
           2,
           2,
           2,
           2,
           2,
           2,
           2,
           2,
           2,
           2,
           2,
           2,
           2
          ],
          "coloraxis": "coloraxis",
          "symbol": "diamond"
         },
         "mode": "markers",
         "name": "2",
         "scene": "scene",
         "showlegend": true,
         "type": "scatter3d",
         "x": [
          0.2218634417252794,
          0.23420493790850422,
          0.23420493790850422,
          0.11130142233954352,
          0.019830883761075623,
          0.023243542980064247,
          -0.06862422809263528,
          0.021425471597868916,
          0.27967987307484876,
          0.597803571718902,
          0.597803571718902,
          0.08091974779650511,
          0.004327404184904297,
          6.558362326772763e-05,
          0.004327404184904297,
          6.558362326772763e-05,
          0.4267938291538075,
          0.3910638858602318,
          0.2591853397453057,
          0.32512018617176935,
          0.5212819067701783,
          -0.02009455823125453,
          0.28282661354555894,
          0.28282661354555894,
          0.6913035907180078,
          0.8601741054171491,
          0.9033010290495814,
          0.6913035907180078,
          0.8601741054171491,
          0.9033010290495814,
          0.31280920294251563,
          0.19761815633723212,
          0.24551696870676964,
          0.30712195104177087,
          0.30712195104177087,
          0.1760288087835804,
          0.38396870214343526,
          0.7027884089648754,
          0.33103108551712523,
          0.5614520676733781,
          0.3595616216932291,
          0.6417978169847871,
          0.21356657470250057,
          0.4233552427890345,
          0.3820241134036537,
          0.012510781392127445,
          0.15268365571497852,
          0.6071143920836181,
          0.6071143920836181,
          0.8228610666260165,
          0.8228610666260165,
          0.12434038144951359,
          0.07018048387265574,
          -0.14706133846905467,
          -0.06092566349678001,
          -0.14706133846905467,
          -0.10899147529330708,
          -0.10899147529330708,
          -0.10899147529330708,
          0.17950724037440366,
          -0.10249879987917508,
          0.12059710710693405,
          0.2120641357708816,
          0.12059710710693405,
          0.3024361655891843,
          0.23342606396760585,
          0.9234365013830316,
          0.8544263997614528,
          0.8766050244438591,
          1.170839842315965,
          1.3674570917861928,
          0.6090232621973977,
          0.6090232621973977,
          0.6893282440289764,
          3.8507533807048797,
          -0.7892500017018137,
          -1.085663287969947,
          -1.088012298268022,
          -0.6334605605565905,
          -0.4477875118270349,
          -0.7088158194112659,
          -0.7568551929052159,
          -0.5538952601581465,
          -0.77623882349733,
          -1.0674204872217326,
          -0.7044562252267051,
          -1.4419626144346698,
          -1.4419626144346698,
          -1.4419626144346698,
          -0.47772611620081856,
          -0.7555065005546446,
          -1.3757578425915917,
          -2.3897470078831384,
          -1.3802084733782654,
          -1.7425227859870036,
          -1.7425227859870036,
          -1.746973416773678,
          -1.7425227859870036,
          -1.746973416773678,
          -1.746973416773678,
          -1.4632532174623731,
          -1.8691238308842444,
          -1.7850390188848224,
          -0.15501020997647785,
          -0.19668362076666737,
          -0.2711429312922119,
          -1.2411283492988108,
          -1.2612133120999793,
          -1.1673567967527836,
          -1.0967592825049906,
          -0.9539583026611959,
          -1.1594424269674954,
          -0.9110762749438464,
          -0.7881703058839309,
          -0.7881703058839309,
          -0.5266826495420593,
          -0.3960291394470191,
          -0.3746618791519177,
          -0.2593242534069834,
          -0.47090735302117787,
          -0.38086028211247597,
          -1.6174762126959084,
          -1.6479773360635892,
          -2.004837489484835,
          -1.752013379566001,
          -2.102427123816266,
          -1.7680651728102492,
          -2.4316128684532052,
          -0.9334255595022674,
          -1.594096015390049,
          -1.4616467863001832,
          -1.562272143156376,
          -1.4311241148043663,
          -1.2665797388167657,
          -1.3947190852588638,
          -0.7270544582841448,
          -0.7706541124800639,
          -0.5117750070628797,
          -2.14805686461996,
          -1.8369026892930354,
          -1.7614164770706513,
          -1.5186214919377083,
          -1.5692166538347556,
          -1.55615476509968,
          -0.38360646099102624,
          -0.311789076664799,
          -0.38360646099102624,
          -1.99138390401359,
          -2.0510703422775856,
          -1.492928834775644,
          -1.1298493617470504,
          -0.7646593858779412,
          -0.5705741493521657,
          -0.6514026855728557,
          -0.6615212596166979,
          -1.615115155367791,
          -1.831283876134426,
          -1.7975122167074682,
          -2.5519186069843567,
          -2.6258646386278968,
          -1.6755262868714789,
          -1.8897208440964173,
          -2.056862581088417,
          -1.7751866279613477,
          -1.8228903965373737,
          -1.8687818771299776,
          -1.9762847673947483,
          -1.7564431597159815,
          -1.4530429010361712,
          -1.707998429487308,
          -1.6932377567411128,
          -1.3807320916641854,
          -1.4927228096488736,
          -2.485084824832158,
          -1.5968270089076078,
          -1.573151273645732,
          -1.6450938661838088,
          -1.5989683721201788,
          -1.6143395533834377,
          -1.6538831728626837,
          -1.6560552288532178,
          -1.590334261185436,
          -1.6143811579406693,
          -1.5653685118474248,
          -1.5474373653575701,
          -2.1048526049415877,
          -1.588214230897671,
          -1.5885116034902964,
          -1.3206230777176802,
          -2.07495828869631,
          -0.9780464361640607,
          -0.6545690526099573,
          -0.15008856895888198,
          -0.34880526384422794,
          -0.08112146226682236,
          -1.2283502199170113,
          -1.2283502199170113,
          -1.2283502199170113,
          -1.1754964548440114,
          -1.131285427170513,
          -1.6046633399357162,
          -1.5827992410192626,
          -2.254373260093773,
          -2.254373260093773,
          -1.0679922963654167,
          -1.3252256501832578,
          -1.3252256501832578,
          -1.7494347893946212,
          -1.742720354809164,
          -1.1620686199812122,
          -1.1985383528389935,
          -1.4114325164453103,
          -0.5762570962967554,
          -2.251143721044951,
          -1.7156835110968631,
          3.8507533807048797,
          -2.1870901403855223,
          -1.8712585662883552,
          -2.0913602231351667,
          -2.241934075856294,
          -1.7313623933578985,
          -1.5376579149706804,
          -1.2877042824482203,
          -1.3792530208531515,
          -1.2078919546139426,
          -0.6579404135303779,
          -0.8160190441413249,
          -0.5732936678720782,
          -0.5793128910380411,
          -0.5640822015059045,
          -0.56099035863877,
          -0.7832042475753196,
          -0.49371192168342387,
          -0.9392682796273429,
          -1.3230820992639114,
          -1.3406220313352024,
          -0.43240662660104157,
          -0.37728841424501414,
          -0.44097513038760183,
          -0.44097513038760183,
          -0.44097513038760183,
          -0.20097254831822806,
          -0.15971436177489887,
          -0.22696633670852473,
          -0.5590608839352342,
          -0.22696633670852473,
          -0.38456782145396834,
          -0.5279979104237895,
          -0.3218632715997078,
          -0.4580551447442519,
          -0.5073586150779674,
          -0.5323400535185708,
          -0.5823359251992491,
          -0.35910197857808396,
          -0.3700862992409387,
          -0.4114174286263195,
          -0.4114174286263195,
          -0.4114174286263195,
          -2.210808860955582,
          -1.746083377918003,
          -1.746083377918003,
          -1.7319873155877215,
          -1.7319873155877215,
          -1.7319873155877215,
          -1.7319873155877215,
          -1.3858123079134792,
          -1.0509975637659057,
          -1.471055002392807,
          -1.4262665833990464,
          -1.2149525739740688,
          -1.219947971676979,
          -1.2149525739740688,
          -1.4258437682404572,
          -0.9771085534537675,
          -0.9771085534537675,
          -1.1495947944166276,
          -1.4220886273895217,
          -1.0343081881969665,
          -1.1673322455647224,
          -1.0185311505556285,
          -1.0163474166505524,
          -1.039581368752072,
          -1.0638552353772803,
          -1.4626928834345283,
          -1.0602654790210804,
          -1.1529402883026758,
          -1.4060900145135038,
          -0.95240665282149,
          -0.9876608509653808,
          -0.95240665282149,
          -1.0638552353772803,
          -1.4626928834345283,
          -1.0602654790210804,
          -1.1529402883026758,
          -1.4060900145135038,
          -0.95240665282149,
          -0.9876608509653808,
          -0.95240665282149,
          -1.0760687497092905,
          -1.099971189591133,
          -1.1139580918832686,
          -1.194247789211161,
          -1.3484354166021233,
          -1.8439239860923025,
          -1.714308333359348,
          -1.835508537913015,
          -1.8737515396134914,
          -1.8927495618935566,
          -1.9612134392119585,
          -2.012630084882504,
          -2.012630084882504,
          -2.1547739173316365,
          -2.215725854776374,
          -1.6208927675208984,
          -1.8871929340161957,
          -1.9363361853962444,
          -0.15971436177489887,
          -0.22696633670852473,
          -0.5590608839352342,
          -0.22696633670852473,
          -0.38456782145396834,
          -0.5279979104237895,
          -0.3218632715997078,
          -0.4580551447442519,
          -0.5073586150779674,
          -0.5323400535185708,
          -0.5823359251992491,
          -0.35910197857808396,
          -0.3700862992409387,
          -0.4114174286263195,
          -0.4114174286263195,
          -0.4114174286263195,
          -1.3230820992639114,
          -1.3406220313352024,
          -1.8309488501756996,
          -1.5595058570499527,
          -0.8450273838821669,
          -0.8450273838821669,
          -0.8450273838821669,
          -0.8697920799190199,
          -0.8379563501273121,
          -0.8358686919799702,
          -0.8160429150344566,
          -0.8519047699763318,
          -0.8358686919799702,
          -0.9595963024978621,
          -0.9517306763566649,
          -0.8484044548486529,
          -0.8789302584932509,
          -0.8566153397178379,
          -0.8295524812608255,
          -0.8519047699763318,
          -0.8789302584932509,
          -0.8789302584932509,
          -0.8789302584932509,
          -0.8789302584932509,
          -0.8736969123730597,
          -0.8789302584932509,
          -0.8789302584932509,
          -0.8223188945758126,
          -1.283978514620954,
          -0.9774444884700428,
          -1.3709188376767336,
          -1.009809910995958,
          -1.04982001534093,
          -1.4703087341945185,
          -1.22870167089814,
          -1.3926207213323551,
          -1.48708130819326,
          -1.4168303017601065,
          -1.4489357989974443,
          -1.0668244904396798,
          -0.9890382697763693,
          -0.92847549860351,
          -1.412858788500125,
          -0.9959776548528074,
          -1.4076598762619317,
          -1.1589980489650413,
          -1.5711902346649345,
          -1.4571892229472414
         ],
         "y": [
          4.236388965820089,
          4.715104249007866,
          4.715104249007866,
          3.691684119718171,
          3.5009356064639348,
          3.5073296768717914,
          3.8387978165555507,
          3.4616973053892455,
          4.659936500796798,
          5.280536559797465,
          5.280536559797465,
          4.184844273541173,
          3.628621273751765,
          3.621001241538943,
          3.628621273751765,
          3.621001241538943,
          4.364985215917241,
          4.314652007428058,
          4.039950189690316,
          4.162408305357569,
          5.257221113254539,
          4.554243302045368,
          4.561867773000594,
          4.561867773000594,
          6.864252874668914,
          6.174806088858134,
          6.2540713336817815,
          6.864252874668914,
          6.174806088858134,
          6.2540713336817815,
          4.6102071030238525,
          4.131125778427629,
          4.220445111296053,
          4.1060394908787945,
          4.1060394908787945,
          3.521269483956218,
          4.118322776508649,
          5.711075434900053,
          5.877671122138498,
          4.778959576995095,
          4.284929919560273,
          4.928412532397173,
          4.011434701832871,
          4.423090328620954,
          4.429308021006821,
          4.046811539263366,
          4.470035235156457,
          4.874379570295996,
          4.874379570295996,
          5.49882507191148,
          5.49882507191148,
          3.6352660766485254,
          3.5356534606473273,
          3.514400028356359,
          3.682454952296732,
          3.514400028356359,
          3.601503416888292,
          3.601503416888292,
          3.601503416888292,
          3.694232954862184,
          3.600476886851168,
          3.561983667310083,
          3.781298080870816,
          3.561983667310083,
          2.9444945842447514,
          2.8001969528351527,
          2.081568303309977,
          1.9372706719003794,
          2.5415208487977052,
          3.193071322761744,
          3.0947155058262403,
          5.971667213171323,
          5.971667213171323,
          5.246125984393116,
          3.947813967410351,
          1.7293112299974467,
          1.5921535093387906,
          1.1633746910594214,
          1.638927995631217,
          1.9880658186249853,
          1.4971079657557964,
          1.4130469849263645,
          1.8483629403018307,
          1.3224382878199672,
          1.299329067305929,
          1.5148998536607277,
          0.6720090504603826,
          0.6720090504603826,
          0.6720090504603826,
          3.375032178884568,
          3.4342799403771243,
          4.674380931851542,
          1.688932184880603,
          4.849837450430256,
          3.161558665969895,
          3.161558665969895,
          3.3370151845486107,
          3.161558665969895,
          3.3370151845486107,
          3.3370151845486107,
          3.3427747962527428,
          4.034806793469318,
          3.1952029044707335,
          3.433145032110837,
          3.359111265529255,
          3.2060430298540936,
          3.171234168127687,
          3.133861441673799,
          3.3054500484786384,
          1.5145615573368894,
          1.2838726028160263,
          1.2796304394144626,
          1.3631622592877124,
          1.6696015232312051,
          1.6696015232312051,
          4.089950675950083,
          3.590212248971266,
          3.563330050606464,
          3.2374061575023165,
          2.7550306258951567,
          3.501996847298781,
          2.6404743792819882,
          2.5107498730592845,
          2.167980679834287,
          2.1915820185223103,
          1.9354955053590914,
          2.1709190810458585,
          0.5356018433181873,
          -0.13131269507724416,
          2.819198080658602,
          3.0708734507325697,
          2.8776726913872253,
          3.3170884421844167,
          3.619249323327891,
          3.3849672348565085,
          2.5569296410153033,
          3.3463002563510376,
          3.016415482566356,
          2.3014236380462916,
          1.3552286152327977,
          1.4938468875169584,
          1.1149176267075251,
          0.842054044063093,
          0.8669522688875061,
          2.6047387060094986,
          3.1609397628845635,
          2.6047387060094986,
          1.6218078747902087,
          1.493143355514753,
          2.1255397091146904,
          1.7744421149866891,
          2.0045095281647396,
          2.045756762852526,
          1.8825808999241258,
          1.863988807151172,
          0.5899767636821993,
          0.36511738402354943,
          0.41153657885926903,
          0.4891321893938442,
          0.6591940810165793,
          2.6436093947524673,
          2.2018907253502498,
          2.650055774130791,
          0.9643382739185192,
          0.8752369920702304,
          0.8751682192921381,
          2.2246255420098215,
          2.1920790181420675,
          2.799054336183832,
          2.221564031450493,
          2.2478519747101413,
          2.8551253895351096,
          2.6827214501313628,
          0.6220972815475208,
          3.0268121818307034,
          3.2733799583427485,
          2.249871275995237,
          2.409265380637316,
          2.3811260101687672,
          2.2339653743056522,
          2.2295729259948738,
          2.425162097197182,
          2.834008901829076,
          2.339885195703362,
          2.3743042563818517,
          2.604180216674834,
          2.302946064271977,
          2.2973274143858444,
          0.34733617753252766,
          0.8002593143189458,
          2.5800883392083316,
          1.8887466205973256,
          4.905088283133721,
          5.812637082182078,
          4.861542233865934,
          6.015825935508627,
          6.015825935508627,
          6.015825935508627,
          3.93722349609052,
          3.6754097900619738,
          3.966232196777326,
          4.34212267389343,
          2.656824331035351,
          2.656824331035351,
          1.2570033766825583,
          0.37138268056128826,
          0.37138268056128826,
          1.291242326792439,
          1.3407554351829745,
          3.628294234635702,
          3.494476645521777,
          2.984001515653724,
          2.262804120095165,
          1.9027056787998373,
          1.7277347109385044,
          3.947813967410351,
          0.31187317408146664,
          2.6376414720833266,
          1.1958994978348454,
          0.8960037337790328,
          2.12440353960315,
          1.9942701037555788,
          1.307609147452224,
          1.0901335259826244,
          1.241940336923531,
          1.925281642540653,
          1.6179061112312105,
          2.404917057594123,
          2.4537848568524634,
          2.9477768323014577,
          2.9536056217264077,
          2.475426672728808,
          2.5899361381590444,
          2.1093467542786652,
          2.6289719089936,
          0.27628674093473377,
          2.3489469348536227,
          2.4497498882081516,
          2.3331248659252943,
          2.3331248659252943,
          2.3331248659252943,
          3.255854985733376,
          3.7255845446823894,
          3.4539844804416773,
          2.8581628719927554,
          3.4539844804416773,
          3.2175987238711565,
          2.3633404608377453,
          2.850091969530887,
          2.57170913618385,
          2.3937605185882727,
          2.355882349975455,
          2.843388889797554,
          3.438891163214536,
          2.699678609303024,
          2.70589630168889,
          2.70589630168889,
          2.70589630168889,
          0.5713852819078932,
          1.1423183407957231,
          1.142318340795725,
          1.1684559477380867,
          1.1684559477380867,
          1.1684559477380867,
          1.1684559477380867,
          0.6152533655716779,
          0.9117294352127415,
          0.4531394473655349,
          0.5152070872582057,
          0.5292179878114208,
          0.5201694744905757,
          0.5292179878114208,
          0.5159616686614215,
          1.0650370408864165,
          1.0650370408864165,
          0.7185600590714362,
          0.6506820843183639,
          0.9604725908643545,
          1.3077377891837934,
          0.9615882608644943,
          0.9527690245000672,
          0.9227364179932638,
          0.733668597749293,
          0.32874294328892023,
          0.7290629846189587,
          0.510375865069144,
          0.5581385634462668,
          1.0489286318442086,
          0.9023208390544378,
          1.0489286318442086,
          0.733668597749293,
          0.32874294328892023,
          0.7290629846189587,
          0.510375865069144,
          0.5581385634462668,
          1.0489286318442086,
          0.9023208390544378,
          1.0489286318442086,
          1.0235327703931287,
          2.300360646694959,
          0.8523627542663127,
          0.6301445228962959,
          0.31672582738801525,
          1.0273198489015583,
          1.2645041312343772,
          1.0429153851973976,
          1.4990290962479835,
          0.9106419830881666,
          0.8206336963671991,
          0.6156122873008171,
          0.6156122873008171,
          0.859370837416067,
          0.6525645572764736,
          1.558988345006863,
          0.8455063124272291,
          0.7562357963605159,
          3.7255845446823894,
          3.4539844804416773,
          2.8581628719927554,
          3.4539844804416773,
          3.2175987238711565,
          2.3633404608377453,
          2.850091969530887,
          2.57170913618385,
          2.3937605185882727,
          2.355882349975455,
          2.843388889797554,
          3.438891163214536,
          2.699678609303024,
          2.70589630168889,
          2.70589630168889,
          2.70589630168889,
          2.6289719089936,
          0.27628674093473377,
          2.5584419417893782,
          2.3130842215614176,
          2.1373767639023225,
          2.1373767639023225,
          2.1373767639023225,
          2.092083431338609,
          2.1516505848183765,
          2.15142710451128,
          2.1893433678077683,
          2.1238714182901988,
          2.15142710451128,
          1.9299423442780512,
          1.9435385683221515,
          2.130347495226895,
          2.074727326930047,
          2.1168658877479123,
          2.164737822286161,
          2.1238714182901988,
          2.074727326930047,
          2.074727326930047,
          2.074727326930047,
          2.074727326930047,
          2.0847451210656573,
          2.074727326930047,
          2.074727326930047,
          2.179346737190636,
          1.1872724644687302,
          1.2314616269433478,
          0.8199492821733503,
          1.139473933485874,
          1.0684352236466785,
          0.6178012610186686,
          1.2677794706447567,
          0.7835131642264499,
          0.668693512531457,
          0.8053693778121889,
          0.67664311956056,
          1.0518439739954997,
          1.1539048598410222,
          1.2896844902337399,
          0.821872268925029,
          1.2087481535532303,
          1.1890222049940964,
          1.40059064326882,
          0.32634136082647625,
          0.696992077294739
         ],
         "z": [
          1.234984690083157,
          0.8938488068847784,
          0.8938488068847784,
          2.0865041190449234,
          2.2556193377275826,
          2.2502518653566757,
          2.214318983699555,
          2.2363102628295537,
          1.2685729065014615,
          0.6111229767243699,
          0.6111229767243699,
          1.7141875878571629,
          2.0220106641203506,
          2.026350645812332,
          2.0220106641203506,
          2.026350645812332,
          1.3413069297475857,
          1.3647130186403056,
          1.5503768744601438,
          1.4765063461598265,
          0.8788150330485941,
          1.5365209825568198,
          1.6010212855790285,
          1.6010212855790285,
          0.35894472580332537,
          0.5567299146040124,
          0.5087358316774429,
          0.35894472580332537,
          0.5567299146040124,
          0.5087358316774429,
          1.5530157564582125,
          1.6278695959911322,
          1.5735653009700536,
          2.2078137274733822,
          2.2078137274733822,
          2.2295599295937456,
          1.9121585654877535,
          0.8547427261432092,
          1.2254111578866502,
          1.4389674650257895,
          1.8294040056883543,
          1.3934160030813056,
          1.1224492048693193,
          1.339767328255408,
          1.428555501050609,
          1.255754960146563,
          1.6044849427730767,
          0.4861969704798253,
          0.4861969704798253,
          0.620192777877173,
          0.620192777877173,
          1.4438925718884354,
          1.5038567211833687,
          1.4478169328745656,
          1.3412587720212885,
          1.4478169328745656,
          1.3938523420763276,
          1.3938523420763276,
          1.3938523420763276,
          1.0845724366655647,
          1.3939171709888618,
          1.1664159317373644,
          0.9972357189434808,
          1.1664159317373644,
          2.1229559174340613,
          2.1725484954506644,
          1.6798788199848735,
          1.729471398001477,
          1.1653598801318001,
          0.7814275208135223,
          0.8952498953652219,
          -1.3356116023662525,
          -1.3356116023662525,
          -0.5803284949562134,
          -3.0020692896637478,
          -0.3715638009170144,
          -0.2540143446036344,
          -0.14934925689814435,
          -0.7938628940355917,
          -1.0181203067362108,
          -1.6290435880771466,
          -1.6039604121623872,
          -1.9376111882928246,
          -1.5666008381344443,
          -1.3189220819725203,
          -1.6838254472374081,
          1.4903767286402785,
          1.4903767286402785,
          1.4903767286402785,
          -1.2444569916728352,
          -0.7328872382320324,
          -2.503827462426972,
          -0.7854999758014681,
          -3.3916707825198986,
          -1.7973617208741228,
          -1.7973617208741228,
          -2.68520504096705,
          -1.7973617208741228,
          -2.68520504096705,
          -2.68520504096705,
          -1.9008932874133502,
          -2.3047146303835877,
          -1.5647490658734418,
          -3.422463221277812,
          -3.3780027835049973,
          -3.2835287144460183,
          -3.7887726768457948,
          -3.765635156852265,
          -3.8685229262139824,
          -0.39487187497021525,
          -0.5119550574833842,
          -0.4462283184894414,
          -0.5440637326025081,
          -0.7996742359901922,
          -0.7996742359901922,
          -1.1206622863768818,
          -1.2886552409867347,
          -1.1931784002437276,
          -0.8877047018702068,
          -0.5620621281436752,
          -1.2580065203695905,
          -0.9552823155125002,
          -0.9750101952183062,
          -0.622410473320335,
          -0.6639608871867155,
          -0.4534217544457359,
          -0.6619790410617574,
          -2.876020345188322,
          -1.2923097812662383,
          -1.3688262094979884,
          -1.5246440213503685,
          -1.4034583893103345,
          -2.385830529553348,
          -2.564465561528912,
          -2.4270549782586235,
          -0.565449526112729,
          -0.5757093941086007,
          -0.7720444260971654,
          -1.4316496937649295,
          -2.0538606206383143,
          -2.1374131077196035,
          -1.1988654131676408,
          -1.1542805167374175,
          -1.1668353159832354,
          -2.428759431704549,
          -2.855547590538117,
          -2.428759431704549,
          -1.0737394974589938,
          -0.9711658654589785,
          -1.645281693889963,
          -0.8518080926548315,
          -1.2368595519874868,
          -1.6585262174278546,
          -1.5510345092925304,
          -1.5398149384985527,
          -1.0018882008344765,
          -0.8118771486691252,
          -0.8088829586098757,
          -1.3591027322935085,
          -1.5400976220470153,
          -0.8085986630118898,
          -0.22313072805792555,
          -0.5615642696283262,
          0.30376511703146886,
          0.35862331478926707,
          0.2755911232483233,
          -1.082438481909029,
          -1.3757581093381803,
          -1.7803438573307948,
          -1.3708318457206417,
          -1.3864884164495734,
          -1.7791090930599176,
          -4.07627478615391,
          -2.2328987289267506,
          -4.404868900343682,
          -4.384940513894867,
          -2.8566267386057924,
          -3.012768506732907,
          -2.9959742317891727,
          -2.8472294709660946,
          -2.8441615008059435,
          -3.0222541942977608,
          -2.578072851569561,
          -2.166983009027432,
          -2.1893027463114336,
          -2.564885474560027,
          -2.14966788927092,
          -2.141640321224848,
          0.7293197956930744,
          0.34757588250255944,
          -2.37362968264848,
          -1.3340055794917187,
          -5.8359468605820135,
          -6.97402397967503,
          -5.659190768432635,
          -7.685328342152799,
          -7.685328342152799,
          -7.685328342152799,
          -2.2937275962031873,
          -2.053086280400971,
          -1.9212453155899816,
          -2.862452865317154,
          -0.8890861533943457,
          -0.8890861533943457,
          -0.890648653424924,
          0.958239702712767,
          0.958239702712767,
          -0.6601477802019445,
          -0.7335263561581011,
          -2.261829237163383,
          -2.2983663237164893,
          -1.9094801963468313,
          -0.8547078232316522,
          -0.836526573316564,
          -0.850909080039425,
          -3.0020692896637478,
          -2.2848807958463015,
          -3.1026497143527334,
          -1.484798396250607,
          -1.338456705545497,
          -1.9783674853439936,
          -2.1078908071872915,
          -0.9555371088457109,
          -0.8086482767354973,
          -0.8044736740011643,
          -1.593184045520363,
          -1.3859763762356854,
          -2.3444449153636464,
          -2.3950900504915955,
          -2.7539590631198942,
          -2.7576053903541364,
          -2.1005953721163797,
          -2.325373943429842,
          -2.2412860687440532,
          -1.8769742715948512,
          0.09980134173524774,
          -2.4571595965195474,
          -2.517488117138945,
          -2.4476361460866807,
          -2.4476361460866807,
          -2.4476361460866807,
          -3.1657433400361037,
          -3.370408818713642,
          -3.1674639467221697,
          -2.8407991745712633,
          -3.1674639467221697,
          -3.1023109695636277,
          -2.3443679707368705,
          -2.686389059714859,
          -2.376364652968645,
          -2.354777433148599,
          -2.340273300304726,
          -2.447935920285502,
          -3.1927473736373133,
          -2.5876702491206207,
          -2.498882076325421,
          -2.498882076325421,
          -2.498882076325421,
          -1.7941713713810865,
          -2.27256280771947,
          -2.2725628077194684,
          -2.2885781842730104,
          -2.2885781842730104,
          -2.2885781842730104,
          -2.2885781842730104,
          -1.6108486013331234,
          -1.7365600879857956,
          -1.5104732192974113,
          -1.3874642372858546,
          -1.4505189327939427,
          -1.445404643269217,
          -1.4505189327939427,
          -1.38794583017389,
          -1.8487245030460409,
          -1.8487245030460409,
          -1.6018516526965014,
          -1.3045568034979165,
          -1.7820831952912115,
          -2.0994246595793773,
          -1.7434015565966972,
          -1.7283940663322468,
          -1.7197531573872369,
          -1.332874019810376,
          -1.1485230450679107,
          -1.2929672504098386,
          -1.1400235103721177,
          -0.9959071287784227,
          -1.4934134066168785,
          -1.4974340866163633,
          -1.4934134066168785,
          -1.332874019810376,
          -1.1485230450679107,
          -1.2929672504098386,
          -1.1400235103721177,
          -0.9959071287784227,
          -1.4934134066168785,
          -1.4974340866163633,
          -1.4934134066168785,
          -2.0491701610321544,
          -3.6041388664836713,
          -2.029026731396911,
          -1.8436972248020704,
          -1.6327720293170527,
          -2.526787006176008,
          -2.6703572252380403,
          -2.5363161089200044,
          -2.896443095428975,
          -2.429555250387972,
          -2.268629819061758,
          -2.226472276318759,
          -2.226472276318759,
          -2.4957565618333097,
          -2.549293771200244,
          -2.79303001329274,
          -2.34880669128454,
          -2.296732070229683,
          -3.370408818713642,
          -3.1674639467221697,
          -2.8407991745712633,
          -3.1674639467221697,
          -3.1023109695636277,
          -2.3443679707368705,
          -2.686389059714859,
          -2.376364652968645,
          -2.354777433148599,
          -2.340273300304726,
          -2.447935920285502,
          -3.1927473736373133,
          -2.5876702491206207,
          -2.498882076325421,
          -2.498882076325421,
          -2.498882076325421,
          -1.8769742715948512,
          0.09980134173524774,
          -2.778470092978156,
          -3.0968405398049446,
          -2.61492873984299,
          -2.61492873984299,
          -2.61492873984299,
          -2.588241134454464,
          -2.6243822491013504,
          -2.623153468512045,
          -2.6467499929311233,
          -2.607583207719987,
          -2.623153468512045,
          -2.4969476345632136,
          -2.5041251806719944,
          -2.6112888745780514,
          -2.5778632353102138,
          -2.6030969088170535,
          -2.630718105791266,
          -2.607583207719987,
          -2.5778632353102138,
          -2.5778632353102138,
          -2.5778632353102138,
          -2.5778632353102138,
          -2.5846132606088448,
          -2.5778632353102138,
          -2.5778632353102138,
          -2.6415683194610127,
          -1.6161235829396594,
          -1.8678377784842983,
          -1.8509751598650799,
          -1.7990252155763484,
          -1.7584271438650334,
          -1.361990392988849,
          -1.6525734334201148,
          -1.8303857879593086,
          -1.1357672344629224,
          -1.2409137650679456,
          -1.48896573440828,
          -1.706487607720291,
          -1.7096538249793147,
          -1.82825909949335,
          -1.2614467424027782,
          -1.8122256891808073,
          -1.730904168588389,
          -1.7214036781451592,
          -1.0205934341143688,
          -0.9710313593584827
         ]
        },
        {
         "customdata": [
          [
           "Hierba"
          ],
          [
           "Hierba"
          ],
          [
           "Hierba"
          ],
          [
           "Hierba"
          ],
          [
           "Hierba"
          ],
          [
           "Hierba"
          ],
          [
           "Hierba"
          ],
          [
           "Hierba"
          ],
          [
           "Hierba"
          ],
          [
           "Hierba"
          ],
          [
           "Hierba"
          ],
          [
           "Hierba"
          ],
          [
           "Hierba"
          ],
          [
           "Hierba"
          ],
          [
           "Hierba"
          ],
          [
           "Hierba"
          ],
          [
           "Hierba"
          ],
          [
           "Hierba"
          ],
          [
           "Hierba"
          ],
          [
           "Hierba"
          ],
          [
           "Hierba"
          ],
          [
           "Hierba"
          ],
          [
           "Hierba"
          ],
          [
           "Hierba"
          ],
          [
           "Hierba"
          ],
          [
           "Hierba"
          ],
          [
           "Hierba"
          ],
          [
           "Hierba"
          ],
          [
           "Hierba"
          ],
          [
           "Hierba"
          ],
          [
           "Hierba"
          ],
          [
           "Hierba"
          ],
          [
           "Hierba"
          ],
          [
           "Hierba"
          ],
          [
           "Hierba"
          ],
          [
           "Hierba"
          ],
          [
           "Hierba"
          ],
          [
           "Hierba"
          ],
          [
           "Hierba"
          ],
          [
           "Hierba"
          ],
          [
           "Hierba"
          ],
          [
           "Hierba"
          ],
          [
           "Hierba"
          ],
          [
           "Hierba"
          ],
          [
           "Hierba"
          ],
          [
           "Hierba"
          ],
          [
           "Hierba"
          ],
          [
           "Hierba"
          ],
          [
           "Hierba"
          ],
          [
           "Hierba"
          ],
          [
           "Hierba"
          ],
          [
           "Hierba"
          ],
          [
           "Hierba"
          ],
          [
           "Hierba"
          ],
          [
           "Hierba"
          ],
          [
           "Hierba"
          ],
          [
           "Hierba"
          ],
          [
           "Hierba"
          ],
          [
           "Hierba"
          ],
          [
           "Hierba"
          ],
          [
           "Hierba"
          ],
          [
           "Hierba"
          ],
          [
           "Hierba"
          ],
          [
           "Hierba"
          ],
          [
           "Hierba"
          ],
          [
           "Hierba"
          ],
          [
           "Hierba"
          ],
          [
           "Hierba"
          ],
          [
           "Hierba"
          ],
          [
           "Hierba"
          ],
          [
           "Hierba"
          ],
          [
           "Hierba"
          ],
          [
           "Hierba"
          ],
          [
           "Hierba"
          ],
          [
           "Hierba"
          ],
          [
           "Hierba"
          ],
          [
           "Hierba"
          ],
          [
           "Hierba"
          ],
          [
           "Hierba"
          ],
          [
           "Hierba"
          ],
          [
           "Hierba"
          ],
          [
           "Hierba"
          ],
          [
           "Hierba"
          ],
          [
           "Hierba"
          ],
          [
           "Hierba"
          ],
          [
           "Hierba"
          ],
          [
           "Hierba"
          ],
          [
           "Hierba"
          ],
          [
           "Hierba"
          ],
          [
           "Hierba"
          ],
          [
           "Hierba"
          ],
          [
           "Hierba"
          ],
          [
           "Hierba"
          ],
          [
           "Hierba"
          ],
          [
           "Hierba"
          ],
          [
           "Hierba"
          ],
          [
           "Hierba"
          ],
          [
           "Hierba"
          ],
          [
           "Hierba"
          ],
          [
           "Hierba"
          ],
          [
           "Hierba"
          ],
          [
           "Hierba"
          ],
          [
           "Hierba"
          ],
          [
           "Hierba"
          ],
          [
           "Hierba"
          ],
          [
           "Hierba"
          ],
          [
           "Hierba"
          ],
          [
           "Hierba"
          ],
          [
           "Hierba"
          ],
          [
           "Hierba"
          ],
          [
           "Hierba"
          ],
          [
           "Hierba"
          ],
          [
           "Hierba"
          ],
          [
           "Hierba"
          ],
          [
           "Hierba"
          ],
          [
           "Hierba"
          ],
          [
           "Hierba"
          ],
          [
           "Hierba"
          ],
          [
           "Hierba"
          ],
          [
           "Hierba"
          ],
          [
           "Hierba"
          ],
          [
           "Hierba"
          ],
          [
           "Hierba"
          ],
          [
           "Hierba"
          ],
          [
           "Hierba"
          ],
          [
           "Hierba"
          ],
          [
           "Hierba"
          ],
          [
           "Hierba"
          ],
          [
           "Hierba"
          ],
          [
           "Hierba"
          ],
          [
           "Hierba"
          ],
          [
           "Hierba"
          ],
          [
           "Hierba"
          ],
          [
           "Hierba"
          ],
          [
           "Hierba"
          ],
          [
           "Hierba"
          ],
          [
           "Hierba"
          ],
          [
           "Hierba"
          ],
          [
           "Hierba"
          ],
          [
           "Hierba"
          ],
          [
           "Hierba"
          ],
          [
           "Hierba"
          ],
          [
           "Hierba"
          ],
          [
           "Hierba"
          ],
          [
           "Hierba"
          ],
          [
           "Hierba"
          ],
          [
           "Hierba"
          ],
          [
           "Hierba"
          ],
          [
           "Hierba"
          ],
          [
           "Hierba"
          ],
          [
           "Hierba"
          ],
          [
           "Hierba"
          ],
          [
           "Hierba"
          ],
          [
           "Hierba"
          ],
          [
           "Hierba"
          ],
          [
           "Hierba"
          ],
          [
           "Hierba"
          ],
          [
           "Hierba"
          ],
          [
           "Hierba"
          ],
          [
           "Hierba"
          ],
          [
           "Hierba"
          ],
          [
           "Hierba"
          ],
          [
           "Hierba"
          ],
          [
           "Hierba"
          ],
          [
           "Hierba"
          ],
          [
           "Hierba"
          ],
          [
           "Hierba"
          ],
          [
           "Hierba"
          ],
          [
           "Hierba"
          ],
          [
           "Hierba"
          ],
          [
           "Hierba"
          ],
          [
           "Hierba"
          ],
          [
           "Hierba"
          ],
          [
           "Hierba"
          ],
          [
           "Hierba"
          ],
          [
           "Hierba"
          ],
          [
           "Hierba"
          ],
          [
           "Hierba"
          ],
          [
           "Hierba"
          ],
          [
           "Hierba"
          ],
          [
           "Hierba"
          ],
          [
           "Hierba"
          ],
          [
           "Hierba"
          ],
          [
           "Hierba"
          ],
          [
           "Hierba"
          ],
          [
           "Hierba"
          ],
          [
           "Hierba"
          ],
          [
           "Hierba"
          ],
          [
           "Hierba"
          ],
          [
           "Hierba"
          ],
          [
           "Hierba"
          ],
          [
           "Hierba"
          ],
          [
           "Hierba"
          ],
          [
           "Hierba"
          ],
          [
           "Hierba"
          ],
          [
           "Hierba"
          ],
          [
           "Hierba"
          ],
          [
           "Hierba"
          ],
          [
           "Hierba"
          ],
          [
           "Hierba"
          ],
          [
           "Hierba"
          ],
          [
           "Hierba"
          ],
          [
           "Hierba"
          ],
          [
           "Hierba"
          ],
          [
           "Hierba"
          ],
          [
           "Hierba"
          ],
          [
           "Hierba"
          ],
          [
           "Hierba"
          ],
          [
           "Hierba"
          ],
          [
           "Hierba"
          ],
          [
           "Hierba"
          ],
          [
           "Hierba"
          ],
          [
           "Hierba"
          ],
          [
           "Hierba"
          ],
          [
           "Hierba"
          ],
          [
           "Hierba"
          ],
          [
           "Hierba"
          ],
          [
           "Hierba"
          ],
          [
           "Hierba"
          ],
          [
           "Hierba"
          ],
          [
           "Hierba"
          ],
          [
           "Hierba"
          ],
          [
           "Hierba"
          ],
          [
           "Hierba"
          ],
          [
           "Hierba"
          ],
          [
           "Hierba"
          ],
          [
           "Hierba"
          ],
          [
           "Hierba"
          ],
          [
           "Hierba"
          ],
          [
           "Hierba"
          ],
          [
           "Hierba"
          ],
          [
           "Hierba"
          ],
          [
           "Hierba"
          ],
          [
           "Hierba"
          ],
          [
           "Hierba"
          ],
          [
           "Hierba"
          ],
          [
           "Hierba"
          ],
          [
           "Hierba"
          ],
          [
           "Hierba"
          ],
          [
           "Hierba"
          ],
          [
           "Hierba"
          ],
          [
           "Hierba"
          ],
          [
           "Hierba"
          ],
          [
           "Hierba"
          ],
          [
           "Hierba"
          ],
          [
           "Hierba"
          ],
          [
           "Hierba"
          ],
          [
           "Hierba"
          ],
          [
           "Hierba"
          ],
          [
           "Hierba"
          ],
          [
           "Hierba"
          ],
          [
           "Hierba"
          ],
          [
           "Hierba"
          ],
          [
           "Hierba"
          ],
          [
           "Hierba"
          ],
          [
           "Hierba"
          ],
          [
           "Hierba"
          ],
          [
           "Hierba"
          ],
          [
           "Hierba"
          ],
          [
           "Hierba"
          ],
          [
           "Hierba"
          ],
          [
           "Hierba"
          ],
          [
           "Hierba"
          ],
          [
           "Hierba"
          ],
          [
           "Hierba"
          ],
          [
           "Hierba"
          ],
          [
           "Hierba"
          ],
          [
           "Hierba"
          ],
          [
           "Hierba"
          ],
          [
           "Hierba"
          ],
          [
           "Hierba"
          ],
          [
           "Hierba"
          ],
          [
           "Hierba"
          ],
          [
           "Hierba"
          ],
          [
           "Hierba"
          ],
          [
           "Hierba"
          ],
          [
           "Hierba"
          ],
          [
           "Hierba"
          ],
          [
           "Hierba"
          ],
          [
           "Hierba"
          ],
          [
           "Hierba"
          ],
          [
           "Hierba"
          ],
          [
           "Hierba"
          ],
          [
           "Hierba"
          ],
          [
           "Hierba"
          ],
          [
           "Hierba"
          ],
          [
           "Hierba"
          ],
          [
           "Hierba"
          ],
          [
           "Hierba"
          ],
          [
           "Hierba"
          ],
          [
           "Hierba"
          ],
          [
           "Hierba"
          ],
          [
           "Hierba"
          ],
          [
           "Hierba"
          ],
          [
           "Hierba"
          ],
          [
           "Hierba"
          ],
          [
           "Hierba"
          ],
          [
           "Hierba"
          ],
          [
           "Hierba"
          ],
          [
           "Hierba"
          ],
          [
           "Hierba"
          ],
          [
           "Hierba"
          ],
          [
           "Hierba"
          ],
          [
           "Hierba"
          ],
          [
           "Hierba"
          ],
          [
           "Hierba"
          ],
          [
           "Hierba"
          ],
          [
           "Hierba"
          ],
          [
           "Hierba"
          ],
          [
           "Hierba"
          ],
          [
           "Hierba"
          ],
          [
           "Hierba"
          ],
          [
           "Hierba"
          ],
          [
           "Hierba"
          ],
          [
           "Hierba"
          ],
          [
           "Hierba"
          ],
          [
           "Hierba"
          ],
          [
           "Hierba"
          ],
          [
           "Hierba"
          ],
          [
           "Hierba"
          ],
          [
           "Hierba"
          ],
          [
           "Hierba"
          ],
          [
           "Hierba"
          ],
          [
           "Hierba"
          ],
          [
           "Hierba"
          ],
          [
           "Hierba"
          ],
          [
           "Hierba"
          ],
          [
           "Hierba"
          ],
          [
           "Hierba"
          ],
          [
           "Hierba"
          ],
          [
           "Hierba"
          ],
          [
           "Hierba"
          ],
          [
           "Hierba"
          ],
          [
           "Hierba"
          ],
          [
           "Hierba"
          ],
          [
           "Hierba"
          ],
          [
           "Hierba"
          ],
          [
           "Hierba"
          ],
          [
           "Hierba"
          ],
          [
           "Hierba"
          ],
          [
           "Hierba"
          ],
          [
           "Hierba"
          ],
          [
           "Hierba"
          ],
          [
           "Hierba"
          ],
          [
           "Hierba"
          ],
          [
           "Hierba"
          ],
          [
           "Hierba"
          ],
          [
           "Hierba"
          ],
          [
           "Hierba"
          ],
          [
           "Hierba"
          ],
          [
           "Hierba"
          ],
          [
           "Hierba"
          ],
          [
           "Hierba"
          ],
          [
           "Hierba"
          ],
          [
           "Hierba"
          ],
          [
           "Hierba"
          ],
          [
           "Hierba"
          ],
          [
           "Hierba"
          ],
          [
           "Hierba"
          ],
          [
           "Hierba"
          ],
          [
           "Hierba"
          ],
          [
           "Hierba"
          ],
          [
           "Hierba"
          ],
          [
           "Hierba"
          ],
          [
           "Hierba"
          ],
          [
           "Hierba"
          ],
          [
           "Hierba"
          ],
          [
           "Hierba"
          ],
          [
           "Hierba"
          ],
          [
           "Hierba"
          ],
          [
           "Hierba"
          ],
          [
           "Hierba"
          ],
          [
           "Hierba"
          ],
          [
           "Hierba"
          ],
          [
           "Hierba"
          ],
          [
           "Hierba"
          ],
          [
           "Hierba"
          ],
          [
           "Hierba"
          ]
         ],
         "hovertemplate": "<b>%{hovertext}</b><br><br>Class=%{marker.color}<br>PC 1=%{x}<br>PC 2=%{y}<br>PC 3=%{z}<br>Hierba=%{customdata[0]}<extra></extra>",
         "hovertext": [
          "Isoetaceae",
          "Isoetaceae",
          "Isoetaceae",
          "Isoetaceae",
          "Isoetaceae",
          "Selaginellaceae",
          "Selaginellaceae",
          "Selaginellaceae",
          "Selaginellaceae",
          "Selaginellaceae",
          "Selaginellaceae",
          "Selaginellaceae",
          "Selaginellaceae",
          "Selaginellaceae",
          "Selaginellaceae",
          "Selaginellaceae",
          "Selaginellaceae",
          "Selaginellaceae",
          "Selaginellaceae",
          "Selaginellaceae",
          "Selaginellaceae",
          "Selaginellaceae",
          "Selaginellaceae",
          "Selaginellaceae",
          "Selaginellaceae",
          "Selaginellaceae",
          "Selaginellaceae",
          "Selaginellaceae",
          "Selaginellaceae",
          "Selaginellaceae",
          "Selaginellaceae",
          "Selaginellaceae",
          "Selaginellaceae",
          "Selaginellaceae",
          "Selaginellaceae",
          "Selaginellaceae",
          "Selaginellaceae",
          "Selaginellaceae",
          "Selaginellaceae",
          "Selaginellaceae",
          "Selaginellaceae",
          "Selaginellaceae",
          "Selaginellaceae",
          "Selaginellaceae",
          "Selaginellaceae",
          "Selaginellaceae",
          "Selaginellaceae",
          "Selaginellaceae",
          "Selaginellaceae",
          "Selaginellaceae",
          "Selaginellaceae",
          "Selaginellaceae",
          "Selaginellaceae",
          "Selaginellaceae",
          "Selaginellaceae",
          "Selaginellaceae",
          "Selaginellaceae",
          "Selaginellaceae",
          "Selaginellaceae",
          "Selaginellaceae",
          "Selaginellaceae",
          "Selaginellaceae",
          "Selaginellaceae",
          "Selaginellaceae",
          "Selaginellaceae",
          "Selaginellaceae",
          "Selaginellaceae",
          "Selaginellaceae",
          "Selaginellaceae",
          "Selaginellaceae",
          "Selaginellaceae",
          "Selaginellaceae",
          "Selaginellaceae",
          "Selaginellaceae",
          "Selaginellaceae",
          "Selaginellaceae",
          "Selaginellaceae",
          "Selaginellaceae",
          "Selaginellaceae",
          "Selaginellaceae",
          "Selaginellaceae",
          "Selaginellaceae",
          "Selaginellaceae",
          "Selaginellaceae",
          "Selaginellaceae",
          "Selaginellaceae",
          "Selaginellaceae",
          "Selaginellaceae",
          "Selaginellaceae",
          "Selaginellaceae",
          "Selaginellaceae",
          "Selaginellaceae",
          "Selaginellaceae",
          "Selaginellaceae",
          "Selaginellaceae",
          "Selaginellaceae",
          "Selaginellaceae",
          "Selaginellaceae",
          "Selaginellaceae",
          "Selaginellaceae",
          "Selaginellaceae",
          "Selaginellaceae",
          "Selaginellaceae",
          "Selaginellaceae",
          "Selaginellaceae",
          "Selaginellaceae",
          "Selaginellaceae",
          "Selaginellaceae",
          "Selaginellaceae",
          "Selaginellaceae",
          "Selaginellaceae",
          "Selaginellaceae",
          "Selaginellaceae",
          "Selaginellaceae",
          "Selaginellaceae",
          "Selaginellaceae",
          "Selaginellaceae",
          "Selaginellaceae",
          "Selaginellaceae",
          "Selaginellaceae",
          "Selaginellaceae",
          "Selaginellaceae",
          "Selaginellaceae",
          "Selaginellaceae",
          "Selaginellaceae",
          "Selaginellaceae",
          "Selaginellaceae",
          "Selaginellaceae",
          "Selaginellaceae",
          "Selaginellaceae",
          "Selaginellaceae",
          "Selaginellaceae",
          "Selaginellaceae",
          "Selaginellaceae",
          "Selaginellaceae",
          "Selaginellaceae",
          "Selaginellaceae",
          "Selaginellaceae",
          "Selaginellaceae",
          "Selaginellaceae",
          "Selaginellaceae",
          "Selaginellaceae",
          "Selaginellaceae",
          "Selaginellaceae",
          "Selaginellaceae",
          "Selaginellaceae",
          "Selaginellaceae",
          "Selaginellaceae",
          "Selaginellaceae",
          "Selaginellaceae",
          "Selaginellaceae",
          "Selaginellaceae",
          "Selaginellaceae",
          "Selaginellaceae",
          "Selaginellaceae",
          "Selaginellaceae",
          "Selaginellaceae",
          "Selaginellaceae",
          "Selaginellaceae",
          "Selaginellaceae",
          "Selaginellaceae",
          "Selaginellaceae",
          "Selaginellaceae",
          "Selaginellaceae",
          "Selaginellaceae",
          "Selaginellaceae",
          "Selaginellaceae",
          "Selaginellaceae",
          "Selaginellaceae",
          "Selaginellaceae",
          "Selaginellaceae",
          "Selaginellaceae",
          "Selaginellaceae",
          "Selaginellaceae",
          "Selaginellaceae",
          "Selaginellaceae",
          "Selaginellaceae",
          "Selaginellaceae",
          "Selaginellaceae",
          "Selaginellaceae",
          "Selaginellaceae",
          "Selaginellaceae",
          "Selaginellaceae",
          "Selaginellaceae",
          "Selaginellaceae",
          "Selaginellaceae",
          "Selaginellaceae",
          "Selaginellaceae",
          "Selaginellaceae",
          "Selaginellaceae",
          "Selaginellaceae",
          "Selaginellaceae",
          "Selaginellaceae",
          "Selaginellaceae",
          "Selaginellaceae",
          "Selaginellaceae",
          "Selaginellaceae",
          "Selaginellaceae",
          "Selaginellaceae",
          "Selaginellaceae",
          "Selaginellaceae",
          "Selaginellaceae",
          "Selaginellaceae",
          "Selaginellaceae",
          "Selaginellaceae",
          "Selaginellaceae",
          "Selaginellaceae",
          "Selaginellaceae",
          "Selaginellaceae",
          "Selaginellaceae",
          "Selaginellaceae",
          "Selaginellaceae",
          "Selaginellaceae",
          "Selaginellaceae",
          "Selaginellaceae",
          "Selaginellaceae",
          "Selaginellaceae",
          "Selaginellaceae",
          "Selaginellaceae",
          "Selaginellaceae",
          "Selaginellaceae",
          "Selaginellaceae",
          "Selaginellaceae",
          "Selaginellaceae",
          "Selaginellaceae",
          "Selaginellaceae",
          "Selaginellaceae",
          "Selaginellaceae",
          "Selaginellaceae",
          "Selaginellaceae",
          "Selaginellaceae",
          "Selaginellaceae",
          "Selaginellaceae",
          "Selaginellaceae",
          "Selaginellaceae",
          "Selaginellaceae",
          "Selaginellaceae",
          "Selaginellaceae",
          "Selaginellaceae",
          "Selaginellaceae",
          "Selaginellaceae",
          "Selaginellaceae",
          "Selaginellaceae",
          "Selaginellaceae",
          "Selaginellaceae",
          "Selaginellaceae",
          "Selaginellaceae",
          "Selaginellaceae",
          "Selaginellaceae",
          "Selaginellaceae",
          "Selaginellaceae",
          "Selaginellaceae",
          "Selaginellaceae",
          "Isoetaceae",
          "Isoetaceae",
          "Isoetaceae",
          "Isoetaceae",
          "Isoetaceae",
          "Selaginellaceae",
          "Selaginellaceae",
          "Selaginellaceae",
          "Selaginellaceae",
          "Selaginellaceae",
          "Selaginellaceae",
          "Selaginellaceae",
          "Selaginellaceae",
          "Selaginellaceae",
          "Selaginellaceae",
          "Selaginellaceae",
          "Selaginellaceae",
          "Selaginellaceae",
          "Selaginellaceae",
          "Selaginellaceae",
          "Selaginellaceae",
          "Selaginellaceae",
          "Selaginellaceae",
          "Selaginellaceae",
          "Selaginellaceae",
          "Selaginellaceae",
          "Selaginellaceae",
          "Selaginellaceae",
          "Selaginellaceae",
          "Selaginellaceae",
          "Selaginellaceae",
          "Selaginellaceae",
          "Selaginellaceae",
          "Selaginellaceae",
          "Selaginellaceae",
          "Selaginellaceae",
          "Selaginellaceae",
          "Selaginellaceae",
          "Selaginellaceae",
          "Selaginellaceae",
          "Selaginellaceae",
          "Selaginellaceae",
          "Selaginellaceae",
          "Selaginellaceae",
          "Selaginellaceae",
          "Selaginellaceae",
          "Selaginellaceae",
          "Selaginellaceae",
          "Selaginellaceae",
          "Selaginellaceae",
          "Selaginellaceae",
          "Selaginellaceae",
          "Selaginellaceae",
          "Selaginellaceae",
          "Selaginellaceae",
          "Selaginellaceae",
          "Selaginellaceae",
          "Selaginellaceae",
          "Selaginellaceae",
          "Selaginellaceae",
          "Selaginellaceae",
          "Selaginellaceae",
          "Selaginellaceae",
          "Selaginellaceae",
          "Selaginellaceae",
          "Selaginellaceae",
          "Selaginellaceae",
          "Selaginellaceae",
          "Selaginellaceae",
          "Selaginellaceae",
          "Selaginellaceae",
          "Selaginellaceae",
          "Selaginellaceae",
          "Selaginellaceae",
          "Selaginellaceae",
          "Selaginellaceae",
          "Selaginellaceae",
          "Selaginellaceae",
          "Selaginellaceae",
          "Selaginellaceae",
          "Selaginellaceae",
          "Selaginellaceae",
          "Selaginellaceae",
          "Selaginellaceae",
          "Selaginellaceae",
          "Selaginellaceae",
          "Selaginellaceae",
          "Selaginellaceae",
          "Selaginellaceae",
          "Selaginellaceae",
          "Selaginellaceae",
          "Selaginellaceae",
          "Selaginellaceae",
          "Selaginellaceae",
          "Selaginellaceae",
          "Selaginellaceae",
          "Selaginellaceae",
          "Selaginellaceae",
          "Selaginellaceae",
          "Selaginellaceae",
          "Selaginellaceae",
          "Selaginellaceae",
          "Selaginellaceae",
          "Selaginellaceae",
          "Selaginellaceae",
          "Selaginellaceae",
          "Selaginellaceae",
          "Selaginellaceae",
          "Selaginellaceae",
          "Selaginellaceae",
          "Selaginellaceae",
          "Selaginellaceae",
          "Selaginellaceae",
          "Selaginellaceae",
          "Selaginellaceae",
          "Selaginellaceae",
          "Selaginellaceae",
          "Selaginellaceae",
          "Selaginellaceae",
          "Selaginellaceae",
          "Selaginellaceae",
          "Selaginellaceae",
          "Selaginellaceae",
          "Selaginellaceae",
          "Selaginellaceae"
         ],
         "legendgroup": "0",
         "marker": {
          "color": [
           0,
           0,
           0,
           0,
           0,
           0,
           0,
           0,
           0,
           0,
           0,
           0,
           0,
           0,
           0,
           0,
           0,
           0,
           0,
           0,
           0,
           0,
           0,
           0,
           0,
           0,
           0,
           0,
           0,
           0,
           0,
           0,
           0,
           0,
           0,
           0,
           0,
           0,
           0,
           0,
           0,
           0,
           0,
           0,
           0,
           0,
           0,
           0,
           0,
           0,
           0,
           0,
           0,
           0,
           0,
           0,
           0,
           0,
           0,
           0,
           0,
           0,
           0,
           0,
           0,
           0,
           0,
           0,
           0,
           0,
           0,
           0,
           0,
           0,
           0,
           0,
           0,
           0,
           0,
           0,
           0,
           0,
           0,
           0,
           0,
           0,
           0,
           0,
           0,
           0,
           0,
           0,
           0,
           0,
           0,
           0,
           0,
           0,
           0,
           0,
           0,
           0,
           0,
           0,
           0,
           0,
           0,
           0,
           0,
           0,
           0,
           0,
           0,
           0,
           0,
           0,
           0,
           0,
           0,
           0,
           0,
           0,
           0,
           0,
           0,
           0,
           0,
           0,
           0,
           0,
           0,
           0,
           0,
           0,
           0,
           0,
           0,
           0,
           0,
           0,
           0,
           0,
           0,
           0,
           0,
           0,
           0,
           0,
           0,
           0,
           0,
           0,
           0,
           0,
           0,
           0,
           0,
           0,
           0,
           0,
           0,
           0,
           0,
           0,
           0,
           0,
           0,
           0,
           0,
           0,
           0,
           0,
           0,
           0,
           0,
           0,
           0,
           0,
           0,
           0,
           0,
           0,
           0,
           0,
           0,
           0,
           0,
           0,
           0,
           0,
           0,
           0,
           0,
           0,
           0,
           0,
           0,
           0,
           0,
           0,
           0,
           0,
           0,
           0,
           0,
           0,
           0,
           0,
           0,
           0,
           0,
           0,
           0,
           0,
           0,
           0,
           0,
           0,
           0,
           0,
           0,
           0,
           0,
           0,
           0,
           0,
           0,
           0,
           0,
           0,
           0,
           0,
           0,
           0,
           0,
           0,
           0,
           0,
           0,
           0,
           0,
           0,
           0,
           0,
           0,
           0,
           0,
           0,
           0,
           0,
           0,
           0,
           0,
           0,
           0,
           0,
           0,
           0,
           0,
           0,
           0,
           0,
           0,
           0,
           0,
           0,
           0,
           0,
           0,
           0,
           0,
           0,
           0,
           0,
           0,
           0,
           0,
           0,
           0,
           0,
           0,
           0,
           0,
           0,
           0,
           0,
           0,
           0,
           0,
           0,
           0,
           0,
           0,
           0,
           0,
           0,
           0,
           0,
           0,
           0,
           0,
           0,
           0,
           0,
           0,
           0,
           0,
           0,
           0,
           0,
           0,
           0,
           0,
           0,
           0,
           0,
           0,
           0,
           0,
           0,
           0,
           0,
           0,
           0,
           0,
           0,
           0,
           0,
           0,
           0,
           0,
           0,
           0,
           0,
           0,
           0,
           0,
           0,
           0,
           0,
           0,
           0,
           0,
           0,
           0,
           0,
           0,
           0,
           0,
           0,
           0,
           0,
           0,
           0,
           0,
           0,
           0,
           0,
           0,
           0,
           0,
           0,
           0,
           0,
           0,
           0,
           0,
           0,
           0,
           0,
           0,
           0,
           0,
           0,
           0,
           0,
           0,
           0
          ],
          "coloraxis": "coloraxis",
          "symbol": "square"
         },
         "mode": "markers",
         "name": "0",
         "scene": "scene",
         "showlegend": true,
         "type": "scatter3d",
         "x": [
          3.133482593967212,
          2.8057831928097183,
          2.7847156688630816,
          2.8264859286641517,
          2.77609403002046,
          3.314432837740969,
          3.3592328684088075,
          3.4283710814477675,
          4.3953383989794625,
          3.6330542522375895,
          3.4516703039012824,
          3.6982631879843875,
          3.739857288707052,
          3.803631198411519,
          3.3188274648662937,
          3.7025293716018854,
          3.318003844079882,
          3.435134071658454,
          3.504450275267538,
          3.7234588588023874,
          3.30496028567582,
          3.5436938039412724,
          3.4811459043917563,
          3.7061322250648034,
          3.472260088072254,
          3.6835289414055685,
          3.446049745346619,
          3.3962141599459272,
          3.3504635800479314,
          3.4583836941447954,
          4.0608694137695664,
          4.351833887669155,
          4.194992930197645,
          4.194992398230377,
          4.328630191609372,
          3.4103095022816134,
          3.675100125950773,
          3.1420161508483377,
          3.459671204515294,
          3.6991194635674605,
          3.33839460863961,
          4.2512538220157925,
          4.282020115820735,
          4.280777652776966,
          4.065064456942804,
          4.318371746987704,
          3.373471611367578,
          3.801315771380459,
          4.201243001622401,
          4.015105954463753,
          4.015105954463753,
          3.786336120937436,
          4.149432470037321,
          4.113078271450396,
          4.216920055265875,
          3.7783298915149848,
          4.1677568215571315,
          4.216751423451018,
          3.891125247304858,
          4.22095090938415,
          4.206624196894384,
          4.170495908083843,
          4.188125942297295,
          4.290084291264784,
          3.8014638183876692,
          4.086092925278211,
          4.1930738505485525,
          4.266398131164521,
          4.123558766565833,
          4.134019423159396,
          3.956437558410872,
          3.942948133483908,
          4.3909884418750025,
          4.316309595856191,
          4.261084339427593,
          4.261084339427593,
          4.390645927841244,
          4.177672347656747,
          4.312143179435218,
          4.221596613140054,
          4.221596185435266,
          3.857310392225337,
          4.261357558052847,
          4.229569855813413,
          4.2056481958835565,
          4.231966980295858,
          4.2827114244574105,
          4.245201011356107,
          4.276918446162929,
          4.432631538161163,
          4.440074495911412,
          4.42485897112121,
          4.354616531392324,
          4.36466875943894,
          4.35735048347212,
          4.344282584376613,
          3.9068707541247836,
          4.222868199772955,
          4.357810565817745,
          4.213702112910987,
          4.222931265939214,
          3.504874544450157,
          4.145313011894159,
          4.257853893709445,
          4.2781221057028676,
          4.226818019368855,
          4.122157932429035,
          4.257852961057655,
          4.231966980295858,
          4.191336166015774,
          4.191336166015774,
          4.231966980295858,
          4.231966980295858,
          4.258952919554499,
          4.260527104244841,
          4.3909884418750025,
          4.3909884418750025,
          4.3909884418750025,
          4.340763519101918,
          3.854596201180918,
          4.1756185380845,
          4.175620548092082,
          4.416164085283691,
          4.349891946291939,
          4.4024998520154215,
          4.35735048347212,
          4.495237685527099,
          4.319685863668813,
          4.278354734283432,
          4.278354734283432,
          4.2952133387886775,
          3.6754952400101457,
          4.359608455685886,
          4.388900210706321,
          4.216920055265875,
          3.955145111646314,
          4.294603169612048,
          4.122157932429035,
          4.277806217945304,
          4.167120995444131,
          4.215360947425268,
          4.201243001622401,
          4.201243001622401,
          4.201243001622401,
          4.201243001622401,
          4.201243001622401,
          4.103737931399014,
          4.110083339585963,
          4.110083339585963,
          4.110083339585963,
          4.110083339585963,
          4.227550942976877,
          4.227550942976877,
          4.273597127807237,
          4.266336641813078,
          4.065812814103442,
          4.181559342381414,
          4.164873801669489,
          4.115197308400133,
          4.168712477400563,
          4.20324270847741,
          4.266336641813078,
          3.8020027227720323,
          4.181559342381414,
          4.1915856729584835,
          4.266398131164521,
          3.942948133483908,
          4.352375239479196,
          4.312143179435218,
          4.42066851041781,
          4.352375239479196,
          4.280490210311647,
          4.246210887341056,
          4.261084339427593,
          4.492979319789796,
          4.261084339427593,
          3.8447154541539774,
          4.352375239479196,
          4.259833890965184,
          4.1756185380845,
          4.1756185380845,
          4.194992930197645,
          4.1756185380845,
          4.194992930197645,
          4.175620548092082,
          4.194992398230377,
          4.175620548092082,
          4.194992398230377,
          4.175620548092082,
          4.320058180497399,
          4.268964369553539,
          4.303127857975604,
          4.135614010996189,
          4.388487674515863,
          4.43587178510148,
          4.276910475035406,
          4.4983134522117165,
          4.326036889351611,
          3.827807889992437,
          3.827808153025805,
          4.090437401975226,
          3.7870143053117693,
          4.250251626294775,
          4.130711278974521,
          3.583731840714947,
          3.206927520187393,
          3.5703200725574713,
          3.4751081801238666,
          3.565513559586849,
          3.574745108082771,
          3.5594872240252124,
          3.2095113740460874,
          4.114573608347295,
          4.354503769272709,
          4.364259481050052,
          4.456457521849102,
          4.337348200714447,
          4.308715398528906,
          4.465817774424589,
          4.482492757882135,
          4.35735048347212,
          4.113078271450396,
          4.148070564647424,
          4.297208389673844,
          4.352375239479196,
          4.275262036457776,
          4.3953383989794625,
          4.352375239479196,
          4.1717805101298,
          4.3953383989794625,
          4.385953521198737,
          4.095130881245404,
          4.388668185872732,
          4.095130881245404,
          4.221596613140054,
          4.267780959623773,
          4.221596185435266,
          3.6454688170978082,
          4.207938265691749,
          4.344282584376613,
          3.7844287260791756,
          4.034317747032393,
          3.397709323858033,
          3.4016437245895896,
          3.3997459049808887,
          3.431877110167897,
          3.733948868994315,
          3.4448330730605807,
          3.7500094891696736,
          3.446049745346619,
          3.3845601015607327,
          3.3132658462406352,
          4.4983134522117165,
          3.133482593967212,
          2.8057831928097183,
          2.7847156688630816,
          2.8264859286641517,
          2.77609403002046,
          3.6982631879843875,
          3.739857288707052,
          3.803631198411519,
          3.3188274648662937,
          3.7025293716018854,
          3.318003844079882,
          3.435134071658454,
          3.504450275267538,
          3.7234588588023874,
          3.30496028567582,
          3.5436938039412724,
          3.4811459043917563,
          3.7061322250648034,
          3.472260088072254,
          3.6835289414055685,
          3.446049745346619,
          3.3962141599459272,
          3.3504635800479314,
          3.4583836941447954,
          4.0608694137695664,
          4.351833887669155,
          4.194992930197645,
          4.194992398230377,
          4.3286301916093715,
          3.4103095022816134,
          3.675100125950773,
          3.1420161508483377,
          3.459671204515294,
          3.6991194635674605,
          3.33839460863961,
          4.2512538220157925,
          4.282020115820735,
          4.280777652776966,
          4.065064456942804,
          4.318371746987704,
          3.373471611367578,
          3.801315771380459,
          4.201243001622401,
          4.015105954463753,
          4.015105954463753,
          3.786336120937436,
          4.149432470037321,
          4.113078271450396,
          4.216920055265875,
          3.7783298915149848,
          4.1677568215571315,
          4.216751423451018,
          3.891125247304858,
          4.22095090938415,
          4.206624196894384,
          4.170495908083843,
          4.188125942297295,
          4.290084291264784,
          3.80146381838767,
          4.086092925278211,
          4.1930738505485525,
          4.266398131164521,
          4.123558766565833,
          4.134019423159396,
          3.956437558410872,
          3.942948133483908,
          4.3909884418750025,
          4.316309595856191,
          4.261084339427593,
          4.261084339427593,
          4.390645927841244,
          4.177672347656747,
          4.312143179435218,
          4.221596613140054,
          4.221596185435266,
          3.857310392225337,
          4.261357558052847,
          4.229569855813413,
          4.2056481958835565,
          4.231966980295858,
          4.2827114244574105,
          4.245201011356107,
          4.276918446162929,
          4.432631538161163,
          4.440074495911412,
          4.42485897112121,
          4.354616531392324,
          4.36466875943894,
          4.35735048347212,
          4.344282584376613,
          3.9068707541247836,
          4.222868199772955,
          4.357810565817745,
          4.213702112910987,
          4.222931265939214,
          3.504874544450157,
          4.145313011894159,
          4.257853893709445,
          4.2781221057028676,
          4.226818019368855,
          4.122157932429035,
          4.257852961057655,
          4.231966980295858,
          4.191336166015774,
          4.191336166015774,
          4.231966980295858,
          4.231966980295858,
          4.258952919554499,
          4.260527104244841,
          4.3909884418750025,
          4.3909884418750025,
          4.3909884418750025,
          4.340763519101918,
          3.854596201180918,
          4.1756185380845,
          4.175620548092082,
          4.416164085283691,
          4.349891946291939,
          4.4024998520154215,
          4.35735048347212,
          4.495237685527099,
          4.319685863668813,
          4.278354734283432,
          4.278354734283432,
          4.2952133387886775
         ],
         "y": [
          -1.7795199252564087,
          -2.756385945738748,
          -2.795465527455343,
          -2.731237533056358,
          -2.8112998512319787,
          -2.097764566411874,
          -2.494725211384345,
          -1.9144536170863005,
          -0.6367575155846921,
          -2.107143959130151,
          -2.069279685141964,
          -2.0225902043433233,
          -1.9097908764173428,
          -1.8191509512854451,
          -2.4369853064165,
          -2.014591684723545,
          -2.4380147866085236,
          -2.208973927092442,
          -2.377130922450217,
          -1.940674826904336,
          -2.4608643045486165,
          -2.2769415116950014,
          -2.397874296823917,
          -2.00966110778082,
          -2.40959573802535,
          -2.015619005170273,
          -2.113870773413396,
          -1.9496471792119516,
          -2.0003327325104827,
          -2.464455160189023,
          -0.7573259571498373,
          -0.6593720327963406,
          -0.9916523197833796,
          -0.9916497719541622,
          -0.7716193582622205,
          -2.174856734215119,
          -2.034668174483652,
          -2.5074365758749524,
          -2.4300634814094195,
          -2.0195781401925714,
          -2.0231568647444913,
          -0.9525527717488421,
          -0.9019240128056166,
          -0.9064249007368748,
          -0.7818875223108107,
          -0.7247498941325753,
          -1.9132609247356083,
          -1.373308912688696,
          -1.0810318281086173,
          -1.4983994365927686,
          -1.4983994365927686,
          -1.4147217706251858,
          -1.1299672796635587,
          -1.2523975203857607,
          -1.0086184399497855,
          -1.4294520582229502,
          -1.1415315683185305,
          -1.0089157179835382,
          -1.1432352761575162,
          -0.9828093973237635,
          -1.1314843550244045,
          -1.1093534811516153,
          -1.0510835346344458,
          -0.8243111389786638,
          -1.4653167004549859,
          -1.3067163186919275,
          -1.0330534282697827,
          -0.8746127727344057,
          -1.1724093817756094,
          -1.1540318613900036,
          -1.0215197518253736,
          -1.0307581751476078,
          -0.5976007120486481,
          -0.1977684693644694,
          -0.9409913456365672,
          -0.9409913456365672,
          -0.7013108912880609,
          -1.1339827218094136,
          -0.7629353234054208,
          -1.0286220527471723,
          -1.0286244034437628,
          -1.208844938125337,
          -0.9641083291056636,
          -1.0152950870151098,
          -1.0008822427040507,
          -1.010662995196012,
          -0.9007402563738977,
          -0.2609294453066716,
          -0.2063109840951402,
          0.07641922856068821,
          -0.5016168401590452,
          -0.5297420461484921,
          -0.12249214839767177,
          -0.11292367410437366,
          -0.6531847907867303,
          -0.6765544580199839,
          -1.2165674690010424,
          -1.0024878436698812,
          -0.6631326598962466,
          -0.9655624916583401,
          -1.0501866795274197,
          -1.9771310843828784,
          -0.7365374654290823,
          -0.881693615482937,
          -0.8430253967233435,
          -0.9326730917228242,
          -1.21611440299624,
          -0.8816960782562654,
          -1.010662995196012,
          -1.0872707883376334,
          -1.0872707883376334,
          -1.010662995196012,
          -1.010662995196012,
          -0.8796744223714406,
          -0.8249363848279504,
          -0.5976007120486481,
          -0.5976007120486481,
          -0.5976007120486481,
          -0.15301786548380863,
          -1.2876081742449683,
          -1.0275299883730544,
          -1.027523140223955,
          0.047036832375871855,
          -0.1406063717281325,
          -0.04336327211366802,
          -0.6531847907867303,
          0.12547529868292995,
          -0.7957055263122317,
          -0.7894878339263651,
          -0.7894878339263651,
          -0.7578384776718015,
          -1.7251556509865018,
          -0.6870907240738744,
          -0.6328233451458787,
          -1.0086184399497855,
          -1.0000294502241522,
          -0.8834615071226537,
          -1.21611440299624,
          -0.8266329196961448,
          -1.0737228086719603,
          -1.000506885262203,
          -1.0810318281086173,
          -1.0810318281086173,
          -1.0810318281086173,
          -1.0810318281086173,
          -1.0810318281086173,
          -1.2656126998947985,
          -1.249338156877076,
          -1.249338156877076,
          -1.249338156877076,
          -1.249338156877076,
          -0.9970173058080101,
          -0.9970173058080101,
          -0.8747663357200952,
          -0.8983151442657238,
          -1.2979063339435568,
          -1.0287745808783322,
          -1.107483392137536,
          -1.1790882251672872,
          -0.47574561069727506,
          -1.1013112965325724,
          -0.8983151442657238,
          -1.4643244125944477,
          -1.0287745808783322,
          -0.9721985381621735,
          -0.8746127727344057,
          -1.0307581751476078,
          -0.7646152178663354,
          -0.7629353234054208,
          -0.5672780070050194,
          -0.7646152178663354,
          -0.9045256134543075,
          -0.8861790965436036,
          -0.9409913456365672,
          -0.5112069536537407,
          -0.9409913456365672,
          -1.339544350008523,
          -0.7646152178663354,
          -0.9326928378878625,
          -1.0275299883730544,
          -1.0275299883730544,
          -0.9916523197833796,
          -1.0275299883730544,
          -0.9916523197833796,
          -1.027523140223955,
          -0.9916497719541622,
          -1.027523140223955,
          -0.9916497719541622,
          -1.027523140223955,
          -0.8310950846083593,
          -0.9158292576923364,
          -0.8541606653067018,
          -1.1932701624646935,
          -0.5329594058213244,
          -0.5719035635590465,
          -0.8668835281206454,
          -0.39470867626997164,
          -0.18655420701530182,
          -1.6282490567238705,
          -1.6282482677816212,
          -0.9411838301822641,
          -1.4691893081849314,
          -0.9775177824322695,
          -0.6372212636225059,
          -1.8879409883788794,
          -2.3547780588641527,
          -1.9020244111039557,
          -2.2059388744957973,
          -1.9112829839223355,
          -1.9044335355606703,
          -1.9267076819689446,
          -2.350104261954267,
          -0.6995498507406,
          -0.23322190286153277,
          -0.10826621363422234,
          -0.4720217794183626,
          -0.15448502292551994,
          -0.7258254868150769,
          -0.35939780959435147,
          -0.3437951240183422,
          -0.6531847907867303,
          -1.2523975203857607,
          -1.1449641203481304,
          -0.867173104562158,
          -0.7646152178663354,
          -0.916571009475353,
          -0.6367575155846921,
          -0.7646152178663354,
          -1.1449537716067961,
          -0.6367575155846921,
          -0.6481780599410709,
          -0.7524769164958122,
          -0.6429692519653345,
          -0.7524769164958122,
          -1.0286220527471723,
          -0.9522788779702673,
          -1.0286244034437628,
          -1.8083167780948861,
          -1.0837536978781366,
          -0.6765544580199839,
          -1.4840328583093576,
          -0.847722453680099,
          -2.1734370775490075,
          -2.1552970608128788,
          -2.165018168980892,
          -2.101437134732312,
          -1.9260192974975396,
          -2.089050117475415,
          -1.895700577562557,
          -2.113870773413396,
          -2.0112646800432232,
          -2.142680796886585,
          -0.39470867626997164,
          -1.7795199252564087,
          -2.756385945738748,
          -2.795465527455343,
          -2.731237533056358,
          -2.8112998512319787,
          -2.0225902043433233,
          -1.9097908764173428,
          -1.8191509512854451,
          -2.4369853064165,
          -2.014591684723545,
          -2.4380147866085236,
          -2.208973927092442,
          -2.377130922450217,
          -1.940674826904336,
          -2.4608643045486165,
          -2.2769415116950014,
          -2.397874296823917,
          -2.00966110778082,
          -2.40959573802535,
          -2.015619005170273,
          -2.113870773413396,
          -1.9496471792119516,
          -2.0003327325104827,
          -2.464455160189023,
          -0.7573259571498373,
          -0.6593720327963406,
          -0.9916523197833796,
          -0.9916497719541622,
          -0.7716193582622205,
          -2.174856734215119,
          -2.034668174483652,
          -2.5074365758749524,
          -2.4300634814094195,
          -2.0195781401925714,
          -2.0231568647444913,
          -0.9525527717488421,
          -0.9019240128056166,
          -0.9064249007368748,
          -0.7818875223108107,
          -0.7247498941325753,
          -1.9132609247356083,
          -1.373308912688696,
          -1.0810318281086173,
          -1.4983994365927686,
          -1.4983994365927686,
          -1.4147217706251858,
          -1.1299672796635587,
          -1.2523975203857607,
          -1.0086184399497855,
          -1.4294520582229502,
          -1.1415315683185305,
          -1.0089157179835382,
          -1.1432352761575162,
          -0.9828093973237635,
          -1.1314843550244045,
          -1.1093534811516153,
          -1.0510835346344458,
          -0.8243111389786638,
          -1.4653167004549863,
          -1.3067163186919275,
          -1.0330534282697827,
          -0.8746127727344057,
          -1.1724093817756094,
          -1.1540318613900036,
          -1.0215197518253736,
          -1.0307581751476078,
          -0.5976007120486481,
          -0.1977684693644694,
          -0.9409913456365672,
          -0.9409913456365672,
          -0.7013108912880609,
          -1.1339827218094136,
          -0.7629353234054208,
          -1.0286220527471723,
          -1.0286244034437628,
          -1.208844938125337,
          -0.9641083291056636,
          -1.0152950870151098,
          -1.0008822427040507,
          -1.010662995196012,
          -0.9007402563738977,
          -0.2609294453066716,
          -0.2063109840951402,
          0.07641922856068821,
          -0.5016168401590452,
          -0.5297420461484921,
          -0.12249214839767177,
          -0.11292367410437366,
          -0.6531847907867303,
          -0.6765544580199839,
          -1.2165674690010424,
          -1.0024878436698812,
          -0.6631326598962466,
          -0.9655624916583401,
          -1.0501866795274197,
          -1.9771310843828784,
          -0.7365374654290823,
          -0.881693615482937,
          -0.8430253967233435,
          -0.9326730917228242,
          -1.21611440299624,
          -0.8816960782562654,
          -1.010662995196012,
          -1.0872707883376334,
          -1.0872707883376334,
          -1.010662995196012,
          -1.010662995196012,
          -0.8796744223714406,
          -0.8249363848279504,
          -0.5976007120486481,
          -0.5976007120486481,
          -0.5976007120486481,
          -0.15301786548380863,
          -1.2876081742449683,
          -1.0275299883730544,
          -1.027523140223955,
          0.047036832375871855,
          -0.1406063717281325,
          -0.04336327211366802,
          -0.6531847907867303,
          0.12547529868292995,
          -0.7957055263122317,
          -0.7894878339263651,
          -0.7894878339263651,
          -0.7578384776718015
         ],
         "z": [
          0.9860029660298927,
          2.405248315845694,
          2.428990191066976,
          2.4010082265380075,
          2.438637481768878,
          0.510419223798321,
          0.49824632685857795,
          0.4304204142206913,
          -0.4940250509786805,
          1.225932602434611,
          0.9125225927436519,
          0.6107274205742139,
          1.1063615367169828,
          0.47077467635402315,
          0.8470360751622652,
          0.6031150634043394,
          0.8465949456761493,
          0.68965232893178,
          1.4254588858116648,
          1.12805262774636,
          0.8596260051119604,
          1.3392893504054706,
          1.4212306926584044,
          0.6045734560612992,
          1.425420381267438,
          1.1750280737341168,
          0.5568932103611596,
          0.4239724028928473,
          0.42084325249979765,
          1.4831899618101605,
          -0.20823110336150613,
          -0.5212274100783968,
          -0.166150906574869,
          -0.16615311226572574,
          -0.40642953198935866,
          1.0013279442007352,
          1.187496402237438,
          0.8550447560912406,
          1.4323966101593724,
          1.202531855966517,
          0.4368216306657772,
          -0.31264370109701906,
          -0.31981211937426685,
          -0.3145457481145994,
          -0.17133279711541907,
          -0.5063183397272941,
          0.3296867503614906,
          0.3200933668615724,
          -0.09680486893044499,
          0.20618457816415348,
          0.20618457816415348,
          0.3617342996025206,
          -0.11568849837143023,
          0.00815577635583291,
          -0.17651567194767273,
          0.37057643103825916,
          -0.06068958857040302,
          -0.17634885596240787,
          0.08692505918797659,
          -0.23769175033635506,
          -0.0973793472495267,
          -0.1294500072976916,
          -0.21109267064414886,
          -0.3486179457308782,
          0.1559458927593142,
          0.010445255913339987,
          -0.10052672945724114,
          -0.2952893346693411,
          -0.1037250690395185,
          -0.11478243340809266,
          -0.3454002324265003,
          0.05170650016401823,
          -0.5716898750679158,
          -0.9160564014918245,
          -0.2954385756272168,
          -0.2954385756272168,
          -0.44153322850031484,
          -0.15197007052207973,
          -0.444015891380182,
          -0.22881754063397006,
          -0.228815432835269,
          0.11930440523893286,
          -0.2601569688935607,
          -0.23489550770085582,
          -0.26188568665235445,
          -0.24123966156577034,
          -0.32036716891656214,
          -0.953179799370987,
          -0.9821162443727353,
          -1.146173382384873,
          -0.6361031661710868,
          -0.6191160820688633,
          -0.9493763164366121,
          -0.9567646111434469,
          -0.548278484788247,
          -0.53598359928666,
          -0.4030314309342209,
          -0.2788535629619237,
          -0.5151185104347066,
          -0.2755120451304629,
          -0.13063323836847698,
          0.8633544344733541,
          -0.508573694304734,
          -0.22809732649438821,
          -0.25293641295542835,
          -0.20199011557714155,
          -0.11787667843345627,
          -0.22809507981145338,
          -0.24123966156577034,
          -0.19393796157395543,
          -0.19393796157395543,
          -0.24123966156577034,
          -0.24123966156577034,
          -0.2293129265792851,
          -0.30863509239107295,
          -0.5716898750679158,
          -0.5716898750679158,
          -0.5716898750679158,
          -0.9427846549713965,
          -0.03355825744308159,
          -0.14438870338995352,
          -0.14439490444578265,
          -1.1278691341273681,
          -0.939767413685,
          -0.9993680092697331,
          -0.548278484788247,
          -1.1012643817310452,
          -0.41868433629993346,
          -0.3298961635047326,
          -0.3298961635047326,
          -0.3492520684788637,
          -0.05994097871981866,
          -0.47061896208596005,
          -0.4951360142516705,
          -0.17651567194767273,
          0.006218623417851857,
          -0.3268686745495641,
          -0.11787667843345627,
          -0.4058824339657058,
          -0.21687729240129647,
          -0.28316226362457225,
          -0.09680486893044499,
          -0.09680486893044499,
          -0.09680486893044499,
          -0.09680486893044499,
          -0.09680486893044499,
          0.007823117802931665,
          0.004823357470874268,
          0.004823357470874268,
          0.004823357470874268,
          0.004823357470874268,
          -0.199019027539133,
          -0.199019027539133,
          -0.33805469633580787,
          -0.18222102907750906,
          -0.05241531575246018,
          0.3745040210816686,
          -0.16917634880597932,
          -0.11849867931650995,
          -0.683264401636889,
          -0.10997616482932669,
          -0.18222102907750906,
          0.15535420385398466,
          0.3745040210816686,
          0.2841851491131016,
          -0.2952893346693411,
          0.05170650016401823,
          -0.4100730357275144,
          -0.444015891380182,
          -0.558309829225085,
          -0.4100730357275144,
          -0.3179397324071737,
          -0.3697788714615222,
          -0.2954385756272168,
          -0.5570750649542074,
          -0.2954385756272168,
          0.02806248753210571,
          -0.4100730357275144,
          -0.31136641454076397,
          -0.14438870338995352,
          -0.14438870338995352,
          -0.166150906574869,
          -0.14438870338995352,
          -0.166150906574869,
          -0.14439490444578265,
          -0.16615311226572574,
          -0.14439490444578265,
          -0.16615311226572574,
          -0.14439490444578265,
          -0.3630069845049738,
          -0.3215268092155643,
          -0.35774760543882184,
          -0.13409150830612157,
          -0.6440385109995254,
          -0.5549337353363251,
          -0.3787236655877314,
          -0.7027181910330731,
          -0.9157301801334848,
          1.1555714380203561,
          1.1555707211334145,
          -0.26251975434346597,
          0.039911357355569964,
          -0.1972366339436115,
          -0.6718132617505745,
          0.3660469899719091,
          0.6996573626099051,
          0.38258162322504463,
          0.44637862055717886,
          0.3885191873535276,
          0.37597746950886346,
          0.3847588558517207,
          0.696852640850617,
          -0.585837522585416,
          -0.8979230790119075,
          -0.9649763690158465,
          -0.6192866059787583,
          -0.9302289744758293,
          -0.37345089963413586,
          -0.656620420298157,
          -0.6384084800802198,
          -0.548278484788247,
          0.00815577635583291,
          -0.12759552212889175,
          -0.2972207127769518,
          -0.4100730357275144,
          -0.30842188553924543,
          -0.4940250509786805,
          -0.4100730357275144,
          -0.1454150500425873,
          -0.4940250509786805,
          -0.49386995016446245,
          -0.16854026592260407,
          -0.49726587035092945,
          -0.16854026592260407,
          -0.22881754063397006,
          -0.2672937934626509,
          -0.228815432835269,
          0.012760243651698434,
          -0.1759395476714287,
          -0.53598359928666,
          -0.22776411445323178,
          -0.10678741481975748,
          0.9747395347516217,
          0.9580972558485659,
          0.9703063079508839,
          0.9276624101820493,
          1.1214736903009925,
          0.9299627378880349,
          0.4910878205852297,
          0.5568932103611596,
          0.5066803779227812,
          0.5870288236680087,
          -0.7027181910330731,
          0.9860029660298927,
          2.405248315845694,
          2.428990191066976,
          2.4010082265380075,
          2.438637481768878,
          0.6107274205742139,
          1.1063615367169828,
          0.47077467635402315,
          0.8470360751622652,
          0.6031150634043394,
          0.8465949456761493,
          0.68965232893178,
          1.4254588858116648,
          1.12805262774636,
          0.8596260051119604,
          1.3392893504054706,
          1.4212306926584044,
          0.6045734560612992,
          1.425420381267438,
          1.1750280737341168,
          0.5568932103611596,
          0.4239724028928473,
          0.42084325249979765,
          1.4831899618101605,
          -0.20823110336150613,
          -0.5212274100783968,
          -0.166150906574869,
          -0.16615311226572574,
          -0.4064295319893588,
          1.0013279442007352,
          1.187496402237438,
          0.8550447560912406,
          1.4323966101593724,
          1.202531855966517,
          0.4368216306657772,
          -0.31264370109701906,
          -0.31981211937426685,
          -0.3145457481145994,
          -0.17133279711541907,
          -0.5063183397272941,
          0.3296867503614906,
          0.3200933668615724,
          -0.09680486893044499,
          0.20618457816415348,
          0.20618457816415348,
          0.3617342996025206,
          -0.11568849837143023,
          0.00815577635583291,
          -0.17651567194767273,
          0.37057643103825916,
          -0.06068958857040302,
          -0.17634885596240787,
          0.08692505918797659,
          -0.23769175033635506,
          -0.0973793472495267,
          -0.1294500072976916,
          -0.21109267064414886,
          -0.3486179457308782,
          0.155945892759314,
          0.010445255913339987,
          -0.10052672945724114,
          -0.2952893346693411,
          -0.1037250690395185,
          -0.11478243340809266,
          -0.3454002324265003,
          0.05170650016401823,
          -0.5716898750679158,
          -0.9160564014918245,
          -0.2954385756272168,
          -0.2954385756272168,
          -0.44153322850031484,
          -0.15197007052207973,
          -0.444015891380182,
          -0.22881754063397006,
          -0.228815432835269,
          0.11930440523893286,
          -0.2601569688935607,
          -0.23489550770085582,
          -0.26188568665235445,
          -0.24123966156577034,
          -0.32036716891656214,
          -0.953179799370987,
          -0.9821162443727353,
          -1.146173382384873,
          -0.6361031661710868,
          -0.6191160820688633,
          -0.9493763164366121,
          -0.9567646111434469,
          -0.548278484788247,
          -0.53598359928666,
          -0.4030314309342209,
          -0.2788535629619237,
          -0.5151185104347066,
          -0.2755120451304629,
          -0.13063323836847698,
          0.8633544344733541,
          -0.508573694304734,
          -0.22809732649438821,
          -0.25293641295542835,
          -0.20199011557714155,
          -0.11787667843345627,
          -0.22809507981145338,
          -0.24123966156577034,
          -0.19393796157395543,
          -0.19393796157395543,
          -0.24123966156577034,
          -0.24123966156577034,
          -0.2293129265792851,
          -0.30863509239107295,
          -0.5716898750679158,
          -0.5716898750679158,
          -0.5716898750679158,
          -0.9427846549713965,
          -0.03355825744308159,
          -0.14438870338995352,
          -0.14439490444578265,
          -1.1278691341273681,
          -0.939767413685,
          -0.9993680092697331,
          -0.548278484788247,
          -1.1012643817310452,
          -0.41868433629993346,
          -0.3298961635047326,
          -0.3298961635047326,
          -0.3492520684788637
         ]
        },
        {
         "customdata": [
          [
           "Hierba"
          ],
          [
           "Hierba"
          ],
          [
           "Hierba"
          ],
          [
           "Hierba"
          ],
          [
           "Hierba"
          ],
          [
           "Hierba"
          ],
          [
           "Hierba"
          ],
          [
           "Sufrútice"
          ],
          [
           "Sufrútice"
          ],
          [
           "Sufrútice"
          ],
          [
           "Sufrútice"
          ],
          [
           "Sufrútice"
          ],
          [
           "Sufrútice"
          ],
          [
           "Hierba"
          ],
          [
           "Hierba"
          ],
          [
           "Hierba"
          ],
          [
           "Hierba"
          ],
          [
           "Hierba"
          ],
          [
           "Hierba"
          ],
          [
           "Arbusto"
          ],
          [
           "Arbusto"
          ],
          [
           "Arbusto"
          ],
          [
           "Arbusto"
          ],
          [
           "Arbusto"
          ],
          [
           "Arbusto"
          ],
          [
           "arbusto"
          ],
          [
           "arbusto"
          ],
          [
           "Hierba o arbusto"
          ],
          [
           "Hierba o arbusto"
          ],
          [
           "arbusto"
          ],
          [
           "arbusto"
          ],
          [
           "arbusto"
          ],
          [
           "Árbol"
          ],
          [
           "arbusto"
          ],
          [
           "arbusto"
          ],
          [
           "Arbusto"
          ],
          [
           "Arbusto"
          ],
          [
           "Arbusto"
          ],
          [
           "Arbusto"
          ],
          [
           "Hierba"
          ],
          [
           "Hierba"
          ],
          [
           "Hierba"
          ],
          [
           "Hierba"
          ],
          [
           "Arbusto"
          ],
          [
           "Arbusto"
          ],
          [
           "Arbusto"
          ],
          [
           "Árbol"
          ],
          [
           "Arbusto"
          ],
          [
           "Arbusto"
          ],
          [
           "Arbusto"
          ],
          [
           "Arbusto"
          ],
          [
           "Arbusto"
          ],
          [
           "Arbusto"
          ],
          [
           "Hierba"
          ],
          [
           "Hierba"
          ],
          [
           "Hierba"
          ],
          [
           "Árbol"
          ],
          [
           "Arbusto"
          ],
          [
           "Arbusto"
          ],
          [
           "Hierba"
          ],
          [
           "Hierba"
          ],
          [
           "Hierba o sufrútice"
          ],
          [
           "Sufrútice o arbusto"
          ],
          [
           "Sufrútice"
          ],
          [
           "Sufrútice"
          ],
          [
           "Hierba"
          ],
          [
           "Hierba"
          ],
          [
           "Hierba"
          ],
          [
           "Hierba"
          ],
          [
           "Árbol"
          ],
          [
           "Árbol"
          ],
          [
           "Árbol"
          ],
          [
           "Arbusto"
          ],
          [
           "Arbusto"
          ],
          [
           "Arbusto"
          ],
          [
           "Hierba"
          ],
          [
           "Árbol"
          ],
          [
           "Árbol"
          ],
          [
           "Hierba"
          ],
          [
           "Hierba"
          ],
          [
           "Hierba"
          ],
          [
           "Hierba"
          ],
          [
           "Hierba"
          ],
          [
           "Hierba"
          ],
          [
           "Hierba"
          ],
          [
           "Hierba"
          ],
          [
           "Hierba"
          ],
          [
           "arbusto"
          ],
          [
           "arbusto"
          ],
          [
           "arbusto"
          ],
          [
           "arbusto"
          ],
          [
           "arbusto"
          ],
          [
           "arbusto"
          ],
          [
           "arbusto"
          ],
          [
           "arbusto"
          ],
          [
           "arbusto"
          ],
          [
           "arbusto"
          ],
          [
           "arbusto"
          ],
          [
           "arbusto"
          ],
          [
           "arbusto"
          ],
          [
           "arbusto"
          ],
          [
           "arbusto"
          ],
          [
           "arbusto"
          ],
          [
           "arbusto"
          ],
          [
           "arbusto"
          ],
          [
           "arbusto"
          ],
          [
           "arbusto"
          ],
          [
           "arbusto"
          ],
          [
           "arbusto"
          ],
          [
           "arbusto"
          ],
          [
           "arbusto"
          ],
          [
           "arbusto"
          ],
          [
           "Arbusto"
          ],
          [
           "arbusto"
          ],
          [
           "arbusto"
          ],
          [
           "arbusto"
          ],
          [
           "arbusto"
          ],
          [
           "arbusto"
          ],
          [
           "arbusto"
          ],
          [
           "arbusto"
          ],
          [
           "arbusto"
          ],
          [
           "arbusto"
          ],
          [
           "arbusto"
          ],
          [
           "arbusto"
          ],
          [
           "arbusto"
          ],
          [
           "arbusto"
          ],
          [
           "arbusto"
          ],
          [
           "arbusto"
          ],
          [
           "arbusto"
          ],
          [
           "arbusto"
          ],
          [
           "arbusto"
          ],
          [
           "arbusto"
          ],
          [
           "arbusto"
          ],
          [
           "arbusto"
          ],
          [
           "arbusto"
          ],
          [
           "arbusto"
          ],
          [
           "arbusto"
          ],
          [
           "arbusto"
          ],
          [
           "arbusto"
          ],
          [
           "arbusto"
          ],
          [
           "arbusto"
          ],
          [
           "arbusto"
          ],
          [
           "arbusto"
          ],
          [
           "arbusto"
          ],
          [
           "arbusto"
          ],
          [
           "arbusto"
          ],
          [
           "arbusto"
          ],
          [
           "arbusto"
          ],
          [
           "arbusto"
          ],
          [
           "arbusto"
          ],
          [
           "arbusto"
          ],
          [
           "arbusto"
          ],
          [
           "arbusto"
          ],
          [
           "arbusto"
          ],
          [
           "arbusto"
          ],
          [
           "arbusto"
          ],
          [
           "arbusto"
          ],
          [
           "arbusto"
          ],
          [
           "arbusto"
          ],
          [
           "arbusto"
          ],
          [
           "arbusto"
          ],
          [
           "arbusto"
          ],
          [
           "arbusto"
          ],
          [
           "arbusto"
          ],
          [
           "arbusto"
          ],
          [
           "arbusto"
          ],
          [
           "arbusto"
          ],
          [
           "arbusto"
          ],
          [
           "arbusto"
          ],
          [
           "arbusto"
          ],
          [
           "arbusto"
          ],
          [
           "arbusto"
          ],
          [
           "arbusto"
          ],
          [
           "arbusto"
          ],
          [
           "arbusto"
          ],
          [
           "arbusto"
          ],
          [
           "arbusto"
          ],
          [
           "arbusto"
          ],
          [
           "arbusto"
          ],
          [
           "arbusto"
          ],
          [
           "arbusto"
          ],
          [
           "arbusto"
          ],
          [
           "arbusto"
          ],
          [
           "arbusto"
          ],
          [
           "arbusto"
          ],
          [
           "arbusto"
          ],
          [
           "arbusto"
          ],
          [
           "arbusto"
          ],
          [
           "arbusto"
          ],
          [
           "arbusto"
          ],
          [
           "arbusto"
          ],
          [
           "arbusto"
          ],
          [
           "arbusto"
          ],
          [
           "arbusto"
          ],
          [
           "arbusto"
          ],
          [
           "arbusto"
          ],
          [
           "arbusto"
          ],
          [
           "arbusto"
          ],
          [
           "arbusto"
          ],
          [
           "arbusto"
          ],
          [
           "arbusto"
          ],
          [
           "arbusto"
          ],
          [
           "arbusto"
          ],
          [
           "arbusto"
          ],
          [
           "arbusto"
          ],
          [
           "arbusto"
          ],
          [
           "arbusto"
          ],
          [
           "arbusto"
          ],
          [
           "arbusto"
          ],
          [
           "arbusto"
          ],
          [
           "arbusto"
          ],
          [
           "arbusto"
          ],
          [
           "arbusto"
          ],
          [
           "arbusto"
          ],
          [
           "arbusto"
          ],
          [
           "arbusto"
          ],
          [
           "arbusto"
          ],
          [
           "arbusto"
          ],
          [
           "arbusto"
          ],
          [
           "arbusto"
          ],
          [
           "arbusto"
          ],
          [
           "arbusto"
          ],
          [
           "arbusto"
          ],
          [
           "arbusto"
          ],
          [
           "arbusto"
          ],
          [
           "arbusto"
          ],
          [
           "arbusto"
          ],
          [
           "arbusto"
          ],
          [
           "arbusto"
          ],
          [
           "arbusto"
          ],
          [
           "arbusto"
          ],
          [
           "arbusto"
          ],
          [
           "arbusto"
          ],
          [
           "arbusto"
          ],
          [
           "arbusto"
          ],
          [
           "arbusto"
          ],
          [
           "arbusto"
          ],
          [
           "arbusto"
          ],
          [
           "arbusto"
          ],
          [
           "arbusto"
          ],
          [
           "arbusto"
          ],
          [
           "arbusto"
          ],
          [
           "arbusto"
          ],
          [
           "arbusto"
          ],
          [
           "arbusto"
          ],
          [
           "arbusto"
          ],
          [
           "arbusto"
          ],
          [
           "arbusto"
          ],
          [
           "arbusto"
          ],
          [
           "arbusto"
          ],
          [
           "arbusto"
          ],
          [
           "arbusto"
          ],
          [
           "arbusto"
          ],
          [
           "arbusto"
          ],
          [
           "arbusto"
          ],
          [
           "arbusto"
          ],
          [
           "arbusto"
          ],
          [
           "arbusto"
          ],
          [
           "arbusto"
          ],
          [
           "arbusto"
          ],
          [
           "arbusto"
          ],
          [
           "arbusto"
          ],
          [
           "arbusto"
          ],
          [
           "arbusto"
          ],
          [
           "arbusto"
          ],
          [
           "arbusto"
          ],
          [
           "arbusto"
          ],
          [
           "arbusto"
          ],
          [
           "arbusto"
          ],
          [
           "arbusto"
          ],
          [
           "arbusto"
          ],
          [
           "arbusto"
          ],
          [
           "arbusto"
          ],
          [
           "arbusto"
          ],
          [
           "arbusto"
          ],
          [
           "arbusto"
          ],
          [
           "arbusto"
          ],
          [
           "arbusto"
          ],
          [
           "arbusto"
          ],
          [
           "arbusto"
          ],
          [
           "arbusto"
          ],
          [
           "arbusto"
          ],
          [
           "arbusto"
          ],
          [
           "arbusto"
          ],
          [
           "arbusto"
          ],
          [
           "arbusto"
          ],
          [
           "arbusto"
          ],
          [
           "arbusto"
          ],
          [
           "arbusto"
          ],
          [
           "arbusto"
          ],
          [
           "arbusto"
          ],
          [
           "arbusto"
          ],
          [
           "arbusto"
          ],
          [
           "arbusto"
          ],
          [
           "arbusto"
          ],
          [
           "arbusto"
          ],
          [
           "arbusto"
          ],
          [
           "arbusto"
          ],
          [
           "arbusto"
          ],
          [
           "arbusto"
          ],
          [
           "arbusto"
          ],
          [
           "arbusto"
          ],
          [
           "arbusto"
          ],
          [
           "arbusto"
          ],
          [
           "arbusto"
          ],
          [
           "arbusto"
          ],
          [
           "arbusto"
          ],
          [
           "arbusto"
          ],
          [
           "arbusto"
          ],
          [
           "arbusto"
          ],
          [
           "arbusto"
          ],
          [
           "arbusto"
          ],
          [
           "arbusto"
          ],
          [
           "arbusto"
          ],
          [
           "arbusto"
          ],
          [
           "arbusto"
          ],
          [
           "arbusto"
          ],
          [
           "arbusto"
          ],
          [
           "arbusto"
          ],
          [
           "arbusto"
          ],
          [
           "arbusto"
          ],
          [
           "arbusto"
          ],
          [
           "arbusto"
          ],
          [
           "arbusto"
          ],
          [
           "arbusto"
          ],
          [
           "arbusto"
          ],
          [
           "arbusto"
          ],
          [
           "Hierba"
          ],
          [
           "Hierba"
          ],
          [
           "Hierba"
          ],
          [
           "Hierba"
          ],
          [
           "Hierba"
          ],
          [
           "Hierba"
          ],
          [
           "Hierba"
          ],
          [
           "Hierba"
          ],
          [
           "Hierba"
          ],
          [
           "Hierba"
          ]
         ],
         "hovertemplate": "<b>%{hovertext}</b><br><br>Class=%{marker.color}<br>PC 1=%{x}<br>PC 2=%{y}<br>PC 3=%{z}<br>Hierba=%{customdata[0]}<extra></extra>",
         "hovertext": [
          "Apiaceae",
          "Aristolochiaceae",
          "Aristolochiaceae",
          "Aristolochiaceae",
          "Aristolochiaceae",
          "Aristolochiaceae",
          "Aristolochiaceae",
          "Bataceae",
          "Bataceae",
          "Bataceae",
          "Bataceae",
          "Bataceae",
          "Bataceae",
          "Brassicaceae",
          "Brassicaceae",
          "Brassicaceae",
          "Brassicaceae",
          "Brassicaceae",
          "Brassicaceae",
          "Achatocarpaceae",
          "Achatocarpaceae",
          "Achatocarpaceae",
          "Achatocarpaceae",
          "Achatocarpaceae",
          "Achatocarpaceae",
          "Acanthaceae",
          "Acanthaceae",
          "Acanthaceae",
          "Acanthaceae",
          "Euphorbiaceae",
          "Euphorbiaceae",
          "Euphorbiaceae",
          "Bombacaceae",
          "Malvaceae",
          "Malvaceae",
          "Saururaceae",
          "Saururaceae",
          "Saururaceae",
          "Plantaginaceae",
          "Polygonaceae",
          "Polygonaceae",
          "Polygonaceae",
          "Polygonaceae",
          "Polygonaceae",
          "Polygonaceae",
          "Polygonaceae",
          "Rhamnaceae",
          "Rhizophoraceae",
          "Rhizophoraceae",
          "Rhizophoraceae",
          "Rhizophoraceae",
          "Rhizophoraceae",
          "Rhizophoraceae",
          "Rosaceae",
          "Rosaceae",
          "Rosaceae",
          "Rosaceae",
          "Olacaceae",
          "Olacaceae",
          "Olacaceae",
          "Olacaceae",
          "Olacaceae",
          "Olacaceae",
          "Polemoniaceae",
          "Polemoniaceae",
          "Polemoniaceae",
          "Polemoniaceae",
          "Polemoniaceae",
          "Polemoniaceae",
          "Moraceae",
          "Moraceae",
          "Moraceae",
          "Moraceae",
          "Moraceae",
          "Moraceae",
          "Bixaceae",
          "Tamaricaceae",
          "Tamaricaceae",
          "Rutaceae",
          "Rutaceae",
          "Rutaceae",
          "Rutaceae",
          "Rutaceae",
          "Rutaceae",
          "Rutaceae",
          "Rutaceae",
          "Rutaceae",
          "Acanthaceae",
          "Acanthaceae",
          "Acanthaceae",
          "Acanthaceae",
          "Acanthaceae",
          "Acanthaceae",
          "Acanthaceae",
          "Acanthaceae",
          "Acanthaceae",
          "Acanthaceae",
          "Acanthaceae",
          "Acanthaceae",
          "Acanthaceae",
          "Acanthaceae",
          "Acanthaceae",
          "Acanthaceae",
          "Acanthaceae",
          "Acanthaceae",
          "Acanthaceae",
          "Acanthaceae",
          "Acanthaceae",
          "Acanthaceae",
          "Acanthaceae",
          "Acanthaceae",
          "Acanthaceae",
          "Lamiaceae",
          "Malvaceae",
          "Malvaceae",
          "Malvaceae",
          "Malvaceae",
          "Malvaceae",
          "Malvaceae",
          "Malvaceae",
          "Malvaceae",
          "Malvaceae",
          "Malvaceae",
          "Malvaceae",
          "Malvaceae",
          "Malvaceae",
          "Malvaceae",
          "Malvaceae",
          "Malvaceae",
          "Malvaceae",
          "Malvaceae",
          "Malvaceae",
          "Malvaceae",
          "Malvaceae",
          "Malvaceae",
          "Malvaceae",
          "Malvaceae",
          "Malvaceae",
          "Malvaceae",
          "Malvaceae",
          "Malvaceae",
          "Malvaceae",
          "Malvaceae",
          "Malvaceae",
          "Malvaceae",
          "Malvaceae",
          "Malvaceae",
          "Malvaceae",
          "Malvaceae",
          "Malvaceae",
          "Malvaceae",
          "Malvaceae",
          "Malvaceae",
          "Malvaceae",
          "Malvaceae",
          "Malvaceae",
          "Malvaceae",
          "Malvaceae",
          "Malvaceae",
          "Malvaceae",
          "Malvaceae",
          "Malvaceae",
          "Malvaceae",
          "Malvaceae",
          "Malvaceae",
          "Malvaceae",
          "Malvaceae",
          "Malvaceae",
          "Malvaceae",
          "Malvaceae",
          "Malvaceae",
          "Malvaceae",
          "Malvaceae",
          "Malvaceae",
          "Malvaceae",
          "Malvaceae",
          "Malvaceae",
          "Malvaceae",
          "Malvaceae",
          "Malvaceae",
          "Malvaceae",
          "Malvaceae",
          "Malvaceae",
          "Malvaceae",
          "Malvaceae",
          "Malvaceae",
          "Malvaceae",
          "Malvaceae",
          "Malvaceae",
          "Malvaceae",
          "Malvaceae",
          "Malvaceae",
          "Malvaceae",
          "Malvaceae",
          "Malvaceae",
          "Malvaceae",
          "Malvaceae",
          "Malvaceae",
          "Malvaceae",
          "Malvaceae",
          "Malvaceae",
          "Malvaceae",
          "Malvaceae",
          "Malvaceae",
          "Malvaceae",
          "Malvaceae",
          "Malvaceae",
          "Malvaceae",
          "Malvaceae",
          "Malvaceae",
          "Malvaceae",
          "Malvaceae",
          "Malvaceae",
          "Malvaceae",
          "Malvaceae",
          "Malvaceae",
          "Malvaceae",
          "Malvaceae",
          "Malvaceae",
          "Malvaceae",
          "Malvaceae",
          "Malvaceae",
          "Malvaceae",
          "Malvaceae",
          "Malvaceae",
          "Malvaceae",
          "Malvaceae",
          "Malvaceae",
          "Malvaceae",
          "Malvaceae",
          "Malvaceae",
          "Malvaceae",
          "Malvaceae",
          "Malvaceae",
          "Malvaceae",
          "Malvaceae",
          "Malvaceae",
          "Malvaceae",
          "Malvaceae",
          "Malvaceae",
          "Malvaceae",
          "Malvaceae",
          "Malvaceae",
          "Malvaceae",
          "Malvaceae",
          "Malvaceae",
          "Malvaceae",
          "Malvaceae",
          "Malvaceae",
          "Malvaceae",
          "Malvaceae",
          "Malvaceae",
          "Malvaceae",
          "Malvaceae",
          "Malvaceae",
          "Malvaceae",
          "Malvaceae",
          "Malvaceae",
          "Malvaceae",
          "Malvaceae",
          "Malvaceae",
          "Malvaceae",
          "Malvaceae",
          "Malvaceae",
          "Malvaceae",
          "Malvaceae",
          "Malvaceae",
          "Malvaceae",
          "Malvaceae",
          "Malvaceae",
          "Malvaceae",
          "Malvaceae",
          "Malvaceae",
          "Malvaceae",
          "Malvaceae",
          "Malvaceae",
          "Malvaceae",
          "Malvaceae",
          "Malvaceae",
          "Malvaceae",
          "Malvaceae",
          "Malvaceae",
          "Malvaceae",
          "Malvaceae",
          "Malvaceae",
          "Malvaceae",
          "Malvaceae",
          "Malvaceae",
          "Malvaceae",
          "Malvaceae",
          "Malvaceae",
          "Malvaceae",
          "Malvaceae",
          "Malvaceae",
          "Malvaceae",
          "Malvaceae",
          "Malvaceae",
          "Malvaceae",
          "Malvaceae",
          "Malvaceae",
          "Malvaceae",
          "Malvaceae",
          "Malvaceae",
          "Malvaceae",
          "Malvaceae",
          "Malvaceae",
          "Malvaceae",
          "Malvaceae",
          "Malvaceae",
          "Malvaceae",
          "Malvaceae",
          "Malvaceae",
          "Malvaceae",
          "Malvaceae",
          "Malvaceae",
          "Malvaceae",
          "Malvaceae",
          "Malvaceae",
          "Malvaceae",
          "Malvaceae",
          "Malvaceae",
          "Malvaceae",
          "Malvaceae",
          "Malvaceae",
          "Malvaceae",
          "Malvaceae",
          "Malvaceae",
          "Rutaceae",
          "Rutaceae",
          "Rutaceae",
          "Rutaceae",
          "Rutaceae",
          "Rutaceae",
          "Rutaceae",
          "Rutaceae",
          "Rutaceae",
          "Bixaceae"
         ],
         "legendgroup": "1",
         "marker": {
          "color": [
           1,
           1,
           1,
           1,
           1,
           1,
           1,
           1,
           1,
           1,
           1,
           1,
           1,
           1,
           1,
           1,
           1,
           1,
           1,
           1,
           1,
           1,
           1,
           1,
           1,
           1,
           1,
           1,
           1,
           1,
           1,
           1,
           1,
           1,
           1,
           1,
           1,
           1,
           1,
           1,
           1,
           1,
           1,
           1,
           1,
           1,
           1,
           1,
           1,
           1,
           1,
           1,
           1,
           1,
           1,
           1,
           1,
           1,
           1,
           1,
           1,
           1,
           1,
           1,
           1,
           1,
           1,
           1,
           1,
           1,
           1,
           1,
           1,
           1,
           1,
           1,
           1,
           1,
           1,
           1,
           1,
           1,
           1,
           1,
           1,
           1,
           1,
           1,
           1,
           1,
           1,
           1,
           1,
           1,
           1,
           1,
           1,
           1,
           1,
           1,
           1,
           1,
           1,
           1,
           1,
           1,
           1,
           1,
           1,
           1,
           1,
           1,
           1,
           1,
           1,
           1,
           1,
           1,
           1,
           1,
           1,
           1,
           1,
           1,
           1,
           1,
           1,
           1,
           1,
           1,
           1,
           1,
           1,
           1,
           1,
           1,
           1,
           1,
           1,
           1,
           1,
           1,
           1,
           1,
           1,
           1,
           1,
           1,
           1,
           1,
           1,
           1,
           1,
           1,
           1,
           1,
           1,
           1,
           1,
           1,
           1,
           1,
           1,
           1,
           1,
           1,
           1,
           1,
           1,
           1,
           1,
           1,
           1,
           1,
           1,
           1,
           1,
           1,
           1,
           1,
           1,
           1,
           1,
           1,
           1,
           1,
           1,
           1,
           1,
           1,
           1,
           1,
           1,
           1,
           1,
           1,
           1,
           1,
           1,
           1,
           1,
           1,
           1,
           1,
           1,
           1,
           1,
           1,
           1,
           1,
           1,
           1,
           1,
           1,
           1,
           1,
           1,
           1,
           1,
           1,
           1,
           1,
           1,
           1,
           1,
           1,
           1,
           1,
           1,
           1,
           1,
           1,
           1,
           1,
           1,
           1,
           1,
           1,
           1,
           1,
           1,
           1,
           1,
           1,
           1,
           1,
           1,
           1,
           1,
           1,
           1,
           1,
           1,
           1,
           1,
           1,
           1,
           1,
           1,
           1,
           1,
           1,
           1,
           1,
           1,
           1,
           1,
           1,
           1,
           1,
           1,
           1,
           1,
           1,
           1,
           1,
           1,
           1,
           1,
           1,
           1,
           1,
           1,
           1,
           1,
           1,
           1,
           1,
           1,
           1,
           1,
           1,
           1,
           1,
           1,
           1,
           1,
           1,
           1,
           1,
           1,
           1,
           1,
           1,
           1,
           1,
           1,
           1,
           1,
           1,
           1,
           1,
           1,
           1,
           1,
           1,
           1,
           1,
           1,
           1,
           1,
           1,
           1,
           1,
           1,
           1,
           1,
           1,
           1,
           1,
           1,
           1,
           1,
           1,
           1,
           1,
           1
          ],
          "coloraxis": "coloraxis",
          "symbol": "x"
         },
         "mode": "markers",
         "name": "1",
         "scene": "scene",
         "showlegend": true,
         "type": "scatter3d",
         "x": [
          -1.6024325717443457,
          -1.727566816965418,
          -1.7273881188841236,
          -1.7587880742643498,
          -1.7600435153396266,
          -1.7301543405659177,
          -1.7295648658578915,
          -2.8723256758876774,
          -2.9107219060330816,
          -2.93551822005997,
          -2.943133152216169,
          -2.6627601590700913,
          -2.925728580275096,
          -1.5934577179640266,
          -1.479316049405655,
          -1.270965728906912,
          -1.47946788493057,
          -1.2640389634950915,
          -1.5740890908500969,
          -3.03567395128265,
          -3.0818928468628983,
          -3.1250996972152114,
          -3.090590556008937,
          -2.994049708306849,
          -3.0129643193739066,
          -2.1688071824562454,
          -2.418883003661394,
          -1.2627210149378085,
          -1.3197329851763335,
          -2.600179667530374,
          -2.7137211717219483,
          -2.581251075917034,
          -2.8389588024099672,
          -3.3323128618906104,
          -2.6255837098625774,
          -2.32288125919216,
          -2.549464765946966,
          -2.663002452472662,
          -2.7314543707806638,
          -1.9881967136505039,
          -2.0260871790862636,
          -2.0701456821748163,
          -1.9330745758230223,
          -2.7075709104634096,
          -2.611801386870843,
          -2.888948630073911,
          -2.8011737734271875,
          -3.0712769257089665,
          -3.0712769257089665,
          -3.1080800684604326,
          -3.1103768431427663,
          -3.0712769257089665,
          -3.1103768431427663,
          -1.6555234793336993,
          -1.7615638001433613,
          -1.6635721569629203,
          -2.1881942549069726,
          -2.685467270881237,
          -2.6642745871988076,
          -2.0412550049609917,
          -2.0419569593866878,
          -2.6314216417528873,
          -2.740825332696516,
          -2.780841597885409,
          -2.7671428627813457,
          -1.8270572169322472,
          -1.7366618996778014,
          -1.9760197811878537,
          -1.9760197811878537,
          -3.0972699713032537,
          -3.103480093989452,
          -3.1161867759214754,
          -3.148045804321408,
          -3.148045804321408,
          -3.148045804321408,
          -1.8215133507045407,
          -2.7458618206860126,
          -2.6812523061609093,
          -1.564429671547637,
          -1.499466544893814,
          -1.3758015134237407,
          -1.5791554420071012,
          -1.4441723512115725,
          -1.5711233809960028,
          -1.5909586414922612,
          -1.7961882152252502,
          -1.836422548373404,
          -3.066372668151282,
          -3.1761207682270602,
          -3.072577553362008,
          -3.0621894077470055,
          -3.3840820333080863,
          -3.065327492704771,
          -3.0399711816147907,
          -3.0438087285468227,
          -3.175004253279254,
          -2.9730613356622064,
          -3.1821604696391605,
          -3.0029832545582607,
          -2.9937614277897726,
          -3.0169113837980284,
          -3.175004253279254,
          -3.050613611983194,
          -2.9937614363790517,
          -3.129010810778121,
          -3.032461831496047,
          -3.017066953077658,
          -3.0381145190840964,
          -3.1643230863352647,
          -3.137909999936235,
          -3.0420864228819013,
          -3.072577553362008,
          -2.8945451944589324,
          -3.71023747492081,
          -3.6160466957554354,
          -3.674482808381976,
          -3.590141796044285,
          -3.684540345301659,
          -3.2608923336246707,
          -3.7811225146055523,
          -3.7988749424360555,
          -3.6731808759622515,
          -3.667151224795842,
          -3.7182170039537765,
          -3.7052387280617403,
          -3.775728756123616,
          -3.7713662320647434,
          -3.6979476900271866,
          -3.7720350734454633,
          -3.6786354962011454,
          -3.5417176991070276,
          -3.6289294399425467,
          -3.6683029072794002,
          -3.720161379294326,
          -3.6802606405537275,
          -3.608720418123119,
          -3.6586578713917794,
          -3.726050550503636,
          -3.697955812873311,
          -3.7061916206455945,
          -3.640269909149059,
          -3.6395435514131513,
          -3.599380232420101,
          -3.7116567216597955,
          -3.5522081982905402,
          -3.6075063455279284,
          -3.5673811569843643,
          -3.666094508444889,
          -3.6802607452616094,
          -3.681287085447896,
          -3.5331017708430688,
          -3.7713662320647434,
          -3.539260335579375,
          -3.625981071810524,
          -3.695918888515791,
          -3.682084132530173,
          -3.5982143713601324,
          -3.5458421107949056,
          -3.611402085958051,
          -3.726916732177304,
          -3.5459587855758046,
          -3.677536992308657,
          -3.656156087185101,
          -3.6829898070975875,
          -3.6731808759622515,
          -3.6062427369885586,
          -2.722451892231219,
          -2.90679907106518,
          -3.618501108168165,
          -3.7056543640962403,
          -3.7671772423714143,
          -3.62238507130436,
          -3.614787652706269,
          -3.6174136901868414,
          -3.7294331380966317,
          -3.6121991453647775,
          -3.614331445256192,
          -3.8034078228913617,
          -3.5906675228977525,
          -3.5699985263000693,
          -3.7694131977526633,
          -3.7856907983366352,
          -3.6578337600748103,
          -3.5549888484570245,
          -3.7660271821745153,
          -3.6182189074592137,
          -3.7294331380966317,
          -3.618501023043595,
          -3.8409092514590646,
          -3.7394316567433776,
          -3.7056543640962403,
          -3.7966728537231886,
          -3.5414089017211885,
          -3.5447884195277317,
          -3.36442765179923,
          -3.7045580343658067,
          -3.834295653750814,
          -3.8078853425562316,
          -3.6153467988653696,
          -3.41243664751195,
          -3.41243664751195,
          -3.7324181379103254,
          -3.5752278802911572,
          -3.618362871288368,
          -3.5222256399372904,
          -3.7968782053706254,
          -3.787657585185964,
          -3.531641596261183,
          -3.5562188649639603,
          -3.8088485845473183,
          -3.62238507130436,
          -3.7051503448004506,
          -3.631114972926309,
          -3.7418987944690554,
          -3.74011644001074,
          -3.7741153903328337,
          -3.402642447660174,
          -3.631114972926309,
          -3.530361062845149,
          -3.5786905833754683,
          -3.631114972926309,
          -3.7774077132234756,
          -3.7812914645032043,
          -3.7741153903328337,
          -3.612633139649355,
          -3.631114972926309,
          -3.7744179003246714,
          -3.631114972926309,
          -3.6217311487911785,
          -2.81919745929624,
          -3.5607279768966404,
          -3.775544457111501,
          -3.5607279768966404,
          -3.8345862804852566,
          -3.748662365321846,
          -3.8121243951159682,
          -3.7956735527588488,
          -3.775544457111501,
          -3.7717075393135757,
          -3.7713945352294314,
          -3.8345863986532143,
          -3.7270370050371486,
          -3.570901064838094,
          -3.557686727017046,
          -3.7286187497270364,
          -3.580493336267679,
          -3.5910569335684026,
          -3.6719753736829994,
          -3.287811723871629,
          -3.670629222524943,
          -3.6884167164141317,
          -3.6695136965558555,
          -3.642319415149221,
          -3.5193598414396154,
          -3.6712511471491833,
          -3.524715462728548,
          -3.863230286288371,
          -3.666940041392375,
          -3.644273675734996,
          -3.644273675734996,
          -3.7713662320647434,
          -3.603734497436539,
          -3.7152844340897104,
          -3.6500923353707075,
          -3.631880770833888,
          -3.689635857879873,
          -3.7097748017238144,
          -3.699648670888449,
          -3.7352842720526023,
          -3.776571478039173,
          -3.8324629537222776,
          -3.7713662320647434,
          -3.631880770833888,
          -3.7186169214730818,
          -3.6609478498615613,
          -3.7097753992936338,
          -3.7117248291689258,
          -3.693697710448714,
          -3.7805987735784212,
          -2.90679907106518,
          -3.6988569209418696,
          -3.788913667432922,
          -3.707562810281301,
          -3.6987060073996267,
          -3.8838444765432145,
          -3.571294438927323,
          -3.870647129444746,
          -3.456289869736124,
          -3.7344385035225915,
          -3.755892866482839,
          -3.698857039109826,
          -3.741898822096129,
          -3.893300884549716,
          -3.7918577369284985,
          -3.893300884549716,
          -3.583122702151648,
          -3.531641596261183,
          -3.6140217660374856,
          -3.7418987944690554,
          -3.8522137276954096,
          -3.1364038952168336,
          -3.1402714988806393,
          -3.7844263321051446,
          -3.559152557530291,
          -3.7765602495027917,
          -3.778412835443943,
          -3.840081057941164,
          -3.788579840187503,
          -3.841401221501885,
          -3.788578359803729,
          -3.67454306373707,
          -3.6917633383389763,
          -3.7782161555557146,
          -3.7711962351569217,
          -3.3542091520428188,
          -3.302209069294198,
          -3.186304139637823,
          -3.796787894622515,
          -3.332725524026831,
          -3.333628365962981,
          -3.352415758894302,
          -2.906620982420273,
          -2.631547306466983,
          -3.143106252773834,
          -2.803494144092426,
          -2.803494144092426,
          -2.707992434217391,
          -1.564429671547637,
          -1.499466544893814,
          -1.3758015134237407,
          -1.5791554420071012,
          -1.4441723512115725,
          -1.5711233809960028,
          -1.5909586414922612,
          -1.7961882152252502,
          -1.836422548373404,
          -1.8215133507045407
         ],
         "y": [
          0.39832625396061333,
          -0.08297985562504315,
          -0.03434380976838085,
          -0.09445030412950918,
          -0.14041275980943704,
          -0.01363377459394728,
          -0.0707212148061123,
          0.6020145485560306,
          0.4936041856674218,
          0.9860934676748607,
          0.9517857495577893,
          0.8665994430925562,
          0.47684093324974336,
          -0.07350665883214287,
          -0.02464934019414462,
          0.3558527317397283,
          -0.21202057714809913,
          0.18337472977766764,
          0.1923121677376912,
          -0.32721097613740013,
          -0.44710440311704125,
          -0.5760119972270336,
          -0.6086766039348885,
          -0.4450323682520523,
          -0.40164746246599387,
          -0.2646550141476383,
          -0.30605072258000193,
          -0.29926054258168494,
          -0.5221640013035022,
          -0.09988512592413425,
          -0.416105570339744,
          -0.009154063187454995,
          -0.20580002054010613,
          -1.8638956311705892,
          -0.7819582510168739,
          0.265003664387614,
          0.23825835453139577,
          0.06363228884363034,
          0.3802738838633962,
          0.27164090382718137,
          0.17523160895068204,
          0.09611095596062373,
          0.39594397485062055,
          0.06877985681641051,
          0.33831926430969783,
          0.1601629365895458,
          -0.5717239362843739,
          -0.5484788383370354,
          -0.5484788383370354,
          -0.70121093580079,
          -0.7052838656024287,
          -0.5484788383370354,
          -0.7052838656024287,
          -0.11746662482646002,
          -0.0602326909103614,
          0.09178110388867634,
          0.6032734306857639,
          0.35276435758701563,
          0.39421964551078603,
          0.11369457756713168,
          0.11236282099556492,
          0.4270367837834584,
          -0.007024024125415233,
          0.1857089531170727,
          0.42799382900110594,
          -0.16417115648348823,
          0.1263445574689886,
          -0.3059065121704498,
          -0.3059065121704498,
          -0.8608846655528762,
          -0.8709508085079373,
          -0.8950245286960001,
          -1.061943442445602,
          -1.061943442445602,
          -1.061943442445602,
          -0.17585974592228532,
          -0.01870425379387317,
          0.5495560766194348,
          -0.10662288866359766,
          -0.017689902979823507,
          0.19638286447388814,
          -0.14813591004148885,
          0.09668593666556413,
          -0.1405071091288214,
          -0.1776161121361991,
          0.050988514002521586,
          -0.061965571132837835,
          -1.7375936703040749,
          -1.8734931931921714,
          -1.7452535785670305,
          -1.7296843114915315,
          -2.1503435327072475,
          -1.6571002531576875,
          -1.6752193673183877,
          -1.6165436857638602,
          -1.871416415673012,
          -1.5768636238861533,
          -2.0705696863105447,
          -1.6321222487223759,
          -1.6017852199695497,
          -1.6327589334805421,
          -1.871416415673012,
          -1.6955566105638002,
          -1.6017853564528537,
          -2.000793182368474,
          -1.6765998621648237,
          -1.6330535941580961,
          -1.6724582002244324,
          -1.8368312845335732,
          -1.7452289509184857,
          -1.6774032726517039,
          -1.7452535785670305,
          -0.6838842560888232,
          -3.189217559321982,
          -2.924132070089725,
          -3.1171053507821647,
          -2.900900464051255,
          -3.1358167291138597,
          -2.6795788984872964,
          -3.066841267002936,
          -3.083887889007861,
          -3.087754457505527,
          -2.83472388360707,
          -2.8643035734004973,
          -2.888434516533723,
          -3.0297242720040516,
          -3.012026227668879,
          -2.843595668148655,
          -3.002298944038333,
          -3.0932756705991236,
          -2.8031145436412848,
          -2.763196685575395,
          -2.800881965612153,
          -2.8655482438498376,
          -2.8126494370332455,
          -2.6520570544030346,
          -2.772778019513732,
          -2.8578295352164735,
          -2.8017258361016846,
          -2.81533219238151,
          -2.99884097354993,
          -3.208681512688721,
          -2.6686330534450016,
          -2.8498146583823853,
          -2.761396326284419,
          -2.6498166443845332,
          -2.609948725774638,
          -2.7968135086652186,
          -2.8126486143623124,
          -2.7667564481218268,
          -2.7320475643017117,
          -3.012026227668879,
          -2.7986036684818085,
          -2.712677740350156,
          -2.7736553969925732,
          -2.81586370485901,
          -2.6608100721766417,
          -2.759042504975146,
          -2.940747423459037,
          -2.8620410597981576,
          -2.7542284777627746,
          -2.8527964479790313,
          -2.7980202889426993,
          -2.804060880650766,
          -3.087754457505527,
          -2.7213803311356695,
          -1.585155956998843,
          -1.4507534311932875,
          -2.9729461963605073,
          -2.8897744885176992,
          -3.0319318234095984,
          -3.1071664625555404,
          -2.9664444737568827,
          -2.973082890652798,
          -2.932790594769035,
          -2.9572233315020275,
          -3.079499278229189,
          -3.1035174389849076,
          -2.9037755225648136,
          -2.9986439322784686,
          -3.0453125332739073,
          -2.924569578413282,
          -3.2940003388802244,
          -2.9906269832146672,
          -3.0642799161500855,
          -2.974555687482185,
          -2.932790594769035,
          -2.9729460492980486,
          -3.1994650820105686,
          -2.983475341042141,
          -2.8897744885176992,
          -3.086437194751298,
          -2.955312581308595,
          -2.96450247132681,
          -2.5357447863805866,
          -2.9329548232890743,
          -3.1518331208757746,
          -3.114154613490392,
          -2.965725555350005,
          -2.599973512045148,
          -2.599973512045148,
          -2.9821436590126895,
          -2.8735075363893676,
          -3.0854205329727877,
          -2.675722524523043,
          -3.0866939312818897,
          -3.0702866755977007,
          -2.690471818482938,
          -2.83656733349565,
          -3.192170673722423,
          -3.1071664625555404,
          -3.4889811694728543,
          -3.101982740941603,
          -3.0026317327802987,
          -3.000500080987578,
          -3.0469584381543076,
          -2.578547604771141,
          -3.101982740941603,
          -2.692124049568808,
          -2.9777682375876453,
          -3.101982740941603,
          -3.055812739912969,
          -3.0602199130467147,
          -3.0469584381543076,
          -3.0678717140450353,
          -3.101982740941603,
          -3.047859719064948,
          -3.101982740941603,
          -3.089934523285171,
          -1.7815959420711571,
          -2.7670104474625647,
          -3.0725975926276186,
          -2.7670104474625647,
          -3.174916720483104,
          -2.940490160850873,
          -3.1399944204759835,
          -3.10989206883268,
          -3.0725975926276186,
          -3.066595459551947,
          -3.0661222409337747,
          -3.1749170158650584,
          -2.8976185440733917,
          -2.7820242204838324,
          -2.761223129146167,
          -2.875543678484035,
          -2.884972385307566,
          -2.8751338200733385,
          -3.1471009575089464,
          -2.7236860015264424,
          -3.144680716521645,
          -3.156433550008926,
          -3.129425125361657,
          -2.9389701654658453,
          -3.1488095052295235,
          -3.1456906244370866,
          -3.158866789389252,
          -3.230979522535359,
          -3.1379362716717263,
          -3.002075262509691,
          -3.002075262509691,
          -3.012026227668879,
          -2.925366624841667,
          -2.8350795080120688,
          -3.0247787598478872,
          -2.7012241325463937,
          -2.82443004143626,
          -2.87185015035237,
          -2.826810607229875,
          -2.8724113224582344,
          -2.757887311824485,
          -3.1133041855362826,
          -3.012026227668879,
          -2.7012241325463937,
          -2.8617853554545682,
          -2.7164993082970748,
          -2.871852186288589,
          -2.865143382062236,
          -2.7879063454554793,
          -3.034386373741737,
          -1.4507534311932875,
          -2.7030340320378845,
          -3.0764166439364042,
          -2.9242746790209213,
          -2.702519865600082,
          -3.3532672181243095,
          -2.8632999941462765,
          -3.3128123428355845,
          -2.6510530639778223,
          -2.792323596329254,
          -3.028346445030072,
          -2.7030343274198385,
          -3.0026317196870687,
          -3.371377388707258,
          -3.082054531520707,
          -3.371377388707258,
          -2.883795780301106,
          -2.690471818482938,
          -2.9416797561518266,
          -3.0026317327802987,
          -3.2382481633454625,
          -1.9775077917788824,
          -1.9924223318004766,
          -3.0731250981800766,
          -2.76772816701713,
          -3.0756290901552497,
          -3.07902110128563,
          -3.187431856982106,
          -3.080706349707228,
          -3.1895593473447748,
          -3.080701663398496,
          -2.7652600254896487,
          -3.17104695274866,
          -3.0360404835799413,
          -2.950283912029939,
          -2.8272266544302163,
          -2.3760739734057648,
          -2.1743834052130184,
          -3.203660201205775,
          -2.477287549166619,
          -2.4789240638627694,
          -2.5172264307955285,
          -2.0917997543077775,
          -1.4506360915516823,
          -1.9805219816320072,
          -1.7633167490784663,
          -1.7633167490784663,
          -1.5693405356240446,
          -0.10662288866359766,
          -0.017689902979823507,
          0.19638286447388814,
          -0.14813591004148885,
          0.09668593666556413,
          -0.1405071091288214,
          -0.1776161121361991,
          0.050988514002521586,
          -0.061965571132837835,
          -0.17585974592228532
         ],
         "z": [
          0.8890465389202855,
          -0.13018125673409658,
          -0.21456477550098982,
          -0.1740648719304731,
          -0.09750459626065112,
          -0.25155162911508083,
          -0.15705221209369108,
          0.9730828152545751,
          1.0710085908577633,
          1.3178906561858994,
          1.35001864000237,
          1.1303598899831784,
          1.0872045840579032,
          2.310275299113002,
          1.940171238368831,
          1.7023335131187025,
          2.4509935190073877,
          2.206093311085453,
          2.3319233728788182,
          -0.6309231866496637,
          -0.5242054134193754,
          -0.3991092297159084,
          0.2616781348394948,
          0.18473877133548633,
          0.07537857335149556,
          -1.773041123465866,
          -1.8543870973079173,
          -0.9084303864581078,
          -0.9622509033302699,
          1.2401708327011074,
          1.1312143234394554,
          1.1329420501056338,
          -0.166242330186545,
          -0.2219981421564126,
          -1.0225675329331794,
          0.1068567574723756,
          -0.18623317356207475,
          -0.10293768325696558,
          -1.2598635385571386,
          0.7040238485555373,
          0.7872952560187425,
          0.642979470296378,
          0.6032657158009365,
          0.6089790431496672,
          0.759113462224089,
          0.6671117496181981,
          2.9768750001289437,
          -0.7158585206022396,
          -0.7158585206022396,
          -0.5525129107892034,
          -0.5501522319231495,
          -0.7158585206022396,
          -0.5501522319231495,
          0.6761975638133276,
          0.04214225286297104,
          0.5884464464972399,
          0.4566683862769828,
          -0.5459262830533377,
          -0.5734063348528081,
          0.226123311169357,
          0.22702741558259357,
          -0.5823218979958406,
          -0.09147328137628095,
          0.7148968181740639,
          0.5033069705267099,
          0.10143456247790963,
          0.22075649494493974,
          0.2958674706300272,
          0.2958674706300272,
          0.2959412093788141,
          0.30117899301981654,
          0.3176574358769985,
          0.14061643542331304,
          0.14061643542331304,
          0.14061643542331304,
          -0.6229835776804067,
          -0.08778657061842751,
          -0.11938434325533169,
          0.9148418507388543,
          0.8880370313782915,
          0.7645667663708571,
          0.9561157646251088,
          0.8041850280497381,
          0.9564750173087371,
          0.9796865398725736,
          0.9439991907652375,
          1.0499967872127773,
          -0.8151757297497277,
          -0.3609399337573965,
          -0.8128230055447407,
          -0.82020002263472,
          -0.4799916976647538,
          -0.5146008661098188,
          -0.8628301784896182,
          -0.5424020384157758,
          -0.36220772354071906,
          -0.928245306539989,
          -0.7244353769834138,
          -0.8896367247269373,
          -0.9168058590173157,
          -0.8947183283409885,
          -0.36220772354071906,
          -0.8513352631542616,
          -0.916805737923739,
          -0.7463528167131475,
          -0.8728713925289212,
          -0.8945548563988575,
          -0.8669367878208392,
          -0.390519913158574,
          -0.49247238483523703,
          -0.8628033957624072,
          -0.8128230055447407,
          -1.2771559983664478,
          -0.02092813002041581,
          0.13837533912743188,
          -0.07715316155183549,
          0.1458608297218,
          -0.06561554848589847,
          -0.2846688841779115,
          -0.12723138326673455,
          -0.13407271484591274,
          -0.11403316196886934,
          -0.2870732903443624,
          -0.33876254861052246,
          -0.2738853871126548,
          -0.17063432532421366,
          -0.2009582134833695,
          -0.33360970034992987,
          -0.22134841949758977,
          -0.11525903350905764,
          -0.33509265085813317,
          -0.330681125114922,
          -0.35002898725343207,
          -0.3405573165139197,
          -0.3507786204590378,
          -0.4778894903008879,
          -0.37678496427381847,
          -0.3609382469493213,
          -0.3944890660539655,
          -0.3866203406897035,
          -0.2079254995854057,
          -0.3757438086084842,
          -0.43440648603137927,
          -0.35010646259628714,
          -0.4192743876170437,
          -0.47920055582311644,
          -0.4692375700068308,
          -0.35248753721733206,
          -0.35077933796932764,
          -0.42753210359675553,
          -0.4328611866301294,
          -0.2009582134833695,
          -0.33785243177563967,
          -0.41161314532764837,
          -0.4370443732578441,
          -0.35084527779119284,
          -0.4448829171566715,
          -0.41412927178221576,
          -0.23926682669514585,
          -0.35595697853651415,
          -0.41999951052847445,
          -0.2763997267996635,
          -0.3285965336099276,
          -0.37098032027050826,
          -0.11403316196886934,
          -0.3567481725448908,
          -1.1849383679143082,
          -1.3052010747462472,
          -0.24359542985251367,
          -0.31478313359198035,
          -0.1860134623829721,
          -0.27100134520939373,
          -0.24810234011177143,
          -0.2421463359995166,
          -0.2893121812854766,
          -0.25785745677254435,
          -0.31585392217929803,
          -0.1366356250288773,
          0.11122298867883776,
          -0.36828453122865923,
          -0.17533694611740822,
          -0.08705264840227266,
          -0.3106654201602811,
          -0.36185611680455715,
          -0.14526877982215838,
          -0.24121843597989087,
          -0.2893121812854766,
          -0.24359556634304128,
          -0.049014306577459664,
          -0.2138780117428302,
          -0.31478313359198035,
          -0.15332651812578912,
          -0.3990939529544858,
          -0.3902831107941645,
          -0.521783430678994,
          -0.23607568848644023,
          -0.30993442108457614,
          -0.12754910840442205,
          -0.2497804996607302,
          -0.4852539724516725,
          -0.4852539724516725,
          -0.2087529507256133,
          0.08993365678472705,
          -0.3120515793438024,
          -0.11955796061752523,
          -0.15297492341474211,
          -0.16546033459031428,
          -0.11450485289579534,
          0.06661006111956258,
          -0.01652985293884177,
          -0.27100134520939373,
          -0.08831952222548177,
          -0.30328479645376255,
          -0.19384362231163807,
          -0.19445084418219574,
          -0.17590632463972863,
          -0.5053683011200126,
          -0.30328479645376255,
          -0.10933995488248237,
          -0.3943926473316896,
          -0.30328479645376255,
          -0.1680513776325959,
          -0.16657590961705582,
          -0.17590632463972863,
          -0.32592049094463504,
          -0.30328479645376255,
          -0.17399901092911751,
          -0.30328479645376255,
          -0.30758460189695325,
          -1.1219676262456628,
          -0.032921482068723376,
          -0.12629459057196682,
          -0.032921482068723376,
          -0.07084670021815766,
          -0.27773121814510404,
          -0.08787551425704658,
          -0.10550780548784017,
          -0.12629459057196682,
          -0.13145870449005337,
          -0.1312480887670769,
          -0.07084643025415935,
          -0.3047540111255988,
          -0.027792690868903895,
          -0.036636031812303294,
          -0.343474107656333,
          0.13789939373306392,
          0.10687775748321263,
          -0.016392475305405992,
          -0.2608158705071571,
          -0.017655023846156984,
          -0.03917537832531874,
          -0.043390428893962704,
          0.11382889825246514,
          0.6008956007560028,
          -0.017258849937351356,
          0.6072548783045947,
          -0.0177010651527535,
          -0.021721241202974854,
          0.20807155318164078,
          0.20807155318164078,
          -0.2009582134833695,
          -0.2569262744266778,
          -0.38164487369001965,
          -0.1864399571522401,
          -0.4409469528837308,
          -0.3504154389431275,
          -0.31296834781879324,
          -0.3652593796581027,
          -0.33907162890468073,
          -0.43075829602608223,
          -0.3442896045096257,
          -0.2009582134833695,
          -0.4409469528837308,
          -0.34410832122249024,
          -0.46651867867939095,
          -0.3129665042616545,
          -0.32580416103374077,
          -0.4212739887220803,
          -0.1754937554585414,
          -1.3052010747462472,
          -0.29188569153008187,
          -0.15777625065390757,
          -0.24980722983844247,
          -0.2923512735055762,
          0.11206131994944644,
          0.08997479279948692,
          0.0701009481646399,
          -0.0379452658581746,
          -0.20952886384403444,
          -0.17820942686890454,
          -0.29188542156608377,
          -0.1938436316744786,
          0.12302089050296254,
          -0.15420123596932533,
          0.12302089050296254,
          0.10137707356017744,
          -0.11450485289579534,
          0.13900591572675505,
          -0.19384362231163807,
          -0.007590656644487166,
          -0.9464731483336477,
          -0.9328994924127422,
          -0.13829261153240713,
          -0.03088961834396753,
          -0.12549829927779937,
          -0.123447098485889,
          -0.05991393185278096,
          -0.13377778767352339,
          -0.058694085321774815,
          -0.13378203947558923,
          -0.42002820297962234,
          -0.02960851550303737,
          -0.18336394763587158,
          -0.4926424235880254,
          0.3825519115788871,
          -0.27371060543272896,
          -0.7147423838770085,
          -0.44024670557226664,
          -0.5548671744559021,
          -0.5538959180722113,
          -0.5378759696699641,
          -0.7134561311578231,
          -1.124105619809315,
          -0.6422575644230509,
          -1.0672561234788078,
          -1.0672561234788078,
          -1.2102661083509356,
          0.9148418507388543,
          0.8880370313782915,
          0.7645667663708571,
          0.9561157646251088,
          0.8041850280497381,
          0.9564750173087371,
          0.9796865398725736,
          0.9439991907652375,
          1.0499967872127773,
          -0.6229835776804067
         ]
        }
       ],
       "layout": {
        "coloraxis": {
         "colorbar": {
          "title": {
           "text": "Class"
          }
         },
         "colorscale": [
          [
           0,
           "#0d0887"
          ],
          [
           0.1111111111111111,
           "#46039f"
          ],
          [
           0.2222222222222222,
           "#7201a8"
          ],
          [
           0.3333333333333333,
           "#9c179e"
          ],
          [
           0.4444444444444444,
           "#bd3786"
          ],
          [
           0.5555555555555556,
           "#d8576b"
          ],
          [
           0.6666666666666666,
           "#ed7953"
          ],
          [
           0.7777777777777778,
           "#fb9f3a"
          ],
          [
           0.8888888888888888,
           "#fdca26"
          ],
          [
           1,
           "#f0f921"
          ]
         ]
        },
        "legend": {
         "title": {
          "text": "Class"
         },
         "tracegroupgap": 0,
         "x": 0,
         "y": 1
        },
        "margin": {
         "t": 60
        },
        "scene": {
         "domain": {
          "x": [
           0,
           1
          ],
          "y": [
           0,
           1
          ]
         },
         "xaxis": {
          "title": {
           "text": "PC 1"
          }
         },
         "yaxis": {
          "title": {
           "text": "PC 2"
          }
         },
         "zaxis": {
          "title": {
           "text": "PC 3"
          }
         }
        },
        "template": {
         "data": {
          "bar": [
           {
            "error_x": {
             "color": "#2a3f5f"
            },
            "error_y": {
             "color": "#2a3f5f"
            },
            "marker": {
             "line": {
              "color": "#E5ECF6",
              "width": 0.5
             },
             "pattern": {
              "fillmode": "overlay",
              "size": 10,
              "solidity": 0.2
             }
            },
            "type": "bar"
           }
          ],
          "barpolar": [
           {
            "marker": {
             "line": {
              "color": "#E5ECF6",
              "width": 0.5
             },
             "pattern": {
              "fillmode": "overlay",
              "size": 10,
              "solidity": 0.2
             }
            },
            "type": "barpolar"
           }
          ],
          "carpet": [
           {
            "aaxis": {
             "endlinecolor": "#2a3f5f",
             "gridcolor": "white",
             "linecolor": "white",
             "minorgridcolor": "white",
             "startlinecolor": "#2a3f5f"
            },
            "baxis": {
             "endlinecolor": "#2a3f5f",
             "gridcolor": "white",
             "linecolor": "white",
             "minorgridcolor": "white",
             "startlinecolor": "#2a3f5f"
            },
            "type": "carpet"
           }
          ],
          "choropleth": [
           {
            "colorbar": {
             "outlinewidth": 0,
             "ticks": ""
            },
            "type": "choropleth"
           }
          ],
          "contour": [
           {
            "colorbar": {
             "outlinewidth": 0,
             "ticks": ""
            },
            "colorscale": [
             [
              0,
              "#0d0887"
             ],
             [
              0.1111111111111111,
              "#46039f"
             ],
             [
              0.2222222222222222,
              "#7201a8"
             ],
             [
              0.3333333333333333,
              "#9c179e"
             ],
             [
              0.4444444444444444,
              "#bd3786"
             ],
             [
              0.5555555555555556,
              "#d8576b"
             ],
             [
              0.6666666666666666,
              "#ed7953"
             ],
             [
              0.7777777777777778,
              "#fb9f3a"
             ],
             [
              0.8888888888888888,
              "#fdca26"
             ],
             [
              1,
              "#f0f921"
             ]
            ],
            "type": "contour"
           }
          ],
          "contourcarpet": [
           {
            "colorbar": {
             "outlinewidth": 0,
             "ticks": ""
            },
            "type": "contourcarpet"
           }
          ],
          "heatmap": [
           {
            "colorbar": {
             "outlinewidth": 0,
             "ticks": ""
            },
            "colorscale": [
             [
              0,
              "#0d0887"
             ],
             [
              0.1111111111111111,
              "#46039f"
             ],
             [
              0.2222222222222222,
              "#7201a8"
             ],
             [
              0.3333333333333333,
              "#9c179e"
             ],
             [
              0.4444444444444444,
              "#bd3786"
             ],
             [
              0.5555555555555556,
              "#d8576b"
             ],
             [
              0.6666666666666666,
              "#ed7953"
             ],
             [
              0.7777777777777778,
              "#fb9f3a"
             ],
             [
              0.8888888888888888,
              "#fdca26"
             ],
             [
              1,
              "#f0f921"
             ]
            ],
            "type": "heatmap"
           }
          ],
          "heatmapgl": [
           {
            "colorbar": {
             "outlinewidth": 0,
             "ticks": ""
            },
            "colorscale": [
             [
              0,
              "#0d0887"
             ],
             [
              0.1111111111111111,
              "#46039f"
             ],
             [
              0.2222222222222222,
              "#7201a8"
             ],
             [
              0.3333333333333333,
              "#9c179e"
             ],
             [
              0.4444444444444444,
              "#bd3786"
             ],
             [
              0.5555555555555556,
              "#d8576b"
             ],
             [
              0.6666666666666666,
              "#ed7953"
             ],
             [
              0.7777777777777778,
              "#fb9f3a"
             ],
             [
              0.8888888888888888,
              "#fdca26"
             ],
             [
              1,
              "#f0f921"
             ]
            ],
            "type": "heatmapgl"
           }
          ],
          "histogram": [
           {
            "marker": {
             "pattern": {
              "fillmode": "overlay",
              "size": 10,
              "solidity": 0.2
             }
            },
            "type": "histogram"
           }
          ],
          "histogram2d": [
           {
            "colorbar": {
             "outlinewidth": 0,
             "ticks": ""
            },
            "colorscale": [
             [
              0,
              "#0d0887"
             ],
             [
              0.1111111111111111,
              "#46039f"
             ],
             [
              0.2222222222222222,
              "#7201a8"
             ],
             [
              0.3333333333333333,
              "#9c179e"
             ],
             [
              0.4444444444444444,
              "#bd3786"
             ],
             [
              0.5555555555555556,
              "#d8576b"
             ],
             [
              0.6666666666666666,
              "#ed7953"
             ],
             [
              0.7777777777777778,
              "#fb9f3a"
             ],
             [
              0.8888888888888888,
              "#fdca26"
             ],
             [
              1,
              "#f0f921"
             ]
            ],
            "type": "histogram2d"
           }
          ],
          "histogram2dcontour": [
           {
            "colorbar": {
             "outlinewidth": 0,
             "ticks": ""
            },
            "colorscale": [
             [
              0,
              "#0d0887"
             ],
             [
              0.1111111111111111,
              "#46039f"
             ],
             [
              0.2222222222222222,
              "#7201a8"
             ],
             [
              0.3333333333333333,
              "#9c179e"
             ],
             [
              0.4444444444444444,
              "#bd3786"
             ],
             [
              0.5555555555555556,
              "#d8576b"
             ],
             [
              0.6666666666666666,
              "#ed7953"
             ],
             [
              0.7777777777777778,
              "#fb9f3a"
             ],
             [
              0.8888888888888888,
              "#fdca26"
             ],
             [
              1,
              "#f0f921"
             ]
            ],
            "type": "histogram2dcontour"
           }
          ],
          "mesh3d": [
           {
            "colorbar": {
             "outlinewidth": 0,
             "ticks": ""
            },
            "type": "mesh3d"
           }
          ],
          "parcoords": [
           {
            "line": {
             "colorbar": {
              "outlinewidth": 0,
              "ticks": ""
             }
            },
            "type": "parcoords"
           }
          ],
          "pie": [
           {
            "automargin": true,
            "type": "pie"
           }
          ],
          "scatter": [
           {
            "marker": {
             "colorbar": {
              "outlinewidth": 0,
              "ticks": ""
             }
            },
            "type": "scatter"
           }
          ],
          "scatter3d": [
           {
            "line": {
             "colorbar": {
              "outlinewidth": 0,
              "ticks": ""
             }
            },
            "marker": {
             "colorbar": {
              "outlinewidth": 0,
              "ticks": ""
             }
            },
            "type": "scatter3d"
           }
          ],
          "scattercarpet": [
           {
            "marker": {
             "colorbar": {
              "outlinewidth": 0,
              "ticks": ""
             }
            },
            "type": "scattercarpet"
           }
          ],
          "scattergeo": [
           {
            "marker": {
             "colorbar": {
              "outlinewidth": 0,
              "ticks": ""
             }
            },
            "type": "scattergeo"
           }
          ],
          "scattergl": [
           {
            "marker": {
             "colorbar": {
              "outlinewidth": 0,
              "ticks": ""
             }
            },
            "type": "scattergl"
           }
          ],
          "scattermapbox": [
           {
            "marker": {
             "colorbar": {
              "outlinewidth": 0,
              "ticks": ""
             }
            },
            "type": "scattermapbox"
           }
          ],
          "scatterpolar": [
           {
            "marker": {
             "colorbar": {
              "outlinewidth": 0,
              "ticks": ""
             }
            },
            "type": "scatterpolar"
           }
          ],
          "scatterpolargl": [
           {
            "marker": {
             "colorbar": {
              "outlinewidth": 0,
              "ticks": ""
             }
            },
            "type": "scatterpolargl"
           }
          ],
          "scatterternary": [
           {
            "marker": {
             "colorbar": {
              "outlinewidth": 0,
              "ticks": ""
             }
            },
            "type": "scatterternary"
           }
          ],
          "surface": [
           {
            "colorbar": {
             "outlinewidth": 0,
             "ticks": ""
            },
            "colorscale": [
             [
              0,
              "#0d0887"
             ],
             [
              0.1111111111111111,
              "#46039f"
             ],
             [
              0.2222222222222222,
              "#7201a8"
             ],
             [
              0.3333333333333333,
              "#9c179e"
             ],
             [
              0.4444444444444444,
              "#bd3786"
             ],
             [
              0.5555555555555556,
              "#d8576b"
             ],
             [
              0.6666666666666666,
              "#ed7953"
             ],
             [
              0.7777777777777778,
              "#fb9f3a"
             ],
             [
              0.8888888888888888,
              "#fdca26"
             ],
             [
              1,
              "#f0f921"
             ]
            ],
            "type": "surface"
           }
          ],
          "table": [
           {
            "cells": {
             "fill": {
              "color": "#EBF0F8"
             },
             "line": {
              "color": "white"
             }
            },
            "header": {
             "fill": {
              "color": "#C8D4E3"
             },
             "line": {
              "color": "white"
             }
            },
            "type": "table"
           }
          ]
         },
         "layout": {
          "annotationdefaults": {
           "arrowcolor": "#2a3f5f",
           "arrowhead": 0,
           "arrowwidth": 1
          },
          "autotypenumbers": "strict",
          "coloraxis": {
           "colorbar": {
            "outlinewidth": 0,
            "ticks": ""
           }
          },
          "colorscale": {
           "diverging": [
            [
             0,
             "#8e0152"
            ],
            [
             0.1,
             "#c51b7d"
            ],
            [
             0.2,
             "#de77ae"
            ],
            [
             0.3,
             "#f1b6da"
            ],
            [
             0.4,
             "#fde0ef"
            ],
            [
             0.5,
             "#f7f7f7"
            ],
            [
             0.6,
             "#e6f5d0"
            ],
            [
             0.7,
             "#b8e186"
            ],
            [
             0.8,
             "#7fbc41"
            ],
            [
             0.9,
             "#4d9221"
            ],
            [
             1,
             "#276419"
            ]
           ],
           "sequential": [
            [
             0,
             "#0d0887"
            ],
            [
             0.1111111111111111,
             "#46039f"
            ],
            [
             0.2222222222222222,
             "#7201a8"
            ],
            [
             0.3333333333333333,
             "#9c179e"
            ],
            [
             0.4444444444444444,
             "#bd3786"
            ],
            [
             0.5555555555555556,
             "#d8576b"
            ],
            [
             0.6666666666666666,
             "#ed7953"
            ],
            [
             0.7777777777777778,
             "#fb9f3a"
            ],
            [
             0.8888888888888888,
             "#fdca26"
            ],
            [
             1,
             "#f0f921"
            ]
           ],
           "sequentialminus": [
            [
             0,
             "#0d0887"
            ],
            [
             0.1111111111111111,
             "#46039f"
            ],
            [
             0.2222222222222222,
             "#7201a8"
            ],
            [
             0.3333333333333333,
             "#9c179e"
            ],
            [
             0.4444444444444444,
             "#bd3786"
            ],
            [
             0.5555555555555556,
             "#d8576b"
            ],
            [
             0.6666666666666666,
             "#ed7953"
            ],
            [
             0.7777777777777778,
             "#fb9f3a"
            ],
            [
             0.8888888888888888,
             "#fdca26"
            ],
            [
             1,
             "#f0f921"
            ]
           ]
          },
          "colorway": [
           "#636efa",
           "#EF553B",
           "#00cc96",
           "#ab63fa",
           "#FFA15A",
           "#19d3f3",
           "#FF6692",
           "#B6E880",
           "#FF97FF",
           "#FECB52"
          ],
          "font": {
           "color": "#2a3f5f"
          },
          "geo": {
           "bgcolor": "white",
           "lakecolor": "white",
           "landcolor": "#E5ECF6",
           "showlakes": true,
           "showland": true,
           "subunitcolor": "white"
          },
          "hoverlabel": {
           "align": "left"
          },
          "hovermode": "closest",
          "mapbox": {
           "style": "light"
          },
          "paper_bgcolor": "white",
          "plot_bgcolor": "#E5ECF6",
          "polar": {
           "angularaxis": {
            "gridcolor": "white",
            "linecolor": "white",
            "ticks": ""
           },
           "bgcolor": "#E5ECF6",
           "radialaxis": {
            "gridcolor": "white",
            "linecolor": "white",
            "ticks": ""
           }
          },
          "scene": {
           "xaxis": {
            "backgroundcolor": "#E5ECF6",
            "gridcolor": "white",
            "gridwidth": 2,
            "linecolor": "white",
            "showbackground": true,
            "ticks": "",
            "zerolinecolor": "white"
           },
           "yaxis": {
            "backgroundcolor": "#E5ECF6",
            "gridcolor": "white",
            "gridwidth": 2,
            "linecolor": "white",
            "showbackground": true,
            "ticks": "",
            "zerolinecolor": "white"
           },
           "zaxis": {
            "backgroundcolor": "#E5ECF6",
            "gridcolor": "white",
            "gridwidth": 2,
            "linecolor": "white",
            "showbackground": true,
            "ticks": "",
            "zerolinecolor": "white"
           }
          },
          "shapedefaults": {
           "line": {
            "color": "#2a3f5f"
           }
          },
          "ternary": {
           "aaxis": {
            "gridcolor": "white",
            "linecolor": "white",
            "ticks": ""
           },
           "baxis": {
            "gridcolor": "white",
            "linecolor": "white",
            "ticks": ""
           },
           "bgcolor": "#E5ECF6",
           "caxis": {
            "gridcolor": "white",
            "linecolor": "white",
            "ticks": ""
           }
          },
          "title": {
           "x": 0.05
          },
          "xaxis": {
           "automargin": true,
           "gridcolor": "white",
           "linecolor": "white",
           "ticks": "",
           "title": {
            "standoff": 15
           },
           "zerolinecolor": "white",
           "zerolinewidth": 2
          },
          "yaxis": {
           "automargin": true,
           "gridcolor": "white",
           "linecolor": "white",
           "ticks": "",
           "title": {
            "standoff": 15
           },
           "zerolinecolor": "white",
           "zerolinewidth": 2
          }
         }
        },
        "width": 800
       }
      },
      "text/html": [
       "<div>                            <div id=\"befa758b-2dcf-4aa0-89ab-ec961aea5f35\" class=\"plotly-graph-div\" style=\"height:525px; width:800px;\"></div>            <script type=\"text/javascript\">                require([\"plotly\"], function(Plotly) {                    window.PLOTLYENV=window.PLOTLYENV || {};                                    if (document.getElementById(\"befa758b-2dcf-4aa0-89ab-ec961aea5f35\")) {                    Plotly.newPlot(                        \"befa758b-2dcf-4aa0-89ab-ec961aea5f35\",                        [{\"customdata\":[[\"Hierba \"],[\"Hierba \"],[\"Hierba \"],[\"Hierba \"],[\"Hierba \"],[\"Hierba \"],[\"Hierba \"],[\"Hierba \"],[\"Hierba \"],[\"Hierba \"],[\"Hierba \"],[\"Hierba \"],[\"Hierba \"],[\"Hierba \"],[\"Hierba \"],[\"Hierba \"],[\"Hierba \"],[\"Hierba \"],[\"Hierba \"],[\"Hierba \"],[\"Hierba \"],[\"Hierba \"],[\"\\u00c1rbol  \"],[\"\\u00c1rbol  \"],[\"\\u00c1rbol  \"],[\"\\u00c1rbol  \"],[\"\\u00c1rbol  \"],[\"\\u00c1rbol  \"],[\"\\u00c1rbol  \"],[\"\\u00c1rbol  \"],[\"\\u00c1rbol  \"],[\"\\u00c1rbol  \"],[\"\\u00c1rbol  \"],[\"Hierba \"],[\"Hierba \"],[\"Hierba \"],[\"Hierba \"],[\"Hierba \"],[\"Hierba \"],[\"Hierba \"],[\"Hierba \"],[\"Hierba \"],[\"Hierba \"],[\"Hierba \"],[\"Hierba\"],[\"Hierba\"],[\"Hierba\"],[\"Hierba\"],[\"Hierba\"],[\"Hierba\"],[\"Hierba\"],[\"Hierba\"],[\"Hierba\"],[\"Hierba\"],[\"Hierba\"],[\"Hierba\"],[\"Hierba\"],[\"Hierba\"],[\"Hierba\"],[\"Hierba\"],[\"Hierba\"],[\"Hierba\"],[\"Hierba\"],[\"Hierba\"],[\"Hierba\"],[\"Hierba\"],[\"Hierba\"],[\"Hierba\"],[\"Hierba\"],[\"Hierba\"],[\"Hierba\"],[\"Hierba\"],[\"Hierba\"],[\"Hierba\"],[\"Hierba\"],[\"Hierba\"],[\"Hierba\"],[\"Hierba\"],[\"Hierba\"],[\"Hierba\"],[\"Hierba\"],[\"Hierba\"],[\"Hierba\"],[\"Hierba\"],[\"\\u00c1rbol  \"],[\"\\u00c1rbol  \"],[\"\\u00c1rbol  \"],[\"\\u00c1rbol  \"],[\"\\u00c1rbol  \"],[\"\\u00c1rbol  \"],[\"Arbusto o sufr\\u00fatice\"],[\"Arbusto o sufr\\u00fatice\"],[\"Arbusto o sufr\\u00fatice\"],[\"Arbusto o sufr\\u00fatice\"],[\"Arbusto o sufr\\u00fatice\"]],\"hovertemplate\":\"<b>%{hovertext}</b><br><br>Class=%{marker.color}<br>PC 1=%{x}<br>PC 2=%{y}<br>PC 3=%{z}<br>Hierba=%{customdata[0]}<extra></extra>\",\"hovertext\":[\"Alismataceae\",\"Alismataceae\",\"Alismataceae\",\"Alismataceae\",\"Alismataceae\",\"Alismataceae\",\"Alismataceae\",\"Alismataceae\",\"Alismataceae\",\"Alismataceae\",\"Alismataceae\",\"Araceae\",\"Araceae\",\"Araceae\",\"Araceae\",\"Araceae\",\"Araceae\",\"Araceae\",\"Araceae\",\"Araceae\",\"Araceae\",\"Araceae\",\"Arecaceae\",\"Arecaceae\",\"Arecaceae\",\"Arecaceae\",\"Arecaceae\",\"Arecaceae\",\"Arecaceae\",\"Arecaceae\",\"Arecaceae\",\"Arecaceae\",\"Arecaceae\",\"Amaryllidaceae\",\"Amaryllidaceae\",\"Amaryllidaceae\",\"Amaryllidaceae\",\"Amaryllidaceae\",\"Amaryllidaceae\",\"Amaryllidaceae\",\"Amaryllidaceae\",\"Amaryllidaceae\",\"Amaryllidaceae\",\"Amaryllidaceae\",\"Bromeliaceae\",\"Cyclanthaceae\",\"Cyclanthaceae\",\"Cyperaceae\",\"Cyperaceae\",\"Cyperaceae\",\"Cyperaceae\",\"Cyperaceae\",\"Cyperaceae\",\"Cyperaceae\",\"Cyperaceae\",\"Cyperaceae\",\"Cyperaceae\",\"Cyperaceae\",\"Hydrocharitaceae\",\"Hydrocharitaceae\",\"Hydrocharitaceae\",\"Hydrocharitaceae\",\"Hydrocharitaceae\",\"Hydrocharitaceae\",\"Hydrocharitaceae\",\"Hydrocharitaceae\",\"Hydrocharitaceae\",\"Hydrocharitaceae\",\"Hydrocharitaceae\",\"Pontederiaceae\",\"Pontederiaceae\",\"Pontederiaceae\",\"Pontederiaceae\",\"Typhaceae\",\"Typhaceae\",\"Typhaceae\",\"Typhaceae\",\"Typhaceae\",\"Typhaceae\",\"Typhaceae\",\"Typhaceae\",\"Typhaceae\",\"Typhaceae\",\"Typhaceae\",\"Viburnaceae\",\"Viburnaceae\",\"Viburnaceae\",\"Viburnaceae\",\"Viburnaceae\",\"Viburnaceae\",\"Rhamnaceae\",\"Rhamnaceae\",\"Rhamnaceae\",\"Rhamnaceae\",\"Rhamnaceae\"],\"legendgroup\":\"3\",\"marker\":{\"color\":[3,3,3,3,3,3,3,3,3,3,3,3,3,3,3,3,3,3,3,3,3,3,3,3,3,3,3,3,3,3,3,3,3,3,3,3,3,3,3,3,3,3,3,3,3,3,3,3,3,3,3,3,3,3,3,3,3,3,3,3,3,3,3,3,3,3,3,3,3,3,3,3,3,3,3,3,3,3,3,3,3,3,3,3,3,3,3,3,3,3,3,3,3,3,3],\"coloraxis\":\"coloraxis\",\"symbol\":\"circle\"},\"mode\":\"markers\",\"name\":\"3\",\"scene\":\"scene\",\"showlegend\":true,\"type\":\"scatter3d\",\"x\":[-1.998458754585934,-2.04905391648299,-1.103619935913673,-1.1036199359136725,-1.4484175317747328,-1.4484175317747328,-1.8708100869198172,-1.8708100869198172,-1.1166382834744735,-1.4038505213315307,-1.404211428897755,-0.8897159004076921,-0.6728855935098319,-0.7758613956654122,-0.8897159004076921,-1.8934857329992867,-1.321198326188404,-1.7553342799104863,-1.7334708680109874,-0.9469138673298685,-0.7663381931675909,-0.739151169114547,-1.9040001341899557,-1.6294198713063335,-2.0197874988209086,-1.9040001341899557,-1.9040001341899557,-1.6294198713063335,-1.9040001341899557,-2.0578552007299273,-2.0195015786580455,-2.0197874988209086,-1.9040001341899557,-1.819333450176418,-1.8739168142728715,-1.423469478345064,-1.4913597134409033,-1.8567064088527772,-1.5936476687504981,-1.565220621730641,-1.8739168142728715,-1.6475089951675628,-1.6475089951675628,-1.8343424621722584,-0.27417300744164863,-0.3142344036185052,-0.3142344036185052,-0.1835081424825783,0.03966089434194522,-0.01690760628772358,-0.9797145834511721,-0.9797145834511721,-1.0194189961120712,-1.0194189961120712,-0.8557962133426291,-0.8557962133426292,-0.7535589258260554,-0.8894350478489347,-1.1563489737859876,-1.116831981868924,-1.0793197862198152,-1.0398027943027515,-0.7898135345168857,-1.101426998868038,-1.101426998868038,-1.0357272308453616,-0.9711519236145573,-1.1384790755414704,-0.8590447763179541,-0.777243397951061,0.1355428094423931,0.1355428094423931,0.6482196093268746,-0.07050383320625782,0.012654630256434235,-0.07053339271312871,-0.10602262297541144,-0.3440204723129839,-1.056518065485936,-0.877055990586885,-0.8728694006972018,-0.8702086541141656,-0.8051297650115097,-1.0418883827677092,-2.6487970022187066,-2.5936835512624152,-2.5247569408320953,-2.656805959206787,-2.802029736742392,-2.576370853147217,-2.7520890095024075,-2.7731804877583124,-2.417380246212511,-2.4067843056538676,-2.410049707027434],\"y\":[2.7148398753774394,2.4419762927330075,3.6720272467002966,3.6720272467002903,3.375977277658682,3.375977277658681,2.563258038827505,2.5632580388275032,3.6278516681581245,3.52012637483264,3.5194824427064577,4.342626905562295,4.775064658313718,4.480177280840872,4.342626905562295,2.9558327502021,3.4820910429155174,3.2635962374479397,3.3038389611154173,4.1598713380230725,5.1410111387282855,5.195096632876115,1.2470279930169286,1.4283406133506151,0.9433021047290647,1.2470279930169286,1.2470279930169286,1.4283406133506151,1.2470279930169286,0.9538464959832641,0.9438551058660638,0.9433021047290647,1.2470279930169286,2.1229504049063035,2.4025510930217076,2.862337566410459,2.733622122442551,2.463876833108437,2.510989557476391,2.59569655299582,2.4025510930217076,2.4053378723214776,2.4053378723214776,2.0820601474015374,3.400635221912876,3.0815696272566306,3.0815696272566306,3.19847779130992,4.5244510899274735,3.007285945343675,1.6549584881106656,1.6549584881106656,1.5810007586040473,1.5810007586040473,1.8857261850875224,1.8857261850875227,1.5987432893615907,1.719076288602585,1.7864660077481587,1.8907226150764667,1.9503989546292295,2.054655561957538,1.8201095201217494,1.8728324469133266,1.8728324469133266,2.004510658795097,2.119445967504553,1.8109053310091952,3.074042738652945,1.5519874301221126,1.17644756811417,1.17644756811417,2.030697454202414,0.06889695838399063,0.24055992480066213,0.06884589094517414,0.24912569970236953,-0.04830956768657119,0.4769250240515993,0.6310561459617774,0.3455699732160763,0.350456153183462,0.3470423726276058,0.5007309343962635,-0.29668312115894646,-0.01945519392987933,0.10153934500822998,-0.9193388252577254,-1.1719508648410113,-0.7518679067538988,-1.179861667637927,-1.2175339210814884,-0.1952947976096798,-0.15063164404226773,-0.15685318156031672],\"z\":[6.036602889561995,6.081187785992212,5.177804691913655,5.177804691913648,5.3848279487608615,5.384827948760856,5.979034071760755,5.979034071760753,5.216504364811392,5.308772610156099,5.3092604963686005,7.031240913466669,6.59889045668449,6.849041789704424,7.031240913466669,7.9361506645247815,7.641403684969094,7.691875216737094,7.667805831588721,7.035495490441186,6.282207312949615,6.257473380956456,7.411677339211196,7.55230044201289,7.279034752245542,7.411677339211196,7.411677339211196,7.55230044201289,7.411677339211196,7.593731117282585,7.2784153935924,7.279034752245542,7.411677339211196,7.614850779088428,7.13546941652076,7.149560003246576,7.2308471062001685,7.076845242871339,6.799597498433406,7.315509608891656,7.13546941652076,9.131584777909387,9.131584777909387,7.6534213200652195,2.5244609923649595,2.907101066616441,2.907101066616441,3.9564148253076503,3.1787340357838025,3.8309568659282536,4.807407236888636,4.807407236888636,4.852623967643054,4.852623967643054,4.659938116476455,4.659938116476456,5.5498638213823694,5.172495380740877,4.029850135729142,3.934738509551763,5.1360055523026515,5.040893926125274,5.985853838634898,5.216963487275241,5.216963487275241,5.127142152468573,5.060234005204424,5.245697441177047,4.843714009890925,2.8083868703842336,2.3386921479404448,2.3386921479404448,2.7391545823744172,5.3383245817013005,4.10976739115249,5.3383719780368235,4.587213623358996,4.453771806652348,6.651558887035009,6.106973209758186,6.9314489482641415,6.928559577493794,6.610964282083649,6.637776023835197,3.956114359263643,4.283312178884308,4.20570785220117,5.086820135394168,5.233703320106857,4.965776570289961,4.879330133876834,4.901179371484382,3.4611144065730395,3.7975497189827165,3.8015563002577766]},{\"customdata\":[[\"Hierba\"],[\"Hierba\"],[\"Hierba\"],[\"Hierba\"],[\"Hierba\"],[\"Hierba\"],[\"Hierba\"],[\"Hierba\"],[\"Hierba\"],[\"Hierba\"],[\"Hierba\"],[\"Hierba\"],[\"Hierba\"],[\"Hierba\"],[\"Hierba\"],[\"Hierba\"],[\"Hierba\"],[\"Hierba\"],[\"Hierba\"],[\"Hierba\"],[\"Hierba\"],[\"Hierba\"],[\"Hierba\"],[\"Hierba\"],[\"Hierba\"],[\"Hierba\"],[\"Hierba\"],[\"Hierba\"],[\"Hierba\"],[\"Hierba\"],[\"Hierba\"],[\"Hierba\"],[\"Hierba\"],[\"Hierba\"],[\"Hierba\"],[\"Hierba\"],[\"Hierba\"],[\"Hierba\"],[\"Hierba\"],[\"Hierba\"],[\"Hierba\"],[\"Hierba\"],[\"Hierba\"],[\"Hierba\"],[\"Hierba\"],[\"Hierba\"],[\"Hierba\"],[\"Hierba\"],[\"Hierba\"],[\"Hierba\"],[\"Hierba\"],[\"Hierba\"],[\"Hierba\"],[\"Hierba\"],[\"Hierba\"],[\"Hierba\"],[\"Hierba\"],[\"Hierba\"],[\"Hierba\"],[\"Hierba\"],[\"Hierba\"],[\"Hierba\"],[\"Hierba\"],[\"Hierba\"],[\"Hierba\"],[\"Hierba\"],[\"Hierba\"],[\"Hierba\"],[\"Hierba\"],[\"Hierba\"],[\"Hierba\"],[\"Hierba\"],[\"Hierba\"],[\"Hierba\"],[\"Hierba\"],[\"Hierba\"],[\"Hierba\"],[\"Hierba\"],[\"Hierba\"],[\"Hierba\"],[\"Hierba\"],[\"Hierba\"],[\"Hierba\"],[\"Hierba\"],[\"Hierba\"],[\"Hierba\"],[\"Hierba\"],[\"Hierba\"],[\"Hierba\"],[\"Hierba\"],[\"Hierba\"],[\"\\u00c1rbol\"],[\"\\u00c1rbol\"],[\"\\u00c1rbol\"],[\"Arbusto\"],[\"Arbusto\"],[\"Arbusto\"],[\"Arbusto\"],[\"Arbusto\"],[\"Arbusto\"],[\"\\u00c1rbol\"],[\"\\u00c1rbol\"],[\"\\u00c1rbol\"],[\"Hierba\"],[\"Hierba\"],[\"Hierba\"],[\"Arbusto\"],[\"Arbusto\"],[\"Arbusto\"],[\"Hierba\"],[\"Hierba\"],[\"Hierba\"],[\"Hierba\"],[\"Hierba\"],[\"Hierba\"],[\"Hierba\"],[\"Hierba\"],[\"Hierba\"],[\"Hierba\"],[\"Hierba\"],[\"Hierba\"],[\"\\u00c1rbol\"],[\"\\u00c1rbol\"],[\"\\u00c1rbol\"],[\"\\u00c1rbol\"],[\"\\u00c1rbol\"],[\"\\u00c1rbol\"],[\"arbusto\"],[\"Hierba o arbusto\"],[\"\\u00c1rbol\"],[\"\\u00c1rbol\"],[\"\\u00c1rbol\"],[\"\\u00c1rbol\"],[\"\\u00c1rbol\"],[\"\\u00c1rbol\"],[\"Hierba\"],[\"Hierba\"],[\"Hierba\"],[\"\\u00c1rbol\"],[\"\\u00c1rbol\"],[\"\\u00c1rbol\"],[\"Hierba\"],[\"Hierba\"],[\"Hierba\"],[\"Hierba\"],[\"Hierba\"],[\"Hierba\"],[\"Arbusto\"],[\"Arbusto\"],[\"Arbusto\"],[\"Hierba\"],[\"Hierba\"],[\"Hierba\"],[\"Hierba\"],[\"Hierba\"],[\"Hierba\"],[\"Hierba\"],[\"Hierba\"],[\"Arbusto\"],[\"Arbusto\"],[\"Sufr\\u00fatice\"],[\"Sufr\\u00fatice\"],[\"Sufr\\u00fatice\"],[\"Hierba\"],[\"Hierba\"],[\"Hierba\"],[\"Arbusto\"],[\"Arbusto\"],[\"Arbusto\"],[\"Arbusto\"],[\"Arbusto\"],[\"Arbusto\"],[\"Arbusto\"],[\"hierba\"],[\"Arbusto\"],[\"\\u00c1rbol\"],[\"Hierba o sufr\\u00fatice\"],[\"Hierba o sufr\\u00fatice\"],[\"Hierba o sufr\\u00fatice\"],[\"Hierba o sufr\\u00fatice\"],[\"Hierba o sufr\\u00fatice\"],[\"Hierba o sufr\\u00fatice\"],[\"Arbusto\"],[\"Arbusto\"],[\"Arbusto\"],[\"Arbusto\"],[\"Arbusto\"],[\"Arbusto\"],[\"Hierba\"],[\"\\u00c1rbol\"],[\"Hierba\"],[\"Hierba\"],[\"Hierba\"],[\"Hierba\"],[\"Hierba\"],[\"Arbusto\"],[\"Arbusto\"],[\"Arbusto\"],[\"\\u00c1rbol\"],[\"\\u00c1rbol\"],[\"\\u00c1rbol\"],[\"\\u00c1rbol\"],[\"\\u00c1rbol\"],[\"\\u00c1rbol\"],[\"Hierba\"],[\"Hierba\"],[\"Hierba\"],[\"Sufr\\u00fatice\"],[\"Sufr\\u00fatice\"],[\"\\u00c1rbol\"],[\"\\u00c1rbol\"],[\"\\u00c1rbol\"],[\"Hierba\"],[\"\\u00c1rbol\"],[\"\\u00c1rbol\"],[\"Hierba\"],[\"arbusto\"],[\"Arbusto\"],[\"Arbusto\"],[\"Arbusto\"],[\"Arbusto\"],[\"Arbusto\"],[\"Hierba\"],[\"Hierba\"],[\"Hierba\"],[\"Hierba\"],[\"Hierba\"],[\"Hierba\"],[\"Hierba\"],[\"Hierba\"],[\"Hierba\"],[\"Hierba\"],[\"Hierba\"],[\"Hierba\"],[\"\\u00c1rbol\"],[\"Hierba\"],[\"Hierba\"],[\"Hierba\"],[\"Hierba\"],[\"Hierba\"],[\"Hierba\"],[\"Hierba\"],[\"Hierba\"],[\"Hierba\"],[\"Hierba\"],[\"Hierba\"],[\"Hierba\"],[\"Hierba\"],[\"Hierba\"],[\"Hierba\"],[\"Hierba\"],[\"Hierba\"],[\"Hierba\"],[\"Hierba\"],[\"Hierba\"],[\"Hierba\"],[\"Hierba\"],[\"Hierba\"],[\"Arbusto\"],[\"Arbusto\"],[\"Arbusto\"],[\"Arbusto\"],[\"Arbusto\"],[\"Arbusto\"],[\"Arbusto\"],[\"Hierba\"],[\"Hierba\"],[\"Hierba\"],[\"Hierba\"],[\"Hierba\"],[\"Hierba\"],[\"Hierba\"],[\"Hierba\"],[\"Hierba\"],[\"Hierba\"],[\"Hierba\"],[\"Hierba\"],[\"Hierba\"],[\"Hierba\"],[\"Hierba\"],[\"Hierba\"],[\"Hierba\"],[\"Hierba\"],[\"Hierba\"],[\"Hierba\"],[\"Hierba\"],[\"Hierba\"],[\"Hierba\"],[\"Hierba\"],[\"Hierba\"],[\"Hierba\"],[\"Hierba\"],[\"Hierba\"],[\"Hierba\"],[\"Hierba\"],[\"Hierba\"],[\"Hierba\"],[\"Hierba\"],[\"Hierba\"],[\"Hierba\"],[\"Hierba\"],[\"Hierba\"],[\"Hierba\"],[\"Arbusto\"],[\"Arbusto\"],[\"Arbusto\"],[\"Arbusto\"],[\"Arbusto\"],[\"Arbusto\"],[\"Arbusto\"],[\"Arbusto\"],[\"Arbusto\"],[\"Arbusto\"],[\"Arbusto\"],[\"Arbusto\"],[\"Arbusto\"],[\"Hierba\"],[\"Hierba\"],[\"Hierba\"],[\"Hierba\"],[\"Hierba\"],[\"Hierba\"],[\"Hierba\"],[\"Hierba\"],[\"Hierba\"],[\"Hierba\"],[\"Hierba\"],[\"Hierba\"],[\"Hierba\"],[\"Hierba\"],[\"Hierba\"],[\"Hierba\"],[\"\\u00c1rbol\"],[\"Hierba\"],[\"Arbusto\"],[\"Arbusto\"],[\"Hierba\"],[\"Hierba\"],[\"Hierba\"],[\"Hierba\"],[\"Hierba\"],[\"Hierba\"],[\"Hierba\"],[\"Hierba\"],[\"Hierba\"],[\"Hierba\"],[\"Hierba\"],[\"Hierba\"],[\"Hierba\"],[\"Hierba\"],[\"Hierba\"],[\"Hierba\"],[\"Hierba\"],[\"Hierba\"],[\"Hierba\"],[\"Hierba\"],[\"Hierba\"],[\"Hierba\"],[\"Hierba\"],[\"Hierba\"],[\"Hierba\"],[\"Hierba\"],[\"Hierba\"],[\"Hierba\"],[\"Hierba\"],[\"Hierba\"],[\"Hierba\"],[\"Hierba\"],[\"Hierba\"],[\"Hierba\"],[\"Hierba\"],[\"Hierba\"],[\"Hierba\"],[\"Hierba\"],[\"Hierba\"],[\"Hierba\"],[\"Hierba\"],[\"Hierba\"],[\"Hierba\"],[\"Hierba\"]],\"hovertemplate\":\"<b>%{hovertext}</b><br><br>Class=%{marker.color}<br>PC 1=%{x}<br>PC 2=%{y}<br>PC 3=%{z}<br>Hierba=%{customdata[0]}<extra></extra>\",\"hovertext\":[\"Bromeliaceae\",\"Bromeliaceae\",\"Bromeliaceae\",\"Bromeliaceae\",\"Bromeliaceae\",\"Bromeliaceae\",\"Bromeliaceae\",\"Bromeliaceae\",\"Bromeliaceae\",\"Commelinaceae\",\"Commelinaceae\",\"Commelinaceae\",\"Commelinaceae\",\"Commelinaceae\",\"Commelinaceae\",\"Commelinaceae\",\"Commelinaceae\",\"Commelinaceae\",\"Commelinaceae\",\"Commelinaceae\",\"Dioscoreaceae\",\"Dioscoreaceae\",\"Dioscoreaceae\",\"Dioscoreaceae\",\"Dioscoreaceae\",\"Dioscoreaceae\",\"Dioscoreaceae\",\"Dioscoreaceae\",\"Dioscoreaceae\",\"Dioscoreaceae\",\"Dioscoreaceae\",\"Iridaceae\",\"Iridaceae\",\"Iridaceae\",\"Iridaceae\",\"Iridaceae\",\"Iridaceae\",\"Iridaceae\",\"Iridaceae\",\"Alstroemeriaceae\",\"Alstroemeriaceae\",\"Alstroemeriaceae\",\"Melanthiaceae\",\"Melanthiaceae\",\"Melanthiaceae\",\"Melanthiaceae\",\"Melanthiaceae\",\"Melanthiaceae\",\"Melanthiaceae\",\"Melanthiaceae\",\"Melanthiaceae\",\"Melanthiaceae\",\"Melanthiaceae\",\"Poaceae\",\"Poaceae\",\"Poaceae\",\"Poaceae\",\"Poaceae\",\"Poaceae\",\"Poaceae\",\"Poaceae\",\"Poaceae\",\"Poaceae\",\"Poaceae\",\"Pontederiaceae\",\"Pontederiaceae\",\"Pontederiaceae\",\"Pontederiaceae\",\"Pontederiaceae\",\"Pontederiaceae\",\"Pontederiaceae\",\"Cannaceae\",\"Cannaceae\",\"Musaceae\",\"Lycopodiaceae\",\"Apiaceae\",\"Apiaceae\",\"Apiaceae\",\"Apiaceae\",\"Apiaceae\",\"Asteraceae\",\"Asteraceae\",\"Asteraceae\",\"Asteraceae\",\"Asteraceae\",\"Asteraceae\",\"Boraginaceae\",\"Boraginaceae\",\"Boraginaceae\",\"Boraginaceae\",\"Boraginaceae\",\"Aquifoliaceae\",\"Aquifoliaceae\",\"Aquifoliaceae\",\"Aquifoliaceae\",\"Aquifoliaceae\",\"Aquifoliaceae\",\"Aquifoliaceae\",\"Aquifoliaceae\",\"Aquifoliaceae\",\"Aquifoliaceae\",\"Aquifoliaceae\",\"Aquifoliaceae\",\"Sapotaceae\",\"Sapotaceae\",\"Sapotaceae\",\"Sapotaceae\",\"Sapotaceae\",\"Sapotaceae\",\"Apocynaceae\",\"Apocynaceae\",\"Apocynaceae\",\"Apocynaceae\",\"Apocynaceae\",\"Apocynaceae\",\"Oxalidaceae\",\"Oxalidaceae\",\"Oxalidaceae\",\"Oxalidaceae\",\"Oxalidaceae\",\"Oxalidaceae\",\"Platanaceae\",\"Platanaceae\",\"Platanaceae\",\"Platanaceae\",\"Platanaceae\",\"Platanaceae\",\"Acanthaceae\",\"Acanthaceae\",\"Annonaceae\",\"Annonaceae\",\"Annonaceae\",\"Annonaceae\",\"Annonaceae\",\"Annonaceae\",\"Euphorbiaceae\",\"Euphorbiaceae\",\"Euphorbiaceae\",\"Bombacaceae\",\"Bombacaceae\",\"Bombacaceae\",\"Lythraceae\",\"Lythraceae\",\"Lythraceae\",\"Lythraceae\",\"Lythraceae\",\"Lythraceae\",\"Papaveraceae\",\"Papaveraceae\",\"Papaveraceae\",\"Papaveraceae\",\"Papaveraceae\",\"Piperaceae\",\"Piperaceae\",\"Piperaceae\",\"Plantaginaceae\",\"Plantaginaceae\",\"Plantaginaceae\",\"Plantaginaceae\",\"Plantaginaceae\",\"Plumbaginaceae\",\"Plumbaginaceae\",\"Plumbaginaceae\",\"Plumbaginaceae\",\"Plumbaginaceae\",\"Plumbaginaceae\",\"Polygalaceae\",\"Polygalaceae\",\"Polygalaceae\",\"Polygalaceae\",\"Polygalaceae\",\"Polygalaceae\",\"Primulaceae\",\"Primulaceae\",\"Primulaceae\",\"Primulaceae\",\"Rafflesiaceae\",\"Rafflesiaceae\",\"Rafflesiaceae\",\"Rafflesiaceae\",\"Rafflesiaceae\",\"Rafflesiaceae\",\"Berberidaceae\",\"Berberidaceae\",\"Berberidaceae\",\"Berberidaceae\",\"Berberidaceae\",\"Berberidaceae\",\"Rosaceae\",\"Rosaceae\",\"Rosaceae\",\"Rosaceae\",\"Rubiaceae\",\"Rubiaceae\",\"Rubiaceae\",\"Rubiaceae\",\"Rubiaceae\",\"Rubiaceae\",\"Anacardiaceae\",\"Anacardiaceae\",\"Anacardiaceae\",\"Anacardiaceae\",\"Anacardiaceae\",\"Anacardiaceae\",\"Asteraceae\",\"Polemoniaceae\",\"Polemoniaceae\",\"Polemoniaceae\",\"Polemoniaceae\",\"Pentaphylacaceae\",\"Pentaphylacaceae\",\"Pentaphylacaceae\",\"Begoniaceae\",\"Bixaceae\",\"Tamaricaceae\",\"Lycopodiaceae\",\"Acanthaceae\",\"Solanaceae\",\"Solanaceae\",\"Solanaceae\",\"Solanaceae\",\"Solanaceae\",\"Solanaceae\",\"Solanaceae\",\"Solanaceae\",\"Solanaceae\",\"Solanaceae\",\"Plantaginaceae\",\"Plantaginaceae\",\"Plantaginaceae\",\"Plantaginaceae\",\"Plantaginaceae\",\"Plantaginaceae\",\"Plantaginaceae\",\"Rutaceae\",\"Rutaceae\",\"Asteraceae\",\"Asteraceae\",\"Asteraceae\",\"Asteraceae\",\"Asteraceae\",\"Asteraceae\",\"Lythraceae\",\"Lythraceae\",\"Lythraceae\",\"Lythraceae\",\"Lythraceae\",\"Lythraceae\",\"Lythraceae\",\"Lythraceae\",\"Lythraceae\",\"Lythraceae\",\"Lythraceae\",\"Lythraceae\",\"Lythraceae\",\"Lythraceae\",\"Lythraceae\",\"Lythraceae\",\"Asteraceae\",\"Asteraceae\",\"Asteraceae\",\"Asteraceae\",\"Asteraceae\",\"Asteraceae\",\"Asteraceae\",\"Asteraceae\",\"Asteraceae\",\"Asteraceae\",\"Asteraceae\",\"Asteraceae\",\"Asteraceae\",\"Asteraceae\",\"Asteraceae\",\"Asteraceae\",\"Asteraceae\",\"Asteraceae\",\"Asteraceae\",\"Asteraceae\",\"Asteraceae\",\"Asteraceae\",\"Asteraceae\",\"Asteraceae\",\"Apocynaceae\",\"Apocynaceae\",\"Apocynaceae\",\"Apocynaceae\",\"Apocynaceae\",\"Apocynaceae\",\"Apocynaceae\",\"Apocynaceae\",\"Apocynaceae\",\"Apocynaceae\",\"Apocynaceae\",\"Apocynaceae\",\"Apocynaceae\",\"Apocynaceae\",\"Apocynaceae\",\"Apocynaceae\",\"Lamiaceae\",\"Lamiaceae\",\"Lamiaceae\",\"Lamiaceae\",\"Lamiaceae\",\"Lamiaceae\",\"Lamiaceae\",\"Lamiaceae\",\"Lamiaceae\",\"Lamiaceae\",\"Lamiaceae\",\"Lamiaceae\",\"Lamiaceae\",\"Lamiaceae\",\"Lamiaceae\",\"Lamiaceae\",\"Lamiaceae\",\"Lamiaceae\",\"Lythraceae\",\"Lythraceae\",\"Lythraceae\",\"Lythraceae\",\"Lythraceae\",\"Lythraceae\",\"Lythraceae\",\"Lythraceae\",\"Lythraceae\",\"Lythraceae\",\"Lythraceae\",\"Lythraceae\",\"Lythraceae\",\"Lythraceae\",\"Lythraceae\",\"Lythraceae\",\"Rutaceae\",\"Rutaceae\",\"Simaroubaceae\",\"Simaroubaceae\",\"Simaroubaceae\",\"Simaroubaceae\",\"Simaroubaceae\",\"Simaroubaceae\",\"Simaroubaceae\",\"Simaroubaceae\",\"Simaroubaceae\",\"Simaroubaceae\",\"Simaroubaceae\",\"Simaroubaceae\",\"Simaroubaceae\",\"Simaroubaceae\",\"Simaroubaceae\",\"Simaroubaceae\",\"Simaroubaceae\",\"Simaroubaceae\",\"Simaroubaceae\",\"Simaroubaceae\",\"Simaroubaceae\",\"Simaroubaceae\",\"Simaroubaceae\",\"Simaroubaceae\",\"Simaroubaceae\",\"Simaroubaceae\",\"Simaroubaceae\",\"Simaroubaceae\",\"Simaroubaceae\",\"Simaroubaceae\",\"Simaroubaceae\",\"Simaroubaceae\",\"Simaroubaceae\",\"Simaroubaceae\",\"Simaroubaceae\",\"Simaroubaceae\",\"Simaroubaceae\",\"Simaroubaceae\",\"Simaroubaceae\",\"Simaroubaceae\",\"Simaroubaceae\",\"Simaroubaceae\",\"Simaroubaceae\",\"Simaroubaceae\",\"Bixaceae\",\"Bixaceae\"],\"legendgroup\":\"2\",\"marker\":{\"color\":[2,2,2,2,2,2,2,2,2,2,2,2,2,2,2,2,2,2,2,2,2,2,2,2,2,2,2,2,2,2,2,2,2,2,2,2,2,2,2,2,2,2,2,2,2,2,2,2,2,2,2,2,2,2,2,2,2,2,2,2,2,2,2,2,2,2,2,2,2,2,2,2,2,2,2,2,2,2,2,2,2,2,2,2,2,2,2,2,2,2,2,2,2,2,2,2,2,2,2,2,2,2,2,2,2,2,2,2,2,2,2,2,2,2,2,2,2,2,2,2,2,2,2,2,2,2,2,2,2,2,2,2,2,2,2,2,2,2,2,2,2,2,2,2,2,2,2,2,2,2,2,2,2,2,2,2,2,2,2,2,2,2,2,2,2,2,2,2,2,2,2,2,2,2,2,2,2,2,2,2,2,2,2,2,2,2,2,2,2,2,2,2,2,2,2,2,2,2,2,2,2,2,2,2,2,2,2,2,2,2,2,2,2,2,2,2,2,2,2,2,2,2,2,2,2,2,2,2,2,2,2,2,2,2,2,2,2,2,2,2,2,2,2,2,2,2,2,2,2,2,2,2,2,2,2,2,2,2,2,2,2,2,2,2,2,2,2,2,2,2,2,2,2,2,2,2,2,2,2,2,2,2,2,2,2,2,2,2,2,2,2,2,2,2,2,2,2,2,2,2,2,2,2,2,2,2,2,2,2,2,2,2,2,2,2,2,2,2,2,2,2,2,2,2,2,2,2,2,2,2,2,2,2,2,2,2,2,2,2,2,2,2,2,2,2,2,2,2,2,2,2,2,2,2,2,2,2,2,2,2,2,2,2,2,2,2,2,2,2,2,2,2,2,2,2,2,2,2,2,2],\"coloraxis\":\"coloraxis\",\"symbol\":\"diamond\"},\"mode\":\"markers\",\"name\":\"2\",\"scene\":\"scene\",\"showlegend\":true,\"type\":\"scatter3d\",\"x\":[0.2218634417252794,0.23420493790850422,0.23420493790850422,0.11130142233954352,0.019830883761075623,0.023243542980064247,-0.06862422809263528,0.021425471597868916,0.27967987307484876,0.597803571718902,0.597803571718902,0.08091974779650511,0.004327404184904297,6.558362326772763e-05,0.004327404184904297,6.558362326772763e-05,0.4267938291538075,0.3910638858602318,0.2591853397453057,0.32512018617176935,0.5212819067701783,-0.02009455823125453,0.28282661354555894,0.28282661354555894,0.6913035907180078,0.8601741054171491,0.9033010290495814,0.6913035907180078,0.8601741054171491,0.9033010290495814,0.31280920294251563,0.19761815633723212,0.24551696870676964,0.30712195104177087,0.30712195104177087,0.1760288087835804,0.38396870214343526,0.7027884089648754,0.33103108551712523,0.5614520676733781,0.3595616216932291,0.6417978169847871,0.21356657470250057,0.4233552427890345,0.3820241134036537,0.012510781392127445,0.15268365571497852,0.6071143920836181,0.6071143920836181,0.8228610666260165,0.8228610666260165,0.12434038144951359,0.07018048387265574,-0.14706133846905467,-0.06092566349678001,-0.14706133846905467,-0.10899147529330708,-0.10899147529330708,-0.10899147529330708,0.17950724037440366,-0.10249879987917508,0.12059710710693405,0.2120641357708816,0.12059710710693405,0.3024361655891843,0.23342606396760585,0.9234365013830316,0.8544263997614528,0.8766050244438591,1.170839842315965,1.3674570917861928,0.6090232621973977,0.6090232621973977,0.6893282440289764,3.8507533807048797,-0.7892500017018137,-1.085663287969947,-1.088012298268022,-0.6334605605565905,-0.4477875118270349,-0.7088158194112659,-0.7568551929052159,-0.5538952601581465,-0.77623882349733,-1.0674204872217326,-0.7044562252267051,-1.4419626144346698,-1.4419626144346698,-1.4419626144346698,-0.47772611620081856,-0.7555065005546446,-1.3757578425915917,-2.3897470078831384,-1.3802084733782654,-1.7425227859870036,-1.7425227859870036,-1.746973416773678,-1.7425227859870036,-1.746973416773678,-1.746973416773678,-1.4632532174623731,-1.8691238308842444,-1.7850390188848224,-0.15501020997647785,-0.19668362076666737,-0.2711429312922119,-1.2411283492988108,-1.2612133120999793,-1.1673567967527836,-1.0967592825049906,-0.9539583026611959,-1.1594424269674954,-0.9110762749438464,-0.7881703058839309,-0.7881703058839309,-0.5266826495420593,-0.3960291394470191,-0.3746618791519177,-0.2593242534069834,-0.47090735302117787,-0.38086028211247597,-1.6174762126959084,-1.6479773360635892,-2.004837489484835,-1.752013379566001,-2.102427123816266,-1.7680651728102492,-2.4316128684532052,-0.9334255595022674,-1.594096015390049,-1.4616467863001832,-1.562272143156376,-1.4311241148043663,-1.2665797388167657,-1.3947190852588638,-0.7270544582841448,-0.7706541124800639,-0.5117750070628797,-2.14805686461996,-1.8369026892930354,-1.7614164770706513,-1.5186214919377083,-1.5692166538347556,-1.55615476509968,-0.38360646099102624,-0.311789076664799,-0.38360646099102624,-1.99138390401359,-2.0510703422775856,-1.492928834775644,-1.1298493617470504,-0.7646593858779412,-0.5705741493521657,-0.6514026855728557,-0.6615212596166979,-1.615115155367791,-1.831283876134426,-1.7975122167074682,-2.5519186069843567,-2.6258646386278968,-1.6755262868714789,-1.8897208440964173,-2.056862581088417,-1.7751866279613477,-1.8228903965373737,-1.8687818771299776,-1.9762847673947483,-1.7564431597159815,-1.4530429010361712,-1.707998429487308,-1.6932377567411128,-1.3807320916641854,-1.4927228096488736,-2.485084824832158,-1.5968270089076078,-1.573151273645732,-1.6450938661838088,-1.5989683721201788,-1.6143395533834377,-1.6538831728626837,-1.6560552288532178,-1.590334261185436,-1.6143811579406693,-1.5653685118474248,-1.5474373653575701,-2.1048526049415877,-1.588214230897671,-1.5885116034902964,-1.3206230777176802,-2.07495828869631,-0.9780464361640607,-0.6545690526099573,-0.15008856895888198,-0.34880526384422794,-0.08112146226682236,-1.2283502199170113,-1.2283502199170113,-1.2283502199170113,-1.1754964548440114,-1.131285427170513,-1.6046633399357162,-1.5827992410192626,-2.254373260093773,-2.254373260093773,-1.0679922963654167,-1.3252256501832578,-1.3252256501832578,-1.7494347893946212,-1.742720354809164,-1.1620686199812122,-1.1985383528389935,-1.4114325164453103,-0.5762570962967554,-2.251143721044951,-1.7156835110968631,3.8507533807048797,-2.1870901403855223,-1.8712585662883552,-2.0913602231351667,-2.241934075856294,-1.7313623933578985,-1.5376579149706804,-1.2877042824482203,-1.3792530208531515,-1.2078919546139426,-0.6579404135303779,-0.8160190441413249,-0.5732936678720782,-0.5793128910380411,-0.5640822015059045,-0.56099035863877,-0.7832042475753196,-0.49371192168342387,-0.9392682796273429,-1.3230820992639114,-1.3406220313352024,-0.43240662660104157,-0.37728841424501414,-0.44097513038760183,-0.44097513038760183,-0.44097513038760183,-0.20097254831822806,-0.15971436177489887,-0.22696633670852473,-0.5590608839352342,-0.22696633670852473,-0.38456782145396834,-0.5279979104237895,-0.3218632715997078,-0.4580551447442519,-0.5073586150779674,-0.5323400535185708,-0.5823359251992491,-0.35910197857808396,-0.3700862992409387,-0.4114174286263195,-0.4114174286263195,-0.4114174286263195,-2.210808860955582,-1.746083377918003,-1.746083377918003,-1.7319873155877215,-1.7319873155877215,-1.7319873155877215,-1.7319873155877215,-1.3858123079134792,-1.0509975637659057,-1.471055002392807,-1.4262665833990464,-1.2149525739740688,-1.219947971676979,-1.2149525739740688,-1.4258437682404572,-0.9771085534537675,-0.9771085534537675,-1.1495947944166276,-1.4220886273895217,-1.0343081881969665,-1.1673322455647224,-1.0185311505556285,-1.0163474166505524,-1.039581368752072,-1.0638552353772803,-1.4626928834345283,-1.0602654790210804,-1.1529402883026758,-1.4060900145135038,-0.95240665282149,-0.9876608509653808,-0.95240665282149,-1.0638552353772803,-1.4626928834345283,-1.0602654790210804,-1.1529402883026758,-1.4060900145135038,-0.95240665282149,-0.9876608509653808,-0.95240665282149,-1.0760687497092905,-1.099971189591133,-1.1139580918832686,-1.194247789211161,-1.3484354166021233,-1.8439239860923025,-1.714308333359348,-1.835508537913015,-1.8737515396134914,-1.8927495618935566,-1.9612134392119585,-2.012630084882504,-2.012630084882504,-2.1547739173316365,-2.215725854776374,-1.6208927675208984,-1.8871929340161957,-1.9363361853962444,-0.15971436177489887,-0.22696633670852473,-0.5590608839352342,-0.22696633670852473,-0.38456782145396834,-0.5279979104237895,-0.3218632715997078,-0.4580551447442519,-0.5073586150779674,-0.5323400535185708,-0.5823359251992491,-0.35910197857808396,-0.3700862992409387,-0.4114174286263195,-0.4114174286263195,-0.4114174286263195,-1.3230820992639114,-1.3406220313352024,-1.8309488501756996,-1.5595058570499527,-0.8450273838821669,-0.8450273838821669,-0.8450273838821669,-0.8697920799190199,-0.8379563501273121,-0.8358686919799702,-0.8160429150344566,-0.8519047699763318,-0.8358686919799702,-0.9595963024978621,-0.9517306763566649,-0.8484044548486529,-0.8789302584932509,-0.8566153397178379,-0.8295524812608255,-0.8519047699763318,-0.8789302584932509,-0.8789302584932509,-0.8789302584932509,-0.8789302584932509,-0.8736969123730597,-0.8789302584932509,-0.8789302584932509,-0.8223188945758126,-1.283978514620954,-0.9774444884700428,-1.3709188376767336,-1.009809910995958,-1.04982001534093,-1.4703087341945185,-1.22870167089814,-1.3926207213323551,-1.48708130819326,-1.4168303017601065,-1.4489357989974443,-1.0668244904396798,-0.9890382697763693,-0.92847549860351,-1.412858788500125,-0.9959776548528074,-1.4076598762619317,-1.1589980489650413,-1.5711902346649345,-1.4571892229472414],\"y\":[4.236388965820089,4.715104249007866,4.715104249007866,3.691684119718171,3.5009356064639348,3.5073296768717914,3.8387978165555507,3.4616973053892455,4.659936500796798,5.280536559797465,5.280536559797465,4.184844273541173,3.628621273751765,3.621001241538943,3.628621273751765,3.621001241538943,4.364985215917241,4.314652007428058,4.039950189690316,4.162408305357569,5.257221113254539,4.554243302045368,4.561867773000594,4.561867773000594,6.864252874668914,6.174806088858134,6.2540713336817815,6.864252874668914,6.174806088858134,6.2540713336817815,4.6102071030238525,4.131125778427629,4.220445111296053,4.1060394908787945,4.1060394908787945,3.521269483956218,4.118322776508649,5.711075434900053,5.877671122138498,4.778959576995095,4.284929919560273,4.928412532397173,4.011434701832871,4.423090328620954,4.429308021006821,4.046811539263366,4.470035235156457,4.874379570295996,4.874379570295996,5.49882507191148,5.49882507191148,3.6352660766485254,3.5356534606473273,3.514400028356359,3.682454952296732,3.514400028356359,3.601503416888292,3.601503416888292,3.601503416888292,3.694232954862184,3.600476886851168,3.561983667310083,3.781298080870816,3.561983667310083,2.9444945842447514,2.8001969528351527,2.081568303309977,1.9372706719003794,2.5415208487977052,3.193071322761744,3.0947155058262403,5.971667213171323,5.971667213171323,5.246125984393116,3.947813967410351,1.7293112299974467,1.5921535093387906,1.1633746910594214,1.638927995631217,1.9880658186249853,1.4971079657557964,1.4130469849263645,1.8483629403018307,1.3224382878199672,1.299329067305929,1.5148998536607277,0.6720090504603826,0.6720090504603826,0.6720090504603826,3.375032178884568,3.4342799403771243,4.674380931851542,1.688932184880603,4.849837450430256,3.161558665969895,3.161558665969895,3.3370151845486107,3.161558665969895,3.3370151845486107,3.3370151845486107,3.3427747962527428,4.034806793469318,3.1952029044707335,3.433145032110837,3.359111265529255,3.2060430298540936,3.171234168127687,3.133861441673799,3.3054500484786384,1.5145615573368894,1.2838726028160263,1.2796304394144626,1.3631622592877124,1.6696015232312051,1.6696015232312051,4.089950675950083,3.590212248971266,3.563330050606464,3.2374061575023165,2.7550306258951567,3.501996847298781,2.6404743792819882,2.5107498730592845,2.167980679834287,2.1915820185223103,1.9354955053590914,2.1709190810458585,0.5356018433181873,-0.13131269507724416,2.819198080658602,3.0708734507325697,2.8776726913872253,3.3170884421844167,3.619249323327891,3.3849672348565085,2.5569296410153033,3.3463002563510376,3.016415482566356,2.3014236380462916,1.3552286152327977,1.4938468875169584,1.1149176267075251,0.842054044063093,0.8669522688875061,2.6047387060094986,3.1609397628845635,2.6047387060094986,1.6218078747902087,1.493143355514753,2.1255397091146904,1.7744421149866891,2.0045095281647396,2.045756762852526,1.8825808999241258,1.863988807151172,0.5899767636821993,0.36511738402354943,0.41153657885926903,0.4891321893938442,0.6591940810165793,2.6436093947524673,2.2018907253502498,2.650055774130791,0.9643382739185192,0.8752369920702304,0.8751682192921381,2.2246255420098215,2.1920790181420675,2.799054336183832,2.221564031450493,2.2478519747101413,2.8551253895351096,2.6827214501313628,0.6220972815475208,3.0268121818307034,3.2733799583427485,2.249871275995237,2.409265380637316,2.3811260101687672,2.2339653743056522,2.2295729259948738,2.425162097197182,2.834008901829076,2.339885195703362,2.3743042563818517,2.604180216674834,2.302946064271977,2.2973274143858444,0.34733617753252766,0.8002593143189458,2.5800883392083316,1.8887466205973256,4.905088283133721,5.812637082182078,4.861542233865934,6.015825935508627,6.015825935508627,6.015825935508627,3.93722349609052,3.6754097900619738,3.966232196777326,4.34212267389343,2.656824331035351,2.656824331035351,1.2570033766825583,0.37138268056128826,0.37138268056128826,1.291242326792439,1.3407554351829745,3.628294234635702,3.494476645521777,2.984001515653724,2.262804120095165,1.9027056787998373,1.7277347109385044,3.947813967410351,0.31187317408146664,2.6376414720833266,1.1958994978348454,0.8960037337790328,2.12440353960315,1.9942701037555788,1.307609147452224,1.0901335259826244,1.241940336923531,1.925281642540653,1.6179061112312105,2.404917057594123,2.4537848568524634,2.9477768323014577,2.9536056217264077,2.475426672728808,2.5899361381590444,2.1093467542786652,2.6289719089936,0.27628674093473377,2.3489469348536227,2.4497498882081516,2.3331248659252943,2.3331248659252943,2.3331248659252943,3.255854985733376,3.7255845446823894,3.4539844804416773,2.8581628719927554,3.4539844804416773,3.2175987238711565,2.3633404608377453,2.850091969530887,2.57170913618385,2.3937605185882727,2.355882349975455,2.843388889797554,3.438891163214536,2.699678609303024,2.70589630168889,2.70589630168889,2.70589630168889,0.5713852819078932,1.1423183407957231,1.142318340795725,1.1684559477380867,1.1684559477380867,1.1684559477380867,1.1684559477380867,0.6152533655716779,0.9117294352127415,0.4531394473655349,0.5152070872582057,0.5292179878114208,0.5201694744905757,0.5292179878114208,0.5159616686614215,1.0650370408864165,1.0650370408864165,0.7185600590714362,0.6506820843183639,0.9604725908643545,1.3077377891837934,0.9615882608644943,0.9527690245000672,0.9227364179932638,0.733668597749293,0.32874294328892023,0.7290629846189587,0.510375865069144,0.5581385634462668,1.0489286318442086,0.9023208390544378,1.0489286318442086,0.733668597749293,0.32874294328892023,0.7290629846189587,0.510375865069144,0.5581385634462668,1.0489286318442086,0.9023208390544378,1.0489286318442086,1.0235327703931287,2.300360646694959,0.8523627542663127,0.6301445228962959,0.31672582738801525,1.0273198489015583,1.2645041312343772,1.0429153851973976,1.4990290962479835,0.9106419830881666,0.8206336963671991,0.6156122873008171,0.6156122873008171,0.859370837416067,0.6525645572764736,1.558988345006863,0.8455063124272291,0.7562357963605159,3.7255845446823894,3.4539844804416773,2.8581628719927554,3.4539844804416773,3.2175987238711565,2.3633404608377453,2.850091969530887,2.57170913618385,2.3937605185882727,2.355882349975455,2.843388889797554,3.438891163214536,2.699678609303024,2.70589630168889,2.70589630168889,2.70589630168889,2.6289719089936,0.27628674093473377,2.5584419417893782,2.3130842215614176,2.1373767639023225,2.1373767639023225,2.1373767639023225,2.092083431338609,2.1516505848183765,2.15142710451128,2.1893433678077683,2.1238714182901988,2.15142710451128,1.9299423442780512,1.9435385683221515,2.130347495226895,2.074727326930047,2.1168658877479123,2.164737822286161,2.1238714182901988,2.074727326930047,2.074727326930047,2.074727326930047,2.074727326930047,2.0847451210656573,2.074727326930047,2.074727326930047,2.179346737190636,1.1872724644687302,1.2314616269433478,0.8199492821733503,1.139473933485874,1.0684352236466785,0.6178012610186686,1.2677794706447567,0.7835131642264499,0.668693512531457,0.8053693778121889,0.67664311956056,1.0518439739954997,1.1539048598410222,1.2896844902337399,0.821872268925029,1.2087481535532303,1.1890222049940964,1.40059064326882,0.32634136082647625,0.696992077294739],\"z\":[1.234984690083157,0.8938488068847784,0.8938488068847784,2.0865041190449234,2.2556193377275826,2.2502518653566757,2.214318983699555,2.2363102628295537,1.2685729065014615,0.6111229767243699,0.6111229767243699,1.7141875878571629,2.0220106641203506,2.026350645812332,2.0220106641203506,2.026350645812332,1.3413069297475857,1.3647130186403056,1.5503768744601438,1.4765063461598265,0.8788150330485941,1.5365209825568198,1.6010212855790285,1.6010212855790285,0.35894472580332537,0.5567299146040124,0.5087358316774429,0.35894472580332537,0.5567299146040124,0.5087358316774429,1.5530157564582125,1.6278695959911322,1.5735653009700536,2.2078137274733822,2.2078137274733822,2.2295599295937456,1.9121585654877535,0.8547427261432092,1.2254111578866502,1.4389674650257895,1.8294040056883543,1.3934160030813056,1.1224492048693193,1.339767328255408,1.428555501050609,1.255754960146563,1.6044849427730767,0.4861969704798253,0.4861969704798253,0.620192777877173,0.620192777877173,1.4438925718884354,1.5038567211833687,1.4478169328745656,1.3412587720212885,1.4478169328745656,1.3938523420763276,1.3938523420763276,1.3938523420763276,1.0845724366655647,1.3939171709888618,1.1664159317373644,0.9972357189434808,1.1664159317373644,2.1229559174340613,2.1725484954506644,1.6798788199848735,1.729471398001477,1.1653598801318001,0.7814275208135223,0.8952498953652219,-1.3356116023662525,-1.3356116023662525,-0.5803284949562134,-3.0020692896637478,-0.3715638009170144,-0.2540143446036344,-0.14934925689814435,-0.7938628940355917,-1.0181203067362108,-1.6290435880771466,-1.6039604121623872,-1.9376111882928246,-1.5666008381344443,-1.3189220819725203,-1.6838254472374081,1.4903767286402785,1.4903767286402785,1.4903767286402785,-1.2444569916728352,-0.7328872382320324,-2.503827462426972,-0.7854999758014681,-3.3916707825198986,-1.7973617208741228,-1.7973617208741228,-2.68520504096705,-1.7973617208741228,-2.68520504096705,-2.68520504096705,-1.9008932874133502,-2.3047146303835877,-1.5647490658734418,-3.422463221277812,-3.3780027835049973,-3.2835287144460183,-3.7887726768457948,-3.765635156852265,-3.8685229262139824,-0.39487187497021525,-0.5119550574833842,-0.4462283184894414,-0.5440637326025081,-0.7996742359901922,-0.7996742359901922,-1.1206622863768818,-1.2886552409867347,-1.1931784002437276,-0.8877047018702068,-0.5620621281436752,-1.2580065203695905,-0.9552823155125002,-0.9750101952183062,-0.622410473320335,-0.6639608871867155,-0.4534217544457359,-0.6619790410617574,-2.876020345188322,-1.2923097812662383,-1.3688262094979884,-1.5246440213503685,-1.4034583893103345,-2.385830529553348,-2.564465561528912,-2.4270549782586235,-0.565449526112729,-0.5757093941086007,-0.7720444260971654,-1.4316496937649295,-2.0538606206383143,-2.1374131077196035,-1.1988654131676408,-1.1542805167374175,-1.1668353159832354,-2.428759431704549,-2.855547590538117,-2.428759431704549,-1.0737394974589938,-0.9711658654589785,-1.645281693889963,-0.8518080926548315,-1.2368595519874868,-1.6585262174278546,-1.5510345092925304,-1.5398149384985527,-1.0018882008344765,-0.8118771486691252,-0.8088829586098757,-1.3591027322935085,-1.5400976220470153,-0.8085986630118898,-0.22313072805792555,-0.5615642696283262,0.30376511703146886,0.35862331478926707,0.2755911232483233,-1.082438481909029,-1.3757581093381803,-1.7803438573307948,-1.3708318457206417,-1.3864884164495734,-1.7791090930599176,-4.07627478615391,-2.2328987289267506,-4.404868900343682,-4.384940513894867,-2.8566267386057924,-3.012768506732907,-2.9959742317891727,-2.8472294709660946,-2.8441615008059435,-3.0222541942977608,-2.578072851569561,-2.166983009027432,-2.1893027463114336,-2.564885474560027,-2.14966788927092,-2.141640321224848,0.7293197956930744,0.34757588250255944,-2.37362968264848,-1.3340055794917187,-5.8359468605820135,-6.97402397967503,-5.659190768432635,-7.685328342152799,-7.685328342152799,-7.685328342152799,-2.2937275962031873,-2.053086280400971,-1.9212453155899816,-2.862452865317154,-0.8890861533943457,-0.8890861533943457,-0.890648653424924,0.958239702712767,0.958239702712767,-0.6601477802019445,-0.7335263561581011,-2.261829237163383,-2.2983663237164893,-1.9094801963468313,-0.8547078232316522,-0.836526573316564,-0.850909080039425,-3.0020692896637478,-2.2848807958463015,-3.1026497143527334,-1.484798396250607,-1.338456705545497,-1.9783674853439936,-2.1078908071872915,-0.9555371088457109,-0.8086482767354973,-0.8044736740011643,-1.593184045520363,-1.3859763762356854,-2.3444449153636464,-2.3950900504915955,-2.7539590631198942,-2.7576053903541364,-2.1005953721163797,-2.325373943429842,-2.2412860687440532,-1.8769742715948512,0.09980134173524774,-2.4571595965195474,-2.517488117138945,-2.4476361460866807,-2.4476361460866807,-2.4476361460866807,-3.1657433400361037,-3.370408818713642,-3.1674639467221697,-2.8407991745712633,-3.1674639467221697,-3.1023109695636277,-2.3443679707368705,-2.686389059714859,-2.376364652968645,-2.354777433148599,-2.340273300304726,-2.447935920285502,-3.1927473736373133,-2.5876702491206207,-2.498882076325421,-2.498882076325421,-2.498882076325421,-1.7941713713810865,-2.27256280771947,-2.2725628077194684,-2.2885781842730104,-2.2885781842730104,-2.2885781842730104,-2.2885781842730104,-1.6108486013331234,-1.7365600879857956,-1.5104732192974113,-1.3874642372858546,-1.4505189327939427,-1.445404643269217,-1.4505189327939427,-1.38794583017389,-1.8487245030460409,-1.8487245030460409,-1.6018516526965014,-1.3045568034979165,-1.7820831952912115,-2.0994246595793773,-1.7434015565966972,-1.7283940663322468,-1.7197531573872369,-1.332874019810376,-1.1485230450679107,-1.2929672504098386,-1.1400235103721177,-0.9959071287784227,-1.4934134066168785,-1.4974340866163633,-1.4934134066168785,-1.332874019810376,-1.1485230450679107,-1.2929672504098386,-1.1400235103721177,-0.9959071287784227,-1.4934134066168785,-1.4974340866163633,-1.4934134066168785,-2.0491701610321544,-3.6041388664836713,-2.029026731396911,-1.8436972248020704,-1.6327720293170527,-2.526787006176008,-2.6703572252380403,-2.5363161089200044,-2.896443095428975,-2.429555250387972,-2.268629819061758,-2.226472276318759,-2.226472276318759,-2.4957565618333097,-2.549293771200244,-2.79303001329274,-2.34880669128454,-2.296732070229683,-3.370408818713642,-3.1674639467221697,-2.8407991745712633,-3.1674639467221697,-3.1023109695636277,-2.3443679707368705,-2.686389059714859,-2.376364652968645,-2.354777433148599,-2.340273300304726,-2.447935920285502,-3.1927473736373133,-2.5876702491206207,-2.498882076325421,-2.498882076325421,-2.498882076325421,-1.8769742715948512,0.09980134173524774,-2.778470092978156,-3.0968405398049446,-2.61492873984299,-2.61492873984299,-2.61492873984299,-2.588241134454464,-2.6243822491013504,-2.623153468512045,-2.6467499929311233,-2.607583207719987,-2.623153468512045,-2.4969476345632136,-2.5041251806719944,-2.6112888745780514,-2.5778632353102138,-2.6030969088170535,-2.630718105791266,-2.607583207719987,-2.5778632353102138,-2.5778632353102138,-2.5778632353102138,-2.5778632353102138,-2.5846132606088448,-2.5778632353102138,-2.5778632353102138,-2.6415683194610127,-1.6161235829396594,-1.8678377784842983,-1.8509751598650799,-1.7990252155763484,-1.7584271438650334,-1.361990392988849,-1.6525734334201148,-1.8303857879593086,-1.1357672344629224,-1.2409137650679456,-1.48896573440828,-1.706487607720291,-1.7096538249793147,-1.82825909949335,-1.2614467424027782,-1.8122256891808073,-1.730904168588389,-1.7214036781451592,-1.0205934341143688,-0.9710313593584827]},{\"customdata\":[[\"Hierba\"],[\"Hierba\"],[\"Hierba\"],[\"Hierba\"],[\"Hierba\"],[\"Hierba\"],[\"Hierba\"],[\"Hierba\"],[\"Hierba\"],[\"Hierba\"],[\"Hierba\"],[\"Hierba\"],[\"Hierba\"],[\"Hierba\"],[\"Hierba\"],[\"Hierba\"],[\"Hierba\"],[\"Hierba\"],[\"Hierba\"],[\"Hierba\"],[\"Hierba\"],[\"Hierba\"],[\"Hierba\"],[\"Hierba\"],[\"Hierba\"],[\"Hierba\"],[\"Hierba\"],[\"Hierba\"],[\"Hierba\"],[\"Hierba\"],[\"Hierba\"],[\"Hierba\"],[\"Hierba\"],[\"Hierba\"],[\"Hierba\"],[\"Hierba\"],[\"Hierba\"],[\"Hierba\"],[\"Hierba\"],[\"Hierba\"],[\"Hierba\"],[\"Hierba\"],[\"Hierba\"],[\"Hierba\"],[\"Hierba\"],[\"Hierba\"],[\"Hierba\"],[\"Hierba\"],[\"Hierba\"],[\"Hierba\"],[\"Hierba\"],[\"Hierba\"],[\"Hierba\"],[\"Hierba\"],[\"Hierba\"],[\"Hierba\"],[\"Hierba\"],[\"Hierba\"],[\"Hierba\"],[\"Hierba\"],[\"Hierba\"],[\"Hierba\"],[\"Hierba\"],[\"Hierba\"],[\"Hierba\"],[\"Hierba\"],[\"Hierba\"],[\"Hierba\"],[\"Hierba\"],[\"Hierba\"],[\"Hierba\"],[\"Hierba\"],[\"Hierba\"],[\"Hierba\"],[\"Hierba\"],[\"Hierba\"],[\"Hierba\"],[\"Hierba\"],[\"Hierba\"],[\"Hierba\"],[\"Hierba\"],[\"Hierba\"],[\"Hierba\"],[\"Hierba\"],[\"Hierba\"],[\"Hierba\"],[\"Hierba\"],[\"Hierba\"],[\"Hierba\"],[\"Hierba\"],[\"Hierba\"],[\"Hierba\"],[\"Hierba\"],[\"Hierba\"],[\"Hierba\"],[\"Hierba\"],[\"Hierba\"],[\"Hierba\"],[\"Hierba\"],[\"Hierba\"],[\"Hierba\"],[\"Hierba\"],[\"Hierba\"],[\"Hierba\"],[\"Hierba\"],[\"Hierba\"],[\"Hierba\"],[\"Hierba\"],[\"Hierba\"],[\"Hierba\"],[\"Hierba\"],[\"Hierba\"],[\"Hierba\"],[\"Hierba\"],[\"Hierba\"],[\"Hierba\"],[\"Hierba\"],[\"Hierba\"],[\"Hierba\"],[\"Hierba\"],[\"Hierba\"],[\"Hierba\"],[\"Hierba\"],[\"Hierba\"],[\"Hierba\"],[\"Hierba\"],[\"Hierba\"],[\"Hierba\"],[\"Hierba\"],[\"Hierba\"],[\"Hierba\"],[\"Hierba\"],[\"Hierba\"],[\"Hierba\"],[\"Hierba\"],[\"Hierba\"],[\"Hierba\"],[\"Hierba\"],[\"Hierba\"],[\"Hierba\"],[\"Hierba\"],[\"Hierba\"],[\"Hierba\"],[\"Hierba\"],[\"Hierba\"],[\"Hierba\"],[\"Hierba\"],[\"Hierba\"],[\"Hierba\"],[\"Hierba\"],[\"Hierba\"],[\"Hierba\"],[\"Hierba\"],[\"Hierba\"],[\"Hierba\"],[\"Hierba\"],[\"Hierba\"],[\"Hierba\"],[\"Hierba\"],[\"Hierba\"],[\"Hierba\"],[\"Hierba\"],[\"Hierba\"],[\"Hierba\"],[\"Hierba\"],[\"Hierba\"],[\"Hierba\"],[\"Hierba\"],[\"Hierba\"],[\"Hierba\"],[\"Hierba\"],[\"Hierba\"],[\"Hierba\"],[\"Hierba\"],[\"Hierba\"],[\"Hierba\"],[\"Hierba\"],[\"Hierba\"],[\"Hierba\"],[\"Hierba\"],[\"Hierba\"],[\"Hierba\"],[\"Hierba\"],[\"Hierba\"],[\"Hierba\"],[\"Hierba\"],[\"Hierba\"],[\"Hierba\"],[\"Hierba\"],[\"Hierba\"],[\"Hierba\"],[\"Hierba\"],[\"Hierba\"],[\"Hierba\"],[\"Hierba\"],[\"Hierba\"],[\"Hierba\"],[\"Hierba\"],[\"Hierba\"],[\"Hierba\"],[\"Hierba\"],[\"Hierba\"],[\"Hierba\"],[\"Hierba\"],[\"Hierba\"],[\"Hierba\"],[\"Hierba\"],[\"Hierba\"],[\"Hierba\"],[\"Hierba\"],[\"Hierba\"],[\"Hierba\"],[\"Hierba\"],[\"Hierba\"],[\"Hierba\"],[\"Hierba\"],[\"Hierba\"],[\"Hierba\"],[\"Hierba\"],[\"Hierba\"],[\"Hierba\"],[\"Hierba\"],[\"Hierba\"],[\"Hierba\"],[\"Hierba\"],[\"Hierba\"],[\"Hierba\"],[\"Hierba\"],[\"Hierba\"],[\"Hierba\"],[\"Hierba\"],[\"Hierba\"],[\"Hierba\"],[\"Hierba\"],[\"Hierba\"],[\"Hierba\"],[\"Hierba\"],[\"Hierba\"],[\"Hierba\"],[\"Hierba\"],[\"Hierba\"],[\"Hierba\"],[\"Hierba\"],[\"Hierba\"],[\"Hierba\"],[\"Hierba\"],[\"Hierba\"],[\"Hierba\"],[\"Hierba\"],[\"Hierba\"],[\"Hierba\"],[\"Hierba\"],[\"Hierba\"],[\"Hierba\"],[\"Hierba\"],[\"Hierba\"],[\"Hierba\"],[\"Hierba\"],[\"Hierba\"],[\"Hierba\"],[\"Hierba\"],[\"Hierba\"],[\"Hierba\"],[\"Hierba\"],[\"Hierba\"],[\"Hierba\"],[\"Hierba\"],[\"Hierba\"],[\"Hierba\"],[\"Hierba\"],[\"Hierba\"],[\"Hierba\"],[\"Hierba\"],[\"Hierba\"],[\"Hierba\"],[\"Hierba\"],[\"Hierba\"],[\"Hierba\"],[\"Hierba\"],[\"Hierba\"],[\"Hierba\"],[\"Hierba\"],[\"Hierba\"],[\"Hierba\"],[\"Hierba\"],[\"Hierba\"],[\"Hierba\"],[\"Hierba\"],[\"Hierba\"],[\"Hierba\"],[\"Hierba\"],[\"Hierba\"],[\"Hierba\"],[\"Hierba\"],[\"Hierba\"],[\"Hierba\"],[\"Hierba\"],[\"Hierba\"],[\"Hierba\"],[\"Hierba\"],[\"Hierba\"],[\"Hierba\"],[\"Hierba\"],[\"Hierba\"],[\"Hierba\"],[\"Hierba\"],[\"Hierba\"],[\"Hierba\"],[\"Hierba\"],[\"Hierba\"],[\"Hierba\"],[\"Hierba\"],[\"Hierba\"],[\"Hierba\"],[\"Hierba\"],[\"Hierba\"],[\"Hierba\"],[\"Hierba\"],[\"Hierba\"],[\"Hierba\"],[\"Hierba\"],[\"Hierba\"],[\"Hierba\"],[\"Hierba\"],[\"Hierba\"],[\"Hierba\"],[\"Hierba\"],[\"Hierba\"],[\"Hierba\"],[\"Hierba\"],[\"Hierba\"],[\"Hierba\"],[\"Hierba\"],[\"Hierba\"],[\"Hierba\"],[\"Hierba\"],[\"Hierba\"],[\"Hierba\"],[\"Hierba\"],[\"Hierba\"],[\"Hierba\"],[\"Hierba\"],[\"Hierba\"],[\"Hierba\"],[\"Hierba\"],[\"Hierba\"],[\"Hierba\"],[\"Hierba\"],[\"Hierba\"],[\"Hierba\"],[\"Hierba\"],[\"Hierba\"],[\"Hierba\"],[\"Hierba\"],[\"Hierba\"],[\"Hierba\"],[\"Hierba\"],[\"Hierba\"],[\"Hierba\"],[\"Hierba\"],[\"Hierba\"],[\"Hierba\"],[\"Hierba\"],[\"Hierba\"],[\"Hierba\"],[\"Hierba\"],[\"Hierba\"],[\"Hierba\"],[\"Hierba\"],[\"Hierba\"],[\"Hierba\"],[\"Hierba\"],[\"Hierba\"],[\"Hierba\"],[\"Hierba\"],[\"Hierba\"],[\"Hierba\"],[\"Hierba\"]],\"hovertemplate\":\"<b>%{hovertext}</b><br><br>Class=%{marker.color}<br>PC 1=%{x}<br>PC 2=%{y}<br>PC 3=%{z}<br>Hierba=%{customdata[0]}<extra></extra>\",\"hovertext\":[\"Isoetaceae\",\"Isoetaceae\",\"Isoetaceae\",\"Isoetaceae\",\"Isoetaceae\",\"Selaginellaceae\",\"Selaginellaceae\",\"Selaginellaceae\",\"Selaginellaceae\",\"Selaginellaceae\",\"Selaginellaceae\",\"Selaginellaceae\",\"Selaginellaceae\",\"Selaginellaceae\",\"Selaginellaceae\",\"Selaginellaceae\",\"Selaginellaceae\",\"Selaginellaceae\",\"Selaginellaceae\",\"Selaginellaceae\",\"Selaginellaceae\",\"Selaginellaceae\",\"Selaginellaceae\",\"Selaginellaceae\",\"Selaginellaceae\",\"Selaginellaceae\",\"Selaginellaceae\",\"Selaginellaceae\",\"Selaginellaceae\",\"Selaginellaceae\",\"Selaginellaceae\",\"Selaginellaceae\",\"Selaginellaceae\",\"Selaginellaceae\",\"Selaginellaceae\",\"Selaginellaceae\",\"Selaginellaceae\",\"Selaginellaceae\",\"Selaginellaceae\",\"Selaginellaceae\",\"Selaginellaceae\",\"Selaginellaceae\",\"Selaginellaceae\",\"Selaginellaceae\",\"Selaginellaceae\",\"Selaginellaceae\",\"Selaginellaceae\",\"Selaginellaceae\",\"Selaginellaceae\",\"Selaginellaceae\",\"Selaginellaceae\",\"Selaginellaceae\",\"Selaginellaceae\",\"Selaginellaceae\",\"Selaginellaceae\",\"Selaginellaceae\",\"Selaginellaceae\",\"Selaginellaceae\",\"Selaginellaceae\",\"Selaginellaceae\",\"Selaginellaceae\",\"Selaginellaceae\",\"Selaginellaceae\",\"Selaginellaceae\",\"Selaginellaceae\",\"Selaginellaceae\",\"Selaginellaceae\",\"Selaginellaceae\",\"Selaginellaceae\",\"Selaginellaceae\",\"Selaginellaceae\",\"Selaginellaceae\",\"Selaginellaceae\",\"Selaginellaceae\",\"Selaginellaceae\",\"Selaginellaceae\",\"Selaginellaceae\",\"Selaginellaceae\",\"Selaginellaceae\",\"Selaginellaceae\",\"Selaginellaceae\",\"Selaginellaceae\",\"Selaginellaceae\",\"Selaginellaceae\",\"Selaginellaceae\",\"Selaginellaceae\",\"Selaginellaceae\",\"Selaginellaceae\",\"Selaginellaceae\",\"Selaginellaceae\",\"Selaginellaceae\",\"Selaginellaceae\",\"Selaginellaceae\",\"Selaginellaceae\",\"Selaginellaceae\",\"Selaginellaceae\",\"Selaginellaceae\",\"Selaginellaceae\",\"Selaginellaceae\",\"Selaginellaceae\",\"Selaginellaceae\",\"Selaginellaceae\",\"Selaginellaceae\",\"Selaginellaceae\",\"Selaginellaceae\",\"Selaginellaceae\",\"Selaginellaceae\",\"Selaginellaceae\",\"Selaginellaceae\",\"Selaginellaceae\",\"Selaginellaceae\",\"Selaginellaceae\",\"Selaginellaceae\",\"Selaginellaceae\",\"Selaginellaceae\",\"Selaginellaceae\",\"Selaginellaceae\",\"Selaginellaceae\",\"Selaginellaceae\",\"Selaginellaceae\",\"Selaginellaceae\",\"Selaginellaceae\",\"Selaginellaceae\",\"Selaginellaceae\",\"Selaginellaceae\",\"Selaginellaceae\",\"Selaginellaceae\",\"Selaginellaceae\",\"Selaginellaceae\",\"Selaginellaceae\",\"Selaginellaceae\",\"Selaginellaceae\",\"Selaginellaceae\",\"Selaginellaceae\",\"Selaginellaceae\",\"Selaginellaceae\",\"Selaginellaceae\",\"Selaginellaceae\",\"Selaginellaceae\",\"Selaginellaceae\",\"Selaginellaceae\",\"Selaginellaceae\",\"Selaginellaceae\",\"Selaginellaceae\",\"Selaginellaceae\",\"Selaginellaceae\",\"Selaginellaceae\",\"Selaginellaceae\",\"Selaginellaceae\",\"Selaginellaceae\",\"Selaginellaceae\",\"Selaginellaceae\",\"Selaginellaceae\",\"Selaginellaceae\",\"Selaginellaceae\",\"Selaginellaceae\",\"Selaginellaceae\",\"Selaginellaceae\",\"Selaginellaceae\",\"Selaginellaceae\",\"Selaginellaceae\",\"Selaginellaceae\",\"Selaginellaceae\",\"Selaginellaceae\",\"Selaginellaceae\",\"Selaginellaceae\",\"Selaginellaceae\",\"Selaginellaceae\",\"Selaginellaceae\",\"Selaginellaceae\",\"Selaginellaceae\",\"Selaginellaceae\",\"Selaginellaceae\",\"Selaginellaceae\",\"Selaginellaceae\",\"Selaginellaceae\",\"Selaginellaceae\",\"Selaginellaceae\",\"Selaginellaceae\",\"Selaginellaceae\",\"Selaginellaceae\",\"Selaginellaceae\",\"Selaginellaceae\",\"Selaginellaceae\",\"Selaginellaceae\",\"Selaginellaceae\",\"Selaginellaceae\",\"Selaginellaceae\",\"Selaginellaceae\",\"Selaginellaceae\",\"Selaginellaceae\",\"Selaginellaceae\",\"Selaginellaceae\",\"Selaginellaceae\",\"Selaginellaceae\",\"Selaginellaceae\",\"Selaginellaceae\",\"Selaginellaceae\",\"Selaginellaceae\",\"Selaginellaceae\",\"Selaginellaceae\",\"Selaginellaceae\",\"Selaginellaceae\",\"Selaginellaceae\",\"Selaginellaceae\",\"Selaginellaceae\",\"Selaginellaceae\",\"Selaginellaceae\",\"Selaginellaceae\",\"Selaginellaceae\",\"Selaginellaceae\",\"Selaginellaceae\",\"Selaginellaceae\",\"Selaginellaceae\",\"Selaginellaceae\",\"Selaginellaceae\",\"Selaginellaceae\",\"Selaginellaceae\",\"Selaginellaceae\",\"Selaginellaceae\",\"Selaginellaceae\",\"Selaginellaceae\",\"Selaginellaceae\",\"Selaginellaceae\",\"Selaginellaceae\",\"Selaginellaceae\",\"Selaginellaceae\",\"Selaginellaceae\",\"Selaginellaceae\",\"Selaginellaceae\",\"Selaginellaceae\",\"Selaginellaceae\",\"Selaginellaceae\",\"Selaginellaceae\",\"Selaginellaceae\",\"Selaginellaceae\",\"Selaginellaceae\",\"Selaginellaceae\",\"Selaginellaceae\",\"Selaginellaceae\",\"Selaginellaceae\",\"Selaginellaceae\",\"Selaginellaceae\",\"Selaginellaceae\",\"Selaginellaceae\",\"Selaginellaceae\",\"Selaginellaceae\",\"Selaginellaceae\",\"Selaginellaceae\",\"Selaginellaceae\",\"Selaginellaceae\",\"Selaginellaceae\",\"Selaginellaceae\",\"Isoetaceae\",\"Isoetaceae\",\"Isoetaceae\",\"Isoetaceae\",\"Isoetaceae\",\"Selaginellaceae\",\"Selaginellaceae\",\"Selaginellaceae\",\"Selaginellaceae\",\"Selaginellaceae\",\"Selaginellaceae\",\"Selaginellaceae\",\"Selaginellaceae\",\"Selaginellaceae\",\"Selaginellaceae\",\"Selaginellaceae\",\"Selaginellaceae\",\"Selaginellaceae\",\"Selaginellaceae\",\"Selaginellaceae\",\"Selaginellaceae\",\"Selaginellaceae\",\"Selaginellaceae\",\"Selaginellaceae\",\"Selaginellaceae\",\"Selaginellaceae\",\"Selaginellaceae\",\"Selaginellaceae\",\"Selaginellaceae\",\"Selaginellaceae\",\"Selaginellaceae\",\"Selaginellaceae\",\"Selaginellaceae\",\"Selaginellaceae\",\"Selaginellaceae\",\"Selaginellaceae\",\"Selaginellaceae\",\"Selaginellaceae\",\"Selaginellaceae\",\"Selaginellaceae\",\"Selaginellaceae\",\"Selaginellaceae\",\"Selaginellaceae\",\"Selaginellaceae\",\"Selaginellaceae\",\"Selaginellaceae\",\"Selaginellaceae\",\"Selaginellaceae\",\"Selaginellaceae\",\"Selaginellaceae\",\"Selaginellaceae\",\"Selaginellaceae\",\"Selaginellaceae\",\"Selaginellaceae\",\"Selaginellaceae\",\"Selaginellaceae\",\"Selaginellaceae\",\"Selaginellaceae\",\"Selaginellaceae\",\"Selaginellaceae\",\"Selaginellaceae\",\"Selaginellaceae\",\"Selaginellaceae\",\"Selaginellaceae\",\"Selaginellaceae\",\"Selaginellaceae\",\"Selaginellaceae\",\"Selaginellaceae\",\"Selaginellaceae\",\"Selaginellaceae\",\"Selaginellaceae\",\"Selaginellaceae\",\"Selaginellaceae\",\"Selaginellaceae\",\"Selaginellaceae\",\"Selaginellaceae\",\"Selaginellaceae\",\"Selaginellaceae\",\"Selaginellaceae\",\"Selaginellaceae\",\"Selaginellaceae\",\"Selaginellaceae\",\"Selaginellaceae\",\"Selaginellaceae\",\"Selaginellaceae\",\"Selaginellaceae\",\"Selaginellaceae\",\"Selaginellaceae\",\"Selaginellaceae\",\"Selaginellaceae\",\"Selaginellaceae\",\"Selaginellaceae\",\"Selaginellaceae\",\"Selaginellaceae\",\"Selaginellaceae\",\"Selaginellaceae\",\"Selaginellaceae\",\"Selaginellaceae\",\"Selaginellaceae\",\"Selaginellaceae\",\"Selaginellaceae\",\"Selaginellaceae\",\"Selaginellaceae\",\"Selaginellaceae\",\"Selaginellaceae\",\"Selaginellaceae\",\"Selaginellaceae\",\"Selaginellaceae\",\"Selaginellaceae\",\"Selaginellaceae\",\"Selaginellaceae\",\"Selaginellaceae\",\"Selaginellaceae\",\"Selaginellaceae\",\"Selaginellaceae\",\"Selaginellaceae\",\"Selaginellaceae\",\"Selaginellaceae\",\"Selaginellaceae\",\"Selaginellaceae\",\"Selaginellaceae\",\"Selaginellaceae\",\"Selaginellaceae\",\"Selaginellaceae\",\"Selaginellaceae\"],\"legendgroup\":\"0\",\"marker\":{\"color\":[0,0,0,0,0,0,0,0,0,0,0,0,0,0,0,0,0,0,0,0,0,0,0,0,0,0,0,0,0,0,0,0,0,0,0,0,0,0,0,0,0,0,0,0,0,0,0,0,0,0,0,0,0,0,0,0,0,0,0,0,0,0,0,0,0,0,0,0,0,0,0,0,0,0,0,0,0,0,0,0,0,0,0,0,0,0,0,0,0,0,0,0,0,0,0,0,0,0,0,0,0,0,0,0,0,0,0,0,0,0,0,0,0,0,0,0,0,0,0,0,0,0,0,0,0,0,0,0,0,0,0,0,0,0,0,0,0,0,0,0,0,0,0,0,0,0,0,0,0,0,0,0,0,0,0,0,0,0,0,0,0,0,0,0,0,0,0,0,0,0,0,0,0,0,0,0,0,0,0,0,0,0,0,0,0,0,0,0,0,0,0,0,0,0,0,0,0,0,0,0,0,0,0,0,0,0,0,0,0,0,0,0,0,0,0,0,0,0,0,0,0,0,0,0,0,0,0,0,0,0,0,0,0,0,0,0,0,0,0,0,0,0,0,0,0,0,0,0,0,0,0,0,0,0,0,0,0,0,0,0,0,0,0,0,0,0,0,0,0,0,0,0,0,0,0,0,0,0,0,0,0,0,0,0,0,0,0,0,0,0,0,0,0,0,0,0,0,0,0,0,0,0,0,0,0,0,0,0,0,0,0,0,0,0,0,0,0,0,0,0,0,0,0,0,0,0,0,0,0,0,0,0,0,0,0,0,0,0,0,0,0,0,0,0,0,0,0,0,0,0,0,0,0,0,0,0,0,0,0,0,0,0,0,0,0,0,0,0,0,0,0,0,0,0,0,0,0,0],\"coloraxis\":\"coloraxis\",\"symbol\":\"square\"},\"mode\":\"markers\",\"name\":\"0\",\"scene\":\"scene\",\"showlegend\":true,\"type\":\"scatter3d\",\"x\":[3.133482593967212,2.8057831928097183,2.7847156688630816,2.8264859286641517,2.77609403002046,3.314432837740969,3.3592328684088075,3.4283710814477675,4.3953383989794625,3.6330542522375895,3.4516703039012824,3.6982631879843875,3.739857288707052,3.803631198411519,3.3188274648662937,3.7025293716018854,3.318003844079882,3.435134071658454,3.504450275267538,3.7234588588023874,3.30496028567582,3.5436938039412724,3.4811459043917563,3.7061322250648034,3.472260088072254,3.6835289414055685,3.446049745346619,3.3962141599459272,3.3504635800479314,3.4583836941447954,4.0608694137695664,4.351833887669155,4.194992930197645,4.194992398230377,4.328630191609372,3.4103095022816134,3.675100125950773,3.1420161508483377,3.459671204515294,3.6991194635674605,3.33839460863961,4.2512538220157925,4.282020115820735,4.280777652776966,4.065064456942804,4.318371746987704,3.373471611367578,3.801315771380459,4.201243001622401,4.015105954463753,4.015105954463753,3.786336120937436,4.149432470037321,4.113078271450396,4.216920055265875,3.7783298915149848,4.1677568215571315,4.216751423451018,3.891125247304858,4.22095090938415,4.206624196894384,4.170495908083843,4.188125942297295,4.290084291264784,3.8014638183876692,4.086092925278211,4.1930738505485525,4.266398131164521,4.123558766565833,4.134019423159396,3.956437558410872,3.942948133483908,4.3909884418750025,4.316309595856191,4.261084339427593,4.261084339427593,4.390645927841244,4.177672347656747,4.312143179435218,4.221596613140054,4.221596185435266,3.857310392225337,4.261357558052847,4.229569855813413,4.2056481958835565,4.231966980295858,4.2827114244574105,4.245201011356107,4.276918446162929,4.432631538161163,4.440074495911412,4.42485897112121,4.354616531392324,4.36466875943894,4.35735048347212,4.344282584376613,3.9068707541247836,4.222868199772955,4.357810565817745,4.213702112910987,4.222931265939214,3.504874544450157,4.145313011894159,4.257853893709445,4.2781221057028676,4.226818019368855,4.122157932429035,4.257852961057655,4.231966980295858,4.191336166015774,4.191336166015774,4.231966980295858,4.231966980295858,4.258952919554499,4.260527104244841,4.3909884418750025,4.3909884418750025,4.3909884418750025,4.340763519101918,3.854596201180918,4.1756185380845,4.175620548092082,4.416164085283691,4.349891946291939,4.4024998520154215,4.35735048347212,4.495237685527099,4.319685863668813,4.278354734283432,4.278354734283432,4.2952133387886775,3.6754952400101457,4.359608455685886,4.388900210706321,4.216920055265875,3.955145111646314,4.294603169612048,4.122157932429035,4.277806217945304,4.167120995444131,4.215360947425268,4.201243001622401,4.201243001622401,4.201243001622401,4.201243001622401,4.201243001622401,4.103737931399014,4.110083339585963,4.110083339585963,4.110083339585963,4.110083339585963,4.227550942976877,4.227550942976877,4.273597127807237,4.266336641813078,4.065812814103442,4.181559342381414,4.164873801669489,4.115197308400133,4.168712477400563,4.20324270847741,4.266336641813078,3.8020027227720323,4.181559342381414,4.1915856729584835,4.266398131164521,3.942948133483908,4.352375239479196,4.312143179435218,4.42066851041781,4.352375239479196,4.280490210311647,4.246210887341056,4.261084339427593,4.492979319789796,4.261084339427593,3.8447154541539774,4.352375239479196,4.259833890965184,4.1756185380845,4.1756185380845,4.194992930197645,4.1756185380845,4.194992930197645,4.175620548092082,4.194992398230377,4.175620548092082,4.194992398230377,4.175620548092082,4.320058180497399,4.268964369553539,4.303127857975604,4.135614010996189,4.388487674515863,4.43587178510148,4.276910475035406,4.4983134522117165,4.326036889351611,3.827807889992437,3.827808153025805,4.090437401975226,3.7870143053117693,4.250251626294775,4.130711278974521,3.583731840714947,3.206927520187393,3.5703200725574713,3.4751081801238666,3.565513559586849,3.574745108082771,3.5594872240252124,3.2095113740460874,4.114573608347295,4.354503769272709,4.364259481050052,4.456457521849102,4.337348200714447,4.308715398528906,4.465817774424589,4.482492757882135,4.35735048347212,4.113078271450396,4.148070564647424,4.297208389673844,4.352375239479196,4.275262036457776,4.3953383989794625,4.352375239479196,4.1717805101298,4.3953383989794625,4.385953521198737,4.095130881245404,4.388668185872732,4.095130881245404,4.221596613140054,4.267780959623773,4.221596185435266,3.6454688170978082,4.207938265691749,4.344282584376613,3.7844287260791756,4.034317747032393,3.397709323858033,3.4016437245895896,3.3997459049808887,3.431877110167897,3.733948868994315,3.4448330730605807,3.7500094891696736,3.446049745346619,3.3845601015607327,3.3132658462406352,4.4983134522117165,3.133482593967212,2.8057831928097183,2.7847156688630816,2.8264859286641517,2.77609403002046,3.6982631879843875,3.739857288707052,3.803631198411519,3.3188274648662937,3.7025293716018854,3.318003844079882,3.435134071658454,3.504450275267538,3.7234588588023874,3.30496028567582,3.5436938039412724,3.4811459043917563,3.7061322250648034,3.472260088072254,3.6835289414055685,3.446049745346619,3.3962141599459272,3.3504635800479314,3.4583836941447954,4.0608694137695664,4.351833887669155,4.194992930197645,4.194992398230377,4.3286301916093715,3.4103095022816134,3.675100125950773,3.1420161508483377,3.459671204515294,3.6991194635674605,3.33839460863961,4.2512538220157925,4.282020115820735,4.280777652776966,4.065064456942804,4.318371746987704,3.373471611367578,3.801315771380459,4.201243001622401,4.015105954463753,4.015105954463753,3.786336120937436,4.149432470037321,4.113078271450396,4.216920055265875,3.7783298915149848,4.1677568215571315,4.216751423451018,3.891125247304858,4.22095090938415,4.206624196894384,4.170495908083843,4.188125942297295,4.290084291264784,3.80146381838767,4.086092925278211,4.1930738505485525,4.266398131164521,4.123558766565833,4.134019423159396,3.956437558410872,3.942948133483908,4.3909884418750025,4.316309595856191,4.261084339427593,4.261084339427593,4.390645927841244,4.177672347656747,4.312143179435218,4.221596613140054,4.221596185435266,3.857310392225337,4.261357558052847,4.229569855813413,4.2056481958835565,4.231966980295858,4.2827114244574105,4.245201011356107,4.276918446162929,4.432631538161163,4.440074495911412,4.42485897112121,4.354616531392324,4.36466875943894,4.35735048347212,4.344282584376613,3.9068707541247836,4.222868199772955,4.357810565817745,4.213702112910987,4.222931265939214,3.504874544450157,4.145313011894159,4.257853893709445,4.2781221057028676,4.226818019368855,4.122157932429035,4.257852961057655,4.231966980295858,4.191336166015774,4.191336166015774,4.231966980295858,4.231966980295858,4.258952919554499,4.260527104244841,4.3909884418750025,4.3909884418750025,4.3909884418750025,4.340763519101918,3.854596201180918,4.1756185380845,4.175620548092082,4.416164085283691,4.349891946291939,4.4024998520154215,4.35735048347212,4.495237685527099,4.319685863668813,4.278354734283432,4.278354734283432,4.2952133387886775],\"y\":[-1.7795199252564087,-2.756385945738748,-2.795465527455343,-2.731237533056358,-2.8112998512319787,-2.097764566411874,-2.494725211384345,-1.9144536170863005,-0.6367575155846921,-2.107143959130151,-2.069279685141964,-2.0225902043433233,-1.9097908764173428,-1.8191509512854451,-2.4369853064165,-2.014591684723545,-2.4380147866085236,-2.208973927092442,-2.377130922450217,-1.940674826904336,-2.4608643045486165,-2.2769415116950014,-2.397874296823917,-2.00966110778082,-2.40959573802535,-2.015619005170273,-2.113870773413396,-1.9496471792119516,-2.0003327325104827,-2.464455160189023,-0.7573259571498373,-0.6593720327963406,-0.9916523197833796,-0.9916497719541622,-0.7716193582622205,-2.174856734215119,-2.034668174483652,-2.5074365758749524,-2.4300634814094195,-2.0195781401925714,-2.0231568647444913,-0.9525527717488421,-0.9019240128056166,-0.9064249007368748,-0.7818875223108107,-0.7247498941325753,-1.9132609247356083,-1.373308912688696,-1.0810318281086173,-1.4983994365927686,-1.4983994365927686,-1.4147217706251858,-1.1299672796635587,-1.2523975203857607,-1.0086184399497855,-1.4294520582229502,-1.1415315683185305,-1.0089157179835382,-1.1432352761575162,-0.9828093973237635,-1.1314843550244045,-1.1093534811516153,-1.0510835346344458,-0.8243111389786638,-1.4653167004549859,-1.3067163186919275,-1.0330534282697827,-0.8746127727344057,-1.1724093817756094,-1.1540318613900036,-1.0215197518253736,-1.0307581751476078,-0.5976007120486481,-0.1977684693644694,-0.9409913456365672,-0.9409913456365672,-0.7013108912880609,-1.1339827218094136,-0.7629353234054208,-1.0286220527471723,-1.0286244034437628,-1.208844938125337,-0.9641083291056636,-1.0152950870151098,-1.0008822427040507,-1.010662995196012,-0.9007402563738977,-0.2609294453066716,-0.2063109840951402,0.07641922856068821,-0.5016168401590452,-0.5297420461484921,-0.12249214839767177,-0.11292367410437366,-0.6531847907867303,-0.6765544580199839,-1.2165674690010424,-1.0024878436698812,-0.6631326598962466,-0.9655624916583401,-1.0501866795274197,-1.9771310843828784,-0.7365374654290823,-0.881693615482937,-0.8430253967233435,-0.9326730917228242,-1.21611440299624,-0.8816960782562654,-1.010662995196012,-1.0872707883376334,-1.0872707883376334,-1.010662995196012,-1.010662995196012,-0.8796744223714406,-0.8249363848279504,-0.5976007120486481,-0.5976007120486481,-0.5976007120486481,-0.15301786548380863,-1.2876081742449683,-1.0275299883730544,-1.027523140223955,0.047036832375871855,-0.1406063717281325,-0.04336327211366802,-0.6531847907867303,0.12547529868292995,-0.7957055263122317,-0.7894878339263651,-0.7894878339263651,-0.7578384776718015,-1.7251556509865018,-0.6870907240738744,-0.6328233451458787,-1.0086184399497855,-1.0000294502241522,-0.8834615071226537,-1.21611440299624,-0.8266329196961448,-1.0737228086719603,-1.000506885262203,-1.0810318281086173,-1.0810318281086173,-1.0810318281086173,-1.0810318281086173,-1.0810318281086173,-1.2656126998947985,-1.249338156877076,-1.249338156877076,-1.249338156877076,-1.249338156877076,-0.9970173058080101,-0.9970173058080101,-0.8747663357200952,-0.8983151442657238,-1.2979063339435568,-1.0287745808783322,-1.107483392137536,-1.1790882251672872,-0.47574561069727506,-1.1013112965325724,-0.8983151442657238,-1.4643244125944477,-1.0287745808783322,-0.9721985381621735,-0.8746127727344057,-1.0307581751476078,-0.7646152178663354,-0.7629353234054208,-0.5672780070050194,-0.7646152178663354,-0.9045256134543075,-0.8861790965436036,-0.9409913456365672,-0.5112069536537407,-0.9409913456365672,-1.339544350008523,-0.7646152178663354,-0.9326928378878625,-1.0275299883730544,-1.0275299883730544,-0.9916523197833796,-1.0275299883730544,-0.9916523197833796,-1.027523140223955,-0.9916497719541622,-1.027523140223955,-0.9916497719541622,-1.027523140223955,-0.8310950846083593,-0.9158292576923364,-0.8541606653067018,-1.1932701624646935,-0.5329594058213244,-0.5719035635590465,-0.8668835281206454,-0.39470867626997164,-0.18655420701530182,-1.6282490567238705,-1.6282482677816212,-0.9411838301822641,-1.4691893081849314,-0.9775177824322695,-0.6372212636225059,-1.8879409883788794,-2.3547780588641527,-1.9020244111039557,-2.2059388744957973,-1.9112829839223355,-1.9044335355606703,-1.9267076819689446,-2.350104261954267,-0.6995498507406,-0.23322190286153277,-0.10826621363422234,-0.4720217794183626,-0.15448502292551994,-0.7258254868150769,-0.35939780959435147,-0.3437951240183422,-0.6531847907867303,-1.2523975203857607,-1.1449641203481304,-0.867173104562158,-0.7646152178663354,-0.916571009475353,-0.6367575155846921,-0.7646152178663354,-1.1449537716067961,-0.6367575155846921,-0.6481780599410709,-0.7524769164958122,-0.6429692519653345,-0.7524769164958122,-1.0286220527471723,-0.9522788779702673,-1.0286244034437628,-1.8083167780948861,-1.0837536978781366,-0.6765544580199839,-1.4840328583093576,-0.847722453680099,-2.1734370775490075,-2.1552970608128788,-2.165018168980892,-2.101437134732312,-1.9260192974975396,-2.089050117475415,-1.895700577562557,-2.113870773413396,-2.0112646800432232,-2.142680796886585,-0.39470867626997164,-1.7795199252564087,-2.756385945738748,-2.795465527455343,-2.731237533056358,-2.8112998512319787,-2.0225902043433233,-1.9097908764173428,-1.8191509512854451,-2.4369853064165,-2.014591684723545,-2.4380147866085236,-2.208973927092442,-2.377130922450217,-1.940674826904336,-2.4608643045486165,-2.2769415116950014,-2.397874296823917,-2.00966110778082,-2.40959573802535,-2.015619005170273,-2.113870773413396,-1.9496471792119516,-2.0003327325104827,-2.464455160189023,-0.7573259571498373,-0.6593720327963406,-0.9916523197833796,-0.9916497719541622,-0.7716193582622205,-2.174856734215119,-2.034668174483652,-2.5074365758749524,-2.4300634814094195,-2.0195781401925714,-2.0231568647444913,-0.9525527717488421,-0.9019240128056166,-0.9064249007368748,-0.7818875223108107,-0.7247498941325753,-1.9132609247356083,-1.373308912688696,-1.0810318281086173,-1.4983994365927686,-1.4983994365927686,-1.4147217706251858,-1.1299672796635587,-1.2523975203857607,-1.0086184399497855,-1.4294520582229502,-1.1415315683185305,-1.0089157179835382,-1.1432352761575162,-0.9828093973237635,-1.1314843550244045,-1.1093534811516153,-1.0510835346344458,-0.8243111389786638,-1.4653167004549863,-1.3067163186919275,-1.0330534282697827,-0.8746127727344057,-1.1724093817756094,-1.1540318613900036,-1.0215197518253736,-1.0307581751476078,-0.5976007120486481,-0.1977684693644694,-0.9409913456365672,-0.9409913456365672,-0.7013108912880609,-1.1339827218094136,-0.7629353234054208,-1.0286220527471723,-1.0286244034437628,-1.208844938125337,-0.9641083291056636,-1.0152950870151098,-1.0008822427040507,-1.010662995196012,-0.9007402563738977,-0.2609294453066716,-0.2063109840951402,0.07641922856068821,-0.5016168401590452,-0.5297420461484921,-0.12249214839767177,-0.11292367410437366,-0.6531847907867303,-0.6765544580199839,-1.2165674690010424,-1.0024878436698812,-0.6631326598962466,-0.9655624916583401,-1.0501866795274197,-1.9771310843828784,-0.7365374654290823,-0.881693615482937,-0.8430253967233435,-0.9326730917228242,-1.21611440299624,-0.8816960782562654,-1.010662995196012,-1.0872707883376334,-1.0872707883376334,-1.010662995196012,-1.010662995196012,-0.8796744223714406,-0.8249363848279504,-0.5976007120486481,-0.5976007120486481,-0.5976007120486481,-0.15301786548380863,-1.2876081742449683,-1.0275299883730544,-1.027523140223955,0.047036832375871855,-0.1406063717281325,-0.04336327211366802,-0.6531847907867303,0.12547529868292995,-0.7957055263122317,-0.7894878339263651,-0.7894878339263651,-0.7578384776718015],\"z\":[0.9860029660298927,2.405248315845694,2.428990191066976,2.4010082265380075,2.438637481768878,0.510419223798321,0.49824632685857795,0.4304204142206913,-0.4940250509786805,1.225932602434611,0.9125225927436519,0.6107274205742139,1.1063615367169828,0.47077467635402315,0.8470360751622652,0.6031150634043394,0.8465949456761493,0.68965232893178,1.4254588858116648,1.12805262774636,0.8596260051119604,1.3392893504054706,1.4212306926584044,0.6045734560612992,1.425420381267438,1.1750280737341168,0.5568932103611596,0.4239724028928473,0.42084325249979765,1.4831899618101605,-0.20823110336150613,-0.5212274100783968,-0.166150906574869,-0.16615311226572574,-0.40642953198935866,1.0013279442007352,1.187496402237438,0.8550447560912406,1.4323966101593724,1.202531855966517,0.4368216306657772,-0.31264370109701906,-0.31981211937426685,-0.3145457481145994,-0.17133279711541907,-0.5063183397272941,0.3296867503614906,0.3200933668615724,-0.09680486893044499,0.20618457816415348,0.20618457816415348,0.3617342996025206,-0.11568849837143023,0.00815577635583291,-0.17651567194767273,0.37057643103825916,-0.06068958857040302,-0.17634885596240787,0.08692505918797659,-0.23769175033635506,-0.0973793472495267,-0.1294500072976916,-0.21109267064414886,-0.3486179457308782,0.1559458927593142,0.010445255913339987,-0.10052672945724114,-0.2952893346693411,-0.1037250690395185,-0.11478243340809266,-0.3454002324265003,0.05170650016401823,-0.5716898750679158,-0.9160564014918245,-0.2954385756272168,-0.2954385756272168,-0.44153322850031484,-0.15197007052207973,-0.444015891380182,-0.22881754063397006,-0.228815432835269,0.11930440523893286,-0.2601569688935607,-0.23489550770085582,-0.26188568665235445,-0.24123966156577034,-0.32036716891656214,-0.953179799370987,-0.9821162443727353,-1.146173382384873,-0.6361031661710868,-0.6191160820688633,-0.9493763164366121,-0.9567646111434469,-0.548278484788247,-0.53598359928666,-0.4030314309342209,-0.2788535629619237,-0.5151185104347066,-0.2755120451304629,-0.13063323836847698,0.8633544344733541,-0.508573694304734,-0.22809732649438821,-0.25293641295542835,-0.20199011557714155,-0.11787667843345627,-0.22809507981145338,-0.24123966156577034,-0.19393796157395543,-0.19393796157395543,-0.24123966156577034,-0.24123966156577034,-0.2293129265792851,-0.30863509239107295,-0.5716898750679158,-0.5716898750679158,-0.5716898750679158,-0.9427846549713965,-0.03355825744308159,-0.14438870338995352,-0.14439490444578265,-1.1278691341273681,-0.939767413685,-0.9993680092697331,-0.548278484788247,-1.1012643817310452,-0.41868433629993346,-0.3298961635047326,-0.3298961635047326,-0.3492520684788637,-0.05994097871981866,-0.47061896208596005,-0.4951360142516705,-0.17651567194767273,0.006218623417851857,-0.3268686745495641,-0.11787667843345627,-0.4058824339657058,-0.21687729240129647,-0.28316226362457225,-0.09680486893044499,-0.09680486893044499,-0.09680486893044499,-0.09680486893044499,-0.09680486893044499,0.007823117802931665,0.004823357470874268,0.004823357470874268,0.004823357470874268,0.004823357470874268,-0.199019027539133,-0.199019027539133,-0.33805469633580787,-0.18222102907750906,-0.05241531575246018,0.3745040210816686,-0.16917634880597932,-0.11849867931650995,-0.683264401636889,-0.10997616482932669,-0.18222102907750906,0.15535420385398466,0.3745040210816686,0.2841851491131016,-0.2952893346693411,0.05170650016401823,-0.4100730357275144,-0.444015891380182,-0.558309829225085,-0.4100730357275144,-0.3179397324071737,-0.3697788714615222,-0.2954385756272168,-0.5570750649542074,-0.2954385756272168,0.02806248753210571,-0.4100730357275144,-0.31136641454076397,-0.14438870338995352,-0.14438870338995352,-0.166150906574869,-0.14438870338995352,-0.166150906574869,-0.14439490444578265,-0.16615311226572574,-0.14439490444578265,-0.16615311226572574,-0.14439490444578265,-0.3630069845049738,-0.3215268092155643,-0.35774760543882184,-0.13409150830612157,-0.6440385109995254,-0.5549337353363251,-0.3787236655877314,-0.7027181910330731,-0.9157301801334848,1.1555714380203561,1.1555707211334145,-0.26251975434346597,0.039911357355569964,-0.1972366339436115,-0.6718132617505745,0.3660469899719091,0.6996573626099051,0.38258162322504463,0.44637862055717886,0.3885191873535276,0.37597746950886346,0.3847588558517207,0.696852640850617,-0.585837522585416,-0.8979230790119075,-0.9649763690158465,-0.6192866059787583,-0.9302289744758293,-0.37345089963413586,-0.656620420298157,-0.6384084800802198,-0.548278484788247,0.00815577635583291,-0.12759552212889175,-0.2972207127769518,-0.4100730357275144,-0.30842188553924543,-0.4940250509786805,-0.4100730357275144,-0.1454150500425873,-0.4940250509786805,-0.49386995016446245,-0.16854026592260407,-0.49726587035092945,-0.16854026592260407,-0.22881754063397006,-0.2672937934626509,-0.228815432835269,0.012760243651698434,-0.1759395476714287,-0.53598359928666,-0.22776411445323178,-0.10678741481975748,0.9747395347516217,0.9580972558485659,0.9703063079508839,0.9276624101820493,1.1214736903009925,0.9299627378880349,0.4910878205852297,0.5568932103611596,0.5066803779227812,0.5870288236680087,-0.7027181910330731,0.9860029660298927,2.405248315845694,2.428990191066976,2.4010082265380075,2.438637481768878,0.6107274205742139,1.1063615367169828,0.47077467635402315,0.8470360751622652,0.6031150634043394,0.8465949456761493,0.68965232893178,1.4254588858116648,1.12805262774636,0.8596260051119604,1.3392893504054706,1.4212306926584044,0.6045734560612992,1.425420381267438,1.1750280737341168,0.5568932103611596,0.4239724028928473,0.42084325249979765,1.4831899618101605,-0.20823110336150613,-0.5212274100783968,-0.166150906574869,-0.16615311226572574,-0.4064295319893588,1.0013279442007352,1.187496402237438,0.8550447560912406,1.4323966101593724,1.202531855966517,0.4368216306657772,-0.31264370109701906,-0.31981211937426685,-0.3145457481145994,-0.17133279711541907,-0.5063183397272941,0.3296867503614906,0.3200933668615724,-0.09680486893044499,0.20618457816415348,0.20618457816415348,0.3617342996025206,-0.11568849837143023,0.00815577635583291,-0.17651567194767273,0.37057643103825916,-0.06068958857040302,-0.17634885596240787,0.08692505918797659,-0.23769175033635506,-0.0973793472495267,-0.1294500072976916,-0.21109267064414886,-0.3486179457308782,0.155945892759314,0.010445255913339987,-0.10052672945724114,-0.2952893346693411,-0.1037250690395185,-0.11478243340809266,-0.3454002324265003,0.05170650016401823,-0.5716898750679158,-0.9160564014918245,-0.2954385756272168,-0.2954385756272168,-0.44153322850031484,-0.15197007052207973,-0.444015891380182,-0.22881754063397006,-0.228815432835269,0.11930440523893286,-0.2601569688935607,-0.23489550770085582,-0.26188568665235445,-0.24123966156577034,-0.32036716891656214,-0.953179799370987,-0.9821162443727353,-1.146173382384873,-0.6361031661710868,-0.6191160820688633,-0.9493763164366121,-0.9567646111434469,-0.548278484788247,-0.53598359928666,-0.4030314309342209,-0.2788535629619237,-0.5151185104347066,-0.2755120451304629,-0.13063323836847698,0.8633544344733541,-0.508573694304734,-0.22809732649438821,-0.25293641295542835,-0.20199011557714155,-0.11787667843345627,-0.22809507981145338,-0.24123966156577034,-0.19393796157395543,-0.19393796157395543,-0.24123966156577034,-0.24123966156577034,-0.2293129265792851,-0.30863509239107295,-0.5716898750679158,-0.5716898750679158,-0.5716898750679158,-0.9427846549713965,-0.03355825744308159,-0.14438870338995352,-0.14439490444578265,-1.1278691341273681,-0.939767413685,-0.9993680092697331,-0.548278484788247,-1.1012643817310452,-0.41868433629993346,-0.3298961635047326,-0.3298961635047326,-0.3492520684788637]},{\"customdata\":[[\"Hierba\"],[\"Hierba\"],[\"Hierba\"],[\"Hierba\"],[\"Hierba\"],[\"Hierba\"],[\"Hierba\"],[\"Sufr\\u00fatice\"],[\"Sufr\\u00fatice\"],[\"Sufr\\u00fatice\"],[\"Sufr\\u00fatice\"],[\"Sufr\\u00fatice\"],[\"Sufr\\u00fatice\"],[\"Hierba\"],[\"Hierba\"],[\"Hierba\"],[\"Hierba\"],[\"Hierba\"],[\"Hierba\"],[\"Arbusto\"],[\"Arbusto\"],[\"Arbusto\"],[\"Arbusto\"],[\"Arbusto\"],[\"Arbusto\"],[\"arbusto\"],[\"arbusto\"],[\"Hierba o arbusto\"],[\"Hierba o arbusto\"],[\"arbusto\"],[\"arbusto\"],[\"arbusto\"],[\"\\u00c1rbol\"],[\"arbusto\"],[\"arbusto\"],[\"Arbusto\"],[\"Arbusto\"],[\"Arbusto\"],[\"Arbusto\"],[\"Hierba\"],[\"Hierba\"],[\"Hierba\"],[\"Hierba\"],[\"Arbusto\"],[\"Arbusto\"],[\"Arbusto\"],[\"\\u00c1rbol\"],[\"Arbusto\"],[\"Arbusto\"],[\"Arbusto\"],[\"Arbusto\"],[\"Arbusto\"],[\"Arbusto\"],[\"Hierba\"],[\"Hierba\"],[\"Hierba\"],[\"\\u00c1rbol\"],[\"Arbusto\"],[\"Arbusto\"],[\"Hierba\"],[\"Hierba\"],[\"Hierba o sufr\\u00fatice\"],[\"Sufr\\u00fatice o arbusto\"],[\"Sufr\\u00fatice\"],[\"Sufr\\u00fatice\"],[\"Hierba\"],[\"Hierba\"],[\"Hierba\"],[\"Hierba\"],[\"\\u00c1rbol\"],[\"\\u00c1rbol\"],[\"\\u00c1rbol\"],[\"Arbusto\"],[\"Arbusto\"],[\"Arbusto\"],[\"Hierba\"],[\"\\u00c1rbol\"],[\"\\u00c1rbol\"],[\"Hierba\"],[\"Hierba\"],[\"Hierba\"],[\"Hierba\"],[\"Hierba\"],[\"Hierba\"],[\"Hierba\"],[\"Hierba\"],[\"Hierba\"],[\"arbusto\"],[\"arbusto\"],[\"arbusto\"],[\"arbusto\"],[\"arbusto\"],[\"arbusto\"],[\"arbusto\"],[\"arbusto\"],[\"arbusto\"],[\"arbusto\"],[\"arbusto\"],[\"arbusto\"],[\"arbusto\"],[\"arbusto\"],[\"arbusto\"],[\"arbusto\"],[\"arbusto\"],[\"arbusto\"],[\"arbusto\"],[\"arbusto\"],[\"arbusto\"],[\"arbusto\"],[\"arbusto\"],[\"arbusto\"],[\"arbusto\"],[\"Arbusto\"],[\"arbusto\"],[\"arbusto\"],[\"arbusto\"],[\"arbusto\"],[\"arbusto\"],[\"arbusto\"],[\"arbusto\"],[\"arbusto\"],[\"arbusto\"],[\"arbusto\"],[\"arbusto\"],[\"arbusto\"],[\"arbusto\"],[\"arbusto\"],[\"arbusto\"],[\"arbusto\"],[\"arbusto\"],[\"arbusto\"],[\"arbusto\"],[\"arbusto\"],[\"arbusto\"],[\"arbusto\"],[\"arbusto\"],[\"arbusto\"],[\"arbusto\"],[\"arbusto\"],[\"arbusto\"],[\"arbusto\"],[\"arbusto\"],[\"arbusto\"],[\"arbusto\"],[\"arbusto\"],[\"arbusto\"],[\"arbusto\"],[\"arbusto\"],[\"arbusto\"],[\"arbusto\"],[\"arbusto\"],[\"arbusto\"],[\"arbusto\"],[\"arbusto\"],[\"arbusto\"],[\"arbusto\"],[\"arbusto\"],[\"arbusto\"],[\"arbusto\"],[\"arbusto\"],[\"arbusto\"],[\"arbusto\"],[\"arbusto\"],[\"arbusto\"],[\"arbusto\"],[\"arbusto\"],[\"arbusto\"],[\"arbusto\"],[\"arbusto\"],[\"arbusto\"],[\"arbusto\"],[\"arbusto\"],[\"arbusto\"],[\"arbusto\"],[\"arbusto\"],[\"arbusto\"],[\"arbusto\"],[\"arbusto\"],[\"arbusto\"],[\"arbusto\"],[\"arbusto\"],[\"arbusto\"],[\"arbusto\"],[\"arbusto\"],[\"arbusto\"],[\"arbusto\"],[\"arbusto\"],[\"arbusto\"],[\"arbusto\"],[\"arbusto\"],[\"arbusto\"],[\"arbusto\"],[\"arbusto\"],[\"arbusto\"],[\"arbusto\"],[\"arbusto\"],[\"arbusto\"],[\"arbusto\"],[\"arbusto\"],[\"arbusto\"],[\"arbusto\"],[\"arbusto\"],[\"arbusto\"],[\"arbusto\"],[\"arbusto\"],[\"arbusto\"],[\"arbusto\"],[\"arbusto\"],[\"arbusto\"],[\"arbusto\"],[\"arbusto\"],[\"arbusto\"],[\"arbusto\"],[\"arbusto\"],[\"arbusto\"],[\"arbusto\"],[\"arbusto\"],[\"arbusto\"],[\"arbusto\"],[\"arbusto\"],[\"arbusto\"],[\"arbusto\"],[\"arbusto\"],[\"arbusto\"],[\"arbusto\"],[\"arbusto\"],[\"arbusto\"],[\"arbusto\"],[\"arbusto\"],[\"arbusto\"],[\"arbusto\"],[\"arbusto\"],[\"arbusto\"],[\"arbusto\"],[\"arbusto\"],[\"arbusto\"],[\"arbusto\"],[\"arbusto\"],[\"arbusto\"],[\"arbusto\"],[\"arbusto\"],[\"arbusto\"],[\"arbusto\"],[\"arbusto\"],[\"arbusto\"],[\"arbusto\"],[\"arbusto\"],[\"arbusto\"],[\"arbusto\"],[\"arbusto\"],[\"arbusto\"],[\"arbusto\"],[\"arbusto\"],[\"arbusto\"],[\"arbusto\"],[\"arbusto\"],[\"arbusto\"],[\"arbusto\"],[\"arbusto\"],[\"arbusto\"],[\"arbusto\"],[\"arbusto\"],[\"arbusto\"],[\"arbusto\"],[\"arbusto\"],[\"arbusto\"],[\"arbusto\"],[\"arbusto\"],[\"arbusto\"],[\"arbusto\"],[\"arbusto\"],[\"arbusto\"],[\"arbusto\"],[\"arbusto\"],[\"arbusto\"],[\"arbusto\"],[\"arbusto\"],[\"arbusto\"],[\"arbusto\"],[\"arbusto\"],[\"arbusto\"],[\"arbusto\"],[\"arbusto\"],[\"arbusto\"],[\"arbusto\"],[\"arbusto\"],[\"arbusto\"],[\"arbusto\"],[\"arbusto\"],[\"arbusto\"],[\"arbusto\"],[\"arbusto\"],[\"arbusto\"],[\"arbusto\"],[\"arbusto\"],[\"arbusto\"],[\"arbusto\"],[\"arbusto\"],[\"arbusto\"],[\"arbusto\"],[\"arbusto\"],[\"arbusto\"],[\"arbusto\"],[\"arbusto\"],[\"arbusto\"],[\"arbusto\"],[\"arbusto\"],[\"arbusto\"],[\"arbusto\"],[\"arbusto\"],[\"arbusto\"],[\"arbusto\"],[\"arbusto\"],[\"arbusto\"],[\"arbusto\"],[\"arbusto\"],[\"arbusto\"],[\"arbusto\"],[\"arbusto\"],[\"arbusto\"],[\"arbusto\"],[\"arbusto\"],[\"arbusto\"],[\"arbusto\"],[\"arbusto\"],[\"arbusto\"],[\"arbusto\"],[\"Hierba\"],[\"Hierba\"],[\"Hierba\"],[\"Hierba\"],[\"Hierba\"],[\"Hierba\"],[\"Hierba\"],[\"Hierba\"],[\"Hierba\"],[\"Hierba\"]],\"hovertemplate\":\"<b>%{hovertext}</b><br><br>Class=%{marker.color}<br>PC 1=%{x}<br>PC 2=%{y}<br>PC 3=%{z}<br>Hierba=%{customdata[0]}<extra></extra>\",\"hovertext\":[\"Apiaceae\",\"Aristolochiaceae\",\"Aristolochiaceae\",\"Aristolochiaceae\",\"Aristolochiaceae\",\"Aristolochiaceae\",\"Aristolochiaceae\",\"Bataceae\",\"Bataceae\",\"Bataceae\",\"Bataceae\",\"Bataceae\",\"Bataceae\",\"Brassicaceae\",\"Brassicaceae\",\"Brassicaceae\",\"Brassicaceae\",\"Brassicaceae\",\"Brassicaceae\",\"Achatocarpaceae\",\"Achatocarpaceae\",\"Achatocarpaceae\",\"Achatocarpaceae\",\"Achatocarpaceae\",\"Achatocarpaceae\",\"Acanthaceae\",\"Acanthaceae\",\"Acanthaceae\",\"Acanthaceae\",\"Euphorbiaceae\",\"Euphorbiaceae\",\"Euphorbiaceae\",\"Bombacaceae\",\"Malvaceae\",\"Malvaceae\",\"Saururaceae\",\"Saururaceae\",\"Saururaceae\",\"Plantaginaceae\",\"Polygonaceae\",\"Polygonaceae\",\"Polygonaceae\",\"Polygonaceae\",\"Polygonaceae\",\"Polygonaceae\",\"Polygonaceae\",\"Rhamnaceae\",\"Rhizophoraceae\",\"Rhizophoraceae\",\"Rhizophoraceae\",\"Rhizophoraceae\",\"Rhizophoraceae\",\"Rhizophoraceae\",\"Rosaceae\",\"Rosaceae\",\"Rosaceae\",\"Rosaceae\",\"Olacaceae\",\"Olacaceae\",\"Olacaceae\",\"Olacaceae\",\"Olacaceae\",\"Olacaceae\",\"Polemoniaceae\",\"Polemoniaceae\",\"Polemoniaceae\",\"Polemoniaceae\",\"Polemoniaceae\",\"Polemoniaceae\",\"Moraceae\",\"Moraceae\",\"Moraceae\",\"Moraceae\",\"Moraceae\",\"Moraceae\",\"Bixaceae\",\"Tamaricaceae\",\"Tamaricaceae\",\"Rutaceae\",\"Rutaceae\",\"Rutaceae\",\"Rutaceae\",\"Rutaceae\",\"Rutaceae\",\"Rutaceae\",\"Rutaceae\",\"Rutaceae\",\"Acanthaceae\",\"Acanthaceae\",\"Acanthaceae\",\"Acanthaceae\",\"Acanthaceae\",\"Acanthaceae\",\"Acanthaceae\",\"Acanthaceae\",\"Acanthaceae\",\"Acanthaceae\",\"Acanthaceae\",\"Acanthaceae\",\"Acanthaceae\",\"Acanthaceae\",\"Acanthaceae\",\"Acanthaceae\",\"Acanthaceae\",\"Acanthaceae\",\"Acanthaceae\",\"Acanthaceae\",\"Acanthaceae\",\"Acanthaceae\",\"Acanthaceae\",\"Acanthaceae\",\"Acanthaceae\",\"Lamiaceae\",\"Malvaceae\",\"Malvaceae\",\"Malvaceae\",\"Malvaceae\",\"Malvaceae\",\"Malvaceae\",\"Malvaceae\",\"Malvaceae\",\"Malvaceae\",\"Malvaceae\",\"Malvaceae\",\"Malvaceae\",\"Malvaceae\",\"Malvaceae\",\"Malvaceae\",\"Malvaceae\",\"Malvaceae\",\"Malvaceae\",\"Malvaceae\",\"Malvaceae\",\"Malvaceae\",\"Malvaceae\",\"Malvaceae\",\"Malvaceae\",\"Malvaceae\",\"Malvaceae\",\"Malvaceae\",\"Malvaceae\",\"Malvaceae\",\"Malvaceae\",\"Malvaceae\",\"Malvaceae\",\"Malvaceae\",\"Malvaceae\",\"Malvaceae\",\"Malvaceae\",\"Malvaceae\",\"Malvaceae\",\"Malvaceae\",\"Malvaceae\",\"Malvaceae\",\"Malvaceae\",\"Malvaceae\",\"Malvaceae\",\"Malvaceae\",\"Malvaceae\",\"Malvaceae\",\"Malvaceae\",\"Malvaceae\",\"Malvaceae\",\"Malvaceae\",\"Malvaceae\",\"Malvaceae\",\"Malvaceae\",\"Malvaceae\",\"Malvaceae\",\"Malvaceae\",\"Malvaceae\",\"Malvaceae\",\"Malvaceae\",\"Malvaceae\",\"Malvaceae\",\"Malvaceae\",\"Malvaceae\",\"Malvaceae\",\"Malvaceae\",\"Malvaceae\",\"Malvaceae\",\"Malvaceae\",\"Malvaceae\",\"Malvaceae\",\"Malvaceae\",\"Malvaceae\",\"Malvaceae\",\"Malvaceae\",\"Malvaceae\",\"Malvaceae\",\"Malvaceae\",\"Malvaceae\",\"Malvaceae\",\"Malvaceae\",\"Malvaceae\",\"Malvaceae\",\"Malvaceae\",\"Malvaceae\",\"Malvaceae\",\"Malvaceae\",\"Malvaceae\",\"Malvaceae\",\"Malvaceae\",\"Malvaceae\",\"Malvaceae\",\"Malvaceae\",\"Malvaceae\",\"Malvaceae\",\"Malvaceae\",\"Malvaceae\",\"Malvaceae\",\"Malvaceae\",\"Malvaceae\",\"Malvaceae\",\"Malvaceae\",\"Malvaceae\",\"Malvaceae\",\"Malvaceae\",\"Malvaceae\",\"Malvaceae\",\"Malvaceae\",\"Malvaceae\",\"Malvaceae\",\"Malvaceae\",\"Malvaceae\",\"Malvaceae\",\"Malvaceae\",\"Malvaceae\",\"Malvaceae\",\"Malvaceae\",\"Malvaceae\",\"Malvaceae\",\"Malvaceae\",\"Malvaceae\",\"Malvaceae\",\"Malvaceae\",\"Malvaceae\",\"Malvaceae\",\"Malvaceae\",\"Malvaceae\",\"Malvaceae\",\"Malvaceae\",\"Malvaceae\",\"Malvaceae\",\"Malvaceae\",\"Malvaceae\",\"Malvaceae\",\"Malvaceae\",\"Malvaceae\",\"Malvaceae\",\"Malvaceae\",\"Malvaceae\",\"Malvaceae\",\"Malvaceae\",\"Malvaceae\",\"Malvaceae\",\"Malvaceae\",\"Malvaceae\",\"Malvaceae\",\"Malvaceae\",\"Malvaceae\",\"Malvaceae\",\"Malvaceae\",\"Malvaceae\",\"Malvaceae\",\"Malvaceae\",\"Malvaceae\",\"Malvaceae\",\"Malvaceae\",\"Malvaceae\",\"Malvaceae\",\"Malvaceae\",\"Malvaceae\",\"Malvaceae\",\"Malvaceae\",\"Malvaceae\",\"Malvaceae\",\"Malvaceae\",\"Malvaceae\",\"Malvaceae\",\"Malvaceae\",\"Malvaceae\",\"Malvaceae\",\"Malvaceae\",\"Malvaceae\",\"Malvaceae\",\"Malvaceae\",\"Malvaceae\",\"Malvaceae\",\"Malvaceae\",\"Malvaceae\",\"Malvaceae\",\"Malvaceae\",\"Malvaceae\",\"Malvaceae\",\"Malvaceae\",\"Malvaceae\",\"Malvaceae\",\"Malvaceae\",\"Malvaceae\",\"Malvaceae\",\"Malvaceae\",\"Malvaceae\",\"Malvaceae\",\"Malvaceae\",\"Malvaceae\",\"Malvaceae\",\"Malvaceae\",\"Malvaceae\",\"Malvaceae\",\"Malvaceae\",\"Malvaceae\",\"Malvaceae\",\"Malvaceae\",\"Malvaceae\",\"Malvaceae\",\"Malvaceae\",\"Malvaceae\",\"Malvaceae\",\"Malvaceae\",\"Malvaceae\",\"Malvaceae\",\"Malvaceae\",\"Malvaceae\",\"Malvaceae\",\"Malvaceae\",\"Malvaceae\",\"Rutaceae\",\"Rutaceae\",\"Rutaceae\",\"Rutaceae\",\"Rutaceae\",\"Rutaceae\",\"Rutaceae\",\"Rutaceae\",\"Rutaceae\",\"Bixaceae\"],\"legendgroup\":\"1\",\"marker\":{\"color\":[1,1,1,1,1,1,1,1,1,1,1,1,1,1,1,1,1,1,1,1,1,1,1,1,1,1,1,1,1,1,1,1,1,1,1,1,1,1,1,1,1,1,1,1,1,1,1,1,1,1,1,1,1,1,1,1,1,1,1,1,1,1,1,1,1,1,1,1,1,1,1,1,1,1,1,1,1,1,1,1,1,1,1,1,1,1,1,1,1,1,1,1,1,1,1,1,1,1,1,1,1,1,1,1,1,1,1,1,1,1,1,1,1,1,1,1,1,1,1,1,1,1,1,1,1,1,1,1,1,1,1,1,1,1,1,1,1,1,1,1,1,1,1,1,1,1,1,1,1,1,1,1,1,1,1,1,1,1,1,1,1,1,1,1,1,1,1,1,1,1,1,1,1,1,1,1,1,1,1,1,1,1,1,1,1,1,1,1,1,1,1,1,1,1,1,1,1,1,1,1,1,1,1,1,1,1,1,1,1,1,1,1,1,1,1,1,1,1,1,1,1,1,1,1,1,1,1,1,1,1,1,1,1,1,1,1,1,1,1,1,1,1,1,1,1,1,1,1,1,1,1,1,1,1,1,1,1,1,1,1,1,1,1,1,1,1,1,1,1,1,1,1,1,1,1,1,1,1,1,1,1,1,1,1,1,1,1,1,1,1,1,1,1,1,1,1,1,1,1,1,1,1,1,1,1,1,1,1,1,1,1,1,1,1,1,1,1,1,1,1,1,1,1,1,1,1,1,1,1,1,1,1,1,1,1,1,1],\"coloraxis\":\"coloraxis\",\"symbol\":\"x\"},\"mode\":\"markers\",\"name\":\"1\",\"scene\":\"scene\",\"showlegend\":true,\"type\":\"scatter3d\",\"x\":[-1.6024325717443457,-1.727566816965418,-1.7273881188841236,-1.7587880742643498,-1.7600435153396266,-1.7301543405659177,-1.7295648658578915,-2.8723256758876774,-2.9107219060330816,-2.93551822005997,-2.943133152216169,-2.6627601590700913,-2.925728580275096,-1.5934577179640266,-1.479316049405655,-1.270965728906912,-1.47946788493057,-1.2640389634950915,-1.5740890908500969,-3.03567395128265,-3.0818928468628983,-3.1250996972152114,-3.090590556008937,-2.994049708306849,-3.0129643193739066,-2.1688071824562454,-2.418883003661394,-1.2627210149378085,-1.3197329851763335,-2.600179667530374,-2.7137211717219483,-2.581251075917034,-2.8389588024099672,-3.3323128618906104,-2.6255837098625774,-2.32288125919216,-2.549464765946966,-2.663002452472662,-2.7314543707806638,-1.9881967136505039,-2.0260871790862636,-2.0701456821748163,-1.9330745758230223,-2.7075709104634096,-2.611801386870843,-2.888948630073911,-2.8011737734271875,-3.0712769257089665,-3.0712769257089665,-3.1080800684604326,-3.1103768431427663,-3.0712769257089665,-3.1103768431427663,-1.6555234793336993,-1.7615638001433613,-1.6635721569629203,-2.1881942549069726,-2.685467270881237,-2.6642745871988076,-2.0412550049609917,-2.0419569593866878,-2.6314216417528873,-2.740825332696516,-2.780841597885409,-2.7671428627813457,-1.8270572169322472,-1.7366618996778014,-1.9760197811878537,-1.9760197811878537,-3.0972699713032537,-3.103480093989452,-3.1161867759214754,-3.148045804321408,-3.148045804321408,-3.148045804321408,-1.8215133507045407,-2.7458618206860126,-2.6812523061609093,-1.564429671547637,-1.499466544893814,-1.3758015134237407,-1.5791554420071012,-1.4441723512115725,-1.5711233809960028,-1.5909586414922612,-1.7961882152252502,-1.836422548373404,-3.066372668151282,-3.1761207682270602,-3.072577553362008,-3.0621894077470055,-3.3840820333080863,-3.065327492704771,-3.0399711816147907,-3.0438087285468227,-3.175004253279254,-2.9730613356622064,-3.1821604696391605,-3.0029832545582607,-2.9937614277897726,-3.0169113837980284,-3.175004253279254,-3.050613611983194,-2.9937614363790517,-3.129010810778121,-3.032461831496047,-3.017066953077658,-3.0381145190840964,-3.1643230863352647,-3.137909999936235,-3.0420864228819013,-3.072577553362008,-2.8945451944589324,-3.71023747492081,-3.6160466957554354,-3.674482808381976,-3.590141796044285,-3.684540345301659,-3.2608923336246707,-3.7811225146055523,-3.7988749424360555,-3.6731808759622515,-3.667151224795842,-3.7182170039537765,-3.7052387280617403,-3.775728756123616,-3.7713662320647434,-3.6979476900271866,-3.7720350734454633,-3.6786354962011454,-3.5417176991070276,-3.6289294399425467,-3.6683029072794002,-3.720161379294326,-3.6802606405537275,-3.608720418123119,-3.6586578713917794,-3.726050550503636,-3.697955812873311,-3.7061916206455945,-3.640269909149059,-3.6395435514131513,-3.599380232420101,-3.7116567216597955,-3.5522081982905402,-3.6075063455279284,-3.5673811569843643,-3.666094508444889,-3.6802607452616094,-3.681287085447896,-3.5331017708430688,-3.7713662320647434,-3.539260335579375,-3.625981071810524,-3.695918888515791,-3.682084132530173,-3.5982143713601324,-3.5458421107949056,-3.611402085958051,-3.726916732177304,-3.5459587855758046,-3.677536992308657,-3.656156087185101,-3.6829898070975875,-3.6731808759622515,-3.6062427369885586,-2.722451892231219,-2.90679907106518,-3.618501108168165,-3.7056543640962403,-3.7671772423714143,-3.62238507130436,-3.614787652706269,-3.6174136901868414,-3.7294331380966317,-3.6121991453647775,-3.614331445256192,-3.8034078228913617,-3.5906675228977525,-3.5699985263000693,-3.7694131977526633,-3.7856907983366352,-3.6578337600748103,-3.5549888484570245,-3.7660271821745153,-3.6182189074592137,-3.7294331380966317,-3.618501023043595,-3.8409092514590646,-3.7394316567433776,-3.7056543640962403,-3.7966728537231886,-3.5414089017211885,-3.5447884195277317,-3.36442765179923,-3.7045580343658067,-3.834295653750814,-3.8078853425562316,-3.6153467988653696,-3.41243664751195,-3.41243664751195,-3.7324181379103254,-3.5752278802911572,-3.618362871288368,-3.5222256399372904,-3.7968782053706254,-3.787657585185964,-3.531641596261183,-3.5562188649639603,-3.8088485845473183,-3.62238507130436,-3.7051503448004506,-3.631114972926309,-3.7418987944690554,-3.74011644001074,-3.7741153903328337,-3.402642447660174,-3.631114972926309,-3.530361062845149,-3.5786905833754683,-3.631114972926309,-3.7774077132234756,-3.7812914645032043,-3.7741153903328337,-3.612633139649355,-3.631114972926309,-3.7744179003246714,-3.631114972926309,-3.6217311487911785,-2.81919745929624,-3.5607279768966404,-3.775544457111501,-3.5607279768966404,-3.8345862804852566,-3.748662365321846,-3.8121243951159682,-3.7956735527588488,-3.775544457111501,-3.7717075393135757,-3.7713945352294314,-3.8345863986532143,-3.7270370050371486,-3.570901064838094,-3.557686727017046,-3.7286187497270364,-3.580493336267679,-3.5910569335684026,-3.6719753736829994,-3.287811723871629,-3.670629222524943,-3.6884167164141317,-3.6695136965558555,-3.642319415149221,-3.5193598414396154,-3.6712511471491833,-3.524715462728548,-3.863230286288371,-3.666940041392375,-3.644273675734996,-3.644273675734996,-3.7713662320647434,-3.603734497436539,-3.7152844340897104,-3.6500923353707075,-3.631880770833888,-3.689635857879873,-3.7097748017238144,-3.699648670888449,-3.7352842720526023,-3.776571478039173,-3.8324629537222776,-3.7713662320647434,-3.631880770833888,-3.7186169214730818,-3.6609478498615613,-3.7097753992936338,-3.7117248291689258,-3.693697710448714,-3.7805987735784212,-2.90679907106518,-3.6988569209418696,-3.788913667432922,-3.707562810281301,-3.6987060073996267,-3.8838444765432145,-3.571294438927323,-3.870647129444746,-3.456289869736124,-3.7344385035225915,-3.755892866482839,-3.698857039109826,-3.741898822096129,-3.893300884549716,-3.7918577369284985,-3.893300884549716,-3.583122702151648,-3.531641596261183,-3.6140217660374856,-3.7418987944690554,-3.8522137276954096,-3.1364038952168336,-3.1402714988806393,-3.7844263321051446,-3.559152557530291,-3.7765602495027917,-3.778412835443943,-3.840081057941164,-3.788579840187503,-3.841401221501885,-3.788578359803729,-3.67454306373707,-3.6917633383389763,-3.7782161555557146,-3.7711962351569217,-3.3542091520428188,-3.302209069294198,-3.186304139637823,-3.796787894622515,-3.332725524026831,-3.333628365962981,-3.352415758894302,-2.906620982420273,-2.631547306466983,-3.143106252773834,-2.803494144092426,-2.803494144092426,-2.707992434217391,-1.564429671547637,-1.499466544893814,-1.3758015134237407,-1.5791554420071012,-1.4441723512115725,-1.5711233809960028,-1.5909586414922612,-1.7961882152252502,-1.836422548373404,-1.8215133507045407],\"y\":[0.39832625396061333,-0.08297985562504315,-0.03434380976838085,-0.09445030412950918,-0.14041275980943704,-0.01363377459394728,-0.0707212148061123,0.6020145485560306,0.4936041856674218,0.9860934676748607,0.9517857495577893,0.8665994430925562,0.47684093324974336,-0.07350665883214287,-0.02464934019414462,0.3558527317397283,-0.21202057714809913,0.18337472977766764,0.1923121677376912,-0.32721097613740013,-0.44710440311704125,-0.5760119972270336,-0.6086766039348885,-0.4450323682520523,-0.40164746246599387,-0.2646550141476383,-0.30605072258000193,-0.29926054258168494,-0.5221640013035022,-0.09988512592413425,-0.416105570339744,-0.009154063187454995,-0.20580002054010613,-1.8638956311705892,-0.7819582510168739,0.265003664387614,0.23825835453139577,0.06363228884363034,0.3802738838633962,0.27164090382718137,0.17523160895068204,0.09611095596062373,0.39594397485062055,0.06877985681641051,0.33831926430969783,0.1601629365895458,-0.5717239362843739,-0.5484788383370354,-0.5484788383370354,-0.70121093580079,-0.7052838656024287,-0.5484788383370354,-0.7052838656024287,-0.11746662482646002,-0.0602326909103614,0.09178110388867634,0.6032734306857639,0.35276435758701563,0.39421964551078603,0.11369457756713168,0.11236282099556492,0.4270367837834584,-0.007024024125415233,0.1857089531170727,0.42799382900110594,-0.16417115648348823,0.1263445574689886,-0.3059065121704498,-0.3059065121704498,-0.8608846655528762,-0.8709508085079373,-0.8950245286960001,-1.061943442445602,-1.061943442445602,-1.061943442445602,-0.17585974592228532,-0.01870425379387317,0.5495560766194348,-0.10662288866359766,-0.017689902979823507,0.19638286447388814,-0.14813591004148885,0.09668593666556413,-0.1405071091288214,-0.1776161121361991,0.050988514002521586,-0.061965571132837835,-1.7375936703040749,-1.8734931931921714,-1.7452535785670305,-1.7296843114915315,-2.1503435327072475,-1.6571002531576875,-1.6752193673183877,-1.6165436857638602,-1.871416415673012,-1.5768636238861533,-2.0705696863105447,-1.6321222487223759,-1.6017852199695497,-1.6327589334805421,-1.871416415673012,-1.6955566105638002,-1.6017853564528537,-2.000793182368474,-1.6765998621648237,-1.6330535941580961,-1.6724582002244324,-1.8368312845335732,-1.7452289509184857,-1.6774032726517039,-1.7452535785670305,-0.6838842560888232,-3.189217559321982,-2.924132070089725,-3.1171053507821647,-2.900900464051255,-3.1358167291138597,-2.6795788984872964,-3.066841267002936,-3.083887889007861,-3.087754457505527,-2.83472388360707,-2.8643035734004973,-2.888434516533723,-3.0297242720040516,-3.012026227668879,-2.843595668148655,-3.002298944038333,-3.0932756705991236,-2.8031145436412848,-2.763196685575395,-2.800881965612153,-2.8655482438498376,-2.8126494370332455,-2.6520570544030346,-2.772778019513732,-2.8578295352164735,-2.8017258361016846,-2.81533219238151,-2.99884097354993,-3.208681512688721,-2.6686330534450016,-2.8498146583823853,-2.761396326284419,-2.6498166443845332,-2.609948725774638,-2.7968135086652186,-2.8126486143623124,-2.7667564481218268,-2.7320475643017117,-3.012026227668879,-2.7986036684818085,-2.712677740350156,-2.7736553969925732,-2.81586370485901,-2.6608100721766417,-2.759042504975146,-2.940747423459037,-2.8620410597981576,-2.7542284777627746,-2.8527964479790313,-2.7980202889426993,-2.804060880650766,-3.087754457505527,-2.7213803311356695,-1.585155956998843,-1.4507534311932875,-2.9729461963605073,-2.8897744885176992,-3.0319318234095984,-3.1071664625555404,-2.9664444737568827,-2.973082890652798,-2.932790594769035,-2.9572233315020275,-3.079499278229189,-3.1035174389849076,-2.9037755225648136,-2.9986439322784686,-3.0453125332739073,-2.924569578413282,-3.2940003388802244,-2.9906269832146672,-3.0642799161500855,-2.974555687482185,-2.932790594769035,-2.9729460492980486,-3.1994650820105686,-2.983475341042141,-2.8897744885176992,-3.086437194751298,-2.955312581308595,-2.96450247132681,-2.5357447863805866,-2.9329548232890743,-3.1518331208757746,-3.114154613490392,-2.965725555350005,-2.599973512045148,-2.599973512045148,-2.9821436590126895,-2.8735075363893676,-3.0854205329727877,-2.675722524523043,-3.0866939312818897,-3.0702866755977007,-2.690471818482938,-2.83656733349565,-3.192170673722423,-3.1071664625555404,-3.4889811694728543,-3.101982740941603,-3.0026317327802987,-3.000500080987578,-3.0469584381543076,-2.578547604771141,-3.101982740941603,-2.692124049568808,-2.9777682375876453,-3.101982740941603,-3.055812739912969,-3.0602199130467147,-3.0469584381543076,-3.0678717140450353,-3.101982740941603,-3.047859719064948,-3.101982740941603,-3.089934523285171,-1.7815959420711571,-2.7670104474625647,-3.0725975926276186,-2.7670104474625647,-3.174916720483104,-2.940490160850873,-3.1399944204759835,-3.10989206883268,-3.0725975926276186,-3.066595459551947,-3.0661222409337747,-3.1749170158650584,-2.8976185440733917,-2.7820242204838324,-2.761223129146167,-2.875543678484035,-2.884972385307566,-2.8751338200733385,-3.1471009575089464,-2.7236860015264424,-3.144680716521645,-3.156433550008926,-3.129425125361657,-2.9389701654658453,-3.1488095052295235,-3.1456906244370866,-3.158866789389252,-3.230979522535359,-3.1379362716717263,-3.002075262509691,-3.002075262509691,-3.012026227668879,-2.925366624841667,-2.8350795080120688,-3.0247787598478872,-2.7012241325463937,-2.82443004143626,-2.87185015035237,-2.826810607229875,-2.8724113224582344,-2.757887311824485,-3.1133041855362826,-3.012026227668879,-2.7012241325463937,-2.8617853554545682,-2.7164993082970748,-2.871852186288589,-2.865143382062236,-2.7879063454554793,-3.034386373741737,-1.4507534311932875,-2.7030340320378845,-3.0764166439364042,-2.9242746790209213,-2.702519865600082,-3.3532672181243095,-2.8632999941462765,-3.3128123428355845,-2.6510530639778223,-2.792323596329254,-3.028346445030072,-2.7030343274198385,-3.0026317196870687,-3.371377388707258,-3.082054531520707,-3.371377388707258,-2.883795780301106,-2.690471818482938,-2.9416797561518266,-3.0026317327802987,-3.2382481633454625,-1.9775077917788824,-1.9924223318004766,-3.0731250981800766,-2.76772816701713,-3.0756290901552497,-3.07902110128563,-3.187431856982106,-3.080706349707228,-3.1895593473447748,-3.080701663398496,-2.7652600254896487,-3.17104695274866,-3.0360404835799413,-2.950283912029939,-2.8272266544302163,-2.3760739734057648,-2.1743834052130184,-3.203660201205775,-2.477287549166619,-2.4789240638627694,-2.5172264307955285,-2.0917997543077775,-1.4506360915516823,-1.9805219816320072,-1.7633167490784663,-1.7633167490784663,-1.5693405356240446,-0.10662288866359766,-0.017689902979823507,0.19638286447388814,-0.14813591004148885,0.09668593666556413,-0.1405071091288214,-0.1776161121361991,0.050988514002521586,-0.061965571132837835,-0.17585974592228532],\"z\":[0.8890465389202855,-0.13018125673409658,-0.21456477550098982,-0.1740648719304731,-0.09750459626065112,-0.25155162911508083,-0.15705221209369108,0.9730828152545751,1.0710085908577633,1.3178906561858994,1.35001864000237,1.1303598899831784,1.0872045840579032,2.310275299113002,1.940171238368831,1.7023335131187025,2.4509935190073877,2.206093311085453,2.3319233728788182,-0.6309231866496637,-0.5242054134193754,-0.3991092297159084,0.2616781348394948,0.18473877133548633,0.07537857335149556,-1.773041123465866,-1.8543870973079173,-0.9084303864581078,-0.9622509033302699,1.2401708327011074,1.1312143234394554,1.1329420501056338,-0.166242330186545,-0.2219981421564126,-1.0225675329331794,0.1068567574723756,-0.18623317356207475,-0.10293768325696558,-1.2598635385571386,0.7040238485555373,0.7872952560187425,0.642979470296378,0.6032657158009365,0.6089790431496672,0.759113462224089,0.6671117496181981,2.9768750001289437,-0.7158585206022396,-0.7158585206022396,-0.5525129107892034,-0.5501522319231495,-0.7158585206022396,-0.5501522319231495,0.6761975638133276,0.04214225286297104,0.5884464464972399,0.4566683862769828,-0.5459262830533377,-0.5734063348528081,0.226123311169357,0.22702741558259357,-0.5823218979958406,-0.09147328137628095,0.7148968181740639,0.5033069705267099,0.10143456247790963,0.22075649494493974,0.2958674706300272,0.2958674706300272,0.2959412093788141,0.30117899301981654,0.3176574358769985,0.14061643542331304,0.14061643542331304,0.14061643542331304,-0.6229835776804067,-0.08778657061842751,-0.11938434325533169,0.9148418507388543,0.8880370313782915,0.7645667663708571,0.9561157646251088,0.8041850280497381,0.9564750173087371,0.9796865398725736,0.9439991907652375,1.0499967872127773,-0.8151757297497277,-0.3609399337573965,-0.8128230055447407,-0.82020002263472,-0.4799916976647538,-0.5146008661098188,-0.8628301784896182,-0.5424020384157758,-0.36220772354071906,-0.928245306539989,-0.7244353769834138,-0.8896367247269373,-0.9168058590173157,-0.8947183283409885,-0.36220772354071906,-0.8513352631542616,-0.916805737923739,-0.7463528167131475,-0.8728713925289212,-0.8945548563988575,-0.8669367878208392,-0.390519913158574,-0.49247238483523703,-0.8628033957624072,-0.8128230055447407,-1.2771559983664478,-0.02092813002041581,0.13837533912743188,-0.07715316155183549,0.1458608297218,-0.06561554848589847,-0.2846688841779115,-0.12723138326673455,-0.13407271484591274,-0.11403316196886934,-0.2870732903443624,-0.33876254861052246,-0.2738853871126548,-0.17063432532421366,-0.2009582134833695,-0.33360970034992987,-0.22134841949758977,-0.11525903350905764,-0.33509265085813317,-0.330681125114922,-0.35002898725343207,-0.3405573165139197,-0.3507786204590378,-0.4778894903008879,-0.37678496427381847,-0.3609382469493213,-0.3944890660539655,-0.3866203406897035,-0.2079254995854057,-0.3757438086084842,-0.43440648603137927,-0.35010646259628714,-0.4192743876170437,-0.47920055582311644,-0.4692375700068308,-0.35248753721733206,-0.35077933796932764,-0.42753210359675553,-0.4328611866301294,-0.2009582134833695,-0.33785243177563967,-0.41161314532764837,-0.4370443732578441,-0.35084527779119284,-0.4448829171566715,-0.41412927178221576,-0.23926682669514585,-0.35595697853651415,-0.41999951052847445,-0.2763997267996635,-0.3285965336099276,-0.37098032027050826,-0.11403316196886934,-0.3567481725448908,-1.1849383679143082,-1.3052010747462472,-0.24359542985251367,-0.31478313359198035,-0.1860134623829721,-0.27100134520939373,-0.24810234011177143,-0.2421463359995166,-0.2893121812854766,-0.25785745677254435,-0.31585392217929803,-0.1366356250288773,0.11122298867883776,-0.36828453122865923,-0.17533694611740822,-0.08705264840227266,-0.3106654201602811,-0.36185611680455715,-0.14526877982215838,-0.24121843597989087,-0.2893121812854766,-0.24359556634304128,-0.049014306577459664,-0.2138780117428302,-0.31478313359198035,-0.15332651812578912,-0.3990939529544858,-0.3902831107941645,-0.521783430678994,-0.23607568848644023,-0.30993442108457614,-0.12754910840442205,-0.2497804996607302,-0.4852539724516725,-0.4852539724516725,-0.2087529507256133,0.08993365678472705,-0.3120515793438024,-0.11955796061752523,-0.15297492341474211,-0.16546033459031428,-0.11450485289579534,0.06661006111956258,-0.01652985293884177,-0.27100134520939373,-0.08831952222548177,-0.30328479645376255,-0.19384362231163807,-0.19445084418219574,-0.17590632463972863,-0.5053683011200126,-0.30328479645376255,-0.10933995488248237,-0.3943926473316896,-0.30328479645376255,-0.1680513776325959,-0.16657590961705582,-0.17590632463972863,-0.32592049094463504,-0.30328479645376255,-0.17399901092911751,-0.30328479645376255,-0.30758460189695325,-1.1219676262456628,-0.032921482068723376,-0.12629459057196682,-0.032921482068723376,-0.07084670021815766,-0.27773121814510404,-0.08787551425704658,-0.10550780548784017,-0.12629459057196682,-0.13145870449005337,-0.1312480887670769,-0.07084643025415935,-0.3047540111255988,-0.027792690868903895,-0.036636031812303294,-0.343474107656333,0.13789939373306392,0.10687775748321263,-0.016392475305405992,-0.2608158705071571,-0.017655023846156984,-0.03917537832531874,-0.043390428893962704,0.11382889825246514,0.6008956007560028,-0.017258849937351356,0.6072548783045947,-0.0177010651527535,-0.021721241202974854,0.20807155318164078,0.20807155318164078,-0.2009582134833695,-0.2569262744266778,-0.38164487369001965,-0.1864399571522401,-0.4409469528837308,-0.3504154389431275,-0.31296834781879324,-0.3652593796581027,-0.33907162890468073,-0.43075829602608223,-0.3442896045096257,-0.2009582134833695,-0.4409469528837308,-0.34410832122249024,-0.46651867867939095,-0.3129665042616545,-0.32580416103374077,-0.4212739887220803,-0.1754937554585414,-1.3052010747462472,-0.29188569153008187,-0.15777625065390757,-0.24980722983844247,-0.2923512735055762,0.11206131994944644,0.08997479279948692,0.0701009481646399,-0.0379452658581746,-0.20952886384403444,-0.17820942686890454,-0.29188542156608377,-0.1938436316744786,0.12302089050296254,-0.15420123596932533,0.12302089050296254,0.10137707356017744,-0.11450485289579534,0.13900591572675505,-0.19384362231163807,-0.007590656644487166,-0.9464731483336477,-0.9328994924127422,-0.13829261153240713,-0.03088961834396753,-0.12549829927779937,-0.123447098485889,-0.05991393185278096,-0.13377778767352339,-0.058694085321774815,-0.13378203947558923,-0.42002820297962234,-0.02960851550303737,-0.18336394763587158,-0.4926424235880254,0.3825519115788871,-0.27371060543272896,-0.7147423838770085,-0.44024670557226664,-0.5548671744559021,-0.5538959180722113,-0.5378759696699641,-0.7134561311578231,-1.124105619809315,-0.6422575644230509,-1.0672561234788078,-1.0672561234788078,-1.2102661083509356,0.9148418507388543,0.8880370313782915,0.7645667663708571,0.9561157646251088,0.8041850280497381,0.9564750173087371,0.9796865398725736,0.9439991907652375,1.0499967872127773,-0.6229835776804067]}],                        {\"coloraxis\":{\"colorbar\":{\"title\":{\"text\":\"Class\"}},\"colorscale\":[[0.0,\"#0d0887\"],[0.1111111111111111,\"#46039f\"],[0.2222222222222222,\"#7201a8\"],[0.3333333333333333,\"#9c179e\"],[0.4444444444444444,\"#bd3786\"],[0.5555555555555556,\"#d8576b\"],[0.6666666666666666,\"#ed7953\"],[0.7777777777777778,\"#fb9f3a\"],[0.8888888888888888,\"#fdca26\"],[1.0,\"#f0f921\"]]},\"legend\":{\"title\":{\"text\":\"Class\"},\"tracegroupgap\":0,\"x\":0,\"y\":1},\"margin\":{\"t\":60},\"scene\":{\"domain\":{\"x\":[0.0,1.0],\"y\":[0.0,1.0]},\"xaxis\":{\"title\":{\"text\":\"PC 1\"}},\"yaxis\":{\"title\":{\"text\":\"PC 2\"}},\"zaxis\":{\"title\":{\"text\":\"PC 3\"}}},\"template\":{\"data\":{\"bar\":[{\"error_x\":{\"color\":\"#2a3f5f\"},\"error_y\":{\"color\":\"#2a3f5f\"},\"marker\":{\"line\":{\"color\":\"#E5ECF6\",\"width\":0.5},\"pattern\":{\"fillmode\":\"overlay\",\"size\":10,\"solidity\":0.2}},\"type\":\"bar\"}],\"barpolar\":[{\"marker\":{\"line\":{\"color\":\"#E5ECF6\",\"width\":0.5},\"pattern\":{\"fillmode\":\"overlay\",\"size\":10,\"solidity\":0.2}},\"type\":\"barpolar\"}],\"carpet\":[{\"aaxis\":{\"endlinecolor\":\"#2a3f5f\",\"gridcolor\":\"white\",\"linecolor\":\"white\",\"minorgridcolor\":\"white\",\"startlinecolor\":\"#2a3f5f\"},\"baxis\":{\"endlinecolor\":\"#2a3f5f\",\"gridcolor\":\"white\",\"linecolor\":\"white\",\"minorgridcolor\":\"white\",\"startlinecolor\":\"#2a3f5f\"},\"type\":\"carpet\"}],\"choropleth\":[{\"colorbar\":{\"outlinewidth\":0,\"ticks\":\"\"},\"type\":\"choropleth\"}],\"contour\":[{\"colorbar\":{\"outlinewidth\":0,\"ticks\":\"\"},\"colorscale\":[[0.0,\"#0d0887\"],[0.1111111111111111,\"#46039f\"],[0.2222222222222222,\"#7201a8\"],[0.3333333333333333,\"#9c179e\"],[0.4444444444444444,\"#bd3786\"],[0.5555555555555556,\"#d8576b\"],[0.6666666666666666,\"#ed7953\"],[0.7777777777777778,\"#fb9f3a\"],[0.8888888888888888,\"#fdca26\"],[1.0,\"#f0f921\"]],\"type\":\"contour\"}],\"contourcarpet\":[{\"colorbar\":{\"outlinewidth\":0,\"ticks\":\"\"},\"type\":\"contourcarpet\"}],\"heatmap\":[{\"colorbar\":{\"outlinewidth\":0,\"ticks\":\"\"},\"colorscale\":[[0.0,\"#0d0887\"],[0.1111111111111111,\"#46039f\"],[0.2222222222222222,\"#7201a8\"],[0.3333333333333333,\"#9c179e\"],[0.4444444444444444,\"#bd3786\"],[0.5555555555555556,\"#d8576b\"],[0.6666666666666666,\"#ed7953\"],[0.7777777777777778,\"#fb9f3a\"],[0.8888888888888888,\"#fdca26\"],[1.0,\"#f0f921\"]],\"type\":\"heatmap\"}],\"heatmapgl\":[{\"colorbar\":{\"outlinewidth\":0,\"ticks\":\"\"},\"colorscale\":[[0.0,\"#0d0887\"],[0.1111111111111111,\"#46039f\"],[0.2222222222222222,\"#7201a8\"],[0.3333333333333333,\"#9c179e\"],[0.4444444444444444,\"#bd3786\"],[0.5555555555555556,\"#d8576b\"],[0.6666666666666666,\"#ed7953\"],[0.7777777777777778,\"#fb9f3a\"],[0.8888888888888888,\"#fdca26\"],[1.0,\"#f0f921\"]],\"type\":\"heatmapgl\"}],\"histogram\":[{\"marker\":{\"pattern\":{\"fillmode\":\"overlay\",\"size\":10,\"solidity\":0.2}},\"type\":\"histogram\"}],\"histogram2d\":[{\"colorbar\":{\"outlinewidth\":0,\"ticks\":\"\"},\"colorscale\":[[0.0,\"#0d0887\"],[0.1111111111111111,\"#46039f\"],[0.2222222222222222,\"#7201a8\"],[0.3333333333333333,\"#9c179e\"],[0.4444444444444444,\"#bd3786\"],[0.5555555555555556,\"#d8576b\"],[0.6666666666666666,\"#ed7953\"],[0.7777777777777778,\"#fb9f3a\"],[0.8888888888888888,\"#fdca26\"],[1.0,\"#f0f921\"]],\"type\":\"histogram2d\"}],\"histogram2dcontour\":[{\"colorbar\":{\"outlinewidth\":0,\"ticks\":\"\"},\"colorscale\":[[0.0,\"#0d0887\"],[0.1111111111111111,\"#46039f\"],[0.2222222222222222,\"#7201a8\"],[0.3333333333333333,\"#9c179e\"],[0.4444444444444444,\"#bd3786\"],[0.5555555555555556,\"#d8576b\"],[0.6666666666666666,\"#ed7953\"],[0.7777777777777778,\"#fb9f3a\"],[0.8888888888888888,\"#fdca26\"],[1.0,\"#f0f921\"]],\"type\":\"histogram2dcontour\"}],\"mesh3d\":[{\"colorbar\":{\"outlinewidth\":0,\"ticks\":\"\"},\"type\":\"mesh3d\"}],\"parcoords\":[{\"line\":{\"colorbar\":{\"outlinewidth\":0,\"ticks\":\"\"}},\"type\":\"parcoords\"}],\"pie\":[{\"automargin\":true,\"type\":\"pie\"}],\"scatter\":[{\"marker\":{\"colorbar\":{\"outlinewidth\":0,\"ticks\":\"\"}},\"type\":\"scatter\"}],\"scatter3d\":[{\"line\":{\"colorbar\":{\"outlinewidth\":0,\"ticks\":\"\"}},\"marker\":{\"colorbar\":{\"outlinewidth\":0,\"ticks\":\"\"}},\"type\":\"scatter3d\"}],\"scattercarpet\":[{\"marker\":{\"colorbar\":{\"outlinewidth\":0,\"ticks\":\"\"}},\"type\":\"scattercarpet\"}],\"scattergeo\":[{\"marker\":{\"colorbar\":{\"outlinewidth\":0,\"ticks\":\"\"}},\"type\":\"scattergeo\"}],\"scattergl\":[{\"marker\":{\"colorbar\":{\"outlinewidth\":0,\"ticks\":\"\"}},\"type\":\"scattergl\"}],\"scattermapbox\":[{\"marker\":{\"colorbar\":{\"outlinewidth\":0,\"ticks\":\"\"}},\"type\":\"scattermapbox\"}],\"scatterpolar\":[{\"marker\":{\"colorbar\":{\"outlinewidth\":0,\"ticks\":\"\"}},\"type\":\"scatterpolar\"}],\"scatterpolargl\":[{\"marker\":{\"colorbar\":{\"outlinewidth\":0,\"ticks\":\"\"}},\"type\":\"scatterpolargl\"}],\"scatterternary\":[{\"marker\":{\"colorbar\":{\"outlinewidth\":0,\"ticks\":\"\"}},\"type\":\"scatterternary\"}],\"surface\":[{\"colorbar\":{\"outlinewidth\":0,\"ticks\":\"\"},\"colorscale\":[[0.0,\"#0d0887\"],[0.1111111111111111,\"#46039f\"],[0.2222222222222222,\"#7201a8\"],[0.3333333333333333,\"#9c179e\"],[0.4444444444444444,\"#bd3786\"],[0.5555555555555556,\"#d8576b\"],[0.6666666666666666,\"#ed7953\"],[0.7777777777777778,\"#fb9f3a\"],[0.8888888888888888,\"#fdca26\"],[1.0,\"#f0f921\"]],\"type\":\"surface\"}],\"table\":[{\"cells\":{\"fill\":{\"color\":\"#EBF0F8\"},\"line\":{\"color\":\"white\"}},\"header\":{\"fill\":{\"color\":\"#C8D4E3\"},\"line\":{\"color\":\"white\"}},\"type\":\"table\"}]},\"layout\":{\"annotationdefaults\":{\"arrowcolor\":\"#2a3f5f\",\"arrowhead\":0,\"arrowwidth\":1},\"autotypenumbers\":\"strict\",\"coloraxis\":{\"colorbar\":{\"outlinewidth\":0,\"ticks\":\"\"}},\"colorscale\":{\"diverging\":[[0,\"#8e0152\"],[0.1,\"#c51b7d\"],[0.2,\"#de77ae\"],[0.3,\"#f1b6da\"],[0.4,\"#fde0ef\"],[0.5,\"#f7f7f7\"],[0.6,\"#e6f5d0\"],[0.7,\"#b8e186\"],[0.8,\"#7fbc41\"],[0.9,\"#4d9221\"],[1,\"#276419\"]],\"sequential\":[[0.0,\"#0d0887\"],[0.1111111111111111,\"#46039f\"],[0.2222222222222222,\"#7201a8\"],[0.3333333333333333,\"#9c179e\"],[0.4444444444444444,\"#bd3786\"],[0.5555555555555556,\"#d8576b\"],[0.6666666666666666,\"#ed7953\"],[0.7777777777777778,\"#fb9f3a\"],[0.8888888888888888,\"#fdca26\"],[1.0,\"#f0f921\"]],\"sequentialminus\":[[0.0,\"#0d0887\"],[0.1111111111111111,\"#46039f\"],[0.2222222222222222,\"#7201a8\"],[0.3333333333333333,\"#9c179e\"],[0.4444444444444444,\"#bd3786\"],[0.5555555555555556,\"#d8576b\"],[0.6666666666666666,\"#ed7953\"],[0.7777777777777778,\"#fb9f3a\"],[0.8888888888888888,\"#fdca26\"],[1.0,\"#f0f921\"]]},\"colorway\":[\"#636efa\",\"#EF553B\",\"#00cc96\",\"#ab63fa\",\"#FFA15A\",\"#19d3f3\",\"#FF6692\",\"#B6E880\",\"#FF97FF\",\"#FECB52\"],\"font\":{\"color\":\"#2a3f5f\"},\"geo\":{\"bgcolor\":\"white\",\"lakecolor\":\"white\",\"landcolor\":\"#E5ECF6\",\"showlakes\":true,\"showland\":true,\"subunitcolor\":\"white\"},\"hoverlabel\":{\"align\":\"left\"},\"hovermode\":\"closest\",\"mapbox\":{\"style\":\"light\"},\"paper_bgcolor\":\"white\",\"plot_bgcolor\":\"#E5ECF6\",\"polar\":{\"angularaxis\":{\"gridcolor\":\"white\",\"linecolor\":\"white\",\"ticks\":\"\"},\"bgcolor\":\"#E5ECF6\",\"radialaxis\":{\"gridcolor\":\"white\",\"linecolor\":\"white\",\"ticks\":\"\"}},\"scene\":{\"xaxis\":{\"backgroundcolor\":\"#E5ECF6\",\"gridcolor\":\"white\",\"gridwidth\":2,\"linecolor\":\"white\",\"showbackground\":true,\"ticks\":\"\",\"zerolinecolor\":\"white\"},\"yaxis\":{\"backgroundcolor\":\"#E5ECF6\",\"gridcolor\":\"white\",\"gridwidth\":2,\"linecolor\":\"white\",\"showbackground\":true,\"ticks\":\"\",\"zerolinecolor\":\"white\"},\"zaxis\":{\"backgroundcolor\":\"#E5ECF6\",\"gridcolor\":\"white\",\"gridwidth\":2,\"linecolor\":\"white\",\"showbackground\":true,\"ticks\":\"\",\"zerolinecolor\":\"white\"}},\"shapedefaults\":{\"line\":{\"color\":\"#2a3f5f\"}},\"ternary\":{\"aaxis\":{\"gridcolor\":\"white\",\"linecolor\":\"white\",\"ticks\":\"\"},\"baxis\":{\"gridcolor\":\"white\",\"linecolor\":\"white\",\"ticks\":\"\"},\"bgcolor\":\"#E5ECF6\",\"caxis\":{\"gridcolor\":\"white\",\"linecolor\":\"white\",\"ticks\":\"\"}},\"title\":{\"x\":0.05},\"xaxis\":{\"automargin\":true,\"gridcolor\":\"white\",\"linecolor\":\"white\",\"ticks\":\"\",\"title\":{\"standoff\":15},\"zerolinecolor\":\"white\",\"zerolinewidth\":2},\"yaxis\":{\"automargin\":true,\"gridcolor\":\"white\",\"linecolor\":\"white\",\"ticks\":\"\",\"title\":{\"standoff\":15},\"zerolinecolor\":\"white\",\"zerolinewidth\":2}}},\"width\":800},                        {\"responsive\": true}                    ).then(function(){\n",
       "                            \n",
       "var gd = document.getElementById('befa758b-2dcf-4aa0-89ab-ec961aea5f35');\n",
       "var x = new MutationObserver(function (mutations, observer) {{\n",
       "        var display = window.getComputedStyle(gd).display;\n",
       "        if (!display || display === 'none') {{\n",
       "            console.log([gd, 'removed!']);\n",
       "            Plotly.purge(gd);\n",
       "            observer.disconnect();\n",
       "        }}\n",
       "}});\n",
       "\n",
       "// Listen for the removal of the full notebook cells\n",
       "var notebookContainer = gd.closest('#notebook-container');\n",
       "if (notebookContainer) {{\n",
       "    x.observe(notebookContainer, {childList: true});\n",
       "}}\n",
       "\n",
       "// Listen for the clearing of the current output cell\n",
       "var outputEl = gd.closest('.output');\n",
       "if (outputEl) {{\n",
       "    x.observe(outputEl, {childList: true});\n",
       "}}\n",
       "\n",
       "                        })                };                });            </script>        </div>"
      ]
     },
     "metadata": {},
     "output_type": "display_data"
    }
   ],
   "source": [
    "# Creating a 3D-Scatter with the PCA data and the clusters\n",
    "# YOUR CODE HERE\n",
    "fig = px.scatter_3d(\n",
    "    clustered_df,\n",
    "    x=\"PC 1\",\n",
    "    y=\"PC 2\",\n",
    "    z=\"PC 3\",\n",
    "    color=\"Class\",\n",
    "    symbol=\"Class\",\n",
    "    width=800,\n",
    "    hover_name=\"familia\",\n",
    "    hover_data=['Hierba'],\n",
    ")\n",
    "fig.update_layout(legend=dict(x=0, y=1))\n",
    "fig.show()"
   ]
  },
  {
   "cell_type": "code",
   "execution_count": 77,
   "metadata": {},
   "outputs": [
    {
     "data": {},
     "metadata": {},
     "output_type": "display_data"
    },
    {
     "data": {
      "application/vnd.holoviews_exec.v0+json": "",
      "text/html": [
       "<div id='1316'>\n",
       "\n",
       "\n",
       "\n",
       "\n",
       "\n",
       "  <div class=\"bk-root\" id=\"4d78d17c-b692-4735-9361-4d9e5b9fddf4\" data-root-id=\"1316\"></div>\n",
       "</div>\n",
       "<script type=\"application/javascript\">(function(root) {\n",
       "  function embed_document(root) {\n",
       "    var docs_json = {\"489ff853-a16b-445b-bf50-de27fbed35bb\":{\"defs\":[{\"extends\":null,\"module\":null,\"name\":\"ReactiveHTML1\",\"overrides\":[],\"properties\":[]},{\"extends\":null,\"module\":null,\"name\":\"FlexBox1\",\"overrides\":[],\"properties\":[{\"default\":\"flex-start\",\"kind\":null,\"name\":\"align_content\"},{\"default\":\"flex-start\",\"kind\":null,\"name\":\"align_items\"},{\"default\":\"row\",\"kind\":null,\"name\":\"flex_direction\"},{\"default\":\"wrap\",\"kind\":null,\"name\":\"flex_wrap\"},{\"default\":\"flex-start\",\"kind\":null,\"name\":\"justify_content\"}]},{\"extends\":null,\"module\":null,\"name\":\"TemplateActions1\",\"overrides\":[],\"properties\":[{\"default\":0,\"kind\":null,\"name\":\"open_modal\"},{\"default\":0,\"kind\":null,\"name\":\"close_modal\"}]},{\"extends\":null,\"module\":null,\"name\":\"MaterialTemplateActions1\",\"overrides\":[],\"properties\":[{\"default\":0,\"kind\":null,\"name\":\"open_modal\"},{\"default\":0,\"kind\":null,\"name\":\"close_modal\"}]}],\"roots\":{\"references\":[{\"attributes\":{\"editor\":{\"id\":\"1381\"},\"field\":\"PC_3\",\"formatter\":{\"id\":\"1380\"},\"title\":\"PC 3\"},\"id\":\"1382\",\"type\":\"TableColumn\"},{\"attributes\":{},\"id\":\"1341\",\"type\":\"StringEditor\"},{\"attributes\":{\"editor\":{\"id\":\"1351\"},\"field\":\"longitud\",\"formatter\":{\"id\":\"1350\"},\"title\":\"longitud\"},\"id\":\"1352\",\"type\":\"TableColumn\"},{\"attributes\":{},\"id\":\"1381\",\"type\":\"NumberEditor\"},{\"attributes\":{\"data\":{\"Class\":{\"__ndarray__\":\"AwAAAAMAAAADAAAAAwAAAAMAAAADAAAAAwAAAAMAAAADAAAAAwAAAAMAAAADAAAAAwAAAAMAAAADAAAAAwAAAAMAAAADAAAAAwAAAAMAAAADAAAAAwAAAAMAAAADAAAAAwAAAAMAAAADAAAAAwAAAAMAAAADAAAAAwAAAAMAAAADAAAAAwAAAAMAAAADAAAAAwAAAAMAAAADAAAAAwAAAAMAAAADAAAAAwAAAAMAAAACAAAAAgAAAAIAAAACAAAAAgAAAAIAAAACAAAAAwAAAAIAAAACAAAAAgAAAAIAAAACAAAAAgAAAAIAAAACAAAAAgAAAAIAAAACAAAAAgAAAAIAAAADAAAAAwAAAAMAAAADAAAAAwAAAAMAAAADAAAAAwAAAAMAAAADAAAAAwAAAAMAAAADAAAAAgAAAAIAAAACAAAAAgAAAAIAAAACAAAAAgAAAAIAAAACAAAAAgAAAAIAAAACAAAAAgAAAAIAAAACAAAAAgAAAAIAAAACAAAAAgAAAAIAAAACAAAAAgAAAAIAAAACAAAAAgAAAAIAAAACAAAAAgAAAAIAAAACAAAAAgAAAAIAAAACAAAAAwAAAAMAAAADAAAAAwAAAAMAAAADAAAAAwAAAAMAAAADAAAAAwAAAAMAAAACAAAAAgAAAAIAAAACAAAAAgAAAAIAAAACAAAAAgAAAAIAAAACAAAAAgAAAAMAAAACAAAAAgAAAAIAAAACAAAAAwAAAAMAAAADAAAAAgAAAAIAAAACAAAAAwAAAAMAAAADAAAAAwAAAAMAAAADAAAAAwAAAAMAAAADAAAAAwAAAAMAAAACAAAAAgAAAAIAAAAAAAAAAAAAAAAAAAAAAAAAAAAAAAIAAAAAAAAAAAAAAAAAAAAAAAAAAAAAAAAAAAAAAAAAAAAAAAAAAAAAAAAAAAAAAAAAAAAAAAAAAAAAAAAAAAAAAAAAAAAAAAAAAAAAAAAAAAAAAAAAAAAAAAAAAAAAAAAAAAAAAAAAAAAAAAAAAAAAAAAAAAAAAAAAAAAAAAAAAAAAAAAAAAAAAAAAAAAAAAAAAAAAAAAAAAAAAAAAAAAAAAAAAAAAAAAAAAAAAAAAAAAAAAAAAAAAAAAAAAAAAAAAAAAAAAAAAAAAAAAAAAAAAAAAAAAAAAAAAAAAAAAAAAAAAAAAAAAAAAAAAAAAAAAAAAAAAAAAAAAAAAAAAAAAAAAAAAAAAAAAAAAAAAAAAAAAAAAAAAAAAAAAAAAAAAAAAAAAAAAAAAAAAAAAAAAAAAAAAAAAAAAAAAAAAAAAAAAAAAAAAAAAAAAAAAAAAAAAAAAAAAAAAAAAAAAAAAAAAAAAAAAAAAAAAAAAAAAAAAAAAAAAAAAAAAAAAAAAAAAAAAAAAAAAAAAAAAAAAAAAAAAAAAAAAAAAAAAAAAAAAAAAAAAAAAAAAAAAAAAAAAAAAAAAAAAAAAAAAAAAAAAAAAAAAAAAAAAAAAAAAAAAAAAAAAAAAAAAAAAAAAAAAAAAAAAAAAAAAAAAAAAAAAAAAAAAAAAAAAAAAAAAAAAAAAAAAAAAAAAAAAAAAAAAAAAAAAAAAAAAAAAAAAAAAAAAAAAAAAAAAAAAAAAAAAAAAAAAAAAAAAAAAAAAAAAAAAAAAAAAAAAAAAAAAAAAAAAAAAAAAAAAAAAAAAAAAAAAAAAAAAAAAAAAAAAAAAAAAAAAAAAAAAAAAAAAAAAAAAAAAAAAAAAAAAAAAAAAAAAAAAAAAAAAAAAAAAAAAAAAAAAAAAAAAAAAAAAAAAAAAAAAAAAAAAAAAAAAAAAAAAAAAAAAAAAAAAAAAAAAAAAAAAAAAAAAAAAAAAAAAAAAAAAAAAAAAAAAAAAAAAAAAAAAAAAAAAAAAAAAAAAAAAAAAAAAAAAAAAAAAAAAAAAAAAAAAAAAAAAAAAAAAAAAAAAAAAAAAAAAAAAAAAAAAAAAAAAAAAAAAAAAAAAAAAAAAAAAAAAAAAAAAAAAAAAAAAAAAAAAAAAAAAAAAAAAAAAAAAAAAAAAAAAAAAAAAAAAAAAAAAAAAAAAAAAAAAAAAAAAAAAAAAAAAAAAAAAAAAAAAAAAAAAAAAAAAAAAAAAAAAAAAAAAAAAAAAAAAAAAAAAAAAAAAAAAAAAAAAAAAAAAAAAAAAAAAAAAAAAAAAAAAAAAAAAAAAAAAAAAAAAAAAAAAAAAAAIAAAACAAAAAQAAAAIAAAACAAAAAgAAAAEAAAABAAAAAQAAAAEAAAABAAAAAQAAAAIAAAACAAAAAgAAAAIAAAACAAAAAgAAAAEAAAABAAAAAQAAAAEAAAABAAAAAQAAAAIAAAACAAAAAgAAAAIAAAACAAAAAQAAAAEAAAABAAAAAQAAAAEAAAABAAAAAQAAAAEAAAABAAAAAQAAAAEAAAABAAAAAgAAAAIAAAACAAAAAgAAAAIAAAACAAAAAgAAAAIAAAACAAAAAgAAAAIAAAACAAAAAwAAAAMAAAADAAAAAwAAAAMAAAADAAAAAgAAAAIAAAACAAAAAgAAAAIAAAACAAAAAgAAAAIAAAACAAAAAgAAAAIAAAACAAAAAgAAAAIAAAACAAAAAgAAAAIAAAACAAAAAgAAAAIAAAACAAAAAgAAAAIAAAACAAAAAQAAAAIAAAABAAAAAQAAAAEAAAACAAAAAgAAAAIAAAACAAAAAgAAAAIAAAACAAAAAgAAAAIAAAACAAAAAQAAAAEAAAABAAAAAgAAAAEAAAACAAAAAgAAAAEAAAABAAAAAgAAAAIAAAACAAAAAgAAAAIAAAACAAAAAgAAAAIAAAACAAAAAgAAAAIAAAACAAAAAgAAAAIAAAABAAAAAQAAAAEAAAACAAAAAgAAAAIAAAACAAAAAQAAAAIAAAACAAAAAgAAAAIAAAACAAAAAgAAAAIAAAACAAAAAgAAAAIAAAACAAAAAgAAAAIAAAABAAAAAQAAAAEAAAABAAAAAQAAAAEAAAABAAAAAgAAAAIAAAACAAAAAgAAAAIAAAACAAAAAgAAAAIAAAACAAAAAgAAAAIAAAACAAAAAgAAAAIAAAACAAAAAgAAAAEAAAADAAAAAwAAAAMAAAADAAAAAwAAAAEAAAABAAAAAQAAAAEAAAABAAAAAQAAAAEAAAABAAAAAQAAAAIAAAABAAAAAgAAAAIAAAACAAAAAgAAAAIAAAACAAAAAgAAAAIAAAACAAAAAQAAAAEAAAABAAAAAQAAAAEAAAABAAAAAgAAAAIAAAACAAAAAgAAAAIAAAACAAAAAgAAAAEAAAABAAAAAQAAAAEAAAABAAAAAQAAAAIAAAACAAAAAgAAAAIAAAACAAAAAgAAAAIAAAABAAAAAQAAAAEAAAABAAAAAQAAAAEAAAACAAAAAQAAAAIAAAABAAAAAQAAAAIAAAAAAAAAAAAAAAAAAAAAAAAAAAAAAAIAAAAAAAAAAAAAAAAAAAAAAAAAAAAAAAAAAAAAAAAAAAAAAAAAAAAAAAAAAAAAAAAAAAAAAAAAAAAAAAAAAAAAAAAAAAAAAAAAAAAAAAAAAAAAAAAAAAAAAAAAAAAAAAAAAAAAAAAAAAAAAAAAAAAAAAAAAAAAAAAAAAAAAAAAAAAAAAAAAAAAAAAAAAAAAAAAAAAAAAAAAAAAAAAAAAAAAAAAAAAAAAAAAAAAAAAAAAAAAAAAAAAAAAAAAAAAAAAAAAAAAAAAAAAAAAAAAAAAAAAAAAAAAAAAAAAAAAAAAAAAAAAAAAAAAAAAAAAAAAAAAAAAAAAAAAAAAAAAAAAAAAAAAAAAAAAAAAAAAAAAAAAAAAAAAAAAAAAAAAAAAAAAAAAAAAAAAAAAAAAAAAAAAAAAAAAAAAAAAAAAAAAAAAAAAAAAAAAAAAAAAAAAAAAAAAAAAAAAAAAAAAAAAAAAAAAAAAAAAAAAAAAAAAAAAAAAAAAAAAAAAAAAAAAAAAAAAAAAAAAAAAAAAAAAAAAAAAAAAAAAAAAAAAAAAAAAAAAAAAAAAAAAAAAAAAAAAAAAAAAAAAAAAAAAAAAAAAAAAAAAAAAAAAAAAAAAAAAAAAAAAAAAAAAAAAAAAAAAAAAAAAACAAAAAgAAAAIAAAACAAAAAgAAAAIAAAACAAAAAgAAAAIAAAACAAAAAgAAAAIAAAACAAAAAgAAAAIAAAACAAAAAgAAAAIAAAACAAAAAQAAAAEAAAABAAAAAQAAAAEAAAABAAAAAQAAAAEAAAABAAAAAgAAAAIAAAACAAAAAgAAAAIAAAACAAAAAgAAAAIAAAACAAAAAgAAAAIAAAACAAAAAgAAAAIAAAACAAAAAgAAAAIAAAACAAAAAgAAAAIAAAACAAAAAgAAAAIAAAACAAAAAgAAAAIAAAACAAAAAgAAAAIAAAACAAAAAgAAAAIAAAACAAAAAgAAAAIAAAACAAAAAgAAAAIAAAACAAAAAgAAAAIAAAACAAAAAgAAAAIAAAACAAAAAgAAAAIAAAACAAAAAgAAAAIAAAACAAAAAgAAAAIAAAACAAAAAgAAAAIAAAACAAAAAgAAAAIAAAACAAAAAgAAAAIAAAACAAAAAQAAAAEAAAABAAAAAQAAAAEAAAABAAAAAQAAAAEAAAABAAAAAQAAAAEAAAABAAAAAQAAAAEAAAABAAAAAQAAAAEAAAABAAAAAQAAAAEAAAABAAAAAQAAAAEAAAABAAAAAQAAAAIAAAACAAAAAgAAAAIAAAACAAAAAgAAAAIAAAACAAAAAgAAAAIAAAACAAAAAgAAAAIAAAACAAAAAQAAAAIAAAACAAAAAgAAAAIAAAABAAAAAQAAAAEAAAABAAAAAQAAAAEAAAABAAAAAQAAAAEAAAABAAAAAQAAAAEAAAABAAAAAQAAAAEAAAABAAAAAQAAAAEAAAABAAAAAQAAAAEAAAABAAAAAQAAAAEAAAABAAAAAQAAAAEAAAABAAAAAQAAAAEAAAABAAAAAQAAAAEAAAABAAAAAQAAAAEAAAABAAAAAQAAAAEAAAABAAAAAQAAAAEAAAABAAAAAQAAAAEAAAABAAAAAQAAAAEAAAABAAAAAQAAAAEAAAABAAAAAQAAAAEAAAABAAAAAQAAAAEAAAABAAAAAQAAAAEAAAABAAAAAQAAAAEAAAABAAAAAQAAAAEAAAABAAAAAQAAAAEAAAABAAAAAQAAAAEAAAABAAAAAQAAAAEAAAABAAAAAQAAAAEAAAABAAAAAQAAAAEAAAABAAAAAQAAAAEAAAABAAAAAQAAAAEAAAABAAAAAQAAAAEAAAABAAAAAQAAAAEAAAABAAAAAQAAAAEAAAABAAAAAQAAAAEAAAABAAAAAQAAAAEAAAABAAAAAQAAAAEAAAABAAAAAQAAAAEAAAABAAAAAQAAAAEAAAABAAAAAQAAAAEAAAABAAAAAQAAAAEAAAABAAAAAQAAAAEAAAABAAAAAQAAAAEAAAABAAAAAQAAAAEAAAABAAAAAQAAAAEAAAABAAAAAQAAAAEAAAABAAAAAQAAAAEAAAABAAAAAQAAAAEAAAABAAAAAQAAAAEAAAABAAAAAQAAAAEAAAABAAAAAQAAAAEAAAABAAAAAQAAAAEAAAABAAAAAQAAAAEAAAABAAAAAQAAAAEAAAABAAAAAQAAAAEAAAABAAAAAQAAAAEAAAABAAAAAQAAAAEAAAABAAAAAQAAAAEAAAABAAAAAQAAAAEAAAABAAAAAQAAAAEAAAABAAAAAQAAAAEAAAABAAAAAQAAAAEAAAABAAAAAQAAAAEAAAABAAAAAQAAAAEAAAABAAAAAQAAAAEAAAABAAAAAQAAAAEAAAABAAAAAQAAAAEAAAABAAAAAQAAAAEAAAABAAAAAQAAAAEAAAABAAAAAQAAAAEAAAABAAAAAQAAAAEAAAABAAAAAQAAAAEAAAABAAAAAQAAAAEAAAABAAAAAgAAAAIAAAACAAAAAgAAAAIAAAACAAAAAgAAAAIAAAACAAAAAgAAAAIAAAACAAAAAgAAAAIAAAACAAAAAgAAAAIAAAABAAAAAQAAAAEAAAABAAAAAQAAAAEAAAABAAAAAQAAAAEAAAACAAAAAgAAAAIAAAACAAAAAgAAAAIAAAACAAAAAgAAAAIAAAACAAAAAgAAAAIAAAACAAAAAgAAAAIAAAACAAAAAgAAAAIAAAACAAAAAgAAAAIAAAACAAAAAgAAAAIAAAACAAAAAgAAAAIAAAACAAAAAgAAAAIAAAACAAAAAgAAAAIAAAACAAAAAgAAAAIAAAACAAAAAgAAAAIAAAACAAAAAgAAAAIAAAACAAAAAgAAAAIAAAABAAAAAgAAAAIAAAA=\",\"dtype\":\"int32\",\"order\":\"little\",\"shape\":[1190]},\"CoinName\":[\"Liliopsida\",\"Liliopsida\",\"Liliopsida\",\"Liliopsida\",\"Liliopsida\",\"Liliopsida\",\"Liliopsida\",\"Liliopsida\",\"Liliopsida\",\"Liliopsida\",\"Liliopsida\",\"Liliopsida\",\"Liliopsida\",\"Liliopsida\",\"Liliopsida\",\"Liliopsida\",\"Liliopsida\",\"Liliopsida\",\"Liliopsida\",\"Liliopsida\",\"Liliopsida\",\"Liliopsida\",\"Liliopsida\",\"Liliopsida\",\"Liliopsida\",\"Liliopsida\",\"Liliopsida\",\"Liliopsida\",\"Liliopsida\",\"Liliopsida\",\"Liliopsida\",\"Liliopsida\",\"Liliopsida\",\"Liliopsida\",\"Liliopsida\",\"Liliopsida\",\"Liliopsida\",\"Liliopsida\",\"Liliopsida\",\"Liliopsida\",\"Liliopsida\",\"Liliopsida\",\"Liliopsida\",\"Liliopsida\",\"Liliopsida\",\"Liliopsida\",\"Liliopsida\",\"Liliopsida\",\"Liliopsida\",\"Liliopsida\",\"Liliopsida\",\"Liliopsida\",\"Liliopsida\",\"Liliopsida\",\"Liliopsida\",\"Liliopsida\",\"Liliopsida\",\"Liliopsida\",\"Liliopsida\",\"Liliopsida\",\"Liliopsida\",\"Liliopsida\",\"Liliopsida\",\"Liliopsida\",\"Liliopsida\",\"Liliopsida\",\"Liliopsida\",\"Liliopsida\",\"Liliopsida\",\"Liliopsida\",\"Liliopsida\",\"Liliopsida\",\"Liliopsida\",\"Liliopsida\",\"Liliopsida\",\"Liliopsida\",\"Liliopsida\",\"Liliopsida\",\"Liliopsida\",\"Liliopsida\",\"Liliopsida\",\"Liliopsida\",\"Liliopsida\",\"Liliopsida\",\"Liliopsida\",\"Liliopsida\",\"Liliopsida\",\"Liliopsida\",\"Liliopsida\",\"Liliopsida\",\"Liliopsida\",\"Liliopsida\",\"Liliopsida\",\"Liliopsida\",\"Liliopsida\",\"Liliopsida\",\"Liliopsida\",\"Liliopsida\",\"Liliopsida\",\"Liliopsida\",\"Liliopsida\",\"Liliopsida\",\"Liliopsida\",\"Liliopsida\",\"Liliopsida\",\"Liliopsida\",\"Liliopsida\",\"Liliopsida\",\"Liliopsida\",\"Liliopsida\",\"Liliopsida\",\"Liliopsida\",\"Liliopsida\",\"Liliopsida\",\"Liliopsida\",\"Liliopsida\",\"Liliopsida\",\"Liliopsida\",\"Liliopsida\",\"Liliopsida\",\"Liliopsida\",\"Liliopsida\",\"Liliopsida\",\"Liliopsida\",\"Liliopsida\",\"Liliopsida\",\"Liliopsida\",\"Liliopsida\",\"Liliopsida\",\"Liliopsida\",\"Liliopsida\",\"Liliopsida\",\"Liliopsida\",\"Liliopsida\",\"Liliopsida\",\"Liliopsida\",\"Liliopsida\",\"Liliopsida\",\"Liliopsida\",\"Liliopsida\",\"Liliopsida\",\"Liliopsida\",\"Liliopsida\",\"Liliopsida\",\"Liliopsida\",\"Liliopsida\",\"Liliopsida\",\"Liliopsida\",\"Liliopsida\",\"Liliopsida\",\"Liliopsida\",\"Liliopsida\",\"Liliopsida\",\"Liliopsida\",\"Liliopsida\",\"Liliopsida\",\"Liliopsida\",\"Liliopsida\",\"Lycopodiopsida\",\"Lycopodiopsida\",\"Lycopodiopsida\",\"Lycopodiopsida\",\"Lycopodiopsida\",\"Lycopodiopsida\",\"Lycopodiopsida\",\"Lycopodiopsida\",\"Lycopodiopsida\",\"Lycopodiopsida\",\"Lycopodiopsida\",\"Lycopodiopsida\",\"Lycopodiopsida\",\"Lycopodiopsida\",\"Lycopodiopsida\",\"Lycopodiopsida\",\"Lycopodiopsida\",\"Lycopodiopsida\",\"Lycopodiopsida\",\"Lycopodiopsida\",\"Lycopodiopsida\",\"Lycopodiopsida\",\"Lycopodiopsida\",\"Lycopodiopsida\",\"Lycopodiopsida\",\"Lycopodiopsida\",\"Lycopodiopsida\",\"Lycopodiopsida\",\"Lycopodiopsida\",\"Lycopodiopsida\",\"Lycopodiopsida\",\"Lycopodiopsida\",\"Lycopodiopsida\",\"Lycopodiopsida\",\"Lycopodiopsida\",\"Lycopodiopsida\",\"Lycopodiopsida\",\"Lycopodiopsida\",\"Lycopodiopsida\",\"Lycopodiopsida\",\"Lycopodiopsida\",\"Lycopodiopsida\",\"Lycopodiopsida\",\"Lycopodiopsida\",\"Lycopodiopsida\",\"Lycopodiopsida\",\"Lycopodiopsida\",\"Lycopodiopsida\",\"Lycopodiopsida\",\"Lycopodiopsida\",\"Lycopodiopsida\",\"Lycopodiopsida\",\"Lycopodiopsida\",\"Lycopodiopsida\",\"Lycopodiopsida\",\"Lycopodiopsida\",\"Lycopodiopsida\",\"Lycopodiopsida\",\"Lycopodiopsida\",\"Lycopodiopsida\",\"Lycopodiopsida\",\"Lycopodiopsida\",\"Lycopodiopsida\",\"Lycopodiopsida\",\"Lycopodiopsida\",\"Lycopodiopsida\",\"Lycopodiopsida\",\"Lycopodiopsida\",\"Lycopodiopsida\",\"Lycopodiopsida\",\"Lycopodiopsida\",\"Lycopodiopsida\",\"Lycopodiopsida\",\"Lycopodiopsida\",\"Lycopodiopsida\",\"Lycopodiopsida\",\"Lycopodiopsida\",\"Lycopodiopsida\",\"Lycopodiopsida\",\"Lycopodiopsida\",\"Lycopodiopsida\",\"Lycopodiopsida\",\"Lycopodiopsida\",\"Lycopodiopsida\",\"Lycopodiopsida\",\"Lycopodiopsida\",\"Lycopodiopsida\",\"Lycopodiopsida\",\"Lycopodiopsida\",\"Lycopodiopsida\",\"Lycopodiopsida\",\"Lycopodiopsida\",\"Lycopodiopsida\",\"Lycopodiopsida\",\"Lycopodiopsida\",\"Lycopodiopsida\",\"Lycopodiopsida\",\"Lycopodiopsida\",\"Lycopodiopsida\",\"Lycopodiopsida\",\"Lycopodiopsida\",\"Lycopodiopsida\",\"Lycopodiopsida\",\"Lycopodiopsida\",\"Lycopodiopsida\",\"Lycopodiopsida\",\"Lycopodiopsida\",\"Lycopodiopsida\",\"Lycopodiopsida\",\"Lycopodiopsida\",\"Lycopodiopsida\",\"Lycopodiopsida\",\"Lycopodiopsida\",\"Lycopodiopsida\",\"Lycopodiopsida\",\"Lycopodiopsida\",\"Lycopodiopsida\",\"Lycopodiopsida\",\"Lycopodiopsida\",\"Lycopodiopsida\",\"Lycopodiopsida\",\"Lycopodiopsida\",\"Lycopodiopsida\",\"Lycopodiopsida\",\"Lycopodiopsida\",\"Lycopodiopsida\",\"Lycopodiopsida\",\"Lycopodiopsida\",\"Lycopodiopsida\",\"Lycopodiopsida\",\"Lycopodiopsida\",\"Lycopodiopsida\",\"Lycopodiopsida\",\"Lycopodiopsida\",\"Lycopodiopsida\",\"Lycopodiopsida\",\"Lycopodiopsida\",\"Lycopodiopsida\",\"Lycopodiopsida\",\"Lycopodiopsida\",\"Lycopodiopsida\",\"Lycopodiopsida\",\"Lycopodiopsida\",\"Lycopodiopsida\",\"Lycopodiopsida\",\"Lycopodiopsida\",\"Lycopodiopsida\",\"Lycopodiopsida\",\"Lycopodiopsida\",\"Lycopodiopsida\",\"Lycopodiopsida\",\"Lycopodiopsida\",\"Lycopodiopsida\",\"Lycopodiopsida\",\"Lycopodiopsida\",\"Lycopodiopsida\",\"Lycopodiopsida\",\"Lycopodiopsida\",\"Lycopodiopsida\",\"Lycopodiopsida\",\"Lycopodiopsida\",\"Lycopodiopsida\",\"Lycopodiopsida\",\"Lycopodiopsida\",\"Lycopodiopsida\",\"Lycopodiopsida\",\"Lycopodiopsida\",\"Lycopodiopsida\",\"Lycopodiopsida\",\"Lycopodiopsida\",\"Lycopodiopsida\",\"Lycopodiopsida\",\"Lycopodiopsida\",\"Lycopodiopsida\",\"Lycopodiopsida\",\"Lycopodiopsida\",\"Lycopodiopsida\",\"Lycopodiopsida\",\"Lycopodiopsida\",\"Lycopodiopsida\",\"Lycopodiopsida\",\"Lycopodiopsida\",\"Lycopodiopsida\",\"Lycopodiopsida\",\"Lycopodiopsida\",\"Lycopodiopsida\",\"Lycopodiopsida\",\"Lycopodiopsida\",\"Lycopodiopsida\",\"Lycopodiopsida\",\"Lycopodiopsida\",\"Lycopodiopsida\",\"Lycopodiopsida\",\"Lycopodiopsida\",\"Lycopodiopsida\",\"Lycopodiopsida\",\"Lycopodiopsida\",\"Lycopodiopsida\",\"Lycopodiopsida\",\"Lycopodiopsida\",\"Lycopodiopsida\",\"Lycopodiopsida\",\"Lycopodiopsida\",\"Lycopodiopsida\",\"Lycopodiopsida\",\"Lycopodiopsida\",\"Lycopodiopsida\",\"Lycopodiopsida\",\"Lycopodiopsida\",\"Lycopodiopsida\",\"Lycopodiopsida\",\"Lycopodiopsida\",\"Lycopodiopsida\",\"Lycopodiopsida\",\"Lycopodiopsida\",\"Lycopodiopsida\",\"Lycopodiopsida\",\"Lycopodiopsida\",\"Lycopodiopsida\",\"Lycopodiopsida\",\"Lycopodiopsida\",\"Lycopodiopsida\",\"Lycopodiopsida\",\"Lycopodiopsida\",\"Lycopodiopsida\",\"Lycopodiopsida\",\"Lycopodiopsida\",\"Lycopodiopsida\",\"Lycopodiopsida\",\"Lycopodiopsida\",\"Lycopodiopsida\",\"Lycopodiopsida\",\"Lycopodiopsida\",\"Lycopodiopsida\",\"Lycopodiopsida\",\"Lycopodiopsida\",\"Lycopodiopsida\",\"Lycopodiopsida\",\"Lycopodiopsida\",\"Lycopodiopsida\",\"Lycopodiopsida\",\"Lycopodiopsida\",\"Lycopodiopsida\",\"Lycopodiopsida\",\"Lycopodiopsida\",\"Lycopodiopsida\",\"Lycopodiopsida\",\"Lycopodiopsida\",\"Lycopodiopsida\",\"Lycopodiopsida\",\"Lycopodiopsida\",\"Lycopodiopsida\",\"Lycopodiopsida\",\"Lycopodiopsida\",\"Magnoliopsida\",\"Magnoliopsida\",\"Magnoliopsida\",\"Magnoliopsida\",\"Magnoliopsida\",\"Magnoliopsida\",\"Magnoliopsida\",\"Magnoliopsida\",\"Magnoliopsida\",\"Magnoliopsida\",\"Magnoliopsida\",\"Magnoliopsida\",\"Magnoliopsida\",\"Magnoliopsida\",\"Magnoliopsida\",\"Magnoliopsida\",\"Magnoliopsida\",\"Magnoliopsida\",\"Magnoliopsida\",\"Magnoliopsida\",\"Magnoliopsida\",\"Magnoliopsida\",\"Magnoliopsida\",\"Magnoliopsida\",\"Magnoliopsida\",\"Magnoliopsida\",\"Magnoliopsida\",\"Magnoliopsida\",\"Magnoliopsida\",\"Magnoliopsida\",\"Magnoliopsida\",\"Magnoliopsida\",\"Magnoliopsida\",\"Magnoliopsida\",\"Magnoliopsida\",\"Magnoliopsida\",\"Magnoliopsida\",\"Magnoliopsida\",\"Magnoliopsida\",\"Magnoliopsida\",\"Magnoliopsida\",\"Magnoliopsida\",\"Magnoliopsida\",\"Magnoliopsida\",\"Magnoliopsida\",\"Magnoliopsida\",\"Magnoliopsida\",\"Magnoliopsida\",\"Magnoliopsida\",\"Magnoliopsida\",\"Magnoliopsida\",\"Magnoliopsida\",\"Magnoliopsida\",\"Magnoliopsida\",\"Magnoliopsida\",\"Magnoliopsida\",\"Magnoliopsida\",\"Magnoliopsida\",\"Magnoliopsida\",\"Magnoliopsida\",\"Magnoliopsida\",\"Magnoliopsida\",\"Magnoliopsida\",\"Magnoliopsida\",\"Magnoliopsida\",\"Magnoliopsida\",\"Magnoliopsida\",\"Magnoliopsida\",\"Magnoliopsida\",\"Magnoliopsida\",\"Magnoliopsida\",\"Magnoliopsida\",\"Magnoliopsida\",\"Magnoliopsida\",\"Magnoliopsida\",\"Magnoliopsida\",\"Magnoliopsida\",\"Magnoliopsida\",\"Magnoliopsida\",\"Magnoliopsida\",\"Magnoliopsida\",\"Magnoliopsida\",\"Magnoliopsida\",\"Magnoliopsida\",\"Magnoliopsida\",\"Magnoliopsida\",\"Magnoliopsida\",\"Magnoliopsida\",\"Magnoliopsida\",\"Magnoliopsida\",\"Magnoliopsida\",\"Magnoliopsida\",\"Magnoliopsida\",\"Magnoliopsida\",\"Magnoliopsida\",\"Magnoliopsida\",\"Magnoliopsida\",\"Magnoliopsida\",\"Magnoliopsida\",\"Magnoliopsida\",\"Magnoliopsida\",\"Magnoliopsida\",\"Magnoliopsida\",\"Magnoliopsida\",\"Magnoliopsida\",\"Magnoliopsida\",\"Magnoliopsida\",\"Magnoliopsida\",\"Magnoliopsida\",\"Magnoliopsida\",\"Magnoliopsida\",\"Magnoliopsida\",\"Magnoliopsida\",\"Magnoliopsida\",\"Magnoliopsida\",\"Magnoliopsida\",\"Magnoliopsida\",\"Magnoliopsida\",\"Magnoliopsida\",\"Magnoliopsida\",\"Magnoliopsida\",\"Magnoliopsida\",\"Magnoliopsida\",\"Magnoliopsida\",\"Magnoliopsida\",\"Magnoliopsida\",\"Magnoliopsida\",\"Magnoliopsida\",\"Magnoliopsida\",\"Magnoliopsida\",\"Magnoliopsida\",\"Magnoliopsida\",\"Magnoliopsida\",\"Magnoliopsida\",\"Magnoliopsida\",\"Magnoliopsida\",\"Magnoliopsida\",\"Magnoliopsida\",\"Magnoliopsida\",\"Magnoliopsida\",\"Magnoliopsida\",\"Magnoliopsida\",\"Magnoliopsida\",\"Magnoliopsida\",\"Magnoliopsida\",\"Magnoliopsida\",\"Magnoliopsida\",\"Magnoliopsida\",\"Magnoliopsida\",\"Magnoliopsida\",\"Magnoliopsida\",\"Magnoliopsida\",\"Magnoliopsida\",\"Magnoliopsida\",\"Magnoliopsida\",\"Magnoliopsida\",\"Magnoliopsida\",\"Magnoliopsida\",\"Magnoliopsida\",\"Magnoliopsida\",\"Magnoliopsida\",\"Magnoliopsida\",\"Magnoliopsida\",\"Magnoliopsida\",\"Magnoliopsida\",\"Magnoliopsida\",\"Magnoliopsida\",\"Magnoliopsida\",\"Magnoliopsida\",\"Magnoliopsida\",\"Magnoliopsida\",\"Magnoliopsida\",\"Magnoliopsida\",\"Magnoliopsida\",\"Magnoliopsida\",\"Magnoliopsida\",\"Magnoliopsida\",\"Magnoliopsida\",\"Magnoliopsida\",\"Magnoliopsida\",\"Magnoliopsida\",\"Magnoliopsida\",\"Magnoliopsida\",\"Magnoliopsida\",\"Magnoliopsida\",\"Magnoliopsida\",\"Magnoliopsida\",\"Magnoliopsida\",\"Magnoliopsida\",\"Magnoliopsida\",\"Magnoliopsida\",\"Magnoliopsida\",\"Magnoliopsida\",\"Magnoliopsida\",\"Magnoliopsida\",\"Magnoliopsida\",\"Magnoliopsida\",\"Magnoliopsida\",\"Magnoliopsida\",\"Magnoliopsida\",\"Magnoliopsida\",\"Magnoliopsida\",\"Magnoliopsida\",\"Magnoliopsida\",\"Magnoliopsida\",\"Magnoliopsida\",\"Magnoliopsida\",\"Magnoliopsida\",\"Magnoliopsida\",\"Magnoliopsida\",\"Magnoliopsida\",\"Magnoliopsida\",\"Magnoliopsida\",\"Magnoliopsida\",\"Magnoliopsida\",\"Magnoliopsida\",\"Magnoliopsida\",\"Magnoliopsida\",\"Magnoliopsida\",\"Magnoliopsida\",\"Magnoliopsida\",\"Magnoliopsida\",\"Magnoliopsida\",\"Magnoliopsida\",\"Magnoliopsida\",\"Magnoliopsida\",\"Magnoliopsida\",\"Magnoliopsida\",\"Magnoliopsida\",\"Lycopodiopsida\",\"Lycopodiopsida\",\"Lycopodiopsida\",\"Lycopodiopsida\",\"Lycopodiopsida\",\"Lycopodiopsida\",\"Lycopodiopsida\",\"Lycopodiopsida\",\"Lycopodiopsida\",\"Lycopodiopsida\",\"Lycopodiopsida\",\"Lycopodiopsida\",\"Lycopodiopsida\",\"Lycopodiopsida\",\"Lycopodiopsida\",\"Lycopodiopsida\",\"Lycopodiopsida\",\"Lycopodiopsida\",\"Lycopodiopsida\",\"Lycopodiopsida\",\"Lycopodiopsida\",\"Lycopodiopsida\",\"Lycopodiopsida\",\"Lycopodiopsida\",\"Lycopodiopsida\",\"Lycopodiopsida\",\"Lycopodiopsida\",\"Lycopodiopsida\",\"Lycopodiopsida\",\"Lycopodiopsida\",\"Lycopodiopsida\",\"Lycopodiopsida\",\"Lycopodiopsida\",\"Lycopodiopsida\",\"Lycopodiopsida\",\"Lycopodiopsida\",\"Lycopodiopsida\",\"Lycopodiopsida\",\"Lycopodiopsida\",\"Lycopodiopsida\",\"Lycopodiopsida\",\"Lycopodiopsida\",\"Lycopodiopsida\",\"Lycopodiopsida\",\"Lycopodiopsida\",\"Lycopodiopsida\",\"Lycopodiopsida\",\"Lycopodiopsida\",\"Lycopodiopsida\",\"Lycopodiopsida\",\"Lycopodiopsida\",\"Lycopodiopsida\",\"Lycopodiopsida\",\"Lycopodiopsida\",\"Lycopodiopsida\",\"Lycopodiopsida\",\"Lycopodiopsida\",\"Lycopodiopsida\",\"Lycopodiopsida\",\"Lycopodiopsida\",\"Lycopodiopsida\",\"Lycopodiopsida\",\"Lycopodiopsida\",\"Lycopodiopsida\",\"Lycopodiopsida\",\"Lycopodiopsida\",\"Lycopodiopsida\",\"Lycopodiopsida\",\"Lycopodiopsida\",\"Lycopodiopsida\",\"Lycopodiopsida\",\"Lycopodiopsida\",\"Lycopodiopsida\",\"Lycopodiopsida\",\"Lycopodiopsida\",\"Lycopodiopsida\",\"Lycopodiopsida\",\"Lycopodiopsida\",\"Lycopodiopsida\",\"Lycopodiopsida\",\"Lycopodiopsida\",\"Lycopodiopsida\",\"Lycopodiopsida\",\"Lycopodiopsida\",\"Lycopodiopsida\",\"Lycopodiopsida\",\"Lycopodiopsida\",\"Lycopodiopsida\",\"Lycopodiopsida\",\"Lycopodiopsida\",\"Lycopodiopsida\",\"Lycopodiopsida\",\"Lycopodiopsida\",\"Lycopodiopsida\",\"Lycopodiopsida\",\"Lycopodiopsida\",\"Lycopodiopsida\",\"Lycopodiopsida\",\"Lycopodiopsida\",\"Lycopodiopsida\",\"Lycopodiopsida\",\"Lycopodiopsida\",\"Lycopodiopsida\",\"Lycopodiopsida\",\"Lycopodiopsida\",\"Lycopodiopsida\",\"Lycopodiopsida\",\"Lycopodiopsida\",\"Lycopodiopsida\",\"Lycopodiopsida\",\"Lycopodiopsida\",\"Lycopodiopsida\",\"Lycopodiopsida\",\"Lycopodiopsida\",\"Lycopodiopsida\",\"Lycopodiopsida\",\"Lycopodiopsida\",\"Lycopodiopsida\",\"Lycopodiopsida\",\"Lycopodiopsida\",\"Lycopodiopsida\",\"Lycopodiopsida\",\"Lycopodiopsida\",\"Lycopodiopsida\",\"Lycopodiopsida\",\"Lycopodiopsida\",\"Magnoliopsida\",\"Magnoliopsida\",\"Magnoliopsida\",\"Magnoliopsida\",\"Magnoliopsida\",\"Magnoliopsida\",\"Magnoliopsida\",\"Magnoliopsida\",\"Magnoliopsida\",\"Magnoliopsida\",\"Magnoliopsida\",\"Magnoliopsida\",\"Magnoliopsida\",\"Magnoliopsida\",\"Magnoliopsida\",\"Magnoliopsida\",\"Magnoliopsida\",\"Magnoliopsida\",\"Magnoliopsida\",\"Magnoliopsida\",\"Magnoliopsida\",\"Magnoliopsida\",\"Magnoliopsida\",\"Magnoliopsida\",\"Magnoliopsida\",\"Magnoliopsida\",\"Magnoliopsida\",\"Magnoliopsida\",\"Magnoliopsida\",\"Magnoliopsida\",\"Magnoliopsida\",\"Magnoliopsida\",\"Magnoliopsida\",\"Magnoliopsida\",\"Magnoliopsida\",\"Magnoliopsida\",\"Magnoliopsida\",\"Magnoliopsida\",\"Magnoliopsida\",\"Magnoliopsida\",\"Magnoliopsida\",\"Magnoliopsida\",\"Magnoliopsida\",\"Magnoliopsida\",\"Magnoliopsida\",\"Magnoliopsida\",\"Magnoliopsida\",\"Magnoliopsida\",\"Magnoliopsida\",\"Magnoliopsida\",\"Magnoliopsida\",\"Magnoliopsida\",\"Magnoliopsida\",\"Magnoliopsida\",\"Magnoliopsida\",\"Magnoliopsida\",\"Magnoliopsida\",\"Magnoliopsida\",\"Magnoliopsida\",\"Magnoliopsida\",\"Magnoliopsida\",\"Magnoliopsida\",\"Magnoliopsida\",\"Magnoliopsida\",\"Magnoliopsida\",\"Magnoliopsida\",\"Magnoliopsida\",\"Magnoliopsida\",\"Magnoliopsida\",\"Magnoliopsida\",\"Magnoliopsida\",\"Magnoliopsida\",\"Magnoliopsida\",\"Magnoliopsida\",\"Magnoliopsida\",\"Magnoliopsida\",\"Magnoliopsida\",\"Magnoliopsida\",\"Magnoliopsida\",\"Magnoliopsida\",\"Magnoliopsida\",\"Magnoliopsida\",\"Magnoliopsida\",\"Magnoliopsida\",\"Magnoliopsida\",\"Magnoliopsida\",\"Magnoliopsida\",\"Magnoliopsida\",\"Magnoliopsida\",\"Magnoliopsida\",\"Magnoliopsida\",\"Magnoliopsida\",\"Magnoliopsida\",\"Magnoliopsida\",\"Magnoliopsida\",\"Magnoliopsida\",\"Magnoliopsida\",\"Magnoliopsida\",\"Magnoliopsida\",\"Magnoliopsida\",\"Magnoliopsida\",\"Magnoliopsida\",\"Magnoliopsida\",\"Magnoliopsida\",\"Magnoliopsida\",\"Magnoliopsida\",\"Magnoliopsida\",\"Magnoliopsida\",\"Magnoliopsida\",\"Magnoliopsida\",\"Magnoliopsida\",\"Magnoliopsida\",\"Magnoliopsida\",\"Magnoliopsida\",\"Magnoliopsida\",\"Magnoliopsida\",\"Magnoliopsida\",\"Magnoliopsida\",\"Magnoliopsida\",\"Magnoliopsida\",\"Magnoliopsida\",\"Magnoliopsida\",\"Magnoliopsida\",\"Magnoliopsida\",\"Magnoliopsida\",\"Magnoliopsida\",\"Magnoliopsida\",\"Magnoliopsida\",\"Magnoliopsida\",\"Magnoliopsida\",\"Magnoliopsida\",\"Magnoliopsida\",\"Magnoliopsida\",\"Magnoliopsida\",\"Magnoliopsida\",\"Magnoliopsida\",\"Magnoliopsida\",\"Magnoliopsida\",\"Magnoliopsida\",\"Magnoliopsida\",\"Magnoliopsida\",\"Magnoliopsida\",\"Magnoliopsida\",\"Magnoliopsida\",\"Magnoliopsida\",\"Magnoliopsida\",\"Magnoliopsida\",\"Magnoliopsida\",\"Magnoliopsida\",\"Magnoliopsida\",\"Magnoliopsida\",\"Magnoliopsida\",\"Magnoliopsida\",\"Magnoliopsida\",\"Magnoliopsida\",\"Magnoliopsida\",\"Magnoliopsida\",\"Magnoliopsida\",\"Magnoliopsida\",\"Magnoliopsida\",\"Magnoliopsida\",\"Magnoliopsida\",\"Magnoliopsida\",\"Magnoliopsida\",\"Magnoliopsida\",\"Magnoliopsida\",\"Magnoliopsida\",\"Magnoliopsida\",\"Magnoliopsida\",\"Magnoliopsida\",\"Magnoliopsida\",\"Magnoliopsida\",\"Magnoliopsida\",\"Magnoliopsida\",\"Magnoliopsida\",\"Magnoliopsida\",\"Magnoliopsida\",\"Magnoliopsida\",\"Magnoliopsida\",\"Magnoliopsida\",\"Magnoliopsida\",\"Magnoliopsida\",\"Magnoliopsida\",\"Magnoliopsida\",\"Magnoliopsida\",\"Magnoliopsida\",\"Magnoliopsida\",\"Magnoliopsida\",\"Magnoliopsida\",\"Magnoliopsida\",\"Magnoliopsida\",\"Magnoliopsida\",\"Magnoliopsida\",\"Magnoliopsida\",\"Magnoliopsida\",\"Magnoliopsida\",\"Magnoliopsida\",\"Magnoliopsida\",\"Magnoliopsida\",\"Magnoliopsida\",\"Magnoliopsida\",\"Magnoliopsida\",\"Magnoliopsida\",\"Magnoliopsida\",\"Magnoliopsida\",\"Magnoliopsida\",\"Magnoliopsida\",\"Magnoliopsida\",\"Magnoliopsida\",\"Magnoliopsida\",\"Magnoliopsida\",\"Magnoliopsida\",\"Magnoliopsida\",\"Magnoliopsida\",\"Magnoliopsida\",\"Magnoliopsida\",\"Magnoliopsida\",\"Magnoliopsida\",\"Magnoliopsida\",\"Magnoliopsida\",\"Magnoliopsida\",\"Magnoliopsida\",\"Magnoliopsida\",\"Magnoliopsida\",\"Magnoliopsida\",\"Magnoliopsida\",\"Magnoliopsida\",\"Magnoliopsida\",\"Magnoliopsida\",\"Magnoliopsida\",\"Magnoliopsida\",\"Magnoliopsida\",\"Magnoliopsida\",\"Magnoliopsida\",\"Magnoliopsida\",\"Magnoliopsida\",\"Magnoliopsida\",\"Magnoliopsida\",\"Magnoliopsida\",\"Magnoliopsida\",\"Magnoliopsida\",\"Magnoliopsida\",\"Magnoliopsida\",\"Magnoliopsida\",\"Magnoliopsida\",\"Magnoliopsida\",\"Magnoliopsida\",\"Magnoliopsida\",\"Magnoliopsida\",\"Magnoliopsida\",\"Magnoliopsida\",\"Magnoliopsida\",\"Magnoliopsida\",\"Magnoliopsida\",\"Magnoliopsida\",\"Magnoliopsida\",\"Magnoliopsida\",\"Magnoliopsida\",\"Magnoliopsida\",\"Magnoliopsida\",\"Magnoliopsida\",\"Magnoliopsida\",\"Magnoliopsida\",\"Magnoliopsida\",\"Magnoliopsida\",\"Magnoliopsida\",\"Magnoliopsida\",\"Magnoliopsida\",\"Magnoliopsida\",\"Magnoliopsida\",\"Magnoliopsida\",\"Magnoliopsida\",\"Magnoliopsida\",\"Magnoliopsida\",\"Magnoliopsida\",\"Magnoliopsida\",\"Magnoliopsida\",\"Magnoliopsida\",\"Magnoliopsida\",\"Magnoliopsida\",\"Magnoliopsida\",\"Magnoliopsida\",\"Magnoliopsida\",\"Magnoliopsida\",\"Magnoliopsida\",\"Magnoliopsida\",\"Magnoliopsida\",\"Magnoliopsida\",\"Magnoliopsida\",\"Magnoliopsida\",\"Magnoliopsida\",\"Magnoliopsida\",\"Magnoliopsida\",\"Magnoliopsida\",\"Magnoliopsida\",\"Magnoliopsida\",\"Magnoliopsida\",\"Magnoliopsida\",\"Magnoliopsida\",\"Magnoliopsida\",\"Magnoliopsida\",\"Magnoliopsida\",\"Magnoliopsida\",\"Magnoliopsida\",\"Magnoliopsida\",\"Magnoliopsida\",\"Magnoliopsida\",\"Magnoliopsida\",\"Magnoliopsida\",\"Magnoliopsida\",\"Magnoliopsida\",\"Magnoliopsida\",\"Magnoliopsida\",\"Magnoliopsida\",\"Magnoliopsida\",\"Magnoliopsida\",\"Magnoliopsida\",\"Magnoliopsida\",\"Magnoliopsida\",\"Magnoliopsida\",\"Magnoliopsida\",\"Magnoliopsida\",\"Magnoliopsida\",\"Magnoliopsida\",\"Magnoliopsida\",\"Magnoliopsida\",\"Magnoliopsida\",\"Magnoliopsida\",\"Magnoliopsida\",\"Magnoliopsida\",\"Magnoliopsida\",\"Magnoliopsida\",\"Magnoliopsida\",\"Magnoliopsida\",\"Magnoliopsida\",\"Magnoliopsida\",\"Magnoliopsida\",\"Magnoliopsida\",\"Magnoliopsida\",\"Magnoliopsida\",\"Magnoliopsida\",\"Magnoliopsida\",\"Magnoliopsida\",\"Magnoliopsida\",\"Magnoliopsida\",\"Magnoliopsida\",\"Magnoliopsida\",\"Magnoliopsida\",\"Magnoliopsida\",\"Magnoliopsida\",\"Magnoliopsida\",\"Magnoliopsida\",\"Magnoliopsida\",\"Magnoliopsida\",\"Magnoliopsida\",\"Magnoliopsida\",\"Magnoliopsida\",\"Magnoliopsida\",\"Magnoliopsida\",\"Magnoliopsida\",\"Magnoliopsida\",\"Magnoliopsida\",\"Magnoliopsida\",\"Magnoliopsida\",\"Magnoliopsida\",\"Magnoliopsida\",\"Magnoliopsida\",\"Magnoliopsida\",\"Magnoliopsida\",\"Magnoliopsida\",\"Magnoliopsida\",\"Magnoliopsida\",\"Magnoliopsida\",\"Magnoliopsida\",\"Magnoliopsida\",\"Magnoliopsida\",\"Magnoliopsida\",\"Magnoliopsida\",\"Magnoliopsida\",\"Magnoliopsida\",\"Magnoliopsida\",\"Magnoliopsida\",\"Magnoliopsida\",\"Magnoliopsida\",\"Magnoliopsida\",\"Magnoliopsida\",\"Magnoliopsida\",\"Magnoliopsida\",\"Magnoliopsida\",\"Magnoliopsida\",\"Magnoliopsida\",\"Magnoliopsida\",\"Magnoliopsida\",\"Magnoliopsida\",\"Magnoliopsida\",\"Magnoliopsida\",\"Magnoliopsida\",\"Magnoliopsida\",\"Magnoliopsida\",\"Magnoliopsida\",\"Magnoliopsida\",\"Magnoliopsida\",\"Magnoliopsida\",\"Magnoliopsida\",\"Magnoliopsida\",\"Magnoliopsida\",\"Magnoliopsida\",\"Magnoliopsida\",\"Magnoliopsida\",\"Magnoliopsida\",\"Magnoliopsida\",\"Magnoliopsida\",\"Magnoliopsida\",\"Magnoliopsida\",\"Magnoliopsida\",\"Magnoliopsida\",\"Magnoliopsida\",\"Magnoliopsida\",\"Magnoliopsida\",\"Magnoliopsida\",\"Magnoliopsida\",\"Magnoliopsida\",\"Magnoliopsida\"],\"Color\":[\"Blanca\",\"Blanca\",\"Blanca\",\"Blanca\",\"Blanca\",\"Blanca\",\"Blanca\",\"Blanca\",\"Blanca\",\"Blanca\",\"Blanca\",\"Verdosa\",\"Verdosa\",\"Verdosa\",\"Verdosa\",\"Verdosa\",\"Verdosa\",\"Verdosa\",\"Verdosa\",\"Verdosa\",\"Verdosa\",\"Verdosa\",\"Amarillenta\",\"Amarillenta\",\"Amarillenta\",\"Amarillenta\",\"Amarillenta\",\"Amarillenta\",\"Amarillenta\",\"Amarillenta\",\"Amarillenta\",\"Amarillenta\",\"Amarillenta\",\"Blanca\",\"Blanca\",\"Blanca\",\"Blanca\",\"Blanca\",\"Blanca\",\"Blanca\",\"Blanca\",\"P\\u00farpura\",\"P\\u00farpura\",\"Blanca\",\"Blanca\",\"Blanca\",\"Blanca\",\"Amarillenta\",\"Amarillenta\",\"Amarillenta\",\"Amarillenta\",\"Amarillenta\",\"Amarillenta\",\"Amarillenta\",\"Rosa\",\"Rosa\",\"Rosa\",\"Violeta\",\"Violeta\",\"Violeta\",\"Violeta\",\"Rosa\",\"Rosa\",\"Rosa\",\"Rosa\",\"Rosa\",\"Rosa\",\"Pardo\",\"Pardo\",\"Pardo\",\"Amarillenta, pudiendo variar a anaranjado rojizo\",\"Amarillenta, pudiendo variar a anaranjado rojizo\",\"Amarillenta, pudiendo variar a anaranjado rojizo\",\"Amarillenta, pudiendo variar a anaranjado rojizo\",\"Amarillenta, pudiendo variar a anaranjado rojizo\",\"Amarillenta, pudiendo variar a anaranjado rojizo\",\"Pardo\",\"Pardo\",\"Blanca\",\"Blanca\",\"Amarillenta\",\"Amarillenta\",\"Purpura\",\"Purpura\",\"Purpura\",\"Purpura\",\"Purpura\",\"Purpura\",\"Amarillenta\",\"Blanca\",\"Blanca\",\"Lila\",\"Lila\",\"Morada\",\"Morada\",\"Azul\",\"Azul\",\"Amarillenta\",\"Amarillenta\",\"Rosadas con verde\",\"Amarilla\",\"Verde\",\"Verde\",\"Amarilla\",\"Blanco con lavanda palido\",\"Amarilla\",\"Amarilla\",\"Verde amarillento\",\"Verde amarillento\",\"Amarilla\",\"Amarilla\",\"Blanca\",\"Blanca\",\"Verdosa\",\"Verdosa\",\"Verdosa\",\"Verdosa\",\"Verdosa\",\"Verdosa\",\"Verdosa\",\"Verdosa\",\"Verdosa\",\"Amarilla\",\"Amarilla\",\"Amarilla\",\"Amarilla\",\"Amarilla\",\"Amarilla\",\"Amarilla\",\"Amarilla\",\"Amarilla\",\"Amarilla\",\"Amarilla\",\"lila\",\"Azul y blanco\",\"Azul y blanco\",\"Blanco a rosa\",\"Blanco a rosa\",\"Blanco a rosa\",\"Blanco a rosa\",\"Blanco a rosa\",\"Blanco a rosa\",\"Blanco a rosa\",\"Blanco a rosa\",\"Blanco a rosa\",\"Blanco a rosa\",\"Blanco a rosa\",\"Blanco a rosa\",\"Blanco a rosa\",\"Pardo obscuro\",\"Pardo obscuro\",\"Pardo obscuro\",\"Pardo obscuro\",\"Pardo obscuro\",\"Pardo obscuro\",\"Anaranjada\",\"Anaranjada\",\"Amarilla\",\"Blanco a rosa\",\"Blanco a rosa\",\"Blanco a rosa\",\"Blanco a rosa\",\"Blanco a rosa\",\" \",\"Blanco a rosa\",\"Blanco a rosa\",\"Blanco a rosa\",\"Blanco a rosa\",\"Blanco a rosa\",\"Blanco a rosa\",\"Blanco a rosa\",\"Blanco a rosa\",\"Blanco a rosa\",\"Blanco a rosa\",\"Blanco a rosa\",\"Blanco a rosa\",\"Blanco a rosa\",\"Blanco a rosa\",\"Blanco a rosa\",\"Blanco a rosa\",\"Blanco a rosa\",\"Blanco a rosa\",\"Blanco a rosa\",\"Blanco a rosa\",\"Blanco a rosa\",\"Blanco a rosa\",\"Blanco a rosa\",\"Blanco a rosa\",\"Blanco a rosa\",\"Blanco a rosa\",\"Blanco a rosa\",\"Blanco a rosa\",\"Blanco a rosa\",\"Blanco a rosa\",\"Blanco a rosa\",\"Blanco a rosa\",\"Blanco a rosa\",\"Blanco a rosa\",\"Blanco a rosa\",\"Blanco a rosa\",\"Blanco a rosa\",\"Blanco a rosa\",\"Blanco a rosa\",\"Blanco a rosa\",\"Blanco a rosa\",\"Blanco a rosa\",\"Blanco a rosa\",\"Blanco a rosa\",\"Blanco a rosa\",\"Blanco a rosa\",\"Blanco a rosa\",\"Blanco a rosa\",\"Blanco a rosa\",\"Blanco a rosa\",\"Blanco a rosa\",\"Blanco a rosa\",\"Blanco a rosa\",\"Blanco a rosa\",\"Blanco a rosa\",\"Blanco a rosa\",\"Blanco a rosa\",\"Blanco a rosa\",\"Blanco a rosa\",\"Blanco a rosa\",\"Blanco a rosa\",\"Blanco a rosa\",\"Blanco a rosa\",\"Blanco a rosa\",\"Blanco a rosa\",\"Blanco a rosa\",\"Blanco a rosa\",\"Blanco a rosa\",\"Blanco a rosa\",\"Blanco a rosa\",\"Blanco a rosa\",\"Blanco a rosa\",\"Blanco a rosa\",\"Blanco a rosa\",\"Blanco a rosa\",\"Blanco a rosa\",\"Blanco a rosa\",\"Blanco a rosa\",\"Blanco a rosa\",\"Blanco a rosa\",\"Blanco a rosa\",\"Blanco a rosa\",\"Blanco a rosa\",\"Blanco a rosa\",\"Blanco a rosa\",\"Blanco a rosa\",\"Blanco a rosa\",\"Blanco a rosa\",\"Blanco a rosa\",\"Blanco a rosa\",\"Blanco a rosa\",\"Blanco a rosa\",\"Blanco a rosa\",\"Blanco a rosa\",\"Blanco a rosa\",\"Blanco a rosa\",\"Blanco a rosa\",\"Blanco a rosa\",\"Blanco a rosa\",\"Blanco a rosa\",\"Blanco a rosa\",\"Blanco a rosa\",\"Blanco a rosa\",\"Blanco a rosa\",\"Blanco a rosa\",\"Blanco a rosa\",\"Blanco a rosa\",\"Blanco a rosa\",\"Blanco a rosa\",\"Blanco a rosa\",\"Blanco a rosa\",\"Blanco a rosa\",\"Blanco a rosa\",\"Blanco a rosa\",\"Blanco a rosa\",\"Blanco a rosa\",\"Blanco a rosa\",\"Blanco a rosa\",\"Blanco a rosa\",\"Blanco a rosa\",\"Blanco a rosa\",\"Blanco a rosa\",\"Blanco a rosa\",\"Blanco a rosa\",\"Blanco a rosa\",\"Blanco a rosa\",\"Blanco a rosa\",\"Blanco a rosa\",\"Blanco a rosa\",\"Blanco a rosa\",\"Blanco a rosa\",\"Blanco a rosa\",\"Blanco a rosa\",\"Blanco a rosa\",\"Blanco a rosa\",\"Blanco a rosa\",\"Blanco a rosa\",\"Blanco a rosa\",\"Blanco a rosa\",\"Blanco a rosa\",\"Blanco a rosa\",\"Blanco a rosa\",\"Blanco a rosa\",\"Blanco a rosa\",\"Blanco a rosa\",\"Blanco a rosa\",\"Blanco a rosa\",\"Blanco a rosa\",\"Blanco a rosa\",\"Blanco a rosa\",\"Blanco a rosa\",\"Blanco a rosa\",\"Blanco a rosa\",\"Blanco a rosa\",\"Blanco a rosa\",\"Blanco a rosa\",\"Blanco a rosa\",\"Blanco a rosa\",\"Blanco a rosa\",\"Blanco a rosa\",\"Blanco a rosa\",\"Blanco a rosa\",\"Blanco a rosa\",\"Blanco a rosa\",\"Blanco a rosa\",\"Blanco a rosa\",\"Blanco a rosa\",\"Blanco a rosa\",\"Blanco a rosa\",\"Blanco a rosa\",\"Blanco a rosa\",\"Blanco a rosa\",\"Blanco a rosa\",\"Blanco a rosa\",\"Blanco a rosa\",\"Blanco a rosa\",\"Blanco a rosa\",\"Blanco a rosa\",\"Blanco a rosa\",\"Blanco a rosa\",\"Blanco a rosa\",\"Blanco a rosa\",\"Blanco a rosa\",\"Blanco a rosa\",\"Blanco a rosa\",\"Blanco a rosa\",\"Blanco a rosa\",\"Blanco a rosa\",\"Blanco a rosa\",\"Blanco a rosa\",\"Blanco a rosa\",\"Blanco a rosa\",\"Blanco a rosa\",\"Blanco a rosa\",\"Blanco a rosa\",\"Blanco a rosa\",\"Blanco a rosa\",\"Blanco a rosa\",\"Blanco a rosa\",\"Blanco a rosa\",\"Blanco a rosa\",\"Blanco a rosa\",\"Blanco a rosa\",\"Blanco a rosa\",\"Blanco a rosa\",\"Blanco a rosa\",\"Blanco a rosa\",\"Blanco a rosa\",\"Blanco a rosa\",\"Blanco a rosa\",\"Blanco a rosa\",\"Blanco a rosa\",\"Blanco a rosa\",\"Blanco a rosa\",\"Blanco a rosa\",\"Blanco a rosa\",\"Blanco a rosa\",\"Blanco a rosa\",\"Blanco a rosa\",\"Blanco a rosa\",\"Blanco a rosa\",\"Blanco a rosa\",\"Blanco a rosa\",\"Blanco a rosa\",\"Blanco a rosa\",\"Blanco a rosa\",\"Blanco a rosa\",\"Blanco a rosa\",\"Blanco a rosa\",\"Blanco a rosa\",\"Blanco a rosa\",\"Blanco a rosa\",\"Blanco a rosa\",\"Blanco a rosa\",\"Blanco a rosa\",\"Blanco a rosa\",\"Blanco a rosa\",\"Blanco a rosa\",\"Blanco a rosa\",\"Blanco a rosa\",\"Blanco a rosa\",\"Blanco a rosa\",\"Blanco a rosa\",\"Blanco a rosa\",\"Blanco a rosa\",\"Blanco a rosa\",\"Blanco a rosa\",\"Blanco a rosa\",\"Blanca\",\"Blanca\",\"Blanca o verde\",\"Blanca o verde\",\"Blanca o verde\",\"Blanca o verde\",\"Blanca a rosa\",\"Blanca a rosa\",\"Blanca a rosa\",\"Blanca a rosa\",\"Blanca a rosa\",\"Blanca a rosa\",\"Blanca a rosa\",\"Blanca a rosa\",\"Blanca a rosa\",\"Blanca a rosa\",\"Blanca a rosa\",\"Blanca a rosa\",\"Blanca\",\"Blanca\",\"Blanca\",\"Blanca\",\"Blanca\",\"Blanca\",\"Amarilla\",\"Amarilla\",\"Amarilla\",\"Blanca\",\"Blanca\",\"Blanca\",\"Amarilla\",\"Amarilla\",\"Morada\",\"Morada\",\"Morada\",\"Amarilla-verdosas\",\"Amarilla-verdosas\",\"Amarilla-verdosas\",\"Blanco-amarillento\",\"Blanco-amarillento\",\"Blanco-amarillento\",\"Blanca\",\"Blanca a lila\",\"Blanca a lila\",\"Blanca\",\"Blanca\",\"Blanca a lila\",\"Blanca\",\"Blanca a lila\",\"Blanca a lila\",\"Blanca\",\"Blanca\",\"Blanca\",\"Blanca\",\"Blanca\",\"Blanca\",\"Blanco-amarillento\",\"Blanco-amarillento\",\"Blanco-amarillento\",\"Lavanda\",\"Lavanda\",\"lavanda \",\"Lavanda a blanca\",\"Lavanda a blanca\",\"Lavanda a blanca\",\"Blanca\",\"Blanca\",\"Blanca\",\"Blanca\",\"Blanca\",\"Blanca\",\"Amarillenta\",\"Amarillenta\",\"Amarillenta\",\"Amarillenta\",\"Amarillenta\",\"Amarillenta\",\"Blanca\",\"Blanca\",\"Blanca\",\"Blanca\",\"Blanca\",\"Blanca\",\"Roja\",\"Roja\",\"Roja\",\"Blanco a rosa\",\"Blanco a rosa\",\"Blanco a rosa\",\"Blanca\",\"Blanca\",\"Blanca\",\"Verdes\",\"Verdes\",\"Verdes\",\"Amarillenta\",\"Amarillenta\",\"Amarillenta\",\"Amarillenta\",\"Amarillenta\",\"Amarillenta\",\"Blanca\",\"Blanca\",\"Rosa  \",\"Rosa  \",\"Amarilla\",\"Amarilla\",\"Rosada\",\"Rosada\",\"Rosada\",\"Rosada\",\"Rosada\",\"Rosada\",\"Amarilla\",\"Amarilla\",\"Amarilla\",\"Amarilla\",\"Amarilla\",\"Azul a p\\u00farpura\",\"Azul a p\\u00farpura\",\"Azul a p\\u00farpura\",\"Lavanda-rosada\",\"Lavanda-rosada\",\"Lavanda-rosada\",\"Azul brillante o lila, o el tubo blanco y los lobos lila o azules\",\"Azul brillante o lila, o el tubo blanco y los lobos lila o azules\",\"Azul claro\",\"Azul o azul p\\u00e1lido, raramente blanca\",\"Azul o azul p\\u00e1lido, raramente blanca\",\"Azul o azul p\\u00e1lido, raramente blanca\",\"Blanca\",\"Blanca\",\"Blanca\",\"Blanca\",\"Blanca\",\"Blanca\",\"Blanca\",\"Blanca\",\"Blanca\",\"Blanca\",\"Blanca\",\"Blanca\",\"Blanca\",\"Blanca\",\"Blanca\",\"Blanca\",\"Blanca\",\"Blanca\",\"Blanca\",\"Blanca a amarillenta\",\"Blanca a amarillenta\",\"Blanca a amarillenta\",\"Blanca a amarillenta\",\"Blanca a crema\",\"Blanca a crema\",\"Blanca a crema\",\"Blanca a crema\",\"Blanca a crema\",\"Blanca a crema\",\"Amarilla\",\"Amarilla\",\"Amarilla\",\"Amarilla\",\"Amarilla\",\"Amarilla\",\"Blanca a rosada\",\"Blanca a rosada\",\"Blanca a rosada\",\"Blanca a rosada\",\"Blanca a rosada\",\"Blanca a rosada\",\"Blanca o lila\",\"Blanca o lila\",\"Blanca o lila\",\"Blanca o lila\",\"Blanca o lila\",\"Blanca o lila\",\"Blanca o lila\",\"Blanca o lila\",\"Blanca o morada\",\"Blanca o morada\",\"Blanca o naranja p\\u00e1lida\",\"Blanca o naranja p\\u00e1lida\",\"Blanca o p\\u00farpura \",\"Blanca o p\\u00farpura \",\"Blanca, a veces p\\u00farpura dentro del tubo floral\",\"Blanca, a veces p\\u00farpura dentro del tubo floral\",\"Blanca, a veces te\\u00f1ida de lila\",\"Blanca, a veces te\\u00f1ida de rosado\",\"Blanca, a veces te\\u00f1ida de rosado\",\"Blanca, a veces te\\u00f1ida de rosado\",\"Amarilla\",\"Amarilla\",\"Amarilla\",\"Amarilla\",\"Amarilla\",\"Amarilla\",\"Rosa\",\"Blanca\",\"Blanca\",\"Blanco-amarillentos o rosados\",\"Blanca\",\"Blanca\",\"Crema\",\"Blanca\",\"Blanca\",\"Rosada\",\"Rosada\",\"azul\",\"azul\",\"lila\",\"lila\",\"celeste\",\"celeste\",\"Violeta\",\"Violeta\",\"Violeta\",\"Amarilla-verdosa\",\"Amarilla-verdosa\",\"Amarilla-verdosa\",\"Amarilla-verdosa\",\"Amarilla-verdosa\",\"Amarilla-verdosa\",\"Rosa\",\"Naranja\",\"Amarilla\",\"Verdosa, crema o blanca\",\"Violeta\",\"Violeta\",\"Blanco a rosa\",\"Blanco a rosa\",\"Blanco a rosa\",\"Blanco a rosa\",\"Blanco a rosa\",\" \",\"Blanco a rosa\",\"Blanco a rosa\",\"Blanco a rosa\",\"Blanco a rosa\",\"Blanco a rosa\",\"Blanco a rosa\",\"Blanco a rosa\",\"Blanco a rosa\",\"Blanco a rosa\",\"Blanco a rosa\",\"Blanco a rosa\",\"Blanco a rosa\",\"Blanco a rosa\",\"Blanco a rosa\",\"Blanco a rosa\",\"Blanco a rosa\",\"Blanco a rosa\",\"Blanco a rosa\",\"Blanco a rosa\",\"Blanco a rosa\",\"Blanco a rosa\",\"Blanco a rosa\",\"Blanco a rosa\",\"Blanco a rosa\",\"Blanco a rosa\",\"Blanco a rosa\",\"Blanco a rosa\",\"Blanco a rosa\",\"Blanco a rosa\",\"Blanco a rosa\",\"Blanco a rosa\",\"Blanco a rosa\",\"Blanco a rosa\",\"Blanco a rosa\",\"Blanco a rosa\",\"Blanco a rosa\",\"Blanco a rosa\",\"Blanco a rosa\",\"Blanco a rosa\",\"Blanco a rosa\",\"Blanco a rosa\",\"Blanco a rosa\",\"Blanco a rosa\",\"Blanco a rosa\",\"Blanco a rosa\",\"Blanco a rosa\",\"Blanco a rosa\",\"Blanco a rosa\",\"Blanco a rosa\",\"Blanco a rosa\",\"Blanco a rosa\",\"Blanco a rosa\",\"Blanco a rosa\",\"Blanco a rosa\",\"Blanco a rosa\",\"Blanco a rosa\",\"Blanco a rosa\",\"Blanco a rosa\",\"Blanco a rosa\",\"Blanco a rosa\",\"Blanco a rosa\",\"Blanco a rosa\",\"Blanco a rosa\",\"Blanco a rosa\",\"Blanco a rosa\",\"Blanco a rosa\",\"Blanco a rosa\",\"Blanco a rosa\",\"Blanco a rosa\",\"Blanco a rosa\",\"Blanco a rosa\",\"Blanco a rosa\",\"Blanco a rosa\",\"Blanco a rosa\",\"Blanco a rosa\",\"Blanco a rosa\",\"Blanco a rosa\",\"Blanco a rosa\",\"Blanco a rosa\",\"Blanco a rosa\",\"Blanco a rosa\",\"Blanco a rosa\",\"Blanco a rosa\",\"Blanco a rosa\",\"Blanco a rosa\",\"Blanco a rosa\",\"Blanco a rosa\",\"Blanco a rosa\",\"Blanco a rosa\",\"Blanco a rosa\",\"Blanco a rosa\",\"Blanco a rosa\",\"Blanco a rosa\",\"Blanco a rosa\",\"Blanco a rosa\",\"Blanco a rosa\",\"Blanco a rosa\",\"Blanco a rosa\",\"Blanco a rosa\",\"Blanco a rosa\",\"Blanco a rosa\",\"Blanco a rosa\",\"Blanco a rosa\",\"Blanco a rosa\",\"Blanco a rosa\",\"Blanco a rosa\",\"Blanco a rosa\",\"Blanco a rosa\",\"Blanco a rosa\",\"Blanco a rosa\",\"Blanco a rosa\",\"Blanco a rosa\",\"Blanco a rosa\",\"Blanco a rosa\",\"Blanco a rosa\",\"Blanco a rosa\",\"Blanco a rosa\",\"Blanco a rosa\",\"Blanco a rosa\",\"Blanco a rosa\",\"Amarilla limon\",\"Roja oscura\",\"Roja oscura\",\"Roja oscura\",\"Roja oscura\",\"Roja oscura\",\"Roja oscura\",\"Roja oscura\",\"Roja oscuro\",\"Roja oscuro\",\"Roja oscuro\",\"Azul rey\",\"Azul rey\",\"Azul rey\",\"Azul rey\",\"Azul rey\",\"Azul rey\",\"Azul rey\",\"Fuchsia\",\"Fuchsia\",\"Fuchsia\",\"Fuchsia\",\"Fuchsia\",\"Fuchsia\",\"Fuchsia\",\"Fuchsia\",\"Fuchsia\",\"Fuchsia\",\"Fuchsia\",\"Guinda\",\"Guinda\",\"Guinda\",\"Guinda\",\"Guinda\",\"Guinda\",\"Guinda\",\"Guinda\",\"Guinda\",\"Guinda\",\"Guinda\",\"Guinda\",\"Guinda\",\"Guinda\",\"Guinda\",\"Guinda\",\"Guinda\",\"Guinda\",\"Guinda\",\"Guinda\",\"Guinda\",\"Guinda\",\"Naranja\",\"Naranja\",\"Naranja\",\"Naranja\",\"Naranja\",\"Naranja\",\"Naranja\",\"Naranja\",\"Naranja\",\"Naranja\",\"Naranja\",\"Naranja\",\"Naranja\",\"Naranja\",\"Naranja\",\"Naranja\",\"Naranja\",\"Naranja\",\"Naranja\",\"Naranja\",\"Naranja\",\"Naranja\",\"Naranja\",\"Naranja\",\"Naranja\",\"Naranja\",\"Naranja\",\"Naranja\",\"Naranja\",\"Naranja\",\"Naranja\",\"Naranja\",\"Naranja\",\"Naranja\",\"Naranja\",\"Naranja\",\"Naranja\",\"Naranja\",\"Naranja\",\"Naranja\",\"Naranja\",\"Naranja\",\"Naranja\",\"Naranja\",\"Naranja\",\"Naranja\",\"Naranja\",\"Naranja\",\"Naranja\",\"Naranja\",\"Naranja\",\"Naranja\",\"Naranja\",\"Naranja\",\"Naranja\",\"Naranja\",\"Naranja\",\"Naranja\",\"Naranja\",\"Naranja\",\"Naranja\",\"Naranja\",\"Naranja\",\"Naranja\",\"Naranja\",\"Naranja\",\"Naranja\",\"Naranja\",\"Naranja\",\"Naranja\",\"Naranja\",\"Naranja\",\"Naranja\",\"Naranja\",\"Naranja\",\"Naranja\",\"Naranja\",\"Naranja\",\"Naranja\",\"Naranja\",\"Naranja\",\"Naranja\",\"Naranja\",\"Naranja\",\"Naranja\",\"Naranja\",\"Naranja\",\"Naranja\",\"Naranja\",\"Naranja\",\"Naranja\",\"Naranja\",\"Naranja\",\"Naranja\",\"Naranja\",\"Naranja\",\"Naranja\",\"Naranja\",\"Naranja\",\"Naranja\",\"Naranja\",\"Naranja\",\"Naranja\",\"Naranja\",\"Naranja\",\"Naranja\",\"Naranja\",\"Naranja\",\"Naranja\",\"Naranja\",\"Naranja\",\"Naranja\",\"Naranja\",\"Naranja\",\"Naranja\",\"Naranja\",\"Naranja\",\"Naranja\",\"Naranja\",\"Naranja\",\"Naranja\",\"Naranja\",\"Naranja\",\"Naranja\",\"Naranja\",\"Naranja\",\"Naranja\",\"Naranja\",\"Naranja\",\"Naranja\",\"Naranja\",\"Naranja\",\"Naranja\",\"Naranja\",\"Naranja\",\"Naranja\",\"Naranja\",\"Naranja\",\"Naranja\",\"Naranja\",\"Naranja\",\"Naranja\",\"Naranja\",\"Naranja\",\"Naranja\",\"Naranja\",\"Naranja\",\"Naranja\",\"Naranja\",\"Naranja\",\"Naranja\",\"Naranja\",\"Naranja\",\"Naranja\",\"Naranja\",\"Naranja\",\"Naranja\",\"Naranja\",\"Naranja\",\"Naranja\",\"Naranja\",\"Naranja\",\"Naranja\",\"Naranja\",\"Naranja\",\"Naranja\",\"Naranja\",\"Naranja\",\"Naranja\",\"Naranja\",\"Naranja\",\"Naranja\",\"Naranja\",\"Naranja\",\"Naranja\",\"Naranja\",\"Naranja\",\"Naranja\",\"Naranja\",\"Naranja\",\"Naranja\",\"Naranja\",\"Naranja\",\"Naranja\",\"Naranja\",\"Naranja\",\"Naranja\",\"Naranja\",\"Naranja\",\"Naranja\",\"Naranja\",\"Naranja\",\"Naranja\",\"Naranja\",\"Naranja\",\"Naranja\",\"Naranja\",\"Naranja\",\"Naranja\",\"Naranja\",\"Naranja\",\"Naranja\",\"Naranja\",\"Naranja\",\"Naranja\",\"Naranja\",\"Naranja\",\"Naranja\",\"Naranja\",\"Naranja\",\"Naranja\",\"Naranja\",\"Naranja\",\"Naranja\",\"Naranja\",\"Naranja\",\"Naranja\",\"Naranja\",\"Naranja\",\"Naranja\",\"Naranja\",\"Naranja\",\"Naranja\",\"Naranja\",\"Naranja\",\"Naranja\",\"Naranja\",\"Naranja\",\"Naranja\",\"Naranja\",\"Naranja\",\"Naranja\",\"Naranja\",\"Naranja\",\"Naranja\",\"Naranja\",\"Naranja\",\"Naranja\",\"Naranja\",\"Naranja\",\"Naranja\",\"Naranja\",\"Naranja\",\"Naranja\",\"Naranja\",\"Naranja\",\"Naranja\",\"Naranja\",\"Naranja\",\"Naranja\",\"Naranja\",\"Naranja\",\"Naranja\",\"Naranja\",\"Naranja\",\"Naranja\",\"Naranja\",\"Naranja\",\"Naranja\",\"Naranja\",\"Naranja\",\"Naranja\",\"Naranja\",\"Naranja\",\"Naranja\",\"Naranja\",\"Naranja\",\"Naranja\",\"Naranja\",\"Naranja\",\"Naranja\",\"Naranja\",\"Naranja\",\"Naranja\",\"Naranja\",\"Naranja\",\"Naranja\",\"Naranja\",\"Naranja\",\"Naranja\",\"Naranja\",\"Naranja\",\"Naranja\",\"Naranja\",\"Naranja\",\"Naranja\",\"Naranja\",\"Naranja\",\"Naranja\",\"Naranja\",\"Naranja\",\"Naranja\",\"Naranja\",\"Naranja\",\"Naranja\",\"Naranja\",\"Naranja\",\"Naranja\",\"Guinda\",\"Guinda\",\"Guinda\",\"Guinda\",\"Guinda\",\"Guinda\",\"Guinda\",\"Guinda\",\"Guinda\",\"Guinda\",\"Guinda\",\"Guinda\",\"Guinda\",\"Guinda\",\"Guinda\",\"Guinda\",\"Fuchsia\",\"Fuchsia\",\"Fuchsia\",\"Fuchsia\",\"Fuchsia\",\"Fuchsia\",\"Fuchsia\",\"Fuchsia\",\"Fuchsia\",\"Fuchsia\",\"Fuchsia\",\"Naranja\",\"Naranja\",\"Naranja\",\"Naranja\",\"Naranja\",\"Naranja\",\"Naranja\",\"Naranja\",\"Naranja\",\"Naranja\",\"Naranja\",\"Naranja\",\"Naranja\",\"Naranja\",\"Naranja\",\"Naranja\",\"Naranja\",\"Naranja\",\"Naranja\",\"Naranja\",\"Naranja\",\"Naranja\",\"Naranja\",\"Naranja\",\"Naranja\",\"Naranja\",\"Naranja\",\"Naranja\",\"Naranja\",\"Naranja\",\"Naranja\",\"Naranja\",\"Naranja\",\"Naranja\",\"Naranja\",\"Naranja\",\"Naranja\",\"Naranja\",\"Naranja\",\"Naranja\",\"Naranja\",\"Naranja\",\"Naranja\",\"Naranja\",\"Naranja\",\"Naranja\",\"Naranja\"],\"Divisi\\u00f3n\":[\"Magnoliophyta\",\"Magnoliophyta\",\"Magnoliophyta\",\"Magnoliophyta\",\"Magnoliophyta\",\"Magnoliophyta\",\"Magnoliophyta\",\"Magnoliophyta\",\"Magnoliophyta\",\"Magnoliophyta\",\"Magnoliophyta\",\"Magnoliophyta\",\"Magnoliophyta\",\"Magnoliophyta\",\"Magnoliophyta\",\"Magnoliophyta\",\"Magnoliophyta\",\"Magnoliophyta\",\"Magnoliophyta\",\"Magnoliophyta\",\"Magnoliophyta\",\"Magnoliophyta\",\"Magnoliophyta\",\"Magnoliophyta\",\"Magnoliophyta\",\"Magnoliophyta\",\"Magnoliophyta\",\"Magnoliophyta\",\"Magnoliophyta\",\"Magnoliophyta\",\"Magnoliophyta\",\"Magnoliophyta\",\"Magnoliophyta\",\"Magnoliophyta\",\"Magnoliophyta\",\"Magnoliophyta\",\"Magnoliophyta\",\"Magnoliophyta\",\"Magnoliophyta\",\"Magnoliophyta\",\"Magnoliophyta\",\"Magnoliophyta\",\"Magnoliophyta\",\"Magnoliophyta\",\"Magnoliophyta\",\"Magnoliophyta\",\"Magnoliophyta\",\"Magnoliophyta\",\"Magnoliophyta\",\"Magnoliophyta\",\"Magnoliophyta\",\"Magnoliophyta\",\"Magnoliophyta\",\"Magnoliophyta\",\"Magnoliophyta\",\"Magnoliophyta\",\"Magnoliophyta\",\"Magnoliophyta\",\"Magnoliophyta\",\"Magnoliophyta\",\"Magnoliophyta\",\"Magnoliophyta\",\"Magnoliophyta\",\"Magnoliophyta\",\"Magnoliophyta\",\"Magnoliophyta\",\"Magnoliophyta\",\"Magnoliophyta\",\"Magnoliophyta\",\"Magnoliophyta\",\"Magnoliophyta\",\"Magnoliophyta\",\"Magnoliophyta\",\"Magnoliophyta\",\"Magnoliophyta\",\"Magnoliophyta\",\"Magnoliophyta\",\"Magnoliophyta\",\"Magnoliophyta\",\"Magnoliophyta\",\"Magnoliophyta\",\"Magnoliophyta\",\"Magnoliophyta\",\"Magnoliophyta\",\"Magnoliophyta\",\"Magnoliophyta\",\"Magnoliophyta\",\"Magnoliophyta\",\"Magnoliophyta\",\"Magnoliophyta\",\"Magnoliophyta\",\"Magnoliophyta\",\"Magnoliophyta\",\"Magnoliophyta\",\"Magnoliophyta\",\"Magnoliophyta\",\"Magnoliophyta\",\"Magnoliophyta\",\"Magnoliophyta\",\"Magnoliophyta\",\"Magnoliophyta\",\"Magnoliophyta\",\"Magnoliophyta\",\"Magnoliophyta\",\"Magnoliophyta\",\"Magnoliophyta\",\"Magnoliophyta\",\"Magnoliophyta\",\"Magnoliophyta\",\"Magnoliophyta\",\"Magnoliophyta\",\"Magnoliophyta\",\"Magnoliophyta\",\"Magnoliophyta\",\"Magnoliophyta\",\"Magnoliophyta\",\"Magnoliophyta\",\"Magnoliophyta\",\"Magnoliophyta\",\"Magnoliophyta\",\"Magnoliophyta\",\"Magnoliophyta\",\"Magnoliophyta\",\"Magnoliophyta\",\"Magnoliophyta\",\"Magnoliophyta\",\"Magnoliophyta\",\"Magnoliophyta\",\"Magnoliophyta\",\"Magnoliophyta\",\"Magnoliophyta\",\"Magnoliophyta\",\"Magnoliophyta\",\"Magnoliophyta\",\"Magnoliophyta\",\"Magnoliophyta\",\"Magnoliophyta\",\"Magnoliophyta\",\"Magnoliophyta\",\"Magnoliophyta\",\"Magnoliophyta\",\"Magnoliophyta\",\"Magnoliophyta\",\"Magnoliophyta\",\"Magnoliophyta\",\"Magnoliophyta\",\"Magnoliophyta\",\"Magnoliophyta\",\"Magnoliophyta\",\"Magnoliophyta\",\"Magnoliophyta\",\"Magnoliophyta\",\"Magnoliophyta\",\"Magnoliophyta\",\"Magnoliophyta\",\"Magnoliophyta\",\"Magnoliophyta\",\"Magnoliophyta\",\"Pteridophyta\",\"Pteridophyta\",\"Pteridophyta\",\"Pteridophyta\",\"Pteridophyta\",\"Pteridophyta\",\"Pteridophyta\",\"Pteridophyta\",\"Pteridophyta\",\"Pteridophyta\",\"Pteridophyta\",\"Pteridophyta\",\"Pteridophyta\",\"Pteridophyta\",\"Pteridophyta\",\"Pteridophyta\",\"Pteridophyta\",\"Pteridophyta\",\"Pteridophyta\",\"Pteridophyta\",\"Pteridophyta\",\"Pteridophyta\",\"Pteridophyta\",\"Pteridophyta\",\"Pteridophyta\",\"Pteridophyta\",\"Pteridophyta\",\"Pteridophyta\",\"Pteridophyta\",\"Pteridophyta\",\"Pteridophyta\",\"Pteridophyta\",\"Pteridophyta\",\"Pteridophyta\",\"Pteridophyta\",\"Pteridophyta\",\"Pteridophyta\",\"Pteridophyta\",\"Pteridophyta\",\"Pteridophyta\",\"Pteridophyta\",\"Pteridophyta\",\"Pteridophyta\",\"Pteridophyta\",\"Pteridophyta\",\"Pteridophyta\",\"Pteridophyta\",\"Pteridophyta\",\"Pteridophyta\",\"Pteridophyta\",\"Pteridophyta\",\"Pteridophyta\",\"Pteridophyta\",\"Pteridophyta\",\"Pteridophyta\",\"Pteridophyta\",\"Pteridophyta\",\"Pteridophyta\",\"Pteridophyta\",\"Pteridophyta\",\"Pteridophyta\",\"Pteridophyta\",\"Pteridophyta\",\"Pteridophyta\",\"Pteridophyta\",\"Pteridophyta\",\"Pteridophyta\",\"Pteridophyta\",\"Pteridophyta\",\"Pteridophyta\",\"Pteridophyta\",\"Pteridophyta\",\"Pteridophyta\",\"Pteridophyta\",\"Pteridophyta\",\"Pteridophyta\",\"Pteridophyta\",\"Pteridophyta\",\"Pteridophyta\",\"Pteridophyta\",\"Pteridophyta\",\"Pteridophyta\",\"Pteridophyta\",\"Pteridophyta\",\"Pteridophyta\",\"Pteridophyta\",\"Pteridophyta\",\"Pteridophyta\",\"Pteridophyta\",\"Pteridophyta\",\"Pteridophyta\",\"Pteridophyta\",\"Pteridophyta\",\"Pteridophyta\",\"Pteridophyta\",\"Pteridophyta\",\"Pteridophyta\",\"Pteridophyta\",\"Pteridophyta\",\"Pteridophyta\",\"Pteridophyta\",\"Pteridophyta\",\"Pteridophyta\",\"Pteridophyta\",\"Pteridophyta\",\"Pteridophyta\",\"Pteridophyta\",\"Pteridophyta\",\"Pteridophyta\",\"Pteridophyta\",\"Pteridophyta\",\"Pteridophyta\",\"Pteridophyta\",\"Pteridophyta\",\"Pteridophyta\",\"Pteridophyta\",\"Pteridophyta\",\"Pteridophyta\",\"Pteridophyta\",\"Pteridophyta\",\"Pteridophyta\",\"Pteridophyta\",\"Pteridophyta\",\"Pteridophyta\",\"Pteridophyta\",\"Pteridophyta\",\"Pteridophyta\",\"Pteridophyta\",\"Pteridophyta\",\"Pteridophyta\",\"Pteridophyta\",\"Pteridophyta\",\"Pteridophyta\",\"Pteridophyta\",\"Pteridophyta\",\"Pteridophyta\",\"Pteridophyta\",\"Pteridophyta\",\"Pteridophyta\",\"Pteridophyta\",\"Pteridophyta\",\"Pteridophyta\",\"Pteridophyta\",\"Pteridophyta\",\"Pteridophyta\",\"Pteridophyta\",\"Pteridophyta\",\"Pteridophyta\",\"Pteridophyta\",\"Pteridophyta\",\"Pteridophyta\",\"Pteridophyta\",\"Pteridophyta\",\"Pteridophyta\",\"Pteridophyta\",\"Pteridophyta\",\"Pteridophyta\",\"Pteridophyta\",\"Pteridophyta\",\"Pteridophyta\",\"Pteridophyta\",\"Pteridophyta\",\"Pteridophyta\",\"Pteridophyta\",\"Pteridophyta\",\"Pteridophyta\",\"Pteridophyta\",\"Pteridophyta\",\"Pteridophyta\",\"Pteridophyta\",\"Pteridophyta\",\"Pteridophyta\",\"Pteridophyta\",\"Pteridophyta\",\"Pteridophyta\",\"Pteridophyta\",\"Pteridophyta\",\"Pteridophyta\",\"Pteridophyta\",\"Pteridophyta\",\"Pteridophyta\",\"Pteridophyta\",\"Pteridophyta\",\"Pteridophyta\",\"Pteridophyta\",\"Pteridophyta\",\"Pteridophyta\",\"Pteridophyta\",\"Pteridophyta\",\"Pteridophyta\",\"Pteridophyta\",\"Pteridophyta\",\"Pteridophyta\",\"Pteridophyta\",\"Pteridophyta\",\"Pteridophyta\",\"Pteridophyta\",\"Pteridophyta\",\"Pteridophyta\",\"Pteridophyta\",\"Pteridophyta\",\"Pteridophyta\",\"Pteridophyta\",\"Pteridophyta\",\"Pteridophyta\",\"Pteridophyta\",\"Pteridophyta\",\"Pteridophyta\",\"Pteridophyta\",\"Pteridophyta\",\"Pteridophyta\",\"Pteridophyta\",\"Pteridophyta\",\"Pteridophyta\",\"Pteridophyta\",\"Pteridophyta\",\"Pteridophyta\",\"Pteridophyta\",\"Pteridophyta\",\"Pteridophyta\",\"Pteridophyta\",\"Pteridophyta\",\"Pteridophyta\",\"Pteridophyta\",\"Pteridophyta\",\"Pteridophyta\",\"Pteridophyta\",\"Pteridophyta\",\"Pteridophyta\",\"Pteridophyta\",\"Pteridophyta\",\"Pteridophyta\",\"Pteridophyta\",\"Pteridophyta\",\"Pteridophyta\",\"Pteridophyta\",\"Pteridophyta\",\"Pteridophyta\",\"Pteridophyta\",\"Pteridophyta\",\"Pteridophyta\",\"Pteridophyta\",\"Pteridophyta\",\"Pteridophyta\",\"Pteridophyta\",\"Pteridophyta\",\"Pteridophyta\",\"Pteridophyta\",\"Pteridophyta\",\"Pteridophyta\",\"Pteridophyta\",\"Pteridophyta\",\"Pteridophyta\",\"Pteridophyta\",\"Magnoliophyta\",\"Magnoliophyta\",\"Magnoliophyta\",\"Magnoliophyta\",\"Magnoliophyta\",\"Magnoliophyta\",\"Magnoliophyta\",\"Magnoliophyta\",\"Magnoliophyta\",\"Magnoliophyta\",\"Magnoliophyta\",\"Magnoliophyta\",\"Magnoliophyta\",\"Magnoliophyta\",\"Magnoliophyta\",\"Magnoliophyta\",\"Magnoliophyta\",\"Magnoliophyta\",\"Magnoliophyta\",\"Magnoliophyta\",\"Magnoliophyta\",\"Magnoliophyta\",\"Magnoliophyta\",\"Magnoliophyta\",\"Magnoliophyta\",\"Magnoliophyta\",\"Magnoliophyta\",\"Magnoliophyta\",\"Magnoliophyta\",\"Magnoliophyta\",\"Magnoliophyta\",\"Magnoliophyta\",\"Magnoliophyta\",\"Magnoliophyta\",\"Magnoliophyta\",\"Magnoliophyta\",\"Magnoliophyta\",\"Magnoliophyta\",\"Magnoliophyta\",\"Magnoliophyta\",\"Magnoliophyta\",\"Magnoliophyta\",\"Magnoliophyta\",\"Magnoliophyta\",\"Magnoliophyta\",\"Magnoliophyta\",\"Magnoliophyta\",\"Magnoliophyta\",\"Magnoliophyta\",\"Magnoliophyta\",\"Magnoliophyta\",\"Magnoliophyta\",\"Magnoliophyta\",\"Magnoliophyta\",\"Magnoliophyta\",\"Magnoliophyta\",\"Magnoliophyta\",\"Magnoliophyta\",\"Magnoliophyta\",\"Magnoliophyta\",\"Magnoliophyta\",\"Magnoliophyta\",\"Magnoliophyta\",\"Magnoliophyta\",\"Magnoliophyta\",\"Magnoliophyta\",\"Magnoliophyta\",\"Magnoliophyta\",\"Magnoliophyta\",\"Magnoliophyta\",\"Magnoliophyta\",\"Magnoliophyta\",\"Magnoliophyta\",\"Magnoliophyta\",\"Magnoliophyta\",\"Magnoliophyta\",\"Magnoliophyta\",\"Magnoliophyta\",\"Magnoliophyta\",\"Magnoliophyta\",\"Magnoliophyta\",\"Magnoliophyta\",\"Magnoliophyta\",\"Magnoliophyta\",\"Magnoliophyta\",\"Magnoliophyta\",\"Magnoliophyta\",\"Magnoliophyta\",\"Magnoliophyta\",\"Magnoliophyta\",\"Magnoliophyta\",\"Magnoliophyta\",\"Magnoliophyta\",\"Magnoliophyta\",\"Magnoliophyta\",\"Magnoliophyta\",\"Magnoliophyta\",\"Magnoliophyta\",\"Magnoliophyta\",\"Magnoliophyta\",\"Magnoliophyta\",\"Magnoliophyta\",\"Magnoliophyta\",\"Magnoliophyta\",\"Magnoliophyta\",\"Magnoliophyta\",\"Magnoliophyta\",\"Magnoliophyta\",\"Magnoliophyta\",\"Magnoliophyta\",\"Magnoliophyta\",\"Magnoliophyta\",\"Magnoliophyta\",\"Magnoliophyta\",\"Magnoliophyta\",\"Magnoliophyta\",\"Magnoliophyta\",\"Magnoliophyta\",\"Magnoliophyta\",\"Magnoliophyta\",\"Magnoliophyta\",\"Magnoliophyta\",\"Magnoliophyta\",\"Magnoliophyta\",\"Magnoliophyta\",\"Magnoliophyta\",\"Magnoliophyta\",\"Magnoliophyta\",\"Magnoliophyta\",\"Magnoliophyta\",\"Magnoliophyta\",\"Magnoliophyta\",\"Magnoliophyta\",\"Magnoliophyta\",\"Magnoliophyta\",\"Magnoliophyta\",\"Magnoliophyta\",\"Magnoliophyta\",\"Magnoliophyta\",\"Magnoliophyta\",\"Magnoliophyta\",\"Magnoliophyta\",\"Magnoliophyta\",\"Magnoliophyta\",\"Magnoliophyta\",\"Magnoliophyta\",\"Magnoliophyta\",\"Magnoliophyta\",\"Magnoliophyta\",\"Magnoliophyta\",\"Magnoliophyta\",\"Magnoliophyta\",\"Magnoliophyta\",\"Magnoliophyta\",\"Magnoliophyta\",\"Magnoliophyta\",\"Magnoliophyta\",\"Magnoliophyta\",\"Magnoliophyta\",\"Magnoliophyta\",\"Magnoliophyta\",\"Magnoliophyta\",\"Magnoliophyta\",\"Magnoliophyta\",\"Magnoliophyta\",\"Magnoliophyta\",\"Magnoliophyta\",\"Magnoliophyta\",\"Magnoliophyta\",\"Magnoliophyta\",\"Magnoliophyta\",\"Magnoliophyta\",\"Magnoliophyta\",\"Magnoliophyta\",\"Magnoliophyta\",\"Magnoliophyta\",\"Magnoliophyta\",\"Magnoliophyta\",\"Magnoliophyta\",\"Magnoliophyta\",\"Magnoliophyta\",\"Magnoliophyta\",\"Magnoliophyta\",\"Magnoliophyta\",\"Magnoliophyta\",\"Magnoliophyta\",\"Magnoliophyta\",\"Magnoliophyta\",\"Magnoliophyta\",\"Magnoliophyta\",\"Magnoliophyta\",\"Magnoliophyta\",\"Magnoliophyta\",\"Magnoliophyta\",\"Magnoliophyta\",\"Magnoliophyta\",\"Magnoliophyta\",\"Magnoliophyta\",\"Magnoliophyta\",\"Magnoliophyta\",\"Magnoliophyta\",\"Magnoliophyta\",\"Magnoliophyta\",\"Magnoliophyta\",\"Magnoliophyta\",\"Magnoliophyta\",\"Magnoliophyta\",\"Magnoliophyta\",\"Magnoliophyta\",\"Magnoliophyta\",\"Magnoliophyta\",\"Magnoliophyta\",\"Magnoliophyta\",\"Magnoliophyta\",\"Magnoliophyta\",\"Magnoliophyta\",\"Magnoliophyta\",\"Magnoliophyta\",\"Magnoliophyta\",\"Magnoliophyta\",\"Magnoliophyta\",\"Magnoliophyta\",\"Magnoliophyta\",\"Magnoliophyta\",\"Magnoliophyta\",\"Magnoliophyta\",\"Magnoliophyta\",\"Magnoliophyta\",\"Magnoliophyta\",\"Pteridophyta\",\"Pteridophyta\",\"Pteridophyta\",\"Pteridophyta\",\"Pteridophyta\",\"Pteridophyta\",\"Pteridophyta\",\"Pteridophyta\",\"Pteridophyta\",\"Pteridophyta\",\"Pteridophyta\",\"Pteridophyta\",\"Pteridophyta\",\"Pteridophyta\",\"Pteridophyta\",\"Pteridophyta\",\"Pteridophyta\",\"Pteridophyta\",\"Pteridophyta\",\"Pteridophyta\",\"Pteridophyta\",\"Pteridophyta\",\"Pteridophyta\",\"Pteridophyta\",\"Pteridophyta\",\"Pteridophyta\",\"Pteridophyta\",\"Pteridophyta\",\"Pteridophyta\",\"Pteridophyta\",\"Pteridophyta\",\"Pteridophyta\",\"Pteridophyta\",\"Pteridophyta\",\"Pteridophyta\",\"Pteridophyta\",\"Pteridophyta\",\"Pteridophyta\",\"Pteridophyta\",\"Pteridophyta\",\"Pteridophyta\",\"Pteridophyta\",\"Pteridophyta\",\"Pteridophyta\",\"Pteridophyta\",\"Pteridophyta\",\"Pteridophyta\",\"Pteridophyta\",\"Pteridophyta\",\"Pteridophyta\",\"Pteridophyta\",\"Pteridophyta\",\"Pteridophyta\",\"Pteridophyta\",\"Pteridophyta\",\"Pteridophyta\",\"Pteridophyta\",\"Pteridophyta\",\"Pteridophyta\",\"Pteridophyta\",\"Pteridophyta\",\"Pteridophyta\",\"Pteridophyta\",\"Pteridophyta\",\"Pteridophyta\",\"Pteridophyta\",\"Pteridophyta\",\"Pteridophyta\",\"Pteridophyta\",\"Pteridophyta\",\"Pteridophyta\",\"Pteridophyta\",\"Pteridophyta\",\"Pteridophyta\",\"Pteridophyta\",\"Pteridophyta\",\"Pteridophyta\",\"Pteridophyta\",\"Pteridophyta\",\"Pteridophyta\",\"Pteridophyta\",\"Pteridophyta\",\"Pteridophyta\",\"Pteridophyta\",\"Pteridophyta\",\"Pteridophyta\",\"Pteridophyta\",\"Pteridophyta\",\"Pteridophyta\",\"Pteridophyta\",\"Pteridophyta\",\"Pteridophyta\",\"Pteridophyta\",\"Pteridophyta\",\"Pteridophyta\",\"Pteridophyta\",\"Pteridophyta\",\"Pteridophyta\",\"Pteridophyta\",\"Pteridophyta\",\"Pteridophyta\",\"Pteridophyta\",\"Pteridophyta\",\"Pteridophyta\",\"Pteridophyta\",\"Pteridophyta\",\"Pteridophyta\",\"Pteridophyta\",\"Pteridophyta\",\"Pteridophyta\",\"Pteridophyta\",\"Pteridophyta\",\"Pteridophyta\",\"Pteridophyta\",\"Pteridophyta\",\"Pteridophyta\",\"Pteridophyta\",\"Pteridophyta\",\"Pteridophyta\",\"Pteridophyta\",\"Pteridophyta\",\"Pteridophyta\",\"Pteridophyta\",\"Pteridophyta\",\"Pteridophyta\",\"Pteridophyta\",\"Magnoliophyta\",\"Magnoliophyta\",\"Magnoliophyta\",\"Magnoliophyta\",\"Magnoliophyta\",\"Magnoliophyta\",\"Magnoliophyta\",\"Magnoliophyta\",\"Magnoliophyta\",\"Magnoliophyta\",\"Magnoliophyta\",\"Magnoliophyta\",\"Magnoliophyta\",\"Magnoliophyta\",\"Magnoliophyta\",\"Magnoliophyta\",\"Magnoliophyta\",\"Magnoliophyta\",\"Magnoliophyta\",\"Magnoliophyta\",\"Magnoliophyta\",\"Magnoliophyta\",\"Magnoliophyta\",\"Magnoliophyta\",\"Magnoliophyta\",\"Magnoliophyta\",\"Magnoliophyta\",\"Magnoliophyta\",\"Magnoliophyta\",\"Magnoliophyta\",\"Magnoliophyta\",\"Magnoliophyta\",\"Magnoliophyta\",\"Magnoliophyta\",\"Magnoliophyta\",\"Magnoliophyta\",\"Magnoliophyta\",\"Magnoliophyta\",\"Magnoliophyta\",\"Magnoliophyta\",\"Magnoliophyta\",\"Magnoliophyta\",\"Magnoliophyta\",\"Magnoliophyta\",\"Magnoliophyta\",\"Magnoliophyta\",\"Magnoliophyta\",\"Magnoliophyta\",\"Magnoliophyta\",\"Magnoliophyta\",\"Magnoliophyta\",\"Magnoliophyta\",\"Magnoliophyta\",\"Magnoliophyta\",\"Magnoliophyta\",\"Magnoliophyta\",\"Magnoliophyta\",\"Magnoliophyta\",\"Magnoliophyta\",\"Magnoliophyta\",\"Magnoliophyta\",\"Magnoliophyta\",\"Magnoliophyta\",\"Magnoliophyta\",\"Magnoliophyta\",\"Magnoliophyta\",\"Magnoliophyta\",\"Magnoliophyta\",\"Magnoliophyta\",\"Magnoliophyta\",\"Magnoliophyta\",\"Magnoliophyta\",\"Magnoliophyta\",\"Magnoliophyta\",\"Magnoliophyta\",\"Magnoliophyta\",\"Magnoliophyta\",\"Magnoliophyta\",\"Magnoliophyta\",\"Magnoliophyta\",\"Magnoliophyta\",\"Magnoliophyta\",\"Magnoliophyta\",\"Magnoliophyta\",\"Magnoliophyta\",\"Magnoliophyta\",\"Magnoliophyta\",\"Magnoliophyta\",\"Magnoliophyta\",\"Magnoliophyta\",\"Magnoliophyta\",\"Magnoliophyta\",\"Magnoliophyta\",\"Magnoliophyta\",\"Magnoliophyta\",\"Magnoliophyta\",\"Magnoliophyta\",\"Magnoliophyta\",\"Magnoliophyta\",\"Magnoliophyta\",\"Magnoliophyta\",\"Magnoliophyta\",\"Magnoliophyta\",\"Magnoliophyta\",\"Magnoliophyta\",\"Magnoliophyta\",\"Magnoliophyta\",\"Magnoliophyta\",\"Magnoliophyta\",\"Magnoliophyta\",\"Magnoliophyta\",\"Magnoliophyta\",\"Magnoliophyta\",\"Magnoliophyta\",\"Magnoliophyta\",\"Magnoliophyta\",\"Magnoliophyta\",\"Magnoliophyta\",\"Magnoliophyta\",\"Magnoliophyta\",\"Magnoliophyta\",\"Magnoliophyta\",\"Magnoliophyta\",\"Magnoliophyta\",\"Magnoliophyta\",\"Magnoliophyta\",\"Magnoliophyta\",\"Magnoliophyta\",\"Magnoliophyta\",\"Magnoliophyta\",\"Magnoliophyta\",\"Magnoliophyta\",\"Magnoliophyta\",\"Magnoliophyta\",\"Magnoliophyta\",\"Magnoliophyta\",\"Magnoliophyta\",\"Magnoliophyta\",\"Magnoliophyta\",\"Magnoliophyta\",\"Magnoliophyta\",\"Magnoliophyta\",\"Magnoliophyta\",\"Magnoliophyta\",\"Magnoliophyta\",\"Magnoliophyta\",\"Magnoliophyta\",\"Magnoliophyta\",\"Magnoliophyta\",\"Magnoliophyta\",\"Magnoliophyta\",\"Magnoliophyta\",\"Magnoliophyta\",\"Magnoliophyta\",\"Magnoliophyta\",\"Magnoliophyta\",\"Magnoliophyta\",\"Magnoliophyta\",\"Magnoliophyta\",\"Magnoliophyta\",\"Magnoliophyta\",\"Magnoliophyta\",\"Magnoliophyta\",\"Magnoliophyta\",\"Magnoliophyta\",\"Magnoliophyta\",\"Magnoliophyta\",\"Magnoliophyta\",\"Magnoliophyta\",\"Magnoliophyta\",\"Magnoliophyta\",\"Magnoliophyta\",\"Magnoliophyta\",\"Magnoliophyta\",\"Magnoliophyta\",\"Magnoliophyta\",\"Magnoliophyta\",\"Magnoliophyta\",\"Magnoliophyta\",\"Magnoliophyta\",\"Magnoliophyta\",\"Magnoliophyta\",\"Magnoliophyta\",\"Magnoliophyta\",\"Magnoliophyta\",\"Magnoliophyta\",\"Magnoliophyta\",\"Magnoliophyta\",\"Magnoliophyta\",\"Magnoliophyta\",\"Magnoliophyta\",\"Magnoliophyta\",\"Magnoliophyta\",\"Magnoliophyta\",\"Magnoliophyta\",\"Magnoliophyta\",\"Magnoliophyta\",\"Magnoliophyta\",\"Magnoliophyta\",\"Magnoliophyta\",\"Magnoliophyta\",\"Magnoliophyta\",\"Magnoliophyta\",\"Magnoliophyta\",\"Magnoliophyta\",\"Magnoliophyta\",\"Magnoliophyta\",\"Magnoliophyta\",\"Magnoliophyta\",\"Magnoliophyta\",\"Magnoliophyta\",\"Magnoliophyta\",\"Magnoliophyta\",\"Magnoliophyta\",\"Magnoliophyta\",\"Magnoliophyta\",\"Magnoliophyta\",\"Magnoliophyta\",\"Magnoliophyta\",\"Magnoliophyta\",\"Magnoliophyta\",\"Magnoliophyta\",\"Magnoliophyta\",\"Magnoliophyta\",\"Magnoliophyta\",\"Magnoliophyta\",\"Magnoliophyta\",\"Magnoliophyta\",\"Magnoliophyta\",\"Magnoliophyta\",\"Magnoliophyta\",\"Magnoliophyta\",\"Magnoliophyta\",\"Magnoliophyta\",\"Magnoliophyta\",\"Magnoliophyta\",\"Magnoliophyta\",\"Magnoliophyta\",\"Magnoliophyta\",\"Magnoliophyta\",\"Magnoliophyta\",\"Magnoliophyta\",\"Magnoliophyta\",\"Magnoliophyta\",\"Magnoliophyta\",\"Magnoliophyta\",\"Magnoliophyta\",\"Magnoliophyta\",\"Magnoliophyta\",\"Magnoliophyta\",\"Magnoliophyta\",\"Magnoliophyta\",\"Magnoliophyta\",\"Magnoliophyta\",\"Magnoliophyta\",\"Magnoliophyta\",\"Magnoliophyta\",\"Magnoliophyta\",\"Magnoliophyta\",\"Magnoliophyta\",\"Magnoliophyta\",\"Magnoliophyta\",\"Magnoliophyta\",\"Magnoliophyta\",\"Magnoliophyta\",\"Magnoliophyta\",\"Magnoliophyta\",\"Magnoliophyta\",\"Magnoliophyta\",\"Magnoliophyta\",\"Magnoliophyta\",\"Magnoliophyta\",\"Magnoliophyta\",\"Magnoliophyta\",\"Magnoliophyta\",\"Magnoliophyta\",\"Magnoliophyta\",\"Magnoliophyta\",\"Magnoliophyta\",\"Magnoliophyta\",\"Magnoliophyta\",\"Magnoliophyta\",\"Magnoliophyta\",\"Magnoliophyta\",\"Magnoliophyta\",\"Magnoliophyta\",\"Magnoliophyta\",\"Magnoliophyta\",\"Magnoliophyta\",\"Magnoliophyta\",\"Magnoliophyta\",\"Magnoliophyta\",\"Magnoliophyta\",\"Magnoliophyta\",\"Magnoliophyta\",\"Magnoliophyta\",\"Magnoliophyta\",\"Magnoliophyta\",\"Magnoliophyta\",\"Magnoliophyta\",\"Magnoliophyta\",\"Magnoliophyta\",\"Magnoliophyta\",\"Magnoliophyta\",\"Magnoliophyta\",\"Magnoliophyta\",\"Magnoliophyta\",\"Magnoliophyta\",\"Magnoliophyta\",\"Magnoliophyta\",\"Magnoliophyta\",\"Magnoliophyta\",\"Magnoliophyta\",\"Magnoliophyta\",\"Magnoliophyta\",\"Magnoliophyta\",\"Magnoliophyta\",\"Magnoliophyta\",\"Magnoliophyta\",\"Magnoliophyta\",\"Magnoliophyta\",\"Magnoliophyta\",\"Magnoliophyta\",\"Magnoliophyta\",\"Magnoliophyta\",\"Magnoliophyta\",\"Magnoliophyta\",\"Magnoliophyta\",\"Magnoliophyta\",\"Magnoliophyta\",\"Magnoliophyta\",\"Magnoliophyta\",\"Magnoliophyta\",\"Magnoliophyta\",\"Magnoliophyta\",\"Magnoliophyta\",\"Magnoliophyta\",\"Magnoliophyta\",\"Magnoliophyta\",\"Magnoliophyta\",\"Magnoliophyta\",\"Magnoliophyta\",\"Magnoliophyta\",\"Magnoliophyta\",\"Magnoliophyta\",\"Magnoliophyta\",\"Magnoliophyta\",\"Magnoliophyta\",\"Magnoliophyta\",\"Magnoliophyta\",\"Magnoliophyta\",\"Magnoliophyta\",\"Magnoliophyta\",\"Magnoliophyta\",\"Magnoliophyta\",\"Magnoliophyta\",\"Magnoliophyta\",\"Magnoliophyta\",\"Magnoliophyta\",\"Magnoliophyta\",\"Magnoliophyta\",\"Magnoliophyta\",\"Magnoliophyta\",\"Magnoliophyta\",\"Magnoliophyta\",\"Magnoliophyta\",\"Magnoliophyta\",\"Magnoliophyta\",\"Magnoliophyta\",\"Magnoliophyta\",\"Magnoliophyta\",\"Magnoliophyta\",\"Magnoliophyta\",\"Magnoliophyta\",\"Magnoliophyta\",\"Magnoliophyta\",\"Magnoliophyta\",\"Magnoliophyta\",\"Magnoliophyta\",\"Magnoliophyta\",\"Magnoliophyta\",\"Magnoliophyta\",\"Magnoliophyta\",\"Magnoliophyta\",\"Magnoliophyta\",\"Magnoliophyta\",\"Magnoliophyta\",\"Magnoliophyta\",\"Magnoliophyta\",\"Magnoliophyta\",\"Magnoliophyta\",\"Magnoliophyta\",\"Magnoliophyta\",\"Magnoliophyta\",\"Magnoliophyta\",\"Magnoliophyta\",\"Magnoliophyta\",\"Magnoliophyta\",\"Magnoliophyta\",\"Magnoliophyta\",\"Magnoliophyta\",\"Magnoliophyta\",\"Magnoliophyta\",\"Magnoliophyta\",\"Magnoliophyta\",\"Magnoliophyta\",\"Magnoliophyta\",\"Magnoliophyta\",\"Magnoliophyta\",\"Magnoliophyta\",\"Magnoliophyta\",\"Magnoliophyta\",\"Magnoliophyta\",\"Magnoliophyta\",\"Magnoliophyta\",\"Magnoliophyta\",\"Magnoliophyta\",\"Magnoliophyta\",\"Magnoliophyta\",\"Magnoliophyta\",\"Magnoliophyta\",\"Magnoliophyta\",\"Magnoliophyta\"],\"Hierba\":[\"Hierba \",\"Hierba \",\"Hierba \",\"Hierba \",\"Hierba \",\"Hierba \",\"Hierba \",\"Hierba \",\"Hierba \",\"Hierba \",\"Hierba \",\"Hierba \",\"Hierba \",\"Hierba \",\"Hierba \",\"Hierba \",\"Hierba \",\"Hierba \",\"Hierba \",\"Hierba \",\"Hierba \",\"Hierba \",\"\\u00c1rbol  \",\"\\u00c1rbol  \",\"\\u00c1rbol  \",\"\\u00c1rbol  \",\"\\u00c1rbol  \",\"\\u00c1rbol  \",\"\\u00c1rbol  \",\"\\u00c1rbol  \",\"\\u00c1rbol  \",\"\\u00c1rbol  \",\"\\u00c1rbol  \",\"Hierba \",\"Hierba \",\"Hierba \",\"Hierba \",\"Hierba \",\"Hierba \",\"Hierba \",\"Hierba \",\"Hierba \",\"Hierba \",\"Hierba \",\"Hierba\",\"Hierba\",\"Hierba\",\"Hierba\",\"Hierba\",\"Hierba\",\"Hierba\",\"Hierba\",\"Hierba\",\"Hierba\",\"Hierba\",\"Hierba\",\"Hierba\",\"Hierba\",\"Hierba\",\"Hierba\",\"Hierba\",\"Hierba\",\"Hierba\",\"Hierba\",\"Hierba\",\"Hierba\",\"Hierba\",\"Hierba\",\"Hierba\",\"Hierba\",\"Hierba\",\"Hierba\",\"Hierba\",\"Hierba\",\"Hierba\",\"Hierba\",\"Hierba\",\"Hierba\",\"Hierba\",\"Hierba\",\"Hierba\",\"Hierba\",\"Hierba\",\"Hierba\",\"Hierba\",\"Hierba\",\"Hierba\",\"Hierba\",\"Hierba\",\"Hierba\",\"Hierba\",\"Hierba\",\"Hierba\",\"Hierba\",\"Hierba\",\"Hierba\",\"Hierba\",\"Hierba\",\"Hierba\",\"Hierba\",\"Hierba\",\"Hierba\",\"Hierba\",\"Hierba\",\"Hierba\",\"Hierba\",\"Hierba\",\"Hierba\",\"Hierba\",\"Hierba\",\"Hierba\",\"Hierba\",\"Hierba\",\"Hierba\",\"Hierba\",\"Hierba\",\"Hierba\",\"Hierba\",\"Hierba\",\"Hierba\",\"Hierba\",\"Hierba\",\"Hierba\",\"Hierba\",\"Hierba\",\"Hierba\",\"Hierba\",\"Hierba\",\"Hierba\",\"Hierba\",\"Hierba\",\"Hierba\",\"Hierba\",\"Hierba\",\"Hierba\",\"Hierba\",\"Hierba\",\"Hierba\",\"Hierba\",\"Hierba\",\"Hierba\",\"Hierba\",\"Hierba\",\"Hierba\",\"Hierba\",\"Hierba\",\"Hierba\",\"Hierba\",\"Hierba\",\"Hierba\",\"Hierba\",\"Hierba\",\"Hierba\",\"Hierba\",\"Hierba\",\"Hierba\",\"Hierba\",\"Hierba\",\"Hierba\",\"Hierba\",\"Hierba\",\"Hierba\",\"Hierba\",\"Hierba\",\"Hierba\",\"Hierba\",\"Hierba\",\"Hierba\",\"Hierba\",\"Hierba\",\"Hierba\",\"Hierba\",\"Hierba\",\"Hierba\",\"Hierba\",\"Hierba\",\"Hierba\",\"Hierba\",\"Hierba\",\"Hierba\",\"Hierba\",\"Hierba\",\"Hierba\",\"Hierba\",\"Hierba\",\"Hierba\",\"Hierba\",\"Hierba\",\"Hierba\",\"Hierba\",\"Hierba\",\"Hierba\",\"Hierba\",\"Hierba\",\"Hierba\",\"Hierba\",\"Hierba\",\"Hierba\",\"Hierba\",\"Hierba\",\"Hierba\",\"Hierba\",\"Hierba\",\"Hierba\",\"Hierba\",\"Hierba\",\"Hierba\",\"Hierba\",\"Hierba\",\"Hierba\",\"Hierba\",\"Hierba\",\"Hierba\",\"Hierba\",\"Hierba\",\"Hierba\",\"Hierba\",\"Hierba\",\"Hierba\",\"Hierba\",\"Hierba\",\"Hierba\",\"Hierba\",\"Hierba\",\"Hierba\",\"Hierba\",\"Hierba\",\"Hierba\",\"Hierba\",\"Hierba\",\"Hierba\",\"Hierba\",\"Hierba\",\"Hierba\",\"Hierba\",\"Hierba\",\"Hierba\",\"Hierba\",\"Hierba\",\"Hierba\",\"Hierba\",\"Hierba\",\"Hierba\",\"Hierba\",\"Hierba\",\"Hierba\",\"Hierba\",\"Hierba\",\"Hierba\",\"Hierba\",\"Hierba\",\"Hierba\",\"Hierba\",\"Hierba\",\"Hierba\",\"Hierba\",\"Hierba\",\"Hierba\",\"Hierba\",\"Hierba\",\"Hierba\",\"Hierba\",\"Hierba\",\"Hierba\",\"Hierba\",\"Hierba\",\"Hierba\",\"Hierba\",\"Hierba\",\"Hierba\",\"Hierba\",\"Hierba\",\"Hierba\",\"Hierba\",\"Hierba\",\"Hierba\",\"Hierba\",\"Hierba\",\"Hierba\",\"Hierba\",\"Hierba\",\"Hierba\",\"Hierba\",\"Hierba\",\"Hierba\",\"Hierba\",\"Hierba\",\"Hierba\",\"Hierba\",\"Hierba\",\"Hierba\",\"Hierba\",\"Hierba\",\"Hierba\",\"Hierba\",\"Hierba\",\"Hierba\",\"Hierba\",\"Hierba\",\"Hierba\",\"Hierba\",\"Hierba\",\"Hierba\",\"Hierba\",\"Hierba\",\"Hierba\",\"Hierba\",\"Hierba\",\"Hierba\",\"Hierba\",\"Hierba\",\"Hierba\",\"Hierba\",\"Hierba\",\"Hierba\",\"Hierba\",\"Hierba\",\"Hierba\",\"Hierba\",\"Hierba\",\"Hierba\",\"Hierba\",\"Hierba\",\"Hierba\",\"Hierba\",\"Hierba\",\"Hierba\",\"Hierba\",\"Hierba\",\"Hierba\",\"Hierba\",\"Hierba\",\"Hierba\",\"Hierba\",\"Hierba\",\"Hierba\",\"Hierba\",\"Hierba\",\"Hierba\",\"Hierba\",\"Hierba\",\"Hierba\",\"Hierba\",\"Hierba\",\"Hierba\",\"Hierba\",\"Hierba\",\"Hierba\",\"Hierba\",\"Hierba\",\"Hierba\",\"Hierba\",\"Hierba\",\"Hierba\",\"Hierba\",\"Hierba\",\"Hierba\",\"Hierba\",\"Hierba\",\"Hierba\",\"Hierba\",\"Hierba\",\"Hierba\",\"Hierba\",\"Hierba\",\"Hierba\",\"Hierba\",\"Hierba\",\"Hierba\",\"Hierba\",\"Hierba\",\"Hierba\",\"Hierba\",\"Hierba\",\"Hierba\",\"Hierba\",\"Hierba\",\"Hierba\",\"Hierba\",\"Hierba\",\"Hierba\",\"Hierba\",\"Hierba\",\"Hierba\",\"Hierba\",\"Hierba\",\"Hierba\",\"Hierba\",\"Hierba\",\"Hierba\",\"Hierba\",\"Hierba\",\"Hierba\",\"Hierba\",\"Hierba\",\"Hierba\",\"Hierba\",\"Hierba\",\"Hierba\",\"Hierba\",\"Hierba\",\"Hierba\",\"Hierba\",\"Hierba\",\"Hierba\",\"Hierba\",\"Hierba\",\"Hierba\",\"Hierba\",\"Hierba\",\"Hierba\",\"Hierba\",\"Hierba\",\"Hierba\",\"Hierba\",\"Hierba\",\"Hierba\",\"Hierba\",\"Hierba\",\"Hierba\",\"Hierba\",\"Hierba\",\"Hierba\",\"Hierba\",\"Hierba\",\"Hierba\",\"Hierba\",\"Hierba\",\"Hierba\",\"Hierba\",\"Sufr\\u00fatice\",\"Sufr\\u00fatice\",\"Sufr\\u00fatice\",\"Sufr\\u00fatice\",\"Sufr\\u00fatice\",\"Sufr\\u00fatice\",\"Hierba\",\"Hierba\",\"Hierba\",\"Hierba\",\"Hierba\",\"Hierba\",\"Hierba\",\"Hierba\",\"Hierba\",\"Hierba\",\"Hierba\",\"Arbusto\",\"Arbusto\",\"Arbusto\",\"Arbusto\",\"Arbusto\",\"Arbusto\",\"\\u00c1rbol\",\"\\u00c1rbol\",\"\\u00c1rbol\",\"Arbusto\",\"Arbusto\",\"Arbusto\",\"Arbusto\",\"Arbusto\",\"Arbusto\",\"\\u00c1rbol\",\"\\u00c1rbol\",\"\\u00c1rbol\",\"\\u00c1rbol  \",\"\\u00c1rbol  \",\"\\u00c1rbol  \",\"\\u00c1rbol  \",\"\\u00c1rbol  \",\"\\u00c1rbol  \",\"Hierba\",\"Hierba\",\"Hierba\",\"Arbusto\",\"Arbusto\",\"Arbusto\",\"Hierba\",\"Hierba\",\"Hierba\",\"Hierba\",\"Hierba\",\"Hierba\",\"Hierba\",\"Hierba\",\"Hierba\",\"Hierba\",\"Hierba\",\"Hierba\",\"\\u00c1rbol\",\"\\u00c1rbol\",\"\\u00c1rbol\",\"\\u00c1rbol\",\"\\u00c1rbol\",\"\\u00c1rbol\",\"arbusto\",\"arbusto\",\"arbusto\",\"Hierba o arbusto\",\"Hierba o arbusto\",\"Hierba o arbusto\",\"\\u00c1rbol\",\"\\u00c1rbol\",\"\\u00c1rbol\",\"\\u00c1rbol\",\"\\u00c1rbol\",\"\\u00c1rbol\",\"Hierba\",\"Hierba\",\"Hierba\",\"arbusto\",\"arbusto\",\"arbusto\",\"\\u00c1rbol\",\"\\u00c1rbol\",\"\\u00c1rbol\",\"\\u00c1rbol\",\"arbusto\",\"arbusto\",\"Hierba\",\"Hierba\",\"Hierba\",\"Hierba\",\"Hierba\",\"Hierba\",\"Arbusto\",\"Arbusto\",\"Arbusto\",\"Hierba\",\"Hierba\",\"Hierba\",\"Hierba\",\"Hierba\",\"Arbusto\",\"Arbusto\",\"Arbusto\",\"Hierba\",\"Hierba\",\"Hierba\",\"Arbusto\",\"Arbusto\",\"Arbusto\",\"Sufr\\u00fatice\",\"Sufr\\u00fatice\",\"Sufr\\u00fatice\",\"Hierba\",\"Hierba\",\"Hierba\",\"Arbusto\",\"Arbusto\",\"Arbusto\",\"Arbusto\",\"Arbusto\",\"Arbusto\",\"Hierba\",\"Hierba\",\"Hierba\",\"Hierba\",\"Arbusto\",\"Arbusto\",\"Arbusto\",\"Arbusto\",\"hierba\",\"Arbusto\",\"\\u00c1rbol\",\"Hierba o sufr\\u00fatice\",\"Hierba o sufr\\u00fatice\",\"Hierba o sufr\\u00fatice\",\"Hierba o sufr\\u00fatice\",\"Hierba o sufr\\u00fatice\",\"Hierba o sufr\\u00fatice\",\"Arbusto\",\"Arbusto\",\"Arbusto\",\"Arbusto\",\"Arbusto\",\"Arbusto\",\"\\u00c1rbol\",\"Arbusto o sufr\\u00fatice\",\"Arbusto o sufr\\u00fatice\",\"Arbusto o sufr\\u00fatice\",\"Arbusto o sufr\\u00fatice\",\"Arbusto o sufr\\u00fatice\",\"Arbusto\",\"Arbusto\",\"Arbusto\",\"Arbusto\",\"Arbusto\",\"Arbusto\",\"Hierba\",\"Hierba\",\"Hierba\",\"Hierba\",\"\\u00c1rbol\",\"\\u00c1rbol\",\"Hierba\",\"Hierba\",\"Hierba\",\"Hierba\",\"Hierba\",\"Arbusto\",\"Arbusto\",\"Arbusto\",\"Arbusto\",\"Arbusto\",\"Hierba\",\"Hierba\",\"Hierba o sufr\\u00fatice\",\"Sufr\\u00fatice o arbusto\",\"\\u00c1rbol\",\"\\u00c1rbol\",\"\\u00c1rbol\",\"\\u00c1rbol\",\"\\u00c1rbol\",\"\\u00c1rbol\",\"Hierba\",\"Sufr\\u00fatice\",\"Sufr\\u00fatice\",\"Hierba\",\"Hierba\",\"Hierba\",\"Hierba\",\"Hierba\",\"Hierba\",\"Sufr\\u00fatice\",\"Sufr\\u00fatice\",\"\\u00c1rbol\",\"\\u00c1rbol\",\"\\u00c1rbol\",\"\\u00c1rbol\",\"\\u00c1rbol\",\"\\u00c1rbol\",\"Arbusto\",\"Arbusto\",\"Arbusto\",\"Hierba\",\"Hierba\",\"\\u00c1rbol\",\"\\u00c1rbol\",\"\\u00c1rbol\",\"\\u00c1rbol\",\"Hierba\",\"Hierba\",\"Hierba\",\"Hierba\",\"Hierba\",\"Hierba\",\"Hierba\",\"Hierba\",\"Hierba\",\"Hierba\",\"Hierba\",\"Hierba\",\"Hierba\",\"Hierba\",\"Hierba\",\"Hierba\",\"Hierba\",\"Hierba\",\"Hierba\",\"Hierba\",\"Hierba\",\"Hierba\",\"Hierba\",\"Hierba\",\"Hierba\",\"Hierba\",\"Hierba\",\"Hierba\",\"Hierba\",\"Hierba\",\"Hierba\",\"Hierba\",\"Hierba\",\"Hierba\",\"Hierba\",\"Hierba\",\"Hierba\",\"Hierba\",\"Hierba\",\"Hierba\",\"Hierba\",\"Hierba\",\"Hierba\",\"Hierba\",\"Hierba\",\"Hierba\",\"Hierba\",\"Hierba\",\"Hierba\",\"Hierba\",\"Hierba\",\"Hierba\",\"Hierba\",\"Hierba\",\"Hierba\",\"Hierba\",\"Hierba\",\"Hierba\",\"Hierba\",\"Hierba\",\"Hierba\",\"Hierba\",\"Hierba\",\"Hierba\",\"Hierba\",\"Hierba\",\"Hierba\",\"Hierba\",\"Hierba\",\"Hierba\",\"Hierba\",\"Hierba\",\"Hierba\",\"Hierba\",\"Hierba\",\"Hierba\",\"Hierba\",\"Hierba\",\"Hierba\",\"Hierba\",\"Hierba\",\"Hierba\",\"Hierba\",\"Hierba\",\"Hierba\",\"Hierba\",\"Hierba\",\"Hierba\",\"Hierba\",\"Hierba\",\"Hierba\",\"Hierba\",\"Hierba\",\"Hierba\",\"Hierba\",\"Hierba\",\"Hierba\",\"Hierba\",\"Hierba\",\"Hierba\",\"Hierba\",\"Hierba\",\"Hierba\",\"Hierba\",\"Hierba\",\"Hierba\",\"Hierba\",\"Hierba\",\"Hierba\",\"Hierba\",\"Hierba\",\"Hierba\",\"Hierba\",\"Hierba\",\"Hierba\",\"Hierba\",\"Hierba\",\"Hierba\",\"Hierba\",\"Hierba\",\"Hierba\",\"Hierba\",\"Hierba\",\"Hierba\",\"Hierba\",\"Hierba\",\"arbusto\",\"Arbusto\",\"Arbusto\",\"Arbusto\",\"Arbusto\",\"Arbusto\",\"Hierba\",\"Hierba\",\"Hierba\",\"Hierba\",\"Hierba\",\"Hierba\",\"Hierba\",\"Hierba\",\"Hierba\",\"Hierba\",\"Hierba\",\"Hierba\",\"\\u00c1rbol\",\"Hierba\",\"Hierba\",\"Hierba\",\"Hierba\",\"Hierba\",\"Hierba\",\"Hierba\",\"Hierba\",\"Hierba\",\"Hierba\",\"Hierba\",\"Hierba\",\"Hierba\",\"Hierba\",\"Hierba\",\"Hierba\",\"Hierba\",\"Hierba\",\"Hierba\",\"Hierba\",\"Hierba\",\"Hierba\",\"Hierba\",\"Hierba\",\"Hierba\",\"Hierba\",\"Hierba\",\"Hierba\",\"Hierba\",\"Hierba\",\"Hierba\",\"Hierba\",\"Arbusto\",\"Arbusto\",\"Arbusto\",\"Arbusto\",\"Arbusto\",\"Arbusto\",\"Arbusto\",\"Hierba\",\"Hierba\",\"Hierba\",\"Hierba\",\"Hierba\",\"Hierba\",\"Hierba\",\"Hierba\",\"Hierba\",\"Hierba\",\"Hierba\",\"Hierba\",\"Hierba\",\"Hierba\",\"Hierba\",\"Hierba\",\"Hierba\",\"Hierba\",\"Hierba\",\"Hierba\",\"Hierba\",\"Hierba\",\"Hierba\",\"Hierba\",\"Hierba\",\"Hierba\",\"Hierba\",\"Hierba\",\"Hierba\",\"Hierba\",\"Hierba\",\"Hierba\",\"Hierba\",\"arbusto\",\"arbusto\",\"arbusto\",\"arbusto\",\"arbusto\",\"arbusto\",\"arbusto\",\"arbusto\",\"arbusto\",\"arbusto\",\"arbusto\",\"arbusto\",\"arbusto\",\"arbusto\",\"arbusto\",\"arbusto\",\"arbusto\",\"arbusto\",\"arbusto\",\"arbusto\",\"arbusto\",\"arbusto\",\"arbusto\",\"arbusto\",\"arbusto\",\"Hierba\",\"Hierba\",\"Hierba\",\"Hierba\",\"Hierba\",\"Arbusto\",\"Arbusto\",\"Arbusto\",\"Arbusto\",\"Arbusto\",\"Arbusto\",\"Arbusto\",\"Arbusto\",\"Arbusto\",\"Arbusto\",\"Arbusto\",\"Arbusto\",\"Arbusto\",\"Arbusto\",\"arbusto\",\"arbusto\",\"arbusto\",\"arbusto\",\"arbusto\",\"arbusto\",\"arbusto\",\"arbusto\",\"arbusto\",\"arbusto\",\"arbusto\",\"arbusto\",\"arbusto\",\"arbusto\",\"arbusto\",\"arbusto\",\"arbusto\",\"arbusto\",\"arbusto\",\"arbusto\",\"arbusto\",\"arbusto\",\"arbusto\",\"arbusto\",\"arbusto\",\"arbusto\",\"arbusto\",\"arbusto\",\"arbusto\",\"arbusto\",\"arbusto\",\"arbusto\",\"arbusto\",\"arbusto\",\"arbusto\",\"arbusto\",\"arbusto\",\"arbusto\",\"arbusto\",\"arbusto\",\"arbusto\",\"arbusto\",\"arbusto\",\"arbusto\",\"arbusto\",\"arbusto\",\"arbusto\",\"arbusto\",\"arbusto\",\"arbusto\",\"arbusto\",\"arbusto\",\"arbusto\",\"arbusto\",\"arbusto\",\"arbusto\",\"arbusto\",\"arbusto\",\"arbusto\",\"arbusto\",\"arbusto\",\"arbusto\",\"arbusto\",\"arbusto\",\"arbusto\",\"arbusto\",\"arbusto\",\"arbusto\",\"arbusto\",\"arbusto\",\"arbusto\",\"arbusto\",\"arbusto\",\"arbusto\",\"arbusto\",\"arbusto\",\"arbusto\",\"arbusto\",\"arbusto\",\"arbusto\",\"arbusto\",\"arbusto\",\"arbusto\",\"arbusto\",\"arbusto\",\"arbusto\",\"arbusto\",\"arbusto\",\"arbusto\",\"arbusto\",\"arbusto\",\"arbusto\",\"arbusto\",\"arbusto\",\"arbusto\",\"arbusto\",\"arbusto\",\"arbusto\",\"arbusto\",\"arbusto\",\"arbusto\",\"arbusto\",\"arbusto\",\"arbusto\",\"arbusto\",\"arbusto\",\"arbusto\",\"arbusto\",\"arbusto\",\"arbusto\",\"arbusto\",\"arbusto\",\"arbusto\",\"arbusto\",\"arbusto\",\"arbusto\",\"arbusto\",\"arbusto\",\"arbusto\",\"arbusto\",\"arbusto\",\"arbusto\",\"arbusto\",\"arbusto\",\"arbusto\",\"arbusto\",\"arbusto\",\"arbusto\",\"arbusto\",\"arbusto\",\"arbusto\",\"arbusto\",\"arbusto\",\"arbusto\",\"arbusto\",\"arbusto\",\"arbusto\",\"arbusto\",\"arbusto\",\"arbusto\",\"arbusto\",\"arbusto\",\"arbusto\",\"arbusto\",\"arbusto\",\"arbusto\",\"arbusto\",\"arbusto\",\"arbusto\",\"arbusto\",\"arbusto\",\"arbusto\",\"arbusto\",\"arbusto\",\"arbusto\",\"arbusto\",\"arbusto\",\"arbusto\",\"arbusto\",\"arbusto\",\"arbusto\",\"arbusto\",\"arbusto\",\"arbusto\",\"arbusto\",\"arbusto\",\"arbusto\",\"arbusto\",\"arbusto\",\"arbusto\",\"arbusto\",\"arbusto\",\"arbusto\",\"arbusto\",\"arbusto\",\"arbusto\",\"arbusto\",\"arbusto\",\"arbusto\",\"arbusto\",\"arbusto\",\"arbusto\",\"arbusto\",\"arbusto\",\"arbusto\",\"arbusto\",\"arbusto\",\"arbusto\",\"arbusto\",\"arbusto\",\"arbusto\",\"arbusto\",\"arbusto\",\"arbusto\",\"arbusto\",\"arbusto\",\"arbusto\",\"arbusto\",\"arbusto\",\"arbusto\",\"arbusto\",\"arbusto\",\"arbusto\",\"arbusto\",\"arbusto\",\"arbusto\",\"arbusto\",\"arbusto\",\"arbusto\",\"arbusto\",\"arbusto\",\"arbusto\",\"arbusto\",\"arbusto\",\"Hierba\",\"Hierba\",\"Hierba\",\"Hierba\",\"Hierba\",\"Hierba\",\"Hierba\",\"Hierba\",\"Hierba\",\"Hierba\",\"Hierba\",\"Hierba\",\"Hierba\",\"Hierba\",\"Hierba\",\"Hierba\",\"\\u00c1rbol\",\"Hierba\",\"Hierba\",\"Hierba\",\"Hierba\",\"Hierba\",\"Hierba\",\"Hierba\",\"Hierba\",\"Hierba\",\"Hierba\",\"Arbusto\",\"Arbusto\",\"Hierba\",\"Hierba\",\"Hierba\",\"Hierba\",\"Hierba\",\"Hierba\",\"Hierba\",\"Hierba\",\"Hierba\",\"Hierba\",\"Hierba\",\"Hierba\",\"Hierba\",\"Hierba\",\"Hierba\",\"Hierba\",\"Hierba\",\"Hierba\",\"Hierba\",\"Hierba\",\"Hierba\",\"Hierba\",\"Hierba\",\"Hierba\",\"Hierba\",\"Hierba\",\"Hierba\",\"Hierba\",\"Hierba\",\"Hierba\",\"Hierba\",\"Hierba\",\"Hierba\",\"Hierba\",\"Hierba\",\"Hierba\",\"Hierba\",\"Hierba\",\"Hierba\",\"Hierba\",\"Hierba\",\"Hierba\",\"Hierba\",\"Hierba\",\"Hierba\"],\"PC_1\":{\"__ndarray__\":\"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\",\"dtype\":\"float64\",\"order\":\"little\",\"shape\":[1190]},\"PC_2\":{\"__ndarray__\":\"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\",\"dtype\":\"float64\",\"order\":\"little\",\"shape\":[1190]},\"PC_3\":{\"__ndarray__\":\"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\",\"dtype\":\"float64\",\"order\":\"little\",\"shape\":[1190]},\"altitudmapa\":[9,79,271,271,1572,1572,32,32,259,10,9,715,1434,1267,715,252,396,603,724,259,1659,1890,824,1338,558,824,824,1338,824,8,557,558,824,342,612,2349,2003,583,499,1609,612,1295,1295,354,1224,1879,1879,1250,1191,1196,1596,744,360,1606,2827,2827,1914,1381,1356,1381,1356,2090,1871,1254,1616,1435,1435,1532,2225,504,858,858,645,645,1464,1464,342,199,2325,1750,1213,1213,2331,2231,2464,2331,2231,2464,849,1094,1354,1931,1931,1250,2297,2375,1976,2154,1253,1693,910,1102,910,1750,1750,2346,2346,2346,2346,2114,1818,306,306,306,306,1101,405,405,695,1059,140,96,1636,2082,1636,1874,1874,1874,1884,1871,1521,1811,1521,9,1302,201,1302,201,1275,1275,1431,1982,2137,2629,11,1108,11,149,59,54,358,18,33,291,131,2137,2137,2435,1572,404,290,584,244,2458,519,254,1353,2090,1081,824,499,1660,939,644,497,631,1131,632,1597,556,681,408,553,345,1392,690,985,512,421,1605,1625,715,715,1753,754,1346,239,234,1624,465,755,1122,1133,1748,871,397,1277,1997,1262,1262,1313,1389,1508,1863,1269,1814,1862,1065,1513,1250,1445,1180,1829,562,1069,981,1894,1136,1191,1730,1691,1354,1613,1014,1014,1709,707,1466,887,887,806,1151,945,1133,926,1127,708,908,1806,1576,1493,1945,1962,1094,1008,1309,640,1655,1300,1952,1158,887,1083,1183,887,314,1083,926,710,710,926,926,1089,805,1354,1354,1354,1748,300,610,610,1724,1883,2162,1094,2662,1102,910,910,1001,170,1871,2107,1863,1531,1216,314,1275,928,611,1997,1997,1997,1997,1997,1391,1500,1500,1500,1500,1758,1758,1505,1376,548,2399,1091,940,1935,1713,1376,565,2399,2035,1894,1691,1457,1466,2081,1457,1117,1101,1014,2263,1014,438,1457,934,610,610,715,610,715,610,715,610,715,610,1327,984,1176,360,1548,1749,861,1873,1714,1302,1302,1449,1518,1949,1973,972,96,1000,779,976,923,812,110,2246,1542,1924,2319,1849,1048,1531,1837,1094,1508,1157,1959,1457,1103,2090,1457,674,2090,1992,2034,2005,2034,887,1186,887,142,916,1008,662,1785,512,509,541,688,1663,819,466,690,1237,858,1873,271,9,130,1093,1247,2152,987,606,468,798,432,838,1931,1445,2056,703,1026,1575,16,9,7,8,38,11,147,147,147,2459,2031,394,584,1635,234,1346,869,106,81,154,54,744,77,2221,384,2221,2223,2223,2223,2223,2223,2223,1816,1816,1584,666,631,949,892,88,1196,2198,1976,1605,1391,1286,1800,1528,576,645,955,1180,1180,1845,1208,1883,2232,823,2599,774,547,734,742,331,581,1501,1967,1949,1440,636,1404,404,1109,583,810,1738,1008,2492,2089,2662,729,581,493,1023,224,1105,1516,117,1929,9,79,175,1354,2252,1354,950,806,2035,1026,1509,910,516,461,1718,1091,358,37,24,375,129,249,12,2061,1914,1686,1167,914,117,1566,657,2081,640,720,2263,54,10,7,176,619,754,74,2243,173,1837,1018,1709,1600,1515,1660,1651,1648,1136,707,794,426,550,578,736,299,179,1544,1402,1386,55,55,291,278,55,278,479,987,426,1594,1131,1808,1967,1846,2043,3103,2613,3103,3103,3103,151,250,39,36,453,453,1739,2223,1849,1849,245,245,1374,99,0,8,26,66,66,1707,1707,1448,1180,1837,1418,698,190,152,99,114,114,114,583,1049,249,532,58,1760,1572,404,290,584,244,2458,499,1660,939,644,497,631,1131,632,1597,556,681,408,553,345,1392,690,985,512,421,1605,1625,715,715,1753,754,1346,239,234,1624,465,755,1122,1133,1748,871,397,1277,1997,1262,1262,1313,1389,1508,1863,1269,1814,1862,1065,1513,1250,1445,1180,1829,562,1069,981,1894,1136,1191,1730,1691,1354,1613,1014,1014,1709,707,1466,887,887,806,1151,945,1133,926,1127,708,908,1806,1576,1493,1945,1962,1094,1008,1309,640,1655,1300,1952,1158,887,1083,1183,887,314,1083,926,710,710,926,926,1089,805,1354,1354,1354,1748,300,610,610,1724,1883,2162,1094,2662,1102,910,910,1001,1094,1967,329,1197,2044,1830,1316,836,1301,1884,1181,986,1249,1867,1883,2092,1691,1321,1950,203,725,1416,235,922,306,204,100,129,319,1401,1704,1354,1354,1354,2669,2616,2252,1973,2252,2611,496,1786,914,662,470,1843,2323,1102,910,910,910,524,1446,1446,1521,1521,1521,1521,1401,1180,947,549,588,558,588,551,1446,1446,780,873,1169,1415,1545,1613,1432,1113,947,1445,1010,647,910,687,910,1113,947,1445,1010,647,910,687,910,925,314,880,946,545,737,1012,826,320,1257,701,1142,1145,1080,320,945,1145,1104,914,1079,998,348,173,993,880,1388,3103,1186,1029,314,1327,2025,1372,1969,1239,910,626,626,2074,118,1587,2325,1457,1176,233,415,327,691,274,659,418,204,227,914,162,572,324,192,392,83,167,599,1121,609,134,498,684,598,5,172,128,109,120,956,180,156,691,1135,621,498,164,283,192,612,789,10,470,924,227,313,16,212,858,838,380,227,1237,1651,1401,7,185,171,494,21,20,53,8,312,18,349,518,159,28,13,653,284,16,53,7,18,328,185,8,607,611,1284,559,8,12,11,1064,1064,391,410,296,127,9,34,47,509,399,494,441,233,355,368,137,1060,233,82,441,233,135,110,137,315,233,147,233,298,230,155,384,155,21,83,164,258,384,388,394,21,198,73,170,20,754,541,644,501,653,347,541,50,466,648,439,34,673,403,403,192,281,7,89,608,399,344,236,81,8,6,192,608,133,228,344,279,41,238,1401,5,54,501,5,220,496,172,1125,12,280,5,355,167,39,167,426,47,280,355,76,9,10,263,169,366,356,16,240,9,240,250,314,154,9,1187,1300,506,479,1477,1472,1295,1742,2002,1236,1229,1229,1557,2616,2252,1973,2252,2611,496,1786,914,662,470,1843,2323,1102,910,910,910,1950,203,725,1416,235,922,306,204,100,129,319,1852,1998,1694,1694,1694,1554,1728,1739,1844,1647,1739,1013,1063,1668,1502,1628,1782,1647,1502,1502,1502,1502,1525,1502,1502,1806,1060,882,1190,745,513,182,1418,1068,1122,1315,1572,1180,2035,2090,1263,1532,1741,1913,1049,1649,1589],\"clase\":[\"Liliopsida\",\"Liliopsida\",\"Liliopsida\",\"Liliopsida\",\"Liliopsida\",\"Liliopsida\",\"Liliopsida\",\"Liliopsida\",\"Liliopsida\",\"Liliopsida\",\"Liliopsida\",\"Liliopsida\",\"Liliopsida\",\"Liliopsida\",\"Liliopsida\",\"Liliopsida\",\"Liliopsida\",\"Liliopsida\",\"Liliopsida\",\"Liliopsida\",\"Liliopsida\",\"Liliopsida\",\"Liliopsida\",\"Liliopsida\",\"Liliopsida\",\"Liliopsida\",\"Liliopsida\",\"Liliopsida\",\"Liliopsida\",\"Liliopsida\",\"Liliopsida\",\"Liliopsida\",\"Liliopsida\",\"Liliopsida\",\"Liliopsida\",\"Liliopsida\",\"Liliopsida\",\"Liliopsida\",\"Liliopsida\",\"Liliopsida\",\"Liliopsida\",\"Liliopsida\",\"Liliopsida\",\"Liliopsida\",\"Liliopsida\",\"Liliopsida\",\"Liliopsida\",\"Liliopsida\",\"Liliopsida\",\"Liliopsida\",\"Liliopsida\",\"Liliopsida\",\"Liliopsida\",\"Liliopsida\",\"Liliopsida\",\"Liliopsida\",\"Liliopsida\",\"Liliopsida\",\"Liliopsida\",\"Liliopsida\",\"Liliopsida\",\"Liliopsida\",\"Liliopsida\",\"Liliopsida\",\"Liliopsida\",\"Liliopsida\",\"Liliopsida\",\"Liliopsida\",\"Liliopsida\",\"Liliopsida\",\"Liliopsida\",\"Liliopsida\",\"Liliopsida\",\"Liliopsida\",\"Liliopsida\",\"Liliopsida\",\"Liliopsida\",\"Liliopsida\",\"Liliopsida\",\"Liliopsida\",\"Liliopsida\",\"Liliopsida\",\"Liliopsida\",\"Liliopsida\",\"Liliopsida\",\"Liliopsida\",\"Liliopsida\",\"Liliopsida\",\"Liliopsida\",\"Liliopsida\",\"Liliopsida\",\"Liliopsida\",\"Liliopsida\",\"Liliopsida\",\"Liliopsida\",\"Liliopsida\",\"Liliopsida\",\"Liliopsida\",\"Liliopsida\",\"Liliopsida\",\"Liliopsida\",\"Liliopsida\",\"Liliopsida\",\"Liliopsida\",\"Liliopsida\",\"Liliopsida\",\"Liliopsida\",\"Liliopsida\",\"Liliopsida\",\"Liliopsida\",\"Liliopsida\",\"Liliopsida\",\"Liliopsida\",\"Liliopsida\",\"Liliopsida\",\"Liliopsida\",\"Liliopsida\",\"Liliopsida\",\"Liliopsida\",\"Liliopsida\",\"Liliopsida\",\"Liliopsida\",\"Liliopsida\",\"Liliopsida\",\"Liliopsida\",\"Liliopsida\",\"Liliopsida\",\"Liliopsida\",\"Liliopsida\",\"Liliopsida\",\"Liliopsida\",\"Liliopsida\",\"Liliopsida\",\"Liliopsida\",\"Liliopsida\",\"Liliopsida\",\"Liliopsida\",\"Liliopsida\",\"Liliopsida\",\"Liliopsida\",\"Liliopsida\",\"Liliopsida\",\"Liliopsida\",\"Liliopsida\",\"Liliopsida\",\"Liliopsida\",\"Liliopsida\",\"Liliopsida\",\"Liliopsida\",\"Liliopsida\",\"Liliopsida\",\"Liliopsida\",\"Liliopsida\",\"Liliopsida\",\"Liliopsida\",\"Liliopsida\",\"Liliopsida\",\"Liliopsida\",\"Lycopodiopsida\",\"Lycopodiopsida\",\"Lycopodiopsida\",\"Lycopodiopsida\",\"Lycopodiopsida\",\"Lycopodiopsida\",\"Lycopodiopsida\",\"Lycopodiopsida\",\"Lycopodiopsida\",\"Lycopodiopsida\",\"Lycopodiopsida\",\"Lycopodiopsida\",\"Lycopodiopsida\",\"Lycopodiopsida\",\"Lycopodiopsida\",\"Lycopodiopsida\",\"Lycopodiopsida\",\"Lycopodiopsida\",\"Lycopodiopsida\",\"Lycopodiopsida\",\"Lycopodiopsida\",\"Lycopodiopsida\",\"Lycopodiopsida\",\"Lycopodiopsida\",\"Lycopodiopsida\",\"Lycopodiopsida\",\"Lycopodiopsida\",\"Lycopodiopsida\",\"Lycopodiopsida\",\"Lycopodiopsida\",\"Lycopodiopsida\",\"Lycopodiopsida\",\"Lycopodiopsida\",\"Lycopodiopsida\",\"Lycopodiopsida\",\"Lycopodiopsida\",\"Lycopodiopsida\",\"Lycopodiopsida\",\"Lycopodiopsida\",\"Lycopodiopsida\",\"Lycopodiopsida\",\"Lycopodiopsida\",\"Lycopodiopsida\",\"Lycopodiopsida\",\"Lycopodiopsida\",\"Lycopodiopsida\",\"Lycopodiopsida\",\"Lycopodiopsida\",\"Lycopodiopsida\",\"Lycopodiopsida\",\"Lycopodiopsida\",\"Lycopodiopsida\",\"Lycopodiopsida\",\"Lycopodiopsida\",\"Lycopodiopsida\",\"Lycopodiopsida\",\"Lycopodiopsida\",\"Lycopodiopsida\",\"Lycopodiopsida\",\"Lycopodiopsida\",\"Lycopodiopsida\",\"Lycopodiopsida\",\"Lycopodiopsida\",\"Lycopodiopsida\",\"Lycopodiopsida\",\"Lycopodiopsida\",\"Lycopodiopsida\",\"Lycopodiopsida\",\"Lycopodiopsida\",\"Lycopodiopsida\",\"Lycopodiopsida\",\"Lycopodiopsida\",\"Lycopodiopsida\",\"Lycopodiopsida\",\"Lycopodiopsida\",\"Lycopodiopsida\",\"Lycopodiopsida\",\"Lycopodiopsida\",\"Lycopodiopsida\",\"Lycopodiopsida\",\"Lycopodiopsida\",\"Lycopodiopsida\",\"Lycopodiopsida\",\"Lycopodiopsida\",\"Lycopodiopsida\",\"Lycopodiopsida\",\"Lycopodiopsida\",\"Lycopodiopsida\",\"Lycopodiopsida\",\"Lycopodiopsida\",\"Lycopodiopsida\",\"Lycopodiopsida\",\"Lycopodiopsida\",\"Lycopodiopsida\",\"Lycopodiopsida\",\"Lycopodiopsida\",\"Lycopodiopsida\",\"Lycopodiopsida\",\"Lycopodiopsida\",\"Lycopodiopsida\",\"Lycopodiopsida\",\"Lycopodiopsida\",\"Lycopodiopsida\",\"Lycopodiopsida\",\"Lycopodiopsida\",\"Lycopodiopsida\",\"Lycopodiopsida\",\"Lycopodiopsida\",\"Lycopodiopsida\",\"Lycopodiopsida\",\"Lycopodiopsida\",\"Lycopodiopsida\",\"Lycopodiopsida\",\"Lycopodiopsida\",\"Lycopodiopsida\",\"Lycopodiopsida\",\"Lycopodiopsida\",\"Lycopodiopsida\",\"Lycopodiopsida\",\"Lycopodiopsida\",\"Lycopodiopsida\",\"Lycopodiopsida\",\"Lycopodiopsida\",\"Lycopodiopsida\",\"Lycopodiopsida\",\"Lycopodiopsida\",\"Lycopodiopsida\",\"Lycopodiopsida\",\"Lycopodiopsida\",\"Lycopodiopsida\",\"Lycopodiopsida\",\"Lycopodiopsida\",\"Lycopodiopsida\",\"Lycopodiopsida\",\"Lycopodiopsida\",\"Lycopodiopsida\",\"Lycopodiopsida\",\"Lycopodiopsida\",\"Lycopodiopsida\",\"Lycopodiopsida\",\"Lycopodiopsida\",\"Lycopodiopsida\",\"Lycopodiopsida\",\"Lycopodiopsida\",\"Lycopodiopsida\",\"Lycopodiopsida\",\"Lycopodiopsida\",\"Lycopodiopsida\",\"Lycopodiopsida\",\"Lycopodiopsida\",\"Lycopodiopsida\",\"Lycopodiopsida\",\"Lycopodiopsida\",\"Lycopodiopsida\",\"Lycopodiopsida\",\"Lycopodiopsida\",\"Lycopodiopsida\",\"Lycopodiopsida\",\"Lycopodiopsida\",\"Lycopodiopsida\",\"Lycopodiopsida\",\"Lycopodiopsida\",\"Lycopodiopsida\",\"Lycopodiopsida\",\"Lycopodiopsida\",\"Lycopodiopsida\",\"Lycopodiopsida\",\"Lycopodiopsida\",\"Lycopodiopsida\",\"Lycopodiopsida\",\"Lycopodiopsida\",\"Lycopodiopsida\",\"Lycopodiopsida\",\"Lycopodiopsida\",\"Lycopodiopsida\",\"Lycopodiopsida\",\"Lycopodiopsida\",\"Lycopodiopsida\",\"Lycopodiopsida\",\"Lycopodiopsida\",\"Lycopodiopsida\",\"Lycopodiopsida\",\"Lycopodiopsida\",\"Lycopodiopsida\",\"Lycopodiopsida\",\"Lycopodiopsida\",\"Lycopodiopsida\",\"Lycopodiopsida\",\"Lycopodiopsida\",\"Lycopodiopsida\",\"Lycopodiopsida\",\"Lycopodiopsida\",\"Lycopodiopsida\",\"Lycopodiopsida\",\"Lycopodiopsida\",\"Lycopodiopsida\",\"Lycopodiopsida\",\"Lycopodiopsida\",\"Lycopodiopsida\",\"Lycopodiopsida\",\"Lycopodiopsida\",\"Lycopodiopsida\",\"Lycopodiopsida\",\"Lycopodiopsida\",\"Lycopodiopsida\",\"Lycopodiopsida\",\"Lycopodiopsida\",\"Lycopodiopsida\",\"Lycopodiopsida\",\"Lycopodiopsida\",\"Lycopodiopsida\",\"Lycopodiopsida\",\"Lycopodiopsida\",\"Lycopodiopsida\",\"Lycopodiopsida\",\"Lycopodiopsida\",\"Lycopodiopsida\",\"Lycopodiopsida\",\"Lycopodiopsida\",\"Lycopodiopsida\",\"Lycopodiopsida\",\"Lycopodiopsida\",\"Lycopodiopsida\",\"Lycopodiopsida\",\"Lycopodiopsida\",\"Lycopodiopsida\",\"Lycopodiopsida\",\"Lycopodiopsida\",\"Lycopodiopsida\",\"Lycopodiopsida\",\"Lycopodiopsida\",\"Lycopodiopsida\",\"Lycopodiopsida\",\"Lycopodiopsida\",\"Lycopodiopsida\",\"Lycopodiopsida\",\"Lycopodiopsida\",\"Lycopodiopsida\",\"Lycopodiopsida\",\"Lycopodiopsida\",\"Lycopodiopsida\",\"Lycopodiopsida\",\"Lycopodiopsida\",\"Lycopodiopsida\",\"Lycopodiopsida\",\"Lycopodiopsida\",\"Lycopodiopsida\",\"Lycopodiopsida\",\"Lycopodiopsida\",\"Lycopodiopsida\",\"Lycopodiopsida\",\"Lycopodiopsida\",\"Lycopodiopsida\",\"Lycopodiopsida\",\"Magnoliopsida\",\"Magnoliopsida\",\"Magnoliopsida\",\"Magnoliopsida\",\"Magnoliopsida\",\"Magnoliopsida\",\"Magnoliopsida\",\"Magnoliopsida\",\"Magnoliopsida\",\"Magnoliopsida\",\"Magnoliopsida\",\"Magnoliopsida\",\"Magnoliopsida\",\"Magnoliopsida\",\"Magnoliopsida\",\"Magnoliopsida\",\"Magnoliopsida\",\"Magnoliopsida\",\"Magnoliopsida\",\"Magnoliopsida\",\"Magnoliopsida\",\"Magnoliopsida\",\"Magnoliopsida\",\"Magnoliopsida\",\"Magnoliopsida\",\"Magnoliopsida\",\"Magnoliopsida\",\"Magnoliopsida\",\"Magnoliopsida\",\"Magnoliopsida\",\"Magnoliopsida\",\"Magnoliopsida\",\"Magnoliopsida\",\"Magnoliopsida\",\"Magnoliopsida\",\"Magnoliopsida\",\"Magnoliopsida\",\"Magnoliopsida\",\"Magnoliopsida\",\"Magnoliopsida\",\"Magnoliopsida\",\"Magnoliopsida\",\"Magnoliopsida\",\"Magnoliopsida\",\"Magnoliopsida\",\"Magnoliopsida\",\"Magnoliopsida\",\"Magnoliopsida\",\"Magnoliopsida\",\"Magnoliopsida\",\"Magnoliopsida\",\"Magnoliopsida\",\"Magnoliopsida\",\"Magnoliopsida\",\"Magnoliopsida\",\"Magnoliopsida\",\"Magnoliopsida\",\"Magnoliopsida\",\"Magnoliopsida\",\"Magnoliopsida\",\"Magnoliopsida\",\"Magnoliopsida\",\"Magnoliopsida\",\"Magnoliopsida\",\"Magnoliopsida\",\"Magnoliopsida\",\"Magnoliopsida\",\"Magnoliopsida\",\"Magnoliopsida\",\"Magnoliopsida\",\"Magnoliopsida\",\"Magnoliopsida\",\"Magnoliopsida\",\"Magnoliopsida\",\"Magnoliopsida\",\"Magnoliopsida\",\"Magnoliopsida\",\"Magnoliopsida\",\"Magnoliopsida\",\"Magnoliopsida\",\"Magnoliopsida\",\"Magnoliopsida\",\"Magnoliopsida\",\"Magnoliopsida\",\"Magnoliopsida\",\"Magnoliopsida\",\"Magnoliopsida\",\"Magnoliopsida\",\"Magnoliopsida\",\"Magnoliopsida\",\"Magnoliopsida\",\"Magnoliopsida\",\"Magnoliopsida\",\"Magnoliopsida\",\"Magnoliopsida\",\"Magnoliopsida\",\"Magnoliopsida\",\"Magnoliopsida\",\"Magnoliopsida\",\"Magnoliopsida\",\"Magnoliopsida\",\"Magnoliopsida\",\"Magnoliopsida\",\"Magnoliopsida\",\"Magnoliopsida\",\"Magnoliopsida\",\"Magnoliopsida\",\"Magnoliopsida\",\"Magnoliopsida\",\"Magnoliopsida\",\"Magnoliopsida\",\"Magnoliopsida\",\"Magnoliopsida\",\"Magnoliopsida\",\"Magnoliopsida\",\"Magnoliopsida\",\"Magnoliopsida\",\"Magnoliopsida\",\"Magnoliopsida\",\"Magnoliopsida\",\"Magnoliopsida\",\"Magnoliopsida\",\"Magnoliopsida\",\"Magnoliopsida\",\"Magnoliopsida\",\"Magnoliopsida\",\"Magnoliopsida\",\"Magnoliopsida\",\"Magnoliopsida\",\"Magnoliopsida\",\"Magnoliopsida\",\"Magnoliopsida\",\"Magnoliopsida\",\"Magnoliopsida\",\"Magnoliopsida\",\"Magnoliopsida\",\"Magnoliopsida\",\"Magnoliopsida\",\"Magnoliopsida\",\"Magnoliopsida\",\"Magnoliopsida\",\"Magnoliopsida\",\"Magnoliopsida\",\"Magnoliopsida\",\"Magnoliopsida\",\"Magnoliopsida\",\"Magnoliopsida\",\"Magnoliopsida\",\"Magnoliopsida\",\"Magnoliopsida\",\"Magnoliopsida\",\"Magnoliopsida\",\"Magnoliopsida\",\"Magnoliopsida\",\"Magnoliopsida\",\"Magnoliopsida\",\"Magnoliopsida\",\"Magnoliopsida\",\"Magnoliopsida\",\"Magnoliopsida\",\"Magnoliopsida\",\"Magnoliopsida\",\"Magnoliopsida\",\"Magnoliopsida\",\"Magnoliopsida\",\"Magnoliopsida\",\"Magnoliopsida\",\"Magnoliopsida\",\"Magnoliopsida\",\"Magnoliopsida\",\"Magnoliopsida\",\"Magnoliopsida\",\"Magnoliopsida\",\"Magnoliopsida\",\"Magnoliopsida\",\"Magnoliopsida\",\"Magnoliopsida\",\"Magnoliopsida\",\"Magnoliopsida\",\"Magnoliopsida\",\"Magnoliopsida\",\"Magnoliopsida\",\"Magnoliopsida\",\"Magnoliopsida\",\"Magnoliopsida\",\"Magnoliopsida\",\"Magnoliopsida\",\"Magnoliopsida\",\"Magnoliopsida\",\"Magnoliopsida\",\"Magnoliopsida\",\"Magnoliopsida\",\"Magnoliopsida\",\"Magnoliopsida\",\"Magnoliopsida\",\"Magnoliopsida\",\"Magnoliopsida\",\"Magnoliopsida\",\"Magnoliopsida\",\"Magnoliopsida\",\"Magnoliopsida\",\"Magnoliopsida\",\"Magnoliopsida\",\"Magnoliopsida\",\"Magnoliopsida\",\"Magnoliopsida\",\"Magnoliopsida\",\"Magnoliopsida\",\"Magnoliopsida\",\"Magnoliopsida\",\"Magnoliopsida\",\"Magnoliopsida\",\"Magnoliopsida\",\"Magnoliopsida\",\"Magnoliopsida\",\"Magnoliopsida\",\"Magnoliopsida\",\"Magnoliopsida\",\"Magnoliopsida\",\"Magnoliopsida\",\"Magnoliopsida\",\"Magnoliopsida\",\"Magnoliopsida\",\"Magnoliopsida\",\"Magnoliopsida\",\"Magnoliopsida\",\"Magnoliopsida\",\"Magnoliopsida\",\"Magnoliopsida\",\"Lycopodiopsida\",\"Lycopodiopsida\",\"Lycopodiopsida\",\"Lycopodiopsida\",\"Lycopodiopsida\",\"Lycopodiopsida\",\"Lycopodiopsida\",\"Lycopodiopsida\",\"Lycopodiopsida\",\"Lycopodiopsida\",\"Lycopodiopsida\",\"Lycopodiopsida\",\"Lycopodiopsida\",\"Lycopodiopsida\",\"Lycopodiopsida\",\"Lycopodiopsida\",\"Lycopodiopsida\",\"Lycopodiopsida\",\"Lycopodiopsida\",\"Lycopodiopsida\",\"Lycopodiopsida\",\"Lycopodiopsida\",\"Lycopodiopsida\",\"Lycopodiopsida\",\"Lycopodiopsida\",\"Lycopodiopsida\",\"Lycopodiopsida\",\"Lycopodiopsida\",\"Lycopodiopsida\",\"Lycopodiopsida\",\"Lycopodiopsida\",\"Lycopodiopsida\",\"Lycopodiopsida\",\"Lycopodiopsida\",\"Lycopodiopsida\",\"Lycopodiopsida\",\"Lycopodiopsida\",\"Lycopodiopsida\",\"Lycopodiopsida\",\"Lycopodiopsida\",\"Lycopodiopsida\",\"Lycopodiopsida\",\"Lycopodiopsida\",\"Lycopodiopsida\",\"Lycopodiopsida\",\"Lycopodiopsida\",\"Lycopodiopsida\",\"Lycopodiopsida\",\"Lycopodiopsida\",\"Lycopodiopsida\",\"Lycopodiopsida\",\"Lycopodiopsida\",\"Lycopodiopsida\",\"Lycopodiopsida\",\"Lycopodiopsida\",\"Lycopodiopsida\",\"Lycopodiopsida\",\"Lycopodiopsida\",\"Lycopodiopsida\",\"Lycopodiopsida\",\"Lycopodiopsida\",\"Lycopodiopsida\",\"Lycopodiopsida\",\"Lycopodiopsida\",\"Lycopodiopsida\",\"Lycopodiopsida\",\"Lycopodiopsida\",\"Lycopodiopsida\",\"Lycopodiopsida\",\"Lycopodiopsida\",\"Lycopodiopsida\",\"Lycopodiopsida\",\"Lycopodiopsida\",\"Lycopodiopsida\",\"Lycopodiopsida\",\"Lycopodiopsida\",\"Lycopodiopsida\",\"Lycopodiopsida\",\"Lycopodiopsida\",\"Lycopodiopsida\",\"Lycopodiopsida\",\"Lycopodiopsida\",\"Lycopodiopsida\",\"Lycopodiopsida\",\"Lycopodiopsida\",\"Lycopodiopsida\",\"Lycopodiopsida\",\"Lycopodiopsida\",\"Lycopodiopsida\",\"Lycopodiopsida\",\"Lycopodiopsida\",\"Lycopodiopsida\",\"Lycopodiopsida\",\"Lycopodiopsida\",\"Lycopodiopsida\",\"Lycopodiopsida\",\"Lycopodiopsida\",\"Lycopodiopsida\",\"Lycopodiopsida\",\"Lycopodiopsida\",\"Lycopodiopsida\",\"Lycopodiopsida\",\"Lycopodiopsida\",\"Lycopodiopsida\",\"Lycopodiopsida\",\"Lycopodiopsida\",\"Lycopodiopsida\",\"Lycopodiopsida\",\"Lycopodiopsida\",\"Lycopodiopsida\",\"Lycopodiopsida\",\"Lycopodiopsida\",\"Lycopodiopsida\",\"Lycopodiopsida\",\"Lycopodiopsida\",\"Lycopodiopsida\",\"Lycopodiopsida\",\"Lycopodiopsida\",\"Lycopodiopsida\",\"Lycopodiopsida\",\"Lycopodiopsida\",\"Lycopodiopsida\",\"Lycopodiopsida\",\"Lycopodiopsida\",\"Lycopodiopsida\",\"Lycopodiopsida\",\"Magnoliopsida\",\"Magnoliopsida\",\"Magnoliopsida\",\"Magnoliopsida\",\"Magnoliopsida\",\"Magnoliopsida\",\"Magnoliopsida\",\"Magnoliopsida\",\"Magnoliopsida\",\"Magnoliopsida\",\"Magnoliopsida\",\"Magnoliopsida\",\"Magnoliopsida\",\"Magnoliopsida\",\"Magnoliopsida\",\"Magnoliopsida\",\"Magnoliopsida\",\"Magnoliopsida\",\"Magnoliopsida\",\"Magnoliopsida\",\"Magnoliopsida\",\"Magnoliopsida\",\"Magnoliopsida\",\"Magnoliopsida\",\"Magnoliopsida\",\"Magnoliopsida\",\"Magnoliopsida\",\"Magnoliopsida\",\"Magnoliopsida\",\"Magnoliopsida\",\"Magnoliopsida\",\"Magnoliopsida\",\"Magnoliopsida\",\"Magnoliopsida\",\"Magnoliopsida\",\"Magnoliopsida\",\"Magnoliopsida\",\"Magnoliopsida\",\"Magnoliopsida\",\"Magnoliopsida\",\"Magnoliopsida\",\"Magnoliopsida\",\"Magnoliopsida\",\"Magnoliopsida\",\"Magnoliopsida\",\"Magnoliopsida\",\"Magnoliopsida\",\"Magnoliopsida\",\"Magnoliopsida\",\"Magnoliopsida\",\"Magnoliopsida\",\"Magnoliopsida\",\"Magnoliopsida\",\"Magnoliopsida\",\"Magnoliopsida\",\"Magnoliopsida\",\"Magnoliopsida\",\"Magnoliopsida\",\"Magnoliopsida\",\"Magnoliopsida\",\"Magnoliopsida\",\"Magnoliopsida\",\"Magnoliopsida\",\"Magnoliopsida\",\"Magnoliopsida\",\"Magnoliopsida\",\"Magnoliopsida\",\"Magnoliopsida\",\"Magnoliopsida\",\"Magnoliopsida\",\"Magnoliopsida\",\"Magnoliopsida\",\"Magnoliopsida\",\"Magnoliopsida\",\"Magnoliopsida\",\"Magnoliopsida\",\"Magnoliopsida\",\"Magnoliopsida\",\"Magnoliopsida\",\"Magnoliopsida\",\"Magnoliopsida\",\"Magnoliopsida\",\"Magnoliopsida\",\"Magnoliopsida\",\"Magnoliopsida\",\"Magnoliopsida\",\"Magnoliopsida\",\"Magnoliopsida\",\"Magnoliopsida\",\"Magnoliopsida\",\"Magnoliopsida\",\"Magnoliopsida\",\"Magnoliopsida\",\"Magnoliopsida\",\"Magnoliopsida\",\"Magnoliopsida\",\"Magnoliopsida\",\"Magnoliopsida\",\"Magnoliopsida\",\"Magnoliopsida\",\"Magnoliopsida\",\"Magnoliopsida\",\"Magnoliopsida\",\"Magnoliopsida\",\"Magnoliopsida\",\"Magnoliopsida\",\"Magnoliopsida\",\"Magnoliopsida\",\"Magnoliopsida\",\"Magnoliopsida\",\"Magnoliopsida\",\"Magnoliopsida\",\"Magnoliopsida\",\"Magnoliopsida\",\"Magnoliopsida\",\"Magnoliopsida\",\"Magnoliopsida\",\"Magnoliopsida\",\"Magnoliopsida\",\"Magnoliopsida\",\"Magnoliopsida\",\"Magnoliopsida\",\"Magnoliopsida\",\"Magnoliopsida\",\"Magnoliopsida\",\"Magnoliopsida\",\"Magnoliopsida\",\"Magnoliopsida\",\"Magnoliopsida\",\"Magnoliopsida\",\"Magnoliopsida\",\"Magnoliopsida\",\"Magnoliopsida\",\"Magnoliopsida\",\"Magnoliopsida\",\"Magnoliopsida\",\"Magnoliopsida\",\"Magnoliopsida\",\"Magnoliopsida\",\"Magnoliopsida\",\"Magnoliopsida\",\"Magnoliopsida\",\"Magnoliopsida\",\"Magnoliopsida\",\"Magnoliopsida\",\"Magnoliopsida\",\"Magnoliopsida\",\"Magnoliopsida\",\"Magnoliopsida\",\"Magnoliopsida\",\"Magnoliopsida\",\"Magnoliopsida\",\"Magnoliopsida\",\"Magnoliopsida\",\"Magnoliopsida\",\"Magnoliopsida\",\"Magnoliopsida\",\"Magnoliopsida\",\"Magnoliopsida\",\"Magnoliopsida\",\"Magnoliopsida\",\"Magnoliopsida\",\"Magnoliopsida\",\"Magnoliopsida\",\"Magnoliopsida\",\"Magnoliopsida\",\"Magnoliopsida\",\"Magnoliopsida\",\"Magnoliopsida\",\"Magnoliopsida\",\"Magnoliopsida\",\"Magnoliopsida\",\"Magnoliopsida\",\"Magnoliopsida\",\"Magnoliopsida\",\"Magnoliopsida\",\"Magnoliopsida\",\"Magnoliopsida\",\"Magnoliopsida\",\"Magnoliopsida\",\"Magnoliopsida\",\"Magnoliopsida\",\"Magnoliopsida\",\"Magnoliopsida\",\"Magnoliopsida\",\"Magnoliopsida\",\"Magnoliopsida\",\"Magnoliopsida\",\"Magnoliopsida\",\"Magnoliopsida\",\"Magnoliopsida\",\"Magnoliopsida\",\"Magnoliopsida\",\"Magnoliopsida\",\"Magnoliopsida\",\"Magnoliopsida\",\"Magnoliopsida\",\"Magnoliopsida\",\"Magnoliopsida\",\"Magnoliopsida\",\"Magnoliopsida\",\"Magnoliopsida\",\"Magnoliopsida\",\"Magnoliopsida\",\"Magnoliopsida\",\"Magnoliopsida\",\"Magnoliopsida\",\"Magnoliopsida\",\"Magnoliopsida\",\"Magnoliopsida\",\"Magnoliopsida\",\"Magnoliopsida\",\"Magnoliopsida\",\"Magnoliopsida\",\"Magnoliopsida\",\"Magnoliopsida\",\"Magnoliopsida\",\"Magnoliopsida\",\"Magnoliopsida\",\"Magnoliopsida\",\"Magnoliopsida\",\"Magnoliopsida\",\"Magnoliopsida\",\"Magnoliopsida\",\"Magnoliopsida\",\"Magnoliopsida\",\"Magnoliopsida\",\"Magnoliopsida\",\"Magnoliopsida\",\"Magnoliopsida\",\"Magnoliopsida\",\"Magnoliopsida\",\"Magnoliopsida\",\"Magnoliopsida\",\"Magnoliopsida\",\"Magnoliopsida\",\"Magnoliopsida\",\"Magnoliopsida\",\"Magnoliopsida\",\"Magnoliopsida\",\"Magnoliopsida\",\"Magnoliopsida\",\"Magnoliopsida\",\"Magnoliopsida\",\"Magnoliopsida\",\"Magnoliopsida\",\"Magnoliopsida\",\"Magnoliopsida\",\"Magnoliopsida\",\"Magnoliopsida\",\"Magnoliopsida\",\"Magnoliopsida\",\"Magnoliopsida\",\"Magnoliopsida\",\"Magnoliopsida\",\"Magnoliopsida\",\"Magnoliopsida\",\"Magnoliopsida\",\"Magnoliopsida\",\"Magnoliopsida\",\"Magnoliopsida\",\"Magnoliopsida\",\"Magnoliopsida\",\"Magnoliopsida\",\"Magnoliopsida\",\"Magnoliopsida\",\"Magnoliopsida\",\"Magnoliopsida\",\"Magnoliopsida\",\"Magnoliopsida\",\"Magnoliopsida\",\"Magnoliopsida\",\"Magnoliopsida\",\"Magnoliopsida\",\"Magnoliopsida\",\"Magnoliopsida\",\"Magnoliopsida\",\"Magnoliopsida\",\"Magnoliopsida\",\"Magnoliopsida\",\"Magnoliopsida\",\"Magnoliopsida\",\"Magnoliopsida\",\"Magnoliopsida\",\"Magnoliopsida\",\"Magnoliopsida\",\"Magnoliopsida\",\"Magnoliopsida\",\"Magnoliopsida\",\"Magnoliopsida\",\"Magnoliopsida\",\"Magnoliopsida\",\"Magnoliopsida\",\"Magnoliopsida\",\"Magnoliopsida\",\"Magnoliopsida\",\"Magnoliopsida\",\"Magnoliopsida\",\"Magnoliopsida\",\"Magnoliopsida\",\"Magnoliopsida\",\"Magnoliopsida\",\"Magnoliopsida\",\"Magnoliopsida\",\"Magnoliopsida\",\"Magnoliopsida\",\"Magnoliopsida\",\"Magnoliopsida\",\"Magnoliopsida\",\"Magnoliopsida\",\"Magnoliopsida\",\"Magnoliopsida\",\"Magnoliopsida\",\"Magnoliopsida\",\"Magnoliopsida\",\"Magnoliopsida\",\"Magnoliopsida\",\"Magnoliopsida\",\"Magnoliopsida\",\"Magnoliopsida\",\"Magnoliopsida\",\"Magnoliopsida\",\"Magnoliopsida\",\"Magnoliopsida\",\"Magnoliopsida\",\"Magnoliopsida\",\"Magnoliopsida\",\"Magnoliopsida\",\"Magnoliopsida\",\"Magnoliopsida\",\"Magnoliopsida\",\"Magnoliopsida\",\"Magnoliopsida\",\"Magnoliopsida\",\"Magnoliopsida\",\"Magnoliopsida\",\"Magnoliopsida\",\"Magnoliopsida\",\"Magnoliopsida\",\"Magnoliopsida\",\"Magnoliopsida\",\"Magnoliopsida\",\"Magnoliopsida\",\"Magnoliopsida\",\"Magnoliopsida\",\"Magnoliopsida\",\"Magnoliopsida\",\"Magnoliopsida\",\"Magnoliopsida\",\"Magnoliopsida\",\"Magnoliopsida\",\"Magnoliopsida\",\"Magnoliopsida\",\"Magnoliopsida\",\"Magnoliopsida\",\"Magnoliopsida\",\"Magnoliopsida\",\"Magnoliopsida\",\"Magnoliopsida\",\"Magnoliopsida\",\"Magnoliopsida\",\"Magnoliopsida\",\"Magnoliopsida\",\"Magnoliopsida\",\"Magnoliopsida\",\"Magnoliopsida\",\"Magnoliopsida\",\"Magnoliopsida\",\"Magnoliopsida\",\"Magnoliopsida\",\"Magnoliopsida\",\"Magnoliopsida\",\"Magnoliopsida\",\"Magnoliopsida\",\"Magnoliopsida\",\"Magnoliopsida\",\"Magnoliopsida\",\"Magnoliopsida\",\"Magnoliopsida\",\"Magnoliopsida\",\"Magnoliopsida\",\"Magnoliopsida\",\"Magnoliopsida\",\"Magnoliopsida\",\"Magnoliopsida\",\"Magnoliopsida\",\"Magnoliopsida\",\"Magnoliopsida\",\"Magnoliopsida\",\"Magnoliopsida\",\"Magnoliopsida\",\"Magnoliopsida\",\"Magnoliopsida\",\"Magnoliopsida\",\"Magnoliopsida\",\"Magnoliopsida\",\"Magnoliopsida\",\"Magnoliopsida\",\"Magnoliopsida\",\"Magnoliopsida\",\"Magnoliopsida\",\"Magnoliopsida\",\"Magnoliopsida\",\"Magnoliopsida\",\"Magnoliopsida\",\"Magnoliopsida\",\"Magnoliopsida\",\"Magnoliopsida\",\"Magnoliopsida\",\"Magnoliopsida\",\"Magnoliopsida\",\"Magnoliopsida\",\"Magnoliopsida\",\"Magnoliopsida\",\"Magnoliopsida\",\"Magnoliopsida\",\"Magnoliopsida\",\"Magnoliopsida\",\"Magnoliopsida\",\"Magnoliopsida\",\"Magnoliopsida\",\"Magnoliopsida\",\"Magnoliopsida\"],\"familia\":[\"Alismataceae\",\"Alismataceae\",\"Alismataceae\",\"Alismataceae\",\"Alismataceae\",\"Alismataceae\",\"Alismataceae\",\"Alismataceae\",\"Alismataceae\",\"Alismataceae\",\"Alismataceae\",\"Araceae\",\"Araceae\",\"Araceae\",\"Araceae\",\"Araceae\",\"Araceae\",\"Araceae\",\"Araceae\",\"Araceae\",\"Araceae\",\"Araceae\",\"Arecaceae\",\"Arecaceae\",\"Arecaceae\",\"Arecaceae\",\"Arecaceae\",\"Arecaceae\",\"Arecaceae\",\"Arecaceae\",\"Arecaceae\",\"Arecaceae\",\"Arecaceae\",\"Amaryllidaceae\",\"Amaryllidaceae\",\"Amaryllidaceae\",\"Amaryllidaceae\",\"Amaryllidaceae\",\"Amaryllidaceae\",\"Amaryllidaceae\",\"Amaryllidaceae\",\"Amaryllidaceae\",\"Amaryllidaceae\",\"Amaryllidaceae\",\"Bromeliaceae\",\"Bromeliaceae\",\"Bromeliaceae\",\"Bromeliaceae\",\"Bromeliaceae\",\"Bromeliaceae\",\"Bromeliaceae\",\"Bromeliaceae\",\"Bromeliaceae\",\"Bromeliaceae\",\"Commelinaceae\",\"Commelinaceae\",\"Commelinaceae\",\"Commelinaceae\",\"Commelinaceae\",\"Commelinaceae\",\"Commelinaceae\",\"Commelinaceae\",\"Commelinaceae\",\"Commelinaceae\",\"Commelinaceae\",\"Cyclanthaceae\",\"Cyclanthaceae\",\"Cyperaceae\",\"Cyperaceae\",\"Cyperaceae\",\"Cyperaceae\",\"Cyperaceae\",\"Cyperaceae\",\"Cyperaceae\",\"Cyperaceae\",\"Cyperaceae\",\"Cyperaceae\",\"Cyperaceae\",\"Dioscoreaceae\",\"Dioscoreaceae\",\"Dioscoreaceae\",\"Dioscoreaceae\",\"Dioscoreaceae\",\"Dioscoreaceae\",\"Dioscoreaceae\",\"Dioscoreaceae\",\"Dioscoreaceae\",\"Dioscoreaceae\",\"Dioscoreaceae\",\"Iridaceae\",\"Iridaceae\",\"Iridaceae\",\"Iridaceae\",\"Iridaceae\",\"Iridaceae\",\"Iridaceae\",\"Iridaceae\",\"Alstroemeriaceae\",\"Alstroemeriaceae\",\"Alstroemeriaceae\",\"Melanthiaceae\",\"Melanthiaceae\",\"Melanthiaceae\",\"Melanthiaceae\",\"Melanthiaceae\",\"Melanthiaceae\",\"Melanthiaceae\",\"Melanthiaceae\",\"Melanthiaceae\",\"Melanthiaceae\",\"Melanthiaceae\",\"Hydrocharitaceae\",\"Hydrocharitaceae\",\"Hydrocharitaceae\",\"Hydrocharitaceae\",\"Hydrocharitaceae\",\"Hydrocharitaceae\",\"Hydrocharitaceae\",\"Hydrocharitaceae\",\"Hydrocharitaceae\",\"Hydrocharitaceae\",\"Hydrocharitaceae\",\"Poaceae\",\"Poaceae\",\"Poaceae\",\"Poaceae\",\"Poaceae\",\"Poaceae\",\"Poaceae\",\"Poaceae\",\"Poaceae\",\"Poaceae\",\"Poaceae\",\"Pontederiaceae\",\"Pontederiaceae\",\"Pontederiaceae\",\"Pontederiaceae\",\"Pontederiaceae\",\"Pontederiaceae\",\"Pontederiaceae\",\"Pontederiaceae\",\"Pontederiaceae\",\"Pontederiaceae\",\"Pontederiaceae\",\"Typhaceae\",\"Typhaceae\",\"Typhaceae\",\"Typhaceae\",\"Typhaceae\",\"Typhaceae\",\"Typhaceae\",\"Typhaceae\",\"Typhaceae\",\"Typhaceae\",\"Typhaceae\",\"Cannaceae\",\"Cannaceae\",\"Musaceae\",\"Isoetaceae\",\"Isoetaceae\",\"Isoetaceae\",\"Isoetaceae\",\"Isoetaceae\",\"Lycopodiaceae\",\"Selaginellaceae\",\"Selaginellaceae\",\"Selaginellaceae\",\"Selaginellaceae\",\"Selaginellaceae\",\"Selaginellaceae\",\"Selaginellaceae\",\"Selaginellaceae\",\"Selaginellaceae\",\"Selaginellaceae\",\"Selaginellaceae\",\"Selaginellaceae\",\"Selaginellaceae\",\"Selaginellaceae\",\"Selaginellaceae\",\"Selaginellaceae\",\"Selaginellaceae\",\"Selaginellaceae\",\"Selaginellaceae\",\"Selaginellaceae\",\"Selaginellaceae\",\"Selaginellaceae\",\"Selaginellaceae\",\"Selaginellaceae\",\"Selaginellaceae\",\"Selaginellaceae\",\"Selaginellaceae\",\"Selaginellaceae\",\"Selaginellaceae\",\"Selaginellaceae\",\"Selaginellaceae\",\"Selaginellaceae\",\"Selaginellaceae\",\"Selaginellaceae\",\"Selaginellaceae\",\"Selaginellaceae\",\"Selaginellaceae\",\"Selaginellaceae\",\"Selaginellaceae\",\"Selaginellaceae\",\"Selaginellaceae\",\"Selaginellaceae\",\"Selaginellaceae\",\"Selaginellaceae\",\"Selaginellaceae\",\"Selaginellaceae\",\"Selaginellaceae\",\"Selaginellaceae\",\"Selaginellaceae\",\"Selaginellaceae\",\"Selaginellaceae\",\"Selaginellaceae\",\"Selaginellaceae\",\"Selaginellaceae\",\"Selaginellaceae\",\"Selaginellaceae\",\"Selaginellaceae\",\"Selaginellaceae\",\"Selaginellaceae\",\"Selaginellaceae\",\"Selaginellaceae\",\"Selaginellaceae\",\"Selaginellaceae\",\"Selaginellaceae\",\"Selaginellaceae\",\"Selaginellaceae\",\"Selaginellaceae\",\"Selaginellaceae\",\"Selaginellaceae\",\"Selaginellaceae\",\"Selaginellaceae\",\"Selaginellaceae\",\"Selaginellaceae\",\"Selaginellaceae\",\"Selaginellaceae\",\"Selaginellaceae\",\"Selaginellaceae\",\"Selaginellaceae\",\"Selaginellaceae\",\"Selaginellaceae\",\"Selaginellaceae\",\"Selaginellaceae\",\"Selaginellaceae\",\"Selaginellaceae\",\"Selaginellaceae\",\"Selaginellaceae\",\"Selaginellaceae\",\"Selaginellaceae\",\"Selaginellaceae\",\"Selaginellaceae\",\"Selaginellaceae\",\"Selaginellaceae\",\"Selaginellaceae\",\"Selaginellaceae\",\"Selaginellaceae\",\"Selaginellaceae\",\"Selaginellaceae\",\"Selaginellaceae\",\"Selaginellaceae\",\"Selaginellaceae\",\"Selaginellaceae\",\"Selaginellaceae\",\"Selaginellaceae\",\"Selaginellaceae\",\"Selaginellaceae\",\"Selaginellaceae\",\"Selaginellaceae\",\"Selaginellaceae\",\"Selaginellaceae\",\"Selaginellaceae\",\"Selaginellaceae\",\"Selaginellaceae\",\"Selaginellaceae\",\"Selaginellaceae\",\"Selaginellaceae\",\"Selaginellaceae\",\"Selaginellaceae\",\"Selaginellaceae\",\"Selaginellaceae\",\"Selaginellaceae\",\"Selaginellaceae\",\"Selaginellaceae\",\"Selaginellaceae\",\"Selaginellaceae\",\"Selaginellaceae\",\"Selaginellaceae\",\"Selaginellaceae\",\"Selaginellaceae\",\"Selaginellaceae\",\"Selaginellaceae\",\"Selaginellaceae\",\"Selaginellaceae\",\"Selaginellaceae\",\"Selaginellaceae\",\"Selaginellaceae\",\"Selaginellaceae\",\"Selaginellaceae\",\"Selaginellaceae\",\"Selaginellaceae\",\"Selaginellaceae\",\"Selaginellaceae\",\"Selaginellaceae\",\"Selaginellaceae\",\"Selaginellaceae\",\"Selaginellaceae\",\"Selaginellaceae\",\"Selaginellaceae\",\"Selaginellaceae\",\"Selaginellaceae\",\"Selaginellaceae\",\"Selaginellaceae\",\"Selaginellaceae\",\"Selaginellaceae\",\"Selaginellaceae\",\"Selaginellaceae\",\"Selaginellaceae\",\"Selaginellaceae\",\"Selaginellaceae\",\"Selaginellaceae\",\"Selaginellaceae\",\"Selaginellaceae\",\"Selaginellaceae\",\"Selaginellaceae\",\"Selaginellaceae\",\"Selaginellaceae\",\"Selaginellaceae\",\"Selaginellaceae\",\"Selaginellaceae\",\"Selaginellaceae\",\"Selaginellaceae\",\"Selaginellaceae\",\"Selaginellaceae\",\"Selaginellaceae\",\"Selaginellaceae\",\"Selaginellaceae\",\"Selaginellaceae\",\"Selaginellaceae\",\"Selaginellaceae\",\"Selaginellaceae\",\"Selaginellaceae\",\"Selaginellaceae\",\"Selaginellaceae\",\"Selaginellaceae\",\"Selaginellaceae\",\"Selaginellaceae\",\"Selaginellaceae\",\"Selaginellaceae\",\"Selaginellaceae\",\"Selaginellaceae\",\"Selaginellaceae\",\"Selaginellaceae\",\"Selaginellaceae\",\"Selaginellaceae\",\"Selaginellaceae\",\"Selaginellaceae\",\"Selaginellaceae\",\"Selaginellaceae\",\"Selaginellaceae\",\"Selaginellaceae\",\"Selaginellaceae\",\"Selaginellaceae\",\"Selaginellaceae\",\"Selaginellaceae\",\"Selaginellaceae\",\"Selaginellaceae\",\"Selaginellaceae\",\"Selaginellaceae\",\"Selaginellaceae\",\"Selaginellaceae\",\"Selaginellaceae\",\"Selaginellaceae\",\"Selaginellaceae\",\"Selaginellaceae\",\"Selaginellaceae\",\"Selaginellaceae\",\"Selaginellaceae\",\"Selaginellaceae\",\"Selaginellaceae\",\"Selaginellaceae\",\"Selaginellaceae\",\"Selaginellaceae\",\"Selaginellaceae\",\"Selaginellaceae\",\"Selaginellaceae\",\"Selaginellaceae\",\"Selaginellaceae\",\"Selaginellaceae\",\"Selaginellaceae\",\"Selaginellaceae\",\"Selaginellaceae\",\"Selaginellaceae\",\"Selaginellaceae\",\"Selaginellaceae\",\"Selaginellaceae\",\"Selaginellaceae\",\"Selaginellaceae\",\"Selaginellaceae\",\"Selaginellaceae\",\"Selaginellaceae\",\"Selaginellaceae\",\"Selaginellaceae\",\"Selaginellaceae\",\"Selaginellaceae\",\"Selaginellaceae\",\"Selaginellaceae\",\"Selaginellaceae\",\"Selaginellaceae\",\"Selaginellaceae\",\"Apiaceae\",\"Apiaceae\",\"Apiaceae\",\"Apiaceae\",\"Apiaceae\",\"Apiaceae\",\"Aristolochiaceae\",\"Aristolochiaceae\",\"Aristolochiaceae\",\"Aristolochiaceae\",\"Aristolochiaceae\",\"Aristolochiaceae\",\"Asteraceae\",\"Asteraceae\",\"Asteraceae\",\"Asteraceae\",\"Asteraceae\",\"Asteraceae\",\"Bataceae\",\"Bataceae\",\"Bataceae\",\"Bataceae\",\"Bataceae\",\"Bataceae\",\"Boraginaceae\",\"Boraginaceae\",\"Boraginaceae\",\"Boraginaceae\",\"Boraginaceae\",\"Brassicaceae\",\"Brassicaceae\",\"Brassicaceae\",\"Brassicaceae\",\"Brassicaceae\",\"Brassicaceae\",\"Achatocarpaceae\",\"Achatocarpaceae\",\"Achatocarpaceae\",\"Achatocarpaceae\",\"Achatocarpaceae\",\"Achatocarpaceae\",\"Aquifoliaceae\",\"Aquifoliaceae\",\"Aquifoliaceae\",\"Aquifoliaceae\",\"Aquifoliaceae\",\"Aquifoliaceae\",\"Aquifoliaceae\",\"Aquifoliaceae\",\"Aquifoliaceae\",\"Aquifoliaceae\",\"Aquifoliaceae\",\"Aquifoliaceae\",\"Viburnaceae\",\"Viburnaceae\",\"Viburnaceae\",\"Viburnaceae\",\"Viburnaceae\",\"Viburnaceae\",\"Sapotaceae\",\"Sapotaceae\",\"Sapotaceae\",\"Sapotaceae\",\"Sapotaceae\",\"Sapotaceae\",\"Apocynaceae\",\"Apocynaceae\",\"Apocynaceae\",\"Apocynaceae\",\"Apocynaceae\",\"Apocynaceae\",\"Oxalidaceae\",\"Oxalidaceae\",\"Oxalidaceae\",\"Oxalidaceae\",\"Oxalidaceae\",\"Oxalidaceae\",\"Platanaceae\",\"Platanaceae\",\"Platanaceae\",\"Platanaceae\",\"Platanaceae\",\"Platanaceae\",\"Acanthaceae\",\"Acanthaceae\",\"Acanthaceae\",\"Acanthaceae\",\"Acanthaceae\",\"Acanthaceae\",\"Annonaceae\",\"Annonaceae\",\"Annonaceae\",\"Annonaceae\",\"Annonaceae\",\"Annonaceae\",\"Euphorbiaceae\",\"Euphorbiaceae\",\"Euphorbiaceae\",\"Euphorbiaceae\",\"Euphorbiaceae\",\"Euphorbiaceae\",\"Bombacaceae\",\"Bombacaceae\",\"Bombacaceae\",\"Bombacaceae\",\"Malvaceae\",\"Malvaceae\",\"Lythraceae\",\"Lythraceae\",\"Lythraceae\",\"Lythraceae\",\"Lythraceae\",\"Lythraceae\",\"Papaveraceae\",\"Papaveraceae\",\"Papaveraceae\",\"Papaveraceae\",\"Papaveraceae\",\"Piperaceae\",\"Piperaceae\",\"Piperaceae\",\"Saururaceae\",\"Saururaceae\",\"Saururaceae\",\"Plantaginaceae\",\"Plantaginaceae\",\"Plantaginaceae\",\"Plantaginaceae\",\"Plantaginaceae\",\"Plantaginaceae\",\"Plumbaginaceae\",\"Plumbaginaceae\",\"Plumbaginaceae\",\"Plumbaginaceae\",\"Plumbaginaceae\",\"Plumbaginaceae\",\"Polygalaceae\",\"Polygalaceae\",\"Polygalaceae\",\"Polygalaceae\",\"Polygalaceae\",\"Polygalaceae\",\"Polygonaceae\",\"Polygonaceae\",\"Polygonaceae\",\"Polygonaceae\",\"Polygonaceae\",\"Polygonaceae\",\"Polygonaceae\",\"Primulaceae\",\"Primulaceae\",\"Primulaceae\",\"Primulaceae\",\"Rafflesiaceae\",\"Rafflesiaceae\",\"Rafflesiaceae\",\"Rafflesiaceae\",\"Rafflesiaceae\",\"Rafflesiaceae\",\"Berberidaceae\",\"Berberidaceae\",\"Berberidaceae\",\"Berberidaceae\",\"Berberidaceae\",\"Berberidaceae\",\"Rhamnaceae\",\"Rhamnaceae\",\"Rhamnaceae\",\"Rhamnaceae\",\"Rhamnaceae\",\"Rhamnaceae\",\"Rhizophoraceae\",\"Rhizophoraceae\",\"Rhizophoraceae\",\"Rhizophoraceae\",\"Rhizophoraceae\",\"Rhizophoraceae\",\"Rosaceae\",\"Rosaceae\",\"Rosaceae\",\"Rosaceae\",\"Rosaceae\",\"Rosaceae\",\"Rosaceae\",\"Rosaceae\",\"Rubiaceae\",\"Rubiaceae\",\"Rubiaceae\",\"Rubiaceae\",\"Rubiaceae\",\"Rubiaceae\",\"Olacaceae\",\"Olacaceae\",\"Olacaceae\",\"Olacaceae\",\"Olacaceae\",\"Olacaceae\",\"Anacardiaceae\",\"Anacardiaceae\",\"Anacardiaceae\",\"Anacardiaceae\",\"Anacardiaceae\",\"Anacardiaceae\",\"Asteraceae\",\"Polemoniaceae\",\"Polemoniaceae\",\"Polemoniaceae\",\"Polemoniaceae\",\"Polemoniaceae\",\"Polemoniaceae\",\"Polemoniaceae\",\"Polemoniaceae\",\"Polemoniaceae\",\"Polemoniaceae\",\"Pentaphylacaceae\",\"Pentaphylacaceae\",\"Pentaphylacaceae\",\"Moraceae\",\"Moraceae\",\"Moraceae\",\"Moraceae\",\"Moraceae\",\"Moraceae\",\"Begoniaceae\",\"Bixaceae\",\"Bixaceae\",\"Tamaricaceae\",\"Tamaricaceae\",\"Tamaricaceae\",\"Isoetaceae\",\"Isoetaceae\",\"Isoetaceae\",\"Isoetaceae\",\"Isoetaceae\",\"Lycopodiaceae\",\"Selaginellaceae\",\"Selaginellaceae\",\"Selaginellaceae\",\"Selaginellaceae\",\"Selaginellaceae\",\"Selaginellaceae\",\"Selaginellaceae\",\"Selaginellaceae\",\"Selaginellaceae\",\"Selaginellaceae\",\"Selaginellaceae\",\"Selaginellaceae\",\"Selaginellaceae\",\"Selaginellaceae\",\"Selaginellaceae\",\"Selaginellaceae\",\"Selaginellaceae\",\"Selaginellaceae\",\"Selaginellaceae\",\"Selaginellaceae\",\"Selaginellaceae\",\"Selaginellaceae\",\"Selaginellaceae\",\"Selaginellaceae\",\"Selaginellaceae\",\"Selaginellaceae\",\"Selaginellaceae\",\"Selaginellaceae\",\"Selaginellaceae\",\"Selaginellaceae\",\"Selaginellaceae\",\"Selaginellaceae\",\"Selaginellaceae\",\"Selaginellaceae\",\"Selaginellaceae\",\"Selaginellaceae\",\"Selaginellaceae\",\"Selaginellaceae\",\"Selaginellaceae\",\"Selaginellaceae\",\"Selaginellaceae\",\"Selaginellaceae\",\"Selaginellaceae\",\"Selaginellaceae\",\"Selaginellaceae\",\"Selaginellaceae\",\"Selaginellaceae\",\"Selaginellaceae\",\"Selaginellaceae\",\"Selaginellaceae\",\"Selaginellaceae\",\"Selaginellaceae\",\"Selaginellaceae\",\"Selaginellaceae\",\"Selaginellaceae\",\"Selaginellaceae\",\"Selaginellaceae\",\"Selaginellaceae\",\"Selaginellaceae\",\"Selaginellaceae\",\"Selaginellaceae\",\"Selaginellaceae\",\"Selaginellaceae\",\"Selaginellaceae\",\"Selaginellaceae\",\"Selaginellaceae\",\"Selaginellaceae\",\"Selaginellaceae\",\"Selaginellaceae\",\"Selaginellaceae\",\"Selaginellaceae\",\"Selaginellaceae\",\"Selaginellaceae\",\"Selaginellaceae\",\"Selaginellaceae\",\"Selaginellaceae\",\"Selaginellaceae\",\"Selaginellaceae\",\"Selaginellaceae\",\"Selaginellaceae\",\"Selaginellaceae\",\"Selaginellaceae\",\"Selaginellaceae\",\"Selaginellaceae\",\"Selaginellaceae\",\"Selaginellaceae\",\"Selaginellaceae\",\"Selaginellaceae\",\"Selaginellaceae\",\"Selaginellaceae\",\"Selaginellaceae\",\"Selaginellaceae\",\"Selaginellaceae\",\"Selaginellaceae\",\"Selaginellaceae\",\"Selaginellaceae\",\"Selaginellaceae\",\"Selaginellaceae\",\"Selaginellaceae\",\"Selaginellaceae\",\"Selaginellaceae\",\"Selaginellaceae\",\"Selaginellaceae\",\"Selaginellaceae\",\"Selaginellaceae\",\"Selaginellaceae\",\"Selaginellaceae\",\"Selaginellaceae\",\"Selaginellaceae\",\"Selaginellaceae\",\"Selaginellaceae\",\"Selaginellaceae\",\"Selaginellaceae\",\"Selaginellaceae\",\"Selaginellaceae\",\"Selaginellaceae\",\"Selaginellaceae\",\"Selaginellaceae\",\"Selaginellaceae\",\"Selaginellaceae\",\"Acanthaceae\",\"Solanaceae\",\"Solanaceae\",\"Solanaceae\",\"Solanaceae\",\"Solanaceae\",\"Solanaceae\",\"Solanaceae\",\"Solanaceae\",\"Solanaceae\",\"Solanaceae\",\"Plantaginaceae\",\"Plantaginaceae\",\"Plantaginaceae\",\"Plantaginaceae\",\"Plantaginaceae\",\"Plantaginaceae\",\"Plantaginaceae\",\"Rutaceae\",\"Rutaceae\",\"Rutaceae\",\"Rutaceae\",\"Rutaceae\",\"Rutaceae\",\"Rutaceae\",\"Rutaceae\",\"Rutaceae\",\"Rutaceae\",\"Rutaceae\",\"Asteraceae\",\"Asteraceae\",\"Asteraceae\",\"Asteraceae\",\"Asteraceae\",\"Asteraceae\",\"Lythraceae\",\"Lythraceae\",\"Lythraceae\",\"Lythraceae\",\"Lythraceae\",\"Lythraceae\",\"Lythraceae\",\"Lythraceae\",\"Lythraceae\",\"Lythraceae\",\"Lythraceae\",\"Lythraceae\",\"Lythraceae\",\"Lythraceae\",\"Lythraceae\",\"Lythraceae\",\"Asteraceae\",\"Asteraceae\",\"Asteraceae\",\"Asteraceae\",\"Asteraceae\",\"Asteraceae\",\"Asteraceae\",\"Asteraceae\",\"Asteraceae\",\"Asteraceae\",\"Asteraceae\",\"Asteraceae\",\"Asteraceae\",\"Asteraceae\",\"Asteraceae\",\"Asteraceae\",\"Asteraceae\",\"Asteraceae\",\"Asteraceae\",\"Asteraceae\",\"Asteraceae\",\"Asteraceae\",\"Asteraceae\",\"Asteraceae\",\"Apocynaceae\",\"Apocynaceae\",\"Apocynaceae\",\"Apocynaceae\",\"Apocynaceae\",\"Apocynaceae\",\"Apocynaceae\",\"Apocynaceae\",\"Apocynaceae\",\"Apocynaceae\",\"Apocynaceae\",\"Apocynaceae\",\"Apocynaceae\",\"Apocynaceae\",\"Apocynaceae\",\"Apocynaceae\",\"Acanthaceae\",\"Acanthaceae\",\"Acanthaceae\",\"Acanthaceae\",\"Acanthaceae\",\"Acanthaceae\",\"Acanthaceae\",\"Acanthaceae\",\"Acanthaceae\",\"Acanthaceae\",\"Acanthaceae\",\"Acanthaceae\",\"Acanthaceae\",\"Acanthaceae\",\"Acanthaceae\",\"Acanthaceae\",\"Acanthaceae\",\"Acanthaceae\",\"Acanthaceae\",\"Acanthaceae\",\"Acanthaceae\",\"Acanthaceae\",\"Acanthaceae\",\"Acanthaceae\",\"Acanthaceae\",\"Lamiaceae\",\"Lamiaceae\",\"Lamiaceae\",\"Lamiaceae\",\"Lamiaceae\",\"Lamiaceae\",\"Lamiaceae\",\"Lamiaceae\",\"Lamiaceae\",\"Lamiaceae\",\"Lamiaceae\",\"Lamiaceae\",\"Lamiaceae\",\"Lamiaceae\",\"Lamiaceae\",\"Lamiaceae\",\"Lamiaceae\",\"Lamiaceae\",\"Lamiaceae\",\"Malvaceae\",\"Malvaceae\",\"Malvaceae\",\"Malvaceae\",\"Malvaceae\",\"Malvaceae\",\"Malvaceae\",\"Malvaceae\",\"Malvaceae\",\"Malvaceae\",\"Malvaceae\",\"Malvaceae\",\"Malvaceae\",\"Malvaceae\",\"Malvaceae\",\"Malvaceae\",\"Malvaceae\",\"Malvaceae\",\"Malvaceae\",\"Malvaceae\",\"Malvaceae\",\"Malvaceae\",\"Malvaceae\",\"Malvaceae\",\"Malvaceae\",\"Malvaceae\",\"Malvaceae\",\"Malvaceae\",\"Malvaceae\",\"Malvaceae\",\"Malvaceae\",\"Malvaceae\",\"Malvaceae\",\"Malvaceae\",\"Malvaceae\",\"Malvaceae\",\"Malvaceae\",\"Malvaceae\",\"Malvaceae\",\"Malvaceae\",\"Malvaceae\",\"Malvaceae\",\"Malvaceae\",\"Malvaceae\",\"Malvaceae\",\"Malvaceae\",\"Malvaceae\",\"Malvaceae\",\"Malvaceae\",\"Malvaceae\",\"Malvaceae\",\"Malvaceae\",\"Malvaceae\",\"Malvaceae\",\"Malvaceae\",\"Malvaceae\",\"Malvaceae\",\"Malvaceae\",\"Malvaceae\",\"Malvaceae\",\"Malvaceae\",\"Malvaceae\",\"Malvaceae\",\"Malvaceae\",\"Malvaceae\",\"Malvaceae\",\"Malvaceae\",\"Malvaceae\",\"Malvaceae\",\"Malvaceae\",\"Malvaceae\",\"Malvaceae\",\"Malvaceae\",\"Malvaceae\",\"Malvaceae\",\"Malvaceae\",\"Malvaceae\",\"Malvaceae\",\"Malvaceae\",\"Malvaceae\",\"Malvaceae\",\"Malvaceae\",\"Malvaceae\",\"Malvaceae\",\"Malvaceae\",\"Malvaceae\",\"Malvaceae\",\"Malvaceae\",\"Malvaceae\",\"Malvaceae\",\"Malvaceae\",\"Malvaceae\",\"Malvaceae\",\"Malvaceae\",\"Malvaceae\",\"Malvaceae\",\"Malvaceae\",\"Malvaceae\",\"Malvaceae\",\"Malvaceae\",\"Malvaceae\",\"Malvaceae\",\"Malvaceae\",\"Malvaceae\",\"Malvaceae\",\"Malvaceae\",\"Malvaceae\",\"Malvaceae\",\"Malvaceae\",\"Malvaceae\",\"Malvaceae\",\"Malvaceae\",\"Malvaceae\",\"Malvaceae\",\"Malvaceae\",\"Malvaceae\",\"Malvaceae\",\"Malvaceae\",\"Malvaceae\",\"Malvaceae\",\"Malvaceae\",\"Malvaceae\",\"Malvaceae\",\"Malvaceae\",\"Malvaceae\",\"Malvaceae\",\"Malvaceae\",\"Malvaceae\",\"Malvaceae\",\"Malvaceae\",\"Malvaceae\",\"Malvaceae\",\"Malvaceae\",\"Malvaceae\",\"Malvaceae\",\"Malvaceae\",\"Malvaceae\",\"Malvaceae\",\"Malvaceae\",\"Malvaceae\",\"Malvaceae\",\"Malvaceae\",\"Malvaceae\",\"Malvaceae\",\"Malvaceae\",\"Malvaceae\",\"Malvaceae\",\"Malvaceae\",\"Malvaceae\",\"Malvaceae\",\"Malvaceae\",\"Malvaceae\",\"Malvaceae\",\"Malvaceae\",\"Malvaceae\",\"Malvaceae\",\"Malvaceae\",\"Malvaceae\",\"Malvaceae\",\"Malvaceae\",\"Malvaceae\",\"Malvaceae\",\"Malvaceae\",\"Malvaceae\",\"Malvaceae\",\"Malvaceae\",\"Malvaceae\",\"Malvaceae\",\"Malvaceae\",\"Malvaceae\",\"Malvaceae\",\"Malvaceae\",\"Malvaceae\",\"Malvaceae\",\"Malvaceae\",\"Malvaceae\",\"Malvaceae\",\"Malvaceae\",\"Malvaceae\",\"Malvaceae\",\"Malvaceae\",\"Malvaceae\",\"Malvaceae\",\"Malvaceae\",\"Malvaceae\",\"Malvaceae\",\"Malvaceae\",\"Malvaceae\",\"Malvaceae\",\"Malvaceae\",\"Malvaceae\",\"Malvaceae\",\"Malvaceae\",\"Malvaceae\",\"Malvaceae\",\"Malvaceae\",\"Malvaceae\",\"Malvaceae\",\"Malvaceae\",\"Malvaceae\",\"Malvaceae\",\"Malvaceae\",\"Malvaceae\",\"Malvaceae\",\"Malvaceae\",\"Malvaceae\",\"Malvaceae\",\"Malvaceae\",\"Malvaceae\",\"Malvaceae\",\"Malvaceae\",\"Malvaceae\",\"Malvaceae\",\"Malvaceae\",\"Lythraceae\",\"Lythraceae\",\"Lythraceae\",\"Lythraceae\",\"Lythraceae\",\"Lythraceae\",\"Lythraceae\",\"Lythraceae\",\"Lythraceae\",\"Lythraceae\",\"Lythraceae\",\"Lythraceae\",\"Lythraceae\",\"Lythraceae\",\"Lythraceae\",\"Lythraceae\",\"Rutaceae\",\"Rutaceae\",\"Rutaceae\",\"Rutaceae\",\"Rutaceae\",\"Rutaceae\",\"Rutaceae\",\"Rutaceae\",\"Rutaceae\",\"Rutaceae\",\"Rutaceae\",\"Simaroubaceae\",\"Simaroubaceae\",\"Simaroubaceae\",\"Simaroubaceae\",\"Simaroubaceae\",\"Simaroubaceae\",\"Simaroubaceae\",\"Simaroubaceae\",\"Simaroubaceae\",\"Simaroubaceae\",\"Simaroubaceae\",\"Simaroubaceae\",\"Simaroubaceae\",\"Simaroubaceae\",\"Simaroubaceae\",\"Simaroubaceae\",\"Simaroubaceae\",\"Simaroubaceae\",\"Simaroubaceae\",\"Simaroubaceae\",\"Simaroubaceae\",\"Simaroubaceae\",\"Simaroubaceae\",\"Simaroubaceae\",\"Simaroubaceae\",\"Simaroubaceae\",\"Simaroubaceae\",\"Simaroubaceae\",\"Simaroubaceae\",\"Simaroubaceae\",\"Simaroubaceae\",\"Simaroubaceae\",\"Simaroubaceae\",\"Simaroubaceae\",\"Simaroubaceae\",\"Simaroubaceae\",\"Simaroubaceae\",\"Simaroubaceae\",\"Simaroubaceae\",\"Simaroubaceae\",\"Simaroubaceae\",\"Simaroubaceae\",\"Simaroubaceae\",\"Simaroubaceae\",\"Bixaceae\",\"Bixaceae\",\"Bixaceae\"],\"latitud\":{\"__ndarray__\":\"qODwgojIO0DdCmE1lhw8QPG4qBYRcThA8bioFhFxOEAAAAAAAIA8QAAAAAAAgDxAyF9a1CeNOkDIX1rUJ406QAZn8PeLJTlA16axvRaMOEDXprG9Fow4QFr1udqKXTlAS+oENBFGNUBCeoocIgI5QFr1udqKXTlASUp6GFoFPEA5miMrvwg8QNemsb0W/DlA16axvRb8OUAGZ/D3iyU5QHWtvU9VlTRA1qnyPSOBNECAfXTqyhtAQFaalIJubz5AsylXeJe7PUCAfXTqyhtAQIB9dOrKG0BAVpqUgm5vPkCAfXTqyhtAQGKE8GjjSEBAUp55Oey6PUCzKVd4l7s9QIB9dOrKG0BAqODwgohoP0APR1fp7g4/QB/0bFZ97j5AMzMzMzMTP0AAAAAAAAA+QAAAAAAAAD5AkNyadFsmP0APR1fp7g4/QHlcVIuIOEBAeVxUi4g4QECo4PCCiOg/QA9HV+nuTjJAhugQOBJwMkCG6BA4EnAyQI/C9ShcnzlAs7ES86yoOkAJw4AlV6U6QBFwCFVqIjhAri08LxVLOkDm6scm+bU5QOBpMuNtUTJAkQ96NqvuM0CRD3o2q+4zQPbQPlbwlzhAzczMzMzsOUBtOZfiquo5QM3MzMzM7DlAbTmX4qrqOUDVXkTbMRk5QLSu0XKgkzhAzZTW3xK0OUDerSzRWao5QMP1KFyPQj5Aw/UoXI9CPkBafuAqT8A3QFK4HoXrETJAYrt7gO6zN0DbEyS2u5s7QNsTJLa7mztAJezbSUSkO0Al7NtJRKQ7QFgfD313dztAWB8PfXd3O0Co4PCCiGg/QGZmZmZmZj9A3BDjNa+WM0AAAAAAAAA4QM3MzMzM7DZAzczMzMzsNkBH/8u1aAUzQItSQrCqCjJAi1JCsKoKMkBH/8u1aAUzQItSQrCqCjJAi1JCsKoKMkAd5WA2AQY1QNejcD0KVzVA0jk/xXFMNUB1kNeDSbk7QHWQ14NJuTtAf4RhwJJPPEC+hXXj3d03QM3MzMzMzDJAda29T1U1MkCLUkKwqqoyQPG4qBYRETVAMzMzMzOTNECEDU+vlJU3QCuHFtnOlzdAhA1Pr5SVN0AAAAAAAAA4QAAAAAAAADhAE5oklpSHMkATmiSWlIcyQBOaJJaUhzJAE5oklpSHMkCLUkKwqso+QItSQrCqyj5AJezbSUTkOEB1rb1PVbU3QCXs20lE5DhAda29T1W1N0B5XFSLiDhAQBcs1QW8QDpAFyzVBbxAOkCamZmZmdk5QLKd76fG+zlAZhGKraABOkAl7NtJRCQ3QPG4qBYRcTlA2xMktrsbOUDxuKgWEXE5QGZmZmZm5jhAZmZmZmbmOEBmZmZmZuY4QKjg8IKI6DhAisxc4PJMOUCLUkKwqqo5QK01lNqL2DdAi1JCsKqqOUAzMzMzM7M7QL7BFyZTVTtAveMUHcmlOUC+wRcmU1U7QL3jFB3JpTlA2xMktrubO0DbEyS2u5s7QDScMjffHD5AgH7fv3lFNUBPdjOjHyE0QFt4Xio2IjRA0TyARX6RP0Aw2uOFdFA/QNE8gEV+kT9A9iUbD7awPkAe/pqsUdc8QL6FdePd/T5Ada29T1U1PkCjc36K41BAQClcj8L1UEBAMzMzMzPTP0BYHw99dxc/QE92M6MfITRAT3Yzox8hNECo4PCCiGgyQAAAAAAAgDxASOF6FK6HP0CLUkKwqoo/QMqK4eoAAEBAi1JCsKqKP0AOFk7S/AUzQLgehetR+DlA4XoUrkehOkCamZmZmfk6QNVeRNsxGTlAi1JCsKoKP0B1rb1PVRU/QAAAAAAAAD5AQnqKHCICP0BYHw99d5c9QItSQrCqyj1A7nw/NV76PUCF61G4HsU9QAd7E0NyOj1AvYv34/YnQEDNzMzMzAw/QHsUrkfhuj1ASOF6FK5HP0CF61G4HoU/QC1DHOviDj5A2xMktrtbP0DbEyS2uxs/QM3MzMzMbDpAD0dX6e4OOkAPR1fp7s44QGZmZmZmNkBAMzMzMzMTN0APR1fp7g43QFQ4glSKXTlAw/Ln24JdOUAnE7cKYoQ5QFRweEFEFEBAmpmZmZk5P0B1rb1PVXU9QL6FdePdPT9ApHA9CtcjQEBYHw99d9c4QOF6FK5HoThA61c6H571OEAX2c73Uws5QGQ730+NNzhASOF6FK4HNUDNzMzMzCw3QBMPKJtyXTxAJPJdSl2ePEBmZmZmZkY/QGZmZmZmRj9AZmZmZmbmPEAtliL5SuA6QItSQrCq6jxAqifzj74JO0BmZmZmZuY8QJ/pJcYylTxA2Lj+XZ8JO0DTM73EWMI5QA9HV+nuLjpAf4RhwJJPPEAfhetRuG47QNejcD0KVzpAMqoM424cOUDcEOM1ryY8QAAAAAAA4DxA5+RFJuDLOkAUtMnhk3Y5QG8Sg8DKoTpAs7ES86yoOkBYHw99d9c3QM3MzMzMbDlA0jk/xXFMNUB1rb1PVZU0QGZpp+Zy+zhAZmmn5nL7OEBKJqd2hu04QMdim1Q0YjpAhe6SOCsaOEBpAG+BBIk5QK9EoPoHiTlA/MbXnlnSOUDw94vZktk5QAiu8gTCljlAnx1wXTGnOUCPwvUoXI85QNQs0O6Q9jhAaHqJsUwDMkArieyDLCcyQK5H4XoUTjJAFK5H4XoUNUAvUb01sBU1QEWcTrLVgTRAZmZmZmbGNED6mA8IdAo1QNMzvcRYAjVAFasGYW4vNkAAA0GADJU4QItSQrCqijdAnfS+8bUPOUADCYofY848QM3MzMzMTD9A9ihcj8I1OUDuluSAXZE5QDFETl/PgzlAjsh3KXVZOUBCPujZrKo5QIKsp1ZfkTlAj8L1KFyPOUDwwWuXNqA5QPDBa5c2oDlAj8L1KFyPOUCPwvUoXI85QP5l9+RhkTlAi1JCsKqqN0DSOT/FcUw1QNI5P8VxTDVA0jk/xXFMNUBYHw99d5c0QGZmZmZmJjlAObTIdr5fOUCKVYMwt185QNrlWx/WRzJAAP2+f/PKNED7lc6HZ8U0QPqYDwh0CjVAs7eU88XSNEArhxbZzpc3QIQNT6+UlTdAhA1Pr5SVN0CA8Qwa+o83QAAAAAAAADlAtK7RcqCTOEC4IcZrXp04QKon84++CTtAAAAAAAAAOUA2qz5XWyE5QEI+6NmsqjlAE0ceiCweOEAei21S0bg5QLXDX5M1EjhAJPJdSl2ePEAk8l1KXZ48QCTyXUpdnjxAJPJdSl2ePEAk8l1KXZ48QIKN69/1vTxAr0FfevujPECvQV96+6M8QK9BX3r7ozxAr0FfevujPEBxPQrXozA7QHE9CtejMDtAcEBLV7CdOUCG5c+3Bcs6QHWtvU9VFTtAzJntCn2gO0D7ko0HW9A6QDfhXpm3PjpAD0dX6e5OOkB1rb1PVTU9QIblz7cFyzpA3BDjNa8mPEDMme0KfaA7QFgfD313FzpAFLTJ4ZN2OUDNzMzMzGw5QICBIECGqjhAhe6SOCsaOECfAIqRJT84QICBIECGqjhAj8U2qWj0OEAaFTjZBio4QGZpp+Zy+zhAwLD8+bbcOEBmaafmcvs4QLSu0XKgYzpAgIEgQIaqOEAtzEI7p5U4QDm0yHa+XzlAObTIdr5fOUBUOIJUil05QDm0yHa+XzlAVDiCVIpdOUCKVYMwt185QMPy59uCXTlAilWDMLdfOUDD8ufbgl05QIpVgzC3XzlAilsFMdDtOEBtcvikE5U4QJdxUwPNnzhA5urHJvm1OUBWKNL9nO40QAYSFD/GRDdAWB8PfXdXN0DD9ShcjxI1QPYoXI/C1TRAAi7IluVLP0Aaijve5Es/QD3RdeEHMz1AzlXzHJHLPEBYHw99d/c7QARws3ixRDVAZmZmZmamPkBI4XoUrgc8QB+F61G4Xj5AcEBLV7DVPUBI3jmUoWI+QPG76ZYdpj5AcT0K16NwPkC4HoXrUQg8QOtXOh+elTZA2xMktrv7NEDf/fFetZI0QK3AkNWtTjdAdVWgFoODNEAPR1fp7k43QEJ6ihwigjRAAfp9/+YlNUD6mA8IdAo1QItSQrCq6jxAOKClK9giO0AzMzMzMwM7QICBIECGqjhAQfFjzF0LOUDVXkTbMRk5QICBIECGqjhAMzMzMzNjOkDVXkTbMRk5QAAAAAAA4DhAZmZmZmYmOUC+hXXj3d04QGZmZmZmJjlAaQBvgQSJOUD4xaUqbdk5QK9EoPoHiTlAw/UoXI8COkBYHw99d5c6QNMzvcRYAjVA16NwPQqXN0ApXI/C9ag4QNsTJLa7Oz9A2xMktrvbPkBYHw99dxc/QM3MzMzM7D5Ada29T1U1P0BYHw99d1c/QB+F61G4vjxAzczMzMxsOkBYHw99d5c7QNsTJLa7mztAw/UoXI8SNUDxuKgWEXE4QE1O7QxTRzhAipRm8zgAPkCamZmZmZk8QM3MzMzMjDlAmpmZmZk5OUAAAAAAAKA7QEjhehSuxzlA4XoUrkfhOUCLUkKwqoo7QDMzMzMz0zhAQnqKHCICO0B1kNeDSbk7QB+F61G4bjtAD0dX6e4OOUCLUkKwqgo7QPXWwFYJljpAVRSvsrYlO0DD8ufbgk03QC/Df7qBrjhAAfp9/+b1OEBXIlD9g3w5QDICKhxBkjhA6SlyiLhhOEC+hXXj3b0/QL6FdePdvT9AvoV14929P0BYHw99d5cxQHWtvU9VNTJApHA9CtcjQEDKiuHqAABAQKRwPQrXA0BAvoV14909P0CamZmZmTk/QAAAAAAA4D5AD0dX6e5OOEDbEyS2u5s5QPG4qBYRcTtAAAAAAABgOkDxuKgWEfE6QDnQQ20b/jdAl3FTA80DM0DZlCu8y90/QJdxUwPNAzNAzt2ul6Z0N0DO3a6XpnQ3QM7drpemdDdAzt2ul6Z0N0DO3a6XpnQ3QM7drpemdDdA7Eyh8xp7N0B1rb1PVVU3QAtioGtfPDdAPQrXo3D9PUBmZmZmZgY/QNid7jzxLD9AEvbtJCIyQECo4PCCiOg/QKjg8IKIqD9A/Wt55XobNUDsTneeeAY1QAD9vn/z+jRAX+6TowAFNUCOyHcpdQk1QENznUZaEjVA9SudD896O0AzMzMzMzM9QKjg8IKISDxAqODwgohIPUDXo3A9Clc6QNejcD0KVzpAMzMzMzMzMkC+hXXj3T0yQAD9vn/zyjRA8bioFhGRN0DxuKgWEbE4QBSxiGGHeTNANE3YfjK6N0BZar3faG83QHRBfcuc5jpAOxkcJa8mPEBCYOXQIrs8QL5p+uyAzztAJO8cylBJOUCamZmZmfk5QEJ6ihwiAjhAD0dX6e5OO0BYHw99dxc8QOF6FK5HITtAr0FfevuzN0DNzMzMzGw3QHWtvU9VtTdA3QvMCkUKNUAzMzMzMxM1QNMzvcRYAjVAAAAAAAAgNECF61G4HkUyQLO3lPPF0jRA2xMktrubP0C+hXXj3b09QItSQrCqij1AXi7iOzEvMkBwQEtXsAU9QDGUE+0q/DRA29/ZHr39NECamZmZmXk3QD0K16NwPTlAqODwgojIO0DdCmE1lhw8QI7Idyl1GTxA0jk/xXFMNUCuR+F6FE41QNI5P8VxTDVA6Gor9pfVPEApWU5C6ZM9QB6kp8gh+jtAda29T1WVOkAAAAAAAMA6QIQNT6+UlTdAHZQw0/YXOEAAqU2c3Bc4QIejq3R3B0BAqODwgohoP0B1rb1PVTU+QH0lkBK78jdAHxK+9ze4OkDP+L64VGE7QCZUcHhBaDpAyhmKO96IO0DoEg69xTM4QP8FggAZujdA9tA+VvCXOEDWOnE5Xp04QFgfD313lztAJezbSUSkO0Daxp+obIA4QMdl3NRAZzpAwTkjSnsDOkCfAIqRJT84QIgRwqONAzpA0ZZzKa4KOkDAsPz5ttw4QNkHWRZMCDlAkLxzKEMFOkAK16NwPRo6QKjg8IKIKDhAZmZmZmbGPUBUcHhBRBRAQPuVzodnlT1AvoV1492dOEDNzMzMzCw/QH/2I0Vk2DVAI/WeymlDMkAcJET5gt49QM3MzMzMLDtA7FG4HoUrO0Bcj8L1KNw9QAAAAAAA4D1AzczMzMwsO0A9CtejcH02QGH8NO7NuzhAOZ1kq8utOEBI4XoUroc4QOxRuB6FizhA/I9Mh067OEC+hXXj3b09QNejcD0Klz9AzczMzMyMP0BKmj+mtcE8QL6FdePd3T1AAAAAAADgPUC+iLZj6vI5QL6ItmPq8jlAlSwnofQJPUAuyQG7mgg9QL6ItmPq8jlALskBu5oIPUAAAAAAAGA+QNsTJLa72zxAzczMzMwsP0BmZmZmZkY/QOxRuB6Faz5AFK5H4XrUPkCamZmZmfk5QGCTNeohYjlANDDysiaeMkDsSzYebNEzQKndrwJ8IzRA7Es2HmzRM0DsSzYebNEzQOxLNh5s0TNAI/WeymmTOEDqQNZTq3s4QM3MzMzMjDxAk6mCUUmNPEBmZmZmZkY6QGZmZmZmRjpAqODwgohoMkDNzMzMzKwxQB+F61G4LjJAH4XrUbguMkB8DixHyEA3QHwOLEfIQDdAD0dX6e6uPEA2WaMeokE7QNMzvcRYQjpAilWDMLfjPEDF506w/zI+QAAAAAAAYDtAAAAAAABgO0B1rb1PVfU+QHWtvU9V9T5AJezbSUTEO0DXo3A9Clc6QAH6ff/mJTVA9ihcj8KFNECG5c+3Bbs4QHjSwmUVEjxA5urHJvkFPEAfhetRuA48QK9BX3r7AzxAr0FfevsDPECvQV96+wM8QHWtvU9VtTdAf/YjRWR4PkAcQL/v30A3QKWeBaG8vz1AKxiV1AnYPEAPR1fp7s4+QAAAAAAAgDxASOF6FK6HP0CLUkKwqoo/QMqK4eoAAEBAi1JCsKqKP0AOFk7S/AUzQAAAAAAAAD5AQnqKHCICP0BYHw99d5c9QItSQrCqyj1A7nw/NV76PUCF61G4HsU9QAd7E0NyOj1AvYv34/YnQEDNzMzMzAw/QHsUrkfhuj1ASOF6FK5HP0CF61G4HoU/QC1DHOviDj5A2xMktrtbP0DbEyS2uxs/QM3MzMzMbDpAD0dX6e4OOkAPR1fp7s44QGZmZmZmNkBAMzMzMzMTN0APR1fp7g43QFQ4glSKXTlAw/Ln24JdOUAnE7cKYoQ5QFRweEFEFEBAmpmZmZk5P0B1rb1PVXU9QL6FdePdPT9ApHA9CtcjQEBYHw99d9c4QOF6FK5HoThA61c6H571OEAX2c73Uws5QGQ730+NNzhASOF6FK4HNUDNzMzMzCw3QBMPKJtyXTxAJPJdSl2ePEBmZmZmZkY/QGZmZmZmRj9AZmZmZmbmPEAtliL5SuA6QItSQrCq6jxAqifzj74JO0BmZmZmZuY8QJ/pJcYylTxA2Lj+XZ8JO0DTM73EWMI5QA9HV+nuLjpAf4RhwJJPPEAfhetRuG47QNejcD0KVzpAMqoM424cOUDcEOM1ryY8QAAAAAAA4DxA5+RFJuDLOkAUtMnhk3Y5QG8Sg8DKoTpAs7ES86yoOkBYHw99d9c3QM3MzMzMbDlA0jk/xXFMNUB1rb1PVZU0QGZpp+Zy+zhAZmmn5nL7OEBKJqd2hu04QMdim1Q0YjpAhe6SOCsaOEBpAG+BBIk5QK9EoPoHiTlA/MbXnlnSOUDw94vZktk5QAiu8gTCljlAnx1wXTGnOUCPwvUoXI85QNQs0O6Q9jhAaHqJsUwDMkArieyDLCcyQK5H4XoUTjJAFK5H4XoUNUAvUb01sBU1QEWcTrLVgTRAZmZmZmbGNED6mA8IdAo1QNMzvcRYAjVAFasGYW4vNkAAA0GADJU4QItSQrCqijdAnfS+8bUPOUADCYofY848QM3MzMzMTD9A9ihcj8I1OUDuluSAXZE5QDFETl/PgzlAjsh3KXVZOUBCPujZrKo5QIKsp1ZfkTlAj8L1KFyPOUDwwWuXNqA5QPDBa5c2oDlAj8L1KFyPOUCPwvUoXI85QP5l9+RhkTlAi1JCsKqqN0DSOT/FcUw1QNI5P8VxTDVA0jk/xXFMNUBYHw99d5c0QGZmZmZmJjlAObTIdr5fOUCKVYMwt185QNrlWx/WRzJAAP2+f/PKNED7lc6HZ8U0QPqYDwh0CjVAs7eU88XSNEArhxbZzpc3QIQNT6+UlTdAhA1Pr5SVN0CA8Qwa+o83QADhQ4mW4DRAmpmZmZn5OUCG5c+3Bbs8QLQB2IAIUT9AYvay7bSRNkCkbfyJyl44QItSQrCq6jtAGJgVinSLPUB1rb1PVRU9QKjg8IKI6DhA8MFrlzaQOUBGzsKedgg1QMhcGVQbCDVAZ2DkZU3MNEAA/b5/88o0QOymlNdKpDZA4JwRpb2dNkCKHCJuTjk3QL7BFyZT1TJAi1JCsKrKPkCo4PCCiOg/QO4JEtvdLUBAWB8PfXdXP0CaJJaUu2s/QH433bJDmD9Ak9+ik6WeP0CBe54/bUA+QK5KIvsgsz9AAP2+f/NqPUBszVZe8ks1QPG4qBYRUTVA0jk/xXFMNUDSOT/FcUw1QNI5P8VxTDVAW5VE9kEWM0AqyM9GrlMzQK5H4XoUTjVABHCzeLFENUCuR+F6FE41QJC/tKhPyjNAZmZmZmZGOUCgbMoV3p03QJqZmZmZWTlAYg/tYwWPOUBXJZF9kEE5QG05l+KqajZA+SzPg7v7NUArhxbZzpc3QIQNT6+UlTdAhA1Pr5SVN0CEDU+vlJU3QAAAAAAAADxAzczMzMysOUDNzMzMzKw5QG05l+KqqjlAbTmX4qqqOUBtOZfiqqo5QG05l+KqqjlA2xMktrt7PEDXo3A9Clc6QItSQrCqqjxAxNDq5Aw1PEAQQdXo1TQ9QDMzMzMzMz1AEEHV6NU0PUAL1GLwMDU8QM3MzMzMrDlAzczMzMysOUBe9utOd9I6QJqZmZmZ+TpAHsNjP4utOUCamZmZmVk6QArXo3A9yjpAehfvx+0/O0DbEyS2u8s6QItSQrCq2jpAi1JCsKqqPEAfhetRuG47QPG4qBYRET1AkSkfgqo1OkCEDU+vlJU3QBSuR+F6lDdAhA1Pr5SVN0CLUkKwqto6QItSQrCqqjxAH4XrUbhuO0DxuKgWERE9QJEpH4KqNTpAhA1Pr5SVN0AUrkfhepQ3QIQNT6+UlTdAAAAAAADgPkB1rb1PVcU+QC/Df7qBvj5AvoV1493dPkCLUkKwqio+QNsTJLa7Oz5AzM8NTdlhPkAUtMnhky4+QIXrUbgexT5Aon+CixUdP0ByUMJM2x8+QKxWJvxSJz9AkdWtnpOuPkA6BmSvd1c+QIXrUbgexT5AYvnzbcFmPkAUtMnhk64+QB+F61G4Hj9AmSoYldTJPkA6I0p7g1c+QDMzMzMzYz5AQnqKHCJCPkDxuKgWEaE8QMdim1Q0Uj5AL8N/uoG+PkCLUkKwqko1QOxLNh5s0TNA61c6H571NUCamZmZmZk4QEI+6NmsqjlAD0dX6e4ONUBNTu0MUxc1QFmGONbFDTVAD167tOHINEBvnX+77A82QIQNT6+UlTdAi1JCsKqKOECLUkKwqoo4QObqxyb5dTZAmpmZmZk5OkAAAAAAAIA0QNwQ4zWvljNAgIEgQIaqOEDKpIY2AJ84QP8FggAZujxAOKClK9gyP0AzMzMzM3M8QKyPh767C0BAda29T1V1PECo4PCCiCg+QFgfD313dzxAAAAAAADgO0C+hXXj3X07QCXs20lEpDtAda29T1U1OUCZnxuasgM7QDI5tTNMfTtA8bioFhERO0B1rb1PVdU5QFX6CWe3ojpAzsZKzLNSO0CamZmZmdk5QJqZmZmZmTtA4L4OnDNCOkAfhetRuB45QNzXgXNG5DlAzczMzMzMOEAAAAAAAOA5QFK4HoXrcThAD0dX6e5OOEBCeoocIkI4QNsTJLa7WzpAVijS/Zw2OkAPR1fp7g46QL6FdePdHTlA28LzUrGVN0DNzMzMzMw4QPG4qBYRETpAQnqKHCJCOkAl7NtJROQ5QJqZmZmZGThAsMVun1XKN0DxuKgWERE7QJqZmZmZ2TlAQnqKHCLiOUCPxTapaGQ3QAAAAAAA4DlAqODwgojYOUCLUkKwquo3QJqZmZmZOTpAi1JCsKqKOEC+hXXj3b03QNsTJLa7mztAQnqKHCICO0AAAAAAAGA5QL6FdePdfTtAWB8PfXeXO0DNzMzMzGw5QLgehetRGDlAzczMzMysOkBmZmZmZsY6QE/o9Sfx8TtAvoV1493dPUCGIXL6eq46QAAAAAAAwDpAAAAAAADAOkAl7NtJRIQ6QFxZorPMSj1APgRVo1cjPEBNSGsMOu0/QJC/tKhPSj1AAAAAAABAPECAft+/eRU9QDhnRGlv6DtAuB6F61H4PUBmZmZmZiY9QAAAAAAAwDpAAAAAAADAOkDNzMzMzKw6QFIKur2kKT1AxvmbUIgIPEBmZmZmZsY6QBb7y+7J8ztAE51lFqGMPUAUsYhhh6k9QPci2o6pOz9AQnqKHCKCPEA+BFWjV/M7QHBDjNe8OjxAFLTJ4ZOeOkC4HoXrUXg+QLgehetReD5ANDDysiZuPECOyHcpddk/QAft1cdDPz1Ai1JCsKoqPEAAcVevIvM7QCP1nspp8ztAWaKzzCIQPEC9i/fj9sc/QAAAAAAAAD9AvoV1493dPUB2pztPPOs/QGZmZmZmBj1AL+Blho2KPECKWMSww5Q8QHBAS1ewBTxAYvay7bRRPkBmZmZmZgY9QNwQ4zWvNjxAD0dX6e4OPEBmZmZmZgY9QAAAAAAAIDxAuB6F61EIPEBwQEtXsAU8QEJ6ihwiAj1AZmZmZmYGPUAFajF4mAo8QGZmZmZmBj1AIH9pUZ80PUCCNjl80qk3QAAAAAAAAD1AMzMzMzPzPEAAAAAAAAA9QFgfD313tzxADHkEN1LuOUBGfCdmvfA8QMJpwYu+8jxAMzMzMzPzPEAaho+IKfk8QLQfKSLD+jxAOgZkr3e3PECZnxuastM5QJJ4eTpX3DxAy/j3GRf+PEAl7NtJROQ4QFRweEFEFEBAWB8PfXcXP0CLUkKwqso9QBke+1ks+T1Az2bV52rLPUDy7PKtD/c8QL2L9+P2Rz1Avoi2Y+ryPUDNzMzMzCxAQJmesMQDyj1A7gkS290tQEDxuKgWEfE8QNsTJLa7yz1AMzMzMzMTQEAzMzMzMxNAQPG4qBYRETtAQnqKHCIiOkBSCyWTU084QBu4A3XKozpAzczMzMwMOUCuR+F6FK45QFdbsb/sDjpAFK5H4XoUOUBmaafmcnM4QPlkxXB1jDhAJO8cylDJOkDxuKgWERE7QM3MzMzMDDlAda29T1UVOUB1rb1PVaU3QA9HV+nuDjpAD0dX6e6uOUBf1O5XAQI4QA9HV+nuTjtAuB6F61EYOUBYHw99d7c6QAUx0LUvGDxADmlU4GQDPEB1rb1PVbU6QItSQrCq6j9A7FG4HoXLP0A5nWSry00/QPG9v0F7xT9Al6jeGtiiO0AKv9TPm4o8QDoGZK93tzpA7fDXZI2KPEA4hCo1e/A/QEpenWNAGjxAOIQqNXvwP0AAAAAAAMA/QFmis8wiEDxAzczMzMzMP0Av4GWGjYo8QHBAS1ew1T1ATU7tDFNHOEDNzMzMzIw4QHnNqzqrYTxAj8L1KFwfPUBtrS8S2vo8QMJpwYu++jxAR8mrcwzQPEB+xoUDIWE8QL1SliGOzTxAjBAebRxhPEC+hXXj3X04QNsTJLa7Oz1A8bioFhFxO0Co4PCCiOg4QCXs20lEpD9AmpmZmZmZP0DQl97+XEA8QMhcGVQb6DxA2ZQrvMs9P0BJ2/gTlT0/QPuSjQdbUD9AQ3HHm/yuP0AtzEI7p007QNwQ4zWvljtA+5XOh2dlOkD7lc6HZ2U6QGlVSzrKqTlAKsjPRq5TM0CuR+F6FE41QARws3ixRDVArkfhehRONUCQv7SoT8ozQGZmZmZmRjlAoGzKFd6dN0CamZmZmVk5QGIP7WMFjzlAVyWRfZBBOUBtOZfiqmo2QPksz4O7+zVAK4cW2c6XN0CEDU+vlJU3QIQNT6+UlTdAhA1Pr5SVN0C+wRcmU9UyQItSQrCqyj5AqODwgojoP0DuCRLb3S1AQFgfD313Vz9AmiSWlLtrP0B+N92yQ5g/QJPfopOlnj9AgXueP21APkCuSiL7ILM/QAD9vn/zaj1AH4XrUbguMkBCeoocImIyQHsuU5PgUTJAey5Tk+BRMkB7LlOT4FEyQA9HV+nuTjJAZmZmZmZGMkCo4PCCiGgyQNsTJLa7WzJAWB8PfXdXMkCo4PCCiGgyQM3MzMzMLDJAda29T1U1MkBYHw99d1cyQDMzMzMzUzJAi1JCsKpKMkDbEyS2u1syQFgfD313VzJAMzMzMzNTMkAzMzMzM1MyQDMzMzMzUzJAMzMzMzNTMkAPR1fp7k4yQDMzMzMzUzJAMzMzMzNTMkCuR+F6FE4yQA9HV+nuzjZAkL+0qE+KN0C+hXXj3f02QLckB+xqojhAi1JCsKqKOEBYHw99d5c7QItSQrCqijdAAAAAAADgNkBQNXo1QF08QIfddwyP/TtAAAAAAACAPEDXo3A9Clc6QB6kp8gh+jtA6Nms+lz9OkBZh6OrdKM7QPG4qBYRcTlAMzMzMzPzN0BYHw99d3c3QH/2I0VkeD5AFK5H4XqUPEBmZmZmZuY4QA==\",\"dtype\":\"float64\",\"order\":\"little\",\"shape\":[1190]},\"longitud\":{\"__ndarray__\":\"BkZe1sSbW8AogGJkyb9bwM3MzMzM1FjAzczMzMzUWMAAAAAAAIBawAAAAAAAgFrAXWvvU1VNW8Bda+9TVU1bwPcEie3uzljAAAAAAABwWMCQniKHiHBYwMrDQq1pClnA5nRZTGzyWMCQniKHiABZwMrDQq1pClnA1xLyQc9OXMBoQpPEkkdcwAAAAAAA4FvA6MByhAzhW8D3BInt7s5YwJCeIoeI6FjABWoxeJgaWcDNkgA1tfZcwO2ZJQFqzFzANSTusfStXMDNkgA1tfZcwM2SADW19lzA7ZklAWrMXMDNkgA1tfZcwAuYwK2771zAQdZTq6+sXMA1JO6x9K1cwM2SADW19lzAkJ4ih4gQXcAqOLwgIspcwJyiI7n811zAXWvvU1XdXMAAAAAAAMBcwJqZmZmZ2VzAuJTzxd7dXMAqOLwgIspcwDMzMzMzC13AMzMzMzMLXcAJ+3YSESldwCo4vCAiSljA4443+S1eWMDjjjf5LV5YwMaGbvYHNVnAOurouBrvWcCoAYOkT+hZwEH1DyIZA1nAHJYGflQhWcCAgSBAhu5YwHhflQuVY1jA16NwPQqnWMDXo3A9CqdYwEut9xvtjVnAMzMzMzNbWcCRD3o2q1pZwDMzMzMzW1nAkQ96NqtaWcCNl24SgyJZwIB+3795MVnAZOWXwRgsWcBgWtQnuS9ZwJCeIoeIeFrAkJ4ih4h4WsAFxY8xd/1YwFK4HoXrYVjAYYpyafzNWMDNzMzMzERcwM3MzMzMRFzAzczMzMxEXMDNzMzMzERcwGZmZmZmJlzAZmZmZmYmXMCQniKHiBBdwAAAAAAAyFzAJqd2hqnDWMAAAAAAAABZwJCeIoeIAFnAkJ4ih4gAWcASE9TwLclYwNbHQ9/dVVjAzczMzMxUWMASE9TwLclYwNbHQ9/dVVjAzczMzMxUWMCJmujzUeBYwHIZNzXQAVnALsbAOo4DWcAnZyjueE9awCdnKO54T1rAH4XrUbh2WcAJ+3YSETFawK5H4XoUXljAZmZmZmZeWMCQniKHiFhYwPcEie3u3ljAZmZmZmauWMDjNhrAW9xYwFK4HoXr0VjA4zYawFvcWMAAAAAAAABZwAAAAAAAAFnASb2nctpoWMBJvady2mhYwEm9p3LaaFjASb2nctpoWMDWx0Pf3WVawF1r71NVZVrAo5QQrKrCW8A8LqpFRIxbwKOUEKyqwlvAPC6qRUSMW8BmZmZmZg5dwOny5nCt8VvA6fLmcK3xW8AqOLwgIuJbwPFIvDyd4VvA0PI8uDvcW8AzMzMzM2tbwJqZmZmZQVnA9wSJ7e5GWcCamZmZmUFZwAAAAAAAcFnAAAAAAABwWcAAAAAAAHBZwJCeIoeIcFnAQdXo1QBFWcAAAAAAADBZwAZlGk0uIFnAAAAAAAAwWcCamZmZmZlbwAAAAAAAgFnAldi1vd3mWMAAAAAAAIBZwJXYtb3d5ljAkJ4ih4hAXMCQniKHiEBcwC3t1Fxu51rAYvnzbcEWWcCnd/F+3MNYwAnDgCVXrVjA9wSJ7e5uXMBnfcoxWVBbwLZpbK8Fb1zATifZ6nIfXMBqEyf3OxpcwKOUEKyqEl3AXWvvU1XdXMCPwvUoXMdcwKq2m+Cbx1zAo5QQrKoaXcDE0VW6uwtdwKd38X7cw1jAp3fxftzDWMD3BInt7mZYwAAAAAAAgFrAexSuR+EaXcCjlBCsqhpdwCDURQplJl3AMzMzMzMbXcCUopV7gclYwI/C9Shc31vArkfhehQeXMBmZmZmZh5cwI2XbhKDIlnA1sdD393ZXMCQniKHiNhcwJqZmZmZ2VzAKji8ICLaXMDWx0Pf3aVcwJqZmZmZsVzAvp8aL93MXMCuR+F6FK5cwI/C9Shcf1zALsbAOo4fXcBmZmZmZuZcwK5H4XoUrlzAzczMzMz8XMCF61G4HhVdwOrsZHCU3FzA1sdD390VXcAqOLwgIupcwMTRVbq7A1zA1sdD393lW8BmZmZmZq5bwHBh3Xh3L13AxNFVursTWcDE0VW6uxNZwOIftvRoClnAiKBq9GoKWcCgi4aMRxpZwMTRVbq781zAxNFVurvjXMBda+9TVY1cwM3MzMzMBF3A7FG4HoX7XMD3BInt7rZbwEjhehSup1jAgjY5fNIDWcDsEtVbAwlZwB1aZDvfF1nAUrgehevhWMCjlBCsqoJbwAX6RJ4kS1rAEvkupS53WsCQniKHiIBawJCeIoeIgFrA9wSJ7e5uWsAGaFvNOiJawCo4vCAiYlrANuZ1xCFUWsAfhetRuG5awN3pzhPPeFrA2ZPA5hxUWsCZSj/h7FVZwF1r71NVtVnAH4XrUbh2WcDKF7SQgONZwEjhehSuV1nAj26ERUXOWcCfA8sRMnBZwDMzMzMzw1nAq3e4HRpVWcBbeF4qNiZawIts5/up8VnAOurouBrvWcCQniKHiBBawNbHQ9/dJVrALsbAOo4DWcBda+9TVdVYwFK4HoXrBVnAUrgehesFWcAVONkG7gJZwDp5kQn4ClnABJFFmnj6WMB+xRouchhZwNI5P8VxGFnArDb/rzopWcB0toDQeiFZwCeh9IWQHVnA0jk/xXEuWcA9CtejcA1ZwD6zJEBNBFnAVB7dCItDWMBPAptz8EpYwCo4vCAiXljAZmZmZmb2WMCuR+F6FPZYwFclkX2QHVnAKji8ICL6WMBVbTfBN+dYwIpYxLDD4FjALBGo/kEWWcBcj8L1KMBYwAAAAAAA+FjAuOnPfqSSWcCQoPgx5hJawIXrUbge5VzAZmZmZmYGWcBlUkMbgA1ZwBgmUwWjClnAgIEgQIYKWcAAAAAAAABZwIkoJm+ADVnAPQrXo3ANWcDNzMzMzAxZwM3MzMzMDFnAPQrXo3ANWcA9CtejcA1ZwC/dJAaBDVnA7FG4HoXTWMAuxsA6jgNZwC7GwDqOA1nALsbAOo4DWcDWx0Pf3dVYwDMzMzMz41jACtejcD0KWcAK16NwPQpZwIpVgzC3Y1jA7+L9uP35WMBbs5WX/PZYwFVtN8E351jA4XoUrkfxWMBSuB6F69FYwOM2GsBb3FjA4zYawFvcWMAebRyxFt1YwAAAAAAAwFjAgH7fv3kxWcCamZmZmVlZwDbmdcQhVFrAAAAAAADAWcDfpj/7kQhZwAAAAAAAAFnAIAvRIXD3WMDBGfz9Yi1ZwMP1KFyP4ljAEvkupS53WsAS+S6lLndawBL5LqUud1rAEvkupS53WsAS+S6lLndawEEsmzkkR1rA9ihcj8J1WsD2KFyPwnVawPYoXI/CdVrA9ihcj8J1WsBSuB6F6/FZwFK4HoXr8VnAc2iR7XwxWcC2aWyvBVNZwCo4vCAiQlnA2GZjJeb5WcCjlBCsqlJZwEIKnkKus1nAAAAAAABQWcA8LqpFRLRZwLZpbK8FU1nA+rmhKTtwWcDYZmMl5vlZwGZmZmZmZlnAW3heKjYmWsDWx0Pf3SVawMhfWtQn+VjABJFFmnj6WMDlC1pIwP9YwMhfWtQn+VjAUrgehesFWcDn5EUm4PNYwFK4HoXrBVnAgnFw6ZgEWcBSuB6F6wVZwLvTnSeeCVnAyF9a1Cf5WMAfD313K/NYwArXo3A9ClnACtejcD0KWcDiH7b0aApZwArXo3A9ClnA4h+29GgKWcAK16NwPQpZwIigavRqClnACtejcD0KWcCIoGr0agpZwArXo3A9ClnAN4sXC0MEWcBtqBjnb/NYwNxI2SJp9FjAgIEgQIbuWMAQWDm0yO5YwDDUYYVb61jAMzMzMzPbWMDM8J9uoOtYwCo4vCAi4ljAc/IiE/CfWsC7uI0G8J9awHkiiPNwCFrAYobGE0GLWsDNzMzMzOxZwB+F61G4FlnAXI/C9ShcW8ApXI/C9chbwDMzMzMzo1vALsbAOo5jW8BoQpPEkqNbwJ8DyxEyXFvAfsnGgy1YW8Crksg+yMhbwIbHfhZLllnACft2EhHhWMDs+gW7YfFYwHnnUIaqSlnAiPIFLSQcWcA8LqpFRNxYwPcEie3upljAexSuR+H6WMBVbTfBN+dYwCo4vCAiYlrAv2TjwRaYWcAJ+3YSEZlZwMhfWtQn+VjAzF1LyAcJWcCNl24SgyJZwMhfWtQn+VjALBGo/kEKWcCNl24SgyJZwM3MzMzMFFnAkJ4ih4goWcA8LqpFRBRZwJCeIoeIKFnAfsUaLnIYWcDg10gShCFZwNI5P8VxGFnApHA9CtfTWMAAAAAAABhZwIpYxLDD4FjAzczMzMzUWMBxPQrXo3BZwGZmZmZmxlzAXWvvU1XNXMAAAAAAANhcwJqZmZmZ0VzAo5QQrKriXMA8LqpFRNxcwOCe508bcFzAxNFVursDXMCQniKHiEBcwM3MzMzMRFzAzPCfbqDrWMDNzMzMzNRYwI4fKo2YcljATI3Qz9TwXMCamZmZmVlawM3MzMzMXFnAxNFVurszWcDNzMzMzERcwGZmZmZm1lvAMzMzMzPjW8CjlBCsqkJcwKOUEKyqslvAKji8ICIaXMAnZyjueE9awMoXtJCA41nAxNFVurtTWcDNzMzMzDRZwKG5TiMtcVnAB9Dv+zedWcCIoGr0aopbwPcEie3urlvAfPDapQ0MXMCX5IBdTQRcwLoyqDY431vAyhe0kIDtW8DE0VW6u1NcwMTRVbq7U1zAxNFVurtTXMBwYd14d19YwCo4vCAialjAUrgeheshXcAg1EUKZSZdwGZmZmZm9lzAzczMzMwEXcDE0VW6u+NcwF1r71NV7VzAMzMzMzN7W8CamZmZmbFbwAAAAAAA+FvAPC6qRUTcW8AAAAAAABhcwGKGxhNBgVvAArovZ7bJWMAfhetRuB5dwAK6L2e2yVjAH4XrUbhOWcAfhetRuE5ZwB+F61G4TlnAH4XrUbhOWcAfhetRuE5ZwB+F61G4TlnA5fIf0m/1WMCjlBCsqupYwLVOXI5X61jAH4XrUbiOW8D3BInt7vZbwJQvaCEBz1vAAAAAAAAYXcAzMzMzMytdwNbHQ9/d9VzAl6lJ8IbtWMCKWMSww/RYwCo4vCAi6ljAGckeoWbvWMCMMbCO4/BYwBjPoKF/8FjA3BDjNa8aWsAJ+3YSEWFZwJCeIoeIaFnAzczMzMysWcBI4XoUrldZwEjhehSuV1nAXWvvU1VVWMCQniKHiFBYwO/i/bj9+VjAKji8ICLyWMCjlBCsqsJYwIB+3795UVjASgwCK4faWMAS+S6lLtFYwG1VEtkHV1nAUP9Z8+N0WcDufD81XjpZwM+fNqrTXlnAt0JYjSWLWcCjlBCsqmJZwJCeIoeIAFrA1sdD390NWsCx/Pm2YHdZwBSuR+F6hFnAaEKTxJLLWMCamZmZmdFYwGZmZmZmzljAVvKxu0DfWMD/I9Oh0+5YwIpYxLDD4FjAo5QQrKqyWMAUrkfhemRYwOF6FK5H8VjAkJ4ih4jgXMCQniKHiLBcwNbHQ9/dlVzAK6Im+nxQWMBY/nxbsL1bwCBB8WPM31jAGuCCbFnfWMBwYd14d19bwPYoXI/CRVnABkZe1sSbW8AogGJkyb9bwG2sxDwrzlvALsbAOo4DWcByGTc10BFZwC7GwDqOA1nA9wFIbeLiWcBmZmZmZh5awGiTwyed7FnACft2EhFxWcBwYd14d4dZwOM2GsBb3FjAfGEyVTDaWMARGVbxRtpYwDMzMzMz+1zAMzMzMzPbXMBda+9TVd1cwManABjPeFvANbitLTz6W8AydVd2wRlcwErRyr3A51vA24r9ZfedXMCTGARWDpNbwGH8NO7Nv1nAS633G+2NWcCwxtl0BE1ZwJqZmZmZQVzAo5QQrKpCXMBI4XoUrr9bwBSuR+F6NFrAWaMeotEdWcDlC1pIwP9YwNIdxM4UHlnA3xXB/1YcWcCCcXDpmARZwBeel4qNplvAZmZmZmbKW8C+iLZj6tJbwMTRVbq7c1vAmpmZmZmxXMDE0VW6u/NcwBg/jXvzzlzAxNFVurtbWcBwYd14dw9dwCdr1EM0IlnAqd2vAnxLWMBeS8gHPTVawAn7dhIRAVrAcT0K16MAWsCF61G4HjVawNbHQ9/dNVrAmpmZmZkBWsDJO4cyVO5YwJJ3DmWouFjA1O5XAb61WMCamZmZmblYwClcj8L1sFjAt0JYjSW3WMA8LqpFRKxcwHsUrkfhGl3ACtejcD0aXcDjbDoCuIpawJCeIoeIOFrACft2EhE5WsBxPQrXo8xbwHE9CtejzFvAXWvvU1UVXMB/pfPhWRVcwHE9CtejzFvAf6Xz4VkVXMAzMzMzM+tcwAn7dhIRaVzACft2EhHZXMDE0VW6u+NcwIXrUbge1VzAAAAAAADgXMCjlBCsqmJZwMRCrWnejVnAx2KbVDReWMDowHKEDKFYwMTRVbq7r1jA6MByhAyhWMDowHKEDKFYwOjAcoQMoVjAOBPThViZW8Ch9ls7UZVbwDMzMzMzg1zAU9DtJY2DXMAAAAAAAOhbwAAAAAAA6FvAPC6qRURcWMDWx0Pf3WVYwK1rtBzoaFjArWu0HOhoWMCE1O3sK4FbwITU7ewrgVvAmpmZmZkZWsCkcD0K15dcwBgHl445HlzAw50LI71eXMCPOGQD6apcwM3MzMzMFFzAzczMzMwUXMD3BInt7uZcwPcEie3u5lzAKji8ICKyWcBI4XoUrldZwHsUrkfh+ljABW1y+KSrWMCeBgySPrlYwK9bBMb6wlvAryMO2UDDW8DqdYvAWMpbwPC+Khcqw1vA8L4qFyrDW8DwvioXKsNbwGZmZmZmzljA/U0oRMCzW8BVhJuMKoFbwDLk2HqGr1zApMfvbfoZXMDWx0Pf3WVawAAAAAAAgFrAexSuR+EaXcCjlBCsqhpdwCDURQplJl3AMzMzMzMbXcCUopV7gclYwJqZmZmZ2VzAKji8ICLaXMDWx0Pf3aVcwJqZmZmZsVzAvp8aL93MXMCuR+F6FK5cwI/C9Shcf1zALsbAOo4fXcBmZmZmZuZcwK5H4XoUrlzAzczMzMz8XMCF61G4HhVdwOrsZHCU3FzA1sdD390VXcAqOLwgIupcwMTRVbq7A1zA1sdD393lW8BmZmZmZq5bwHBh3Xh3L13AxNFVursTWcDE0VW6uxNZwOIftvRoClnAiKBq9GoKWcCgi4aMRxpZwMTRVbq781zAxNFVurvjXMBda+9TVY1cwM3MzMzMBF3A7FG4HoX7XMD3BInt7rZbwEjhehSup1jAgjY5fNIDWcDsEtVbAwlZwB1aZDvfF1nAUrgehevhWMCjlBCsqoJbwAX6RJ4kS1rAEvkupS53WsCQniKHiIBawJCeIoeIgFrA9wSJ7e5uWsAGaFvNOiJawCo4vCAiYlrANuZ1xCFUWsAfhetRuG5awN3pzhPPeFrA2ZPA5hxUWsCZSj/h7FVZwF1r71NVtVnAH4XrUbh2WcDKF7SQgONZwEjhehSuV1nAj26ERUXOWcCfA8sRMnBZwDMzMzMzw1nAq3e4HRpVWcBbeF4qNiZawIts5/up8VnAOurouBrvWcCQniKHiBBawNbHQ9/dJVrALsbAOo4DWcBda+9TVdVYwFK4HoXrBVnAUrgehesFWcAVONkG7gJZwDp5kQn4ClnABJFFmnj6WMB+xRouchhZwNI5P8VxGFnArDb/rzopWcB0toDQeiFZwCeh9IWQHVnA0jk/xXEuWcA9CtejcA1ZwD6zJEBNBFnAVB7dCItDWMBPAptz8EpYwCo4vCAiXljAZmZmZmb2WMCuR+F6FPZYwFclkX2QHVnAKji8ICL6WMBVbTfBN+dYwIpYxLDD4FjALBGo/kEWWcBcj8L1KMBYwAAAAAAA+FjAuOnPfqSSWcCQoPgx5hJawIXrUbge5VzAZmZmZmYGWcBlUkMbgA1ZwBgmUwWjClnAgIEgQIYKWcAAAAAAAABZwIkoJm+ADVnAPQrXo3ANWcDNzMzMzAxZwM3MzMzMDFnAPQrXo3ANWcA9CtejcA1ZwC/dJAaBDVnA7FG4HoXTWMAuxsA6jgNZwC7GwDqOA1nALsbAOo4DWcDWx0Pf3dVYwDMzMzMz41jACtejcD0KWcAK16NwPQpZwIpVgzC3Y1jA7+L9uP35WMBbs5WX/PZYwFVtN8E351jA4XoUrkfxWMBSuB6F69FYwOM2GsBb3FjA4zYawFvcWMAebRyxFt1YwKaZ7nVS3VjAo5QQrKpiWcDJO4cyVDpZwEVJSKRtVFvAPQrXo3BdWcD2KFyPwp1ZwKOUEKyqelrAje+LS1UsWsAqOLwgImJawJCeIoeIcFnAXI/C9SikWcBOJ9nqcudYwHBh3Xh371jAbazEPCv6WMDv4v24/flYwNdoOdBDb1nAQSrFjsYeWcActcL0vSJZwAAAAAAAgFjAKji8ICL6XMAqOLwgIhpdwDMzMzMzC13AKji8ICIaXcAWMewwJvtcwBRa1v1jG13AXrwft18dXcBksU0qGvFcwK8jDtlAK13A2liJeVawXMCkcD0K1wNZwDwuqkVEBFnALsbAOo4DWcAuxsA6jgNZwC7GwDqOA1nAtmlsrwV3WMBubeF5qcBYwHIZNzXQEVnAH4XrUbgWWcByGTc10BFZwKOUEKyquljAo5QQrKoCWcCOAdnr3R1ZwFvOpbiqClnAFeEmo8oQWcBmZmZmZgJZwD7L8+DuLlnAW86luKoqWcBSuB6F69FYwOM2GsBb3FjA4zYawFvcWMDjNhrAW9xYwAAAAAAAcFnAkJ4ih4gwWcCQniKHiDBZwAAAAAAAMFnAAAAAAAAwWcAAAAAAADBZwAAAAAAAMFnAPC6qRUSUWcBI4XoUrldZwAAAAAAAkFnAzuDvF7NDWcCTUzvD1GFZwHE9CtejYFnAk1M7w9RhWcDKF7SQgENZwJCeIoeIMFnAkJ4ih4gwWcAP1ZRkHYlZwJCeIoeIiFnA+OKL9nhDWcAqOLwgIlJZwNejcD0Kp1nASpaTUPqsWcAFbXL4pKdZwEcFTraBVlnAAAAAAACQWcDKF7SQgONZwAn7dhIRsVnAxxAAHHseWcDjNhrAW9xYwKRwPQrX01jA4zYawFvcWMBHBU62gVZZwAAAAAAAkFnAyhe0kIDjWcAJ+3YSEbFZwMcQABx7HlnA4zYawFvcWMCkcD0K19NYwOM2GsBb3FjA1sdD3921W8DNzMzMzAxcwN3pzhPPtlvAXWvvU1W1W8CjlBCsqhpcwGZmZmZmxlvAXWvvU1WxW8C7050nnrlbwM3MzMzMDFzA3QcgtYlHW8BVavZAK75bwJYmpaDbX1vAKJtyhXdfW8ALmMCtu5NbwM3MzMzMDFzAE9Iag06rW8BwYd14d19bwAVqMXiYxlvASgwCK4dOW8C+2lGco5NbwMTRVbq7o1vAAAAAAAAYXMCzsRLzrMBbwJCeIoeIsFvA3enOE8+2W8DE0VW6uwNZwOjAcoQMoVjAKji8ICLqWMCF61G4HvVYwAAAAAAAAFnAxNFVurvzWMDYLQJjfe1YwF35LM+D81jAIToEjgT6WMB9BtSbUR9ZwOM2GsBb3FjAZmZmZmauWMBmZmZmZq5YwMzwn26gl1nAo5QQrKoCXMDE0VW6u6tYwCandoapw1jAyF9a1Cf5WMC/DMaIRPRYwOULWkjAe1zABkZe1sTXXMAzMzMzM1NcwJqZmZmZ8VzAxNFVurtTXMAqOLwgIspcwKOUEKyqWlzAKji8ICI6XMA8LqpFRExcwKOUEKyqQlzAmpmZmZnBW8DD9ShcjxpcwAZGXtbES1zAzczMzMwMXMDAJQD/lOFbwDPfwU8c6lvAL6LtmLpEXMBI4XoUrudbwPVnP1JERFzA93XgnBHpW8DNzMzMzLxbwNZW7C+741vAH4XrUbiuW8B7FK5H4dpbwHzw2qUNrFvAMzMzMzO7W8BmZmZmZr5bwNbHQ9/d5VvAm3XG98UCXMA8LqpFRORbwM3MzMzMvFvARNycSgaOW8D3BInt7q5bwGZmZmZm5lvACft2EhHpW8DE0VW6u+NbwAAAAAAAkFvAwVPIlXqPW8DNzMzMzAxcwHBh3Xh351vAmpmZmZnhW8D8brplh41bwKOUEKyq2lvAo5QQrKraW8AAAAAAAJBbwPcEie3uBlzAcGHdeHevW8CamZmZmZFbwM3MzMzMRFzAKji8ICIaXMD3BInt7sZbwDwuqkVETFzAkJ4ih4hAXMA8LqpFRJxZwGWKOQg6JVrAOKClK9haW8AzMzMzM1NbwF9dFajFxFvAXWvvU1UFXMDul09WDFdbwKOUEKyqWlvAMzMzMzNTW8AJ+3YSEVFbwEAziA/sp1vAYvnzbcHSW8CPwvUoXD9cwJi9bDttlFvAPC6qRUS0W8BWSWQfZPhbwNUJaCJsolvAzczMzMyMW8CuR+F6FL5bwHsUrkfhWlvAMzMzMzNTW8CXqN4a2FpbwIiFWtO8C1zAMzMzMzPDW8AzMzMzM1NbwPNxbagYw1vAG7luSnlhW8BpG3+ismdbwHeDaK1oaFvA38X7cfu/W8AEkUWaeL5bwAOzQpHu11vAO99PjZdWW8CMMbCO46hbwIwxsI7jqFvA0V0SZ0W7W8Dd6c4TzzZcwItSQrCqrVvAxNFVurvDW8A8hVypZ8RbwIigavRqtlvA5CzsaYe5W8AhOgSOBDhcwJqZmZmZGVzAXWvvU1UFXMDkLy3qk0JcwF1r71NVvVvA1sdD3929W8DbNLbXgr1bwKOUEKyqwlvAPQrXo3CRW8Bda+9TVb1bwM3MzMzMwFvAt0JYjSXHW8Bda+9TVb1bwNbHQ9/dxVvAq5LIPsjIW8CjlBCsqsJbwGPVIMzts1vAXWvvU1W9W8B88NqlDchbwF1r71NVvVvA8L4qFyq7W8DgSnZsBKpYwJqZmZmZGVzAzczMzMwcXMCamZmZmRlcwKOUEKyqElzALpCg+DHKW8C9HeG04BFcwB1aZDvfE1zAzczMzMwcXMDOUx1yMxJcwCNnYU87FFzAW86luKoSXMCoAYOkT85bwPlNYaWCElzA0LhwICQZXMDE0VW6u6NbwMTRVbq781zAAAAAAADYXMCamZmZmbFcwHPyIhPwzVzA0bGDSlyyXMBxk1FlGGxcwKclVkYjjVzAXWvvU1WhXMCF61G4HiVdwO8DkNrEsVzA1sdD390lXcDE0VW6u2NcwArXo3A9slzA6Zyf4jjyXMDpnJ/iOPJcwM3MzMzMDFzAMzMzMzPjW8ApBHKJI5RbwA0Zj1IJ6VvAzczMzMy8W8DNzMzMzNRbwGZmZmZm3lvAmpmZmZm5W8CVuflGdPFbwGPVIMzt71vAryMO2UD3W8DNzMzMzAxcwM3MzMzMvFvAmpmZmZm5W8CcTrLV5Y5bwGZmZmZm3lvAzczMzMzUW8DBApgycHZbwM3MzMzMNFzAZYo5CDolWsBwYd14d2dbwAXc8/xpvVvA6GwBofXDW8BwYd14d2dbwGZmZmZmZlzAHNDSFWxdXMB4X5ULlUVcwMTt0LAYYFzA9Wc/UkSkW8ANpmH4iL5bwCibcoV3Z1vAjgHZ6929W8AnwoanV2RcwNALdy6MvVvAJ8KGp1dkXMDNzMzMzFxcwOQs7GmHuVvAZmZmZmZmXMDWx0Pf3b1bwMhfWtQnKVzAjh8qjZhyWMAAAAAAAHBYwAKDpE+rE1zAUrgehesVXMB1djI4ShRcwHGPpQ9dFFzAaXQHsTMbXMAr9pfdkxNcwG8vaYzWG1zAGoums5MTXMDWx0Pf3ZVbwF1r71NVVVzAAAAAAAD4W8D3BInt7qZbwAn7dhIR6VzAo5QQrKr6WsA0DvW7sEJZwGZmZmZmklvAUMdjBipzW8DwvioXKnNbwJUsJ6H0RVvArWnecYqjWsDBGfz9YnlZwBPSGoNO01nAKji8ICJyWcAqOLwgInJZwKCJsOHpL1nAbm3heanAWMByGTc10BFZwB+F61G4FlnAchk3NdARWcCjlBCsqrpYwKOUEKyqAlnAjgHZ690dWcBbzqW4qgpZwBXhJqPKEFnAZmZmZmYCWcA+y/Pg7i5ZwFvOpbiqKlnAUrgehevRWMDjNhrAW9xYwOM2GsBb3FjA4zYawFvcWMAAAAAAAIBYwCo4vCAi+lzAKji8ICIaXcAzMzMzMwtdwCo4vCAiGl3AFjHsMCb7XMAUWtb9YxtdwF68H7dfHV3AZLFNKhrxXMCvIw7ZQCtdwNpYiXlWsFzAaverAN9oWMA8LqpFRGRYwCiAYmTJY1jAKIBiZMljWMAogGJkyWNYwJqZmZmZYVjAxNFVurtjWMA8LqpFRFxYwF1r71NVXVjAXWvvU1VdWMA8LqpFRFxYwDwuqkVETFjAZmZmZmZOWMBmZmZmZl5YwHBh3Xh3X1jAxNFVurtjWMDE0VW6u2NYwF1r71NVXVjAcGHdeHdfWMBwYd14d19YwHBh3Xh3X1jAcGHdeHdfWMBda+9TVV1YwHBh3Xh3X1jAcGHdeHdfWMAqOLwgIl5YwMTRVbq7A1nAjubIyi/aWMBda+9TVe1YwJfkgF1NtFjAmpmZmZmxWMBwYd14d+9YwDMzMzMz+1jAmpmZmZnxWMAtXFZhM1pawOC8OPHVBVrAAAAAAACAWsBI4XoUrldZwGiTwyed7FnAOQ8nMJ2KWcCQEOULWvBZwNbHQ9/ddVnAZmZmZmY2WcD3BInt7j5ZwP1NKETAs1vAhetRuB51WsCuR+F6FB5awA==\",\"dtype\":\"float64\",\"order\":\"little\",\"shape\":[1190]},\"orden\":[\"Alismatales\",\"Alismatales\",\"Alismatales\",\"Alismatales\",\"Alismatales\",\"Alismatales\",\"Alismatales\",\"Alismatales\",\"Alismatales\",\"Alismatales\",\"Alismatales\",\"Arales\",\"Arales\",\"Arales\",\"Arales\",\"Arales\",\"Arales\",\"Arales\",\"Arales\",\"Arales\",\"Arales\",\"Arales\",\"Arecales\",\"Arecales\",\"Arecales\",\"Arecales\",\"Arecales\",\"Arecales\",\"Arecales\",\"Arecales\",\"Arecales\",\"Arecales\",\"Arecales\",\"Asparagales\",\"Asparagales\",\"Asparagales\",\"Asparagales\",\"Asparagales\",\"Asparagales\",\"Asparagales\",\"Asparagales\",\"Asparagales\",\"Asparagales\",\"Asparagales\",\"Bromeliales\",\"Bromeliales\",\"Bromeliales\",\"Bromeliales\",\"Bromeliales\",\"Bromeliales\",\"Bromeliales\",\"Bromeliales\",\"Bromeliales\",\"Bromeliales\",\"Commelinales\",\"Commelinales\",\"Commelinales\",\"Commelinales\",\"Commelinales\",\"Commelinales\",\"Commelinales\",\"Commelinales\",\"Commelinales\",\"Commelinales\",\"Commelinales\",\"Cyclanthales\",\"Cyclanthales\",\"Cyperales\",\"Cyperales\",\"Cyperales\",\"Cyperales\",\"Cyperales\",\"Cyperales\",\"Cyperales\",\"Cyperales\",\"Cyperales\",\"Cyperales\",\"Cyperales\",\"Dioscoreales\",\"Dioscoreales\",\"Dioscoreales\",\"Dioscoreales\",\"Dioscoreales\",\"Dioscoreales\",\"Dioscoreales\",\"Dioscoreales\",\"Dioscoreales\",\"Dioscoreales\",\"Dioscoreales\",\"Liliales\",\"Liliales\",\"Liliales\",\"Liliales\",\"Liliales\",\"Liliales\",\"Liliales\",\"Liliales\",\"Liliales\",\"Liliales\",\"Liliales\",\"Melanthiales\",\"Melanthiales\",\"Melanthiales\",\"Melanthiales\",\"Melanthiales\",\"Melanthiales\",\"Melanthiales\",\"Melanthiales\",\"Melanthiales\",\"Melanthiales\",\"Melanthiales\",\"Najadales\",\"Najadales\",\"Najadales\",\"Najadales\",\"Najadales\",\"Najadales\",\"Najadales\",\"Najadales\",\"Najadales\",\"Najadales\",\"Najadales\",\"Poales\",\"Poales\",\"Poales\",\"Poales\",\"Poales\",\"Poales\",\"Poales\",\"Poales\",\"Poales\",\"Poales\",\"Poales\",\"Pontederiales\",\"Pontederiales\",\"Pontederiales\",\"Pontederiales\",\"Pontederiales\",\"Pontederiales\",\"Pontederiales\",\"Pontederiales\",\"Pontederiales\",\"Pontederiales\",\"Pontederiales\",\"Typhales\",\"Typhales\",\"Typhales\",\"Typhales\",\"Typhales\",\"Typhales\",\"Typhales\",\"Typhales\",\"Typhales\",\"Typhales\",\"Typhales\",\"Zingiberales\",\"Zingiberales\",\"Zingiberales\",\"Isoetales\",\"Isoetales\",\"Isoetales\",\"Isoetales\",\"Isoetales\",\"Lycopodiales\",\"Selaginellales\",\"Selaginellales\",\"Selaginellales\",\"Selaginellales\",\"Selaginellales\",\"Selaginellales\",\"Selaginellales\",\"Selaginellales\",\"Selaginellales\",\"Selaginellales\",\"Selaginellales\",\"Selaginellales\",\"Selaginellales\",\"Selaginellales\",\"Selaginellales\",\"Selaginellales\",\"Selaginellales\",\"Selaginellales\",\"Selaginellales\",\"Selaginellales\",\"Selaginellales\",\"Selaginellales\",\"Selaginellales\",\"Selaginellales\",\"Selaginellales\",\"Selaginellales\",\"Selaginellales\",\"Selaginellales\",\"Selaginellales\",\"Selaginellales\",\"Selaginellales\",\"Selaginellales\",\"Selaginellales\",\"Selaginellales\",\"Selaginellales\",\"Selaginellales\",\"Selaginellales\",\"Selaginellales\",\"Selaginellales\",\"Selaginellales\",\"Selaginellales\",\"Selaginellales\",\"Selaginellales\",\"Selaginellales\",\"Selaginellales\",\"Selaginellales\",\"Selaginellales\",\"Selaginellales\",\"Selaginellales\",\"Selaginellales\",\"Selaginellales\",\"Selaginellales\",\"Selaginellales\",\"Selaginellales\",\"Selaginellales\",\"Selaginellales\",\"Selaginellales\",\"Selaginellales\",\"Selaginellales\",\"Selaginellales\",\"Selaginellales\",\"Selaginellales\",\"Selaginellales\",\"Selaginellales\",\"Selaginellales\",\"Selaginellales\",\"Selaginellales\",\"Selaginellales\",\"Selaginellales\",\"Selaginellales\",\"Selaginellales\",\"Selaginellales\",\"Selaginellales\",\"Selaginellales\",\"Selaginellales\",\"Selaginellales\",\"Selaginellales\",\"Selaginellales\",\"Selaginellales\",\"Selaginellales\",\"Selaginellales\",\"Selaginellales\",\"Selaginellales\",\"Selaginellales\",\"Selaginellales\",\"Selaginellales\",\"Selaginellales\",\"Selaginellales\",\"Selaginellales\",\"Selaginellales\",\"Selaginellales\",\"Selaginellales\",\"Selaginellales\",\"Selaginellales\",\"Selaginellales\",\"Selaginellales\",\"Selaginellales\",\"Selaginellales\",\"Selaginellales\",\"Selaginellales\",\"Selaginellales\",\"Selaginellales\",\"Selaginellales\",\"Selaginellales\",\"Selaginellales\",\"Selaginellales\",\"Selaginellales\",\"Selaginellales\",\"Selaginellales\",\"Selaginellales\",\"Selaginellales\",\"Selaginellales\",\"Selaginellales\",\"Selaginellales\",\"Selaginellales\",\"Selaginellales\",\"Selaginellales\",\"Selaginellales\",\"Selaginellales\",\"Selaginellales\",\"Selaginellales\",\"Selaginellales\",\"Selaginellales\",\"Selaginellales\",\"Selaginellales\",\"Selaginellales\",\"Selaginellales\",\"Selaginellales\",\"Selaginellales\",\"Selaginellales\",\"Selaginellales\",\"Selaginellales\",\"Selaginellales\",\"Selaginellales\",\"Selaginellales\",\"Selaginellales\",\"Selaginellales\",\"Selaginellales\",\"Selaginellales\",\"Selaginellales\",\"Selaginellales\",\"Selaginellales\",\"Selaginellales\",\"Selaginellales\",\"Selaginellales\",\"Selaginellales\",\"Selaginellales\",\"Selaginellales\",\"Selaginellales\",\"Selaginellales\",\"Selaginellales\",\"Selaginellales\",\"Selaginellales\",\"Selaginellales\",\"Selaginellales\",\"Selaginellales\",\"Selaginellales\",\"Selaginellales\",\"Selaginellales\",\"Selaginellales\",\"Selaginellales\",\"Selaginellales\",\"Selaginellales\",\"Selaginellales\",\"Selaginellales\",\"Selaginellales\",\"Selaginellales\",\"Selaginellales\",\"Selaginellales\",\"Selaginellales\",\"Selaginellales\",\"Selaginellales\",\"Selaginellales\",\"Selaginellales\",\"Selaginellales\",\"Selaginellales\",\"Selaginellales\",\"Selaginellales\",\"Selaginellales\",\"Selaginellales\",\"Selaginellales\",\"Selaginellales\",\"Selaginellales\",\"Selaginellales\",\"Selaginellales\",\"Selaginellales\",\"Selaginellales\",\"Selaginellales\",\"Selaginellales\",\"Selaginellales\",\"Selaginellales\",\"Selaginellales\",\"Selaginellales\",\"Selaginellales\",\"Selaginellales\",\"Selaginellales\",\"Selaginellales\",\"Selaginellales\",\"Selaginellales\",\"Selaginellales\",\"Selaginellales\",\"Selaginellales\",\"Selaginellales\",\"Selaginellales\",\"Selaginellales\",\"Selaginellales\",\"Selaginellales\",\"Selaginellales\",\"Selaginellales\",\"Selaginellales\",\"Selaginellales\",\"Selaginellales\",\"Selaginellales\",\"Selaginellales\",\"Selaginellales\",\"Selaginellales\",\"Selaginellales\",\"Selaginellales\",\"Selaginellales\",\"Selaginellales\",\"Selaginellales\",\"Selaginellales\",\"Selaginellales\",\"Selaginellales\",\"Selaginellales\",\"Selaginellales\",\"Selaginellales\",\"Selaginellales\",\"Selaginellales\",\"Selaginellales\",\"Selaginellales\",\"Selaginellales\",\"Selaginellales\",\"Selaginellales\",\"Selaginellales\",\"Selaginellales\",\"Selaginellales\",\"Selaginellales\",\"Selaginellales\",\"Selaginellales\",\"Selaginellales\",\"Selaginellales\",\"Selaginellales\",\"Selaginellales\",\"Selaginellales\",\"Selaginellales\",\"Selaginellales\",\"Selaginellales\",\"Apiales\",\"Apiales\",\"Apiales\",\"Apiales\",\"Apiales\",\"Apiales\",\"Aristolochiales\",\"Aristolochiales\",\"Aristolochiales\",\"Aristolochiales\",\"Aristolochiales\",\"Aristolochiales\",\"Asterales\",\"Asterales\",\"Asterales\",\"Asterales\",\"Asterales\",\"Asterales\",\"Batales\",\"Batales\",\"Batales\",\"Batales\",\"Batales\",\"Batales\",\"Boraginales\",\"Boraginales\",\"Boraginales\",\"Boraginales\",\"Boraginales\",\"Capparales\",\"Capparales\",\"Capparales\",\"Capparales\",\"Capparales\",\"Capparales\",\"Caryophyllales\",\"Caryophyllales\",\"Caryophyllales\",\"Caryophyllales\",\"Caryophyllales\",\"Caryophyllales\",\"Celastrales\",\"Celastrales\",\"Celastrales\",\"Celastrales\",\"Celastrales\",\"Celastrales\",\"Celastrales\",\"Celastrales\",\"Celastrales\",\"Celastrales\",\"Celastrales\",\"Celastrales\",\"Dipsacales\",\"Dipsacales\",\"Dipsacales\",\"Dipsacales\",\"Dipsacales\",\"Dipsacales\",\"Ebenales\",\"Ebenales\",\"Ebenales\",\"Ebenales\",\"Ebenales\",\"Ebenales\",\"Gentianales\",\"Gentianales\",\"Gentianales\",\"Gentianales\",\"Gentianales\",\"Gentianales\",\"Geraniales\",\"Geraniales\",\"Geraniales\",\"Geraniales\",\"Geraniales\",\"Geraniales\",\"Hamamelidales\",\"Hamamelidales\",\"Hamamelidales\",\"Hamamelidales\",\"Hamamelidales\",\"Hamamelidales\",\"Lamiales\",\"Lamiales\",\"Lamiales\",\"Lamiales\",\"Lamiales\",\"Lamiales\",\"Magnoliales\",\"Magnoliales\",\"Magnoliales\",\"Magnoliales\",\"Magnoliales\",\"Magnoliales\",\"Malpighiales\",\"Malpighiales\",\"Malpighiales\",\"Malpighiales\",\"Malpighiales\",\"Malpighiales\",\"Malvales\",\"Malvales\",\"Malvales\",\"Malvales\",\"Malvales\",\"Malvales\",\"Myrtales\",\"Myrtales\",\"Myrtales\",\"Myrtales\",\"Myrtales\",\"Myrtales\",\"Papaverales\",\"Papaverales\",\"Papaverales\",\"Papaverales\",\"Papaverales\",\"Piperales\",\"Piperales\",\"Piperales\",\"Piperales\",\"Piperales\",\"Piperales\",\"Plantaginales\",\"Plantaginales\",\"Plantaginales\",\"Plantaginales\",\"Plantaginales\",\"Plantaginales\",\"Plumbaginales\",\"Plumbaginales\",\"Plumbaginales\",\"Plumbaginales\",\"Plumbaginales\",\"Plumbaginales\",\"Polygalales\",\"Polygalales\",\"Polygalales\",\"Polygalales\",\"Polygalales\",\"Polygalales\",\"Polygonales\",\"Polygonales\",\"Polygonales\",\"Polygonales\",\"Polygonales\",\"Polygonales\",\"Polygonales\",\"Primulales\",\"Primulales\",\"Primulales\",\"Primulales\",\"Rafflesiales\",\"Rafflesiales\",\"Rafflesiales\",\"Rafflesiales\",\"Rafflesiales\",\"Rafflesiales\",\"Ranunculales\",\"Ranunculales\",\"Ranunculales\",\"Ranunculales\",\"Ranunculales\",\"Ranunculales\",\"Rhamnales\",\"Rhamnales\",\"Rhamnales\",\"Rhamnales\",\"Rhamnales\",\"Rhamnales\",\"Rhizophorales\",\"Rhizophorales\",\"Rhizophorales\",\"Rhizophorales\",\"Rhizophorales\",\"Rhizophorales\",\"Rosales\",\"Rosales\",\"Rosales\",\"Rosales\",\"Rosales\",\"Rosales\",\"Rosales\",\"Rosales\",\"Rubiales\",\"Rubiales\",\"Rubiales\",\"Rubiales\",\"Rubiales\",\"Rubiales\",\"Santalales\",\"Santalales\",\"Santalales\",\"Santalales\",\"Santalales\",\"Santalales\",\"Sapindales\",\"Sapindales\",\"Sapindales\",\"Sapindales\",\"Sapindales\",\"Sapindales\",\"sii\",\"Solanales\",\"Solanales\",\"Solanales\",\"Solanales\",\"Solanales\",\"Solanales\",\"Solanales\",\"Solanales\",\"Solanales\",\"Solanales\",\"Theales\",\"Theales\",\"Theales\",\"Urticales\",\"Urticales\",\"Urticales\",\"Urticales\",\"Urticales\",\"Urticales\",\"Violales\",\"Violales\",\"Violales\",\"Violales\",\"Violales\",\"Violales\",\"Isoetales\",\"Isoetales\",\"Isoetales\",\"Isoetales\",\"Isoetales\",\"Lycopodiales\",\"Selaginellales\",\"Selaginellales\",\"Selaginellales\",\"Selaginellales\",\"Selaginellales\",\"Selaginellales\",\"Selaginellales\",\"Selaginellales\",\"Selaginellales\",\"Selaginellales\",\"Selaginellales\",\"Selaginellales\",\"Selaginellales\",\"Selaginellales\",\"Selaginellales\",\"Selaginellales\",\"Selaginellales\",\"Selaginellales\",\"Selaginellales\",\"Selaginellales\",\"Selaginellales\",\"Selaginellales\",\"Selaginellales\",\"Selaginellales\",\"Selaginellales\",\"Selaginellales\",\"Selaginellales\",\"Selaginellales\",\"Selaginellales\",\"Selaginellales\",\"Selaginellales\",\"Selaginellales\",\"Selaginellales\",\"Selaginellales\",\"Selaginellales\",\"Selaginellales\",\"Selaginellales\",\"Selaginellales\",\"Selaginellales\",\"Selaginellales\",\"Selaginellales\",\"Selaginellales\",\"Selaginellales\",\"Selaginellales\",\"Selaginellales\",\"Selaginellales\",\"Selaginellales\",\"Selaginellales\",\"Selaginellales\",\"Selaginellales\",\"Selaginellales\",\"Selaginellales\",\"Selaginellales\",\"Selaginellales\",\"Selaginellales\",\"Selaginellales\",\"Selaginellales\",\"Selaginellales\",\"Selaginellales\",\"Selaginellales\",\"Selaginellales\",\"Selaginellales\",\"Selaginellales\",\"Selaginellales\",\"Selaginellales\",\"Selaginellales\",\"Selaginellales\",\"Selaginellales\",\"Selaginellales\",\"Selaginellales\",\"Selaginellales\",\"Selaginellales\",\"Selaginellales\",\"Selaginellales\",\"Selaginellales\",\"Selaginellales\",\"Selaginellales\",\"Selaginellales\",\"Selaginellales\",\"Selaginellales\",\"Selaginellales\",\"Selaginellales\",\"Selaginellales\",\"Selaginellales\",\"Selaginellales\",\"Selaginellales\",\"Selaginellales\",\"Selaginellales\",\"Selaginellales\",\"Selaginellales\",\"Selaginellales\",\"Selaginellales\",\"Selaginellales\",\"Selaginellales\",\"Selaginellales\",\"Selaginellales\",\"Selaginellales\",\"Selaginellales\",\"Selaginellales\",\"Selaginellales\",\"Selaginellales\",\"Selaginellales\",\"Selaginellales\",\"Selaginellales\",\"Selaginellales\",\"Selaginellales\",\"Selaginellales\",\"Selaginellales\",\"Selaginellales\",\"Selaginellales\",\"Selaginellales\",\"Selaginellales\",\"Selaginellales\",\"Selaginellales\",\"Selaginellales\",\"Selaginellales\",\"Selaginellales\",\"Selaginellales\",\"Selaginellales\",\"Selaginellales\",\"Lamiales\",\"Solanales\",\"Solanales\",\"Solanales\",\"Solanales\",\"Solanales\",\"Solanales\",\"Solanales\",\"Solanales\",\"Solanales\",\"Solanales\",\"Plantaginales\",\"Plantaginales\",\"Plantaginales\",\"Plantaginales\",\"Plantaginales\",\"Plantaginales\",\"Plantaginales\",\"Sapindales\",\"Sapindales\",\"Sapindales\",\"Sapindales\",\"Sapindales\",\"Sapindales\",\"Sapindales\",\"Sapindales\",\"Sapindales\",\"Sapindales\",\"Sapindales\",\"Asterales\",\"Asterales\",\"Asterales\",\"Asterales\",\"Asterales\",\"Asterales\",\"Myrtales\",\"Myrtales\",\"Myrtales\",\"Myrtales\",\"Myrtales\",\"Myrtales\",\"Myrtales\",\"Myrtales\",\"Myrtales\",\"Myrtales\",\"Myrtales\",\"Myrtales\",\"Myrtales\",\"Myrtales\",\"Myrtales\",\"Myrtales\",\"Asterales\",\"Asterales\",\"Asterales\",\"Asterales\",\"Asterales\",\"Asterales\",\"Asterales\",\"Asterales\",\"Asterales\",\"Asterales\",\"Asterales\",\"Asterales\",\"Asterales\",\"Asterales\",\"Asterales\",\"Asterales\",\"Asterales\",\"Asterales\",\"Asterales\",\"Asterales\",\"Asterales\",\"Asterales\",\"Asterales\",\"Asterales\",\"Gentianales\",\"Gentianales\",\"Gentianales\",\"Gentianales\",\"Gentianales\",\"Gentianales\",\"Gentianales\",\"Gentianales\",\"Gentianales\",\"Gentianales\",\"Gentianales\",\"Gentianales\",\"Gentianales\",\"Gentianales\",\"Gentianales\",\"Gentianales\",\"Lamiales\",\"Lamiales\",\"Lamiales\",\"Lamiales\",\"Lamiales\",\"Lamiales\",\"Lamiales\",\"Lamiales\",\"Lamiales\",\"Lamiales\",\"Lamiales\",\"Lamiales\",\"Lamiales\",\"Lamiales\",\"Lamiales\",\"Lamiales\",\"Lamiales\",\"Lamiales\",\"Lamiales\",\"Lamiales\",\"Lamiales\",\"Lamiales\",\"Lamiales\",\"Lamiales\",\"Lamiales\",\"Lamiales\",\"Lamiales\",\"Lamiales\",\"Lamiales\",\"Lamiales\",\"Lamiales\",\"Lamiales\",\"Lamiales\",\"Lamiales\",\"Lamiales\",\"Lamiales\",\"Lamiales\",\"Lamiales\",\"Lamiales\",\"Lamiales\",\"Lamiales\",\"Lamiales\",\"Lamiales\",\"Lamiales\",\"Malvales\",\"Malvales\",\"Malvales\",\"Malvales\",\"Malvales\",\"Malvales\",\"Malvales\",\"Malvales\",\"Malvales\",\"Malvales\",\"Malvales\",\"Malvales\",\"Malvales\",\"Malvales\",\"Malvales\",\"Malvales\",\"Malvales\",\"Malvales\",\"Malvales\",\"Malvales\",\"Malvales\",\"Malvales\",\"Malvales\",\"Malvales\",\"Malvales\",\"Malvales\",\"Malvales\",\"Malvales\",\"Malvales\",\"Malvales\",\"Malvales\",\"Malvales\",\"Malvales\",\"Malvales\",\"Malvales\",\"Malvales\",\"Malvales\",\"Malvales\",\"Malvales\",\"Malvales\",\"Malvales\",\"Malvales\",\"Malvales\",\"Malvales\",\"Malvales\",\"Malvales\",\"Malvales\",\"Malvales\",\"Malvales\",\"Malvales\",\"Malvales\",\"Malvales\",\"Malvales\",\"Malvales\",\"Malvales\",\"Malvales\",\"Malvales\",\"Malvales\",\"Malvales\",\"Malvales\",\"Malvales\",\"Malvales\",\"Malvales\",\"Malvales\",\"Malvales\",\"Malvales\",\"Malvales\",\"Malvales\",\"Malvales\",\"Malvales\",\"Malvales\",\"Malvales\",\"Malvales\",\"Malvales\",\"Malvales\",\"Malvales\",\"Malvales\",\"Malvales\",\"Malvales\",\"Malvales\",\"Malvales\",\"Malvales\",\"Malvales\",\"Malvales\",\"Malvales\",\"Malvales\",\"Malvales\",\"Malvales\",\"Malvales\",\"Malvales\",\"Malvales\",\"Malvales\",\"Malvales\",\"Malvales\",\"Malvales\",\"Malvales\",\"Malvales\",\"Malvales\",\"Malvales\",\"Malvales\",\"Malvales\",\"Malvales\",\"Malvales\",\"Malvales\",\"Malvales\",\"Malvales\",\"Malvales\",\"Malvales\",\"Malvales\",\"Malvales\",\"Malvales\",\"Malvales\",\"Malvales\",\"Malvales\",\"Malvales\",\"Malvales\",\"Malvales\",\"Malvales\",\"Malvales\",\"Malvales\",\"Malvales\",\"Malvales\",\"Malvales\",\"Malvales\",\"Malvales\",\"Malvales\",\"Malvales\",\"Malvales\",\"Malvales\",\"Malvales\",\"Malvales\",\"Malvales\",\"Malvales\",\"Malvales\",\"Malvales\",\"Malvales\",\"Malvales\",\"Malvales\",\"Malvales\",\"Malvales\",\"Malvales\",\"Malvales\",\"Malvales\",\"Malvales\",\"Malvales\",\"Malvales\",\"Malvales\",\"Malvales\",\"Malvales\",\"Malvales\",\"Malvales\",\"Malvales\",\"Malvales\",\"Malvales\",\"Malvales\",\"Malvales\",\"Malvales\",\"Malvales\",\"Malvales\",\"Malvales\",\"Malvales\",\"Malvales\",\"Malvales\",\"Malvales\",\"Malvales\",\"Malvales\",\"Malvales\",\"Malvales\",\"Malvales\",\"Malvales\",\"Malvales\",\"Malvales\",\"Malvales\",\"Malvales\",\"Malvales\",\"Malvales\",\"Malvales\",\"Malvales\",\"Malvales\",\"Malvales\",\"Malvales\",\"Malvales\",\"Malvales\",\"Malvales\",\"Malvales\",\"Malvales\",\"Malvales\",\"Malvales\",\"Malvales\",\"Malvales\",\"Malvales\",\"Malvales\",\"Malvales\",\"Malvales\",\"Malvales\",\"Malvales\",\"Malvales\",\"Malvales\",\"Malvales\",\"Malvales\",\"Malvales\",\"Malvales\",\"Malvales\",\"Malvales\",\"Malvales\",\"Malvales\",\"Malvales\",\"Malvales\",\"Malvales\",\"Malvales\",\"Malvales\",\"Malvales\",\"Malvales\",\"Malvales\",\"Myrtales\",\"Myrtales\",\"Myrtales\",\"Myrtales\",\"Myrtales\",\"Myrtales\",\"Myrtales\",\"Myrtales\",\"Myrtales\",\"Myrtales\",\"Myrtales\",\"Myrtales\",\"Myrtales\",\"Myrtales\",\"Myrtales\",\"Myrtales\",\"Sapindales\",\"Sapindales\",\"Sapindales\",\"Sapindales\",\"Sapindales\",\"Sapindales\",\"Sapindales\",\"Sapindales\",\"Sapindales\",\"Sapindales\",\"Sapindales\",\"Sapindales\",\"Sapindales\",\"Sapindales\",\"Sapindales\",\"Sapindales\",\"Sapindales\",\"Sapindales\",\"Sapindales\",\"Sapindales\",\"Sapindales\",\"Sapindales\",\"Sapindales\",\"Sapindales\",\"Sapindales\",\"Sapindales\",\"Sapindales\",\"Sapindales\",\"Sapindales\",\"Sapindales\",\"Sapindales\",\"Sapindales\",\"Sapindales\",\"Sapindales\",\"Sapindales\",\"Sapindales\",\"Sapindales\",\"Sapindales\",\"Sapindales\",\"Sapindales\",\"Sapindales\",\"Sapindales\",\"Sapindales\",\"Sapindales\",\"Sapindales\",\"Sapindales\",\"Sapindales\",\"Sapindales\",\"Sapindales\",\"Sapindales\",\"Sapindales\",\"Sapindales\",\"Sapindales\",\"Sapindales\",\"Sapindales\",\"Violales\",\"Violales\",\"Violales\"],\"tipovegetacionmapa\":[\"Vegetacion Halofila\",\"Matorral Sarcocaule\",\"Matorral Submontano\",\"Matorral Submontano\",\"Pastizal Natural\",\"Pastizal Natural\",\"Matorral Sarcocrasicaule\",\"Matorral Sarcocrasicaule\",\"Matorral Submontano\",\"Matorral Espinoso Tamaulipeco\",\"Matorral Espinoso Tamaulipeco\",\"Bosque de Encino\",\"Matorral Submontano\",\"Matorral Submontano\",\"Bosque de Encino\",\"Matorral Sarcocaule\",\"Matorral Desertico Rosetofilo\",\"Matorral Sarcocaule\",\"Matorral Sarcocaule\",\"Matorral Submontano\",\"Matorral Crasicaule\",\"Matorral Crasicaule\",\"Matorral Desertico Microfilo\",\"Chaparral\",\"Matorral Sarcocrasicaule\",\"Matorral Desertico Microfilo\",\"Matorral Desertico Microfilo\",\"Chaparral\",\"Matorral Desertico Microfilo\",\"Matorral Desertico Microfilo\",\"Matorral Sarcocrasicaule\",\"Matorral Sarcocrasicaule\",\"Matorral Desertico Microfilo\",\"Chaparral\",\"Matorral Desertico Microfilo\",\"Chaparral\",\"Chaparral\",\"Matorral Desertico Microfilo\",\"Matorral Desertico Rosetofilo\",\"Chaparral\",\"Matorral Desertico Microfilo\",\"Chaparral\",\"Chaparral\",\"Chaparral\",\"Matorral Desertico Rosetofilo\",\"Matorral Crasicaule\",\"Matorral Crasicaule\",\"Matorral Desertico Rosetofilo\",\"Matorral Desertico Rosetofilo\",\"Matorral Desertico Rosetofilo\",\"Matorral Desertico Microfilo\",\"Matorral Desertico Microfilo\",\"Matorral Submontano\",\"Matorral Crasicaule\",\"Matorral Crasicaule\",\"Matorral Crasicaule\",\"Matorral Desertico Microfilo\",\"Chaparral\",\"Chaparral\",\"Chaparral\",\"Chaparral\",\"Matorral Desertico Rosetofilo\",\"Matorral Desertico Rosetofilo\",\"Matorral Desertico Rosetofilo\",\"Matorral Desertico Rosetofilo\",\"Matorral Desertico Microfilo\",\"Matorral Desertico Microfilo\",\"Matorral Desertico Microfilo\",\"Selva Baja Caducifolia\",\"Matorral Submontano\",\"Matorral Sarcocaule\",\"Matorral Sarcocaule\",\"Matorral Sarcocaule\",\"Matorral Sarcocaule\",\"Matorral Sarcocaule\",\"Matorral Sarcocaule\",\"Chaparral\",\"Matorral Desertico Microfilo\",\"Bosque de Encino\",\"Matorral Desertico Microfilo\",\"Matorral Desertico Rosetofilo\",\"Matorral Desertico Rosetofilo\",\"Bosque Mesofilo de Montana\",\"Bosque de Encino\",\"Bosque de Encino\",\"Bosque Mesofilo de Montana\",\"Bosque de Encino\",\"Bosque de Encino\",\"Matorral Submontano\",\"Matorral Submontano\",\"Matorral Submontano\",\"Matorral Desertico Rosetofilo\",\"Matorral Desertico Rosetofilo\",\"Matorral Submontano\",\"Bosque de Encino\",\"Bosque de Pino-Encino\",\"Selva Baja Caducifolia\",\"Matorral Desertico Rosetofilo\",\"Matorral Submontano\",\"Matorral Submontano\",\"Bosque de Encino\",\"Matorral Submontano\",\"Bosque de Encino\",\"Matorral Desertico Microfilo\",\"Matorral Desertico Microfilo\",\"Bosque de Encino\",\"Bosque de Encino\",\"Bosque de Encino\",\"Bosque de Encino\",\"Matorral Desertico Rosetofilo\",\"Matorral Desertico Rosetofilo\",\"Matorral Sarcocaule\",\"Matorral Sarcocaule\",\"Matorral Sarcocaule\",\"Matorral Sarcocaule\",\"Chaparral\",\"Matorral Sarcocaule\",\"Matorral Sarcocaule\",\"Matorral Sarcocaule\",\"Matorral Sarcocaule\",\"Matorral Sarcocaule\",\"Selva Baja Caducifolia\",\"Matorral Desertico Microfilo\",\"Matorral Desertico Microfilo\",\"Matorral Desertico Microfilo\",\"Matorral Desertico Microfilo\",\"Matorral Desertico Microfilo\",\"Matorral Desertico Microfilo\",\"Matorral Desertico Rosetofilo\",\"Matorral Desertico Microfilo\",\"Matorral Desertico Rosetofilo\",\"Matorral Desertico Rosetofilo\",\"Matorral Desertico Rosetofilo\",\"Vegetacion Halofila\",\"Matorral Desertico Rosetofilo\",\"Matorral Submontano\",\"Matorral Desertico Rosetofilo\",\"Matorral Submontano\",\"Matorral Sarcocaule\",\"Matorral Sarcocaule\",\"Pastizal  Halofilo\",\"Pastizal Natural\",\"Matorral Crasicaule\",\"Matorral Desertico Rosetofilo\",\"Vegetacion de Desiertos Arenosos\",\"Mezquital\",\"Vegetacion de Desiertos Arenosos\",\"Matorral Desertico Microfilo\",\"Matorral Sarcocaule\",\"Matorral Rosetofilo Costero\",\"Matorral Desertico Microfilo\",\"Vegetacion de Desiertos Arenosos\",\"Vegetacion de Desiertos Arenosos\",\"Chaparral\",\"Matorral Rosetofilo Costero\",\"Matorral Crasicaule\",\"Matorral Crasicaule\",\"Bosque de Encino\",\"Pastizal Natural\",\"Chaparral\",\"Chaparral\",\"Chaparral\",\"Chaparral\",\"Bosque Mesofilo de Montana\",\"Matorral Sarcocaule\",\"Vegetacion de Galeria\",\"Matorral Sarcocaule\",\"Matorral Desertico Rosetofilo\",\"Chaparral\",\"Matorral Desertico Microfilo\",\"Matorral Desertico Rosetofilo\",\"Chaparral\",\"Matorral Desertico Rosetofilo\",\"Matorral Sarcocrasicaule\",\"Matorral Desertico Rosetofilo\",\"Matorral Sarcocrasicaule\",\"Matorral Sarcocrasicaule\",\"Chaparral\",\"Chaparral\",\"Matorral Sarcocrasicaule\",\"Chaparral\",\"Chaparral\",\"Matorral Desertico Rosetofilo\",\"Chaparral\",\"Chaparral\",\"Matorral Sarcocrasicaule\",\"Matorral Sarcocaule\",\"Matorral Sarcocaule\",\"Chaparral\",\"Matorral Desertico Microfilo\",\"Matorral Desertico Rosetofilo\",\"Bosque de Encino\",\"Bosque de Encino\",\"Matorral Desertico Rosetofilo\",\"Matorral Desertico Microfilo\",\"Chaparral\",\"Matorral Sarcocaule\",\"Chaparral\",\"Chaparral\",\"Matorral Sarcocaule\",\"Matorral Submontano\",\"Matorral Submontano\",\"Matorral Submontano\",\"Matorral Desertico Microfilo\",\"Matorral Submontano\",\"Matorral Sarcocaule\",\"Matorral Desertico Microfilo\",\"Matorral Desertico Rosetofilo\",\"Matorral Desertico Rosetofilo\",\"Matorral Desertico Rosetofilo\",\"Matorral Desertico Microfilo\",\"Matorral Desertico Rosetofilo\",\"Matorral Desertico Rosetofilo\",\"Matorral Desertico Rosetofilo\",\"Matorral Desertico Microfilo\",\"Matorral Desertico Rosetofilo\",\"Matorral Desertico Rosetofilo\",\"Matorral Desertico Microfilo\",\"Matorral Desertico Rosetofilo\",\"Matorral Submontano\",\"Matorral Desertico Rosetofilo\",\"Matorral Desertico Rosetofilo\",\"Matorral Desertico Rosetofilo\",\"Matorral Espinoso Tamaulipeco\",\"Matorral Desertico Rosetofilo\",\"Bosque de Encino\",\"Matorral Desertico Rosetofilo\",\"Matorral Desertico Rosetofilo\",\"Matorral Desertico Rosetofilo\",\"Pastizal Natural\",\"Matorral Desertico Microfilo\",\"Matorral Submontano\",\"Matorral Crasicaule\",\"Matorral Submontano\",\"Matorral Submontano\",\"Matorral Submontano\",\"Matorral Submontano\",\"Matorral Desertico Rosetofilo\",\"Matorral Submontano\",\"Matorral Submontano\",\"Matorral Desertico Microfilo\",\"Matorral Submontano\",\"Matorral Submontano\",\"Matorral Desertico Rosetofilo\",\"Matorral Submontano\",\"Matorral Submontano\",\"Matorral Crasicaule\",\"Matorral Crasicaule\",\"Matorral Crasicaule\",\"Matorral Submontano\",\"Matorral Submontano\",\"Matorral Crasicaule\",\"Matorral Crasicaule\",\"Matorral Submontano\",\"Matorral Submontano\",\"Mezquital\",\"Matorral Submontano\",\"Matorral Desertico Rosetofilo\",\"Matorral Desertico Rosetofilo\",\"Matorral Desertico Rosetofilo\",\"Matorral Desertico Microfilo\",\"Bosque de Pino-Encino\",\"Bosque de Encino\",\"Bosque de Encino\",\"Bosque de Encino\",\"Matorral Submontano\",\"Bosque de Encino\",\"Matorral Submontano\",\"Matorral Submontano\",\"Matorral Submontano\",\"Matorral Submontano\",\"Matorral Submontano\",\"Bosque de Encino\",\"Bosque de Encino\",\"Matorral Submontano\",\"Matorral Submontano\",\"Matorral Submontano\",\"Matorral Crasicaule\",\"Matorral Espinoso Tamaulipeco\",\"Bosque de Encino\",\"Bosque de Encino\",\"Matorral Crasicaule\",\"Matorral Crasicaule\",\"Matorral Crasicaule\",\"Matorral Submontano\",\"Matorral Crasicaule\",\"Matorral Submontano\",\"Bosque de Encino\",\"Bosque de Encino\",\"Bosque de Encino\",\"Mezquital\",\"Matorral Desertico Rosetofilo\",\"Matorral Desertico Rosetofilo\",\"Matorral Desertico Rosetofilo\",\"Matorral Desertico Microfilo\",\"Matorral Submontano\",\"Matorral Submontano\",\"Matorral Desertico Rosetofilo\",\"Matorral Desertico Rosetofilo\",\"Matorral Submontano\",\"Matorral Desertico Rosetofilo\",\"Matorral Desertico Rosetofilo\",\"Matorral Desertico Rosetofilo\",\"Matorral Desertico Rosetofilo\",\"Matorral Desertico Rosetofilo\",\"Matorral Desertico Rosetofilo\",\"Matorral Desertico Rosetofilo\",\"Matorral Desertico Rosetofilo\",\"Matorral Desertico Rosetofilo\",\"Matorral Desertico Rosetofilo\",\"Matorral Desertico Rosetofilo\",\"Matorral Desertico Rosetofilo\",\"Matorral Desertico Rosetofilo\",\"Bosque de Encino\",\"Matorral Desertico Rosetofilo\",\"Chaparral\",\"Matorral Desertico Rosetofilo\",\"Matorral Desertico Rosetofilo\",\"Bosque de Encino-Pino\",\"Matorral Desertico Rosetofilo\",\"Bosque de Encino\",\"Matorral Espinoso Tamaulipeco\",\"Chaparral\",\"Chaparral\",\"Matorral Desertico Rosetofilo\",\"Matorral Desertico Microfilo\",\"Matorral Submontano\",\"Matorral Desertico Rosetofilo\",\"Matorral Desertico Rosetofilo\",\"Matorral Submontano\",\"Matorral Submontano\",\"Matorral Desertico Rosetofilo\",\"Matorral Submontano\",\"Matorral Submontano\",\"Matorral Submontano\",\"Matorral Espinoso Tamaulipeco\",\"Matorral Submontano\",\"Matorral Submontano\",\"Bosque de Encino\",\"Bosque de Encino\",\"Bosque de Encino\",\"Bosque de Encino\",\"Bosque de Encino\",\"Bosque de Encino\",\"Bosque de Encino\",\"Bosque de Encino\",\"Bosque de Encino\",\"Bosque de Encino\",\"Matorral Submontano\",\"Matorral Submontano\",\"Matorral Submontano\",\"Matorral Submontano\",\"Matorral Desertico Rosetofilo\",\"Matorral Submontano\",\"Matorral Submontano\",\"Matorral Submontano\",\"Matorral Crasicaule\",\"Vegetacion de Desiertos Arenosos\",\"Vegetacion de Desiertos Arenosos\",\"Bosque de Pino-Encino\",\"Pastizal Natural\",\"Matorral Desertico Rosetofilo\",\"Pastizal Natural\",\"Pastizal Natural\",\"Matorral Sarcocaule\",\"Pastizal Natural\",\"Mezquital\",\"Pastizal Natural\",\"Pastizal Natural\",\"Pastizal Natural\",\"Matorral Sarcocaule\",\"Pastizal Natural\",\"Bosque de Pino-Encino\",\"Matorral Crasicaule\",\"Matorral Desertico Rosetofilo\",\"Matorral Crasicaule\",\"Bosque de Encino\",\"Bosque de Encino\",\"Bosque de Encino\",\"Matorral Submontano\",\"Matorral Desertico Rosetofilo\",\"Matorral Desertico Rosetofilo\",\"Matorral Desertico Rosetofilo\",\"Matorral Submontano\",\"Matorral Submontano\",\"Matorral Desertico Rosetofilo\",\"Matorral Submontano\",\"Matorral Submontano\",\"Matorral Desertico Rosetofilo\",\"Matorral Desertico Rosetofilo\",\"Matorral Desertico Microfilo\",\"Matorral Desertico Rosetofilo\",\"Matorral Desertico Microfilo\",\"Matorral Submontano\",\"Matorral Submontano\",\"Matorral Submontano\",\"Mezquital\",\"Matorral Submontano\",\"Matorral Submontano\",\"Mezquital\",\"Matorral Desertico Microfilo\",\"Matorral Desertico Microfilo\",\"Matorral Desertico Microfilo\",\"Matorral Desertico Microfilo\",\"Matorral Desertico Microfilo\",\"Chaparral\",\"Matorral Desertico Microfilo\",\"Matorral Desertico Rosetofilo\",\"Matorral Sarcocrasicaule\",\"Matorral Sarcocaule\",\"Matorral Sarcocaule\",\"Matorral Submontano\",\"Matorral Submontano\",\"Matorral Espinoso Tamaulipeco\",\"Matorral Rosetofilo Costero\",\"Matorral Desertico Microfilo\",\"Matorral Desertico Rosetofilo\",\"Matorral Desertico Rosetofilo\",\"Matorral Sarcocaule\",\"Matorral Sarcocaule\",\"Matorral Sarcocaule\",\"Matorral Sarcocaule\",\"Matorral Sarcocaule\",\"Matorral Sarcocaule\",\"Matorral Desertico Rosetofilo\",\"Matorral Desertico Rosetofilo\",\"Matorral Desertico Rosetofilo\",\"Matorral Submontano\",\"Matorral Desertico Microfilo\",\"Matorral Desertico Rosetofilo\",\"Matorral Sarcocaule\",\"Matorral Sarcocaule\",\"Vegetacion de Dunas Costeras\",\"Manglar\",\"Matorral Desertico Microfilo\",\"Matorral Sarcocaule\",\"Vegetacion de Desiertos Arenosos\",\"Vegetacion de Desiertos Arenosos\",\"Vegetacion de Desiertos Arenosos\",\"Bosque de Encino-Pino\",\"Selva Baja Caducifolia\",\"Chaparral\",\"Chaparral\",\"Chaparral\",\"Chaparral\",\"Chaparral\",\"Matorral Rosetofilo Costero\",\"Matorral Sarcocaule\",\"Matorral Sarcocaule\",\"Matorral Sarcocaule\",\"Matorral Sarcocaule\",\"Matorral Sarcocaule\",\"Matorral Sarcocaule\",\"Bosque Mesofilo de Montana\",\"Chaparral\",\"Bosque Mesofilo de Montana\",\"Matorral Desertico Microfilo\",\"Matorral Desertico Microfilo\",\"Matorral Desertico Microfilo\",\"Matorral Desertico Microfilo\",\"Matorral Desertico Microfilo\",\"Matorral Desertico Microfilo\",\"Matorral Desertico Rosetofilo\",\"Bosque de Tascate\",\"Matorral Desertico Microfilo\",\"Mezquital\",\"Matorral Desertico Microfilo\",\"Matorral Desertico Microfilo\",\"Chaparral\",\"Chaparral\",\"Chaparral\",\"Matorral Submontano\",\"Matorral Submontano\",\"Matorral Submontano\",\"Matorral Desertico Rosetofilo\",\"Matorral Desertico Rosetofilo\",\"Matorral Desertico Rosetofilo\",\"Matorral Desertico Microfilo\",\"Matorral Desertico Rosetofilo\",\"Matorral Espinoso Tamaulipeco\",\"Matorral Desertico Rosetofilo\",\"Matorral Desertico Rosetofilo\",\"Matorral Desertico Rosetofilo\",\"Selva Baja Caducifolia\",\"Matorral Crasicaule\",\"Matorral Crasicaule\",\"Matorral Desertico Rosetofilo\",\"Matorral Submontano\",\"Pastizal Natural\",\"Bosque de Encino\",\"Matorral Submontano\",\"Matorral Espinoso Tamaulipeco\",\"Matorral Submontano\",\"Matorral Espinoso Tamaulipeco\",\"Matorral Submontano\",\"Matorral Desertico Rosetofilo\",\"Bosque de Pino\",\"Pastizal Natural\",\"Matorral Desertico Microfilo\",\"Matorral Espinoso Tamaulipeco\",\"Matorral Desertico Rosetofilo\",\"Matorral Submontano\",\"Matorral Submontano\",\"Matorral Submontano\",\"Matorral Submontano\",\"Matorral Submontano\",\"Matorral Submontano\",\"Pastizal Natural\",\"Selva Baja Caducifolia\",\"Matorral Crasicaule\",\"Matorral Desertico Microfilo\",\"Matorral Sarcocrasicaule\",\"Matorral Desertico Microfilo\",\"Selva Baja Caducifolia\",\"Mezquital\",\"Matorral Submontano\",\"Matorral Submontano\",\"Matorral Sarcocaule\",\"Pastizal Natural\",\"Vegetacion Halofila\",\"Matorral Sarcocaule\",\"Matorral Sarcocaule\",\"Matorral Submontano\",\"Bosque de Pino-Encino\",\"Matorral Submontano\",\"Matorral Desertico Microfilo\",\"Matorral Desertico Microfilo\",\"Matorral Desertico Rosetofilo\",\"Matorral Desertico Microfilo\",\"Matorral Desertico Rosetofilo\",\"Bosque de Encino\",\"Bosque de Encino\",\"Bosque de Encino\",\"Chaparral\",\"Matorral Desertico Microfilo\",\"Matorral Desertico Microfilo\",\"Matorral Sarcocrasicaule\",\"Matorral Sarcocaule\",\"Matorral Sarcocaule\",\"Matorral Sarcocrasicaule\",\"Matorral Sarcocaule\",\"Matorral Sarcocaule\",\"Matorral Crasicaule\",\"Matorral Desertico Microfilo\",\"Pastizal  Gipsofilo\",\"Matorral Sarcocaule\",\"Matorral Sarcocaule\",\"Matorral Sarcocaule\",\"Matorral Desertico Microfilo\",\"Matorral Desertico Rosetofilo\",\"Matorral Desertico Rosetofilo\",\"Matorral Submontano\",\"Matorral Submontano\",\"Matorral Submontano\",\"Matorral Sarcocaule\",\"Matorral Sarcocaule\",\"No aplica\",\"Matorral Sarcocaule\",\"Matorral Sarcocrasicaule\",\"Matorral Desertico Microfilo\",\"Vegetacion Halofila\",\"Matorral Desertico Rosetofilo\",\"Chaparral\",\"Matorral Crasicaule\",\"Matorral Crasicaule\",\"Matorral Desertico Rosetofilo\",\"Matorral Desertico Rosetofilo\",\"Matorral Desertico Rosetofilo\",\"Matorral Desertico Rosetofilo\",\"Matorral Desertico Rosetofilo\",\"Matorral Desertico Rosetofilo\",\"Matorral Crasicaule\",\"Matorral Submontano\",\"Matorral Submontano\",\"Selva Baja Espinosa\",\"Matorral Submontano\",\"Matorral Submontano\",\"Matorral Sarcocrasicaule\",\"Chaparral\",\"Chaparral\",\"Pastizal Natural\",\"Matorral Desertico Microfilo\",\"Matorral Desertico Microfilo\",\"Matorral Sarcocaule\",\"Matorral Sarcocaule\",\"Matorral Sarcocaule\",\"Matorral Sarcocaule\",\"Matorral Sarcocaule\",\"Matorral Sarcocaule\",\"Chaparral\",\"Matorral Sarcocrasicaule\",\"Matorral Desertico Microfilo\",\"Chaparral\",\"Chaparral\",\"Chaparral\",\"Bosque de Pino\",\"Matorral Desertico Rosetofilo\",\"Matorral Desertico Rosetofilo\",\"Bosque de Pino\",\"Matorral Desertico Rosetofilo\",\"Bosque de Pino\",\"Bosque de Pino\",\"Bosque de Pino\",\"Matorral Sarcocaule\",\"Matorral Sarcocaule\",\"Vegetacion Halofila\",\"Vegetacion Halofila\",\"Matorral Sarcocaule\",\"Matorral Sarcocaule\",\"Matorral Crasicaule\",\"Bosque de Encino\",\"Selva Baja Caducifolia\",\"Selva Baja Caducifolia\",\"Selva Baja Caducifolia\",\"Selva Baja Caducifolia\",\"Matorral Desertico Microfilo\",\"Matorral Sarcocaule\",\"Matorral Sarcocrasicaule de Neblina\",\"Matorral Sarcocrasicaule\",\"Matorral Desertico Microfilo\",\"Matorral Sarcocaule\",\"Matorral Sarcocaule\",\"Chaparral\",\"Chaparral\",\"Matorral Desertico Rosetofilo\",\"Matorral Desertico Rosetofilo\",\"Bosque de Encino\",\"Matorral Submontano\",\"Matorral Submontano\",\"Matorral Sarcocaule\",\"Matorral Sarcocaule\",\"Matorral Sarcocaule\",\"Matorral Sarcocaule\",\"Matorral Sarcocaule\",\"Matorral Sarcocaule\",\"Matorral Submontano\",\"Pastizal Natural\",\"Selva Baja Caducifolia\",\"Matorral Sarcocrasicaule\",\"Matorral Sarcocaule\",\"Matorral Desertico Rosetofilo\",\"Pastizal Natural\",\"Chaparral\",\"Chaparral\",\"Chaparral\",\"Chaparral\",\"Bosque Mesofilo de Montana\",\"Matorral Desertico Rosetofilo\",\"Chaparral\",\"Matorral Desertico Rosetofilo\",\"Matorral Sarcocrasicaule\",\"Matorral Desertico Rosetofilo\",\"Matorral Sarcocrasicaule\",\"Matorral Sarcocrasicaule\",\"Chaparral\",\"Chaparral\",\"Matorral Sarcocrasicaule\",\"Chaparral\",\"Chaparral\",\"Matorral Desertico Rosetofilo\",\"Chaparral\",\"Chaparral\",\"Matorral Sarcocrasicaule\",\"Matorral Sarcocaule\",\"Matorral Sarcocaule\",\"Chaparral\",\"Matorral Desertico Microfilo\",\"Matorral Desertico Rosetofilo\",\"Bosque de Encino\",\"Bosque de Encino\",\"Matorral Desertico Rosetofilo\",\"Matorral Desertico Microfilo\",\"Chaparral\",\"Matorral Sarcocaule\",\"Chaparral\",\"Chaparral\",\"Matorral Sarcocaule\",\"Matorral Submontano\",\"Matorral Submontano\",\"Matorral Submontano\",\"Matorral Desertico Microfilo\",\"Matorral Submontano\",\"Matorral Sarcocaule\",\"Matorral Desertico Microfilo\",\"Matorral Desertico Rosetofilo\",\"Matorral Desertico Rosetofilo\",\"Matorral Desertico Rosetofilo\",\"Matorral Desertico Microfilo\",\"Matorral Desertico Rosetofilo\",\"Matorral Desertico Rosetofilo\",\"Matorral Desertico Rosetofilo\",\"Matorral Desertico Microfilo\",\"Matorral Desertico Rosetofilo\",\"Matorral Desertico Rosetofilo\",\"Matorral Desertico Microfilo\",\"Matorral Desertico Rosetofilo\",\"Matorral Submontano\",\"Matorral Desertico Rosetofilo\",\"Matorral Desertico Rosetofilo\",\"Matorral Desertico Rosetofilo\",\"Matorral Espinoso Tamaulipeco\",\"Matorral Desertico Rosetofilo\",\"Bosque de Encino\",\"Matorral Desertico Rosetofilo\",\"Matorral Desertico Rosetofilo\",\"Matorral Desertico Rosetofilo\",\"Pastizal Natural\",\"Matorral Desertico Microfilo\",\"Matorral Submontano\",\"Matorral Crasicaule\",\"Matorral Submontano\",\"Matorral Submontano\",\"Matorral Submontano\",\"Matorral Submontano\",\"Matorral Desertico Rosetofilo\",\"Matorral Submontano\",\"Matorral Submontano\",\"Matorral Desertico Microfilo\",\"Matorral Submontano\",\"Matorral Submontano\",\"Matorral Desertico Rosetofilo\",\"Matorral Submontano\",\"Matorral Submontano\",\"Matorral Crasicaule\",\"Matorral Crasicaule\",\"Matorral Crasicaule\",\"Matorral Submontano\",\"Matorral Submontano\",\"Matorral Crasicaule\",\"Matorral Crasicaule\",\"Matorral Submontano\",\"Matorral Submontano\",\"Mezquital\",\"Matorral Submontano\",\"Matorral Desertico Rosetofilo\",\"Matorral Desertico Rosetofilo\",\"Matorral Desertico Rosetofilo\",\"Matorral Desertico Microfilo\",\"Bosque de Pino-Encino\",\"Bosque de Encino\",\"Bosque de Encino\",\"Bosque de Encino\",\"Matorral Submontano\",\"Bosque de Encino\",\"Matorral Submontano\",\"Matorral Submontano\",\"Matorral Submontano\",\"Matorral Submontano\",\"Matorral Submontano\",\"Bosque de Encino\",\"Bosque de Encino\",\"Matorral Submontano\",\"Matorral Submontano\",\"Matorral Submontano\",\"Matorral Crasicaule\",\"Matorral Espinoso Tamaulipeco\",\"Bosque de Encino\",\"Bosque de Encino\",\"Matorral Crasicaule\",\"Matorral Crasicaule\",\"Matorral Crasicaule\",\"Matorral Submontano\",\"Matorral Crasicaule\",\"Matorral Submontano\",\"Bosque de Encino\",\"Bosque de Encino\",\"Bosque de Encino\",\"Matorral Crasicaule\",\"Bosque de Pino\",\"Matorral Espinoso Tamaulipeco\",\"Pastizal Natural\",\"Matorral Desertico Microfilo\",\"Matorral Desertico Rosetofilo\",\"Matorral Desertico Microfilo\",\"Matorral Desertico Microfilo\",\"Matorral Desertico Microfilo\",\"Matorral Desertico Rosetofilo\",\"Matorral Desertico Rosetofilo\",\"Matorral Submontano\",\"Matorral Desertico Rosetofilo\",\"Matorral Crasicaule\",\"Matorral Crasicaule\",\"Matorral Desertico Microfilo\",\"Bosque de Encino\",\"Pastizal Natural\",\"Matorral Crasicaule\",\"Chaparral\",\"Chaparral\",\"Chaparral\",\"Chaparral\",\"Chaparral\",\"Chaparral\",\"Chaparral\",\"Matorral Rosetofilo Costero\",\"Matorral Rosetofilo Costero\",\"Matorral Desertico Rosetofilo\",\"Matorral Submontano\",\"Matorral Submontano\",\"Matorral Submontano\",\"Matorral Submontano\",\"Matorral Submontano\",\"Bosque de Pino-Encino\",\"Matorral Crasicaule\",\"Bosque de Pino-Encino\",\"Pastizal Natural\",\"Bosque de Pino-Encino\",\"Pastizal Natural\",\"Matorral Submontano\",\"Matorral Desertico Rosetofilo\",\"Bosque de Encino\",\"Matorral Submontano\",\"Matorral Submontano\",\"Matorral Desertico Microfilo\",\"Bosque de Encino-Pino\",\"Matorral Submontano\",\"Bosque de Encino\",\"Bosque de Encino\",\"Bosque de Encino\",\"Matorral Espinoso Tamaulipeco\",\"Matorral Desertico Rosetofilo\",\"Matorral Desertico Rosetofilo\",\"Matorral Desertico Rosetofilo\",\"Matorral Desertico Rosetofilo\",\"Matorral Desertico Rosetofilo\",\"Matorral Desertico Rosetofilo\",\"Pastizal Natural\",\"Matorral Desertico Rosetofilo\",\"Pastizal Natural\",\"Matorral Espinoso Tamaulipeco\",\"Matorral Desertico Rosetofilo\",\"Matorral Desertico Rosetofilo\",\"Matorral Desertico Rosetofilo\",\"Matorral Espinoso Tamaulipeco\",\"Matorral Desertico Rosetofilo\",\"Matorral Desertico Rosetofilo\",\"Matorral Desertico Rosetofilo\",\"Matorral Desertico Microfilo\",\"Matorral Desertico Rosetofilo\",\"Bosque de Encino-Pino\",\"Matorral Desertico Rosetofilo\",\"Matorral Desertico Rosetofilo\",\"Matorral Desertico Rosetofilo\",\"Matorral Desertico Rosetofilo\",\"Pastizal Natural\",\"Matorral Desertico Rosetofilo\",\"Matorral Desertico Rosetofilo\",\"Matorral Desertico Microfilo\",\"Bosque de Encino\",\"Matorral Submontano\",\"Bosque de Encino\",\"Matorral Desertico Rosetofilo\",\"Pastizal Natural\",\"Matorral Desertico Rosetofilo\",\"Matorral Desertico Rosetofilo\",\"Matorral Desertico Microfilo\",\"Bosque de Encino\",\"Matorral Submontano\",\"Bosque de Encino\",\"Pastizal Natural\",\"Matorral Desertico Microfilo\",\"Pastizal Natural\",\"Pastizal Natural\",\"Matorral Sarcocaule\",\"Matorral Desertico Microfilo\",\"Pastizal Natural\",\"Matorral Desertico Microfilo\",\"Matorral Desertico Microfilo\",\"Pastizal Natural\",\"Mezquital\",\"Pastizal Natural\",\"Pastizal Natural\",\"Pastizal Natural\",\"Matorral Desertico Microfilo\",\"Pastizal Natural\",\"Pastizal Natural\",\"Mezquital\",\"Pastizal Natural\",\"Pastizal Natural\",\"Pastizal Natural\",\"Matorral Desertico Microfilo\",\"Matorral Desertico Microfilo\",\"Pastizal Natural\",\"Pastizal Natural\",\"Bosque de Encino\",\"Bosque de Pino\",\"Matorral Submontano\",\"Matorral Submontano\",\"Matorral Submontano\",\"Matorral Submontano\",\"Matorral Submontano\",\"Matorral Submontano\",\"Matorral Crasicaule\",\"Matorral Submontano\",\"Bosque de Encino\",\"Matorral Submontano\",\"Matorral Submontano\",\"Pastizal Natural\",\"Matorral Sarcocrasicaule\",\"Mezquital\",\"Bosque de Encino\",\"Matorral Submontano\",\"Matorral Submontano\",\"Matorral Sarcocrasicaule\",\"Matorral Desertico Microfilo\",\"Matorral Sarcocrasicaule\",\"Matorral Desertico Microfilo\",\"Matorral Sarcocrasicaule\",\"Matorral Desertico Rosetofilo\",\"Matorral Sarcocaule\",\"Matorral Sarcocaule\",\"Matorral Sarcocrasicaule\",\"Matorral Sarcocaule\",\"Matorral Sarcocaule\",\"Matorral Sarcocaule\",\"Matorral Sarcocaule\",\"Matorral Sarcocaule\",\"Matorral Sarcocaule\",\"Matorral Sarcocaule\",\"Matorral Sarcocrasicaule\",\"Matorral Sarcocrasicaule\",\"Matorral Sarcocaule\",\"Matorral Sarcocaule\",\"Matorral Sarcocaule\",\"Matorral Sarcocaule\",\"Matorral Sarcocaule\",\"Matorral Sarcocaule\",\"Matorral Sarcocaule\",\"Matorral Sarcocaule\",\"Matorral Sarcocaule\",\"Matorral Sarcocrasicaule\",\"Vegetacion de Galeria\",\"Matorral Sarcocaule\",\"Matorral Sarcocaule\",\"Matorral Sarcocrasicaule\",\"Matorral Sarcocaule\",\"Matorral Sarcocaule\",\"Matorral Sarcocaule\",\"Matorral Sarcocaule\",\"Matorral Sarcocaule\",\"Matorral Sarcocrasicaule\",\"Matorral Sarcocaule\",\"Matorral Sarcocrasicaule\",\"Matorral Sarcocaule\",\"Matorral Sarcocaule\",\"Matorral Sarcocaule\",\"Matorral Sarcocaule\",\"Matorral Sarcocrasicaule\",\"Matorral Sarcocrasicaule\",\"Matorral Sarcocaule\",\"Matorral Sarcocrasicaule\",\"Matorral Sarcocaule\",\"Matorral Sarcocaule\",\"Matorral Sarcocaule\",\"Matorral Sarcocrasicaule\",\"Matorral Sarcocaule\",\"Matorral Desertico Rosetofilo\",\"Matorral Crasicaule\",\"Matorral Sarcocrasicaule\",\"Matorral Sarcocaule\",\"Matorral Sarcocaule\",\"Mezquital\",\"Matorral Sarcocrasicaule\",\"Matorral Sarcocrasicaule\",\"Matorral Sarcocaule\",\"Matorral Sarcocrasicaule\",\"Mezquital\",\"Matorral Sarcocaule\",\"Matorral Desertico Microfilo\",\"Mezquital\",\"Matorral Sarcocaule\",\"Vegetacion Halofila\",\"Vegetacion de Galeria\",\"Mezquital\",\"Matorral Sarcocaule\",\"Matorral Sarcocrasicaule\",\"Matorral Sarcocaule\",\"Matorral Sarcocrasicaule\",\"Matorral Sarcocaule\",\"Matorral Sarcocaule\",\"Matorral Sarcocaule\",\"Matorral Sarcocaule\",\"Mezquital\",\"Mezquital\",\"Pastizal Natural\",\"Matorral Sarcocaule\",\"No aplica\",\"Matorral Sarcocaule\",\"Matorral Sarcocrasicaule\",\"Pastizal Natural\",\"Pastizal Natural\",\"Matorral Sarcocaule\",\"Matorral Desertico Microfilo\",\"Mezquital\",\"Matorral Desertico Microfilo\",\"Matorral Sarcocaule\",\"Matorral Sarcocaule\",\"Matorral Desertico Microfilo\",\"Matorral Desertico Microfilo\",\"Matorral Sarcocaule\",\"Mezquital\",\"Vegetacion de Galeria\",\"Mezquital\",\"Matorral Sarcocaule\",\"Matorral Sarcocaule\",\"Matorral Sarcocaule\",\"Pastizal Natural\",\"Mezquital\",\"Matorral Desertico Microfilo\",\"Mezquital\",\"Mezquital\",\"Matorral Sarcocaule\",\"Matorral Sarcocaule\",\"Matorral Sarcocaule\",\"Mezquital\",\"Mezquital\",\"Matorral Sarcocaule\",\"Mezquital\",\"Mezquital\",\"Matorral Submontano\",\"Matorral Desertico Microfilo\",\"Matorral Sarcocaule\",\"Matorral Desertico Microfilo\",\"Matorral Sarcocaule\",\"Matorral Sarcocaule\",\"Matorral Sarcocaule\",\"Matorral Sarcocaule\",\"Matorral Sarcocaule\",\"Matorral Sarcocaule\",\"Matorral Sarcocaule\",\"Matorral Sarcocaule\",\"Matorral Sarcocaule\",\"Matorral Desertico Microfilo\",\"Matorral Desertico Microfilo\",\"Matorral Sarcocaule\",\"Matorral Desertico Microfilo\",\"Matorral Desertico Microfilo\",\"Matorral Sarcocrasicaule\",\"Matorral Desertico Rosetofilo\",\"Matorral Sarcocrasicaule\",\"Matorral Sarcocrasicaule\",\"Matorral Sarcocrasicaule\",\"Matorral Desertico Microfilo\",\"Chaparral\",\"Matorral Sarcocrasicaule\",\"Chaparral\",\"Matorral Sarcocaule\",\"Matorral Sarcocrasicaule\",\"Matorral Desertico Microfilo\",\"Matorral Desertico Microfilo\",\"Matorral Sarcocaule\",\"Matorral Sarcocrasicaule\",\"Matorral Sarcocaule\",\"Matorral Sarcocrasicaule\",\"Matorral Sarcocaule\",\"Matorral Sarcocaule\",\"Matorral Sarcocaule\",\"Matorral Sarcocaule\",\"Matorral Sarcocaule\",\"Matorral Sarcocrasicaule de Neblina\",\"No aplica\",\"Matorral Sarcocaule\",\"Matorral Sarcocaule\",\"Matorral Sarcocaule\",\"Matorral Sarcocaule\",\"Matorral Sarcocaule\",\"Matorral Sarcocaule\",\"Matorral Sarcocaule\",\"Matorral Sarcocaule\",\"Matorral Crasicaule\",\"Vegetacion Halofila\",\"Matorral Sarcocaule\",\"Matorral Sarcocaule\",\"Vegetacion Halofila\",\"Matorral Sarcocaule\",\"Matorral Desertico Microfilo\",\"Matorral Sarcocaule\",\"Matorral Desertico Microfilo\",\"Vegetacion Halofila\",\"Matorral Sarcocaule\",\"Vegetacion Halofila\",\"Matorral Sarcocaule\",\"Matorral Sarcocaule\",\"Matorral Sarcocaule\",\"Matorral Sarcocaule\",\"Matorral Desertico Microfilo\",\"Matorral Desertico Microfilo\",\"Matorral Desertico Microfilo\",\"Matorral Sarcocaule\",\"Matorral Sarcocaule\",\"Matorral Espinoso Tamaulipeco\",\"Matorral Espinoso Tamaulipeco\",\"Matorral Sarcocaule\",\"Matorral Desertico Microfilo\",\"Matorral Sarcocaule\",\"Matorral Sarcocaule\",\"Matorral Sarcocaule\",\"Matorral Sarcocaule\",\"Matorral Sarcocaule\",\"Matorral Sarcocaule\",\"Matorral Sarcocaule\",\"Matorral Sarcocrasicaule\",\"Matorral Sarcocaule\",\"No aplica\",\"Chaparral\",\"Matorral Desertico Microfilo\",\"Matorral Espinoso Tamaulipeco\",\"Matorral Subtropical\",\"Pastizal Natural\",\"Pastizal Natural\",\"Pastizal Natural\",\"Matorral Desertico Rosetofilo\",\"Bosque de Encino\",\"Matorral Desertico Microfilo\",\"Matorral Desertico Rosetofilo\",\"Matorral Desertico Rosetofilo\",\"Matorral Desertico Rosetofilo\",\"Matorral Crasicaule\",\"Bosque de Pino-Encino\",\"Pastizal Natural\",\"Bosque de Pino-Encino\",\"Pastizal Natural\",\"Matorral Submontano\",\"Matorral Desertico Rosetofilo\",\"Bosque de Encino\",\"Matorral Submontano\",\"Matorral Submontano\",\"Matorral Desertico Microfilo\",\"Bosque de Encino-Pino\",\"Matorral Submontano\",\"Bosque de Encino\",\"Bosque de Encino\",\"Bosque de Encino\",\"Matorral Crasicaule\",\"Chaparral\",\"Chaparral\",\"Chaparral\",\"Chaparral\",\"Chaparral\",\"Chaparral\",\"Chaparral\",\"Matorral Rosetofilo Costero\",\"Matorral Rosetofilo Costero\",\"Matorral Desertico Rosetofilo\",\"Selva Baja Caducifolia\",\"Matorral Crasicaule\",\"Matorral Crasicaule\",\"Matorral Crasicaule\",\"Matorral Crasicaule\",\"Matorral Crasicaule\",\"Matorral Crasicaule\",\"Matorral Crasicaule\",\"Matorral Crasicaule\",\"Matorral Crasicaule\",\"Matorral Crasicaule\",\"Matorral Crasicaule\",\"Matorral Crasicaule\",\"Matorral Crasicaule\",\"Matorral Crasicaule\",\"Matorral Crasicaule\",\"Matorral Crasicaule\",\"Matorral Crasicaule\",\"Matorral Crasicaule\",\"Matorral Crasicaule\",\"Matorral Crasicaule\",\"Matorral Crasicaule\",\"Matorral Crasicaule\",\"Matorral Crasicaule\",\"Matorral Crasicaule\",\"Matorral Crasicaule\",\"Matorral Desertico Microfilo\",\"Matorral Submontano\",\"Mezquital\",\"Matorral Submontano\",\"Matorral Submontano\",\"Matorral Espinoso Tamaulipeco\",\"Matorral Desertico Microfilo\",\"Mezquital\",\"Matorral Desertico Microfilo\",\"Matorral Desertico Microfilo\",\"Pastizal Natural\",\"Matorral Desertico Rosetofilo\",\"Matorral Desertico Rosetofilo\",\"Matorral Desertico Rosetofilo\",\"Matorral Desertico Microfilo\",\"Matorral Desertico Rosetofilo\",\"Vegetacion Halofila\",\"Matorral Desertico Microfilo\",\"Pastizal Natural\",\"Pastizal Natural\",\"Matorral Desertico Microfilo\"]},\"selected\":{\"id\":\"1319\"},\"selection_policy\":{\"id\":\"1399\"}},\"id\":\"1318\",\"type\":\"ColumnDataSource\"},{\"attributes\":{},\"id\":\"1361\",\"type\":\"StringEditor\"},{\"attributes\":{\"editor\":{\"id\":\"1326\"},\"field\":\"clase\",\"formatter\":{\"id\":\"1325\"},\"title\":\"clase\"},\"id\":\"1327\",\"type\":\"TableColumn\"},{\"attributes\":{\"editor\":{\"id\":\"1356\"},\"field\":\"latitud\",\"formatter\":{\"id\":\"1355\"},\"title\":\"latitud\"},\"id\":\"1357\",\"type\":\"TableColumn\"},{\"attributes\":{},\"id\":\"1331\",\"type\":\"StringEditor\"},{\"attributes\":{},\"id\":\"1365\",\"type\":\"NumberFormatter\"},{\"attributes\":{},\"id\":\"1325\",\"type\":\"StringFormatter\"},{\"attributes\":{\"margin\":[5,5,5,5],\"name\":\"HSpacer02081\",\"sizing_mode\":\"stretch_width\"},\"id\":\"1317\",\"type\":\"Spacer\"},{\"attributes\":{\"editor\":{\"id\":\"1361\"},\"field\":\"tipovegetacionmapa\",\"formatter\":{\"id\":\"1360\"},\"title\":\"tipovegetacionmapa\"},\"id\":\"1362\",\"type\":\"TableColumn\"},{\"attributes\":{\"editor\":{\"id\":\"1346\"},\"field\":\"Color\",\"formatter\":{\"id\":\"1345\"},\"title\":\"Color\"},\"id\":\"1347\",\"type\":\"TableColumn\"},{\"attributes\":{},\"id\":\"1390\",\"type\":\"NumberFormatter\"},{\"attributes\":{},\"id\":\"1399\",\"type\":\"UnionRenderers\"},{\"attributes\":{},\"id\":\"1330\",\"type\":\"StringFormatter\"},{\"attributes\":{},\"id\":\"1340\",\"type\":\"StringFormatter\"},{\"attributes\":{\"columns\":[{\"id\":\"1322\"},{\"id\":\"1327\"},{\"id\":\"1332\"},{\"id\":\"1337\"},{\"id\":\"1342\"},{\"id\":\"1347\"},{\"id\":\"1352\"},{\"id\":\"1357\"},{\"id\":\"1362\"},{\"id\":\"1367\"},{\"id\":\"1372\"},{\"id\":\"1377\"},{\"id\":\"1382\"},{\"id\":\"1387\"},{\"id\":\"1392\"}],\"height\":300,\"reorderable\":false,\"source\":{\"id\":\"1318\"},\"view\":{\"id\":\"1397\"},\"width\":700},\"id\":\"1395\",\"type\":\"DataTable\"},{\"attributes\":{},\"id\":\"1366\",\"type\":\"IntEditor\"},{\"attributes\":{},\"id\":\"1320\",\"type\":\"StringFormatter\"},{\"attributes\":{\"editor\":{\"id\":\"1366\"},\"field\":\"altitudmapa\",\"formatter\":{\"id\":\"1365\"},\"title\":\"altitudmapa\"},\"id\":\"1367\",\"type\":\"TableColumn\"},{\"attributes\":{\"editor\":{\"id\":\"1321\"},\"field\":\"Divisi\\u00f3n\",\"formatter\":{\"id\":\"1320\"},\"title\":\"Divisi\\u00f3n\"},\"id\":\"1322\",\"type\":\"TableColumn\"},{\"attributes\":{},\"id\":\"1376\",\"type\":\"NumberEditor\"},{\"attributes\":{\"editor\":{\"id\":\"1331\"},\"field\":\"orden\",\"formatter\":{\"id\":\"1330\"},\"title\":\"orden\"},\"id\":\"1332\",\"type\":\"TableColumn\"},{\"attributes\":{\"format\":\"0,0.0[00000]\"},\"id\":\"1370\",\"type\":\"NumberFormatter\"},{\"attributes\":{\"editor\":{\"id\":\"1371\"},\"field\":\"PC_1\",\"formatter\":{\"id\":\"1370\"},\"title\":\"PC 1\"},\"id\":\"1372\",\"type\":\"TableColumn\"},{\"attributes\":{},\"id\":\"1360\",\"type\":\"StringFormatter\"},{\"attributes\":{},\"id\":\"1371\",\"type\":\"NumberEditor\"},{\"attributes\":{\"format\":\"0,0.0[00000]\"},\"id\":\"1375\",\"type\":\"NumberFormatter\"},{\"attributes\":{},\"id\":\"1335\",\"type\":\"StringFormatter\"},{\"attributes\":{\"editor\":{\"id\":\"1376\"},\"field\":\"PC_2\",\"formatter\":{\"id\":\"1375\"},\"title\":\"PC 2\"},\"id\":\"1377\",\"type\":\"TableColumn\"},{\"attributes\":{},\"id\":\"1386\",\"type\":\"StringEditor\"},{\"attributes\":{\"format\":\"0,0.0[00000]\"},\"id\":\"1380\",\"type\":\"NumberFormatter\"},{\"attributes\":{\"editor\":{\"id\":\"1341\"},\"field\":\"Hierba\",\"formatter\":{\"id\":\"1340\"},\"title\":\"Hierba\"},\"id\":\"1342\",\"type\":\"TableColumn\"},{\"attributes\":{\"source\":{\"id\":\"1318\"}},\"id\":\"1397\",\"type\":\"CDSView\"},{\"attributes\":{},\"id\":\"1385\",\"type\":\"StringFormatter\"},{\"attributes\":{\"editor\":{\"id\":\"1386\"},\"field\":\"CoinName\",\"formatter\":{\"id\":\"1385\"},\"title\":\"CoinName\"},\"id\":\"1387\",\"type\":\"TableColumn\"},{\"attributes\":{},\"id\":\"1345\",\"type\":\"StringFormatter\"},{\"attributes\":{\"format\":\"0,0.0[00000]\"},\"id\":\"1350\",\"type\":\"NumberFormatter\"},{\"attributes\":{},\"id\":\"1391\",\"type\":\"IntEditor\"},{\"attributes\":{\"editor\":{\"id\":\"1391\"},\"field\":\"Class\",\"formatter\":{\"id\":\"1390\"},\"title\":\"Class\"},\"id\":\"1392\",\"type\":\"TableColumn\"},{\"attributes\":{\"editor\":{\"id\":\"1336\"},\"field\":\"familia\",\"formatter\":{\"id\":\"1335\"},\"title\":\"familia\"},\"id\":\"1337\",\"type\":\"TableColumn\"},{\"attributes\":{\"children\":[{\"id\":\"1317\"},{\"id\":\"1395\"},{\"id\":\"1402\"}],\"margin\":[0,0,0,0],\"name\":\"Row02077\",\"tags\":[\"embedded\"]},\"id\":\"1316\",\"type\":\"Row\"},{\"attributes\":{},\"id\":\"1346\",\"type\":\"StringEditor\"},{\"attributes\":{},\"id\":\"1351\",\"type\":\"NumberEditor\"},{\"attributes\":{},\"id\":\"1326\",\"type\":\"StringEditor\"},{\"attributes\":{},\"id\":\"1319\",\"type\":\"Selection\"},{\"attributes\":{\"margin\":[5,5,5,5],\"name\":\"HSpacer02082\",\"sizing_mode\":\"stretch_width\"},\"id\":\"1402\",\"type\":\"Spacer\"},{\"attributes\":{},\"id\":\"1356\",\"type\":\"NumberEditor\"},{\"attributes\":{},\"id\":\"1321\",\"type\":\"StringEditor\"},{\"attributes\":{\"format\":\"0,0.0[00000]\"},\"id\":\"1355\",\"type\":\"NumberFormatter\"},{\"attributes\":{},\"id\":\"1336\",\"type\":\"StringEditor\"}],\"root_ids\":[\"1316\"]},\"title\":\"Bokeh Application\",\"version\":\"2.3.3\"}};\n",
       "    var render_items = [{\"docid\":\"489ff853-a16b-445b-bf50-de27fbed35bb\",\"root_ids\":[\"1316\"],\"roots\":{\"1316\":\"4d78d17c-b692-4735-9361-4d9e5b9fddf4\"}}];\n",
       "    root.Bokeh.embed.embed_items_notebook(docs_json, render_items);\n",
       "  }\n",
       "  if (root.Bokeh !== undefined && root.Bokeh.Panel !== undefined) {\n",
       "    embed_document(root);\n",
       "  } else {\n",
       "    var attempts = 0;\n",
       "    var timer = setInterval(function(root) {\n",
       "      if (root.Bokeh !== undefined && root.Bokeh.Panel !== undefined) {\n",
       "        clearInterval(timer);\n",
       "        embed_document(root);\n",
       "      } else if (document.readyState == \"complete\") {\n",
       "        attempts++;\n",
       "        if (attempts > 200) {\n",
       "          clearInterval(timer);\n",
       "          console.log(\"Bokeh: ERROR: Unable to run BokehJS code because BokehJS library is missing\");\n",
       "        }\n",
       "      }\n",
       "    }, 25, root)\n",
       "  }\n",
       "})(window);</script>"
      ],
      "text/plain": [
       ":Table   [División,clase,orden,familia,Hierba,Color,longitud,latitud,tipovegetacionmapa,altitudmapa,PC 1,PC 2,PC 3,CoinName,Class]"
      ]
     },
     "execution_count": 77,
     "metadata": {
      "application/vnd.holoviews_exec.v0+json": {
       "id": "1316"
      }
     },
     "output_type": "execute_result"
    }
   ],
   "source": [
    "# Create a table with tradable cryptocurrencies.\n",
    "# YOUR CODE HERE\n",
    "clustered_df.hvplot.table(sortable=True, selectable=True)"
   ]
  },
  {
   "cell_type": "code",
   "execution_count": 78,
   "metadata": {},
   "outputs": [
    {
     "name": "stdout",
     "output_type": "stream",
     "text": [
      "1190\n"
     ]
    }
   ],
   "source": [
    "# Print the total number of tradable cryptocurrencies.\n",
    "# YOUR CODE HERE\n",
    "index = clustered_df.index\n",
    "len(index)\n",
    "print(str(len(index)))"
   ]
  },
  {
   "cell_type": "code",
   "execution_count": 79,
   "metadata": {},
   "outputs": [
    {
     "ename": "ValueError",
     "evalue": "could not convert string to float: 'Alismataceae'",
     "output_type": "error",
     "traceback": [
      "\u001b[0;31m---------------------------------------------------------------------------\u001b[0m",
      "\u001b[0;31mValueError\u001b[0m                                Traceback (most recent call last)",
      "\u001b[0;32m<ipython-input-79-3c84bdf324f6>\u001b[0m in \u001b[0;36m<module>\u001b[0;34m\u001b[0m\n\u001b[1;32m      2\u001b[0m \u001b[0;31m# YOUR CODE HERE\u001b[0m\u001b[0;34m\u001b[0m\u001b[0;34m\u001b[0m\u001b[0;34m\u001b[0m\u001b[0m\n\u001b[1;32m      3\u001b[0m \u001b[0mmms\u001b[0m \u001b[0;34m=\u001b[0m \u001b[0mMinMaxScaler\u001b[0m\u001b[0;34m(\u001b[0m\u001b[0;34m)\u001b[0m\u001b[0;34m\u001b[0m\u001b[0;34m\u001b[0m\u001b[0m\n\u001b[0;32m----> 4\u001b[0;31m \u001b[0mclustered_df_scaled\u001b[0m \u001b[0;34m=\u001b[0m \u001b[0mmms\u001b[0m\u001b[0;34m.\u001b[0m\u001b[0mfit_transform\u001b[0m\u001b[0;34m(\u001b[0m\u001b[0mclustered_df\u001b[0m\u001b[0;34m[\u001b[0m\u001b[0;34m[\u001b[0m\u001b[0;34m'familia'\u001b[0m\u001b[0;34m,\u001b[0m\u001b[0;34m'Hierba'\u001b[0m\u001b[0;34m]\u001b[0m\u001b[0;34m]\u001b[0m\u001b[0;34m)\u001b[0m\u001b[0;34m\u001b[0m\u001b[0;34m\u001b[0m\u001b[0m\n\u001b[0m\u001b[1;32m      5\u001b[0m \u001b[0mclustered_df_scaled\u001b[0m\u001b[0;34m\u001b[0m\u001b[0;34m\u001b[0m\u001b[0m\n",
      "\u001b[0;32m~/opt/anaconda3/envs/PythonData/lib/python3.9/site-packages/sklearn/base.py\u001b[0m in \u001b[0;36mfit_transform\u001b[0;34m(self, X, y, **fit_params)\u001b[0m\n\u001b[1;32m    697\u001b[0m         \u001b[0;32mif\u001b[0m \u001b[0my\u001b[0m \u001b[0;32mis\u001b[0m \u001b[0;32mNone\u001b[0m\u001b[0;34m:\u001b[0m\u001b[0;34m\u001b[0m\u001b[0;34m\u001b[0m\u001b[0m\n\u001b[1;32m    698\u001b[0m             \u001b[0;31m# fit method of arity 1 (unsupervised transformation)\u001b[0m\u001b[0;34m\u001b[0m\u001b[0;34m\u001b[0m\u001b[0;34m\u001b[0m\u001b[0m\n\u001b[0;32m--> 699\u001b[0;31m             \u001b[0;32mreturn\u001b[0m \u001b[0mself\u001b[0m\u001b[0;34m.\u001b[0m\u001b[0mfit\u001b[0m\u001b[0;34m(\u001b[0m\u001b[0mX\u001b[0m\u001b[0;34m,\u001b[0m \u001b[0;34m**\u001b[0m\u001b[0mfit_params\u001b[0m\u001b[0;34m)\u001b[0m\u001b[0;34m.\u001b[0m\u001b[0mtransform\u001b[0m\u001b[0;34m(\u001b[0m\u001b[0mX\u001b[0m\u001b[0;34m)\u001b[0m\u001b[0;34m\u001b[0m\u001b[0;34m\u001b[0m\u001b[0m\n\u001b[0m\u001b[1;32m    700\u001b[0m         \u001b[0;32melse\u001b[0m\u001b[0;34m:\u001b[0m\u001b[0;34m\u001b[0m\u001b[0;34m\u001b[0m\u001b[0m\n\u001b[1;32m    701\u001b[0m             \u001b[0;31m# fit method of arity 2 (supervised transformation)\u001b[0m\u001b[0;34m\u001b[0m\u001b[0;34m\u001b[0m\u001b[0;34m\u001b[0m\u001b[0m\n",
      "\u001b[0;32m~/opt/anaconda3/envs/PythonData/lib/python3.9/site-packages/sklearn/preprocessing/_data.py\u001b[0m in \u001b[0;36mfit\u001b[0;34m(self, X, y)\u001b[0m\n\u001b[1;32m    361\u001b[0m         \u001b[0;31m# Reset internal state before fitting\u001b[0m\u001b[0;34m\u001b[0m\u001b[0;34m\u001b[0m\u001b[0;34m\u001b[0m\u001b[0m\n\u001b[1;32m    362\u001b[0m         \u001b[0mself\u001b[0m\u001b[0;34m.\u001b[0m\u001b[0m_reset\u001b[0m\u001b[0;34m(\u001b[0m\u001b[0;34m)\u001b[0m\u001b[0;34m\u001b[0m\u001b[0;34m\u001b[0m\u001b[0m\n\u001b[0;32m--> 363\u001b[0;31m         \u001b[0;32mreturn\u001b[0m \u001b[0mself\u001b[0m\u001b[0;34m.\u001b[0m\u001b[0mpartial_fit\u001b[0m\u001b[0;34m(\u001b[0m\u001b[0mX\u001b[0m\u001b[0;34m,\u001b[0m \u001b[0my\u001b[0m\u001b[0;34m)\u001b[0m\u001b[0;34m\u001b[0m\u001b[0;34m\u001b[0m\u001b[0m\n\u001b[0m\u001b[1;32m    364\u001b[0m \u001b[0;34m\u001b[0m\u001b[0m\n\u001b[1;32m    365\u001b[0m     \u001b[0;32mdef\u001b[0m \u001b[0mpartial_fit\u001b[0m\u001b[0;34m(\u001b[0m\u001b[0mself\u001b[0m\u001b[0;34m,\u001b[0m \u001b[0mX\u001b[0m\u001b[0;34m,\u001b[0m \u001b[0my\u001b[0m\u001b[0;34m=\u001b[0m\u001b[0;32mNone\u001b[0m\u001b[0;34m)\u001b[0m\u001b[0;34m:\u001b[0m\u001b[0;34m\u001b[0m\u001b[0;34m\u001b[0m\u001b[0m\n",
      "\u001b[0;32m~/opt/anaconda3/envs/PythonData/lib/python3.9/site-packages/sklearn/preprocessing/_data.py\u001b[0m in \u001b[0;36mpartial_fit\u001b[0;34m(self, X, y)\u001b[0m\n\u001b[1;32m    394\u001b[0m \u001b[0;34m\u001b[0m\u001b[0m\n\u001b[1;32m    395\u001b[0m         \u001b[0mfirst_pass\u001b[0m \u001b[0;34m=\u001b[0m \u001b[0;32mnot\u001b[0m \u001b[0mhasattr\u001b[0m\u001b[0;34m(\u001b[0m\u001b[0mself\u001b[0m\u001b[0;34m,\u001b[0m \u001b[0;34m'n_samples_seen_'\u001b[0m\u001b[0;34m)\u001b[0m\u001b[0;34m\u001b[0m\u001b[0;34m\u001b[0m\u001b[0m\n\u001b[0;32m--> 396\u001b[0;31m         X = self._validate_data(X, reset=first_pass,\n\u001b[0m\u001b[1;32m    397\u001b[0m                                 \u001b[0mestimator\u001b[0m\u001b[0;34m=\u001b[0m\u001b[0mself\u001b[0m\u001b[0;34m,\u001b[0m \u001b[0mdtype\u001b[0m\u001b[0;34m=\u001b[0m\u001b[0mFLOAT_DTYPES\u001b[0m\u001b[0;34m,\u001b[0m\u001b[0;34m\u001b[0m\u001b[0;34m\u001b[0m\u001b[0m\n\u001b[1;32m    398\u001b[0m                                 force_all_finite=\"allow-nan\")\n",
      "\u001b[0;32m~/opt/anaconda3/envs/PythonData/lib/python3.9/site-packages/sklearn/base.py\u001b[0m in \u001b[0;36m_validate_data\u001b[0;34m(self, X, y, reset, validate_separately, **check_params)\u001b[0m\n\u001b[1;32m    419\u001b[0m             \u001b[0mout\u001b[0m \u001b[0;34m=\u001b[0m \u001b[0mX\u001b[0m\u001b[0;34m\u001b[0m\u001b[0;34m\u001b[0m\u001b[0m\n\u001b[1;32m    420\u001b[0m         \u001b[0;32melif\u001b[0m \u001b[0misinstance\u001b[0m\u001b[0;34m(\u001b[0m\u001b[0my\u001b[0m\u001b[0;34m,\u001b[0m \u001b[0mstr\u001b[0m\u001b[0;34m)\u001b[0m \u001b[0;32mand\u001b[0m \u001b[0my\u001b[0m \u001b[0;34m==\u001b[0m \u001b[0;34m'no_validation'\u001b[0m\u001b[0;34m:\u001b[0m\u001b[0;34m\u001b[0m\u001b[0;34m\u001b[0m\u001b[0m\n\u001b[0;32m--> 421\u001b[0;31m             \u001b[0mX\u001b[0m \u001b[0;34m=\u001b[0m \u001b[0mcheck_array\u001b[0m\u001b[0;34m(\u001b[0m\u001b[0mX\u001b[0m\u001b[0;34m,\u001b[0m \u001b[0;34m**\u001b[0m\u001b[0mcheck_params\u001b[0m\u001b[0;34m)\u001b[0m\u001b[0;34m\u001b[0m\u001b[0;34m\u001b[0m\u001b[0m\n\u001b[0m\u001b[1;32m    422\u001b[0m             \u001b[0mout\u001b[0m \u001b[0;34m=\u001b[0m \u001b[0mX\u001b[0m\u001b[0;34m\u001b[0m\u001b[0;34m\u001b[0m\u001b[0m\n\u001b[1;32m    423\u001b[0m         \u001b[0;32melse\u001b[0m\u001b[0;34m:\u001b[0m\u001b[0;34m\u001b[0m\u001b[0;34m\u001b[0m\u001b[0m\n",
      "\u001b[0;32m~/opt/anaconda3/envs/PythonData/lib/python3.9/site-packages/sklearn/utils/validation.py\u001b[0m in \u001b[0;36minner_f\u001b[0;34m(*args, **kwargs)\u001b[0m\n\u001b[1;32m     61\u001b[0m             \u001b[0mextra_args\u001b[0m \u001b[0;34m=\u001b[0m \u001b[0mlen\u001b[0m\u001b[0;34m(\u001b[0m\u001b[0margs\u001b[0m\u001b[0;34m)\u001b[0m \u001b[0;34m-\u001b[0m \u001b[0mlen\u001b[0m\u001b[0;34m(\u001b[0m\u001b[0mall_args\u001b[0m\u001b[0;34m)\u001b[0m\u001b[0;34m\u001b[0m\u001b[0;34m\u001b[0m\u001b[0m\n\u001b[1;32m     62\u001b[0m             \u001b[0;32mif\u001b[0m \u001b[0mextra_args\u001b[0m \u001b[0;34m<=\u001b[0m \u001b[0;36m0\u001b[0m\u001b[0;34m:\u001b[0m\u001b[0;34m\u001b[0m\u001b[0;34m\u001b[0m\u001b[0m\n\u001b[0;32m---> 63\u001b[0;31m                 \u001b[0;32mreturn\u001b[0m \u001b[0mf\u001b[0m\u001b[0;34m(\u001b[0m\u001b[0;34m*\u001b[0m\u001b[0margs\u001b[0m\u001b[0;34m,\u001b[0m \u001b[0;34m**\u001b[0m\u001b[0mkwargs\u001b[0m\u001b[0;34m)\u001b[0m\u001b[0;34m\u001b[0m\u001b[0;34m\u001b[0m\u001b[0m\n\u001b[0m\u001b[1;32m     64\u001b[0m \u001b[0;34m\u001b[0m\u001b[0m\n\u001b[1;32m     65\u001b[0m             \u001b[0;31m# extra_args > 0\u001b[0m\u001b[0;34m\u001b[0m\u001b[0;34m\u001b[0m\u001b[0;34m\u001b[0m\u001b[0m\n",
      "\u001b[0;32m~/opt/anaconda3/envs/PythonData/lib/python3.9/site-packages/sklearn/utils/validation.py\u001b[0m in \u001b[0;36mcheck_array\u001b[0;34m(array, accept_sparse, accept_large_sparse, dtype, order, copy, force_all_finite, ensure_2d, allow_nd, ensure_min_samples, ensure_min_features, estimator)\u001b[0m\n\u001b[1;32m    671\u001b[0m                     \u001b[0marray\u001b[0m \u001b[0;34m=\u001b[0m \u001b[0marray\u001b[0m\u001b[0;34m.\u001b[0m\u001b[0mastype\u001b[0m\u001b[0;34m(\u001b[0m\u001b[0mdtype\u001b[0m\u001b[0;34m,\u001b[0m \u001b[0mcasting\u001b[0m\u001b[0;34m=\u001b[0m\u001b[0;34m\"unsafe\"\u001b[0m\u001b[0;34m,\u001b[0m \u001b[0mcopy\u001b[0m\u001b[0;34m=\u001b[0m\u001b[0;32mFalse\u001b[0m\u001b[0;34m)\u001b[0m\u001b[0;34m\u001b[0m\u001b[0;34m\u001b[0m\u001b[0m\n\u001b[1;32m    672\u001b[0m                 \u001b[0;32melse\u001b[0m\u001b[0;34m:\u001b[0m\u001b[0;34m\u001b[0m\u001b[0;34m\u001b[0m\u001b[0m\n\u001b[0;32m--> 673\u001b[0;31m                     \u001b[0marray\u001b[0m \u001b[0;34m=\u001b[0m \u001b[0mnp\u001b[0m\u001b[0;34m.\u001b[0m\u001b[0masarray\u001b[0m\u001b[0;34m(\u001b[0m\u001b[0marray\u001b[0m\u001b[0;34m,\u001b[0m \u001b[0morder\u001b[0m\u001b[0;34m=\u001b[0m\u001b[0morder\u001b[0m\u001b[0;34m,\u001b[0m \u001b[0mdtype\u001b[0m\u001b[0;34m=\u001b[0m\u001b[0mdtype\u001b[0m\u001b[0;34m)\u001b[0m\u001b[0;34m\u001b[0m\u001b[0;34m\u001b[0m\u001b[0m\n\u001b[0m\u001b[1;32m    674\u001b[0m             \u001b[0;32mexcept\u001b[0m \u001b[0mComplexWarning\u001b[0m \u001b[0;32mas\u001b[0m \u001b[0mcomplex_warning\u001b[0m\u001b[0;34m:\u001b[0m\u001b[0;34m\u001b[0m\u001b[0;34m\u001b[0m\u001b[0m\n\u001b[1;32m    675\u001b[0m                 raise ValueError(\"Complex data not supported\\n\"\n",
      "\u001b[0;32m~/opt/anaconda3/envs/PythonData/lib/python3.9/site-packages/numpy/core/_asarray.py\u001b[0m in \u001b[0;36masarray\u001b[0;34m(a, dtype, order)\u001b[0m\n\u001b[1;32m     81\u001b[0m \u001b[0;34m\u001b[0m\u001b[0m\n\u001b[1;32m     82\u001b[0m     \"\"\"\n\u001b[0;32m---> 83\u001b[0;31m     \u001b[0;32mreturn\u001b[0m \u001b[0marray\u001b[0m\u001b[0;34m(\u001b[0m\u001b[0ma\u001b[0m\u001b[0;34m,\u001b[0m \u001b[0mdtype\u001b[0m\u001b[0;34m,\u001b[0m \u001b[0mcopy\u001b[0m\u001b[0;34m=\u001b[0m\u001b[0;32mFalse\u001b[0m\u001b[0;34m,\u001b[0m \u001b[0morder\u001b[0m\u001b[0;34m=\u001b[0m\u001b[0morder\u001b[0m\u001b[0;34m)\u001b[0m\u001b[0;34m\u001b[0m\u001b[0;34m\u001b[0m\u001b[0m\n\u001b[0m\u001b[1;32m     84\u001b[0m \u001b[0;34m\u001b[0m\u001b[0m\n\u001b[1;32m     85\u001b[0m \u001b[0;34m\u001b[0m\u001b[0m\n",
      "\u001b[0;32m~/opt/anaconda3/envs/PythonData/lib/python3.9/site-packages/pandas/core/generic.py\u001b[0m in \u001b[0;36m__array__\u001b[0;34m(self, dtype)\u001b[0m\n\u001b[1;32m   1991\u001b[0m \u001b[0;34m\u001b[0m\u001b[0m\n\u001b[1;32m   1992\u001b[0m     \u001b[0;32mdef\u001b[0m \u001b[0m__array__\u001b[0m\u001b[0;34m(\u001b[0m\u001b[0mself\u001b[0m\u001b[0;34m,\u001b[0m \u001b[0mdtype\u001b[0m\u001b[0;34m:\u001b[0m \u001b[0mNpDtype\u001b[0m \u001b[0;34m|\u001b[0m \u001b[0;32mNone\u001b[0m \u001b[0;34m=\u001b[0m \u001b[0;32mNone\u001b[0m\u001b[0;34m)\u001b[0m \u001b[0;34m->\u001b[0m \u001b[0mnp\u001b[0m\u001b[0;34m.\u001b[0m\u001b[0mndarray\u001b[0m\u001b[0;34m:\u001b[0m\u001b[0;34m\u001b[0m\u001b[0;34m\u001b[0m\u001b[0m\n\u001b[0;32m-> 1993\u001b[0;31m         \u001b[0;32mreturn\u001b[0m \u001b[0mnp\u001b[0m\u001b[0;34m.\u001b[0m\u001b[0masarray\u001b[0m\u001b[0;34m(\u001b[0m\u001b[0mself\u001b[0m\u001b[0;34m.\u001b[0m\u001b[0m_values\u001b[0m\u001b[0;34m,\u001b[0m \u001b[0mdtype\u001b[0m\u001b[0;34m=\u001b[0m\u001b[0mdtype\u001b[0m\u001b[0;34m)\u001b[0m\u001b[0;34m\u001b[0m\u001b[0;34m\u001b[0m\u001b[0m\n\u001b[0m\u001b[1;32m   1994\u001b[0m \u001b[0;34m\u001b[0m\u001b[0m\n\u001b[1;32m   1995\u001b[0m     def __array_wrap__(\n",
      "\u001b[0;32m~/opt/anaconda3/envs/PythonData/lib/python3.9/site-packages/numpy/core/_asarray.py\u001b[0m in \u001b[0;36masarray\u001b[0;34m(a, dtype, order)\u001b[0m\n\u001b[1;32m     81\u001b[0m \u001b[0;34m\u001b[0m\u001b[0m\n\u001b[1;32m     82\u001b[0m     \"\"\"\n\u001b[0;32m---> 83\u001b[0;31m     \u001b[0;32mreturn\u001b[0m \u001b[0marray\u001b[0m\u001b[0;34m(\u001b[0m\u001b[0ma\u001b[0m\u001b[0;34m,\u001b[0m \u001b[0mdtype\u001b[0m\u001b[0;34m,\u001b[0m \u001b[0mcopy\u001b[0m\u001b[0;34m=\u001b[0m\u001b[0;32mFalse\u001b[0m\u001b[0;34m,\u001b[0m \u001b[0morder\u001b[0m\u001b[0;34m=\u001b[0m\u001b[0morder\u001b[0m\u001b[0;34m)\u001b[0m\u001b[0;34m\u001b[0m\u001b[0;34m\u001b[0m\u001b[0m\n\u001b[0m\u001b[1;32m     84\u001b[0m \u001b[0;34m\u001b[0m\u001b[0m\n\u001b[1;32m     85\u001b[0m \u001b[0;34m\u001b[0m\u001b[0m\n",
      "\u001b[0;31mValueError\u001b[0m: could not convert string to float: 'Alismataceae'"
     ]
    }
   ],
   "source": [
    "# Scaling data to create the scatter plot with tradable cryptocurrencies.\n",
    "# YOUR CODE HERE\n",
    "mms = MinMaxScaler()\n",
    "clustered_df_scaled = mms.fit_transform(clustered_df[['familia','Hierba']])\n",
    "clustered_df_scaled"
   ]
  },
  {
   "cell_type": "code",
   "execution_count": null,
   "metadata": {},
   "outputs": [],
   "source": [
    "# Create a new DataFrame that has the scaled data with the clustered_df DataFrame index.\n",
    "# YOUR CODE HERE\n",
    "plot_df=pd.DataFrame(\n",
    "data=clustered_df_scaled, columns=['TotalCoinSupply','TotalCoinsMined'], index = clustered_df.index)\n",
    "\n",
    "# Add the \"CoinName\" column from the clustered_df DataFrame to the new DataFrame.\n",
    "# YOUR CODE HERE\n",
    "plot_df['CoinName'] = clustered_df['CoinName'] \n",
    "\n",
    "# Add the \"Class\" column from the clustered_df DataFrame to the new DataFrame. \n",
    "# YOUR CODE HERE\n",
    "\n",
    "plot_df['Class'] = clustered_df['Class'] \n",
    "plot_df.head(10)"
   ]
  },
  {
   "cell_type": "code",
   "execution_count": null,
   "metadata": {},
   "outputs": [],
   "source": [
    "# Create a hvplot.scatter plot using x=\"TotalCoinsMined\" and y=\"TotalCoinSupply\".\n",
    "# YOUR CODE HERE\n",
    "plot_df.hvplot.scatter(x=\"TotalCoinsMined\", y=\"TotalCoinSupply\", by=\"Class\", hover_cols=[\"CoinName\"])"
   ]
  },
  {
   "cell_type": "code",
   "execution_count": null,
   "metadata": {},
   "outputs": [],
   "source": []
  }
 ],
 "metadata": {
  "file_extension": ".py",
  "kernelspec": {
   "display_name": "PythonData",
   "language": "python",
   "name": "pythondata"
  },
  "language_info": {
   "codemirror_mode": {
    "name": "ipython",
    "version": 3
   },
   "file_extension": ".py",
   "mimetype": "text/x-python",
   "name": "python",
   "nbconvert_exporter": "python",
   "pygments_lexer": "ipython3",
   "version": "3.9.5"
  },
  "latex_envs": {
   "LaTeX_envs_menu_present": true,
   "autoclose": false,
   "autocomplete": true,
   "bibliofile": "biblio.bib",
   "cite_by": "apalike",
   "current_citInitial": 1,
   "eqLabelWithNumbers": true,
   "eqNumInitial": 1,
   "hotkeys": {
    "equation": "Ctrl-E",
    "itemize": "Ctrl-I"
   },
   "labels_anchors": false,
   "latex_user_defs": false,
   "report_style_numbering": false,
   "user_envs_cfg": false
  },
  "mimetype": "text/x-python",
  "name": "python",
  "npconvert_exporter": "python",
  "pygments_lexer": "ipython3",
  "version": 3
 },
 "nbformat": 4,
 "nbformat_minor": 2
}
