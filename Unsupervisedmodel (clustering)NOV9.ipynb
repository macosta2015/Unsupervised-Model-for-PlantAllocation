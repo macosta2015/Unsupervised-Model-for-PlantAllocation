{
 "cells": [
  {
   "cell_type": "markdown",
   "metadata": {},
   "source": [
    "# Unsupervised-Model-for-Plant Allocation"
   ]
  },
  {
   "cell_type": "code",
   "execution_count": 18,
   "metadata": {},
   "outputs": [],
   "source": [
    "# Initial imports\n",
    "import pandas as pd\n",
    "import hvplot.pandas\n",
    "import matplotlib.pyplot as plt\n",
    "from path import Path\n",
    "import plotly.express as px\n",
    "from sklearn.preprocessing import StandardScaler, MinMaxScaler\n",
    "from sklearn.decomposition import PCA\n",
    "from sklearn.cluster import KMeans\n",
    "\n",
    "# https://scikit-learn.org/stable/modules/generated/sklearn.preprocessing.LabelEncoder.html\n"
   ]
  },
  {
   "cell_type": "markdown",
   "metadata": {},
   "source": [
    "### Deliverable 1: Preprocessing the Data for PCA"
   ]
  },
  {
   "cell_type": "code",
   "execution_count": 19,
   "metadata": {},
   "outputs": [
    {
     "name": "stderr",
     "output_type": "stream",
     "text": [
      "/Users/marioacosta/opt/anaconda3/lib/python3.8/site-packages/IPython/core/interactiveshell.py:3441: FutureWarning: The error_bad_lines argument has been deprecated and will be removed in a future version.\n",
      "\n",
      "\n",
      "  exec(code_obj, self.user_global_ns, self.user_ns)\n"
     ]
    },
    {
     "data": {
      "text/html": [
       "<div>\n",
       "<style scoped>\n",
       "    .dataframe tbody tr th:only-of-type {\n",
       "        vertical-align: middle;\n",
       "    }\n",
       "\n",
       "    .dataframe tbody tr th {\n",
       "        vertical-align: top;\n",
       "    }\n",
       "\n",
       "    .dataframe thead th {\n",
       "        text-align: right;\n",
       "    }\n",
       "</style>\n",
       "<table border=\"1\" class=\"dataframe\">\n",
       "  <thead>\n",
       "    <tr style=\"text-align: right;\">\n",
       "      <th></th>\n",
       "      <th>División</th>\n",
       "      <th>clase</th>\n",
       "      <th>orden</th>\n",
       "      <th>familia</th>\n",
       "      <th>Hierba</th>\n",
       "      <th>Color</th>\n",
       "      <th>longitud</th>\n",
       "      <th>latitud</th>\n",
       "      <th>tipovegetacionmapa</th>\n",
       "      <th>altitudmapa</th>\n",
       "    </tr>\n",
       "  </thead>\n",
       "  <tbody>\n",
       "    <tr>\n",
       "      <th>0</th>\n",
       "      <td>Magnoliophyta</td>\n",
       "      <td>Liliopsida</td>\n",
       "      <td>Alismatales</td>\n",
       "      <td>Alismataceae</td>\n",
       "      <td>Hierba</td>\n",
       "      <td>Blanca</td>\n",
       "      <td>-110.433889</td>\n",
       "      <td>27.783333</td>\n",
       "      <td>Vegetacion Halofila</td>\n",
       "      <td>9</td>\n",
       "    </tr>\n",
       "    <tr>\n",
       "      <th>1</th>\n",
       "      <td>Magnoliophyta</td>\n",
       "      <td>Liliopsida</td>\n",
       "      <td>Alismatales</td>\n",
       "      <td>Alismataceae</td>\n",
       "      <td>Hierba</td>\n",
       "      <td>Blanca</td>\n",
       "      <td>-110.996667</td>\n",
       "      <td>28.111667</td>\n",
       "      <td>Matorral Sarcocaule</td>\n",
       "      <td>79</td>\n",
       "    </tr>\n",
       "    <tr>\n",
       "      <th>2</th>\n",
       "      <td>Magnoliophyta</td>\n",
       "      <td>Liliopsida</td>\n",
       "      <td>Alismatales</td>\n",
       "      <td>Alismataceae</td>\n",
       "      <td>Hierba</td>\n",
       "      <td>Blanca</td>\n",
       "      <td>-99.325000</td>\n",
       "      <td>24.441667</td>\n",
       "      <td>Matorral Submontano</td>\n",
       "      <td>271</td>\n",
       "    </tr>\n",
       "    <tr>\n",
       "      <th>3</th>\n",
       "      <td>Magnoliophyta</td>\n",
       "      <td>Liliopsida</td>\n",
       "      <td>Alismatales</td>\n",
       "      <td>Alismataceae</td>\n",
       "      <td>Hierba</td>\n",
       "      <td>Blanca</td>\n",
       "      <td>-99.325000</td>\n",
       "      <td>24.441667</td>\n",
       "      <td>Matorral Submontano</td>\n",
       "      <td>271</td>\n",
       "    </tr>\n",
       "    <tr>\n",
       "      <th>4</th>\n",
       "      <td>Magnoliophyta</td>\n",
       "      <td>Liliopsida</td>\n",
       "      <td>Alismatales</td>\n",
       "      <td>Alismataceae</td>\n",
       "      <td>Hierba</td>\n",
       "      <td>Blanca</td>\n",
       "      <td>-106.000000</td>\n",
       "      <td>28.500000</td>\n",
       "      <td>Pastizal Natural</td>\n",
       "      <td>1572</td>\n",
       "    </tr>\n",
       "    <tr>\n",
       "      <th>...</th>\n",
       "      <td>...</td>\n",
       "      <td>...</td>\n",
       "      <td>...</td>\n",
       "      <td>...</td>\n",
       "      <td>...</td>\n",
       "      <td>...</td>\n",
       "      <td>...</td>\n",
       "      <td>...</td>\n",
       "      <td>...</td>\n",
       "      <td>...</td>\n",
       "    </tr>\n",
       "    <tr>\n",
       "      <th>1186</th>\n",
       "      <td>Magnoliophyta</td>\n",
       "      <td>Magnoliopsida</td>\n",
       "      <td>Sapindales</td>\n",
       "      <td>Simaroubaceae</td>\n",
       "      <td>Hierba</td>\n",
       "      <td>Naranja</td>\n",
       "      <td>-100.850000</td>\n",
       "      <td>23.950000</td>\n",
       "      <td>Vegetacion Halofila</td>\n",
       "      <td>1741</td>\n",
       "    </tr>\n",
       "    <tr>\n",
       "      <th>1187</th>\n",
       "      <td>Magnoliophyta</td>\n",
       "      <td>Magnoliopsida</td>\n",
       "      <td>Sapindales</td>\n",
       "      <td>Simaroubaceae</td>\n",
       "      <td>Hierba</td>\n",
       "      <td>Naranja</td>\n",
       "      <td>-100.983333</td>\n",
       "      <td>23.466667</td>\n",
       "      <td>Matorral Desertico Microfilo</td>\n",
       "      <td>1913</td>\n",
       "    </tr>\n",
       "    <tr>\n",
       "      <th>1188</th>\n",
       "      <td>Magnoliophyta</td>\n",
       "      <td>Magnoliopsida</td>\n",
       "      <td>Violales</td>\n",
       "      <td>Bixaceae</td>\n",
       "      <td>Hierba</td>\n",
       "      <td>Naranja</td>\n",
       "      <td>-110.808610</td>\n",
       "      <td>30.470280</td>\n",
       "      <td>Pastizal Natural</td>\n",
       "      <td>1049</td>\n",
       "    </tr>\n",
       "    <tr>\n",
       "      <th>1189</th>\n",
       "      <td>Magnoliophyta</td>\n",
       "      <td>Magnoliopsida</td>\n",
       "      <td>Violales</td>\n",
       "      <td>Bixaceae</td>\n",
       "      <td>Hierba</td>\n",
       "      <td>Naranja</td>\n",
       "      <td>-105.830000</td>\n",
       "      <td>28.580000</td>\n",
       "      <td>Pastizal Natural</td>\n",
       "      <td>1649</td>\n",
       "    </tr>\n",
       "    <tr>\n",
       "      <th>1190</th>\n",
       "      <td>Magnoliophyta</td>\n",
       "      <td>Magnoliopsida</td>\n",
       "      <td>Violales</td>\n",
       "      <td>Bixaceae</td>\n",
       "      <td>Hierba</td>\n",
       "      <td>Naranja</td>\n",
       "      <td>-104.470000</td>\n",
       "      <td>24.900000</td>\n",
       "      <td>Matorral Desertico Microfilo</td>\n",
       "      <td>1589</td>\n",
       "    </tr>\n",
       "  </tbody>\n",
       "</table>\n",
       "<p>1191 rows × 10 columns</p>\n",
       "</div>"
      ],
      "text/plain": [
       "           División          clase        orden        familia   Hierba  \\\n",
       "0     Magnoliophyta     Liliopsida  Alismatales   Alismataceae  Hierba    \n",
       "1     Magnoliophyta     Liliopsida  Alismatales   Alismataceae  Hierba    \n",
       "2     Magnoliophyta     Liliopsida  Alismatales   Alismataceae  Hierba    \n",
       "3     Magnoliophyta     Liliopsida  Alismatales   Alismataceae  Hierba    \n",
       "4     Magnoliophyta     Liliopsida  Alismatales   Alismataceae  Hierba    \n",
       "...             ...            ...          ...            ...      ...   \n",
       "1186  Magnoliophyta  Magnoliopsida   Sapindales  Simaroubaceae   Hierba   \n",
       "1187  Magnoliophyta  Magnoliopsida   Sapindales  Simaroubaceae   Hierba   \n",
       "1188  Magnoliophyta  Magnoliopsida     Violales       Bixaceae   Hierba   \n",
       "1189  Magnoliophyta  Magnoliopsida     Violales       Bixaceae   Hierba   \n",
       "1190  Magnoliophyta  Magnoliopsida     Violales       Bixaceae   Hierba   \n",
       "\n",
       "        Color    longitud    latitud            tipovegetacionmapa  \\\n",
       "0      Blanca -110.433889  27.783333           Vegetacion Halofila   \n",
       "1      Blanca -110.996667  28.111667           Matorral Sarcocaule   \n",
       "2      Blanca  -99.325000  24.441667           Matorral Submontano   \n",
       "3      Blanca  -99.325000  24.441667           Matorral Submontano   \n",
       "4      Blanca -106.000000  28.500000              Pastizal Natural   \n",
       "...       ...         ...        ...                           ...   \n",
       "1186  Naranja -100.850000  23.950000           Vegetacion Halofila   \n",
       "1187  Naranja -100.983333  23.466667  Matorral Desertico Microfilo   \n",
       "1188  Naranja -110.808610  30.470280              Pastizal Natural   \n",
       "1189  Naranja -105.830000  28.580000              Pastizal Natural   \n",
       "1190  Naranja -104.470000  24.900000  Matorral Desertico Microfilo   \n",
       "\n",
       "      altitudmapa  \n",
       "0               9  \n",
       "1              79  \n",
       "2             271  \n",
       "3             271  \n",
       "4            1572  \n",
       "...           ...  \n",
       "1186         1741  \n",
       "1187         1913  \n",
       "1188         1049  \n",
       "1189         1649  \n",
       "1190         1589  \n",
       "\n",
       "[1191 rows x 10 columns]"
      ]
     },
     "execution_count": 19,
     "metadata": {},
     "output_type": "execute_result"
    }
   ],
   "source": [
    "# Load the Plant_DBcopy.csv dataset.\n",
    "file_path = \"Resources/Plant_DBcopy.csv\"\n",
    "\n",
    "#file_path = \"Resources/Base_limpia_definitiva.csv\"\n",
    "#plants_df = pd.read_csv(file_path, encoding='latin-1', error_bad_lines=False)\n",
    "plants_df = pd.read_csv(file_path, encoding='latin-1', error_bad_lines=False, engine='python')\n",
    "plants_df"
   ]
  },
  {
   "cell_type": "code",
   "execution_count": null,
   "metadata": {},
   "outputs": [],
   "source": [
    "# Create a new DataFrame that holds clase names.\n",
    "plants_df_name = plants_df.filter(['clase'], axis=1)\n",
    "plants_df_name.head()"
   ]
  },
  {
   "cell_type": "code",
   "execution_count": null,
   "metadata": {},
   "outputs": [],
   "source": [
    "plants_df"
   ]
  },
  {
   "cell_type": "code",
   "execution_count": null,
   "metadata": {},
   "outputs": [],
   "source": [
    "# Remove rows that have at least 1 null value.\n",
    "plants_df = plants_df.dropna(how='any',axis=0) \n",
    "plants_df"
   ]
  },
  {
   "cell_type": "code",
   "execution_count": null,
   "metadata": {
    "scrolled": true
   },
   "outputs": [],
   "source": [
    "# Remove the \"altitudmapa\" column. \n",
    "# Keep all the Plants that are being traded.\n",
    "indexNames = plants_df[(plants_df[\"altitudmapa\"] == 'False')].index\n",
    "plants_df.drop(indexNames, inplace = True)\n",
    "plants_df.head()"
   ]
  },
  {
   "cell_type": "code",
   "execution_count": null,
   "metadata": {},
   "outputs": [],
   "source": [
    "plants_df.drop(\"familia\", axis = 1, inplace = True)\n",
    "plants_df.head()"
   ]
  },
  {
   "cell_type": "code",
   "execution_count": null,
   "metadata": {},
   "outputs": [],
   "source": [
    "plants_df.drop(\"División\", axis = 1, inplace = True)\n",
    "plants_df.head()"
   ]
  },
  {
   "cell_type": "code",
   "execution_count": null,
   "metadata": {
    "scrolled": true
   },
   "outputs": [],
   "source": [
    "# Use get_dummies() to create variables for text features.\n",
    "X = pd.get_dummies(plants_df, columns=[\"clase\", \"orden\", \"Hierba\", \"Color\", \"tipovegetacionmapa\"])\n",
    "X"
   ]
  },
  {
   "cell_type": "code",
   "execution_count": null,
   "metadata": {},
   "outputs": [],
   "source": [
    "# Standardize the data with StandardScaler().\n",
    "X_scaled = StandardScaler().fit_transform(X)\n",
    "print(X_scaled)"
   ]
  },
  {
   "cell_type": "code",
   "execution_count": null,
   "metadata": {},
   "outputs": [],
   "source": [
    "#pd.plotting.scatter_matrix(X, alpha=0.2, figsize=(30,10))"
   ]
  },
  {
   "cell_type": "code",
   "execution_count": null,
   "metadata": {},
   "outputs": [],
   "source": [
    "corr = X.corr()\n",
    "plt.figure(num=None, figsize=(30, 10), dpi=80, facecolor='w', edgecolor='k')\n",
    "corrMat = plt.matshow(corr, fignum = 1)\n",
    "plt.xticks(range(len(corr.columns)), corr.columns, rotation=90)\n",
    "plt.yticks(range(len(corr.columns)), corr.columns)\n",
    "plt.gca().xaxis.tick_bottom()\n",
    "plt.colorbar(corrMat)\n",
    "plt.show()"
   ]
  },
  {
   "cell_type": "markdown",
   "metadata": {},
   "source": [
    "### Deliverable 2: Reducing Data Dimensions Using PCA"
   ]
  },
  {
   "cell_type": "code",
   "execution_count": null,
   "metadata": {},
   "outputs": [],
   "source": [
    "# Using PCA to reduce dimension to three principal components.\n",
    "pca = PCA(n_components=4)\n",
    "#X_pca = pca.fit_transform(X_scaled)\n",
    "X_pca = pca.fit_transform(X)\n",
    "X_pca\n",
    "\n",
    "### Check why we are using three principal components ###"
   ]
  },
  {
   "cell_type": "code",
   "execution_count": null,
   "metadata": {},
   "outputs": [],
   "source": [
    "# Create a DataFrame with the three principal components.\n",
    "pcs_df=pd.DataFrame(\n",
    "data=X_pca, columns=[\"PC 1\", \"PC 2\",\"PC 3\", \"PC 4\"], index = plants_df.index)\n",
    "pcs_df.head(10)"
   ]
  },
  {
   "cell_type": "code",
   "execution_count": null,
   "metadata": {},
   "outputs": [],
   "source": [
    "#pca.explained_variance_ratio_.cumsum()\n",
    "pca.explained_variance_ratio_"
   ]
  },
  {
   "cell_type": "code",
   "execution_count": null,
   "metadata": {},
   "outputs": [],
   "source": [
    "pcs_df.plot(kind = 'scatter', x = \"PC 1\", y = \"PC 2\")"
   ]
  },
  {
   "cell_type": "markdown",
   "metadata": {},
   "source": [
    "### Deliverable 3: Clustering Using K-Means\n",
    "\n",
    "#### Finding the Best Value for `k` Using the Elbow Curve"
   ]
  },
  {
   "cell_type": "code",
   "execution_count": null,
   "metadata": {},
   "outputs": [],
   "source": [
    "# Create an elbow curve to find the best value for K.\n",
    "inertia = []\n",
    "#k = list(range(1, 11))\n",
    "k = list(range(1, 11))\n",
    "for i in k:\n",
    "   km = KMeans(n_clusters=i, random_state=0)\n",
    "   km.fit(pcs_df)\n",
    "   inertia.append(km.inertia_)\n",
    "\n",
    "### Check why the range is from 1 to 11 ###"
   ]
  },
  {
   "cell_type": "code",
   "execution_count": null,
   "metadata": {},
   "outputs": [],
   "source": [
    "# CREATE A DATAFRAME AND PLOT THE WLBOW CURVE\n",
    "\n",
    "elbow_data = {\"k\":k, \"inertia\":inertia}\n",
    "df_elbow = pd.DataFrame(elbow_data)\n",
    "df_elbow.hvplot.line(x=\"k\", y=\"inertia\", title=\"Elbow Curve\", xticks=k)"
   ]
  },
  {
   "cell_type": "markdown",
   "metadata": {},
   "source": [
    "Running K-Means with `k=4`"
   ]
  },
  {
   "cell_type": "code",
   "execution_count": null,
   "metadata": {},
   "outputs": [],
   "source": [
    "# Initialize the K-Means model.\n",
    "model = KMeans(n_clusters=4, random_state=0)\n",
    "\n",
    "# Fit the model\n",
    "model.fit(pcs_df)\n",
    "\n",
    "# Predict clusters\n",
    "predictions = model.predict(pcs_df)\n",
    "\n",
    "predictions"
   ]
  },
  {
   "cell_type": "code",
   "execution_count": null,
   "metadata": {},
   "outputs": [],
   "source": [
    "# Create a new DataFrame including predicted clusters and Plant Allocation features.\n",
    "# Concatentate the clustered_df and pcs_df plants_df on the same columns.\n",
    "clustered_df = pd.concat([plants_df, pcs_df], axis=1)\n",
    "\n",
    "\n",
    "#  Add a new column, \"CoinName\" to the clustered_df DataFrame that holds the names of the Plant Names. \n",
    "clustered_df['PlantsName'] = plants_df_name \n",
    "\n",
    "### The name is not important for clustering, that is why we add it at the end of the process ###\n",
    "\n",
    "\n",
    "#  Add a new column, \"Class\" to the clustered_df DataFrame that holds the predictions.\n",
    "clustered_df['Class'] = predictions\n",
    "\n",
    "\n",
    "# Print the shape of the clustered_df\n",
    "print(clustered_df.shape)\n",
    "clustered_df.head(10)"
   ]
  },
  {
   "cell_type": "markdown",
   "metadata": {},
   "source": [
    "### Deliverable 4: Visualizing Plant Names Results\n",
    "\n",
    "#### 3D-Scatter with Clusters"
   ]
  },
  {
   "cell_type": "code",
   "execution_count": null,
   "metadata": {},
   "outputs": [],
   "source": [
    "# Creating a 3D-Scatter with the PCA data and the clusters\n",
    "fig = px.scatter_3d(\n",
    "    clustered_df,\n",
    "    x=\"PC 1\",\n",
    "    y=\"PC 2\",\n",
    "    z=\"PC 3\",\n",
    "    color=\"Class\",\n",
    "    symbol=\"Class\",\n",
    "    width=800,\n",
    "    hover_name=\"familia\",\n",
    "    hover_data=['Hierba'],\n",
    ")\n",
    "fig.update_layout(legend=dict(x=0, y=1))\n",
    "fig.show()"
   ]
  },
  {
   "cell_type": "code",
   "execution_count": null,
   "metadata": {},
   "outputs": [],
   "source": [
    "# Create a table with the Plant Allocation.\n",
    "clustered_df.hvplot.table(sortable=True, selectable=True)"
   ]
  },
  {
   "cell_type": "code",
   "execution_count": null,
   "metadata": {},
   "outputs": [],
   "source": [
    "# Print the total number of Plant Allocation.\n",
    "index = clustered_df.index\n",
    "len(index)\n",
    "print(str(len(index)))"
   ]
  }
 ],
 "metadata": {
  "file_extension": ".py",
  "kernelspec": {
   "display_name": "mlenv",
   "language": "python",
   "name": "mlenv"
  },
  "language_info": {
   "codemirror_mode": {
    "name": "ipython",
    "version": 3
   },
   "file_extension": ".py",
   "mimetype": "text/x-python",
   "name": "python",
   "nbconvert_exporter": "python",
   "pygments_lexer": "ipython3",
   "version": "3.8.10"
  },
  "latex_envs": {
   "LaTeX_envs_menu_present": true,
   "autoclose": false,
   "autocomplete": true,
   "bibliofile": "biblio.bib",
   "cite_by": "apalike",
   "current_citInitial": 1,
   "eqLabelWithNumbers": true,
   "eqNumInitial": 1,
   "hotkeys": {
    "equation": "Ctrl-E",
    "itemize": "Ctrl-I"
   },
   "labels_anchors": false,
   "latex_user_defs": false,
   "report_style_numbering": false,
   "user_envs_cfg": false
  },
  "mimetype": "text/x-python",
  "name": "python",
  "npconvert_exporter": "python",
  "pygments_lexer": "ipython3",
  "version": 3
 },
 "nbformat": 4,
 "nbformat_minor": 2
}
